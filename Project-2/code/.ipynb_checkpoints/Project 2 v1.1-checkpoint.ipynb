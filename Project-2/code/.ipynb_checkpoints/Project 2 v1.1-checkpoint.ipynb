{
 "cells": [
  {
   "cell_type": "code",
   "execution_count": 1,
   "id": "83846f70",
   "metadata": {},
   "outputs": [],
   "source": [
    "import pandas as pd\n",
    "import numpy as np\n",
    "import seaborn as sns\n",
    "import matplotlib.pyplot as plt\n",
    "from sklearn.linear_model import LinearRegression\n",
    "from sklearn.linear_model import Ridge, Lasso, ElasticNet, LinearRegression, RidgeCV, LassoCV, ElasticNetCV\n",
    "from sklearn.model_selection import train_test_split\n",
    "from sklearn.model_selection import cross_val_score, cross_val_predict\n",
    "from sklearn.experimental import enable_iterative_imputer \n",
    "from sklearn.impute import IterativeImputer\n",
    "from sklearn.impute import KNNImputer\n",
    "from sklearn.preprocessing import LabelEncoder\n",
    "from sklearn.preprocessing import OneHotEncoder\n",
    "from sklearn.preprocessing import StandardScaler\n",
    "from sklearn import metrics"
   ]
  },
  {
   "cell_type": "code",
   "execution_count": 2,
   "id": "82f8f8bf",
   "metadata": {},
   "outputs": [],
   "source": [
    "raw_data = pd.read_csv(\"../data/train.csv\")"
   ]
  },
  {
   "cell_type": "code",
   "execution_count": 3,
   "id": "9864ff7e",
   "metadata": {},
   "outputs": [],
   "source": [
    "# Have Jupyter show 100 rows of data\n",
    "pd.set_option('display.max_rows', 500)\n",
    "pd.set_option('display.max_columns', 500)"
   ]
  },
  {
   "cell_type": "code",
   "execution_count": 4,
   "id": "aeda326e",
   "metadata": {},
   "outputs": [
    {
     "data": {
      "text/plain": [
       "Index(['Id', 'PID', 'MS SubClass', 'MS Zoning', 'Lot Frontage', 'Lot Area',\n",
       "       'Street', 'Alley', 'Lot Shape', 'Land Contour', 'Utilities',\n",
       "       'Lot Config', 'Land Slope', 'Neighborhood', 'Condition 1',\n",
       "       'Condition 2', 'Bldg Type', 'House Style', 'Overall Qual',\n",
       "       'Overall Cond', 'Year Built', 'Year Remod/Add', 'Roof Style',\n",
       "       'Roof Matl', 'Exterior 1st', 'Exterior 2nd', 'Mas Vnr Type',\n",
       "       'Mas Vnr Area', 'Exter Qual', 'Exter Cond', 'Foundation', 'Bsmt Qual',\n",
       "       'Bsmt Cond', 'Bsmt Exposure', 'BsmtFin Type 1', 'BsmtFin SF 1',\n",
       "       'BsmtFin Type 2', 'BsmtFin SF 2', 'Bsmt Unf SF', 'Total Bsmt SF',\n",
       "       'Heating', 'Heating QC', 'Central Air', 'Electrical', '1st Flr SF',\n",
       "       '2nd Flr SF', 'Low Qual Fin SF', 'Gr Liv Area', 'Bsmt Full Bath',\n",
       "       'Bsmt Half Bath', 'Full Bath', 'Half Bath', 'Bedroom AbvGr',\n",
       "       'Kitchen AbvGr', 'Kitchen Qual', 'TotRms AbvGrd', 'Functional',\n",
       "       'Fireplaces', 'Fireplace Qu', 'Garage Type', 'Garage Yr Blt',\n",
       "       'Garage Finish', 'Garage Cars', 'Garage Area', 'Garage Qual',\n",
       "       'Garage Cond', 'Paved Drive', 'Wood Deck SF', 'Open Porch SF',\n",
       "       'Enclosed Porch', '3Ssn Porch', 'Screen Porch', 'Pool Area', 'Pool QC',\n",
       "       'Fence', 'Misc Feature', 'Misc Val', 'Mo Sold', 'Yr Sold', 'Sale Type',\n",
       "       'SalePrice'],\n",
       "      dtype='object')"
      ]
     },
     "execution_count": 4,
     "metadata": {},
     "output_type": "execute_result"
    }
   ],
   "source": [
    "# For initial investigation of information provided\n",
    "raw_data.columns"
   ]
  },
  {
   "cell_type": "markdown",
   "id": "16697349",
   "metadata": {},
   "source": [
    "##### Id and PID seem to just be indexes for recordkeeping purposes and are not useful in predicting SalePrice. Removing them as part of preprocessing."
   ]
  },
  {
   "cell_type": "code",
   "execution_count": 5,
   "id": "0ae041b0",
   "metadata": {},
   "outputs": [
    {
     "data": {
      "text/plain": [
       "Index(['MS SubClass', 'MS Zoning', 'Lot Frontage', 'Lot Area', 'Street',\n",
       "       'Alley', 'Lot Shape', 'Land Contour', 'Utilities', 'Lot Config',\n",
       "       'Land Slope', 'Neighborhood', 'Condition 1', 'Condition 2', 'Bldg Type',\n",
       "       'House Style', 'Overall Qual', 'Overall Cond', 'Year Built',\n",
       "       'Year Remod/Add', 'Roof Style', 'Roof Matl', 'Exterior 1st',\n",
       "       'Exterior 2nd', 'Mas Vnr Type', 'Mas Vnr Area', 'Exter Qual',\n",
       "       'Exter Cond', 'Foundation', 'Bsmt Qual', 'Bsmt Cond', 'Bsmt Exposure',\n",
       "       'BsmtFin Type 1', 'BsmtFin SF 1', 'BsmtFin Type 2', 'BsmtFin SF 2',\n",
       "       'Bsmt Unf SF', 'Total Bsmt SF', 'Heating', 'Heating QC', 'Central Air',\n",
       "       'Electrical', '1st Flr SF', '2nd Flr SF', 'Low Qual Fin SF',\n",
       "       'Gr Liv Area', 'Bsmt Full Bath', 'Bsmt Half Bath', 'Full Bath',\n",
       "       'Half Bath', 'Bedroom AbvGr', 'Kitchen AbvGr', 'Kitchen Qual',\n",
       "       'TotRms AbvGrd', 'Functional', 'Fireplaces', 'Fireplace Qu',\n",
       "       'Garage Type', 'Garage Yr Blt', 'Garage Finish', 'Garage Cars',\n",
       "       'Garage Area', 'Garage Qual', 'Garage Cond', 'Paved Drive',\n",
       "       'Wood Deck SF', 'Open Porch SF', 'Enclosed Porch', '3Ssn Porch',\n",
       "       'Screen Porch', 'Pool Area', 'Pool QC', 'Fence', 'Misc Feature',\n",
       "       'Misc Val', 'Mo Sold', 'Yr Sold', 'Sale Type', 'SalePrice'],\n",
       "      dtype='object')"
      ]
     },
     "execution_count": 5,
     "metadata": {},
     "output_type": "execute_result"
    }
   ],
   "source": [
    "# Dropping the Id and PID columns\n",
    "raw_data.drop(columns = ['Id','PID'], inplace = True)\n",
    "raw_data.columns"
   ]
  },
  {
   "cell_type": "markdown",
   "id": "45403865",
   "metadata": {},
   "source": [
    "### Investigating the Missing Values"
   ]
  },
  {
   "cell_type": "code",
   "execution_count": 6,
   "id": "d557269a",
   "metadata": {},
   "outputs": [
    {
     "name": "stdout",
     "output_type": "stream",
     "text": [
      "<class 'pandas.core.frame.DataFrame'>\n",
      "RangeIndex: 2051 entries, 0 to 2050\n",
      "Data columns (total 79 columns):\n",
      " #   Column           Non-Null Count  Dtype  \n",
      "---  ------           --------------  -----  \n",
      " 0   MS SubClass      2051 non-null   int64  \n",
      " 1   MS Zoning        2051 non-null   object \n",
      " 2   Lot Frontage     1721 non-null   float64\n",
      " 3   Lot Area         2051 non-null   int64  \n",
      " 4   Street           2051 non-null   object \n",
      " 5   Alley            140 non-null    object \n",
      " 6   Lot Shape        2051 non-null   object \n",
      " 7   Land Contour     2051 non-null   object \n",
      " 8   Utilities        2051 non-null   object \n",
      " 9   Lot Config       2051 non-null   object \n",
      " 10  Land Slope       2051 non-null   object \n",
      " 11  Neighborhood     2051 non-null   object \n",
      " 12  Condition 1      2051 non-null   object \n",
      " 13  Condition 2      2051 non-null   object \n",
      " 14  Bldg Type        2051 non-null   object \n",
      " 15  House Style      2051 non-null   object \n",
      " 16  Overall Qual     2051 non-null   int64  \n",
      " 17  Overall Cond     2051 non-null   int64  \n",
      " 18  Year Built       2051 non-null   int64  \n",
      " 19  Year Remod/Add   2051 non-null   int64  \n",
      " 20  Roof Style       2051 non-null   object \n",
      " 21  Roof Matl        2051 non-null   object \n",
      " 22  Exterior 1st     2051 non-null   object \n",
      " 23  Exterior 2nd     2051 non-null   object \n",
      " 24  Mas Vnr Type     2029 non-null   object \n",
      " 25  Mas Vnr Area     2029 non-null   float64\n",
      " 26  Exter Qual       2051 non-null   object \n",
      " 27  Exter Cond       2051 non-null   object \n",
      " 28  Foundation       2051 non-null   object \n",
      " 29  Bsmt Qual        1996 non-null   object \n",
      " 30  Bsmt Cond        1996 non-null   object \n",
      " 31  Bsmt Exposure    1993 non-null   object \n",
      " 32  BsmtFin Type 1   1996 non-null   object \n",
      " 33  BsmtFin SF 1     2050 non-null   float64\n",
      " 34  BsmtFin Type 2   1995 non-null   object \n",
      " 35  BsmtFin SF 2     2050 non-null   float64\n",
      " 36  Bsmt Unf SF      2050 non-null   float64\n",
      " 37  Total Bsmt SF    2050 non-null   float64\n",
      " 38  Heating          2051 non-null   object \n",
      " 39  Heating QC       2051 non-null   object \n",
      " 40  Central Air      2051 non-null   object \n",
      " 41  Electrical       2051 non-null   object \n",
      " 42  1st Flr SF       2051 non-null   int64  \n",
      " 43  2nd Flr SF       2051 non-null   int64  \n",
      " 44  Low Qual Fin SF  2051 non-null   int64  \n",
      " 45  Gr Liv Area      2051 non-null   int64  \n",
      " 46  Bsmt Full Bath   2049 non-null   float64\n",
      " 47  Bsmt Half Bath   2049 non-null   float64\n",
      " 48  Full Bath        2051 non-null   int64  \n",
      " 49  Half Bath        2051 non-null   int64  \n",
      " 50  Bedroom AbvGr    2051 non-null   int64  \n",
      " 51  Kitchen AbvGr    2051 non-null   int64  \n",
      " 52  Kitchen Qual     2051 non-null   object \n",
      " 53  TotRms AbvGrd    2051 non-null   int64  \n",
      " 54  Functional       2051 non-null   object \n",
      " 55  Fireplaces       2051 non-null   int64  \n",
      " 56  Fireplace Qu     1051 non-null   object \n",
      " 57  Garage Type      1938 non-null   object \n",
      " 58  Garage Yr Blt    1937 non-null   float64\n",
      " 59  Garage Finish    1937 non-null   object \n",
      " 60  Garage Cars      2050 non-null   float64\n",
      " 61  Garage Area      2050 non-null   float64\n",
      " 62  Garage Qual      1937 non-null   object \n",
      " 63  Garage Cond      1937 non-null   object \n",
      " 64  Paved Drive      2051 non-null   object \n",
      " 65  Wood Deck SF     2051 non-null   int64  \n",
      " 66  Open Porch SF    2051 non-null   int64  \n",
      " 67  Enclosed Porch   2051 non-null   int64  \n",
      " 68  3Ssn Porch       2051 non-null   int64  \n",
      " 69  Screen Porch     2051 non-null   int64  \n",
      " 70  Pool Area        2051 non-null   int64  \n",
      " 71  Pool QC          9 non-null      object \n",
      " 72  Fence            400 non-null    object \n",
      " 73  Misc Feature     65 non-null     object \n",
      " 74  Misc Val         2051 non-null   int64  \n",
      " 75  Mo Sold          2051 non-null   int64  \n",
      " 76  Yr Sold          2051 non-null   int64  \n",
      " 77  Sale Type        2051 non-null   object \n",
      " 78  SalePrice        2051 non-null   int64  \n",
      "dtypes: float64(11), int64(26), object(42)\n",
      "memory usage: 1.2+ MB\n"
     ]
    }
   ],
   "source": [
    "raw_data.info()"
   ]
  },
  {
   "cell_type": "code",
   "execution_count": 7,
   "id": "f5067fed",
   "metadata": {},
   "outputs": [
    {
     "data": {
      "text/plain": [
       "dtype('O')"
      ]
     },
     "execution_count": 7,
     "metadata": {},
     "output_type": "execute_result"
    }
   ],
   "source": [
    "# Noticed that MS SubClass values are shown as integers but should be categorical, need to change to string\n",
    "raw_data = raw_data.astype({'MS SubClass': str}, errors = 'raise')\n",
    "\n",
    "# To check\n",
    "raw_data['MS SubClass'].dtype\n",
    "# Results show that it is now an object data type"
   ]
  },
  {
   "cell_type": "code",
   "execution_count": 8,
   "id": "906871ff",
   "metadata": {},
   "outputs": [
    {
     "data": {
      "text/plain": [
       "dtype('O')"
      ]
     },
     "execution_count": 8,
     "metadata": {},
     "output_type": "execute_result"
    }
   ],
   "source": [
    "# Mo Sold (Month Sold) variable should be made into a categorical variable as it make more contextual meaning.\n",
    "Mo_Sold_mapping = {1 : 'Jan', 2 : 'Feb', 3: 'Mar', 4: 'Apr', 5: 'May', 6: 'Jun', 7: 'Jul', 8: 'Aug', 9: 'Sep', 10: 'Oct',\n",
    "                  11: 'Nov', 12: 'Dec'}\n",
    "raw_data['Mo Sold'] = raw_data['Mo Sold'].replace(Mo_Sold_mapping)\n",
    "\n",
    "# To check\n",
    "raw_data['Mo Sold'].dtype"
   ]
  },
  {
   "cell_type": "code",
   "execution_count": 9,
   "id": "64f3630b",
   "metadata": {},
   "outputs": [
    {
     "data": {
      "text/plain": [
       "dtype('O')"
      ]
     },
     "execution_count": 9,
     "metadata": {},
     "output_type": "execute_result"
    }
   ],
   "source": [
    "# Noticed that Overall Qual values are shown as integers but should be categorical, need to change to string\n",
    "raw_data = raw_data.astype({'Overall Qual': str}, errors = 'raise')\n",
    "\n",
    "# To check\n",
    "raw_data['Overall Qual'].dtype\n",
    "# Results show that it is now an object data type"
   ]
  },
  {
   "cell_type": "code",
   "execution_count": 10,
   "id": "2fb0e67d",
   "metadata": {},
   "outputs": [
    {
     "data": {
      "text/plain": [
       "dtype('O')"
      ]
     },
     "execution_count": 10,
     "metadata": {},
     "output_type": "execute_result"
    }
   ],
   "source": [
    "# Noticed that Overall Cond values are shown as integers but should be categorical, need to change to string\n",
    "raw_data = raw_data.astype({'Overall Cond': str}, errors = 'raise')\n",
    "\n",
    "# To check\n",
    "raw_data['Overall Cond'].dtype\n",
    "# Results show that it is now an object data type"
   ]
  },
  {
   "cell_type": "code",
   "execution_count": 11,
   "id": "003cb8ac",
   "metadata": {},
   "outputs": [],
   "source": [
    "# Transforming Year Built, Year Remod/Add, and Garage Yr Blt to PropertyAge, PropertyModAge, and GarageAge, respectively.\n",
    "# This is done by deducting from Yr Sold the respective columns.\n",
    "# However, due to missing values in Garage Yr Blt, that column will be made after missing values are imputed.\n",
    "raw_data['PropertyAge'] = raw_data['Yr Sold'] - raw_data['Year Built']\n",
    "raw_data['PropertyModAge'] = raw_data['Yr Sold'] - raw_data['Year Remod/Add']\n",
    "raw_data.drop(columns = ['Year Built', 'Year Remod/Add'], inplace = True)"
   ]
  },
  {
   "cell_type": "code",
   "execution_count": 12,
   "id": "f768b879",
   "metadata": {},
   "outputs": [
    {
     "data": {
      "text/plain": [
       "46"
      ]
     },
     "execution_count": 12,
     "metadata": {},
     "output_type": "execute_result"
    }
   ],
   "source": [
    "cat_var = []\n",
    "for feature in raw_data:\n",
    "    if raw_data[feature].dtype == object:\n",
    "        cat_var.append(feature)\n",
    "    else:\n",
    "        pass\n",
    "\n",
    "\n",
    "len(cat_var)"
   ]
  },
  {
   "cell_type": "code",
   "execution_count": 13,
   "id": "119282af",
   "metadata": {},
   "outputs": [
    {
     "data": {
      "text/plain": [
       "33"
      ]
     },
     "execution_count": 13,
     "metadata": {},
     "output_type": "execute_result"
    }
   ],
   "source": [
    "num_var = []\n",
    "for feature in raw_data:\n",
    "    if raw_data[feature].dtype != object:\n",
    "        num_var.append(feature)\n",
    "    else:\n",
    "        pass\n",
    "    \n",
    "len(num_var)"
   ]
  },
  {
   "cell_type": "code",
   "execution_count": 14,
   "id": "0ce59ee2",
   "metadata": {
    "scrolled": false
   },
   "outputs": [
    {
     "name": "stdout",
     "output_type": "stream",
     "text": [
      "                Missing_Count\n",
      "Pool QC                  2042\n",
      "Misc Feature             1986\n",
      "Alley                    1911\n",
      "Fence                    1651\n",
      "Fireplace Qu             1000\n",
      "Lot Frontage              330\n",
      "Garage Yr Blt             114\n",
      "Garage Finish             114\n",
      "Garage Qual               114\n",
      "Garage Cond               114\n",
      "Garage Type               113\n",
      "Bsmt Exposure              58\n",
      "BsmtFin Type 2             56\n",
      "Bsmt Cond                  55\n",
      "Bsmt Qual                  55\n",
      "BsmtFin Type 1             55\n",
      "Mas Vnr Type               22\n",
      "Mas Vnr Area               22\n",
      "Bsmt Full Bath              2\n",
      "Bsmt Half Bath              2\n",
      "BsmtFin SF 1                1\n",
      "Total Bsmt SF               1\n",
      "Bsmt Unf SF                 1\n",
      "BsmtFin SF 2                1\n",
      "Garage Area                 1\n",
      "Garage Cars                 1\n",
      "(26, 1)\n"
     ]
    }
   ],
   "source": [
    "num_of_missing_val = pd.DataFrame(raw_data.isna().sum())\n",
    "\n",
    "# Renaming the column name from 0 to 'Missing_Count'\n",
    "num_of_missing_val = num_of_missing_val.rename(columns={0: 'Missing_Count'})\n",
    "\n",
    "# Sorting in descending order\n",
    "num_of_missing_val = num_of_missing_val.sort_values(by = 'Missing_Count', ascending = False)\n",
    "\n",
    "# Filtering features with missing values\n",
    "num_of_missing_val = num_of_missing_val.loc[num_of_missing_val['Missing_Count']!= 0,:]\n",
    "print(num_of_missing_val)\n",
    "\n",
    "# To retrieve number of features with missing values\n",
    "print(num_of_missing_val.shape)"
   ]
  },
  {
   "cell_type": "markdown",
   "id": "4bbdbde1",
   "metadata": {},
   "source": [
    "##### It can be observed that there are 26 columns with missing values."
   ]
  },
  {
   "cell_type": "code",
   "execution_count": 15,
   "id": "634facb0",
   "metadata": {},
   "outputs": [
    {
     "name": "stdout",
     "output_type": "stream",
     "text": [
      "                Missing_Count\n",
      "Lot Frontage              330\n",
      "Alley                    1908\n",
      "Mas Vnr Type               22\n",
      "Mas Vnr Area               22\n",
      "Bsmt Qual                  53\n",
      "Bsmt Cond                  53\n",
      "Bsmt Exposure              56\n",
      "BsmtFin Type 1             53\n",
      "BsmtFin Type 2             54\n",
      "Fireplace Qu              998\n",
      "Garage Type               113\n",
      "Garage Yr Blt             113\n",
      "Garage Finish             113\n",
      "Garage Qual               113\n",
      "Garage Cond               113\n",
      "Pool QC                  2039\n",
      "Fence                    1650\n",
      "Misc Feature             1983\n",
      "(18, 1)\n",
      "(2048, 79)\n"
     ]
    }
   ],
   "source": [
    "# Dropping observations with missing values in columns with only one or two missing value to streamline subsequent data cleaning\n",
    "\n",
    "raw_data = raw_data.dropna(how = 'any',\n",
    "                           subset = ['Garage Area', 'Bsmt Unf SF', 'BsmtFin SF 2', 'BsmtFin SF 1', 'Bsmt Full Bath', 'Bsmt Half Bath'])\n",
    "\n",
    "# Now checking the updated dataset\n",
    "\n",
    "num_of_missing_val1 = pd.DataFrame(raw_data.isna().sum())\n",
    "\n",
    "# Renaming the column name from 0 to 'Missing_Count'\n",
    "num_of_missing_val1 = num_of_missing_val1.rename(columns={0: 'Missing_Count'})\n",
    "\n",
    "# Filtering features with missing values\n",
    "num_of_missing_val1 = num_of_missing_val1.loc[num_of_missing_val1['Missing_Count']!= 0,:]\n",
    "print(num_of_missing_val1)\n",
    "\n",
    "# Sorting in descending order\n",
    "num_of_missing_val1 = num_of_missing_val1.sort_values(by = 'Missing_Count', ascending = False)\n",
    "\n",
    "# To retrieve number of features with missing values\n",
    "print(num_of_missing_val1.shape)\n",
    "print(raw_data.shape)"
   ]
  },
  {
   "cell_type": "markdown",
   "id": "653e73ab",
   "metadata": {},
   "source": [
    "##### After removing those 3 rows, total observations are reduced from 2051 to 2048, and there are 18 remaining columns with missing values."
   ]
  },
  {
   "cell_type": "code",
   "execution_count": 16,
   "id": "3748f021",
   "metadata": {},
   "outputs": [
    {
     "data": {
      "image/png": "[encoded data removed]",
      "text/plain": [
       "<Figure size 432x288 with 1 Axes>"
      ]
     },
     "metadata": {
      "needs_background": "light"
     },
     "output_type": "display_data"
    }
   ],
   "source": [
    "# Plotting the number of missing values of each \n",
    "df1 = pd.DataFrame({'Features':num_of_missing_val1.index, 'No. of Missing Values':num_of_missing_val1['Missing_Count']})\n",
    "ax = df1.plot.barh(x = 'Features', y = 'No. of Missing Values')"
   ]
  },
  {
   "cell_type": "code",
   "execution_count": 17,
   "id": "f8b5e5f1",
   "metadata": {},
   "outputs": [
    {
     "data": {
      "text/html": [
       "<div>\n",
       "<style scoped>\n",
       "    .dataframe tbody tr th:only-of-type {\n",
       "        vertical-align: middle;\n",
       "    }\n",
       "\n",
       "    .dataframe tbody tr th {\n",
       "        vertical-align: top;\n",
       "    }\n",
       "\n",
       "    .dataframe thead th {\n",
       "        text-align: right;\n",
       "    }\n",
       "</style>\n",
       "<table border=\"1\" class=\"dataframe\">\n",
       "  <thead>\n",
       "    <tr style=\"text-align: right;\">\n",
       "      <th></th>\n",
       "      <th>Missing_Count</th>\n",
       "    </tr>\n",
       "  </thead>\n",
       "  <tbody>\n",
       "    <tr>\n",
       "      <th>Pool QC</th>\n",
       "      <td>2042</td>\n",
       "    </tr>\n",
       "    <tr>\n",
       "      <th>Misc Feature</th>\n",
       "      <td>1986</td>\n",
       "    </tr>\n",
       "    <tr>\n",
       "      <th>Alley</th>\n",
       "      <td>1911</td>\n",
       "    </tr>\n",
       "    <tr>\n",
       "      <th>Fence</th>\n",
       "      <td>1651</td>\n",
       "    </tr>\n",
       "  </tbody>\n",
       "</table>\n",
       "</div>"
      ],
      "text/plain": [
       "              Missing_Count\n",
       "Pool QC                2042\n",
       "Misc Feature           1986\n",
       "Alley                  1911\n",
       "Fence                  1651"
      ]
     },
     "execution_count": 17,
     "metadata": {},
     "output_type": "execute_result"
    }
   ],
   "source": [
    "high_missing_val = num_of_missing_val.loc[num_of_missing_val['Missing_Count'] >= 0.8 * 2048]\n",
    "high_missing_val"
   ]
  },
  {
   "cell_type": "markdown",
   "id": "9d6ab4fc",
   "metadata": {},
   "source": [
    "##### It can be observed that Pool QC (Pool Quality), Misc Feature, Alley, and Fence are the 4 variables with the most missing values, each with at least 80% (1639) missing values."
   ]
  },
  {
   "cell_type": "code",
   "execution_count": 18,
   "id": "e42589b0",
   "metadata": {},
   "outputs": [],
   "source": [
    "# Removing the 4 features\n",
    "raw_data = raw_data.drop(columns = ['Pool QC', 'Misc Feature', 'Alley', 'Fence'])"
   ]
  },
  {
   "cell_type": "code",
   "execution_count": 19,
   "id": "9f688e0c",
   "metadata": {},
   "outputs": [
    {
     "name": "stdout",
     "output_type": "stream",
     "text": [
      "                Missing_Count\n",
      "Fireplace Qu              998\n",
      "Lot Frontage              330\n",
      "Garage Finish             113\n",
      "Garage Yr Blt             113\n",
      "Garage Type               113\n",
      "Garage Qual               113\n",
      "Garage Cond               113\n",
      "Bsmt Exposure              56\n",
      "BsmtFin Type 2             54\n",
      "BsmtFin Type 1             53\n",
      "Bsmt Cond                  53\n",
      "Bsmt Qual                  53\n",
      "Mas Vnr Type               22\n",
      "Mas Vnr Area               22\n",
      "(14, 1)\n",
      "(2048, 75)\n"
     ]
    }
   ],
   "source": [
    "num_of_missing_val2 = pd.DataFrame(raw_data.isna().sum())\n",
    "\n",
    "# Renaming the column name from 0 to 'Missing_Count'\n",
    "num_of_missing_val2 = num_of_missing_val2.rename(columns={0: 'Missing_Count'})\n",
    "\n",
    "# Sorting in descending order\n",
    "num_of_missing_val2 = num_of_missing_val2.sort_values(by = 'Missing_Count', ascending = False)\n",
    "\n",
    "# Filtering features with missing values\n",
    "num_of_missing_val2 = num_of_missing_val2.loc[num_of_missing_val2['Missing_Count']!= 0,:]\n",
    "print(num_of_missing_val2)\n",
    "\n",
    "# To retrieve number of features with missing values\n",
    "print(num_of_missing_val2.shape)\n",
    "print(raw_data.shape)"
   ]
  },
  {
   "cell_type": "markdown",
   "id": "fd70b66e",
   "metadata": {},
   "source": [
    "##### Given the large proportion of observations having missing values, these 4 features are dropped. This leaves us with 75 remaining features.\n",
    "\n",
    "##### Before plotting the correlation matrix, there is a need to address missing data, especially for the numerical variables."
   ]
  },
  {
   "cell_type": "markdown",
   "id": "c401a784",
   "metadata": {},
   "source": [
    "##### Before addressing missing data, the dataset has the following categorical and numerical variables."
   ]
  },
  {
   "cell_type": "code",
   "execution_count": 20,
   "id": "df044b0a",
   "metadata": {},
   "outputs": [
    {
     "name": "stdout",
     "output_type": "stream",
     "text": [
      "['MS SubClass', 'MS Zoning', 'Street', 'Lot Shape', 'Land Contour', 'Utilities', 'Lot Config', 'Land Slope', 'Neighborhood', 'Condition 1', 'Condition 2', 'Bldg Type', 'House Style', 'Overall Qual', 'Overall Cond', 'Roof Style', 'Roof Matl', 'Exterior 1st', 'Exterior 2nd', 'Mas Vnr Type', 'Exter Qual', 'Exter Cond', 'Foundation', 'Bsmt Qual', 'Bsmt Cond', 'Bsmt Exposure', 'BsmtFin Type 1', 'BsmtFin Type 2', 'Heating', 'Heating QC', 'Central Air', 'Electrical', 'Kitchen Qual', 'Functional', 'Fireplace Qu', 'Garage Type', 'Garage Finish', 'Garage Qual', 'Garage Cond', 'Paved Drive', 'Mo Sold', 'Sale Type']\n",
      "42\n"
     ]
    }
   ],
   "source": [
    "# Seperating dataset into numerical and categorical variables\n",
    "cat_var = []\n",
    "for feature in raw_data:\n",
    "    if raw_data[feature].dtype == object:\n",
    "        cat_var.append(feature)\n",
    "    else:\n",
    "        pass\n",
    "print(cat_var)\n",
    "print(len(cat_var))"
   ]
  },
  {
   "cell_type": "code",
   "execution_count": 21,
   "id": "afafedfa",
   "metadata": {},
   "outputs": [
    {
     "name": "stdout",
     "output_type": "stream",
     "text": [
      "['Lot Frontage', 'Lot Area', 'Mas Vnr Area', 'BsmtFin SF 1', 'BsmtFin SF 2', 'Bsmt Unf SF', 'Total Bsmt SF', '1st Flr SF', '2nd Flr SF', 'Low Qual Fin SF', 'Gr Liv Area', 'Bsmt Full Bath', 'Bsmt Half Bath', 'Full Bath', 'Half Bath', 'Bedroom AbvGr', 'Kitchen AbvGr', 'TotRms AbvGrd', 'Fireplaces', 'Garage Yr Blt', 'Garage Cars', 'Garage Area', 'Wood Deck SF', 'Open Porch SF', 'Enclosed Porch', '3Ssn Porch', 'Screen Porch', 'Pool Area', 'Misc Val', 'Yr Sold', 'SalePrice', 'PropertyAge', 'PropertyModAge']\n",
      "33\n"
     ]
    }
   ],
   "source": [
    "num_var = []\n",
    "for feature in raw_data:\n",
    "    if raw_data[feature].dtype != object:\n",
    "        num_var.append(feature)\n",
    "    else:\n",
    "        pass\n",
    "print(num_var)\n",
    "print(len(num_var))"
   ]
  },
  {
   "cell_type": "markdown",
   "id": "b86d4046",
   "metadata": {},
   "source": [
    "##### The lengths of numerical and categorical variables are 38 and 37 respectively, and add up to 75, which is the right number of columns."
   ]
  },
  {
   "cell_type": "markdown",
   "id": "d5758f14",
   "metadata": {},
   "source": [
    "##### Over here, attempted to Impute missing numerical data using Linear Regression. Will be using 2 numerical variables with no missing data, have the highest correlation with the target variable with missing values, and have minimal correlation with each other."
   ]
  },
  {
   "cell_type": "code",
   "execution_count": 22,
   "id": "a4b6c1cb",
   "metadata": {},
   "outputs": [],
   "source": [
    "# # Imputing for Lot Frontage using linear regression\n",
    "\n",
    "#model = LinearRegression()\n",
    "\n",
    "# df_Lot_Frontage = raw_data[['Lot Frontage','Lot Area','BsmtFin SF 1']]\n",
    "# df_Lot_Frontage_no_null = raw_data.loc[raw_data['Lot Frontage'].notnull(),['Lot Frontage','Lot Area','BsmtFin SF 1']]\n",
    "\n",
    "# X_col = df_Lot_Frontage_no_null[['Lot Area','BsmtFin SF 1']]\n",
    "# impute_col = df_Lot_Frontage_no_null['Lot Frontage']\n",
    "\n",
    "# model.fit(X = X_col, y = impute_col)\n",
    "# missing_id_lot_frontage = df_Lot_Frontage.index[df_Lot_Frontage['Lot Frontage'].isnull()]\n",
    "\n",
    "# df_Lot_Frontage['imputed Lot Frontage'] = [df_Lot_Frontage.loc[i,'Lot Frontage'] if i not in missing_id_lot_frontage\n",
    "#     # If not, it means there is a missing age value and hence fill in those missing values based on regression results\n",
    "#      else model.predict(pd.DataFrame(df_Lot_Frontage.loc[i,['Lot Area','BsmtFin SF 1']]).T)[0]\n",
    "#      for i in range(df_Lot_Frontage.shape[0])]"
   ]
  },
  {
   "cell_type": "code",
   "execution_count": 23,
   "id": "50dc3143",
   "metadata": {},
   "outputs": [
    {
     "data": {
      "text/html": [
       "<div>\n",
       "<style scoped>\n",
       "    .dataframe tbody tr th:only-of-type {\n",
       "        vertical-align: middle;\n",
       "    }\n",
       "\n",
       "    .dataframe tbody tr th {\n",
       "        vertical-align: top;\n",
       "    }\n",
       "\n",
       "    .dataframe thead th {\n",
       "        text-align: right;\n",
       "    }\n",
       "</style>\n",
       "<table border=\"1\" class=\"dataframe\">\n",
       "  <thead>\n",
       "    <tr style=\"text-align: right;\">\n",
       "      <th></th>\n",
       "      <th>Lot Frontage</th>\n",
       "      <th>Lot Area</th>\n",
       "      <th>BsmtFin SF 1</th>\n",
       "    </tr>\n",
       "  </thead>\n",
       "  <tbody>\n",
       "    <tr>\n",
       "      <th>0</th>\n",
       "      <td>NaN</td>\n",
       "      <td>13517</td>\n",
       "      <td>533.0</td>\n",
       "    </tr>\n",
       "    <tr>\n",
       "      <th>1</th>\n",
       "      <td>43.0</td>\n",
       "      <td>11492</td>\n",
       "      <td>637.0</td>\n",
       "    </tr>\n",
       "    <tr>\n",
       "      <th>2</th>\n",
       "      <td>68.0</td>\n",
       "      <td>7922</td>\n",
       "      <td>731.0</td>\n",
       "    </tr>\n",
       "    <tr>\n",
       "      <th>3</th>\n",
       "      <td>73.0</td>\n",
       "      <td>9802</td>\n",
       "      <td>0.0</td>\n",
       "    </tr>\n",
       "    <tr>\n",
       "      <th>4</th>\n",
       "      <td>82.0</td>\n",
       "      <td>14235</td>\n",
       "      <td>0.0</td>\n",
       "    </tr>\n",
       "  </tbody>\n",
       "</table>\n",
       "</div>"
      ],
      "text/plain": [
       "   Lot Frontage  Lot Area  BsmtFin SF 1\n",
       "0           NaN     13517         533.0\n",
       "1          43.0     11492         637.0\n",
       "2          68.0      7922         731.0\n",
       "3          73.0      9802           0.0\n",
       "4          82.0     14235           0.0"
      ]
     },
     "execution_count": 23,
     "metadata": {},
     "output_type": "execute_result"
    }
   ],
   "source": [
    "# Imputing for Lot Frontage using IterativeImputer\n",
    "\n",
    "it_imp = IterativeImputer()\n",
    "Lot_Frontage_missing = raw_data.loc[:,['Lot Frontage','Lot Area','BsmtFin SF 1']]\n",
    "it_imp_Lot_Frontage = it_imp.fit_transform(Lot_Frontage_missing)\n",
    "it_imp_Lot_Frontage = pd.DataFrame(it_imp_Lot_Frontage, columns = Lot_Frontage_missing.columns)\n",
    "Lot_Frontage_missing.head()\n",
    "\n",
    "# Despite using Iterative Imputer, the first value of Lot Frontage is not imputed"
   ]
  },
  {
   "cell_type": "markdown",
   "id": "8eaa2739",
   "metadata": {},
   "source": [
    "### Due to unknown error in imputing numerical values using both Linear Regression and IterativeImputer, imputing missing values using mean"
   ]
  },
  {
   "cell_type": "code",
   "execution_count": 24,
   "id": "b96edf6d",
   "metadata": {},
   "outputs": [],
   "source": [
    "# Imputing missing values of Lot Frontage\n",
    "raw_data['Lot Frontage'].fillna(value = round(raw_data['Lot Frontage'].mean()), inplace = True)\n",
    "\n",
    "# Imputing missing values of Garage Yr Blt\n",
    "raw_data['Garage Yr Blt'].fillna(value = round(raw_data['Garage Yr Blt'].mean()), inplace = True)\n",
    "\n",
    "# Imputing missing values of Mas Vnr Area\n",
    "raw_data['Mas Vnr Area'].fillna(value = round(raw_data['Mas Vnr Area'].mean()), inplace = True)\n",
    "\n",
    "# Imputing missing values of Bsmt Full Bath\n",
    "raw_data['Bsmt Full Bath'].fillna(value = round(raw_data['Bsmt Full Bath'].mean()), inplace = True)\n",
    "\n",
    "# Imputing missing values of Bsmt Half Bath\n",
    "raw_data['Bsmt Half Bath'].fillna(value = round(raw_data['Bsmt Half Bath'].mean()), inplace = True)\n",
    "\n",
    "# Imputing missing values of Garage Area\n",
    "raw_data['Garage Area'].fillna(value = round(raw_data['Garage Area'].mean()), inplace = True)\n",
    "\n",
    "# Imputing missing values of Garage Cars\n",
    "raw_data['Garage Cars'].fillna(value = round(raw_data['Garage Cars'].mean()), inplace = True)\n",
    "\n",
    "# Imputing missing values of Total Bsmt SF\n",
    "raw_data['Total Bsmt SF'].fillna(value = round(raw_data['Total Bsmt SF'].mean()), inplace = True)\n",
    "\n",
    "# Imputing missing values of Bsmt Unf SF\n",
    "raw_data['Bsmt Unf SF'].fillna(value = round(raw_data['Bsmt Unf SF'].mean()), inplace = True)\n",
    "\n",
    "# Imputing missing values of Total Bsmt SF\n",
    "raw_data['Total Bsmt SF'].fillna(value = round(raw_data['Total Bsmt SF'].mean()), inplace = True)\n",
    "\n",
    "# Imputing missing values of BsmtFin SF 2\n",
    "raw_data['BsmtFin SF 2'].fillna(value = round(raw_data['BsmtFin SF 2'].mean()), inplace = True)\n",
    "\n",
    "# Imputing missing values of BsmtFin SF 1\n",
    "raw_data['BsmtFin SF 1'].fillna(value = round(raw_data['BsmtFin SF 1'].mean()), inplace = True)"
   ]
  },
  {
   "cell_type": "code",
   "execution_count": 25,
   "id": "dac25a10",
   "metadata": {},
   "outputs": [
    {
     "data": {
      "text/plain": [
       "Lot Frontage       0\n",
       "Lot Area           0\n",
       "Mas Vnr Area       0\n",
       "BsmtFin SF 1       0\n",
       "BsmtFin SF 2       0\n",
       "Bsmt Unf SF        0\n",
       "Total Bsmt SF      0\n",
       "1st Flr SF         0\n",
       "2nd Flr SF         0\n",
       "Low Qual Fin SF    0\n",
       "Gr Liv Area        0\n",
       "Bsmt Full Bath     0\n",
       "Bsmt Half Bath     0\n",
       "Full Bath          0\n",
       "Half Bath          0\n",
       "Bedroom AbvGr      0\n",
       "Kitchen AbvGr      0\n",
       "TotRms AbvGrd      0\n",
       "Fireplaces         0\n",
       "Garage Yr Blt      0\n",
       "Garage Cars        0\n",
       "Garage Area        0\n",
       "Wood Deck SF       0\n",
       "Open Porch SF      0\n",
       "Enclosed Porch     0\n",
       "3Ssn Porch         0\n",
       "Screen Porch       0\n",
       "Pool Area          0\n",
       "Misc Val           0\n",
       "Yr Sold            0\n",
       "SalePrice          0\n",
       "PropertyAge        0\n",
       "PropertyModAge     0\n",
       "dtype: int64"
      ]
     },
     "execution_count": 25,
     "metadata": {},
     "output_type": "execute_result"
    }
   ],
   "source": [
    "num_data = raw_data[num_var]\n",
    "num_data.isna().sum()"
   ]
  },
  {
   "cell_type": "code",
   "execution_count": 26,
   "id": "12afbcc7",
   "metadata": {},
   "outputs": [],
   "source": [
    "# Now that the Garage Yr Blt missing values addressed, can create the GarageAge column\n",
    "raw_data['GarageAge'] = raw_data['Yr Sold'] - raw_data['Garage Yr Blt']\n",
    "raw_data = raw_data.drop(columns = ['Garage Yr Blt'])"
   ]
  },
  {
   "cell_type": "code",
   "execution_count": 27,
   "id": "0c718d23",
   "metadata": {},
   "outputs": [
    {
     "data": {
      "text/plain": [
       "(2048, 75)"
      ]
     },
     "execution_count": 27,
     "metadata": {},
     "output_type": "execute_result"
    }
   ],
   "source": [
    "raw_data.shape"
   ]
  },
  {
   "cell_type": "markdown",
   "id": "a19f32d0",
   "metadata": {},
   "source": [
    "##### It can be observed that the numerical variables have been imputed correctly."
   ]
  },
  {
   "cell_type": "code",
   "execution_count": 28,
   "id": "cd202ab8",
   "metadata": {},
   "outputs": [
    {
     "name": "stdout",
     "output_type": "stream",
     "text": [
      "                Missing_Count\n",
      "Fireplace Qu              998\n",
      "Garage Finish             113\n",
      "Garage Cond               113\n",
      "Garage Qual               113\n",
      "Garage Type               113\n",
      "Bsmt Exposure              56\n",
      "BsmtFin Type 2             54\n",
      "BsmtFin Type 1             53\n",
      "Bsmt Cond                  53\n",
      "Bsmt Qual                  53\n",
      "Mas Vnr Type               22\n",
      "(11, 1)\n"
     ]
    }
   ],
   "source": [
    "# Checking if missing values for numerical variables have been imputed successfully\n",
    "updated_num_missing_val = pd.DataFrame(raw_data.isna().sum())\n",
    "updated_num_missing_val = updated_num_missing_val.rename(columns={0: 'Missing_Count'})\n",
    "\n",
    "# Sorting in descending order\n",
    "updated_num_missing_val = updated_num_missing_val.sort_values(by = 'Missing_Count', ascending = False)\n",
    "\n",
    "# Filtering features with missing values\n",
    "updated_num_missing_val = updated_num_missing_val.loc[updated_num_missing_val['Missing_Count']!= 0,:]\n",
    "print(updated_num_missing_val)\n",
    "print(updated_num_missing_val.shape)"
   ]
  },
  {
   "cell_type": "markdown",
   "id": "b67f80cc",
   "metadata": {},
   "source": [
    "##### As confirmed above, the remaining missing values to address are categorical variables."
   ]
  },
  {
   "cell_type": "code",
   "execution_count": 29,
   "id": "0364f81e",
   "metadata": {},
   "outputs": [
    {
     "name": "stdout",
     "output_type": "stream",
     "text": [
      "                Missing_Count\n",
      "Fireplace Qu              998\n",
      "Garage Cond               113\n",
      "Garage Qual               113\n",
      "Garage Finish             113\n",
      "Garage Type               113\n",
      "Bsmt Exposure              56\n",
      "BsmtFin Type 2             54\n",
      "Bsmt Qual                  53\n",
      "Bsmt Cond                  53\n",
      "BsmtFin Type 1             53\n",
      "Mas Vnr Type               22\n",
      "(11, 1)\n"
     ]
    }
   ],
   "source": [
    "# Need to retrieve the subset for categorical variables\n",
    "cat_data = raw_data[cat_var]\n",
    "\n",
    "# Number of missing values for categorical variables before the imputation\n",
    "missing_cat_val = pd.DataFrame(cat_data.isna().sum())\n",
    "num_of_missing_cat_val = missing_cat_val.rename(columns={0: 'Missing_Count'})\n",
    "\n",
    "# Sorting in descending order\n",
    "num_of_missing_cat_val = num_of_missing_cat_val.sort_values(by = 'Missing_Count', ascending = False)\n",
    "\n",
    "# Filtering features with missing values\n",
    "num_of_missing_cat_val = num_of_missing_cat_val.loc[num_of_missing_cat_val['Missing_Count']!= 0,:]\n",
    "print(num_of_missing_cat_val)\n",
    "\n",
    "# To retrieve number of features with missing values\n",
    "print(num_of_missing_cat_val.shape)"
   ]
  },
  {
   "cell_type": "markdown",
   "id": "b2f6cc2a",
   "metadata": {},
   "source": [
    "##### Subsetting only categorical variables and counting the number of missing values, they match the count above, confirming that the remaining missing values are from categorical variables."
   ]
  },
  {
   "cell_type": "markdown",
   "id": "d6d0b471",
   "metadata": {},
   "source": [
    "##### Impute missing categorical variable using mode."
   ]
  },
  {
   "cell_type": "code",
   "execution_count": 30,
   "id": "b023020c",
   "metadata": {},
   "outputs": [],
   "source": [
    "# Filling in missing values of the main dataset with the mode of the corresponding columns\n",
    "raw_data['Fireplace Qu'] = raw_data['Fireplace Qu'].fillna(raw_data['Fireplace Qu'].mode()[0])\n",
    "raw_data['Garage Cond'] = raw_data['Garage Cond'].fillna(raw_data['Garage Cond'].mode()[0])\n",
    "raw_data['Garage Qual'] = raw_data['Garage Qual'].fillna(raw_data['Garage Qual'].mode()[0])\n",
    "raw_data['Garage Finish'] = raw_data['Garage Finish'].fillna(raw_data['Garage Finish'].mode()[0])\n",
    "raw_data['Garage Type'] = raw_data['Garage Type'].fillna(raw_data['Garage Type'].mode()[0])\n",
    "raw_data['Bsmt Exposure'] = raw_data['Bsmt Exposure'].fillna(raw_data['Bsmt Exposure'].mode()[0])\n",
    "raw_data['BsmtFin Type 2'] = raw_data['BsmtFin Type 2'].fillna(raw_data['BsmtFin Type 2'].mode()[0])\n",
    "raw_data['Bsmt Cond'] = raw_data['Bsmt Cond'].fillna(raw_data['Bsmt Cond'].mode()[0])\n",
    "raw_data['Bsmt Qual'] = raw_data['Bsmt Qual'].fillna(raw_data['Bsmt Qual'].mode()[0])\n",
    "raw_data['BsmtFin Type 1'] = raw_data['BsmtFin Type 1'].fillna(raw_data['BsmtFin Type 1'].mode()[0])\n",
    "raw_data['Mas Vnr Type'] = raw_data['Mas Vnr Type'].fillna(raw_data['Mas Vnr Type'].mode()[0])"
   ]
  },
  {
   "cell_type": "code",
   "execution_count": 31,
   "id": "66526266",
   "metadata": {},
   "outputs": [
    {
     "data": {
      "text/plain": [
       "0"
      ]
     },
     "execution_count": 31,
     "metadata": {},
     "output_type": "execute_result"
    }
   ],
   "source": [
    "# Checking for overall number of missing values in the dataset\n",
    "raw_data.isna().sum().sum()"
   ]
  },
  {
   "cell_type": "code",
   "execution_count": 32,
   "id": "cac387c9",
   "metadata": {},
   "outputs": [
    {
     "data": {
      "text/plain": [
       "(2048, 75)"
      ]
     },
     "execution_count": 32,
     "metadata": {},
     "output_type": "execute_result"
    }
   ],
   "source": [
    "raw_data.shape"
   ]
  },
  {
   "cell_type": "markdown",
   "id": "34673900",
   "metadata": {},
   "source": [
    "##### All missing values, categorical and numerical, have been imputted."
   ]
  },
  {
   "cell_type": "markdown",
   "id": "07209cca",
   "metadata": {},
   "source": [
    "### Below follows the correlation analysis and heatmap of numerical variables."
   ]
  },
  {
   "cell_type": "code",
   "execution_count": 33,
   "id": "0e62c379",
   "metadata": {},
   "outputs": [
    {
     "name": "stdout",
     "output_type": "stream",
     "text": [
      "['Lot Frontage', 'Lot Area', 'Mas Vnr Area', 'BsmtFin SF 1', 'BsmtFin SF 2', 'Bsmt Unf SF', 'Total Bsmt SF', '1st Flr SF', '2nd Flr SF', 'Low Qual Fin SF', 'Gr Liv Area', 'Bsmt Full Bath', 'Bsmt Half Bath', 'Full Bath', 'Half Bath', 'Bedroom AbvGr', 'Kitchen AbvGr', 'TotRms AbvGrd', 'Fireplaces', 'Garage Cars', 'Garage Area', 'Wood Deck SF', 'Open Porch SF', 'Enclosed Porch', '3Ssn Porch', 'Screen Porch', 'Pool Area', 'Misc Val', 'Yr Sold', 'SalePrice', 'PropertyAge', 'PropertyModAge', 'GarageAge']\n",
      "33\n"
     ]
    }
   ],
   "source": [
    "# Need to remap here because Garage Yr Blt is dropped and GarageAge is added\n",
    "\n",
    "num_var = []\n",
    "for feature in raw_data:\n",
    "    if raw_data[feature].dtype != object:\n",
    "        num_var.append(feature)\n",
    "    else:\n",
    "        pass\n",
    "print(num_var)\n",
    "print(len(num_var))"
   ]
  },
  {
   "cell_type": "code",
   "execution_count": 34,
   "id": "bcb17f69",
   "metadata": {},
   "outputs": [
    {
     "data": {
      "text/html": [
       "<div>\n",
       "<style scoped>\n",
       "    .dataframe tbody tr th:only-of-type {\n",
       "        vertical-align: middle;\n",
       "    }\n",
       "\n",
       "    .dataframe tbody tr th {\n",
       "        vertical-align: top;\n",
       "    }\n",
       "\n",
       "    .dataframe thead th {\n",
       "        text-align: right;\n",
       "    }\n",
       "</style>\n",
       "<table border=\"1\" class=\"dataframe\">\n",
       "  <thead>\n",
       "    <tr style=\"text-align: right;\">\n",
       "      <th></th>\n",
       "      <th>SalePrice</th>\n",
       "    </tr>\n",
       "  </thead>\n",
       "  <tbody>\n",
       "    <tr>\n",
       "      <th>SalePrice</th>\n",
       "      <td>1.000000</td>\n",
       "    </tr>\n",
       "    <tr>\n",
       "      <th>Gr Liv Area</th>\n",
       "      <td>0.698046</td>\n",
       "    </tr>\n",
       "    <tr>\n",
       "      <th>Garage Area</th>\n",
       "      <td>0.650000</td>\n",
       "    </tr>\n",
       "    <tr>\n",
       "      <th>Garage Cars</th>\n",
       "      <td>0.648103</td>\n",
       "    </tr>\n",
       "    <tr>\n",
       "      <th>Total Bsmt SF</th>\n",
       "      <td>0.631507</td>\n",
       "    </tr>\n",
       "    <tr>\n",
       "      <th>1st Flr SF</th>\n",
       "      <td>0.621181</td>\n",
       "    </tr>\n",
       "    <tr>\n",
       "      <th>Full Bath</th>\n",
       "      <td>0.537369</td>\n",
       "    </tr>\n",
       "    <tr>\n",
       "      <th>Mas Vnr Area</th>\n",
       "      <td>0.509069</td>\n",
       "    </tr>\n",
       "    <tr>\n",
       "      <th>TotRms AbvGrd</th>\n",
       "      <td>0.502909</td>\n",
       "    </tr>\n",
       "    <tr>\n",
       "      <th>Fireplaces</th>\n",
       "      <td>0.470091</td>\n",
       "    </tr>\n",
       "    <tr>\n",
       "      <th>BsmtFin SF 1</th>\n",
       "      <td>0.424463</td>\n",
       "    </tr>\n",
       "    <tr>\n",
       "      <th>Open Porch SF</th>\n",
       "      <td>0.332090</td>\n",
       "    </tr>\n",
       "    <tr>\n",
       "      <th>Wood Deck SF</th>\n",
       "      <td>0.327007</td>\n",
       "    </tr>\n",
       "    <tr>\n",
       "      <th>Lot Frontage</th>\n",
       "      <td>0.325935</td>\n",
       "    </tr>\n",
       "    <tr>\n",
       "      <th>Lot Area</th>\n",
       "      <td>0.295121</td>\n",
       "    </tr>\n",
       "    <tr>\n",
       "      <th>Bsmt Full Bath</th>\n",
       "      <td>0.283564</td>\n",
       "    </tr>\n",
       "    <tr>\n",
       "      <th>Half Bath</th>\n",
       "      <td>0.282023</td>\n",
       "    </tr>\n",
       "    <tr>\n",
       "      <th>2nd Flr SF</th>\n",
       "      <td>0.249091</td>\n",
       "    </tr>\n",
       "    <tr>\n",
       "      <th>Bsmt Unf SF</th>\n",
       "      <td>0.191090</td>\n",
       "    </tr>\n",
       "    <tr>\n",
       "      <th>Bedroom AbvGr</th>\n",
       "      <td>0.135178</td>\n",
       "    </tr>\n",
       "    <tr>\n",
       "      <th>Screen Porch</th>\n",
       "      <td>0.134652</td>\n",
       "    </tr>\n",
       "    <tr>\n",
       "      <th>3Ssn Porch</th>\n",
       "      <td>0.048755</td>\n",
       "    </tr>\n",
       "    <tr>\n",
       "      <th>Pool Area</th>\n",
       "      <td>0.023115</td>\n",
       "    </tr>\n",
       "    <tr>\n",
       "      <th>BsmtFin SF 2</th>\n",
       "      <td>0.016393</td>\n",
       "    </tr>\n",
       "    <tr>\n",
       "      <th>Misc Val</th>\n",
       "      <td>-0.007398</td>\n",
       "    </tr>\n",
       "    <tr>\n",
       "      <th>Yr Sold</th>\n",
       "      <td>-0.015330</td>\n",
       "    </tr>\n",
       "    <tr>\n",
       "      <th>Low Qual Fin SF</th>\n",
       "      <td>-0.041650</td>\n",
       "    </tr>\n",
       "    <tr>\n",
       "      <th>Bsmt Half Bath</th>\n",
       "      <td>-0.045378</td>\n",
       "    </tr>\n",
       "    <tr>\n",
       "      <th>Kitchen AbvGr</th>\n",
       "      <td>-0.125593</td>\n",
       "    </tr>\n",
       "    <tr>\n",
       "      <th>Enclosed Porch</th>\n",
       "      <td>-0.135516</td>\n",
       "    </tr>\n",
       "    <tr>\n",
       "      <th>GarageAge</th>\n",
       "      <td>-0.516478</td>\n",
       "    </tr>\n",
       "    <tr>\n",
       "      <th>PropertyModAge</th>\n",
       "      <td>-0.551421</td>\n",
       "    </tr>\n",
       "    <tr>\n",
       "      <th>PropertyAge</th>\n",
       "      <td>-0.572284</td>\n",
       "    </tr>\n",
       "  </tbody>\n",
       "</table>\n",
       "</div>"
      ],
      "text/plain": [
       "                 SalePrice\n",
       "SalePrice         1.000000\n",
       "Gr Liv Area       0.698046\n",
       "Garage Area       0.650000\n",
       "Garage Cars       0.648103\n",
       "Total Bsmt SF     0.631507\n",
       "1st Flr SF        0.621181\n",
       "Full Bath         0.537369\n",
       "Mas Vnr Area      0.509069\n",
       "TotRms AbvGrd     0.502909\n",
       "Fireplaces        0.470091\n",
       "BsmtFin SF 1      0.424463\n",
       "Open Porch SF     0.332090\n",
       "Wood Deck SF      0.327007\n",
       "Lot Frontage      0.325935\n",
       "Lot Area          0.295121\n",
       "Bsmt Full Bath    0.283564\n",
       "Half Bath         0.282023\n",
       "2nd Flr SF        0.249091\n",
       "Bsmt Unf SF       0.191090\n",
       "Bedroom AbvGr     0.135178\n",
       "Screen Porch      0.134652\n",
       "3Ssn Porch        0.048755\n",
       "Pool Area         0.023115\n",
       "BsmtFin SF 2      0.016393\n",
       "Misc Val         -0.007398\n",
       "Yr Sold          -0.015330\n",
       "Low Qual Fin SF  -0.041650\n",
       "Bsmt Half Bath   -0.045378\n",
       "Kitchen AbvGr    -0.125593\n",
       "Enclosed Porch   -0.135516\n",
       "GarageAge        -0.516478\n",
       "PropertyModAge   -0.551421\n",
       "PropertyAge      -0.572284"
      ]
     },
     "execution_count": 34,
     "metadata": {},
     "output_type": "execute_result"
    }
   ],
   "source": [
    "# Setting the correlation against SalePrice in numeric form\n",
    "corr_mat = raw_data[num_var].corr()\n",
    "corr_mat = pd.DataFrame(corr_mat['SalePrice'].sort_values(ascending=False))\n",
    "corr_mat"
   ]
  },
  {
   "cell_type": "code",
   "execution_count": 35,
   "id": "8905aa52",
   "metadata": {},
   "outputs": [
    {
     "data": {
      "text/plain": [
       "(33, 1)"
      ]
     },
     "execution_count": 35,
     "metadata": {},
     "output_type": "execute_result"
    }
   ],
   "source": [
    "corr_mat.shape"
   ]
  },
  {
   "cell_type": "code",
   "execution_count": 36,
   "id": "7cdaac1f",
   "metadata": {},
   "outputs": [],
   "source": [
    "corr_mat_abs = corr_mat.abs()\n",
    "corr_mat_abs.sort_values(by = 'SalePrice', ascending = False, inplace = True)\n",
    "corr_mat_abs = corr_mat_abs.iloc[1:,:]"
   ]
  },
  {
   "cell_type": "code",
   "execution_count": 37,
   "id": "1f867471",
   "metadata": {},
   "outputs": [
    {
     "data": {
      "text/plain": [
       "Text(0.5, 1.0, 'Correlation between Numerical Variables and SalePrice')"
      ]
     },
     "execution_count": 37,
     "metadata": {},
     "output_type": "execute_result"
    },
    {
     "data": {
      "image/png": "[encoded data removed]",
      "text/plain": [
       "<Figure size 1080x648 with 2 Axes>"
      ]
     },
     "metadata": {},
     "output_type": "display_data"
    }
   ],
   "source": [
    "# Plotting the heatmap scale \n",
    "sns.set(rc = {'figure.figsize':(15,9)})\n",
    "single_corr_plot = sns.heatmap(corr_mat_abs, annot = True, fmt='.2f', cmap= \"Spectral\")\n",
    "single_corr_plot.set_title('Correlation between Numerical Variables and SalePrice')"
   ]
  },
  {
   "cell_type": "markdown",
   "id": "d3b11afc",
   "metadata": {},
   "source": [
    "##### Based on the correlation values against SalePrice, explanatory variables will be dropped based on the abosolute value of the correlation being less than 0.40."
   ]
  },
  {
   "cell_type": "code",
   "execution_count": 38,
   "id": "3dda4af9",
   "metadata": {},
   "outputs": [
    {
     "name": "stdout",
     "output_type": "stream",
     "text": [
      "                SalePrice\n",
      "SalePrice        1.000000\n",
      "Gr Liv Area      0.698046\n",
      "Garage Area      0.650000\n",
      "Garage Cars      0.648103\n",
      "Total Bsmt SF    0.631507\n",
      "1st Flr SF       0.621181\n",
      "Full Bath        0.537369\n",
      "Mas Vnr Area     0.509069\n",
      "TotRms AbvGrd    0.502909\n",
      "Fireplaces       0.470091\n",
      "BsmtFin SF 1     0.424463\n",
      "GarageAge       -0.516478\n",
      "PropertyModAge  -0.551421\n",
      "PropertyAge     -0.572284\n",
      "Index(['SalePrice', 'Gr Liv Area', 'Garage Area', 'Garage Cars',\n",
      "       'Total Bsmt SF', '1st Flr SF', 'Full Bath', 'Mas Vnr Area',\n",
      "       'TotRms AbvGrd', 'Fireplaces', 'BsmtFin SF 1', 'GarageAge',\n",
      "       'PropertyModAge', 'PropertyAge'],\n",
      "      dtype='object')\n"
     ]
    }
   ],
   "source": [
    "# Subsetting the features with high correlation with SalePrice\n",
    "corr_mat_high_corr = corr_mat.loc[(corr_mat['SalePrice'] > 0.4) | (corr_mat['SalePrice'] < -0.4),:]\n",
    "print(corr_mat_high_corr)\n",
    "print(corr_mat_high_corr.index)"
   ]
  },
  {
   "cell_type": "code",
   "execution_count": 39,
   "id": "ea0c8a50",
   "metadata": {},
   "outputs": [
    {
     "name": "stdout",
     "output_type": "stream",
     "text": [
      "Index(['Mas Vnr Area', 'BsmtFin SF 1', 'Total Bsmt SF', '1st Flr SF',\n",
      "       'Gr Liv Area', 'Full Bath', 'TotRms AbvGrd', 'Fireplaces',\n",
      "       'Garage Cars', 'Garage Area', 'SalePrice', 'PropertyAge',\n",
      "       'PropertyModAge', 'GarageAge'],\n",
      "      dtype='object')\n",
      "14\n"
     ]
    }
   ],
   "source": [
    "# Removing numerical features with low correlation from dataset, remaining features have correlation more than 40%\n",
    "# These 14 common numerical variables have more than 40% correlation with SalePrice\n",
    "num_data = raw_data[raw_data.columns.intersection(list(corr_mat_high_corr.index))]\n",
    "print(num_data.columns)\n",
    "print(len(num_data.columns))"
   ]
  },
  {
   "cell_type": "code",
   "execution_count": 41,
   "id": "3b01cb4f",
   "metadata": {},
   "outputs": [
    {
     "data": {
      "text/plain": [
       "(2048, 56)"
      ]
     },
     "execution_count": 41,
     "metadata": {},
     "output_type": "execute_result"
    }
   ],
   "source": [
    "# Dropping the 19 variables with weak correlation to SalePrice\n",
    "data = raw_data.drop(columns = ['Open Porch SF','Wood Deck SF','Lot Frontage','Lot Area','Bsmt Full Bath','Half Bath'\n",
    "                               ,'2nd Flr SF','Bsmt Unf SF','Bedroom AbvGr','Screen Porch','3Ssn Porch','Pool Area'\n",
    "                               ,'BsmtFin SF 2','Misc Val','Yr Sold','Low Qual Fin SF','Bsmt Half Bath','Kitchen AbvGr'\n",
    "                               ,'Enclosed Porch'])\n",
    "data.shape"
   ]
  },
  {
   "cell_type": "code",
   "execution_count": 42,
   "id": "b0dd63b2",
   "metadata": {},
   "outputs": [
    {
     "data": {
      "text/plain": [
       "<AxesSubplot:>"
      ]
     },
     "execution_count": 42,
     "metadata": {},
     "output_type": "execute_result"
    },
    {
     "data": {
      "image/png": "[encoded data removed]",
      "text/plain": [
       "<Figure size 1152x1152 with 2 Axes>"
      ]
     },
     "metadata": {},
     "output_type": "display_data"
    }
   ],
   "source": [
    "# Plotting correlation heatmap\n",
    "# This plot shows the correlation between numerical variables with SalePrice\n",
    "sns.set(rc = {'figure.figsize':(16,16)})\n",
    "sns.heatmap(raw_data.corr(), annot = True, fmt='.2f', cmap= 'coolwarm')"
   ]
  },
  {
   "cell_type": "code",
   "execution_count": null,
   "id": "d8c756f9",
   "metadata": {},
   "outputs": [],
   "source": [
    "# Observing the heat map of the numerical variables, we can drop one of the pairs of variables with high correlation with each other\n",
    "\n",
    "# Dropping PropertyModAge and GarageAge (against PropertyAge), and TotRmsAbvGrd (against Gr Liv Area)"
   ]
  },
  {
   "cell_type": "markdown",
   "id": "5b1ac528",
   "metadata": {},
   "source": [
    "##### At this stage, 7 numerical variables are removed given their low correlation: 3Ssn Porch, Mo Sold, Pool Area, BsmtFin SF 2, Misc Val, Yr Sold, Low Qual Fin SF, and Bsmt Half Bath, leaving with 28 numerical variables.\n"
   ]
  },
  {
   "cell_type": "code",
   "execution_count": null,
   "id": "865d0f24",
   "metadata": {},
   "outputs": [],
   "source": [
    "# Finding the pairs of variables with the highest correlation\n",
    "\n",
    "c = data.corr().abs()\n",
    "s = c.unstack()\n",
    "ordered = s.sort_values(kind = 'quicksort')\n",
    "\n",
    "# Looking for variables with high correlation as possible variables to remove to avoid high multicollinearity, if RSME is high\n",
    "print(ordered[-39:-29])"
   ]
  },
  {
   "cell_type": "markdown",
   "id": "15381b80",
   "metadata": {},
   "source": [
    "##### It can be observed that the pairings with high correlation that do not include SalePrice are:\n",
    "\n",
    "- Garage Cars, Garage Area\n",
    "- 1st Flr SF, Total Bsmt SF\n",
    "- TotRms AbvGrd, Gr Liv Area\n",
    "- PropertyAge, GarageAge\n",
    "- TotRms AbvGrd, Bedroom AbvGr"
   ]
  },
  {
   "cell_type": "markdown",
   "id": "209dc17c",
   "metadata": {},
   "source": [
    "### Visualizing Categorical Data against SalePrice"
   ]
  },
  {
   "cell_type": "code",
   "execution_count": null,
   "id": "36150787",
   "metadata": {},
   "outputs": [],
   "source": [
    "# Retrieving the updated list of categorical variables to analyse\n",
    "\n",
    "cat_var = []\n",
    "for feature in data:\n",
    "    if data[feature].dtype == object:\n",
    "        cat_var.append(feature)\n",
    "    else:\n",
    "        pass\n",
    "cat_var"
   ]
  },
  {
   "cell_type": "code",
   "execution_count": null,
   "id": "80ab0ca7",
   "metadata": {},
   "outputs": [],
   "source": [
    "len(cat_var)"
   ]
  },
  {
   "cell_type": "code",
   "execution_count": null,
   "id": "f24291b4",
   "metadata": {},
   "outputs": [],
   "source": [
    "# Plotting for Overall Qual\n",
    "fig, axes = plt.subplots(1, 2,sharex=True, figsize=(12,7))\n",
    "fig.suptitle('Overall Qual relationship to SalePrice and Count')\n",
    "\n",
    "axes[0].set_title('Relationship between Overall Qual and SalePrice')\n",
    "sns.boxplot(ax=axes[0],x='Overall Qual', y=\"SalePrice\", hue='Overall Qual', data=data)\n",
    "\n",
    "axes[1].set_title('Count of each classification')\n",
    "sns.countplot(ax=axes[1],x='Overall Qual', data=data)"
   ]
  },
  {
   "cell_type": "markdown",
   "id": "ab563ae4",
   "metadata": {},
   "source": [
    "##### Can observe that the higher the overall qual, the higher the SalePrice, however, given the very low count of ratings 1, 2, and 3, these 3 categories can be combined with 4 and renamed 'very low', the same can be said for the ratings 9 and 10, which can be combined with 8 and renamed 'very high'"
   ]
  },
  {
   "cell_type": "code",
   "execution_count": null,
   "id": "d84651ce",
   "metadata": {},
   "outputs": [],
   "source": [
    "Overall_Qual_mapping = {'1': 'very low', '2': 'very low', '3': 'very low','4': 'very low', '8': 'very high', \n",
    "                        '9': 'very high', '10': 'very high'}\n",
    "data['Overall Qual'].replace(Overall_Qual_mapping, inplace = True)\n",
    "data['Overall Qual'].value_counts()\n",
    "# Based on results, remapped successfully."
   ]
  },
  {
   "cell_type": "code",
   "execution_count": null,
   "id": "c1176a0a",
   "metadata": {},
   "outputs": [],
   "source": [
    "# Plotting for the remapped Overall Qual\n",
    "fig, axes = plt.subplots(1, 2,sharex=True, figsize=(12,7))\n",
    "fig.suptitle('Overall Qual relationship to SalePrice and Count')\n",
    "\n",
    "axes[0].set_title('Relationship between Overall Qual and SalePrice')\n",
    "sns.boxplot(ax=axes[0],x='Overall Qual', y=\"SalePrice\", hue='Overall Qual', data=data)\n",
    "\n",
    "axes[1].set_title('Count of each classification')\n",
    "sns.countplot(ax=axes[1],x='Overall Qual', data=data)"
   ]
  },
  {
   "cell_type": "markdown",
   "id": "31cf3447",
   "metadata": {},
   "source": [
    "##### Can be observed that each category of Overall Qual is sizable with significant variation in their boxplots. This feature will be used."
   ]
  },
  {
   "cell_type": "code",
   "execution_count": null,
   "id": "5563ae95",
   "metadata": {},
   "outputs": [],
   "source": [
    "# Plotting for Overall Cond\n",
    "order_of_overall_cond = ['1','2','3','4','5','6','7','8','9']\n",
    "fig, axes = plt.subplots(1, 2,sharex=True, figsize=(12,7))\n",
    "fig.suptitle('Overall Cond relationship to SalePrice and Count')\n",
    "\n",
    "axes[0].set_title('Relationship between Overall Cond and SalePrice')\n",
    "sns.boxplot(ax=axes[0],x='Overall Cond', y=\"SalePrice\", hue='Overall Cond', data=data, order = order_of_overall_cond)\n",
    "\n",
    "axes[1].set_title('Count of each classification')\n",
    "sns.countplot(ax=axes[1],x='Overall Cond', data=data, order = order_of_overall_cond)"
   ]
  },
  {
   "cell_type": "markdown",
   "id": "5dce7c26",
   "metadata": {},
   "source": [
    "##### There are no observations that are 10. Given the low observation count, ratings 1, 2, and 3 will be grouped with 4 and renamed 'low' and the same can be said for ratings 6,7, 8, and 9, which will be grouped together and renamed ' high'. If the observations in the test csv has a rating of 10, it will be grouped into very high as well."
   ]
  },
  {
   "cell_type": "code",
   "execution_count": null,
   "id": "bf9333c7",
   "metadata": {},
   "outputs": [],
   "source": [
    "Overall_Cond_mapping = {'1': 'low', '2': 'low', '3': 'low','4': 'low', '6': 'high','7': 'high',\n",
    "                        '8': 'high', '9': 'high'}\n",
    "                        \n",
    "data['Overall Cond'].replace(Overall_Cond_mapping, inplace = True)\n",
    "data['Overall Cond'].value_counts()\n",
    "# Based on results, remapped successfully."
   ]
  },
  {
   "cell_type": "code",
   "execution_count": null,
   "id": "84d5c1cd",
   "metadata": {},
   "outputs": [],
   "source": [
    "# Plotting for the remapped Overall Cond\n",
    "fig, axes = plt.subplots(1, 2,sharex=True, figsize=(12,7))\n",
    "fig.suptitle('Overall Cond relationship to SalePrice and Count')\n",
    "\n",
    "axes[0].set_title('Relationship between Overall Cond and SalePrice')\n",
    "sns.boxplot(ax=axes[0],x='Overall Cond', y=\"SalePrice\", hue='Overall Cond', data=data)\n",
    "\n",
    "axes[1].set_title('Count of each classification')\n",
    "sns.countplot(ax=axes[1],x='Overall Cond', data=data)"
   ]
  },
  {
   "cell_type": "markdown",
   "id": "ec4c237f",
   "metadata": {},
   "source": [
    "##### With the remapping, an interesting observation can be made - Overall Cond that are considered high have a lower median price that those that have rating of 5. Will keep this variable as there seems to be significant variation in boxplots depending on the rating of overall conditions."
   ]
  },
  {
   "cell_type": "code",
   "execution_count": null,
   "id": "f68cf04f",
   "metadata": {},
   "outputs": [],
   "source": [
    "# Plotting for Mo Sold\n",
    "month_order = ['Jan','Feb','Mar','Apr','May','Jun','Jul','Aug','Sep','Oct','Nov','Dec']\n",
    "fig, axes = plt.subplots(1, 2,sharex=True, figsize=(12,7))\n",
    "fig.suptitle('Mo Sold relationship to SalePrice and Count')\n",
    "\n",
    "axes[0].set_title('Relationship between Mo Sold and SalePrice')\n",
    "sns.boxplot(ax=axes[0],x='Mo Sold', y=\"SalePrice\", hue='Mo Sold', data=data, order = month_order)\n",
    "\n",
    "axes[1].set_title('Count of each classification')\n",
    "sns.countplot(ax=axes[1],x='Mo Sold', data=data, order = month_order)"
   ]
  },
  {
   "cell_type": "markdown",
   "id": "aaa9e1cc",
   "metadata": {},
   "source": [
    "##### It can be observed that the barplots of each month do not have significant variation and should be dropped."
   ]
  },
  {
   "cell_type": "code",
   "execution_count": null,
   "id": "0cab02e3",
   "metadata": {},
   "outputs": [],
   "source": [
    "data.drop(columns = 'Mo Sold', inplace = True)\n",
    "data.shape"
   ]
  },
  {
   "cell_type": "code",
   "execution_count": null,
   "id": "ec6e432a",
   "metadata": {},
   "outputs": [],
   "source": [
    "# Plotting for MS SubClass\n",
    "fig, axes = plt.subplots(1, 2,sharex=True, figsize=(12,7))\n",
    "fig.suptitle('MS SubClass relationship to SalePrice and Count')\n",
    "\n",
    "axes[0].set_title('Relationship between MS SubClass and SalePrice')\n",
    "sns.boxplot(ax=axes[0],x='MS SubClass', y=\"SalePrice\", hue='MS SubClass', data=data)\n",
    "\n",
    "axes[1].set_title('Count of each classification')\n",
    "sns.countplot(ax=axes[1],x='MS SubClass', data=data)"
   ]
  },
  {
   "cell_type": "markdown",
   "id": "d9e8c0bf",
   "metadata": {},
   "source": [
    "##### Given the low observartion counts of some subclasses of apartments, it would make sense to group them in another category that has a higher frequency."
   ]
  },
  {
   "cell_type": "code",
   "execution_count": null,
   "id": "e3119ba7",
   "metadata": {},
   "outputs": [],
   "source": [
    "MS_SubClass_mapping = {'180': '50', '190': '50', '85': '70','75': '70', '45': '50', '40': '50', '150': '20'}\n",
    "data['MS SubClass'].replace(MS_SubClass_mapping, inplace = True)\n",
    "data['MS SubClass'].value_counts()\n",
    "# Based on results, remapped successfully."
   ]
  },
  {
   "cell_type": "code",
   "execution_count": null,
   "id": "5d506313",
   "metadata": {},
   "outputs": [],
   "source": [
    "# Plotting for the updated MS SubClass\n",
    "fig, axes = plt.subplots(1, 2,sharex=True, figsize=(12,7))\n",
    "fig.suptitle('MS SubClass relationship to SalePrice and Count')\n",
    "\n",
    "axes[0].set_title('Relationship between MS SubClass and SalePrice')\n",
    "sns.boxplot(ax=axes[0],x='MS SubClass', y=\"SalePrice\", hue='MS SubClass', data=data)\n",
    "\n",
    "axes[1].set_title('Count of each classification')\n",
    "sns.countplot(ax=axes[1],x='MS SubClass', data=data)"
   ]
  },
  {
   "cell_type": "markdown",
   "id": "df829da4",
   "metadata": {},
   "source": [
    "##### It can be seen that each remapped class now each has a higher frequency with significant variation in the boxplots."
   ]
  },
  {
   "cell_type": "code",
   "execution_count": null,
   "id": "cf0e121b",
   "metadata": {},
   "outputs": [],
   "source": [
    "# Plotting for MS Zoning\n",
    "fig, axes = plt.subplots(1, 2,sharex=True, figsize=(12,7))\n",
    "fig.suptitle('MS Zoning relationship to SalePrice and Count')\n",
    "\n",
    "axes[0].set_title('Relationship between MS Zoning and SalePrice')\n",
    "sns.boxplot(ax=axes[0],x='MS Zoning', y=\"SalePrice\", hue='MS Zoning', data=data)\n",
    "\n",
    "axes[1].set_title('Count of each classification')\n",
    "sns.countplot(ax=axes[1],x='MS Zoning', data=data)"
   ]
  },
  {
   "cell_type": "markdown",
   "id": "e0ff4ea2",
   "metadata": {},
   "source": [
    "##### Based on this plot, we can see that Residential Low Density classification (RL) of the Sale region (MS Zoning) is disproportionately represented and should not be used in the prediction model."
   ]
  },
  {
   "cell_type": "code",
   "execution_count": null,
   "id": "2773a121",
   "metadata": {},
   "outputs": [],
   "source": [
    "data.drop(columns = 'MS Zoning', inplace = True)\n",
    "data.shape"
   ]
  },
  {
   "cell_type": "code",
   "execution_count": null,
   "id": "d99f056b",
   "metadata": {},
   "outputs": [],
   "source": [
    "# Plotting for Street\n",
    "fig, axes = plt.subplots(1, 2,sharex=True, figsize=(12,7))\n",
    "fig.suptitle('Street relationship to SalePrice and Count')\n",
    "\n",
    "axes[0].set_title('Relationship between Street and SalePrice')\n",
    "sns.boxplot(ax=axes[0],x='Street', y=\"SalePrice\", hue='Street', data=data)\n",
    "\n",
    "axes[1].set_title('Count of each classification')\n",
    "sns.countplot(ax=axes[1],x='Street', data=data)"
   ]
  },
  {
   "cell_type": "markdown",
   "id": "03343471",
   "metadata": {},
   "source": [
    "##### Based on this plot, we can see that Pavement (Pave) type of Road leading up to the property (Street) is disproportionately represented and should not be used in the prediction model."
   ]
  },
  {
   "cell_type": "code",
   "execution_count": null,
   "id": "5e1bfbd5",
   "metadata": {},
   "outputs": [],
   "source": [
    "data.drop(columns = 'Street', inplace = True)\n",
    "data.shape"
   ]
  },
  {
   "cell_type": "code",
   "execution_count": null,
   "id": "462f21dc",
   "metadata": {},
   "outputs": [],
   "source": [
    "# Plotting for Lot Shape\n",
    "fig, axes = plt.subplots(1, 2,sharex=True, figsize=(12,7))\n",
    "fig.suptitle('Lot Shape relationship to SalePrice and Count')\n",
    "\n",
    "axes[0].set_title('Relationship between Lot Shape and SalePrice')\n",
    "sns.boxplot(ax=axes[0],x='Lot Shape', y=\"SalePrice\", hue='Lot Shape', data=data)\n",
    "\n",
    "axes[1].set_title('Count of each classification')\n",
    "sns.countplot(ax=axes[1],x='Lot Shape', data=data)"
   ]
  },
  {
   "cell_type": "markdown",
   "id": "5d2a0b43",
   "metadata": {},
   "source": [
    "##### Given the low frequency of IR2 and IR3, and the relatively closeness of IR1, IR2 and IR3 in the box plot, these 3 categories should be combined."
   ]
  },
  {
   "cell_type": "code",
   "execution_count": null,
   "id": "9756be23",
   "metadata": {},
   "outputs": [],
   "source": [
    "Lot_Shape_mapping = {'IR1': 'IR', 'IR2': 'IR', 'IR3': 'IR'}\n",
    "data['Lot Shape'].replace(Lot_Shape_mapping, inplace = True)\n",
    "data['Lot Shape'].value_counts()\n",
    "# Based on results, remapped successfully."
   ]
  },
  {
   "cell_type": "code",
   "execution_count": null,
   "id": "9becbd8b",
   "metadata": {},
   "outputs": [],
   "source": [
    "# Plotting for the remapped Lot Shape\n",
    "fig, axes = plt.subplots(1, 2,sharex=True, figsize=(12,7))\n",
    "fig.suptitle('Lot Shape relationship to SalePrice and Count')\n",
    "\n",
    "axes[0].set_title('Relationship between Lot Shape and SalePrice')\n",
    "sns.boxplot(ax=axes[0],x='Lot Shape', y=\"SalePrice\", hue='Lot Shape', data=data)\n",
    "\n",
    "axes[1].set_title('Count of each classification')\n",
    "sns.countplot(ax=axes[1],x='Lot Shape', data=data)"
   ]
  },
  {
   "cell_type": "code",
   "execution_count": null,
   "id": "787ff874",
   "metadata": {},
   "outputs": [],
   "source": [
    "# Plotting for Land Contour\n",
    "fig, axes = plt.subplots(1, 2,sharex=True, figsize=(12,7))\n",
    "fig.suptitle('Land Contour relationship to SalePrice and Count')\n",
    "\n",
    "axes[0].set_title('Relationship between Land Contour and SalePrice')\n",
    "sns.boxplot(ax=axes[0],x='Land Contour', y=\"SalePrice\", hue='Land Contour', data=data)\n",
    "\n",
    "axes[1].set_title('Count of each classification')\n",
    "sns.countplot(ax=axes[1],x='Land Contour', data=data)"
   ]
  },
  {
   "cell_type": "markdown",
   "id": "b93fe97f",
   "metadata": {},
   "source": [
    "##### Based on this plot, we can see that Near Flat/ Level (Lvl) flatness of the property (Land Contour) is disproportionately represented and should not be used in the prediction model."
   ]
  },
  {
   "cell_type": "code",
   "execution_count": null,
   "id": "d0417032",
   "metadata": {},
   "outputs": [],
   "source": [
    "data.drop(columns = 'Land Contour', inplace = True)\n",
    "data.shape"
   ]
  },
  {
   "cell_type": "code",
   "execution_count": null,
   "id": "8e9a5e5c",
   "metadata": {},
   "outputs": [],
   "source": [
    "# Plotting for Utilities\n",
    "fig, axes = plt.subplots(1, 2,sharex=True, figsize=(12,7))\n",
    "fig.suptitle('Utilities relationship to SalePrice and Count')\n",
    "\n",
    "axes[0].set_title('Relationship between Utilities and SalePrice')\n",
    "sns.boxplot(ax=axes[0],x='Utilities', y=\"SalePrice\", hue='Utilities', data=data)\n",
    "\n",
    "axes[1].set_title('Count of each classification')\n",
    "sns.countplot(ax=axes[1],x='Utilities', data=data)"
   ]
  },
  {
   "cell_type": "markdown",
   "id": "bc7de056",
   "metadata": {},
   "source": [
    "##### Based on this plot, we can see that All public utilities E,G,W,& S (AllPub) are available (Utilities) is disproportionately represented and should not be used in the prediction model."
   ]
  },
  {
   "cell_type": "code",
   "execution_count": null,
   "id": "b479fe68",
   "metadata": {},
   "outputs": [],
   "source": [
    "data.drop(columns = 'Utilities', inplace = True)\n",
    "data.shape"
   ]
  },
  {
   "cell_type": "code",
   "execution_count": null,
   "id": "2f0ff3fb",
   "metadata": {},
   "outputs": [],
   "source": [
    "# Plotting for Lot Config\n",
    "fig, axes = plt.subplots(1, 2,sharex=True, figsize=(12,7))\n",
    "fig.suptitle('Lot Config relationship to SalePrice and Count')\n",
    "\n",
    "axes[0].set_title('Relationship between Lot Config and SalePrice')\n",
    "sns.boxplot(ax=axes[0],x='Lot Config', y=\"SalePrice\", hue='Lot Config', data=data)\n",
    "\n",
    "axes[1].set_title('Count of each classification')\n",
    "sns.countplot(ax=axes[1],x='Lot Config', data=data)"
   ]
  },
  {
   "cell_type": "markdown",
   "id": "fd45e2cc",
   "metadata": {},
   "source": [
    "##### Given the closeness of the barplots of each of the category of Lot configuration (Lot Config) and the disproportionate representation of Inside lot (Inside), this variable should be dropped."
   ]
  },
  {
   "cell_type": "code",
   "execution_count": null,
   "id": "24b1a2c1",
   "metadata": {},
   "outputs": [],
   "source": [
    "data.drop(columns = 'Lot Config', inplace = True)\n",
    "data.shape"
   ]
  },
  {
   "cell_type": "code",
   "execution_count": null,
   "id": "6bf0817a",
   "metadata": {},
   "outputs": [],
   "source": [
    "# Plotting for Land Slope\n",
    "fig, axes = plt.subplots(1, 2,sharex=True, figsize=(12,7))\n",
    "fig.suptitle('Land Slope relationship to SalePrice and Count')\n",
    "\n",
    "axes[0].set_title('Relationship between Land Slope and SalePrice')\n",
    "sns.boxplot(ax=axes[0],x='Land Slope', y=\"SalePrice\", hue='Land Slope', data=data)\n",
    "\n",
    "axes[1].set_title('Count of each classification')\n",
    "sns.countplot(ax=axes[1],x='Land Slope', data=data)"
   ]
  },
  {
   "cell_type": "markdown",
   "id": "8cb12e1d",
   "metadata": {},
   "source": [
    "##### Given the closeness of the barplots of each of the category of Slope of property (Land Slope) and the disproportionate representation of Gentle slope (Gtl), this variable should be dropped."
   ]
  },
  {
   "cell_type": "code",
   "execution_count": null,
   "id": "cdb81955",
   "metadata": {},
   "outputs": [],
   "source": [
    "data.drop(columns = 'Land Slope', inplace = True)\n",
    "data.shape"
   ]
  },
  {
   "cell_type": "code",
   "execution_count": null,
   "id": "3366af3b",
   "metadata": {},
   "outputs": [],
   "source": [
    "# Plotting for Neighborhood\n",
    "fig, axes = plt.subplots(1, 2,sharex=False, figsize=(12,7))\n",
    "fig.suptitle('Neighborhood relationship to SalePrice and Count')\n",
    "\n",
    "axes[0].set_title('Relationship between Neighborhood and SalePrice')\n",
    "sns.boxplot(ax=axes[0],y='Neighborhood', x=\"SalePrice\", hue='Neighborhood', data=data)\n",
    "\n",
    "axes[1].set_title('Count of each classification')\n",
    "sns.countplot(ax=axes[1],y='Neighborhood', data=data)"
   ]
  },
  {
   "cell_type": "markdown",
   "id": "ca8c179a",
   "metadata": {},
   "source": [
    "##### There is significant variation between the box plots, coupled with many categories having a sizeable frequency. One way to reduce dimensions (after one-hot encoding) would be to map neighborhood observations below 50 to take on the most commonly observed category - NAmes. This curation can be done better if we have geographical data to map group these categories into regions."
   ]
  },
  {
   "cell_type": "code",
   "execution_count": null,
   "id": "d646d417",
   "metadata": {},
   "outputs": [],
   "source": [
    "# First finding the count, then replace values with np.nan then fill na with the most observed value in Neighborhood.\n",
    "neighborhood_val_count = data['Neighborhood'].value_counts()\n",
    "\n",
    "# Create boolean that shows whether they meet the criteria\n",
    "filtered = data['Neighborhood'].isin(neighborhood_val_count.index[neighborhood_val_count < 50])\n",
    "data.loc[filtered, 'Neighborhood'] = np.nan\n",
    "\n",
    "# Imputing\n",
    "data['Neighborhood'] = data['Neighborhood'].fillna(data['Neighborhood'].mode()[0])\n",
    "\n",
    "# Check\n",
    "data['Neighborhood'].value_counts()"
   ]
  },
  {
   "cell_type": "code",
   "execution_count": null,
   "id": "95574aac",
   "metadata": {
    "scrolled": true
   },
   "outputs": [],
   "source": [
    "# Plotting the curated Neighborhood variable\n",
    "fig, axes = plt.subplots(1, 2,sharex=False, figsize=(12,7))\n",
    "fig.suptitle('Neighborhood relationship to SalePrice and Count')\n",
    "\n",
    "axes[0].set_title('Relationship between Neighborhood and SalePrice')\n",
    "sns.boxplot(ax=axes[0],y='Neighborhood', x=\"SalePrice\", hue='Neighborhood', data=data)\n",
    "\n",
    "axes[1].set_title('Count of each classification')\n",
    "sns.countplot(ax=axes[1],y='Neighborhood', data=data)"
   ]
  },
  {
   "cell_type": "markdown",
   "id": "7464068a",
   "metadata": {},
   "source": [
    "##### Can observe that there is significant variation of the boxplots, this feature will be used."
   ]
  },
  {
   "cell_type": "code",
   "execution_count": null,
   "id": "0af8e4be",
   "metadata": {},
   "outputs": [],
   "source": [
    "# Plotting for Condition 1 (Proximity to main road or railroad)\n",
    "fig, axes = plt.subplots(1, 2,sharex=True, figsize=(12,7))\n",
    "fig.suptitle('Proximity to main road or railroad relationship to SalePrice and Count')\n",
    "\n",
    "axes[0].set_title('Relationship between Proximity to main road or railroad and SalePrice')\n",
    "sns.boxplot(ax=axes[0],x='Condition 1', y=\"SalePrice\", hue='Condition 1', data=data)\n",
    "\n",
    "axes[1].set_title('Count of each classification')\n",
    "sns.countplot(ax=axes[1],x='Condition 1', data=data)"
   ]
  },
  {
   "cell_type": "markdown",
   "id": "4cc2c122",
   "metadata": {},
   "source": [
    "##### Based on this plot, we can see that Normal (Norm) proximity of the property to a main road or railroad (Condition 1) is disproportionately represented and should not be used in the prediction model."
   ]
  },
  {
   "cell_type": "code",
   "execution_count": null,
   "id": "d9e677f7",
   "metadata": {},
   "outputs": [],
   "source": [
    "data.drop(columns = 'Condition 1', inplace = True)\n",
    "data.shape"
   ]
  },
  {
   "cell_type": "code",
   "execution_count": null,
   "id": "57db513a",
   "metadata": {},
   "outputs": [],
   "source": [
    "# Plotting for Condition 2 (Proximity to secondary main road or railroad, if present)\n",
    "fig, axes = plt.subplots(1, 2,sharex=True, figsize=(12,7))\n",
    "fig.suptitle('Proximity to secondary main road or railroad relationship to SalePrice and Count')\n",
    "\n",
    "axes[0].set_title('Relationship between Proximity to secondary main road or railroad and SalePrice')\n",
    "sns.boxplot(ax=axes[0],x='Condition 2', y=\"SalePrice\", hue='Condition 2', data=data)\n",
    "\n",
    "axes[1].set_title('Count of each classification')\n",
    "sns.countplot(ax=axes[1],x='Condition 2', data=data)"
   ]
  },
  {
   "cell_type": "markdown",
   "id": "42ce4eb1",
   "metadata": {},
   "source": [
    "##### Based on this plot, we can see that Normal (Norm) proximity of the property to a secondary main road or railroad (Condition 2) is disproportionately represented and should not be used in the prediction model."
   ]
  },
  {
   "cell_type": "code",
   "execution_count": null,
   "id": "0950018f",
   "metadata": {},
   "outputs": [],
   "source": [
    "data.drop(columns = 'Condition 2', inplace = True)\n",
    "data.shape"
   ]
  },
  {
   "cell_type": "code",
   "execution_count": null,
   "id": "a66bec91",
   "metadata": {},
   "outputs": [],
   "source": [
    "# Plotting for Bldg Type\n",
    "fig, axes = plt.subplots(1, 2,sharex=True, figsize=(12,7))\n",
    "fig.suptitle('Bldg Type relationship to SalePrice and Count')\n",
    "\n",
    "axes[0].set_title('Relationship between Bldg Type and SalePrice')\n",
    "sns.boxplot(ax=axes[0],x='Bldg Type', y=\"SalePrice\", hue='Bldg Type', data=data)\n",
    "\n",
    "axes[1].set_title('Count of each classification')\n",
    "sns.countplot(ax=axes[1],x='Bldg Type', data=data)"
   ]
  },
  {
   "cell_type": "markdown",
   "id": "e429cb27",
   "metadata": {},
   "source": [
    "##### Based on this plot, we can see that Single Family Detached (1Fam) type of dwelling (Bldg Type) is disproportionately represented and should not be used in the prediction model."
   ]
  },
  {
   "cell_type": "code",
   "execution_count": null,
   "id": "55d91543",
   "metadata": {},
   "outputs": [],
   "source": [
    "data.drop(columns = 'Bldg Type', inplace = True)\n",
    "data.shape"
   ]
  },
  {
   "cell_type": "code",
   "execution_count": null,
   "id": "c67433f4",
   "metadata": {},
   "outputs": [],
   "source": [
    "# Plotting for House Style\n",
    "fig, axes = plt.subplots(1, 2,sharex=True, figsize=(12,7))\n",
    "fig.suptitle('House Style relationship to SalePrice and Count')\n",
    "\n",
    "axes[0].set_title('Relationship between House Style and SalePrice')\n",
    "sns.boxplot(ax=axes[0],x='House Style', y=\"SalePrice\", hue='House Style', data=data)\n",
    "\n",
    "axes[1].set_title('Count of each classification')\n",
    "sns.countplot(ax=axes[1],x='House Style', data=data)"
   ]
  },
  {
   "cell_type": "markdown",
   "id": "344e9da8",
   "metadata": {},
   "source": [
    "##### It can be observed that based on the description of categories, as well as the boxplots, we are able to reduce dimentionality. Specifically, we can combine the categories as follows:\n",
    "\n",
    "- 1.5Fin and SFoyer\n",
    "- 2Story and Slvl\n",
    "- 2Story and 2.5Unf\n",
    "- 2Story and 2.5Fin\n",
    "- 1.5Fin and 1.5Unf"
   ]
  },
  {
   "cell_type": "code",
   "execution_count": null,
   "id": "839e5c85",
   "metadata": {},
   "outputs": [],
   "source": [
    "House_Style_mapping = {'SFoyer': '1.5Fin', 'SLvl': '2Story', '2.5Unf': '2Story', \n",
    "                       '2.5Fin': '2Story', '1.5Unf': '1.5Fin'}\n",
    "\n",
    "data['House Style'].replace(House_Style_mapping, inplace = True)\n",
    "data['House Style'].value_counts()\n",
    "# Mapping done successfully"
   ]
  },
  {
   "cell_type": "code",
   "execution_count": null,
   "id": "7282bd40",
   "metadata": {},
   "outputs": [],
   "source": [
    "# Plotting the curated House Style\n",
    "fig, axes = plt.subplots(1, 2,sharex=True, figsize=(12,7))\n",
    "fig.suptitle('House Style relationship to SalePrice and Count')\n",
    "\n",
    "axes[0].set_title('Relationship between House Style and SalePrice')\n",
    "sns.boxplot(ax=axes[0],x='House Style', y=\"SalePrice\", hue='House Style', data=data)\n",
    "\n",
    "axes[1].set_title('Count of each classification')\n",
    "sns.countplot(ax=axes[1],x='House Style', data=data)"
   ]
  },
  {
   "cell_type": "markdown",
   "id": "7606493d",
   "metadata": {},
   "source": [
    "##### Based on the variation of the box plots and the high frequency of each category, this feature will be kept."
   ]
  },
  {
   "cell_type": "code",
   "execution_count": null,
   "id": "56f69382",
   "metadata": {},
   "outputs": [],
   "source": [
    "# Plotting for Roof Style\n",
    "fig, axes = plt.subplots(1, 2,sharex=True, figsize=(12,7))\n",
    "fig.suptitle('Roof Style relationship to SalePrice and Count')\n",
    "\n",
    "axes[0].set_title('Relationship between Roof Style and SalePrice')\n",
    "sns.boxplot(ax=axes[0],x='Roof Style', y=\"SalePrice\", hue='Roof Style', data=data)\n",
    "\n",
    "axes[1].set_title('Count of each classification')\n",
    "sns.countplot(ax=axes[1],x='Roof Style', data=data)"
   ]
  },
  {
   "cell_type": "markdown",
   "id": "831af56c",
   "metadata": {},
   "source": [
    "##### Based on this plot, we can see that Gable (Gable) type of roof (Roof Style) is disproportionately represented and should not be used in the prediction model."
   ]
  },
  {
   "cell_type": "code",
   "execution_count": null,
   "id": "89495870",
   "metadata": {},
   "outputs": [],
   "source": [
    "data.drop(columns = 'Roof Style', inplace = True)\n",
    "data.shape"
   ]
  },
  {
   "cell_type": "code",
   "execution_count": null,
   "id": "33b5e41b",
   "metadata": {},
   "outputs": [],
   "source": [
    "# Plotting for Roof Material\n",
    "fig, axes = plt.subplots(1, 2,sharex=True, figsize=(12,7))\n",
    "fig.suptitle('Roof Matl relationship to SalePrice and Count')\n",
    "\n",
    "axes[0].set_title('Relationship between Roof Matl and SalePrice')\n",
    "sns.boxplot(ax=axes[0],x='Roof Matl', y=\"SalePrice\", hue='Roof Matl', data=data)\n",
    "\n",
    "axes[1].set_title('Count of each classification')\n",
    "sns.countplot(ax=axes[1],x='Roof Matl', data=data)"
   ]
  },
  {
   "cell_type": "markdown",
   "id": "00924605",
   "metadata": {},
   "source": [
    "##### Based on this plot, we can see that Standard Composite Shingle (CompShg ) material of roof (Roof Matl) is disproportionately represented and should not be used in the prediction model."
   ]
  },
  {
   "cell_type": "code",
   "execution_count": null,
   "id": "1c5fbca1",
   "metadata": {},
   "outputs": [],
   "source": [
    "data.drop(columns = 'Roof Matl', inplace = True)\n",
    "data.shape"
   ]
  },
  {
   "cell_type": "code",
   "execution_count": null,
   "id": "95776521",
   "metadata": {},
   "outputs": [],
   "source": [
    "# Plotting for Exterior 1st (Exterior covering on house)\n",
    "fig, axes = plt.subplots(1, 2,sharex=False, figsize=(12,7))\n",
    "fig.suptitle('Exterior 1st relationship to SalePrice and Count')\n",
    "\n",
    "axes[0].set_title('Relationship between Exterior 1st and SalePrice')\n",
    "sns.boxplot(ax=axes[0],y='Exterior 1st', x=\"SalePrice\", hue='Exterior 1st', data=data)\n",
    "\n",
    "axes[1].set_title('Count of each classification')\n",
    "sns.countplot(ax=axes[1],y='Exterior 1st', data=data)"
   ]
  },
  {
   "cell_type": "markdown",
   "id": "39fd0044",
   "metadata": {},
   "source": [
    "##### Given the significant variation of each exterior covering on house (Exterior 1st), the non-negligible frequency of many categories, and the lack of contextual sense to combine categories for this feature, this feature will be kept without transformation."
   ]
  },
  {
   "cell_type": "code",
   "execution_count": null,
   "id": "30ea9a81",
   "metadata": {},
   "outputs": [],
   "source": [
    "# Plotting for Exterior 2nd (Exterior covering on house)\n",
    "fig, axes = plt.subplots(1, 2,sharex=False, figsize=(12,7))\n",
    "fig.suptitle('Exterior 2nd relationship to SalePrice and Count')\n",
    "\n",
    "axes[0].set_title('Relationship between Exterior 2nd and SalePrice')\n",
    "sns.boxplot(ax=axes[0],y='Exterior 2nd', x=\"SalePrice\", hue='Exterior 2nd', data=data)\n",
    "\n",
    "axes[1].set_title('Count of each classification')\n",
    "sns.countplot(ax=axes[1],y='Exterior 2nd', data=data)"
   ]
  },
  {
   "cell_type": "markdown",
   "id": "a08e4849",
   "metadata": {},
   "source": [
    "##### GIven the disproportionately high representation of Plywood, VinylSd, Wd Sdng, HdBoard, and MetalSd, and their respective boxplots being close to each other, this feature should be dropped."
   ]
  },
  {
   "cell_type": "code",
   "execution_count": null,
   "id": "572bd47a",
   "metadata": {},
   "outputs": [],
   "source": [
    "data.drop(columns = 'Exterior 2nd', inplace = True)\n",
    "data.shape"
   ]
  },
  {
   "cell_type": "code",
   "execution_count": null,
   "id": "94eaf524",
   "metadata": {},
   "outputs": [],
   "source": [
    "# Plotting for Mas Vnr Type\n",
    "fig, axes = plt.subplots(1, 2,sharex=True, figsize=(12,7))\n",
    "fig.suptitle('Mas Vnr Type relationship to SalePrice and Count')\n",
    "\n",
    "axes[0].set_title('Relationship between Mas Vnr Type and SalePrice')\n",
    "sns.boxplot(ax=axes[0],x='Mas Vnr Type', y=\"SalePrice\", hue='Mas Vnr Type', data=data)\n",
    "\n",
    "axes[1].set_title('Count of each classification')\n",
    "sns.countplot(ax=axes[1],x='Mas Vnr Type', data=data)"
   ]
  },
  {
   "cell_type": "markdown",
   "id": "33e26546",
   "metadata": {},
   "source": [
    "##### Given significant variation between the categories and the relatively small number of categories, Masonry veneer type (Mas Vnr Type) will be used without any transformation."
   ]
  },
  {
   "cell_type": "markdown",
   "id": "3aad2ad0",
   "metadata": {},
   "source": [
    "##### Given the low value count of each category and the closeness of many boxplots, this feature should be dropped."
   ]
  },
  {
   "cell_type": "code",
   "execution_count": null,
   "id": "54585624",
   "metadata": {},
   "outputs": [],
   "source": [
    "# Plotting for Exter Qual\n",
    "fig, axes = plt.subplots(1, 2,sharex=True, figsize=(12,7))\n",
    "fig.suptitle('Exter Qual relationship to SalePrice and Count')\n",
    "\n",
    "axes[0].set_title('Relationship between Exter Qual and SalePrice')\n",
    "sns.boxplot(ax=axes[0],x='Exter Qual', y=\"SalePrice\", hue='Exter Qual', data=data)\n",
    "\n",
    "axes[1].set_title('Count of each classification')\n",
    "sns.countplot(ax=axes[1],x='Exter Qual', data=data)"
   ]
  },
  {
   "cell_type": "markdown",
   "id": "b7312975",
   "metadata": {},
   "source": [
    "##### Given the significant variation between exterior material quality (Exter Qual) and relatively low number of categories, this feature will be used without transformation."
   ]
  },
  {
   "cell_type": "code",
   "execution_count": null,
   "id": "dcacb09b",
   "metadata": {},
   "outputs": [],
   "source": [
    "# Plotting for Exter Cond\n",
    "fig, axes = plt.subplots(1, 2,sharex=True, figsize=(12,7))\n",
    "fig.suptitle('Exter Cond relationship to SalePrice and Count')\n",
    "\n",
    "axes[0].set_title('Relationship between Exter Cond and SalePrice')\n",
    "sns.boxplot(ax=axes[0],x='Exter Cond', y=\"SalePrice\", hue='Exter Cond', data=data)\n",
    "\n",
    "axes[1].set_title('Count of each classification')\n",
    "sns.countplot(ax=axes[1],x='Exter Cond', data=data)"
   ]
  },
  {
   "cell_type": "markdown",
   "id": "96bc49fe",
   "metadata": {},
   "source": [
    "##### Given the high frequency of Average/Typical (TA) and Good (Gd) condition of the material on the exterior (Exter Cond), and based on the box plot, they do not vary significantly, this feature will be dropped."
   ]
  },
  {
   "cell_type": "code",
   "execution_count": null,
   "id": "df2ee39d",
   "metadata": {},
   "outputs": [],
   "source": [
    "data.drop(columns = 'Exter Cond', inplace = True)\n",
    "data.shape"
   ]
  },
  {
   "cell_type": "code",
   "execution_count": null,
   "id": "f9975dcf",
   "metadata": {},
   "outputs": [],
   "source": [
    "# Plotting for Foundation\n",
    "fig, axes = plt.subplots(1, 2,sharex=True, figsize=(12,7))\n",
    "fig.suptitle('Foundation relationship to SalePrice and Count')\n",
    "\n",
    "axes[0].set_title('Relationship between Foundation and SalePrice')\n",
    "sns.boxplot(ax=axes[0],x='Foundation', y=\"SalePrice\", hue='Foundation', data=data)\n",
    "\n",
    "axes[1].set_title('Count of each classification')\n",
    "sns.countplot(ax=axes[1],x='Foundation', data=data)"
   ]
  },
  {
   "cell_type": "markdown",
   "id": "c8c574cc",
   "metadata": {},
   "source": [
    "##### Given the siginificant variation of the boxplots of the categories in type of foundation (Foundation) and some categories having a high observation count, especially Cblock, PConc , and BrkTil , the feature will be used without transformation"
   ]
  },
  {
   "cell_type": "code",
   "execution_count": null,
   "id": "4cf8866a",
   "metadata": {},
   "outputs": [],
   "source": [
    "data['Bsmt Qual'].value_counts()"
   ]
  },
  {
   "cell_type": "code",
   "execution_count": null,
   "id": "9828bcd3",
   "metadata": {},
   "outputs": [],
   "source": [
    "# Plotting for Bsmt Qual\n",
    "fig, axes = plt.subplots(1, 2,sharex=True, figsize=(12,7))\n",
    "fig.suptitle('Bsmt Qual relationship to SalePrice and Count')\n",
    "\n",
    "axes[0].set_title('Relationship between Bsmt Qual and SalePrice')\n",
    "sns.boxplot(ax=axes[0],x='Bsmt Qual', y=\"SalePrice\", hue='Bsmt Qual', data=data)\n",
    "\n",
    "axes[1].set_title('Count of each classification')\n",
    "sns.countplot(ax=axes[1],x='Bsmt Qual', data=data)"
   ]
  },
  {
   "cell_type": "markdown",
   "id": "b88e18ed",
   "metadata": {},
   "source": [
    "##### Given the siginificant variation of the boxplots of the categories in height of the basement (Bsmt Qual) and some categories having a high observation count, especially TA, Gd, and Ex , the feature will be used without transformation."
   ]
  },
  {
   "cell_type": "code",
   "execution_count": null,
   "id": "d0115aa2",
   "metadata": {},
   "outputs": [],
   "source": [
    "# Plotting for Bsmt Cond\n",
    "fig, axes = plt.subplots(1, 2,sharex=True, figsize=(12,7))\n",
    "fig.suptitle('Bsmt Cond relationship to SalePrice and Count')\n",
    "\n",
    "axes[0].set_title('Relationship between Bsmt Cond and SalePrice')\n",
    "sns.boxplot(ax=axes[0],x='Bsmt Cond', y=\"SalePrice\", hue='Bsmt Cond', data=data)\n",
    "\n",
    "axes[1].set_title('Count of each classification')\n",
    "sns.countplot(ax=axes[1],x='Bsmt Cond', data=data)"
   ]
  },
  {
   "cell_type": "markdown",
   "id": "7dfca607",
   "metadata": {},
   "source": [
    "##### Based on this plot, we can see that Typical (TA) general condition of the basement (BsmtCond) is disproportionately represented and should not be used in the prediction model."
   ]
  },
  {
   "cell_type": "code",
   "execution_count": null,
   "id": "9d9f3a11",
   "metadata": {},
   "outputs": [],
   "source": [
    "data.drop(columns = 'Bsmt Cond', inplace = True)\n",
    "data.shape"
   ]
  },
  {
   "cell_type": "code",
   "execution_count": null,
   "id": "54520ca2",
   "metadata": {},
   "outputs": [],
   "source": [
    "# Plotting for Bsmt Exposure\n",
    "fig, axes = plt.subplots(1, 2,sharex=True, figsize=(12,7))\n",
    "fig.suptitle('Bsmt Exposure relationship to SalePrice and Count')\n",
    "\n",
    "axes[0].set_title('Relationship between Bsmt Exposure and SalePrice')\n",
    "sns.boxplot(ax=axes[0],x='Bsmt Exposure', y=\"SalePrice\", hue='Bsmt Exposure', data=data)\n",
    "\n",
    "axes[1].set_title('Count of each classification')\n",
    "sns.countplot(ax=axes[1],x='Bsmt Exposure', data=data)"
   ]
  },
  {
   "cell_type": "markdown",
   "id": "e53ac0bd",
   "metadata": {},
   "source": [
    "##### Given the siginificant variation of the boxplots of the categories in exposure to walkout or garden level basement walls (Bsmt Exposure) and each categories having a sizeable count, the feature will be used without transformation."
   ]
  },
  {
   "cell_type": "code",
   "execution_count": null,
   "id": "2bfc327b",
   "metadata": {},
   "outputs": [],
   "source": [
    "# Plotting for BsmtFin Type 1\n",
    "fig, axes = plt.subplots(1, 2,sharex=True, figsize=(12,7))\n",
    "fig.suptitle('BsmtFin Type 1 relationship to SalePrice and Count')\n",
    "\n",
    "axes[0].set_title('Relationship between BsmtFin Type 1 and SalePrice')\n",
    "sns.boxplot(ax=axes[0],x='BsmtFin Type 1', y=\"SalePrice\", hue='BsmtFin Type 1', data=data)\n",
    "\n",
    "axes[1].set_title('Count of each classification')\n",
    "sns.countplot(ax=axes[1],x='BsmtFin Type 1', data=data)"
   ]
  },
  {
   "cell_type": "markdown",
   "id": "35f02e33",
   "metadata": {},
   "source": [
    "##### Given the boxplots, there is variation between the categories of quality of basement finished area (BsmtFin Type 1), with each category having significant frequency. This feature will be used without transformation."
   ]
  },
  {
   "cell_type": "code",
   "execution_count": null,
   "id": "d8ff1fbf",
   "metadata": {},
   "outputs": [],
   "source": [
    "# Plotting for BsmtFin Type 2\n",
    "fig, axes = plt.subplots(1, 2,sharex=True, figsize=(12,7))\n",
    "fig.suptitle('BsmtFin Type 2 relationship to SalePrice and Count')\n",
    "\n",
    "axes[0].set_title('Relationship between BsmtFin Type 2 and SalePrice')\n",
    "sns.boxplot(ax=axes[0],x='BsmtFin Type 2', y=\"SalePrice\", hue='BsmtFin Type 2', data=data)\n",
    "\n",
    "axes[1].set_title('Count of each classification')\n",
    "sns.countplot(ax=axes[1],x='BsmtFin Type 2', data=data)"
   ]
  },
  {
   "cell_type": "markdown",
   "id": "5864a74f",
   "metadata": {},
   "source": [
    "##### Based on this plot, we can see that unfinished (Unf) quality of the second finished area (BsmtFin Type 2) is disproportionately represented and should not be used in the prediction model."
   ]
  },
  {
   "cell_type": "code",
   "execution_count": null,
   "id": "09ee0020",
   "metadata": {},
   "outputs": [],
   "source": [
    "data.drop(columns = 'BsmtFin Type 2', inplace = True)\n",
    "data.shape"
   ]
  },
  {
   "cell_type": "code",
   "execution_count": null,
   "id": "8fb85d0a",
   "metadata": {},
   "outputs": [],
   "source": [
    "# Plotting for Heating\n",
    "fig, axes = plt.subplots(1, 2,sharex=True, figsize=(12,7))\n",
    "fig.suptitle('Heating relationship to SalePrice and Count')\n",
    "\n",
    "axes[0].set_title('Relationship between Heating and SalePrice')\n",
    "sns.boxplot(ax=axes[0],x='Heating', y=\"SalePrice\", hue='Heating', data=data)\n",
    "\n",
    "axes[1].set_title('Count of each classification')\n",
    "sns.countplot(ax=axes[1],x='Heating', data=data)"
   ]
  },
  {
   "cell_type": "markdown",
   "id": "8884c8a0",
   "metadata": {},
   "source": [
    "##### Based on this plot, we can see that gas forced warm air furnace (GasA) type of heating (Heating) is disproportionately represented and should not be used in the prediction model."
   ]
  },
  {
   "cell_type": "code",
   "execution_count": null,
   "id": "bfbfbcd5",
   "metadata": {},
   "outputs": [],
   "source": [
    "data.drop(columns = 'Heating', inplace = True)\n",
    "data.shape"
   ]
  },
  {
   "cell_type": "code",
   "execution_count": null,
   "id": "3a2d130b",
   "metadata": {},
   "outputs": [],
   "source": [
    "# Plotting for Heating QC\n",
    "fig, axes = plt.subplots(1, 2,sharex=True, figsize=(12,7))\n",
    "fig.suptitle('Heating QC relationship to SalePrice and Count')\n",
    "\n",
    "axes[0].set_title('Relationship between Heating QC and SalePrice')\n",
    "sns.boxplot(ax=axes[0],x='Heating QC', y=\"SalePrice\", hue='Heating QC', data=data)\n",
    "\n",
    "axes[1].set_title('Count of each classification')\n",
    "sns.countplot(ax=axes[1],x='Heating QC', data=data)"
   ]
  },
  {
   "cell_type": "markdown",
   "id": "c7db671d",
   "metadata": {},
   "source": [
    "##### Given the high representation of GasA in type of heating shown in the previous plot, these plots here primarily shows the breakdown of heating quality of GasA. Though the majority of observations of heating quality and condition (Heating QC) is Excellent (Ex), there is significant variation in the boxplots and the observation size for TA and Gd are sizeable. This feature will be used without transformation."
   ]
  },
  {
   "cell_type": "code",
   "execution_count": null,
   "id": "a18b8bd9",
   "metadata": {},
   "outputs": [],
   "source": [
    "# Plotting for Central Air\n",
    "fig, axes = plt.subplots(1, 2,sharex=True, figsize=(12,7))\n",
    "fig.suptitle('Central Air relationship to SalePrice and Count')\n",
    "\n",
    "axes[0].set_title('Relationship between Central Air and SalePrice')\n",
    "sns.boxplot(ax=axes[0],x='Central Air', y=\"SalePrice\", hue='Central Air', data=data)\n",
    "\n",
    "axes[1].set_title('Count of each classification')\n",
    "sns.countplot(ax=axes[1],x='Central Air', data=data)"
   ]
  },
  {
   "cell_type": "markdown",
   "id": "fcbfb790",
   "metadata": {},
   "source": [
    "##### Based on this plot, we can see that the presence of a central air conditioning (Y) is disproportionately represented and should not be used in the prediction model."
   ]
  },
  {
   "cell_type": "code",
   "execution_count": null,
   "id": "d532bb09",
   "metadata": {},
   "outputs": [],
   "source": [
    "data.drop(columns = 'Central Air', inplace = True)\n",
    "data.shape"
   ]
  },
  {
   "cell_type": "code",
   "execution_count": null,
   "id": "4ed62094",
   "metadata": {},
   "outputs": [],
   "source": [
    "# Plotting for Electrical\n",
    "fig, axes = plt.subplots(1, 2,sharex=True, figsize=(12,7))\n",
    "fig.suptitle('Electrical relationship to SalePrice and Count')\n",
    "\n",
    "axes[0].set_title('Relationship between Electrical and SalePrice')\n",
    "sns.boxplot(ax=axes[0],x='Electrical', y=\"SalePrice\", hue='Electrical', data=data)\n",
    "\n",
    "axes[1].set_title('Count of each classification')\n",
    "sns.countplot(ax=axes[1],x='Electrical', data=data)"
   ]
  },
  {
   "cell_type": "markdown",
   "id": "dbc568d8",
   "metadata": {},
   "source": [
    "##### Based on this plot, we can see that the use of Standard Circuit Breakers & Romex (SBrkr) for the property's electric system (Electrical) is disproportionately represented and should not be used in the prediction model."
   ]
  },
  {
   "cell_type": "code",
   "execution_count": null,
   "id": "3f947660",
   "metadata": {},
   "outputs": [],
   "source": [
    "data.drop(columns = 'Electrical', inplace = True)\n",
    "data.shape"
   ]
  },
  {
   "cell_type": "code",
   "execution_count": null,
   "id": "e564e564",
   "metadata": {},
   "outputs": [],
   "source": [
    "data['Kitchen Qual'].value_counts()\n",
    "# Note that there are no Kitchen Qual = Po rows remaining"
   ]
  },
  {
   "cell_type": "code",
   "execution_count": null,
   "id": "06f69537",
   "metadata": {},
   "outputs": [],
   "source": [
    "# Plotting for Kitchen Qual\n",
    "fig, axes = plt.subplots(1, 2,sharex=True, figsize=(12,7))\n",
    "fig.suptitle('Kitchen Qual relationship to SalePrice and Count')\n",
    "\n",
    "axes[0].set_title('Relationship between Kitchen Qual and SalePrice')\n",
    "sns.boxplot(ax=axes[0],x='Kitchen Qual', y=\"SalePrice\", hue='Kitchen Qual', data=data)\n",
    "\n",
    "axes[1].set_title('Count of each classification')\n",
    "sns.countplot(ax=axes[1],x='Kitchen Qual', data=data)"
   ]
  },
  {
   "cell_type": "markdown",
   "id": "8904231e",
   "metadata": {},
   "source": [
    "##### Given the significant variation in the boxplots and small number of categories for the kitchen quality (Kitchen Qual), this feature will be used without transformation."
   ]
  },
  {
   "cell_type": "code",
   "execution_count": null,
   "id": "a44bb9a8",
   "metadata": {},
   "outputs": [],
   "source": [
    "# Plotting for Functional\n",
    "fig, axes = plt.subplots(1, 2,sharex=True, figsize=(12,7))\n",
    "fig.suptitle('Functional relationship to SalePrice and Count')\n",
    "\n",
    "axes[0].set_title('Relationship between Functional and SalePrice')\n",
    "sns.boxplot(ax=axes[0],x='Functional', y=\"SalePrice\", hue='Functional', data=data)\n",
    "\n",
    "axes[1].set_title('Count of each classification')\n",
    "sns.countplot(ax=axes[1],x='Functional', data=data)"
   ]
  },
  {
   "cell_type": "markdown",
   "id": "69a54fed",
   "metadata": {},
   "source": [
    "##### Based on this plot, we can see that the use of typical funcationality (Typ) of the home functionality rating (Functional) is disproportionately represented and should not be used in the prediction model."
   ]
  },
  {
   "cell_type": "code",
   "execution_count": null,
   "id": "e2bfb6d3",
   "metadata": {},
   "outputs": [],
   "source": [
    "data.drop(columns = 'Functional', inplace = True)\n",
    "data.shape"
   ]
  },
  {
   "cell_type": "code",
   "execution_count": null,
   "id": "6de8819f",
   "metadata": {},
   "outputs": [],
   "source": [
    "# Plotting for Fireplace Qu\n",
    "fig, axes = plt.subplots(1, 2,sharex=True, figsize=(12,7))\n",
    "fig.suptitle('Fireplace Qu relationship to SalePrice and Count')\n",
    "\n",
    "axes[0].set_title('Relationship between Fireplace Qu and SalePrice')\n",
    "sns.boxplot(ax=axes[0],x='Fireplace Qu', y=\"SalePrice\", hue='Fireplace Qu', data=data)\n",
    "\n",
    "axes[1].set_title('Count of each classification')\n",
    "sns.countplot(ax=axes[1],x='Fireplace Qu', data=data)"
   ]
  },
  {
   "cell_type": "markdown",
   "id": "bacbb6ba",
   "metadata": {},
   "source": [
    "##### Given the significant variation in boxplots and the non-negligible count especially in Good (Gd) and Average (TA) fireplace quality (Fireplace Qu), this feature will be used without transformation."
   ]
  },
  {
   "cell_type": "code",
   "execution_count": null,
   "id": "576fbb27",
   "metadata": {},
   "outputs": [],
   "source": [
    "# Plotting for Garage Type\n",
    "fig, axes = plt.subplots(1, 2,sharex=True, figsize=(12,7))\n",
    "fig.suptitle('Garage Type relationship to SalePrice and Count')\n",
    "\n",
    "axes[0].set_title('Relationship between Garage Type and SalePrice')\n",
    "sns.boxplot(ax=axes[0],x='Garage Type', y=\"SalePrice\", hue='Garage Type', data=data)\n",
    "\n",
    "axes[1].set_title('Count of each classification')\n",
    "sns.countplot(ax=axes[1],x='Garage Type', data=data)"
   ]
  },
  {
   "cell_type": "markdown",
   "id": "1868ca36",
   "metadata": {},
   "source": [
    "##### Given the significant variation in boxplots and the small count of Garage location (Garage Type), this feature will be used without transformation."
   ]
  },
  {
   "cell_type": "code",
   "execution_count": null,
   "id": "18801fae",
   "metadata": {},
   "outputs": [],
   "source": [
    "# Plotting for Garage Finish\n",
    "fig, axes = plt.subplots(1, 2,sharex=True, figsize=(12,7))\n",
    "fig.suptitle('Garage Finish relationship to SalePrice and Count')\n",
    "\n",
    "axes[0].set_title('Relationship between Garage Finish and SalePrice')\n",
    "sns.boxplot(ax=axes[0],x='Garage Finish', y=\"SalePrice\", hue='Garage Finish', data=data)\n",
    "\n",
    "axes[1].set_title('Count of each classification')\n",
    "sns.countplot(ax=axes[1],x='Garage Finish', data=data)"
   ]
  },
  {
   "cell_type": "markdown",
   "id": "49de5229",
   "metadata": {},
   "source": [
    "##### Given the variation and small count of status of interior finish of the garage (Garage Finish), this feature will be used without transformation."
   ]
  },
  {
   "cell_type": "code",
   "execution_count": null,
   "id": "ff68b663",
   "metadata": {},
   "outputs": [],
   "source": [
    "# Plotting for Garage Qual\n",
    "fig, axes = plt.subplots(1, 2,sharex=True, figsize=(12,7))\n",
    "fig.suptitle('Garage Qual relationship to SalePrice and Count')\n",
    "\n",
    "axes[0].set_title('Relationship between Garage Qual and SalePrice')\n",
    "sns.boxplot(ax=axes[0],x='Garage Qual', y=\"SalePrice\", hue='Garage Qual', data=data)\n",
    "\n",
    "axes[1].set_title('Count of each classification')\n",
    "sns.countplot(ax=axes[1],x='Garage Qual', data=data)"
   ]
  },
  {
   "cell_type": "markdown",
   "id": "e87d5979",
   "metadata": {},
   "source": [
    "##### Based on this plot, we can see that Average (TA) garage quality (Garage Qual) is disproportionately represented and should not be used in the prediction model."
   ]
  },
  {
   "cell_type": "code",
   "execution_count": null,
   "id": "c0108e79",
   "metadata": {},
   "outputs": [],
   "source": [
    "data.drop(columns = 'Garage Qual', inplace = True)\n",
    "data.shape"
   ]
  },
  {
   "cell_type": "code",
   "execution_count": null,
   "id": "4ac12760",
   "metadata": {},
   "outputs": [],
   "source": [
    "# Plotting for Garage Cond\n",
    "fig, axes = plt.subplots(1, 2,sharex=True, figsize=(12,7))\n",
    "fig.suptitle('Garage Cond relationship to SalePrice and Count')\n",
    "\n",
    "axes[0].set_title('Relationship between Garage Cond and SalePrice')\n",
    "sns.boxplot(ax=axes[0],x='Garage Cond', y=\"SalePrice\", hue='Garage Cond', data=data)\n",
    "\n",
    "axes[1].set_title('Count of each classification')\n",
    "sns.countplot(ax=axes[1],x='Garage Cond', data=data)"
   ]
  },
  {
   "cell_type": "markdown",
   "id": "5257bdb3",
   "metadata": {},
   "source": [
    "##### Based on this plot, we can see that Average (TA) garage condition (Garage Cond) is disproportionately represented and should not be used in the prediction model."
   ]
  },
  {
   "cell_type": "code",
   "execution_count": null,
   "id": "03cd55f0",
   "metadata": {},
   "outputs": [],
   "source": [
    "data.drop(columns = 'Garage Cond', inplace = True)\n",
    "data.shape"
   ]
  },
  {
   "cell_type": "code",
   "execution_count": null,
   "id": "5a088034",
   "metadata": {},
   "outputs": [],
   "source": [
    "# Plotting for Paved Drive\n",
    "fig, axes = plt.subplots(1, 2,sharex=True, figsize=(12,7))\n",
    "fig.suptitle('Paved Drive relationship to SalePrice and Count')\n",
    "\n",
    "axes[0].set_title('Relationship between Paved Drive and SalePrice')\n",
    "sns.boxplot(ax=axes[0],x='Paved Drive', y=\"SalePrice\", hue='Paved Drive', data=data)\n",
    "\n",
    "axes[1].set_title('Count of each classification')\n",
    "sns.countplot(ax=axes[1],x='Paved Drive', data=data)"
   ]
  },
  {
   "cell_type": "markdown",
   "id": "5b35ceba",
   "metadata": {},
   "source": [
    "##### Based on this plot, we can see that paved driveway (Y)  is disproportionately represented and should not be used in the prediction model."
   ]
  },
  {
   "cell_type": "code",
   "execution_count": null,
   "id": "128c62a0",
   "metadata": {},
   "outputs": [],
   "source": [
    "data.drop(columns = 'Paved Drive', inplace = True)\n",
    "data.shape"
   ]
  },
  {
   "cell_type": "code",
   "execution_count": null,
   "id": "13aacee7",
   "metadata": {},
   "outputs": [],
   "source": [
    "# Plotting for Sale Type\n",
    "fig, axes = plt.subplots(1, 2,sharex=True, figsize=(12,7))\n",
    "fig.suptitle('Sale Type relationship to SalePrice and Count')\n",
    "\n",
    "axes[0].set_title('Relationship between Sale Type and SalePrice')\n",
    "sns.boxplot(ax=axes[0],x='Sale Type', y=\"SalePrice\", hue='Sale Type', data=data)\n",
    "\n",
    "axes[1].set_title('Count of each classification')\n",
    "sns.countplot(ax=axes[1],x='Sale Type', data=data)"
   ]
  },
  {
   "cell_type": "markdown",
   "id": "51684dc3",
   "metadata": {},
   "source": [
    "##### Based on this plot, we can see that Warranty Deed - Conventional (WD) type of sale (Sale Type) is disproportionately represented and should not be used in the prediction model."
   ]
  },
  {
   "cell_type": "code",
   "execution_count": null,
   "id": "4ae4d149",
   "metadata": {},
   "outputs": [],
   "source": [
    "data.drop(columns = 'Sale Type', inplace = True)\n",
    "data.shape"
   ]
  },
  {
   "cell_type": "markdown",
   "id": "b96350db",
   "metadata": {},
   "source": [
    "### Summary of the Handling of Categorical Variables\n",
    "\n",
    "#### The following 24 categorical variables are removed:\n",
    "- Mo Sold\n",
    "- MS Zoning\n",
    "- Street\n",
    "- Land Contour\n",
    "- Utilities\n",
    "- Lot Config\n",
    "- Land Slope\n",
    "- Condition 1\n",
    "- Condition 2\n",
    "- Bldg Type\n",
    "- Roof Style\n",
    "- Roof Matl\n",
    "- Exterior 2nd\n",
    "- Exter Cond\n",
    "- Bsmt Cond\n",
    "- BsmtFin Type 2\n",
    "- Heating\n",
    "- Central Air\n",
    "- Electrical\n",
    "- Functional\n",
    "- Garage Qual\n",
    "- Garage Cond\n",
    "- Paved Drive\n",
    "- Sale Type\n",
    "\n",
    "#### The following 6 categorical variables are curated from combination of categories:\n",
    "- Overall Qual\n",
    "- Overall Cond\n",
    "- MS SubClass\n",
    "- Lot Shape\n",
    "- Neighborhood\n",
    "- House Style\n",
    "\n",
    "#### The following 12 categorical variables are not changed and will be used as is:\n",
    "- Exterior 1st\n",
    "- Mas Vnr Type\n",
    "- Exter Qual\n",
    "- Foundation\n",
    "- Bsmt Qual\n",
    "- Bsmt Exposure\n",
    "- BsmtFin Type 1\n",
    "- Heating QC\n",
    "- Kitchen Qual\n",
    "- Fireplace Qu\n",
    "- Garage Type\n",
    "- Garage Finish"
   ]
  },
  {
   "cell_type": "code",
   "execution_count": null,
   "id": "82f84fe6",
   "metadata": {},
   "outputs": [],
   "source": [
    "# To check\n",
    "cat_var = []\n",
    "for feature in data:\n",
    "    if data[feature].dtype == object:\n",
    "        cat_var.append(feature)\n",
    "    else:\n",
    "        pass\n",
    "cat_var"
   ]
  },
  {
   "cell_type": "code",
   "execution_count": null,
   "id": "527eecba",
   "metadata": {},
   "outputs": [],
   "source": [
    "print(\"There are {} remaining categorical variables after removing the abovementioned 24 categorical variables\".format(len(cat_var)))"
   ]
  },
  {
   "cell_type": "code",
   "execution_count": null,
   "id": "8e0a2e54",
   "metadata": {},
   "outputs": [],
   "source": [
    "data.shape"
   ]
  },
  {
   "cell_type": "markdown",
   "id": "3ee191ba",
   "metadata": {},
   "source": [
    "##### At this stage, this leaves us with a dataset with 2048 observations with 44 features, 26 are numerical and 18 are categorical."
   ]
  },
  {
   "cell_type": "markdown",
   "id": "5447b04d",
   "metadata": {},
   "source": [
    "### Investigating the SalePrice (Target Variable)"
   ]
  },
  {
   "cell_type": "code",
   "execution_count": null,
   "id": "346ae32c",
   "metadata": {},
   "outputs": [],
   "source": [
    "data['SalePrice'].describe()"
   ]
  },
  {
   "cell_type": "code",
   "execution_count": null,
   "id": "936ce890",
   "metadata": {},
   "outputs": [],
   "source": [
    "# Plotting the histogram of SalePrice\n",
    "plt.figure(figsize=(10,10))\n",
    "plt.hist(data['SalePrice'], bins = 30)\n",
    "plt.show()"
   ]
  },
  {
   "cell_type": "markdown",
   "id": "6e761c42",
   "metadata": {},
   "source": [
    "##### It can be observed that Sale Price of houses are not normally distributed, SalePrice has a right skew with the median being 162,500."
   ]
  },
  {
   "cell_type": "markdown",
   "id": "269ac86f",
   "metadata": {},
   "source": [
    "### Before training the models, there is a need to one-hot encode categorical variables."
   ]
  },
  {
   "cell_type": "code",
   "execution_count": null,
   "id": "94880414",
   "metadata": {},
   "outputs": [],
   "source": [
    "cat_var"
   ]
  },
  {
   "cell_type": "code",
   "execution_count": null,
   "id": "c8cedf35",
   "metadata": {},
   "outputs": [],
   "source": [
    "num_var1 = []\n",
    "for feature in data:\n",
    "    if data[feature].dtype != object:\n",
    "        num_var1.append(feature)\n",
    "    else:\n",
    "        pass\n",
    "num_var1"
   ]
  },
  {
   "cell_type": "code",
   "execution_count": null,
   "id": "cbbdcb2a",
   "metadata": {},
   "outputs": [],
   "source": [
    "len(num_var1)"
   ]
  },
  {
   "cell_type": "markdown",
   "id": "68559b8e",
   "metadata": {},
   "source": [
    "##### Have to distinguish the type of variables here in order to avoid categorizing binarized variables as numerical variables when normalizing."
   ]
  },
  {
   "cell_type": "markdown",
   "id": "038066a5",
   "metadata": {},
   "source": [
    "##### Out of the 18 categorical variables, there are 10 ordinal variables and 8 nominal variables.\n",
    "\n",
    "##### The nominal variables are:\n",
    "- MS SubClass\n",
    "- Lot Shape\n",
    "- Neighborhood\n",
    "- House Style\n",
    "- Exterior 1st\n",
    "- Mas Vnr Type\n",
    "- Garage Type\n",
    "- Foundation\n",
    "\n",
    "##### The ordinal variables are:\n",
    "- Overall Qual\n",
    "- Overall Cond\n",
    "- BsmtFin Type 1\n",
    "- Bsmt Exposure\n",
    "- Heating QC\n",
    "- Exter Qual\n",
    "- Kitchen Qual\n",
    "- Fireplace Qu\n",
    "- Garage Finish\n",
    "- Bsmt Qual"
   ]
  },
  {
   "cell_type": "code",
   "execution_count": null,
   "id": "fbbbeac1",
   "metadata": {},
   "outputs": [],
   "source": [
    "# Getting dummies for the 8 nominal variables\n",
    "nom_variables = ['MS SubClass', 'Lot Shape', 'Neighborhood', 'House Style', 'Exterior 1st',\n",
    "                 'Mas Vnr Type', 'Garage Type', 'Foundation']\n",
    "\n",
    "nom_dummies = pd.get_dummies(data = data[nom_variables], columns = nom_variables, drop_first = True)\n",
    "\n",
    "# Drop columns of original nominal variable in dataset\n",
    "data = data.drop(columns = nom_variables)\n",
    "\n",
    "# Concatenate the columns of dummy variables (with one less level) \n",
    "data = pd.concat([data, nom_dummies], axis=1)"
   ]
  },
  {
   "cell_type": "markdown",
   "id": "9405379a",
   "metadata": {},
   "source": [
    "##### As for the 10 ordinal variables, there is a need for greater care as the column to drop would be the lowest category where any other categories are expected to have a positive influence on SalePrice. This is done for greater interpretability."
   ]
  },
  {
   "cell_type": "code",
   "execution_count": null,
   "id": "aa1ace8e",
   "metadata": {},
   "outputs": [],
   "source": [
    "# Encoding Overall Qual\n",
    "overallqual_dummies = pd.get_dummies(data['Overall Qual'], prefix='Overall Qual')\n",
    "\n",
    "# Dropping the lowest category\n",
    "overallqual_dummies = overallqual_dummies.drop(columns = 'Overall Qual_very low')\n",
    "\n",
    "# Checking if lowest category is correctly dropped\n",
    "overallqual_dummies.value_counts()\n",
    "\n",
    "# Replacing Overall Qual column in data with these dummy columns\n",
    "data = data.drop(columns = 'Overall Qual')\n",
    "data = pd.concat([data, overallqual_dummies], axis=1)\n",
    "data.head()"
   ]
  },
  {
   "cell_type": "code",
   "execution_count": null,
   "id": "4a936f7c",
   "metadata": {},
   "outputs": [],
   "source": [
    "# Encoding Overall Cond\n",
    "overallcond_dummies = pd.get_dummies(data['Overall Cond'], prefix='Overall Cond')\n",
    "\n",
    "# Dropping the lowest category\n",
    "overallcond_dummies = overallcond_dummies.drop(columns = 'Overall Cond_low')\n",
    "\n",
    "# Checking if lowest category is correctly dropped\n",
    "overallcond_dummies.value_counts()\n",
    "\n",
    "# Replacing Overall Cond column in data with these dummy columns\n",
    "data = data.drop(columns = 'Overall Cond')\n",
    "data = pd.concat([data, overallcond_dummies], axis=1)\n",
    "data.head()"
   ]
  },
  {
   "cell_type": "code",
   "execution_count": null,
   "id": "d24308ec",
   "metadata": {},
   "outputs": [],
   "source": [
    "# Encoding BsmtFin Type 1\n",
    "bsmtfintype1_dummies = pd.get_dummies(data['BsmtFin Type 1'], prefix='BsmtFin Type 1')\n",
    "\n",
    "# Dropping the lowest category\n",
    "bsmtfintype1_dummies = bsmtfintype1_dummies.drop(columns = 'BsmtFin Type 1_Unf')\n",
    "\n",
    "# Checking if lowest category is correctly dropped\n",
    "bsmtfintype1_dummies.value_counts()\n",
    "\n",
    "# Replacing BsmtFin Type 1 column in data with these dummy columns\n",
    "data = data.drop(columns = 'BsmtFin Type 1')\n",
    "data = pd.concat([data, bsmtfintype1_dummies], axis=1)\n",
    "data.head()"
   ]
  },
  {
   "cell_type": "code",
   "execution_count": null,
   "id": "ae7bfba1",
   "metadata": {},
   "outputs": [],
   "source": [
    "# Encoding Bsmt Exposure\n",
    "bsmtexposure_dummies = pd.get_dummies(data['Bsmt Exposure'], prefix='Bsmt Exposure')\n",
    "\n",
    "# Dropping the lowest category\n",
    "bsmtexposure_dummies = bsmtexposure_dummies.drop(columns = 'Bsmt Exposure_No')\n",
    "\n",
    "# Checking if lowest category is correctly dropped\n",
    "bsmtexposure_dummies.value_counts()\n",
    "\n",
    "# Replacing Bsmt Exposure column in data with these dummy columns\n",
    "data = data.drop(columns = 'Bsmt Exposure')\n",
    "data = pd.concat([data, bsmtexposure_dummies], axis=1)\n",
    "data.head()"
   ]
  },
  {
   "cell_type": "code",
   "execution_count": null,
   "id": "4f56035f",
   "metadata": {},
   "outputs": [],
   "source": [
    "# Encoding Heating QC\n",
    "heatingqc_dummies = pd.get_dummies(data['Heating QC'], prefix='Heating QC')\n",
    "\n",
    "# Dropping the lowest category\n",
    "heatingqc_dummies = heatingqc_dummies.drop(columns = 'Heating QC_Po')\n",
    "\n",
    "# Checking if lowest category is correctly dropped\n",
    "heatingqc_dummies.value_counts()\n",
    "\n",
    "# Replacing Heating QC column in data with these dummy columns\n",
    "data = data.drop(columns = 'Heating QC')\n",
    "data = pd.concat([data, heatingqc_dummies], axis=1)\n",
    "data.head()"
   ]
  },
  {
   "cell_type": "code",
   "execution_count": null,
   "id": "872d3d71",
   "metadata": {},
   "outputs": [],
   "source": [
    "# Encoding Exter Qual\n",
    "exterqual_dummies = pd.get_dummies(data['Exter Qual'], prefix='Exter Qual')\n",
    "\n",
    "# Dropping the lowest category\n",
    "exterqual_dummies = exterqual_dummies.drop(columns = 'Exter Qual_Fa')\n",
    "\n",
    "# Checking if lowest category is correctly dropped\n",
    "exterqual_dummies.value_counts()\n",
    "\n",
    "# Replacing Exter Qual column in data with these dummy columns\n",
    "data = data.drop(columns = 'Exter Qual')\n",
    "data = pd.concat([data, exterqual_dummies], axis=1)\n",
    "data.head()"
   ]
  },
  {
   "cell_type": "code",
   "execution_count": null,
   "id": "a2002dfb",
   "metadata": {},
   "outputs": [],
   "source": [
    "# Encoding Kitchen Qual\n",
    "kitchenqual_dummies = pd.get_dummies(data['Kitchen Qual'], prefix='Kitchen Qual')\n",
    "\n",
    "# Dropping the lowest category\n",
    "kitchenqual_dummies = kitchenqual_dummies.drop(columns = 'Kitchen Qual_Fa')\n",
    "\n",
    "# Checking if lowest category is correctly dropped\n",
    "kitchenqual_dummies.value_counts()\n",
    "\n",
    "# Replacing Kitchen Qual column in data with these dummy columns\n",
    "data = data.drop(columns = 'Kitchen Qual')\n",
    "data = pd.concat([data, kitchenqual_dummies], axis=1)\n",
    "data.head()"
   ]
  },
  {
   "cell_type": "code",
   "execution_count": null,
   "id": "99863eb2",
   "metadata": {},
   "outputs": [],
   "source": [
    "# Encoding Fireplace Qu\n",
    "fireplacequ_dummies = pd.get_dummies(data['Fireplace Qu'], prefix='Fireplace Qu')\n",
    "\n",
    "# Dropping the lowest category\n",
    "fireplacequ_dummies = fireplacequ_dummies.drop(columns = 'Fireplace Qu_Po')\n",
    "\n",
    "# Checking if lowest category is correctly dropped\n",
    "fireplacequ_dummies.value_counts()\n",
    "\n",
    "# Replacing Fireplace Qu column in data with these dummy columns\n",
    "data = data.drop(columns = 'Fireplace Qu')\n",
    "data = pd.concat([data, fireplacequ_dummies], axis=1)\n",
    "data.head()"
   ]
  },
  {
   "cell_type": "code",
   "execution_count": null,
   "id": "c2a679fa",
   "metadata": {},
   "outputs": [],
   "source": [
    "# Encoding Garage Finish\n",
    "garagefinish_dummies = pd.get_dummies(data['Garage Finish'], prefix='Garage Finish')\n",
    "\n",
    "# Dropping the lowest category\n",
    "garagefinish_dummies = garagefinish_dummies.drop(columns = 'Garage Finish_Unf')\n",
    "\n",
    "# Checking if lowest category is correctly dropped\n",
    "garagefinish_dummies.value_counts()\n",
    "\n",
    "# Replacing Garage Finish column in data with these dummy columns\n",
    "data = data.drop(columns = 'Garage Finish')\n",
    "data = pd.concat([data, garagefinish_dummies], axis=1)\n",
    "data.head()"
   ]
  },
  {
   "cell_type": "code",
   "execution_count": null,
   "id": "1df967bc",
   "metadata": {},
   "outputs": [],
   "source": [
    "# Encoding Basement Qual\n",
    "basementqual_dummies = pd.get_dummies(data['Bsmt Qual'], prefix='Bsmt Qual')\n",
    "\n",
    "# Dropping the lowest category\n",
    "basementqual_dummies = basementqual_dummies.drop(columns = 'Bsmt Qual_Po')\n",
    "\n",
    "# Checking if lowest category is correctly dropped\n",
    "basementqual_dummies.value_counts()\n",
    "\n",
    "# Replacing Basement Qual column in data with these dummy columns\n",
    "data = data.drop(columns = 'Bsmt Qual')\n",
    "data = pd.concat([data, basementqual_dummies], axis=1)\n",
    "data.head()"
   ]
  },
  {
   "cell_type": "code",
   "execution_count": null,
   "id": "dc528365",
   "metadata": {},
   "outputs": [],
   "source": [
    "print(\"Currently, there are {} features in the dataset.\".format(data.shape[1]))"
   ]
  },
  {
   "cell_type": "code",
   "execution_count": null,
   "id": "ff236107",
   "metadata": {},
   "outputs": [],
   "source": [
    "data.shape"
   ]
  },
  {
   "cell_type": "markdown",
   "id": "177f3f07",
   "metadata": {},
   "source": [
    "### Creating Holdout subset in data"
   ]
  },
  {
   "cell_type": "code",
   "execution_count": null,
   "id": "4422bae0",
   "metadata": {},
   "outputs": [],
   "source": [
    "y  = data['SalePrice']\n",
    "X = data.loc[:, data.columns != 'SalePrice']"
   ]
  },
  {
   "cell_type": "code",
   "execution_count": null,
   "id": "4d6a3d2b",
   "metadata": {},
   "outputs": [],
   "source": [
    "X_train, X_test, y_train, y_test = train_test_split(X, y, random_state= 41)"
   ]
  },
  {
   "cell_type": "markdown",
   "id": "0691f9bb",
   "metadata": {},
   "source": [
    "### Next would be to normalize the numerical variables."
   ]
  },
  {
   "cell_type": "code",
   "execution_count": null,
   "id": "fdd7de0d",
   "metadata": {
    "scrolled": true
   },
   "outputs": [],
   "source": [
    "# Creating a new array to remove SalePrice because it should not be scaled\n",
    "num_var2 = num_var1[:]\n",
    "num_var2.remove('SalePrice')"
   ]
  },
  {
   "cell_type": "code",
   "execution_count": null,
   "id": "496cfe49",
   "metadata": {},
   "outputs": [],
   "source": [
    "assert 'SalePrice' not in num_var2"
   ]
  },
  {
   "cell_type": "code",
   "execution_count": null,
   "id": "94eb66aa",
   "metadata": {},
   "outputs": [],
   "source": [
    "scaler = StandardScaler()\n",
    "\n",
    "data[num_var2] = scaler.fit_transform(data[num_var2])\n",
    "\n",
    "# Need to define again, and this time round X are all the binarized categories and normalized cardinal values, and Y is the\n",
    "# normalized SalePrice\n",
    "X = data.loc[:, data.columns != 'SalePrice']\n",
    "y = data['SalePrice']\n",
    "\n",
    "# To check \n",
    "data['PropertyAge'].describe()\n",
    "# Results seem to show that the normalizing seems to work, i.e. mean being very close to 0 and std dev being very close to 1."
   ]
  },
  {
   "cell_type": "markdown",
   "id": "fb0f8197",
   "metadata": {},
   "source": [
    "### Linear Regression"
   ]
  },
  {
   "cell_type": "code",
   "execution_count": null,
   "id": "ebcecfa5",
   "metadata": {},
   "outputs": [],
   "source": [
    "# Linear Regression\n",
    "lr = LinearRegression()\n",
    "lr.fit(X_train, y_train)\n",
    "\n",
    "# Predicting based on test data\n",
    "lr_pred = lr.predict(X_test)"
   ]
  },
  {
   "cell_type": "code",
   "execution_count": null,
   "id": "6c49feb3",
   "metadata": {},
   "outputs": [],
   "source": [
    "# Train Score\n",
    "print('R-squared score is:', lr.score(X_train, y_train))"
   ]
  },
  {
   "cell_type": "code",
   "execution_count": null,
   "id": "dd1eeb7c",
   "metadata": {},
   "outputs": [],
   "source": [
    "# Cross validation Score, using an arbitrary 5 fold\n",
    "lr_score = cross_val_score(lr, X_train, y_train, scoring='neg_mean_squared_error', cv = 5).mean()\n",
    "lr_rmse = np.sqrt(-1 * lr_score)\n",
    "print('Cross Validation Root Square Mean Error is:',lr_rmse)"
   ]
  },
  {
   "cell_type": "code",
   "execution_count": null,
   "id": "13d5ae32",
   "metadata": {},
   "outputs": [],
   "source": [
    "# Test Score\n",
    "print('R-squared score is:',lr.score(X_test, y_test))\n",
    "print('Root Mean Squared Error is:',np.sqrt(metrics.mean_squared_error(lr_pred,y_test)))"
   ]
  },
  {
   "cell_type": "code",
   "execution_count": null,
   "id": "297e3f81",
   "metadata": {},
   "outputs": [],
   "source": [
    "# Plotting test SalePrice against predicted SalePrice from Lasso regression\n",
    "lr_plot = sns.jointplot(x = y_test, y = lr_pred)\n",
    "lr_plot.set_axis_labels('Actual Sale Price', 'Predicted Sale Price', fontsize=16)\n",
    "\n",
    "# Plotting a line of equality\n",
    "lr_plot.ax_joint.plot([0,600_000], [0,600_000], color = 'red', linewidth = 1, linestyle = 'dashed')"
   ]
  },
  {
   "cell_type": "markdown",
   "id": "5581809b",
   "metadata": {},
   "source": [
    "##### It can be observed that for SalePrice above 400,000, the points fall below the line of equality. This means that the Lasso Regression will under estimate property prices if the price of the house is greater than 400,000."
   ]
  },
  {
   "cell_type": "markdown",
   "id": "018eb568",
   "metadata": {},
   "source": [
    "### Lasso Regression"
   ]
  },
  {
   "cell_type": "code",
   "execution_count": null,
   "id": "1c402277",
   "metadata": {},
   "outputs": [],
   "source": [
    "# First find the optimal alpha using LassoCV to be used for cross validation later\n",
    "\n",
    "optimal_lasso = LassoCV(n_alphas=100, cv=5, verbose=1)\n",
    "optimal_lasso.fit(X_train, y_train)\n",
    "\n",
    "print (optimal_lasso.alpha_)"
   ]
  },
  {
   "cell_type": "code",
   "execution_count": null,
   "id": "1ded3973",
   "metadata": {},
   "outputs": [],
   "source": [
    "# Performing the Lasso regression\n",
    "lasso = Lasso(alpha=optimal_lasso.alpha_)\n",
    "\n",
    "lasso_scores = cross_val_score(lasso, X_train, y_train, scoring='neg_mean_squared_error', cv=5).mean()\n",
    "lasso_rmse = np.sqrt(-1* lasso_scores)\n",
    "print (\"Average Cross Val RMSE is:\", lasso_rmse)"
   ]
  },
  {
   "cell_type": "code",
   "execution_count": null,
   "id": "8b39dd8d",
   "metadata": {},
   "outputs": [],
   "source": [
    "# Lasso Regression\n",
    "ls = Lasso(alpha=optimal_lasso.alpha_)\n",
    "ls.fit(X_train, y_train)\n",
    "\n",
    "# Predicting based on test data\n",
    "ls_pred = ls.predict(X_test)"
   ]
  },
  {
   "cell_type": "code",
   "execution_count": null,
   "id": "e5b06b49",
   "metadata": {},
   "outputs": [],
   "source": [
    "# Test Score\n",
    "print('R-squared score is:',ls.score(X_test, y_test))\n",
    "print('Root Mean Squared Error is:',np.sqrt(metrics.mean_squared_error(ls_pred,y_test)))"
   ]
  },
  {
   "cell_type": "code",
   "execution_count": null,
   "id": "5da14891",
   "metadata": {},
   "outputs": [],
   "source": [
    "# Plotting test SalePrice against predicted SalePrice from Lasso regression\n",
    "lasso_plot = sns.jointplot(x = y_test, y = ls_pred)\n",
    "lasso_plot.set_axis_labels('Actual Sale Price', 'Predicted Sale Price', fontsize=16)\n",
    "\n",
    "# Plotting a line of equality\n",
    "lasso_plot.ax_joint.plot([0,600_000], [0,600_000], color = 'red', linewidth = 1, linestyle = 'dashed')"
   ]
  },
  {
   "cell_type": "markdown",
   "id": "58142630",
   "metadata": {},
   "source": [
    "##### It can be observed that for SalePrice above 400,000, the points fall below the line of equality. This means that the Lasso Regression will under estimate property prices if the price of the house is greater than 400,000."
   ]
  },
  {
   "cell_type": "markdown",
   "id": "a5a0a976",
   "metadata": {},
   "source": [
    "### Ridge Regression"
   ]
  },
  {
   "cell_type": "code",
   "execution_count": null,
   "id": "68dc599b",
   "metadata": {},
   "outputs": [],
   "source": [
    "# First find the optimal alpha using RidgeCV to be used for cross validation later\n",
    "\n",
    "ridge_alphas = np.logspace(0, 5, 100)\n",
    "\n",
    "optimal_ridge = RidgeCV(alphas=ridge_alphas, cv=5)\n",
    "optimal_ridge.fit(X_train, y_train)\n",
    "\n",
    "print (optimal_ridge.alpha_)"
   ]
  },
  {
   "cell_type": "code",
   "execution_count": null,
   "id": "eb937756",
   "metadata": {},
   "outputs": [],
   "source": [
    "# Performing cross validation Ridge regression \n",
    "\n",
    "ridge = Ridge(alpha=optimal_ridge.alpha_)\n",
    "\n",
    "ridge_scores = cross_val_score(ridge, X_train, y_train, scoring='neg_mean_squared_error', cv=5).mean()\n",
    "ridge_rmse = np.sqrt(-1 * ridge_scores)\n",
    "print (ridge_rmse)\n",
    "print (\"Cross Validation RMSE is:\",np.mean(ridge_rmse))"
   ]
  },
  {
   "cell_type": "code",
   "execution_count": null,
   "id": "4d1f1b60",
   "metadata": {},
   "outputs": [],
   "source": [
    "# Ridge Regression\n",
    "rr = Ridge(alpha=optimal_ridge.alpha_)\n",
    "rr.fit(X_train, y_train)\n",
    "\n",
    "# Predicting based on test data\n",
    "rr_pred = rr.predict(X_test)"
   ]
  },
  {
   "cell_type": "code",
   "execution_count": null,
   "id": "06734922",
   "metadata": {},
   "outputs": [],
   "source": [
    "# Test Score\n",
    "rr_r2 = rr.score(X_test, y_test)\n",
    "rr_rmse = np.sqrt(metrics.mean_squared_error(rr_pred,y_test))\n",
    "print('R-squared score is:',rr.score(X_test, y_test))\n",
    "print('Root Mean Squared Error is:',np.sqrt(metrics.mean_squared_error(rr_pred,y_test)))"
   ]
  },
  {
   "cell_type": "code",
   "execution_count": null,
   "id": "6fb29b1a",
   "metadata": {},
   "outputs": [],
   "source": [
    "# Plotting test SalePrice against predicted SalePrice from Ridge regression\n",
    "ridge_plot = sns.jointplot(x = y_test, y = rr_pred)\n",
    "ridge_plot.set_axis_labels('Actual Sale Price', 'Predicted Sale Price', fontsize=16)\n",
    "\n",
    "# Plotting a line of equality\n",
    "ridge_plot.ax_joint.plot([0,600_000], [0,600_000], color = 'red', linewidth = 1, linestyle = 'dashed')"
   ]
  },
  {
   "cell_type": "markdown",
   "id": "6d9f534a",
   "metadata": {},
   "source": [
    "##### It can be observed that for SalePrice above 400,000, the points fall below the line of equality. This means that the Ridge Regression will under estimate property prices if the price of the house is greater than 400,000."
   ]
  },
  {
   "cell_type": "markdown",
   "id": "3107aab7",
   "metadata": {},
   "source": [
    "##### Plotting residuals of Lasso and Ridge Regressions"
   ]
  },
  {
   "cell_type": "code",
   "execution_count": null,
   "id": "5f095b43",
   "metadata": {},
   "outputs": [],
   "source": [
    "lasso_resid = y_test - ls_pred\n",
    "ridge_resid = y_test - rr_pred"
   ]
  },
  {
   "cell_type": "code",
   "execution_count": null,
   "id": "d5fcb158",
   "metadata": {},
   "outputs": [],
   "source": [
    "# Plotting residuals of both plots\n",
    "lasso_ridge_residual_plot = sns.jointplot(lasso_resid, ridge_resid)\n",
    "lasso_ridge_residual_plot.set_axis_labels('Lasso Residuals', 'Ridge Residuals', fontsize=16)\n",
    "\n",
    "# Plotting a line of equality\n",
    "lasso_ridge_residual_plot.ax_joint.plot([-150_000, 300_000], [-150_000, 300_000], color = 'red', linewidth = 1, linestyle = 'dashed')"
   ]
  },
  {
   "cell_type": "markdown",
   "id": "e88cae4c",
   "metadata": {},
   "source": [
    "##### This plot shows that the assumption of homoskedasticity needed for linear, lasso, and ridge"
   ]
  },
  {
   "cell_type": "markdown",
   "id": "2f9f44a3",
   "metadata": {},
   "source": [
    "### Summary of Average Cross Validation RMSE of Linear, Lasso, and Ridge Regressions"
   ]
  },
  {
   "cell_type": "code",
   "execution_count": null,
   "id": "7212cb01",
   "metadata": {},
   "outputs": [],
   "source": [
    "print('The Average Cross Val RMSE of Linear Regression is: ',lr_rmse)\n",
    "print('The Average Cross Val RMSE of Lasso Regression is: ',lasso_rmse)\n",
    "print('The Average Cross Val RMSE of Ridge Regression is: ',ridge_rmse)"
   ]
  },
  {
   "cell_type": "markdown",
   "id": "5a9b4c04",
   "metadata": {},
   "source": [
    "### Summary of Test RMSE of Linear, Lasso, and Ridge Regressions"
   ]
  },
  {
   "cell_type": "code",
   "execution_count": null,
   "id": "9e97b618",
   "metadata": {},
   "outputs": [],
   "source": [
    "print('The Test RMSE of Linear Regression is: ',np.sqrt(metrics.mean_squared_error(lr_pred,y_test)))\n",
    "print('The Test RMSE of Lasso Regression is: ',np.sqrt(metrics.mean_squared_error(ls_pred,y_test)))\n",
    "print('The Test RMSE of Ridge Regression is: ',np.sqrt(metrics.mean_squared_error(rr_pred,y_test)))"
   ]
  },
  {
   "cell_type": "markdown",
   "id": "b50cd014",
   "metadata": {},
   "source": [
    "##### Based on the results above metrics, the Ridge Regression has the lowest average cross validation and test RSME. Thus, the chosen model will be the Ridge Regression model.\n",
    "\n",
    "##### The next step would be to look at the coefficients of the Ridge Regression and drop any variables that are close to zero. The goal is to tune the model so that we get a more stable model i.e. similar size coefficient values."
   ]
  },
  {
   "cell_type": "code",
   "execution_count": null,
   "id": "86f6dece",
   "metadata": {},
   "outputs": [],
   "source": [
    "# Create df for storing coefficients and their corresponding variable names\n",
    "ridge_coefficient_df = pd.DataFrame()\n",
    "\n",
    "# Storing all the column names of predictors\n",
    "ridge_coefficient_df['Column_Name'] = X_train.columns\n",
    "\n",
    "# Store coefficients of predictors\n",
    "ridge_coefficient_df['Coefficient_Value'] = pd.Series(rr.coef_)\n",
    "\n",
    "# Preview variables' coefficient values\n",
    "# The higher the values, the stronger effect the variables have on SalePrice\n",
    "ridge_coefficient_df['Absolute_Coeff'] = ridge_coefficient_df['Coefficient_Value'].abs()\n",
    "ridge_coefficient_df = ridge_coefficient_df.sort_values(by = 'Absolute_Coeff')\n",
    "print(ridge_coefficient_df)\n"
   ]
  },
  {
   "cell_type": "code",
   "execution_count": null,
   "id": "6aed6891",
   "metadata": {},
   "outputs": [],
   "source": [
    "# Plot the coefficent absolute values, in descending order\n",
    "plt.rcParams['figure.figsize'] = (15,25)\n",
    "plt.barh(ridge_coefficient_df[\"Column_Name\"], ridge_coefficient_df['Absolute_Coeff'])"
   ]
  },
  {
   "cell_type": "code",
   "execution_count": null,
   "id": "bd6f72c1",
   "metadata": {
    "scrolled": true
   },
   "outputs": [],
   "source": [
    "# Subsetting the explanatory variables with low coefficient values.\n",
    "low_coeff_var = ridge_coefficient_df.loc[ridge_coefficient_df['Absolute_Coeff'] <= 100]\n",
    "low_coeff_var"
   ]
  },
  {
   "cell_type": "code",
   "execution_count": null,
   "id": "861048d0",
   "metadata": {
    "scrolled": true
   },
   "outputs": [],
   "source": [
    "# Only extracting the column names to subset\n",
    "low_coeff_var_name = low_coeff_var['Column_Name']\n",
    "low_coeff_var_name"
   ]
  },
  {
   "cell_type": "code",
   "execution_count": null,
   "id": "a9fd172d",
   "metadata": {},
   "outputs": [],
   "source": [
    "len(low_coeff_var_name)"
   ]
  },
  {
   "cell_type": "code",
   "execution_count": null,
   "id": "79be66bd",
   "metadata": {},
   "outputs": [],
   "source": [
    "# Adding SalePrice column in the subset that will be used to exclude columns that are not explanatory variables\n",
    "# for the new ridge regression\n",
    "to_add = pd.Series(['SalePrice'])\n",
    "low_coeff_var_name = low_coeff_var_name.append(to_add)\n",
    "low_coeff_var_name"
   ]
  },
  {
   "cell_type": "code",
   "execution_count": null,
   "id": "f8469691",
   "metadata": {},
   "outputs": [],
   "source": [
    "len(low_coeff_var_name)"
   ]
  },
  {
   "cell_type": "code",
   "execution_count": null,
   "id": "7dd6d92a",
   "metadata": {
    "scrolled": true
   },
   "outputs": [],
   "source": [
    "len(data.columns)"
   ]
  },
  {
   "cell_type": "code",
   "execution_count": null,
   "id": "615a098c",
   "metadata": {},
   "outputs": [],
   "source": [
    "# Removing low_coeff_var_name from X columns\n",
    "all_col = pd.Series(data.columns)\n",
    "new_X_col = all_col[~all_col.isin(low_coeff_var_name)]"
   ]
  },
  {
   "cell_type": "code",
   "execution_count": null,
   "id": "431ef50c",
   "metadata": {},
   "outputs": [],
   "source": [
    "# To check that the number of columns in the new X is equal to all columns in the dataset minus the 14 dropped variables as well\n",
    "# as SalePrice\n",
    "assert len(new_X_col) == len(data.columns) - len(low_coeff_var_name)"
   ]
  },
  {
   "cell_type": "code",
   "execution_count": null,
   "id": "aa7856d2",
   "metadata": {
    "scrolled": true
   },
   "outputs": [],
   "source": [
    "# Creating new dataset of X variables that has a non-neglible coefficient based on Ridge regression\n",
    "new_X = data[new_X_col]\n",
    "new_X.head()"
   ]
  },
  {
   "cell_type": "code",
   "execution_count": null,
   "id": "85a301da",
   "metadata": {},
   "outputs": [],
   "source": [
    "# Check if the data is still normalized\n",
    "new_X['PropertyAge'].describe()\n",
    "# Can observe that results are still the same as before"
   ]
  },
  {
   "cell_type": "code",
   "execution_count": null,
   "id": "8630d7d5",
   "metadata": {},
   "outputs": [],
   "source": [
    "# Splitting dataset that now has fewer columns into the train/test sets\n",
    "X_train_new, X_test_new, y_train_new, y_test_new = train_test_split(new_X, y, random_state= 41)"
   ]
  },
  {
   "cell_type": "code",
   "execution_count": null,
   "id": "35e87b76",
   "metadata": {},
   "outputs": [],
   "source": [
    "# Performing Ridge regression (after dropped variables with small coefficients)\n",
    "\n",
    "ridge = Ridge(alpha=optimal_ridge.alpha_)\n",
    "\n",
    "ridge_scores_new = cross_val_score(ridge, X_train_new, y_train_new, scoring='neg_mean_squared_error', cv=5).mean()\n",
    "ridge_rmse_new = np.sqrt(-1 * ridge_scores_new)\n",
    "print (ridge_rmse)\n",
    "print (\"Cross Validation RMSE is:\",np.mean(ridge_rmse_new))"
   ]
  },
  {
   "cell_type": "code",
   "execution_count": null,
   "id": "f0dea46a",
   "metadata": {},
   "outputs": [],
   "source": [
    "ridge.fit(X_train_new, y_train_new)\n",
    "\n",
    "# Predicting based on test data (after dropped variables with small coefficients)\n",
    "rr_pred_refit = ridge.predict(X_test_new)"
   ]
  },
  {
   "cell_type": "code",
   "execution_count": null,
   "id": "eedf05da",
   "metadata": {},
   "outputs": [],
   "source": [
    "# Test Score\n",
    "print('R-squared score is:',ridge.score(X_test_new, y_test_new))\n",
    "print('Root Mean Squared Error is:',np.sqrt(metrics.mean_squared_error(rr_pred_refit,y_test_new)))"
   ]
  },
  {
   "cell_type": "code",
   "execution_count": null,
   "id": "ad4a886f",
   "metadata": {},
   "outputs": [],
   "source": [
    "# New Ridge Regression metrics\n",
    "rr_r2_refit = ridge.score(X_test_new, y_test_new)\n",
    "rr_rmse_refit = np.sqrt(metrics.mean_squared_error(rr_pred_refit,y_test_new))"
   ]
  },
  {
   "cell_type": "code",
   "execution_count": null,
   "id": "8a7e1271",
   "metadata": {},
   "outputs": [],
   "source": [
    "print(\"With the removal of {} variables due to them having small coefficients from the results of the ridge regression, the ridge regression on the now smaller data has seen a decrease in R-square from {} to {}, and test RMSE has increased from {} to {}.\".format(len(low_coeff_var_name)-1,rr_r2,rr_r2_refit,rr_rmse,rr_rmse_refit))"
   ]
  },
  {
   "cell_type": "markdown",
   "id": "2067ec41",
   "metadata": {},
   "source": [
    "##### For the purposes of getting a higher accuracy when predicting the SalePrice of the test set in the test csv, the 111 explanatory variables will be used (numerical and binarized categorical columns). This 111 columns are the same ones used to run the Linear Regression, Lasso Regression, and the first Ridge Regression."
   ]
  },
  {
   "cell_type": "markdown",
   "id": "01c1621f",
   "metadata": {},
   "source": [
    "# Cleaning the test data"
   ]
  },
  {
   "cell_type": "markdown",
   "id": "1e55d7d7",
   "metadata": {},
   "source": [
    "##### Now, we have to clean the test data in the test csv the same way we did with the data in the train csv, specifically:\n",
    "- Transform nomimal/ordinal categories but have integer values into categorical variables\n",
    "- Need to transform data, such as PropertyAge, PropertyModAge, and GarageAge\n",
    "- Dropping the variables that have been dropped in the data in train csv.\n",
    "- Remapping the categorical variables stated above, i.e. Overall Qual, Overall Cond, MS SubClass, Lot Shape, Neighborhood, and House Style.\n",
    "- Binarizing and dropping a level for nominal categories, and binarizing and dropping the lowest level for ordinal categories.\n",
    "- Imputing missing data the same method as in the train csv, before conducting the ridge regression."
   ]
  },
  {
   "cell_type": "code",
   "execution_count": null,
   "id": "3c4781e7",
   "metadata": {},
   "outputs": [],
   "source": [
    "raw_test_data = pd.read_csv('../data/test.csv')\n",
    "\n",
    "# One less column that the train csv because there is no SalePrice column\n",
    "assert raw_test_data.shape[1] == 81 - 1 "
   ]
  },
  {
   "cell_type": "code",
   "execution_count": null,
   "id": "dd14f13f",
   "metadata": {},
   "outputs": [],
   "source": [
    "# Drop PID but keep ID for submission purposes\n",
    "raw_test_data.drop(columns = ['PID'], inplace = True)\n",
    "raw_test_data.shape"
   ]
  },
  {
   "cell_type": "markdown",
   "id": "50d1b880",
   "metadata": {},
   "source": [
    "### Transforming data to create PropertyAge, PropertyModAge, and GarageAge"
   ]
  },
  {
   "cell_type": "code",
   "execution_count": null,
   "id": "f193cb09",
   "metadata": {},
   "outputs": [],
   "source": [
    "# Creating PropertyAge\n",
    "raw_test_data['PropertyAge'] = raw_test_data['Yr Sold'] - raw_test_data['Year Built']\n",
    "\n",
    "raw_test_data.shape"
   ]
  },
  {
   "cell_type": "code",
   "execution_count": null,
   "id": "977722ca",
   "metadata": {},
   "outputs": [],
   "source": [
    "#Creating PropertyModAge\n",
    "raw_test_data['PropertyModAge'] = raw_test_data['Yr Sold'] - raw_test_data['Year Remod/Add']\n",
    "\n",
    "raw_test_data.shape"
   ]
  },
  {
   "cell_type": "code",
   "execution_count": null,
   "id": "e547888b",
   "metadata": {},
   "outputs": [],
   "source": [
    "# Observe that there are missing values, need to impute in order to create GarageAge\n",
    "raw_test_data['Garage Yr Blt'].isna().sum()"
   ]
  },
  {
   "cell_type": "code",
   "execution_count": null,
   "id": "956385e2",
   "metadata": {},
   "outputs": [],
   "source": [
    "# Imputing missing Garage Yr Blt values with mean\n",
    "raw_test_data['Garage Yr Blt'].fillna(value = round(raw_test_data['Garage Yr Blt'].mean()), inplace = True)\n",
    "assert raw_test_data['Garage Yr Blt'].isna().sum() == 0"
   ]
  },
  {
   "cell_type": "code",
   "execution_count": null,
   "id": "cf7486ee",
   "metadata": {},
   "outputs": [],
   "source": [
    "# Creating GarageAge\n",
    "raw_test_data['GarageAge'] = raw_test_data['Yr Sold'] - raw_test_data['Garage Yr Blt']\n",
    "\n",
    "raw_test_data.shape"
   ]
  },
  {
   "cell_type": "code",
   "execution_count": null,
   "id": "9e2ceeea",
   "metadata": {},
   "outputs": [],
   "source": [
    "# Dropping the original columns from the dataset\n",
    "raw_test_data.drop(columns = ['Year Built', 'Year Remod/Add', 'Garage Yr Blt'], inplace = True)\n",
    "raw_test_data.shape"
   ]
  },
  {
   "cell_type": "markdown",
   "id": "91a0904d",
   "metadata": {},
   "source": [
    "### Converting variables to categorical"
   ]
  },
  {
   "cell_type": "code",
   "execution_count": null,
   "id": "9ec48401",
   "metadata": {},
   "outputs": [],
   "source": [
    "# Changing MS SubClass to categorical\n",
    "raw_test_data = raw_test_data.astype({'MS SubClass': str}, errors = 'raise')\n",
    "\n",
    "# To check\n",
    "raw_test_data['MS SubClass'].dtype\n",
    "# Results show that it is now an object data type"
   ]
  },
  {
   "cell_type": "code",
   "execution_count": null,
   "id": "6bea2311",
   "metadata": {},
   "outputs": [],
   "source": [
    "# Mo Sold (Month Sold) variable made into categorical vairable\n",
    "Mo_Sold_mapping = {1 : 'Jan', 2 : 'Feb', 3: 'Mar', 4: 'Apr', 5: 'May', 6: 'Jun', 7: 'Jul', 8: 'Aug', 9: 'Sep', 10: 'Oct',\n",
    "                  11: 'Nov', 12: 'Dec'}\n",
    "raw_test_data['Mo Sold'] = raw_test_data['Mo Sold'].replace(Mo_Sold_mapping)\n",
    "\n",
    "# To check\n",
    "raw_test_data['Mo Sold'].dtype"
   ]
  },
  {
   "cell_type": "code",
   "execution_count": null,
   "id": "48c8b3d5",
   "metadata": {},
   "outputs": [],
   "source": [
    "# Converting Overall Qual to categories\n",
    "raw_test_data = raw_test_data.astype({'Overall Qual': str}, errors = 'raise')\n",
    "\n",
    "# To check\n",
    "raw_test_data['Overall Qual'].dtype\n",
    "# Results show that it is now an object data type"
   ]
  },
  {
   "cell_type": "code",
   "execution_count": null,
   "id": "fe1a88eb",
   "metadata": {},
   "outputs": [],
   "source": [
    "# Converting Overall Cond to categories\n",
    "raw_test_data = raw_test_data.astype({'Overall Cond': str}, errors = 'raise')\n",
    "\n",
    "# To check\n",
    "raw_test_data['Overall Cond'].dtype\n",
    "# Results show that it is now an object data type"
   ]
  },
  {
   "cell_type": "markdown",
   "id": "93293c9f",
   "metadata": {},
   "source": [
    "### Dropping variables that were dropped train csv dataset"
   ]
  },
  {
   "cell_type": "code",
   "execution_count": null,
   "id": "3577da5b",
   "metadata": {},
   "outputs": [],
   "source": [
    "# Drop these 4 columns because in the train csv, they have more than 1649 (>80% of total observations) missing values\n",
    "raw_test_data.drop(columns = ['Pool QC', 'Misc Feature', 'Alley', 'Fence'], inplace = True)\n",
    "raw_test_data.shape"
   ]
  },
  {
   "cell_type": "code",
   "execution_count": null,
   "id": "99635e9e",
   "metadata": {},
   "outputs": [],
   "source": [
    "# The following 7 numerical variables are dropped in the original dataset because they are observed to have very \n",
    "# low correlation with SalePrice\n",
    "# This is done here because Yr Sold was needed for PropertyAge, PropertyModAge, and GarageAge\n",
    "low_corr_var_7 = ['3Ssn Porch', 'Pool Area', 'BsmtFin SF 2', 'Misc Val', 'Yr Sold', 'Low Qual Fin SF', 'Bsmt Half Bath']"
   ]
  },
  {
   "cell_type": "code",
   "execution_count": null,
   "id": "5fd3000d",
   "metadata": {},
   "outputs": [],
   "source": [
    "# Removing the 7 numerical variables\n",
    "raw_test_data.drop(columns = low_corr_var_7, inplace = True)\n",
    "raw_test_data.shape"
   ]
  },
  {
   "cell_type": "code",
   "execution_count": null,
   "id": "f1dd10bb",
   "metadata": {},
   "outputs": [],
   "source": [
    "# The following 24 categorical variables are dropped in the original dataset because they are either disporotionately \n",
    "# representing one or a very small handful of categories, and/or that their boxplots do not have sufficient variation \n",
    "# for each boxplot across categories\n",
    "low_corr_var_24 = ['Mo Sold', 'MS Zoning', 'Street', 'Land Contour', 'Utilities', 'Lot Config', 'Land Slope',\n",
    "                   'Condition 1', 'Condition 2', 'Bldg Type', 'Roof Style', 'Roof Matl', 'Exterior 2nd', 'Exter Cond', 'Bsmt Cond',\n",
    "                   'BsmtFin Type 2', 'Heating', 'Central Air', 'Electrical', 'Functional', 'Garage Qual', 'Garage Cond',\n",
    "                   'Paved Drive', 'Sale Type']"
   ]
  },
  {
   "cell_type": "code",
   "execution_count": null,
   "id": "9aebe04c",
   "metadata": {},
   "outputs": [],
   "source": [
    "# Removing the 24 categorical variables\n",
    "raw_test_data.drop(columns = low_corr_var_24, inplace = True)\n",
    "raw_test_data.shape"
   ]
  },
  {
   "cell_type": "markdown",
   "id": "cbf19bf8",
   "metadata": {},
   "source": [
    "### Binarizing Categorical Variables, dropping the lowest level, and remapping categories"
   ]
  },
  {
   "cell_type": "code",
   "execution_count": null,
   "id": "d158d3a7",
   "metadata": {},
   "outputs": [],
   "source": [
    "# Done with the main cleaning\n",
    "test_data = raw_test_data[:]"
   ]
  },
  {
   "cell_type": "markdown",
   "id": "a45fd246",
   "metadata": {},
   "source": [
    "##### Doing the split to get the sets of numerical and categorical variables here because these sets will be used later to separate the continuous variables from the binarized categorical variables where the continuous variables will be normalized, but not the categorical variables."
   ]
  },
  {
   "cell_type": "code",
   "execution_count": null,
   "id": "ad4f012a",
   "metadata": {},
   "outputs": [],
   "source": [
    "num_var_test = []\n",
    "for feature in test_data:\n",
    "    if test_data[feature].dtype != object:\n",
    "        num_var_test.append(feature)\n",
    "    else:\n",
    "        pass"
   ]
  },
  {
   "cell_type": "code",
   "execution_count": null,
   "id": "f0aa7052",
   "metadata": {},
   "outputs": [],
   "source": [
    "num_var_test"
   ]
  },
  {
   "cell_type": "code",
   "execution_count": null,
   "id": "fdbfa04a",
   "metadata": {},
   "outputs": [],
   "source": [
    "len(num_var_test)"
   ]
  },
  {
   "cell_type": "code",
   "execution_count": null,
   "id": "f9974588",
   "metadata": {},
   "outputs": [],
   "source": [
    "cat_var_test = []\n",
    "for feature in test_data:\n",
    "    if test_data[feature].dtype == object:\n",
    "        cat_var_test.append(feature)\n",
    "    else:\n",
    "        pass"
   ]
  },
  {
   "cell_type": "code",
   "execution_count": null,
   "id": "ac113225",
   "metadata": {},
   "outputs": [],
   "source": [
    "cat_var_test"
   ]
  },
  {
   "cell_type": "code",
   "execution_count": null,
   "id": "3649e5d9",
   "metadata": {},
   "outputs": [],
   "source": [
    "len(cat_var_test)"
   ]
  },
  {
   "cell_type": "markdown",
   "id": "19b16109",
   "metadata": {},
   "source": [
    "##### Note that despite the test_data having the same number of columns (44 in total, 18 categorical and 26 numeric) with that of the preprocessed dataset in the train csv (before binarizing categorical variables), the final dataset to be used to predict SalePrice in test csv has fewer columns because there are some categories in the categorical variables that are not observed, for example the rating Po for Heating QC."
   ]
  },
  {
   "cell_type": "markdown",
   "id": "a917ea6f",
   "metadata": {},
   "source": [
    "#### Remapping categories\n",
    "\n",
    "##### Based on the changes made, the 6 variables that have to be remapped are:\n",
    "- Overall Qual\n",
    "- Overall Cond\n",
    "- MS SubClass\n",
    "- Lot Shape\n",
    "- Neighborhood\n",
    "- House Style"
   ]
  },
  {
   "cell_type": "code",
   "execution_count": null,
   "id": "26fe9cd6",
   "metadata": {},
   "outputs": [],
   "source": [
    "# Remapping for Overall Qual\n",
    "Overall_Qual_mapping = {'1': 'very low', '2': 'very low', '3': 'very low','4': 'very low', '8': 'very high', \n",
    "                        '9': 'very high', '10': 'very high'}\n",
    "test_data['Overall Qual'].replace(Overall_Qual_mapping, inplace = True)\n",
    "test_data['Overall Qual'].value_counts()\n",
    "# Based on results, remapped successfully."
   ]
  },
  {
   "cell_type": "code",
   "execution_count": null,
   "id": "1c728957",
   "metadata": {},
   "outputs": [],
   "source": [
    "# Remapping for Overall Cond\n",
    "Overall_Cond_mapping = {'1': 'low', '2': 'low', '3': 'low','4': 'low', '6': 'high','7': 'high',\n",
    "                        '8': 'high', '9': 'high'}\n",
    "                        \n",
    "test_data['Overall Cond'].replace(Overall_Cond_mapping, inplace = True)\n",
    "test_data['Overall Cond'].value_counts()\n",
    "# Based on results, remapped successfully."
   ]
  },
  {
   "cell_type": "code",
   "execution_count": null,
   "id": "263b7efd",
   "metadata": {},
   "outputs": [],
   "source": [
    "# Remapping for MS SubClass\n",
    "MS_SubClass_mapping = {'180': '50', '190': '50', '85': '70','75': '70', '45': '50', '40': '50', '150': '20'}\n",
    "test_data['MS SubClass'].replace(MS_SubClass_mapping, inplace = True)\n",
    "test_data['MS SubClass'].value_counts()\n",
    "# Based on results, remapped successfully."
   ]
  },
  {
   "cell_type": "code",
   "execution_count": null,
   "id": "0dfa8fb7",
   "metadata": {},
   "outputs": [],
   "source": [
    "# Remapping for Lot Shape\n",
    "Lot_Shape_mapping = {'IR1': 'IR', 'IR2': 'IR', 'IR3': 'IR'}\n",
    "test_data['Lot Shape'].replace(Lot_Shape_mapping, inplace = True)\n",
    "test_data['Lot Shape'].value_counts()\n",
    "# Based on results, remapped successfully."
   ]
  },
  {
   "cell_type": "code",
   "execution_count": null,
   "id": "7a9c8781",
   "metadata": {},
   "outputs": [],
   "source": [
    "# Remapping for Neighborhood\n",
    "# First finding the count, then replace values with np.nan then fill na with the most observed value in Neighborhood.\n",
    "neighborhood_val_count = test_data['Neighborhood'].value_counts()\n",
    "\n",
    "# Create boolean that shows whether they meet the criteria\n",
    "filtered = test_data['Neighborhood'].isin(neighborhood_val_count.index[neighborhood_val_count < 50])\n",
    "test_data.loc[filtered, 'Neighborhood'] = np.nan\n",
    "\n",
    "# Imputing\n",
    "test_data['Neighborhood'] = test_data['Neighborhood'].fillna(test_data['Neighborhood'].mode()[0])\n",
    "\n",
    "# Check\n",
    "test_data['Neighborhood'].value_counts()"
   ]
  },
  {
   "cell_type": "code",
   "execution_count": null,
   "id": "a74730a6",
   "metadata": {},
   "outputs": [],
   "source": [
    "# Remapping for House_Style\n",
    "House_Style_mapping = {'SFoyer': '1.5Fin', 'SLvl': '2Story', '2.5Unf': '2Story', \n",
    "                       '2.5Fin': '2Story', '1.5Unf': '1.5Fin'}\n",
    "\n",
    "test_data['House Style'].replace(House_Style_mapping, inplace = True)\n",
    "test_data['House Style'].value_counts()\n",
    "# Mapping done successfully"
   ]
  },
  {
   "cell_type": "code",
   "execution_count": null,
   "id": "5a778e19",
   "metadata": {},
   "outputs": [],
   "source": [
    "# Have to remap PreCast observation in Exterior 1st from test csv to another category, as it is not in train csv\n",
    "exterior_1st_mapping = {'PreCast': 'HdBoard'}\n",
    "test_data['Exterior 1st'].replace(exterior_1st_mapping, inplace = True)\n",
    "test_data['Exterior 1st'].value_counts()\n",
    "# Mapping done successfully"
   ]
  },
  {
   "cell_type": "markdown",
   "id": "65c6daa2",
   "metadata": {},
   "source": [
    "##### Dropping the same categories as was done in train csv"
   ]
  },
  {
   "cell_type": "code",
   "execution_count": null,
   "id": "6cdb24e6",
   "metadata": {},
   "outputs": [],
   "source": [
    "test_data['MS SubClass'].value_counts()\n",
    "# Note that 120 is here, so need to drop that (see below for explanation)"
   ]
  },
  {
   "cell_type": "code",
   "execution_count": null,
   "id": "82e2433a",
   "metadata": {},
   "outputs": [],
   "source": [
    "test_data['Lot Shape'].value_counts()\n",
    "# Note that IR is here, so need to drop that (see below for explanation)"
   ]
  },
  {
   "cell_type": "code",
   "execution_count": null,
   "id": "c4ca9cce",
   "metadata": {},
   "outputs": [],
   "source": [
    "test_data['Neighborhood'].value_counts()\n",
    "# There is no BrkSide, so no need to drop anything for this variable"
   ]
  },
  {
   "cell_type": "code",
   "execution_count": null,
   "id": "8b40f682",
   "metadata": {},
   "outputs": [],
   "source": [
    "test_data['House Style'].value_counts()\n",
    "# Note that 1.5Fin is here, so need to drop that (see below for explanation)"
   ]
  },
  {
   "cell_type": "code",
   "execution_count": null,
   "id": "9a334d0a",
   "metadata": {},
   "outputs": [],
   "source": [
    "test_data['Exterior 1st'].value_counts()\n",
    "# Note that AsbShng and PreCast is here, so need to drop and remap those respectively (see below for explanation)"
   ]
  },
  {
   "cell_type": "code",
   "execution_count": null,
   "id": "6fe4eb9d",
   "metadata": {},
   "outputs": [],
   "source": [
    "test_data['Mas Vnr Type'].value_counts()\n",
    "# Note that BrkCmn is here, so need to drop that (see below for explanation)\n",
    "# Also, there is CBlock that is in test csv, but not train csv, so need to remap"
   ]
  },
  {
   "cell_type": "code",
   "execution_count": null,
   "id": "154abb5e",
   "metadata": {},
   "outputs": [],
   "source": [
    "# Remapping CBlock to BrkCmn\n",
    "test_data_MasVnrType_mapping = {'CBlock': 'BrkCmn'}\n",
    "\n",
    "test_data['Mas Vnr Type'] = test_data['Mas Vnr Type'].replace(test_data_MasVnrType_mapping)\n",
    "\n",
    "# To check if remapping is done correctly\n",
    "test_data['Mas Vnr Type'].value_counts"
   ]
  },
  {
   "cell_type": "code",
   "execution_count": null,
   "id": "4d18191e",
   "metadata": {},
   "outputs": [],
   "source": [
    "test_data['Garage Type'].value_counts()\n",
    "# Note that 2Types is here, so need to drop that (see below for explanation)"
   ]
  },
  {
   "cell_type": "code",
   "execution_count": null,
   "id": "91636523",
   "metadata": {},
   "outputs": [],
   "source": [
    "test_data['Foundation'].value_counts()\n",
    "# Note that BrkTil is here, so need to drop that (see below for explanation)"
   ]
  },
  {
   "cell_type": "markdown",
   "id": "b2f2cbe8",
   "metadata": {},
   "source": [
    "### Getting dummies and dropping the same category as in train dataset"
   ]
  },
  {
   "cell_type": "code",
   "execution_count": null,
   "id": "81201174",
   "metadata": {},
   "outputs": [],
   "source": [
    "# Getting dummies for the 8 nominal variables\n",
    "nom_variables = ['MS SubClass', 'Lot Shape', 'Neighborhood', 'House Style', 'Exterior 1st',\n",
    "                 'Mas Vnr Type', 'Garage Type', 'Foundation']\n",
    "\n",
    "nom_dummies = pd.get_dummies(data = test_data[nom_variables], columns = nom_variables)\n",
    "\n",
    "# Drop columns of original nominal variable in dataset\n",
    "test_data = test_data.drop(columns = nom_variables)\n",
    "\n",
    "# Concatenate the columns of dummy variables (with one less level) \n",
    "test_data = pd.concat([test_data, nom_dummies], axis=1)\n",
    "\n",
    "test_data.shape"
   ]
  },
  {
   "cell_type": "markdown",
   "id": "c2c62abd",
   "metadata": {},
   "source": [
    "##### In the original data from train csv, the drop_first argument is set to True in the get_dummies method, so there is a need to find the level that was dropped and drop the same level for this dataset."
   ]
  },
  {
   "cell_type": "markdown",
   "id": "c96b1dd1",
   "metadata": {},
   "source": [
    "##### Checking the columns of the final dataset of train csv and comparing to the levels in the data dictionary along with the remappings, the levels automatically dropped from drop_first = True are:\n",
    "- MS SubClass_120\n",
    "- Lot Shape_IR\n",
    "- Neighborhood_BrkSide -> but this is not present in the test csv data set, to handle this, read note below\n",
    "- House Style_1.5Fin\n",
    "- Exterior 1st_AsbShng -> there is no PreCast and Other in the dataset from train csv, so if they are observed in the dataset from test csv, need to remap\n",
    "- Mas Vnr Type_BrkCmn -> there is no CBlock in the dataset from train csv, so if they are observed in the dataset from test csv, need to remap\n",
    "- Garage Type_2Types\n",
    "- Foundation_BrkTil"
   ]
  },
  {
   "cell_type": "markdown",
   "id": "e5071108",
   "metadata": {},
   "source": [
    "##### For those 8 variables, need to check the dataset from test csv. This is because if that dataset do not have the above listed variables, then there is no need to drop of that variable from those variables. This is because the set of categorical variables (after binarizing) from the train csv includes those from the test csv. However for those categories that I have noted above which are possible categories but are not observed in the train csv, need to check their presence in the test csv to ensure that if they are present in the test csv, they have to be remapped appropriately, else there would be an error when I run the ridge regression as the selected ridge regression model would not have that category as a variable in the equation."
   ]
  },
  {
   "cell_type": "code",
   "execution_count": null,
   "id": "d086f2c7",
   "metadata": {},
   "outputs": [],
   "source": [
    "drop_these_columns = ['MS SubClass_120', 'Lot Shape_IR', 'House Style_1.5Fin', 'Exterior 1st_AsbShng', 'Mas Vnr Type_BrkCmn',\n",
    "                     'Garage Type_2Types', 'Foundation_BrkTil']"
   ]
  },
  {
   "cell_type": "code",
   "execution_count": null,
   "id": "686d2396",
   "metadata": {},
   "outputs": [],
   "source": [
    "test_data.drop(columns = drop_these_columns, inplace = True)\n",
    "test_data.shape"
   ]
  },
  {
   "cell_type": "markdown",
   "id": "0bc429c8",
   "metadata": {},
   "source": [
    "##### Now have to binarize the 10 ordinal categories and drop the same lowest categories\n",
    "\n",
    "##### The 10 ordinal categories, and the lowest category to drop are:\n",
    "- Overall Qual, very low\n",
    "- Overall Cond, low\n",
    "- BsmtFin Type 1, Unf\n",
    "- Bsmt Exposure, No\n",
    "- Heating QC, Po\n",
    "- Exter Qual, Fa\n",
    "- Kitchen Qual, Fa\n",
    "- Fireplace Qu, Po\n",
    "- Garage Finish, Unf\n",
    "- Bsmt Qual, Po"
   ]
  },
  {
   "cell_type": "code",
   "execution_count": null,
   "id": "5cfca604",
   "metadata": {},
   "outputs": [],
   "source": [
    "# Encoding Overall Qual\n",
    "overallqual_dummies_test = pd.get_dummies(test_data['Overall Qual'], prefix='Overall Qual')\n",
    "\n",
    "# Dropping the lowest category\n",
    "overallqual_dummies_test = overallqual_dummies_test.drop(columns = 'Overall Qual_very low')\n",
    "\n",
    "# Checking if lowest category is correctly dropped\n",
    "overallqual_dummies_test.value_counts()\n",
    "\n",
    "# Replacing Overall Qual column in data with these dummy columns\n",
    "test_data = test_data.drop(columns = 'Overall Qual')\n",
    "test_data = pd.concat([test_data, overallqual_dummies_test], axis=1)\n",
    "test_data.head()"
   ]
  },
  {
   "cell_type": "code",
   "execution_count": null,
   "id": "d040a305",
   "metadata": {},
   "outputs": [],
   "source": [
    "# Encoding Overall Cond\n",
    "overallcond_dummies_test = pd.get_dummies(test_data['Overall Cond'], prefix='Overall Cond')\n",
    "\n",
    "# Dropping the lowest category\n",
    "overallcond_dummies_test = overallcond_dummies_test.drop(columns = 'Overall Cond_low')\n",
    "\n",
    "# Checking if lowest category is correctly dropped\n",
    "overallcond_dummies_test.value_counts()\n",
    "\n",
    "# Replacing Overall Cond column in data with these dummy columns\n",
    "test_data = test_data.drop(columns = 'Overall Cond')\n",
    "test_data = pd.concat([test_data, overallcond_dummies_test], axis=1)\n",
    "test_data.head()"
   ]
  },
  {
   "cell_type": "code",
   "execution_count": null,
   "id": "6c2a4478",
   "metadata": {
    "scrolled": true
   },
   "outputs": [],
   "source": [
    "# Encoding BsmtFin Type 1\n",
    "bsmtfintype1_dummies_test = pd.get_dummies(test_data['BsmtFin Type 1'], prefix='BsmtFin Type 1')\n",
    "\n",
    "# Dropping the lowest category\n",
    "bsmtfintype1_dummies_test = bsmtfintype1_dummies_test.drop(columns = 'BsmtFin Type 1_Unf')\n",
    "\n",
    "# Checking if lowest category is correctly dropped\n",
    "bsmtfintype1_dummies_test.value_counts()\n",
    "\n",
    "# Replacing BsmtFin Type 1 column in data with these dummy columns\n",
    "test_data = test_data.drop(columns = 'BsmtFin Type 1')\n",
    "test_data = pd.concat([test_data, bsmtfintype1_dummies_test], axis=1)\n",
    "test_data.head()"
   ]
  },
  {
   "cell_type": "code",
   "execution_count": null,
   "id": "d576fa17",
   "metadata": {},
   "outputs": [],
   "source": [
    "# Encoding Bsmt Exposure\n",
    "bsmtexposure_dummies_test = pd.get_dummies(test_data['Bsmt Exposure'], prefix='Bsmt Exposure')\n",
    "\n",
    "# Dropping the lowest category\n",
    "bsmtexposure_dummies_test = bsmtexposure_dummies_test.drop(columns = 'Bsmt Exposure_No')\n",
    "\n",
    "# Checking if lowest category is correctly dropped\n",
    "bsmtexposure_dummies_test.value_counts()\n",
    "\n",
    "# Replacing Bsmt Exposure column in data with these dummy columns\n",
    "test_data = test_data.drop(columns = 'Bsmt Exposure')\n",
    "test_data = pd.concat([test_data, bsmtexposure_dummies_test], axis=1)\n",
    "test_data.head()"
   ]
  },
  {
   "cell_type": "code",
   "execution_count": null,
   "id": "8b967de4",
   "metadata": {},
   "outputs": [],
   "source": [
    "# Encoding Heating QC\n",
    "heatingqc_dummies_test = pd.get_dummies(test_data['Heating QC'], prefix='Heating QC')\n",
    "\n",
    "# Dropping the lowest category\n",
    "#heatingqc_dummies_test = heatingqc_dummies_test.drop(columns = 'Heating QC_Po')\n",
    "# When I run the above drop column code, there is an error as there is no Po observations in the test csv, so can ignore dropping\n",
    "\n",
    "# Checking if lowest category is correctly dropped\n",
    "heatingqc_dummies_test.value_counts()\n",
    "\n",
    "# Replacing Heating QC column in data with these dummy columns\n",
    "test_data = test_data.drop(columns = 'Heating QC')\n",
    "test_data = pd.concat([test_data, heatingqc_dummies_test], axis=1)\n",
    "test_data.head()"
   ]
  },
  {
   "cell_type": "code",
   "execution_count": null,
   "id": "7957e342",
   "metadata": {},
   "outputs": [],
   "source": [
    "# Encoding Exter Qual\n",
    "exterqual_dummies_test = pd.get_dummies(test_data['Exter Qual'], prefix='Exter Qual')\n",
    "\n",
    "# Dropping the lowest category\n",
    "exterqual_dummies_test = exterqual_dummies_test.drop(columns = 'Exter Qual_Fa')\n",
    "\n",
    "# Checking if lowest category is correctly dropped\n",
    "exterqual_dummies_test.value_counts()\n",
    "\n",
    "# Replacing Exter Qual column in data with these dummy columns\n",
    "test_data = test_data.drop(columns = 'Exter Qual')\n",
    "test_data = pd.concat([test_data, exterqual_dummies_test], axis=1)\n",
    "test_data.head()"
   ]
  },
  {
   "cell_type": "code",
   "execution_count": null,
   "id": "d23ea43c",
   "metadata": {},
   "outputs": [],
   "source": [
    "# Encoding Kitchen Qual\n",
    "\n",
    "# Need to map because test set has Poor rating but training set does not\n",
    "kitchenqual_remapping = {'Po': 'Fa'}\n",
    "test_data['Kitchen Qual'] = test_data['Kitchen Qual'].replace(kitchenqual_remapping)\n",
    "\n",
    "kitchenqual_dummies_test = pd.get_dummies(test_data['Kitchen Qual'], prefix='Kitchen Qual')\n",
    "\n",
    "# Dropping the lowest category\n",
    "kitchenqual_dummies_test = kitchenqual_dummies_test.drop(columns = 'Kitchen Qual_Fa')\n",
    "\n",
    "# Checking if lowest category is correctly dropped\n",
    "kitchenqual_dummies_test.value_counts()\n",
    "\n",
    "# Replacing Kitchen Qual column in data with these dummy columns\n",
    "test_data = test_data.drop(columns = 'Kitchen Qual')\n",
    "test_data = pd.concat([test_data, kitchenqual_dummies_test], axis=1)\n",
    "test_data.head()"
   ]
  },
  {
   "cell_type": "code",
   "execution_count": null,
   "id": "51a6c049",
   "metadata": {},
   "outputs": [],
   "source": [
    "# Encoding Fireplace Qu\n",
    "fireplacequ_dummies_test = pd.get_dummies(test_data['Fireplace Qu'], prefix='Fireplace Qu')\n",
    "\n",
    "# Dropping the lowest category\n",
    "fireplacequ_dummies_test = fireplacequ_dummies_test.drop(columns = 'Fireplace Qu_Po')\n",
    "\n",
    "# Checking if lowest category is correctly dropped\n",
    "fireplacequ_dummies_test.value_counts()\n",
    "\n",
    "# Replacing Fireplace Qu column in data with these dummy columns\n",
    "test_data = test_data.drop(columns = 'Fireplace Qu')\n",
    "test_data = pd.concat([test_data, fireplacequ_dummies_test], axis=1)\n",
    "test_data.head()"
   ]
  },
  {
   "cell_type": "code",
   "execution_count": null,
   "id": "416ca607",
   "metadata": {},
   "outputs": [],
   "source": [
    "# Encoding Garage Finish\n",
    "garagefinish_dummies_test = pd.get_dummies(test_data['Garage Finish'], prefix='Garage Finish')\n",
    "\n",
    "# Dropping the lowest category\n",
    "garagefinish_dummies_test = garagefinish_dummies_test.drop(columns = 'Garage Finish_Unf')\n",
    "\n",
    "# Checking if lowest category is correctly dropped\n",
    "garagefinish_dummies_test.value_counts()\n",
    "\n",
    "# Replacing Garage Finish column in data with these dummy columns\n",
    "test_data = test_data.drop(columns = 'Garage Finish')\n",
    "test_data = pd.concat([test_data, garagefinish_dummies_test], axis=1)\n",
    "test_data.head()"
   ]
  },
  {
   "cell_type": "code",
   "execution_count": null,
   "id": "20458170",
   "metadata": {},
   "outputs": [],
   "source": [
    "# Encoding Bsmt Qual\n",
    "bsmtqual_dummies_test = pd.get_dummies(test_data['Bsmt Qual'], prefix='Bsmt Qual')\n",
    "\n",
    "# Dropping the lowest category\n",
    "bsmtqual_dummies_test = bsmtqual_dummies_test.drop(columns = 'Bsmt Qual_Po')\n",
    "\n",
    "# Checking if lowest category is correctly dropped\n",
    "garagefinish_dummies_test.value_counts()\n",
    "\n",
    "# Replacing Bsmt Qual column in data with these dummy columns\n",
    "test_data = test_data.drop(columns = 'Bsmt Qual')\n",
    "test_data = pd.concat([test_data, bsmtqual_dummies_test], axis=1)\n",
    "test_data.head()"
   ]
  },
  {
   "cell_type": "markdown",
   "id": "6f586428",
   "metadata": {},
   "source": [
    "### Now to Impute missing data"
   ]
  },
  {
   "cell_type": "code",
   "execution_count": null,
   "id": "a13942a7",
   "metadata": {},
   "outputs": [],
   "source": [
    "missing_values = pd.DataFrame(test_data.isna().sum())\n",
    "missing_values = missing_values.loc[missing_values[0] != 0, :]\n",
    "missing_values = missing_values.sort_values(by = 0)\n",
    "print(missing_values)"
   ]
  },
  {
   "cell_type": "code",
   "execution_count": null,
   "id": "fe00ff17",
   "metadata": {},
   "outputs": [],
   "source": [
    "# Imputing for those 2 variables using mean since they are continuous\n",
    "\n",
    "# Imputing missing values of Mas Vnr Area\n",
    "test_data['Mas Vnr Area'].fillna(value = round(test_data['Mas Vnr Area'].mean()), inplace = True)\n",
    "\n",
    "# Imputing missing values of Lot Frontage\n",
    "test_data['Lot Frontage'].fillna(value = round(test_data['Lot Frontage'].mean()), inplace = True)"
   ]
  },
  {
   "cell_type": "code",
   "execution_count": null,
   "id": "fccc66e2",
   "metadata": {},
   "outputs": [],
   "source": [
    "# Checking again\n",
    "missing_values1 = pd.DataFrame(test_data.isna().sum())\n",
    "missing_values1"
   ]
  },
  {
   "cell_type": "markdown",
   "id": "2835cb15",
   "metadata": {},
   "source": [
    "##### Need to normalize the X data before running the regression, but need to split the preprocessed dataset into categorical and numeric (non-binary values), else, the scaling would undermine the binary variables."
   ]
  },
  {
   "cell_type": "code",
   "execution_count": null,
   "id": "b2625038",
   "metadata": {},
   "outputs": [],
   "source": [
    "# Despite splitting the numerical and categorical data, there is the added step of removing Id, so that it will not be\n",
    "# normalized and it will not be used to predict SalePrice\n",
    "num_var_test.remove('Id')\n",
    "num_var_test"
   ]
  },
  {
   "cell_type": "code",
   "execution_count": null,
   "id": "43f62cbd",
   "metadata": {},
   "outputs": [],
   "source": [
    "assert 'Id' not in num_var_test"
   ]
  },
  {
   "cell_type": "code",
   "execution_count": null,
   "id": "b126e2b6",
   "metadata": {},
   "outputs": [],
   "source": [
    "# One less than the total number of numerical variables: 26 - 1\n",
    "len(num_var_test) == 25"
   ]
  },
  {
   "cell_type": "code",
   "execution_count": null,
   "id": "b8d08e4d",
   "metadata": {},
   "outputs": [],
   "source": [
    "# Normalizing continuous variables in model, but not categorical variables.\n",
    "scaler = StandardScaler()\n",
    "\n",
    "test_data[num_var_test] = scaler.fit_transform(test_data[num_var_test])"
   ]
  },
  {
   "cell_type": "code",
   "execution_count": null,
   "id": "537f4da8",
   "metadata": {},
   "outputs": [],
   "source": [
    "# To check normalizing is done correctly\n",
    "test_data['PropertyAge'].describe()"
   ]
  },
  {
   "cell_type": "code",
   "execution_count": null,
   "id": "f6ebdbf1",
   "metadata": {
    "scrolled": true
   },
   "outputs": [],
   "source": [
    "# To check that only continuous variables are normalized but not binarized categories\n",
    "test_data.head()"
   ]
  },
  {
   "cell_type": "code",
   "execution_count": null,
   "id": "57fa9682",
   "metadata": {},
   "outputs": [],
   "source": [
    "# Can observe that continuous variables are normalized, binarized categorical variables are untouched by the scaling, and Id\n",
    "# remains the way it is\n",
    "\n",
    "# Formal check, should be integer\n",
    "assert test_data['Id'].dtype == 'int64'"
   ]
  },
  {
   "cell_type": "code",
   "execution_count": null,
   "id": "8334a8c4",
   "metadata": {
    "scrolled": true
   },
   "outputs": [],
   "source": [
    "# Creating a series of explanatory variables from test csv to be used to predict SalePrice\n",
    "new_X_col_names = list(test_data.columns)\n",
    "new_X_col_names.remove('Id')\n",
    "assert 'Id' not in new_X_col_names\n",
    "new_X_col_names"
   ]
  },
  {
   "cell_type": "code",
   "execution_count": null,
   "id": "422cc8bc",
   "metadata": {},
   "outputs": [],
   "source": [
    "newX = test_data[new_X_col_names]\n",
    "newX.head()"
   ]
  },
  {
   "cell_type": "code",
   "execution_count": null,
   "id": "0935802b",
   "metadata": {},
   "outputs": [],
   "source": [
    "newX.shape"
   ]
  },
  {
   "cell_type": "code",
   "execution_count": null,
   "id": "a0f74248",
   "metadata": {},
   "outputs": [],
   "source": [
    "X_train.shape"
   ]
  },
  {
   "cell_type": "markdown",
   "id": "3c956960",
   "metadata": {},
   "source": [
    "##### It can be observed that there are 9 more columns in the original training data than the test data. In order to predict using the chosen ridge regression, need to introduce the 9 columns with the same column of 0 values into the test set"
   ]
  },
  {
   "cell_type": "code",
   "execution_count": null,
   "id": "4829707b",
   "metadata": {},
   "outputs": [],
   "source": [
    "# To find what are the names of the 9 columns\n",
    "train_X_columns = list(X_train.columns)\n",
    "test_X_columns = list(newX.columns)\n",
    "\n",
    "columns_to_add = [col for col in train_X_columns if col not in test_X_columns]\n",
    "\n",
    "#These are the 9 columns that are present in the training set but not in the test set.\n",
    "len(columns_to_add)\n",
    "print(\"However, based on this list comprehension, there are actually \" + str(len(columns_to_add)) + \" columns.\")"
   ]
  },
  {
   "cell_type": "code",
   "execution_count": null,
   "id": "bc7875b4",
   "metadata": {},
   "outputs": [],
   "source": [
    "# Creating the lists of zeroes to be concatenated into the test set\n",
    "zero_list = [0 for i in range(int(newX.shape[0]))]\n",
    "len(zero_list)\n",
    "\n",
    "for col in columns_to_add:\n",
    "    newX[col] = zero_list[:]"
   ]
  },
  {
   "cell_type": "code",
   "execution_count": null,
   "id": "61a84b96",
   "metadata": {},
   "outputs": [],
   "source": [
    "newX.shape"
   ]
  },
  {
   "cell_type": "code",
   "execution_count": null,
   "id": "14eee147",
   "metadata": {},
   "outputs": [],
   "source": [
    "# Check that the 9 columns have been added\n",
    "newX.head()"
   ]
  },
  {
   "cell_type": "code",
   "execution_count": null,
   "id": "f8515aaa",
   "metadata": {},
   "outputs": [],
   "source": [
    "# Exterior 1st_PreCast and Kitchen Qual_Po is in test but not in train"
   ]
  },
  {
   "cell_type": "markdown",
   "id": "27ae2a0d",
   "metadata": {},
   "source": [
    "### Conducting the Ridge Regression"
   ]
  },
  {
   "cell_type": "code",
   "execution_count": null,
   "id": "beb07296",
   "metadata": {},
   "outputs": [],
   "source": [
    "#Ridge Regression prediction\n",
    "\n",
    "#Predicting based on processed dataset from test csv \n",
    "rr_pred_testcsv = rr.predict(newX)"
   ]
  },
  {
   "cell_type": "markdown",
   "id": "eed4bc1c",
   "metadata": {},
   "source": [
    "### Creating the csv to submit to Kaggle"
   ]
  },
  {
   "cell_type": "code",
   "execution_count": null,
   "id": "86e1f728",
   "metadata": {},
   "outputs": [],
   "source": [
    "predicted_SalePrice = pd.DataFrame(rr_pred_testcsv)"
   ]
  },
  {
   "cell_type": "code",
   "execution_count": null,
   "id": "22dcb0fc",
   "metadata": {},
   "outputs": [],
   "source": [
    "Id_df = pd.DataFrame(test_data['Id'])"
   ]
  },
  {
   "cell_type": "code",
   "execution_count": null,
   "id": "c407b454",
   "metadata": {},
   "outputs": [],
   "source": [
    "kaggle_df = pd.concat([Id_df, predicted_SalePrice], axis = 1)"
   ]
  },
  {
   "cell_type": "code",
   "execution_count": null,
   "id": "33221db6",
   "metadata": {
    "scrolled": false
   },
   "outputs": [],
   "source": [
    "kaggle_df.rename(columns = {0:'SalePrice'}, inplace = True)\n",
    "kaggle_df"
   ]
  },
  {
   "cell_type": "code",
   "execution_count": null,
   "id": "57024a15",
   "metadata": {},
   "outputs": [],
   "source": [
    "# Exporting to csv\n",
    "#kaggle_df.to_csv('../data/kaggle_submission.csv', index = False)"
   ]
  },
  {
   "cell_type": "code",
   "execution_count": null,
   "id": "4088d66d",
   "metadata": {},
   "outputs": [],
   "source": []
  },
  {
   "cell_type": "code",
   "execution_count": null,
   "id": "9969c855",
   "metadata": {},
   "outputs": [],
   "source": []
  },
  {
   "cell_type": "code",
   "execution_count": null,
   "id": "50d24326",
   "metadata": {},
   "outputs": [],
   "source": []
  }
 ],
 "metadata": {
  "kernelspec": {
   "display_name": "Python 3 (ipykernel)",
   "language": "python",
   "name": "python3"
  },
  "language_info": {
   "codemirror_mode": {
    "name": "ipython",
    "version": 3
   },
   "file_extension": ".py",
   "mimetype": "text/x-python",
   "name": "python",
   "nbconvert_exporter": "python",
   "pygments_lexer": "ipython3",
   "version": "3.9.7"
  }
 },
 "nbformat": 4,
 "nbformat_minor": 5
}
