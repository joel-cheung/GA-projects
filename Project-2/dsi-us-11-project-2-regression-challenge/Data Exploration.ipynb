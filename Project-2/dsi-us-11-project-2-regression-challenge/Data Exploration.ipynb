{
 "cells": [
  {
   "cell_type": "code",
   "execution_count": 44,
   "id": "e2b10eb6",
   "metadata": {},
   "outputs": [],
   "source": [
    "import pandas as pd\n",
    "import numpy as np\n",
    "import matplotlib.pyplot as plt\n",
    "import seaborn as sns"
   ]
  },
  {
   "cell_type": "code",
   "execution_count": 5,
   "id": "971e215e",
   "metadata": {},
   "outputs": [],
   "source": [
    "data = pd.read_csv(\"../dsi-us-11-project-2-regression-challenge/train.csv\")"
   ]
  },
  {
   "cell_type": "code",
   "execution_count": 6,
   "id": "df73d54d",
   "metadata": {},
   "outputs": [
    {
     "data": {
      "text/plain": [
       "Index(['Id', 'PID', 'MS SubClass', 'MS Zoning', 'Lot Frontage', 'Lot Area',\n",
       "       'Street', 'Alley', 'Lot Shape', 'Land Contour', 'Utilities',\n",
       "       'Lot Config', 'Land Slope', 'Neighborhood', 'Condition 1',\n",
       "       'Condition 2', 'Bldg Type', 'House Style', 'Overall Qual',\n",
       "       'Overall Cond', 'Year Built', 'Year Remod/Add', 'Roof Style',\n",
       "       'Roof Matl', 'Exterior 1st', 'Exterior 2nd', 'Mas Vnr Type',\n",
       "       'Mas Vnr Area', 'Exter Qual', 'Exter Cond', 'Foundation', 'Bsmt Qual',\n",
       "       'Bsmt Cond', 'Bsmt Exposure', 'BsmtFin Type 1', 'BsmtFin SF 1',\n",
       "       'BsmtFin Type 2', 'BsmtFin SF 2', 'Bsmt Unf SF', 'Total Bsmt SF',\n",
       "       'Heating', 'Heating QC', 'Central Air', 'Electrical', '1st Flr SF',\n",
       "       '2nd Flr SF', 'Low Qual Fin SF', 'Gr Liv Area', 'Bsmt Full Bath',\n",
       "       'Bsmt Half Bath', 'Full Bath', 'Half Bath', 'Bedroom AbvGr',\n",
       "       'Kitchen AbvGr', 'Kitchen Qual', 'TotRms AbvGrd', 'Functional',\n",
       "       'Fireplaces', 'Fireplace Qu', 'Garage Type', 'Garage Yr Blt',\n",
       "       'Garage Finish', 'Garage Cars', 'Garage Area', 'Garage Qual',\n",
       "       'Garage Cond', 'Paved Drive', 'Wood Deck SF', 'Open Porch SF',\n",
       "       'Enclosed Porch', '3Ssn Porch', 'Screen Porch', 'Pool Area', 'Pool QC',\n",
       "       'Fence', 'Misc Feature', 'Misc Val', 'Mo Sold', 'Yr Sold', 'Sale Type',\n",
       "       'SalePrice'],\n",
       "      dtype='object')"
      ]
     },
     "execution_count": 6,
     "metadata": {},
     "output_type": "execute_result"
    }
   ],
   "source": [
    "data.columns"
   ]
  },
  {
   "cell_type": "code",
   "execution_count": 16,
   "id": "aba5a9e6",
   "metadata": {},
   "outputs": [
    {
     "data": {
      "text/plain": [
       "(2051, 81)"
      ]
     },
     "execution_count": 16,
     "metadata": {},
     "output_type": "execute_result"
    }
   ],
   "source": [
    "data.shape"
   ]
  },
  {
   "cell_type": "code",
   "execution_count": 40,
   "id": "c21b7204",
   "metadata": {},
   "outputs": [
    {
     "name": "stdout",
     "output_type": "stream",
     "text": [
      "9822\n"
     ]
    }
   ],
   "source": [
    "print(data.isna().sum().sum())"
   ]
  },
  {
   "cell_type": "code",
   "execution_count": 59,
   "id": "33607d2c",
   "metadata": {},
   "outputs": [
    {
     "name": "stdout",
     "output_type": "stream",
     "text": [
      "Id                    0\n",
      "PID                   0\n",
      "MS SubClass           0\n",
      "MS Zoning             0\n",
      "Lot Frontage        330\n",
      "Lot Area              0\n",
      "Street                0\n",
      "Alley              1911\n",
      "Lot Shape             0\n",
      "Land Contour          0\n",
      "Utilities             0\n",
      "Lot Config            0\n",
      "Land Slope            0\n",
      "Neighborhood          0\n",
      "Condition 1           0\n",
      "Condition 2           0\n",
      "Bldg Type             0\n",
      "House Style           0\n",
      "Overall Qual          0\n",
      "Overall Cond          0\n",
      "Year Built            0\n",
      "Year Remod/Add        0\n",
      "Roof Style            0\n",
      "Roof Matl             0\n",
      "Exterior 1st          0\n",
      "Exterior 2nd          0\n",
      "Mas Vnr Type         22\n",
      "Mas Vnr Area         22\n",
      "Exter Qual            0\n",
      "Exter Cond            0\n",
      "Foundation            0\n",
      "Bsmt Qual            55\n",
      "Bsmt Cond            55\n",
      "Bsmt Exposure        58\n",
      "BsmtFin Type 1       55\n",
      "BsmtFin SF 1          1\n",
      "BsmtFin Type 2       56\n",
      "BsmtFin SF 2          1\n",
      "Bsmt Unf SF           1\n",
      "Total Bsmt SF         1\n",
      "Heating               0\n",
      "Heating QC            0\n",
      "Central Air           0\n",
      "Electrical            0\n",
      "1st Flr SF            0\n",
      "2nd Flr SF            0\n",
      "Low Qual Fin SF       0\n",
      "Gr Liv Area           0\n",
      "Bsmt Full Bath        2\n",
      "Bsmt Half Bath        2\n",
      "Full Bath             0\n",
      "Half Bath             0\n",
      "Bedroom AbvGr         0\n",
      "Kitchen AbvGr         0\n",
      "Kitchen Qual          0\n",
      "TotRms AbvGrd         0\n",
      "Functional            0\n",
      "Fireplaces            0\n",
      "Fireplace Qu       1000\n",
      "Garage Type         113\n",
      "Garage Yr Blt       114\n",
      "Garage Finish       114\n",
      "Garage Cars           1\n",
      "Garage Area           1\n",
      "Garage Qual         114\n",
      "Garage Cond         114\n",
      "Paved Drive           0\n",
      "Wood Deck SF          0\n",
      "Open Porch SF         0\n",
      "Enclosed Porch        0\n",
      "3Ssn Porch            0\n",
      "Screen Porch          0\n",
      "Pool Area             0\n",
      "Pool QC            2042\n",
      "Fence              1651\n",
      "Misc Feature       1986\n",
      "Misc Val              0\n",
      "Mo Sold               0\n",
      "Yr Sold               0\n",
      "Sale Type             0\n",
      "SalePrice             0\n",
      "dtype: int64\n"
     ]
    }
   ],
   "source": [
    "pd.options.display.max_rows = 100\n",
    "print(data.isna().sum())"
   ]
  },
  {
   "cell_type": "code",
   "execution_count": 31,
   "id": "cd87765e",
   "metadata": {},
   "outputs": [
    {
     "data": {
      "text/plain": [
       "60.0     179\n",
       "70.0      96\n",
       "80.0      94\n",
       "50.0      90\n",
       "65.0      71\n",
       "        ... \n",
       "118.0      1\n",
       "137.0      1\n",
       "195.0      1\n",
       "115.0      1\n",
       "135.0      1\n",
       "Name: Lot Frontage, Length: 118, dtype: int64"
      ]
     },
     "execution_count": 31,
     "metadata": {},
     "output_type": "execute_result"
    }
   ],
   "source": [
    "data['Lot Frontage'].value_counts()"
   ]
  },
  {
   "cell_type": "code",
   "execution_count": 15,
   "id": "15c74531",
   "metadata": {},
   "outputs": [
    {
     "data": {
      "text/plain": [
       "Grvl    85\n",
       "Pave    55\n",
       "Name: Alley, dtype: int64"
      ]
     },
     "execution_count": 15,
     "metadata": {},
     "output_type": "execute_result"
    }
   ],
   "source": [
    "data['Alley'].value_counts()\n",
    "\n",
    "# Only 140 rows out of 2051 rows have a non-NA value"
   ]
  },
  {
   "cell_type": "code",
   "execution_count": 33,
   "id": "f905d20f",
   "metadata": {},
   "outputs": [
    {
     "data": {
      "text/plain": [
       "0      2042\n",
       "519       1\n",
       "576       1\n",
       "800       1\n",
       "228       1\n",
       "480       1\n",
       "648       1\n",
       "738       1\n",
       "368       1\n",
       "561       1\n",
       "Name: Pool Area, dtype: int64"
      ]
     },
     "execution_count": 33,
     "metadata": {},
     "output_type": "execute_result"
    }
   ],
   "source": [
    "data['Pool Area'].value_counts()\n",
    "\n",
    "# Only 9 houses out of 2051 houses have pools"
   ]
  },
  {
   "cell_type": "code",
   "execution_count": 34,
   "id": "2c24a670",
   "metadata": {},
   "outputs": [
    {
     "data": {
      "text/plain": [
       "MnPrv    227\n",
       "GdPrv     83\n",
       "GdWo      80\n",
       "MnWw      10\n",
       "Name: Fence, dtype: int64"
      ]
     },
     "execution_count": 34,
     "metadata": {},
     "output_type": "execute_result"
    }
   ],
   "source": [
    "data['Fence'].value_counts()\n",
    "\n",
    "# 400 out of 2051 houses have fences, but based on the description of the values, there may be overlaps of Good wood (GW) and \n",
    "# Minimum Wood/Wire (MnWw) [is this min quality or materials that will make it ugly?] in the Good or Minimum privacy"
   ]
  },
  {
   "cell_type": "code",
   "execution_count": 35,
   "id": "33d63afd",
   "metadata": {},
   "outputs": [
    {
     "data": {
      "text/plain": [
       "Shed    56\n",
       "Gar2     4\n",
       "Othr     3\n",
       "TenC     1\n",
       "Elev     1\n",
       "Name: Misc Feature, dtype: int64"
      ]
     },
     "execution_count": 35,
     "metadata": {},
     "output_type": "execute_result"
    }
   ],
   "source": [
    "data['Misc Feature'].value_counts()\n",
    "\n",
    "# 65 out of 2051 have special features on top of those in the other columns"
   ]
  },
  {
   "cell_type": "code",
   "execution_count": 36,
   "id": "574e6a8f",
   "metadata": {},
   "outputs": [
    {
     "data": {
      "text/plain": [
       "0        1986\n",
       "400        12\n",
       "500         8\n",
       "600         6\n",
       "450         5\n",
       "2000        5\n",
       "700         4\n",
       "1200        2\n",
       "3000        2\n",
       "2500        2\n",
       "4500        2\n",
       "17000       1\n",
       "1300        1\n",
       "900         1\n",
       "1500        1\n",
       "800         1\n",
       "6500        1\n",
       "54          1\n",
       "3500        1\n",
       "1150        1\n",
       "300         1\n",
       "455         1\n",
       "8300        1\n",
       "460         1\n",
       "12500       1\n",
       "480         1\n",
       "650         1\n",
       "80          1\n",
       "Name: Misc Val, dtype: int64"
      ]
     },
     "execution_count": 36,
     "metadata": {},
     "output_type": "execute_result"
    }
   ],
   "source": [
    "data['Misc Val'].value_counts()\n",
    "\n",
    "# Indeed have 65, and each of the 65 houses with special features have a recorded value BUT some have very low values"
   ]
  },
  {
   "cell_type": "code",
   "execution_count": 43,
   "id": "058a25b9",
   "metadata": {},
   "outputs": [
    {
     "data": {
      "text/plain": [
       "count      2051.000000\n",
       "mean     181469.701609\n",
       "std       79258.659352\n",
       "min       12789.000000\n",
       "25%      129825.000000\n",
       "50%      162500.000000\n",
       "75%      214000.000000\n",
       "max      611657.000000\n",
       "Name: SalePrice, dtype: float64"
      ]
     },
     "execution_count": 43,
     "metadata": {},
     "output_type": "execute_result"
    }
   ],
   "source": [
    "data['SalePrice'].describe()"
   ]
  },
  {
   "cell_type": "code",
   "execution_count": 45,
   "id": "c55f623c",
   "metadata": {},
   "outputs": [
    {
     "data": {
      "image/png": "[encoded data removed]",
      "text/plain": [
       "<Figure size 432x288 with 1 Axes>"
      ]
     },
     "metadata": {
      "needs_background": "light"
     },
     "output_type": "display_data"
    }
   ],
   "source": [
    "plt.hist(data['SalePrice'])\n",
    "plt.show()"
   ]
  },
  {
   "cell_type": "code",
   "execution_count": 53,
   "id": "d6b1b911",
   "metadata": {},
   "outputs": [
    {
     "data": {
      "text/html": [
       "<div>\n",
       "<style scoped>\n",
       "    .dataframe tbody tr th:only-of-type {\n",
       "        vertical-align: middle;\n",
       "    }\n",
       "\n",
       "    .dataframe tbody tr th {\n",
       "        vertical-align: top;\n",
       "    }\n",
       "\n",
       "    .dataframe thead th {\n",
       "        text-align: right;\n",
       "    }\n",
       "</style>\n",
       "<table border=\"1\" class=\"dataframe\">\n",
       "  <thead>\n",
       "    <tr style=\"text-align: right;\">\n",
       "      <th></th>\n",
       "      <th>Id</th>\n",
       "      <th>PID</th>\n",
       "      <th>MS SubClass</th>\n",
       "      <th>MS Zoning</th>\n",
       "      <th>Lot Frontage</th>\n",
       "      <th>Lot Area</th>\n",
       "      <th>Street</th>\n",
       "      <th>Alley</th>\n",
       "      <th>Lot Shape</th>\n",
       "      <th>Land Contour</th>\n",
       "      <th>...</th>\n",
       "      <th>Screen Porch</th>\n",
       "      <th>Pool Area</th>\n",
       "      <th>Pool QC</th>\n",
       "      <th>Fence</th>\n",
       "      <th>Misc Feature</th>\n",
       "      <th>Misc Val</th>\n",
       "      <th>Mo Sold</th>\n",
       "      <th>Yr Sold</th>\n",
       "      <th>Sale Type</th>\n",
       "      <th>SalePrice</th>\n",
       "    </tr>\n",
       "  </thead>\n",
       "  <tbody>\n",
       "    <tr>\n",
       "      <th>52</th>\n",
       "      <td>2351</td>\n",
       "      <td>527356020</td>\n",
       "      <td>60</td>\n",
       "      <td>RL</td>\n",
       "      <td>80.0</td>\n",
       "      <td>16692</td>\n",
       "      <td>Pave</td>\n",
       "      <td>NaN</td>\n",
       "      <td>IR1</td>\n",
       "      <td>Lvl</td>\n",
       "      <td>...</td>\n",
       "      <td>440</td>\n",
       "      <td>519</td>\n",
       "      <td>Fa</td>\n",
       "      <td>MnPrv</td>\n",
       "      <td>TenC</td>\n",
       "      <td>2000</td>\n",
       "      <td>7</td>\n",
       "      <td>2006</td>\n",
       "      <td>WD</td>\n",
       "      <td>250000</td>\n",
       "    </tr>\n",
       "    <tr>\n",
       "      <th>657</th>\n",
       "      <td>1567</td>\n",
       "      <td>914475020</td>\n",
       "      <td>80</td>\n",
       "      <td>RL</td>\n",
       "      <td>76.0</td>\n",
       "      <td>9880</td>\n",
       "      <td>Pave</td>\n",
       "      <td>NaN</td>\n",
       "      <td>Reg</td>\n",
       "      <td>Lvl</td>\n",
       "      <td>...</td>\n",
       "      <td>0</td>\n",
       "      <td>576</td>\n",
       "      <td>Gd</td>\n",
       "      <td>GdPrv</td>\n",
       "      <td>NaN</td>\n",
       "      <td>0</td>\n",
       "      <td>7</td>\n",
       "      <td>2008</td>\n",
       "      <td>WD</td>\n",
       "      <td>171000</td>\n",
       "    </tr>\n",
       "    <tr>\n",
       "      <th>761</th>\n",
       "      <td>2499</td>\n",
       "      <td>532476050</td>\n",
       "      <td>80</td>\n",
       "      <td>RL</td>\n",
       "      <td>100.0</td>\n",
       "      <td>14330</td>\n",
       "      <td>Pave</td>\n",
       "      <td>NaN</td>\n",
       "      <td>IR1</td>\n",
       "      <td>Low</td>\n",
       "      <td>...</td>\n",
       "      <td>0</td>\n",
       "      <td>800</td>\n",
       "      <td>Gd</td>\n",
       "      <td>GdPrv</td>\n",
       "      <td>NaN</td>\n",
       "      <td>0</td>\n",
       "      <td>1</td>\n",
       "      <td>2006</td>\n",
       "      <td>WD</td>\n",
       "      <td>260000</td>\n",
       "    </tr>\n",
       "    <tr>\n",
       "      <th>952</th>\n",
       "      <td>2231</td>\n",
       "      <td>909475230</td>\n",
       "      <td>20</td>\n",
       "      <td>RL</td>\n",
       "      <td>70.0</td>\n",
       "      <td>18044</td>\n",
       "      <td>Pave</td>\n",
       "      <td>NaN</td>\n",
       "      <td>IR1</td>\n",
       "      <td>HLS</td>\n",
       "      <td>...</td>\n",
       "      <td>0</td>\n",
       "      <td>228</td>\n",
       "      <td>Ex</td>\n",
       "      <td>NaN</td>\n",
       "      <td>NaN</td>\n",
       "      <td>0</td>\n",
       "      <td>8</td>\n",
       "      <td>2007</td>\n",
       "      <td>WD</td>\n",
       "      <td>315000</td>\n",
       "    </tr>\n",
       "    <tr>\n",
       "      <th>960</th>\n",
       "      <td>1499</td>\n",
       "      <td>908154235</td>\n",
       "      <td>60</td>\n",
       "      <td>RL</td>\n",
       "      <td>313.0</td>\n",
       "      <td>63887</td>\n",
       "      <td>Pave</td>\n",
       "      <td>NaN</td>\n",
       "      <td>IR3</td>\n",
       "      <td>Bnk</td>\n",
       "      <td>...</td>\n",
       "      <td>0</td>\n",
       "      <td>480</td>\n",
       "      <td>Gd</td>\n",
       "      <td>NaN</td>\n",
       "      <td>NaN</td>\n",
       "      <td>0</td>\n",
       "      <td>1</td>\n",
       "      <td>2008</td>\n",
       "      <td>New</td>\n",
       "      <td>160000</td>\n",
       "    </tr>\n",
       "    <tr>\n",
       "      <th>1130</th>\n",
       "      <td>2358</td>\n",
       "      <td>527377030</td>\n",
       "      <td>20</td>\n",
       "      <td>RL</td>\n",
       "      <td>78.0</td>\n",
       "      <td>10140</td>\n",
       "      <td>Pave</td>\n",
       "      <td>NaN</td>\n",
       "      <td>Reg</td>\n",
       "      <td>Lvl</td>\n",
       "      <td>...</td>\n",
       "      <td>0</td>\n",
       "      <td>648</td>\n",
       "      <td>Fa</td>\n",
       "      <td>GdPrv</td>\n",
       "      <td>NaN</td>\n",
       "      <td>0</td>\n",
       "      <td>1</td>\n",
       "      <td>2006</td>\n",
       "      <td>WD</td>\n",
       "      <td>181000</td>\n",
       "    </tr>\n",
       "    <tr>\n",
       "      <th>1249</th>\n",
       "      <td>2736</td>\n",
       "      <td>905426150</td>\n",
       "      <td>80</td>\n",
       "      <td>RL</td>\n",
       "      <td>NaN</td>\n",
       "      <td>19690</td>\n",
       "      <td>Pave</td>\n",
       "      <td>NaN</td>\n",
       "      <td>IR1</td>\n",
       "      <td>Lvl</td>\n",
       "      <td>...</td>\n",
       "      <td>0</td>\n",
       "      <td>738</td>\n",
       "      <td>Gd</td>\n",
       "      <td>GdPrv</td>\n",
       "      <td>NaN</td>\n",
       "      <td>0</td>\n",
       "      <td>8</td>\n",
       "      <td>2006</td>\n",
       "      <td>WD</td>\n",
       "      <td>274970</td>\n",
       "    </tr>\n",
       "    <tr>\n",
       "      <th>1635</th>\n",
       "      <td>1941</td>\n",
       "      <td>535353050</td>\n",
       "      <td>20</td>\n",
       "      <td>RL</td>\n",
       "      <td>75.0</td>\n",
       "      <td>9532</td>\n",
       "      <td>Pave</td>\n",
       "      <td>NaN</td>\n",
       "      <td>Reg</td>\n",
       "      <td>Lvl</td>\n",
       "      <td>...</td>\n",
       "      <td>0</td>\n",
       "      <td>368</td>\n",
       "      <td>TA</td>\n",
       "      <td>GdPrv</td>\n",
       "      <td>NaN</td>\n",
       "      <td>0</td>\n",
       "      <td>2</td>\n",
       "      <td>2007</td>\n",
       "      <td>WD</td>\n",
       "      <td>153000</td>\n",
       "    </tr>\n",
       "    <tr>\n",
       "      <th>1875</th>\n",
       "      <td>2279</td>\n",
       "      <td>923202220</td>\n",
       "      <td>20</td>\n",
       "      <td>RL</td>\n",
       "      <td>200.0</td>\n",
       "      <td>43500</td>\n",
       "      <td>Pave</td>\n",
       "      <td>NaN</td>\n",
       "      <td>Reg</td>\n",
       "      <td>Lvl</td>\n",
       "      <td>...</td>\n",
       "      <td>0</td>\n",
       "      <td>561</td>\n",
       "      <td>TA</td>\n",
       "      <td>GdPrv</td>\n",
       "      <td>NaN</td>\n",
       "      <td>0</td>\n",
       "      <td>6</td>\n",
       "      <td>2007</td>\n",
       "      <td>WD</td>\n",
       "      <td>130000</td>\n",
       "    </tr>\n",
       "  </tbody>\n",
       "</table>\n",
       "<p>9 rows × 81 columns</p>\n",
       "</div>"
      ],
      "text/plain": [
       "        Id        PID  MS SubClass MS Zoning  Lot Frontage  Lot Area Street  \\\n",
       "52    2351  527356020           60        RL          80.0     16692   Pave   \n",
       "657   1567  914475020           80        RL          76.0      9880   Pave   \n",
       "761   2499  532476050           80        RL         100.0     14330   Pave   \n",
       "952   2231  909475230           20        RL          70.0     18044   Pave   \n",
       "960   1499  908154235           60        RL         313.0     63887   Pave   \n",
       "1130  2358  527377030           20        RL          78.0     10140   Pave   \n",
       "1249  2736  905426150           80        RL           NaN     19690   Pave   \n",
       "1635  1941  535353050           20        RL          75.0      9532   Pave   \n",
       "1875  2279  923202220           20        RL         200.0     43500   Pave   \n",
       "\n",
       "     Alley Lot Shape Land Contour  ... Screen Porch Pool Area Pool QC  Fence  \\\n",
       "52     NaN       IR1          Lvl  ...          440       519      Fa  MnPrv   \n",
       "657    NaN       Reg          Lvl  ...            0       576      Gd  GdPrv   \n",
       "761    NaN       IR1          Low  ...            0       800      Gd  GdPrv   \n",
       "952    NaN       IR1          HLS  ...            0       228      Ex    NaN   \n",
       "960    NaN       IR3          Bnk  ...            0       480      Gd    NaN   \n",
       "1130   NaN       Reg          Lvl  ...            0       648      Fa  GdPrv   \n",
       "1249   NaN       IR1          Lvl  ...            0       738      Gd  GdPrv   \n",
       "1635   NaN       Reg          Lvl  ...            0       368      TA  GdPrv   \n",
       "1875   NaN       Reg          Lvl  ...            0       561      TA  GdPrv   \n",
       "\n",
       "     Misc Feature Misc Val Mo Sold Yr Sold  Sale Type  SalePrice  \n",
       "52           TenC     2000       7    2006        WD      250000  \n",
       "657           NaN        0       7    2008        WD      171000  \n",
       "761           NaN        0       1    2006        WD      260000  \n",
       "952           NaN        0       8    2007        WD      315000  \n",
       "960           NaN        0       1    2008        New     160000  \n",
       "1130          NaN        0       1    2006        WD      181000  \n",
       "1249          NaN        0       8    2006        WD      274970  \n",
       "1635          NaN        0       2    2007        WD      153000  \n",
       "1875          NaN        0       6    2007        WD      130000  \n",
       "\n",
       "[9 rows x 81 columns]"
      ]
     },
     "execution_count": 53,
     "metadata": {},
     "output_type": "execute_result"
    }
   ],
   "source": [
    "pool_data = data[data['Pool Area']!=0]\n",
    "pool_data.head(10)"
   ]
  },
  {
   "cell_type": "code",
   "execution_count": 55,
   "id": "0ad1209c",
   "metadata": {},
   "outputs": [
    {
     "data": {
      "text/plain": [
       "-0.012805581888135126"
      ]
     },
     "execution_count": 55,
     "metadata": {},
     "output_type": "execute_result"
    }
   ],
   "source": [
    "data['SalePrice'].corr(pool_data['Pool Area'])\n",
    "\n",
    "# VERY BAD!"
   ]
  },
  {
   "cell_type": "code",
   "execution_count": null,
   "id": "e1aa7427",
   "metadata": {},
   "outputs": [],
   "source": [
    "mapping = {'FA': 1, 'TA': 2, 'Fa': 3, 'Ex':4}\n",
    "data.replace()"
   ]
  },
  {
   "cell_type": "code",
   "execution_count": 61,
   "id": "a02da245",
   "metadata": {},
   "outputs": [
    {
     "data": {
      "text/plain": [
       "Gd    4\n",
       "Fa    2\n",
       "TA    2\n",
       "Ex    1\n",
       "Name: Pool QC, dtype: int64"
      ]
     },
     "execution_count": 61,
     "metadata": {},
     "output_type": "execute_result"
    }
   ],
   "source": [
    "data['Pool QC'].value_counts()"
   ]
  },
  {
   "cell_type": "code",
   "execution_count": null,
   "id": "03eddd73",
   "metadata": {},
   "outputs": [],
   "source": []
  }
 ],
 "metadata": {
  "kernelspec": {
   "display_name": "Python 3 (ipykernel)",
   "language": "python",
   "name": "python3"
  },
  "language_info": {
   "codemirror_mode": {
    "name": "ipython",
    "version": 3
   },
   "file_extension": ".py",
   "mimetype": "text/x-python",
   "name": "python",
   "nbconvert_exporter": "python",
   "pygments_lexer": "ipython3",
   "version": "3.9.7"
  }
 },
 "nbformat": 4,
 "nbformat_minor": 5
}
