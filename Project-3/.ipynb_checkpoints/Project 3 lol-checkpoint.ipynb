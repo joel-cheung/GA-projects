{
 "cells": [
  {
   "cell_type": "markdown",
   "id": "e4d5dae8",
   "metadata": {},
   "source": [
    "# Background"
   ]
  },
  {
   "cell_type": "code",
   "execution_count": null,
   "id": "86e41dcf",
   "metadata": {},
   "outputs": [],
   "source": []
  },
  {
   "cell_type": "markdown",
   "id": "45662ee6",
   "metadata": {},
   "source": [
    "# Problem Statement"
   ]
  },
  {
   "cell_type": "code",
   "execution_count": null,
   "id": "83ef52f3",
   "metadata": {},
   "outputs": [],
   "source": []
  },
  {
   "cell_type": "markdown",
   "id": "a825fd87",
   "metadata": {},
   "source": [
    "# Importing libraries"
   ]
  },
  {
   "cell_type": "code",
   "execution_count": 1,
   "id": "0cd02315",
   "metadata": {},
   "outputs": [],
   "source": [
    "import pandas as pd\n",
    "import numpy as np\n",
    "import requests\n",
    "import time\n",
    "import re\n",
    "import string\n",
    "\n",
    "import matplotlib.pyplot as plt\n",
    "import seaborn as sns\n",
    "\n",
    "from sklearn.model_selection import train_test_split, GridSearchCV, cross_val_score\n",
    "from sklearn.feature_extraction.text import CountVectorizer, TfidfVectorizer\n",
    "from sklearn.pipeline import Pipeline\n",
    "from sklearn.naive_bayes import MultinomialNB, BernoulliNB\n",
    "from sklearn.linear_model import LogisticRegression\n",
    "from sklearn.metrics import confusion_matrix, plot_confusion_matrix\n",
    "from sklearn.ensemble import RandomForestClassifier, ExtraTreesClassifier\n",
    "\n",
    "import gensim\n",
    "import string\n",
    "from nltk.corpus import stopwords\n",
    "from nltk.tokenize import word_tokenize\n",
    "from nltk.stem.porter import PorterStemmer\n",
    "from nltk.corpus import wordnet\n",
    "from nltk.stem import WordNetLemmatizer\n"
   ]
  },
  {
   "cell_type": "code",
   "execution_count": 2,
   "id": "305c7aa4",
   "metadata": {},
   "outputs": [],
   "source": [
    "pd.set_option('display.max_colwidth', 100)"
   ]
  },
  {
   "cell_type": "markdown",
   "id": "2427f8d6",
   "metadata": {},
   "source": [
    "# Extracting data from Reddit Threads: tea and coffee"
   ]
  },
  {
   "cell_type": "code",
   "execution_count": 3,
   "id": "53fc6b97",
   "metadata": {},
   "outputs": [],
   "source": [
    "url = 'https://api.pushshift.io/reddit/search/submission'"
   ]
  },
  {
   "cell_type": "code",
   "execution_count": 4,
   "id": "9e6859e9",
   "metadata": {},
   "outputs": [],
   "source": [
    "def get_submissions(subreddit, n_iter):\n",
    "    \n",
    "    df_list = []\n",
    "    current_time = 1653373055 # 24 May 2022, 2:17pm\n",
    "    \n",
    "    for i in range(n_iter):\n",
    "        res = requests.get(\n",
    "        url,\n",
    "        params = {\n",
    "            'subreddit' : subreddit,\n",
    "            'size' : 100,\n",
    "            'before' : current_time,\n",
    "            'stickied': False\n",
    "            }\n",
    "        )\n",
    "        time.sleep(3)\n",
    "        df = pd.DataFrame(res.json()['data'])\n",
    "        df = df[['subreddit','selftext','title','created_utc']]\n",
    "        df_list.append(df)\n",
    "        current_time = df.created_utc.min()\n",
    "\n",
    "    return pd.concat(df_list, axis = 0)"
   ]
  },
  {
   "cell_type": "code",
   "execution_count": 5,
   "id": "171895c0",
   "metadata": {},
   "outputs": [],
   "source": [
    "# df_tea = get_submissions('tea',20)\n",
    "# df_coffee = get_submissions('coffee',20)"
   ]
  },
  {
   "cell_type": "markdown",
   "id": "a978fff2",
   "metadata": {},
   "source": [
    "### Exporting the dataset for easier referencing"
   ]
  },
  {
   "cell_type": "code",
   "execution_count": 6,
   "id": "c848746f",
   "metadata": {},
   "outputs": [],
   "source": [
    "# This is done so that whenever this notebook is closed, I can make the above extraction codes into comments and run from the\n",
    "# read_csv line onwards\n",
    "# df_tea.to_csv(r'../project_3/data/df_tea.csv', index = False)\n",
    "# df_coffee.to_csv(r'../project_3/data/df_coffee.csv', index = False)"
   ]
  },
  {
   "cell_type": "markdown",
   "id": "e0abad7a",
   "metadata": {},
   "source": [
    "### Importing dataset"
   ]
  },
  {
   "cell_type": "code",
   "execution_count": 7,
   "id": "8fe70d99",
   "metadata": {},
   "outputs": [],
   "source": [
    "df_tea = pd.read_csv (r'../project_3/data/df_tea.csv')\n",
    "df_coffee = pd.read_csv (r'../project_3/data/df_coffee.csv')"
   ]
  },
  {
   "cell_type": "markdown",
   "id": "247db5cf",
   "metadata": {},
   "source": [
    "# Data Cleaning and Preprocessing"
   ]
  },
  {
   "cell_type": "markdown",
   "id": "f261bfb8",
   "metadata": {},
   "source": [
    "### The Data Cleaning process includes the following steps:\n",
    "* Dropping created_utc column\n",
    "* Converting columns to the correct data type\n",
    "* Removing unwanted entries, such as nan, '[removed]' and '[deleted]'\n",
    "* Removing URLs\n",
    "* Changing to lowercase\n",
    "* Removing stop words\n",
    "* Removing symbols such as parenthesis, punctuations, colons, etc."
   ]
  },
  {
   "cell_type": "markdown",
   "id": "4d82191e",
   "metadata": {},
   "source": [
    "### Dropping created_utc column"
   ]
  },
  {
   "cell_type": "code",
   "execution_count": 8,
   "id": "15b5b76a",
   "metadata": {},
   "outputs": [],
   "source": [
    "df_tea = df_tea[['subreddit','selftext','title']]\n",
    "df_coffee = df_coffee[['subreddit','selftext','title']]"
   ]
  },
  {
   "cell_type": "code",
   "execution_count": 9,
   "id": "6b5f98fe",
   "metadata": {},
   "outputs": [
    {
     "name": "stdout",
     "output_type": "stream",
     "text": [
      "(1993, 3)\n",
      "(2000, 3)\n",
      "(1993, 3)\n",
      "(2000, 3)\n"
     ]
    }
   ],
   "source": [
    "print(df_tea.shape)\n",
    "print(df_coffee.shape)"
   ]
  },
  {
   "cell_type": "markdown",
   "id": "2ccb7168",
   "metadata": {},
   "source": [
    "### Converting and checking data type"
   ]
  },
  {
   "cell_type": "code",
   "execution_count": 10,
   "id": "a0155cae",
   "metadata": {},
   "outputs": [
    {
     "name": "stdout",
     "output_type": "stream",
     "text": [
      "subreddit    object\n",
      "selftext     object\n",
      "title        object\n",
      "dtype: object\n",
      "subreddit    object\n",
      "selftext     object\n",
      "title        object\n",
      "dtype: object\n",
      "subreddit    object\n",
      "selftext     object\n",
      "title        object\n",
      "dtype: object\n",
      "subreddit    object\n",
      "selftext     object\n",
      "title        object\n",
      "dtype: object\n"
     ]
    }
   ],
   "source": [
    "# To make sure all are in string type\n",
    "df_tea[['selftext','title']] = df_tea[['selftext','title']].astype(str)\n",
    "df_coffee[['selftext','title']] = df_coffee[['selftext','title']].astype(str)\n",
    "\n",
    "# Checking for right datatype\n",
    "print(df_tea.dtypes)\n",
    "print(df_coffee.dtypes)"
   ]
  },
  {
   "cell_type": "code",
   "execution_count": 11,
   "id": "96d8d8ab",
   "metadata": {
    "scrolled": true
   },
   "outputs": [
    {
     "data": {
      "text/html": [
       "<div>\n",
       "<style scoped>\n",
       "    .dataframe tbody tr th:only-of-type {\n",
       "        vertical-align: middle;\n",
       "    }\n",
       "\n",
       "    .dataframe tbody tr th {\n",
       "        vertical-align: top;\n",
       "    }\n",
       "\n",
       "    .dataframe thead th {\n",
       "        text-align: right;\n",
       "    }\n",
       "</style>\n",
       "<table border=\"1\" class=\"dataframe\">\n",
       "  <thead>\n",
       "    <tr style=\"text-align: right;\">\n",
       "      <th></th>\n",
       "      <th>subreddit</th>\n",
       "      <th>selftext</th>\n",
       "      <th>title</th>\n",
       "    </tr>\n",
       "  </thead>\n",
       "  <tbody>\n",
       "    <tr>\n",
       "      <th>0</th>\n",
       "      <td>tea</td>\n",
       "      <td>I love tea, especially green and jasmine tea.  The thing is though, when I drink hot tea it make...</td>\n",
       "      <td>How do you make tea taste refreshing?</td>\n",
       "    </tr>\n",
       "    <tr>\n",
       "      <th>1</th>\n",
       "      <td>tea</td>\n",
       "      <td>[removed]</td>\n",
       "      <td>Best strawberry kombucha - A Delicious Probiotic Beverage!</td>\n",
       "    </tr>\n",
       "    <tr>\n",
       "      <th>2</th>\n",
       "      <td>tea</td>\n",
       "      <td>nan</td>\n",
       "      <td>Traditional Medicinals teas 🍵 Are they worth buying? 🧐</td>\n",
       "    </tr>\n",
       "    <tr>\n",
       "      <th>3</th>\n",
       "      <td>tea</td>\n",
       "      <td>nan</td>\n",
       "      <td>Do y'all like or dislike this spout!? Is it a deal breaker for you?</td>\n",
       "    </tr>\n",
       "    <tr>\n",
       "      <th>4</th>\n",
       "      <td>tea</td>\n",
       "      <td>hi, just recently getting into specialty teas, mostly in part due to me recently picking up the ...</td>\n",
       "      <td>how is the first flush experience? is it that good?</td>\n",
       "    </tr>\n",
       "  </tbody>\n",
       "</table>\n",
       "</div>"
      ],
      "text/plain": [
       "  subreddit  \\\n",
       "0       tea   \n",
       "1       tea   \n",
       "2       tea   \n",
       "3       tea   \n",
       "4       tea   \n",
       "\n",
       "                                                                                              selftext  \\\n",
       "0  I love tea, especially green and jasmine tea.  The thing is though, when I drink hot tea it make...   \n",
       "1                                                                                            [removed]   \n",
       "2                                                                                                  nan   \n",
       "3                                                                                                  nan   \n",
       "4  hi, just recently getting into specialty teas, mostly in part due to me recently picking up the ...   \n",
       "\n",
       "                                                                 title  \n",
       "0                                How do you make tea taste refreshing?  \n",
       "1           Best strawberry kombucha - A Delicious Probiotic Beverage!  \n",
       "2               Traditional Medicinals teas 🍵 Are they worth buying? 🧐  \n",
       "3  Do y'all like or dislike this spout!? Is it a deal breaker for you?  \n",
       "4                  how is the first flush experience? is it that good?  "
      ]
     },
     "execution_count": 11,
     "metadata": {},
     "output_type": "execute_result"
    },
    {
     "data": {
      "text/html": [
       "<div>\n",
       "<style scoped>\n",
       "    .dataframe tbody tr th:only-of-type {\n",
       "        vertical-align: middle;\n",
       "    }\n",
       "\n",
       "    .dataframe tbody tr th {\n",
       "        vertical-align: top;\n",
       "    }\n",
       "\n",
       "    .dataframe thead th {\n",
       "        text-align: right;\n",
       "    }\n",
       "</style>\n",
       "<table border=\"1\" class=\"dataframe\">\n",
       "  <thead>\n",
       "    <tr style=\"text-align: right;\">\n",
       "      <th></th>\n",
       "      <th>subreddit</th>\n",
       "      <th>selftext</th>\n",
       "      <th>title</th>\n",
       "    </tr>\n",
       "  </thead>\n",
       "  <tbody>\n",
       "    <tr>\n",
       "      <th>0</th>\n",
       "      <td>tea</td>\n",
       "      <td>I love tea, especially green and jasmine tea.  The thing is though, when I drink hot tea it make...</td>\n",
       "      <td>How do you make tea taste refreshing?</td>\n",
       "    </tr>\n",
       "    <tr>\n",
       "      <th>1</th>\n",
       "      <td>tea</td>\n",
       "      <td>[removed]</td>\n",
       "      <td>Best strawberry kombucha - A Delicious Probiotic Beverage!</td>\n",
       "    </tr>\n",
       "    <tr>\n",
       "      <th>2</th>\n",
       "      <td>tea</td>\n",
       "      <td>nan</td>\n",
       "      <td>Traditional Medicinals teas 🍵 Are they worth buying? 🧐</td>\n",
       "    </tr>\n",
       "    <tr>\n",
       "      <th>3</th>\n",
       "      <td>tea</td>\n",
       "      <td>nan</td>\n",
       "      <td>Do y'all like or dislike this spout!? Is it a deal breaker for you?</td>\n",
       "    </tr>\n",
       "    <tr>\n",
       "      <th>4</th>\n",
       "      <td>tea</td>\n",
       "      <td>hi, just recently getting into specialty teas, mostly in part due to me recently picking up the ...</td>\n",
       "      <td>how is the first flush experience? is it that good?</td>\n",
       "    </tr>\n",
       "  </tbody>\n",
       "</table>\n",
       "</div>"
      ],
      "text/plain": [
       "  subreddit  \\\n",
       "0       tea   \n",
       "1       tea   \n",
       "2       tea   \n",
       "3       tea   \n",
       "4       tea   \n",
       "\n",
       "                                                                                              selftext  \\\n",
       "0  I love tea, especially green and jasmine tea.  The thing is though, when I drink hot tea it make...   \n",
       "1                                                                                            [removed]   \n",
       "2                                                                                                  nan   \n",
       "3                                                                                                  nan   \n",
       "4  hi, just recently getting into specialty teas, mostly in part due to me recently picking up the ...   \n",
       "\n",
       "                                                                 title  \n",
       "0                                How do you make tea taste refreshing?  \n",
       "1           Best strawberry kombucha - A Delicious Probiotic Beverage!  \n",
       "2               Traditional Medicinals teas 🍵 Are they worth buying? 🧐  \n",
       "3  Do y'all like or dislike this spout!? Is it a deal breaker for you?  \n",
       "4                  how is the first flush experience? is it that good?  "
      ]
     },
     "execution_count": 11,
     "metadata": {},
     "output_type": "execute_result"
    }
   ],
   "source": [
    "# To have a high level view of values\n",
    "df_tea.head()"
   ]
  },
  {
   "cell_type": "code",
   "execution_count": 12,
   "id": "39652fe8",
   "metadata": {},
   "outputs": [
    {
     "data": {
      "text/html": [
       "<div>\n",
       "<style scoped>\n",
       "    .dataframe tbody tr th:only-of-type {\n",
       "        vertical-align: middle;\n",
       "    }\n",
       "\n",
       "    .dataframe tbody tr th {\n",
       "        vertical-align: top;\n",
       "    }\n",
       "\n",
       "    .dataframe thead th {\n",
       "        text-align: right;\n",
       "    }\n",
       "</style>\n",
       "<table border=\"1\" class=\"dataframe\">\n",
       "  <thead>\n",
       "    <tr style=\"text-align: right;\">\n",
       "      <th></th>\n",
       "      <th>subreddit</th>\n",
       "      <th>selftext</th>\n",
       "      <th>title</th>\n",
       "    </tr>\n",
       "  </thead>\n",
       "  <tbody>\n",
       "    <tr>\n",
       "      <th>0</th>\n",
       "      <td>Coffee</td>\n",
       "      <td>Hi guys...\\n\\nI'm hoping you may be able to help me with a question.\\n\\nShort version:\\nWill cha...</td>\n",
       "      <td>Compak K3 - Upgrade Dilemma</td>\n",
       "    </tr>\n",
       "    <tr>\n",
       "      <th>1</th>\n",
       "      <td>Coffee</td>\n",
       "      <td>Hello! Fellow college student here, staying in a dorm with no access to a stove. All I have acce...</td>\n",
       "      <td>New to brewing, any tips?</td>\n",
       "    </tr>\n",
       "    <tr>\n",
       "      <th>2</th>\n",
       "      <td>Coffee</td>\n",
       "      <td>Hi!\\n\\nI'm getting really weak taste from my Delonghi machine and it's pretty much been like tha...</td>\n",
       "      <td>Really weak taste with Delonghi Perfecta Deluxe esam 460.80</td>\n",
       "    </tr>\n",
       "    <tr>\n",
       "      <th>3</th>\n",
       "      <td>Coffee</td>\n",
       "      <td>Last  month I typed in to google \"best coffee machine for under $500\". Now a  month later, I hav...</td>\n",
       "      <td>Barista Express vs Gaggia Classic</td>\n",
       "    </tr>\n",
       "    <tr>\n",
       "      <th>4</th>\n",
       "      <td>Coffee</td>\n",
       "      <td>[deleted]</td>\n",
       "      <td>Compak K3 - Grinder upgrade?</td>\n",
       "    </tr>\n",
       "  </tbody>\n",
       "</table>\n",
       "</div>"
      ],
      "text/plain": [
       "  subreddit  \\\n",
       "0    Coffee   \n",
       "1    Coffee   \n",
       "2    Coffee   \n",
       "3    Coffee   \n",
       "4    Coffee   \n",
       "\n",
       "                                                                                              selftext  \\\n",
       "0  Hi guys...\\n\\nI'm hoping you may be able to help me with a question.\\n\\nShort version:\\nWill cha...   \n",
       "1  Hello! Fellow college student here, staying in a dorm with no access to a stove. All I have acce...   \n",
       "2  Hi!\\n\\nI'm getting really weak taste from my Delonghi machine and it's pretty much been like tha...   \n",
       "3  Last  month I typed in to google \"best coffee machine for under $500\". Now a  month later, I hav...   \n",
       "4                                                                                            [deleted]   \n",
       "\n",
       "                                                         title  \n",
       "0                                  Compak K3 - Upgrade Dilemma  \n",
       "1                                    New to brewing, any tips?  \n",
       "2  Really weak taste with Delonghi Perfecta Deluxe esam 460.80  \n",
       "3                            Barista Express vs Gaggia Classic  \n",
       "4                                 Compak K3 - Grinder upgrade?  "
      ]
     },
     "execution_count": 12,
     "metadata": {},
     "output_type": "execute_result"
    },
    {
     "data": {
      "text/html": [
       "<div>\n",
       "<style scoped>\n",
       "    .dataframe tbody tr th:only-of-type {\n",
       "        vertical-align: middle;\n",
       "    }\n",
       "\n",
       "    .dataframe tbody tr th {\n",
       "        vertical-align: top;\n",
       "    }\n",
       "\n",
       "    .dataframe thead th {\n",
       "        text-align: right;\n",
       "    }\n",
       "</style>\n",
       "<table border=\"1\" class=\"dataframe\">\n",
       "  <thead>\n",
       "    <tr style=\"text-align: right;\">\n",
       "      <th></th>\n",
       "      <th>subreddit</th>\n",
       "      <th>selftext</th>\n",
       "      <th>title</th>\n",
       "    </tr>\n",
       "  </thead>\n",
       "  <tbody>\n",
       "    <tr>\n",
       "      <th>0</th>\n",
       "      <td>Coffee</td>\n",
       "      <td>Hi guys...\\n\\nI'm hoping you may be able to help me with a question.\\n\\nShort version:\\nWill cha...</td>\n",
       "      <td>Compak K3 - Upgrade Dilemma</td>\n",
       "    </tr>\n",
       "    <tr>\n",
       "      <th>1</th>\n",
       "      <td>Coffee</td>\n",
       "      <td>Hello! Fellow college student here, staying in a dorm with no access to a stove. All I have acce...</td>\n",
       "      <td>New to brewing, any tips?</td>\n",
       "    </tr>\n",
       "    <tr>\n",
       "      <th>2</th>\n",
       "      <td>Coffee</td>\n",
       "      <td>Hi!\\n\\nI'm getting really weak taste from my Delonghi machine and it's pretty much been like tha...</td>\n",
       "      <td>Really weak taste with Delonghi Perfecta Deluxe esam 460.80</td>\n",
       "    </tr>\n",
       "    <tr>\n",
       "      <th>3</th>\n",
       "      <td>Coffee</td>\n",
       "      <td>Last  month I typed in to google \"best coffee machine for under $500\". Now a  month later, I hav...</td>\n",
       "      <td>Barista Express vs Gaggia Classic</td>\n",
       "    </tr>\n",
       "    <tr>\n",
       "      <th>4</th>\n",
       "      <td>Coffee</td>\n",
       "      <td>[deleted]</td>\n",
       "      <td>Compak K3 - Grinder upgrade?</td>\n",
       "    </tr>\n",
       "  </tbody>\n",
       "</table>\n",
       "</div>"
      ],
      "text/plain": [
       "  subreddit  \\\n",
       "0    Coffee   \n",
       "1    Coffee   \n",
       "2    Coffee   \n",
       "3    Coffee   \n",
       "4    Coffee   \n",
       "\n",
       "                                                                                              selftext  \\\n",
       "0  Hi guys...\\n\\nI'm hoping you may be able to help me with a question.\\n\\nShort version:\\nWill cha...   \n",
       "1  Hello! Fellow college student here, staying in a dorm with no access to a stove. All I have acce...   \n",
       "2  Hi!\\n\\nI'm getting really weak taste from my Delonghi machine and it's pretty much been like tha...   \n",
       "3  Last  month I typed in to google \"best coffee machine for under $500\". Now a  month later, I hav...   \n",
       "4                                                                                            [deleted]   \n",
       "\n",
       "                                                         title  \n",
       "0                                  Compak K3 - Upgrade Dilemma  \n",
       "1                                    New to brewing, any tips?  \n",
       "2  Really weak taste with Delonghi Perfecta Deluxe esam 460.80  \n",
       "3                            Barista Express vs Gaggia Classic  \n",
       "4                                 Compak K3 - Grinder upgrade?  "
      ]
     },
     "execution_count": 12,
     "metadata": {},
     "output_type": "execute_result"
    }
   ],
   "source": [
    "# To have a high level view of values\n",
    "df_coffee.head()"
   ]
  },
  {
   "cell_type": "markdown",
   "id": "16ce683c",
   "metadata": {},
   "source": [
    "### Replacing popular mispelled word"
   ]
  },
  {
   "cell_type": "code",
   "execution_count": 13,
   "id": "3a3ec79c",
   "metadata": {},
   "outputs": [],
   "source": [
    "# Based on the frequently used word plot for r/tea, noticed that many submissions have misspelled pu'er and thus corrected them\n",
    "# This is important as the model would read pu er and pu erh (most commonly observed misspelling) as separate words\n",
    "# df_tea['selftext'] = df_tea['selftext'].str.replace(\"pu'erh\",\"pu'er\").str.replace(\"pu'erhh\",\"pu'er\").str.replace(\"pu'erhhh\",\"pu'er\").str.replace(\"puerh\",\"pu-er\").str.replace(\"pu-erh\",\"pu'er\").str.replace(\"erh\",\"er\")\n",
    "# df_tea['title'] = df_tea['title'].str.replace(\"pu'erh\",\"pu'er\").str.replace(\"pu'erhh\",\"pu'er\").str.replace(\"pu'erhhh\",\"pu'er\").str.replace(\"puerh\",\"pu-er\").str.replace(\"pu-erh\",\"pu'er\").str.replace(\"erh\",\"er\")"
   ]
  },
  {
   "cell_type": "markdown",
   "id": "bb631853",
   "metadata": {},
   "source": [
    "### Removing unwanted entries, such as nan, '[removed]' and '[deleted]'"
   ]
  },
  {
   "cell_type": "code",
   "execution_count": 14,
   "id": "5577e71e",
   "metadata": {},
   "outputs": [],
   "source": [
    "df_tea['selftext'] = df_tea['selftext'].str.replace('nan','').str.replace('removed','').str.replace('deleted','')"
   ]
  },
  {
   "cell_type": "code",
   "execution_count": 15,
   "id": "46a28326",
   "metadata": {
    "scrolled": true
   },
   "outputs": [
    {
     "data": {
      "text/html": [
       "<div>\n",
       "<style scoped>\n",
       "    .dataframe tbody tr th:only-of-type {\n",
       "        vertical-align: middle;\n",
       "    }\n",
       "\n",
       "    .dataframe tbody tr th {\n",
       "        vertical-align: top;\n",
       "    }\n",
       "\n",
       "    .dataframe thead th {\n",
       "        text-align: right;\n",
       "    }\n",
       "</style>\n",
       "<table border=\"1\" class=\"dataframe\">\n",
       "  <thead>\n",
       "    <tr style=\"text-align: right;\">\n",
       "      <th></th>\n",
       "      <th>subreddit</th>\n",
       "      <th>selftext</th>\n",
       "      <th>title</th>\n",
       "    </tr>\n",
       "  </thead>\n",
       "  <tbody>\n",
       "    <tr>\n",
       "      <th>0</th>\n",
       "      <td>tea</td>\n",
       "      <td>I love tea, especially green and jasmine tea.  The thing is though, when I drink hot tea it make...</td>\n",
       "      <td>How do you make tea taste refreshing?</td>\n",
       "    </tr>\n",
       "    <tr>\n",
       "      <th>1</th>\n",
       "      <td>tea</td>\n",
       "      <td>[]</td>\n",
       "      <td>Best strawberry kombucha - A Delicious Probiotic Beverage!</td>\n",
       "    </tr>\n",
       "    <tr>\n",
       "      <th>2</th>\n",
       "      <td>tea</td>\n",
       "      <td></td>\n",
       "      <td>Traditional Medicinals teas 🍵 Are they worth buying? 🧐</td>\n",
       "    </tr>\n",
       "    <tr>\n",
       "      <th>3</th>\n",
       "      <td>tea</td>\n",
       "      <td></td>\n",
       "      <td>Do y'all like or dislike this spout!? Is it a deal breaker for you?</td>\n",
       "    </tr>\n",
       "    <tr>\n",
       "      <th>4</th>\n",
       "      <td>tea</td>\n",
       "      <td>hi, just recently getting into specialty teas, mostly in part due to me recently picking up the ...</td>\n",
       "      <td>how is the first flush experience? is it that good?</td>\n",
       "    </tr>\n",
       "  </tbody>\n",
       "</table>\n",
       "</div>"
      ],
      "text/plain": [
       "  subreddit  \\\n",
       "0       tea   \n",
       "1       tea   \n",
       "2       tea   \n",
       "3       tea   \n",
       "4       tea   \n",
       "\n",
       "                                                                                              selftext  \\\n",
       "0  I love tea, especially green and jasmine tea.  The thing is though, when I drink hot tea it make...   \n",
       "1                                                                                                   []   \n",
       "2                                                                                                        \n",
       "3                                                                                                        \n",
       "4  hi, just recently getting into specialty teas, mostly in part due to me recently picking up the ...   \n",
       "\n",
       "                                                                 title  \n",
       "0                                How do you make tea taste refreshing?  \n",
       "1           Best strawberry kombucha - A Delicious Probiotic Beverage!  \n",
       "2               Traditional Medicinals teas 🍵 Are they worth buying? 🧐  \n",
       "3  Do y'all like or dislike this spout!? Is it a deal breaker for you?  \n",
       "4                  how is the first flush experience? is it that good?  "
      ]
     },
     "execution_count": 15,
     "metadata": {},
     "output_type": "execute_result"
    },
    {
     "data": {
      "text/html": [
       "<div>\n",
       "<style scoped>\n",
       "    .dataframe tbody tr th:only-of-type {\n",
       "        vertical-align: middle;\n",
       "    }\n",
       "\n",
       "    .dataframe tbody tr th {\n",
       "        vertical-align: top;\n",
       "    }\n",
       "\n",
       "    .dataframe thead th {\n",
       "        text-align: right;\n",
       "    }\n",
       "</style>\n",
       "<table border=\"1\" class=\"dataframe\">\n",
       "  <thead>\n",
       "    <tr style=\"text-align: right;\">\n",
       "      <th></th>\n",
       "      <th>subreddit</th>\n",
       "      <th>selftext</th>\n",
       "      <th>title</th>\n",
       "    </tr>\n",
       "  </thead>\n",
       "  <tbody>\n",
       "    <tr>\n",
       "      <th>0</th>\n",
       "      <td>tea</td>\n",
       "      <td>I love tea, especially green and jasmine tea.  The thing is though, when I drink hot tea it make...</td>\n",
       "      <td>How do you make tea taste refreshing?</td>\n",
       "    </tr>\n",
       "    <tr>\n",
       "      <th>1</th>\n",
       "      <td>tea</td>\n",
       "      <td>[]</td>\n",
       "      <td>Best strawberry kombucha - A Delicious Probiotic Beverage!</td>\n",
       "    </tr>\n",
       "    <tr>\n",
       "      <th>2</th>\n",
       "      <td>tea</td>\n",
       "      <td></td>\n",
       "      <td>Traditional Medicinals teas 🍵 Are they worth buying? 🧐</td>\n",
       "    </tr>\n",
       "    <tr>\n",
       "      <th>3</th>\n",
       "      <td>tea</td>\n",
       "      <td></td>\n",
       "      <td>Do y'all like or dislike this spout!? Is it a deal breaker for you?</td>\n",
       "    </tr>\n",
       "    <tr>\n",
       "      <th>4</th>\n",
       "      <td>tea</td>\n",
       "      <td>hi, just recently getting into specialty teas, mostly in part due to me recently picking up the ...</td>\n",
       "      <td>how is the first flush experience? is it that good?</td>\n",
       "    </tr>\n",
       "  </tbody>\n",
       "</table>\n",
       "</div>"
      ],
      "text/plain": [
       "  subreddit  \\\n",
       "0       tea   \n",
       "1       tea   \n",
       "2       tea   \n",
       "3       tea   \n",
       "4       tea   \n",
       "\n",
       "                                                                                              selftext  \\\n",
       "0  I love tea, especially green and jasmine tea.  The thing is though, when I drink hot tea it make...   \n",
       "1                                                                                                   []   \n",
       "2                                                                                                        \n",
       "3                                                                                                        \n",
       "4  hi, just recently getting into specialty teas, mostly in part due to me recently picking up the ...   \n",
       "\n",
       "                                                                 title  \n",
       "0                                How do you make tea taste refreshing?  \n",
       "1           Best strawberry kombucha - A Delicious Probiotic Beverage!  \n",
       "2               Traditional Medicinals teas 🍵 Are they worth buying? 🧐  \n",
       "3  Do y'all like or dislike this spout!? Is it a deal breaker for you?  \n",
       "4                  how is the first flush experience? is it that good?  "
      ]
     },
     "execution_count": 15,
     "metadata": {},
     "output_type": "execute_result"
    }
   ],
   "source": [
    "df_tea.head()"
   ]
  },
  {
   "cell_type": "code",
   "execution_count": 16,
   "id": "3aa95294",
   "metadata": {},
   "outputs": [],
   "source": [
    "df_coffee['selftext'] = df_coffee['selftext'].str.replace('nan','').str.replace('removed','').str.replace('deleted','')"
   ]
  },
  {
   "cell_type": "code",
   "execution_count": 17,
   "id": "9c50eba7",
   "metadata": {
    "scrolled": true
   },
   "outputs": [
    {
     "data": {
      "text/html": [
       "<div>\n",
       "<style scoped>\n",
       "    .dataframe tbody tr th:only-of-type {\n",
       "        vertical-align: middle;\n",
       "    }\n",
       "\n",
       "    .dataframe tbody tr th {\n",
       "        vertical-align: top;\n",
       "    }\n",
       "\n",
       "    .dataframe thead th {\n",
       "        text-align: right;\n",
       "    }\n",
       "</style>\n",
       "<table border=\"1\" class=\"dataframe\">\n",
       "  <thead>\n",
       "    <tr style=\"text-align: right;\">\n",
       "      <th></th>\n",
       "      <th>subreddit</th>\n",
       "      <th>selftext</th>\n",
       "      <th>title</th>\n",
       "    </tr>\n",
       "  </thead>\n",
       "  <tbody>\n",
       "    <tr>\n",
       "      <th>0</th>\n",
       "      <td>Coffee</td>\n",
       "      <td>Hi guys...\\n\\nI'm hoping you may be able to help me with a question.\\n\\nShort version:\\nWill cha...</td>\n",
       "      <td>Compak K3 - Upgrade Dilemma</td>\n",
       "    </tr>\n",
       "    <tr>\n",
       "      <th>1</th>\n",
       "      <td>Coffee</td>\n",
       "      <td>Hello! Fellow college student here, staying in a dorm with no access to a stove. All I have acce...</td>\n",
       "      <td>New to brewing, any tips?</td>\n",
       "    </tr>\n",
       "    <tr>\n",
       "      <th>2</th>\n",
       "      <td>Coffee</td>\n",
       "      <td>Hi!\\n\\nI'm getting really weak taste from my Delonghi machine and it's pretty much been like tha...</td>\n",
       "      <td>Really weak taste with Delonghi Perfecta Deluxe esam 460.80</td>\n",
       "    </tr>\n",
       "    <tr>\n",
       "      <th>3</th>\n",
       "      <td>Coffee</td>\n",
       "      <td>Last  month I typed in to google \"best coffee machine for under $500\". Now a  month later, I hav...</td>\n",
       "      <td>Barista Express vs Gaggia Classic</td>\n",
       "    </tr>\n",
       "    <tr>\n",
       "      <th>4</th>\n",
       "      <td>Coffee</td>\n",
       "      <td>[]</td>\n",
       "      <td>Compak K3 - Grinder upgrade?</td>\n",
       "    </tr>\n",
       "  </tbody>\n",
       "</table>\n",
       "</div>"
      ],
      "text/plain": [
       "  subreddit  \\\n",
       "0    Coffee   \n",
       "1    Coffee   \n",
       "2    Coffee   \n",
       "3    Coffee   \n",
       "4    Coffee   \n",
       "\n",
       "                                                                                              selftext  \\\n",
       "0  Hi guys...\\n\\nI'm hoping you may be able to help me with a question.\\n\\nShort version:\\nWill cha...   \n",
       "1  Hello! Fellow college student here, staying in a dorm with no access to a stove. All I have acce...   \n",
       "2  Hi!\\n\\nI'm getting really weak taste from my Delonghi machine and it's pretty much been like tha...   \n",
       "3  Last  month I typed in to google \"best coffee machine for under $500\". Now a  month later, I hav...   \n",
       "4                                                                                                   []   \n",
       "\n",
       "                                                         title  \n",
       "0                                  Compak K3 - Upgrade Dilemma  \n",
       "1                                    New to brewing, any tips?  \n",
       "2  Really weak taste with Delonghi Perfecta Deluxe esam 460.80  \n",
       "3                            Barista Express vs Gaggia Classic  \n",
       "4                                 Compak K3 - Grinder upgrade?  "
      ]
     },
     "execution_count": 17,
     "metadata": {},
     "output_type": "execute_result"
    },
    {
     "data": {
      "text/html": [
       "<div>\n",
       "<style scoped>\n",
       "    .dataframe tbody tr th:only-of-type {\n",
       "        vertical-align: middle;\n",
       "    }\n",
       "\n",
       "    .dataframe tbody tr th {\n",
       "        vertical-align: top;\n",
       "    }\n",
       "\n",
       "    .dataframe thead th {\n",
       "        text-align: right;\n",
       "    }\n",
       "</style>\n",
       "<table border=\"1\" class=\"dataframe\">\n",
       "  <thead>\n",
       "    <tr style=\"text-align: right;\">\n",
       "      <th></th>\n",
       "      <th>subreddit</th>\n",
       "      <th>selftext</th>\n",
       "      <th>title</th>\n",
       "    </tr>\n",
       "  </thead>\n",
       "  <tbody>\n",
       "    <tr>\n",
       "      <th>0</th>\n",
       "      <td>Coffee</td>\n",
       "      <td>Hi guys...\\n\\nI'm hoping you may be able to help me with a question.\\n\\nShort version:\\nWill cha...</td>\n",
       "      <td>Compak K3 - Upgrade Dilemma</td>\n",
       "    </tr>\n",
       "    <tr>\n",
       "      <th>1</th>\n",
       "      <td>Coffee</td>\n",
       "      <td>Hello! Fellow college student here, staying in a dorm with no access to a stove. All I have acce...</td>\n",
       "      <td>New to brewing, any tips?</td>\n",
       "    </tr>\n",
       "    <tr>\n",
       "      <th>2</th>\n",
       "      <td>Coffee</td>\n",
       "      <td>Hi!\\n\\nI'm getting really weak taste from my Delonghi machine and it's pretty much been like tha...</td>\n",
       "      <td>Really weak taste with Delonghi Perfecta Deluxe esam 460.80</td>\n",
       "    </tr>\n",
       "    <tr>\n",
       "      <th>3</th>\n",
       "      <td>Coffee</td>\n",
       "      <td>Last  month I typed in to google \"best coffee machine for under $500\". Now a  month later, I hav...</td>\n",
       "      <td>Barista Express vs Gaggia Classic</td>\n",
       "    </tr>\n",
       "    <tr>\n",
       "      <th>4</th>\n",
       "      <td>Coffee</td>\n",
       "      <td>[]</td>\n",
       "      <td>Compak K3 - Grinder upgrade?</td>\n",
       "    </tr>\n",
       "  </tbody>\n",
       "</table>\n",
       "</div>"
      ],
      "text/plain": [
       "  subreddit  \\\n",
       "0    Coffee   \n",
       "1    Coffee   \n",
       "2    Coffee   \n",
       "3    Coffee   \n",
       "4    Coffee   \n",
       "\n",
       "                                                                                              selftext  \\\n",
       "0  Hi guys...\\n\\nI'm hoping you may be able to help me with a question.\\n\\nShort version:\\nWill cha...   \n",
       "1  Hello! Fellow college student here, staying in a dorm with no access to a stove. All I have acce...   \n",
       "2  Hi!\\n\\nI'm getting really weak taste from my Delonghi machine and it's pretty much been like tha...   \n",
       "3  Last  month I typed in to google \"best coffee machine for under $500\". Now a  month later, I hav...   \n",
       "4                                                                                                   []   \n",
       "\n",
       "                                                         title  \n",
       "0                                  Compak K3 - Upgrade Dilemma  \n",
       "1                                    New to brewing, any tips?  \n",
       "2  Really weak taste with Delonghi Perfecta Deluxe esam 460.80  \n",
       "3                            Barista Express vs Gaggia Classic  \n",
       "4                                 Compak K3 - Grinder upgrade?  "
      ]
     },
     "execution_count": 17,
     "metadata": {},
     "output_type": "execute_result"
    }
   ],
   "source": [
    "df_coffee.head()"
   ]
  },
  {
   "cell_type": "markdown",
   "id": "814f0466",
   "metadata": {},
   "source": [
    "### Removing URLs"
   ]
  },
  {
   "cell_type": "code",
   "execution_count": 18,
   "id": "fc48e5ae",
   "metadata": {},
   "outputs": [],
   "source": [
    "# Removing URLs\n",
    "df_tea['selftext'] = df_tea['selftext'].str.replace(r'http.+','',regex=True)\n",
    "\n",
    "df_tea['title'] = df_tea['title'].str.replace(r'http.+','',regex=True)\n",
    "\n",
    "df_coffee['selftext'] = df_coffee['selftext'].str.replace(r'http.+','',regex=True)\n",
    "\n",
    "df_coffee['title'] = df_coffee['title'].str.replace(r'http.+','',regex=True)"
   ]
  },
  {
   "cell_type": "markdown",
   "id": "75b96776",
   "metadata": {},
   "source": [
    "### Tokenizing"
   ]
  },
  {
   "cell_type": "code",
   "execution_count": 19,
   "id": "15118329",
   "metadata": {},
   "outputs": [],
   "source": [
    "# Create function to be used to tokenize selftext and title columns\n",
    "def tokenize(df):\n",
    "    df['selftext'] = df['selftext'].apply(lambda x: gensim.utils.simple_preprocess(x))\n",
    "    df['title'] = df['title'].apply(lambda x: gensim.utils.simple_preprocess(x))"
   ]
  },
  {
   "cell_type": "code",
   "execution_count": 20,
   "id": "9adb2ac2",
   "metadata": {},
   "outputs": [],
   "source": [
    "tokenize(df_tea)"
   ]
  },
  {
   "cell_type": "code",
   "execution_count": 21,
   "id": "61fc452c",
   "metadata": {},
   "outputs": [],
   "source": [
    "tokenize(df_coffee)"
   ]
  },
  {
   "cell_type": "markdown",
   "id": "41eafe7e",
   "metadata": {},
   "source": [
    "### Changing to lowercase"
   ]
  },
  {
   "cell_type": "code",
   "execution_count": 22,
   "id": "75548d77",
   "metadata": {},
   "outputs": [],
   "source": [
    "# Create function that changes all letters to lowercase\n",
    "def to_lowercase(words):\n",
    "    \"\"\"Convert all characters to lowercase from list of tokenized words\"\"\"\n",
    "    new_words = []\n",
    "    for word in words:\n",
    "        new_word = word.lower()\n",
    "        new_words.append(new_word)\n",
    "    return new_words"
   ]
  },
  {
   "cell_type": "code",
   "execution_count": 23,
   "id": "6f8e4b1e",
   "metadata": {},
   "outputs": [],
   "source": [
    "# Applying to the 4 columns to change from mixed case to all lowercase\n",
    "df_tea['selftext'] = df_tea['selftext'].apply(to_lowercase)\n",
    "df_tea['title'] = df_tea['title'].apply(to_lowercase)\n",
    "df_coffee['selftext'] = df_coffee['selftext'].apply(to_lowercase)\n",
    "df_coffee['title'] = df_coffee['title'].apply(to_lowercase)"
   ]
  },
  {
   "cell_type": "code",
   "execution_count": 24,
   "id": "36e2a082",
   "metadata": {},
   "outputs": [
    {
     "data": {
      "text/html": [
       "<div>\n",
       "<style scoped>\n",
       "    .dataframe tbody tr th:only-of-type {\n",
       "        vertical-align: middle;\n",
       "    }\n",
       "\n",
       "    .dataframe tbody tr th {\n",
       "        vertical-align: top;\n",
       "    }\n",
       "\n",
       "    .dataframe thead th {\n",
       "        text-align: right;\n",
       "    }\n",
       "</style>\n",
       "<table border=\"1\" class=\"dataframe\">\n",
       "  <thead>\n",
       "    <tr style=\"text-align: right;\">\n",
       "      <th></th>\n",
       "      <th>subreddit</th>\n",
       "      <th>selftext</th>\n",
       "      <th>title</th>\n",
       "    </tr>\n",
       "  </thead>\n",
       "  <tbody>\n",
       "    <tr>\n",
       "      <th>0</th>\n",
       "      <td>tea</td>\n",
       "      <td>[love, tea, especially, green, and, jasmine, tea, the, thing, is, though, when, drink, hot, tea,...</td>\n",
       "      <td>[how, do, you, make, tea, taste, refreshing]</td>\n",
       "    </tr>\n",
       "    <tr>\n",
       "      <th>1</th>\n",
       "      <td>tea</td>\n",
       "      <td>[]</td>\n",
       "      <td>[best, strawberry, kombucha, delicious, probiotic, beverage]</td>\n",
       "    </tr>\n",
       "    <tr>\n",
       "      <th>2</th>\n",
       "      <td>tea</td>\n",
       "      <td>[]</td>\n",
       "      <td>[traditional, medicinals, teas, are, they, worth, buying]</td>\n",
       "    </tr>\n",
       "    <tr>\n",
       "      <th>3</th>\n",
       "      <td>tea</td>\n",
       "      <td>[]</td>\n",
       "      <td>[do, all, like, or, dislike, this, spout, is, it, deal, breaker, for, you]</td>\n",
       "    </tr>\n",
       "    <tr>\n",
       "      <th>4</th>\n",
       "      <td>tea</td>\n",
       "      <td>[hi, just, recently, getting, into, specialty, teas, mostly, in, part, due, to, me, recently, pi...</td>\n",
       "      <td>[how, is, the, first, flush, experience, is, it, that, good]</td>\n",
       "    </tr>\n",
       "  </tbody>\n",
       "</table>\n",
       "</div>"
      ],
      "text/plain": [
       "  subreddit  \\\n",
       "0       tea   \n",
       "1       tea   \n",
       "2       tea   \n",
       "3       tea   \n",
       "4       tea   \n",
       "\n",
       "                                                                                              selftext  \\\n",
       "0  [love, tea, especially, green, and, jasmine, tea, the, thing, is, though, when, drink, hot, tea,...   \n",
       "1                                                                                                   []   \n",
       "2                                                                                                   []   \n",
       "3                                                                                                   []   \n",
       "4  [hi, just, recently, getting, into, specialty, teas, mostly, in, part, due, to, me, recently, pi...   \n",
       "\n",
       "                                                                        title  \n",
       "0                                [how, do, you, make, tea, taste, refreshing]  \n",
       "1                [best, strawberry, kombucha, delicious, probiotic, beverage]  \n",
       "2                   [traditional, medicinals, teas, are, they, worth, buying]  \n",
       "3  [do, all, like, or, dislike, this, spout, is, it, deal, breaker, for, you]  \n",
       "4                [how, is, the, first, flush, experience, is, it, that, good]  "
      ]
     },
     "execution_count": 24,
     "metadata": {},
     "output_type": "execute_result"
    },
    {
     "data": {
      "text/html": [
       "<div>\n",
       "<style scoped>\n",
       "    .dataframe tbody tr th:only-of-type {\n",
       "        vertical-align: middle;\n",
       "    }\n",
       "\n",
       "    .dataframe tbody tr th {\n",
       "        vertical-align: top;\n",
       "    }\n",
       "\n",
       "    .dataframe thead th {\n",
       "        text-align: right;\n",
       "    }\n",
       "</style>\n",
       "<table border=\"1\" class=\"dataframe\">\n",
       "  <thead>\n",
       "    <tr style=\"text-align: right;\">\n",
       "      <th></th>\n",
       "      <th>subreddit</th>\n",
       "      <th>selftext</th>\n",
       "      <th>title</th>\n",
       "    </tr>\n",
       "  </thead>\n",
       "  <tbody>\n",
       "    <tr>\n",
       "      <th>0</th>\n",
       "      <td>tea</td>\n",
       "      <td>[love, tea, especially, green, and, jasmine, tea, the, thing, is, though, when, drink, hot, tea,...</td>\n",
       "      <td>[how, do, you, make, tea, taste, refreshing]</td>\n",
       "    </tr>\n",
       "    <tr>\n",
       "      <th>1</th>\n",
       "      <td>tea</td>\n",
       "      <td>[]</td>\n",
       "      <td>[best, strawberry, kombucha, delicious, probiotic, beverage]</td>\n",
       "    </tr>\n",
       "    <tr>\n",
       "      <th>2</th>\n",
       "      <td>tea</td>\n",
       "      <td>[]</td>\n",
       "      <td>[traditional, medicinals, teas, are, they, worth, buying]</td>\n",
       "    </tr>\n",
       "    <tr>\n",
       "      <th>3</th>\n",
       "      <td>tea</td>\n",
       "      <td>[]</td>\n",
       "      <td>[do, all, like, or, dislike, this, spout, is, it, deal, breaker, for, you]</td>\n",
       "    </tr>\n",
       "    <tr>\n",
       "      <th>4</th>\n",
       "      <td>tea</td>\n",
       "      <td>[hi, just, recently, getting, into, specialty, teas, mostly, in, part, due, to, me, recently, pi...</td>\n",
       "      <td>[how, is, the, first, flush, experience, is, it, that, good]</td>\n",
       "    </tr>\n",
       "  </tbody>\n",
       "</table>\n",
       "</div>"
      ],
      "text/plain": [
       "  subreddit  \\\n",
       "0       tea   \n",
       "1       tea   \n",
       "2       tea   \n",
       "3       tea   \n",
       "4       tea   \n",
       "\n",
       "                                                                                              selftext  \\\n",
       "0  [love, tea, especially, green, and, jasmine, tea, the, thing, is, though, when, drink, hot, tea,...   \n",
       "1                                                                                                   []   \n",
       "2                                                                                                   []   \n",
       "3                                                                                                   []   \n",
       "4  [hi, just, recently, getting, into, specialty, teas, mostly, in, part, due, to, me, recently, pi...   \n",
       "\n",
       "                                                                        title  \n",
       "0                                [how, do, you, make, tea, taste, refreshing]  \n",
       "1                [best, strawberry, kombucha, delicious, probiotic, beverage]  \n",
       "2                   [traditional, medicinals, teas, are, they, worth, buying]  \n",
       "3  [do, all, like, or, dislike, this, spout, is, it, deal, breaker, for, you]  \n",
       "4                [how, is, the, first, flush, experience, is, it, that, good]  "
      ]
     },
     "execution_count": 24,
     "metadata": {},
     "output_type": "execute_result"
    }
   ],
   "source": [
    "df_tea.head()"
   ]
  },
  {
   "cell_type": "code",
   "execution_count": 25,
   "id": "1f1bddb8",
   "metadata": {},
   "outputs": [
    {
     "data": {
      "text/html": [
       "<div>\n",
       "<style scoped>\n",
       "    .dataframe tbody tr th:only-of-type {\n",
       "        vertical-align: middle;\n",
       "    }\n",
       "\n",
       "    .dataframe tbody tr th {\n",
       "        vertical-align: top;\n",
       "    }\n",
       "\n",
       "    .dataframe thead th {\n",
       "        text-align: right;\n",
       "    }\n",
       "</style>\n",
       "<table border=\"1\" class=\"dataframe\">\n",
       "  <thead>\n",
       "    <tr style=\"text-align: right;\">\n",
       "      <th></th>\n",
       "      <th>subreddit</th>\n",
       "      <th>selftext</th>\n",
       "      <th>title</th>\n",
       "    </tr>\n",
       "  </thead>\n",
       "  <tbody>\n",
       "    <tr>\n",
       "      <th>0</th>\n",
       "      <td>Coffee</td>\n",
       "      <td>[hi, guys, hoping, you, may, be, able, to, help, me, with, question, short, version, will, chang...</td>\n",
       "      <td>[compak, upgrade, dilemma]</td>\n",
       "    </tr>\n",
       "    <tr>\n",
       "      <th>1</th>\n",
       "      <td>Coffee</td>\n",
       "      <td>[hello, fellow, college, student, here, staying, in, dorm, with, no, access, to, stove, all, hav...</td>\n",
       "      <td>[new, to, brewing, any, tips]</td>\n",
       "    </tr>\n",
       "    <tr>\n",
       "      <th>2</th>\n",
       "      <td>Coffee</td>\n",
       "      <td>[hi, getting, really, weak, taste, from, my, delonghi, machine, and, it, pretty, much, been, lik...</td>\n",
       "      <td>[really, weak, taste, with, delonghi, perfecta, deluxe, esam]</td>\n",
       "    </tr>\n",
       "    <tr>\n",
       "      <th>3</th>\n",
       "      <td>Coffee</td>\n",
       "      <td>[last, month, typed, in, to, google, best, coffee, machine, for, under, now, month, later, have,...</td>\n",
       "      <td>[barista, express, vs, gaggia, classic]</td>\n",
       "    </tr>\n",
       "    <tr>\n",
       "      <th>4</th>\n",
       "      <td>Coffee</td>\n",
       "      <td>[]</td>\n",
       "      <td>[compak, grinder, upgrade]</td>\n",
       "    </tr>\n",
       "  </tbody>\n",
       "</table>\n",
       "</div>"
      ],
      "text/plain": [
       "  subreddit  \\\n",
       "0    Coffee   \n",
       "1    Coffee   \n",
       "2    Coffee   \n",
       "3    Coffee   \n",
       "4    Coffee   \n",
       "\n",
       "                                                                                              selftext  \\\n",
       "0  [hi, guys, hoping, you, may, be, able, to, help, me, with, question, short, version, will, chang...   \n",
       "1  [hello, fellow, college, student, here, staying, in, dorm, with, no, access, to, stove, all, hav...   \n",
       "2  [hi, getting, really, weak, taste, from, my, delonghi, machine, and, it, pretty, much, been, lik...   \n",
       "3  [last, month, typed, in, to, google, best, coffee, machine, for, under, now, month, later, have,...   \n",
       "4                                                                                                   []   \n",
       "\n",
       "                                                           title  \n",
       "0                                     [compak, upgrade, dilemma]  \n",
       "1                                  [new, to, brewing, any, tips]  \n",
       "2  [really, weak, taste, with, delonghi, perfecta, deluxe, esam]  \n",
       "3                        [barista, express, vs, gaggia, classic]  \n",
       "4                                     [compak, grinder, upgrade]  "
      ]
     },
     "execution_count": 25,
     "metadata": {},
     "output_type": "execute_result"
    },
    {
     "data": {
      "text/html": [
       "<div>\n",
       "<style scoped>\n",
       "    .dataframe tbody tr th:only-of-type {\n",
       "        vertical-align: middle;\n",
       "    }\n",
       "\n",
       "    .dataframe tbody tr th {\n",
       "        vertical-align: top;\n",
       "    }\n",
       "\n",
       "    .dataframe thead th {\n",
       "        text-align: right;\n",
       "    }\n",
       "</style>\n",
       "<table border=\"1\" class=\"dataframe\">\n",
       "  <thead>\n",
       "    <tr style=\"text-align: right;\">\n",
       "      <th></th>\n",
       "      <th>subreddit</th>\n",
       "      <th>selftext</th>\n",
       "      <th>title</th>\n",
       "    </tr>\n",
       "  </thead>\n",
       "  <tbody>\n",
       "    <tr>\n",
       "      <th>0</th>\n",
       "      <td>Coffee</td>\n",
       "      <td>[hi, guys, hoping, you, may, be, able, to, help, me, with, question, short, version, will, chang...</td>\n",
       "      <td>[compak, upgrade, dilemma]</td>\n",
       "    </tr>\n",
       "    <tr>\n",
       "      <th>1</th>\n",
       "      <td>Coffee</td>\n",
       "      <td>[hello, fellow, college, student, here, staying, in, dorm, with, no, access, to, stove, all, hav...</td>\n",
       "      <td>[new, to, brewing, any, tips]</td>\n",
       "    </tr>\n",
       "    <tr>\n",
       "      <th>2</th>\n",
       "      <td>Coffee</td>\n",
       "      <td>[hi, getting, really, weak, taste, from, my, delonghi, machine, and, it, pretty, much, been, lik...</td>\n",
       "      <td>[really, weak, taste, with, delonghi, perfecta, deluxe, esam]</td>\n",
       "    </tr>\n",
       "    <tr>\n",
       "      <th>3</th>\n",
       "      <td>Coffee</td>\n",
       "      <td>[last, month, typed, in, to, google, best, coffee, machine, for, under, now, month, later, have,...</td>\n",
       "      <td>[barista, express, vs, gaggia, classic]</td>\n",
       "    </tr>\n",
       "    <tr>\n",
       "      <th>4</th>\n",
       "      <td>Coffee</td>\n",
       "      <td>[]</td>\n",
       "      <td>[compak, grinder, upgrade]</td>\n",
       "    </tr>\n",
       "  </tbody>\n",
       "</table>\n",
       "</div>"
      ],
      "text/plain": [
       "  subreddit  \\\n",
       "0    Coffee   \n",
       "1    Coffee   \n",
       "2    Coffee   \n",
       "3    Coffee   \n",
       "4    Coffee   \n",
       "\n",
       "                                                                                              selftext  \\\n",
       "0  [hi, guys, hoping, you, may, be, able, to, help, me, with, question, short, version, will, chang...   \n",
       "1  [hello, fellow, college, student, here, staying, in, dorm, with, no, access, to, stove, all, hav...   \n",
       "2  [hi, getting, really, weak, taste, from, my, delonghi, machine, and, it, pretty, much, been, lik...   \n",
       "3  [last, month, typed, in, to, google, best, coffee, machine, for, under, now, month, later, have,...   \n",
       "4                                                                                                   []   \n",
       "\n",
       "                                                           title  \n",
       "0                                     [compak, upgrade, dilemma]  \n",
       "1                                  [new, to, brewing, any, tips]  \n",
       "2  [really, weak, taste, with, delonghi, perfecta, deluxe, esam]  \n",
       "3                        [barista, express, vs, gaggia, classic]  \n",
       "4                                     [compak, grinder, upgrade]  "
      ]
     },
     "execution_count": 25,
     "metadata": {},
     "output_type": "execute_result"
    }
   ],
   "source": [
    "df_coffee.head()"
   ]
  },
  {
   "cell_type": "markdown",
   "id": "adbc7f08",
   "metadata": {},
   "source": [
    "### Removing punctuations that are directly behind a word"
   ]
  },
  {
   "cell_type": "code",
   "execution_count": 26,
   "id": "1b1a50be",
   "metadata": {},
   "outputs": [],
   "source": [
    "# Create function that checks if the last character of a 'word' (text between whitespaces) is a punctuation, remove the \n",
    "# punctuation and append it to the list\n",
    "def remove_behind_punctuations(words):\n",
    "    word_no_punctuations_behind = []\n",
    "    for word in words:\n",
    "        if word[-1] in string.punctuation:\n",
    "            new_word = word[:-1]\n",
    "            word_no_punctuations_behind.append(new_word)\n",
    "        else:\n",
    "            word_no_punctuations_behind.append(word)\n",
    "    return word_no_punctuations_behind"
   ]
  },
  {
   "cell_type": "code",
   "execution_count": 27,
   "id": "a6ffdc23",
   "metadata": {},
   "outputs": [],
   "source": [
    "# Removing the punctuations at the back of the words\n",
    "df_tea['selftext'] = df_tea['selftext'].apply(remove_behind_punctuations)\n",
    "df_tea['title'] = df_tea['title'].apply(remove_behind_punctuations)\n",
    "df_coffee['selftext'] = df_coffee['selftext'].apply(remove_behind_punctuations)\n",
    "df_coffee['title'] = df_coffee['title'].apply(remove_behind_punctuations)"
   ]
  },
  {
   "cell_type": "markdown",
   "id": "e8e26fe7",
   "metadata": {},
   "source": [
    "##### This above function is used instead of removing non-ascii words is because there are mentions of some machinery names that are present in one subreddit and not the other, such as names of coffee machine series which may not be ascii words. Also this function would also remove common emoticons such as :)"
   ]
  },
  {
   "cell_type": "markdown",
   "id": "93c24c90",
   "metadata": {},
   "source": [
    "### Lemmatizing the columns"
   ]
  },
  {
   "cell_type": "code",
   "execution_count": 28,
   "id": "0a1977d8",
   "metadata": {},
   "outputs": [],
   "source": [
    "# Creating more stop words to make it more comprehensive\n",
    "updated_stopwords = stopwords.words('english')[:]\n",
    "\n",
    "# Doing this based on additional common words when scrolling through the subreddits and dropping common words in the\n",
    "# single, pair and trio plots\n",
    "# Have to remove the words 'coffee' and 'tea' as well\n",
    "to_add_to_stopwords = ['guygal','html','png','webp','crypto','invest','waitlist','jpg','pjpg','portfolio','www','com','ha','feel','coffee','tea']"
   ]
  },
  {
   "cell_type": "code",
   "execution_count": 29,
   "id": "c801068b",
   "metadata": {},
   "outputs": [],
   "source": [
    "updated_stopwords.extend(to_add_to_stopwords)"
   ]
  },
  {
   "cell_type": "code",
   "execution_count": 30,
   "id": "bee53174",
   "metadata": {},
   "outputs": [],
   "source": [
    "def lemmatizing(words):\n",
    "    # Lemmatize each word of the text\n",
    "    lemmatizer = WordNetLemmatizer()\n",
    "    words = [lemmatizer.lemmatize(word) for word in words]\n",
    "    words = [word for word in words if word not in updated_stopwords]\n",
    "    return words"
   ]
  },
  {
   "cell_type": "code",
   "execution_count": 31,
   "id": "d9d4bcfe",
   "metadata": {},
   "outputs": [],
   "source": [
    "df_tea['selftext'] = df_tea['selftext'].apply(lemmatizing)\n",
    "df_tea['title'] = df_tea['title'].apply(lemmatizing)\n",
    "df_coffee['selftext'] = df_coffee['selftext'].apply(lemmatizing)\n",
    "df_coffee['title'] = df_coffee['title'].apply(lemmatizing)"
   ]
  },
  {
   "cell_type": "markdown",
   "id": "a7044376",
   "metadata": {},
   "source": [
    "### Removing stop words"
   ]
  },
  {
   "cell_type": "code",
   "execution_count": 32,
   "id": "0f9cd503",
   "metadata": {},
   "outputs": [],
   "source": [
    "# Create function to remove all stop words to remove some noise\n",
    "def remove_stopwords(words):\n",
    "    new_words = []\n",
    "    for word in words:\n",
    "        if word not in updated_stopwords:\n",
    "            new_words.append(word)\n",
    "        else:\n",
    "            pass\n",
    "    return new_words"
   ]
  },
  {
   "cell_type": "code",
   "execution_count": 33,
   "id": "4da7b077",
   "metadata": {},
   "outputs": [],
   "source": [
    "# Removing the list of stop words\n",
    "df_tea['selftext'] = df_tea['selftext'].apply(remove_stopwords)\n",
    "df_tea['title'] = df_tea['title'].apply(remove_stopwords)\n",
    "df_coffee['selftext'] = df_coffee['selftext'].apply(remove_stopwords)\n",
    "df_coffee['title'] = df_coffee['title'].apply(remove_stopwords)"
   ]
  },
  {
   "cell_type": "code",
   "execution_count": 34,
   "id": "8f67dcdb",
   "metadata": {},
   "outputs": [
    {
     "data": {
      "text/html": [
       "<div>\n",
       "<style scoped>\n",
       "    .dataframe tbody tr th:only-of-type {\n",
       "        vertical-align: middle;\n",
       "    }\n",
       "\n",
       "    .dataframe tbody tr th {\n",
       "        vertical-align: top;\n",
       "    }\n",
       "\n",
       "    .dataframe thead th {\n",
       "        text-align: right;\n",
       "    }\n",
       "</style>\n",
       "<table border=\"1\" class=\"dataframe\">\n",
       "  <thead>\n",
       "    <tr style=\"text-align: right;\">\n",
       "      <th></th>\n",
       "      <th>subreddit</th>\n",
       "      <th>selftext</th>\n",
       "      <th>title</th>\n",
       "    </tr>\n",
       "  </thead>\n",
       "  <tbody>\n",
       "    <tr>\n",
       "      <th>0</th>\n",
       "      <td>tea</td>\n",
       "      <td>[love, especially, green, jasmine, thing, though, drink, hot, make, mouth, dry, leaf, bitter, ta...</td>\n",
       "      <td>[make, taste, refreshing]</td>\n",
       "    </tr>\n",
       "    <tr>\n",
       "      <th>1</th>\n",
       "      <td>tea</td>\n",
       "      <td>[]</td>\n",
       "      <td>[best, strawberry, kombucha, delicious, probiotic, beverage]</td>\n",
       "    </tr>\n",
       "    <tr>\n",
       "      <th>2</th>\n",
       "      <td>tea</td>\n",
       "      <td>[]</td>\n",
       "      <td>[traditional, medicinals, worth, buying]</td>\n",
       "    </tr>\n",
       "    <tr>\n",
       "      <th>3</th>\n",
       "      <td>tea</td>\n",
       "      <td>[]</td>\n",
       "      <td>[like, dislike, spout, deal, breaker]</td>\n",
       "    </tr>\n",
       "    <tr>\n",
       "      <th>4</th>\n",
       "      <td>tea</td>\n",
       "      <td>[hi, recently, getting, specialty, mostly, part, due, recently, picking, book, tony, gebely, por...</td>\n",
       "      <td>[first, flush, experience, good]</td>\n",
       "    </tr>\n",
       "  </tbody>\n",
       "</table>\n",
       "</div>"
      ],
      "text/plain": [
       "  subreddit  \\\n",
       "0       tea   \n",
       "1       tea   \n",
       "2       tea   \n",
       "3       tea   \n",
       "4       tea   \n",
       "\n",
       "                                                                                              selftext  \\\n",
       "0  [love, especially, green, jasmine, thing, though, drink, hot, make, mouth, dry, leaf, bitter, ta...   \n",
       "1                                                                                                   []   \n",
       "2                                                                                                   []   \n",
       "3                                                                                                   []   \n",
       "4  [hi, recently, getting, specialty, mostly, part, due, recently, picking, book, tony, gebely, por...   \n",
       "\n",
       "                                                          title  \n",
       "0                                     [make, taste, refreshing]  \n",
       "1  [best, strawberry, kombucha, delicious, probiotic, beverage]  \n",
       "2                      [traditional, medicinals, worth, buying]  \n",
       "3                         [like, dislike, spout, deal, breaker]  \n",
       "4                              [first, flush, experience, good]  "
      ]
     },
     "execution_count": 34,
     "metadata": {},
     "output_type": "execute_result"
    },
    {
     "data": {
      "text/html": [
       "<div>\n",
       "<style scoped>\n",
       "    .dataframe tbody tr th:only-of-type {\n",
       "        vertical-align: middle;\n",
       "    }\n",
       "\n",
       "    .dataframe tbody tr th {\n",
       "        vertical-align: top;\n",
       "    }\n",
       "\n",
       "    .dataframe thead th {\n",
       "        text-align: right;\n",
       "    }\n",
       "</style>\n",
       "<table border=\"1\" class=\"dataframe\">\n",
       "  <thead>\n",
       "    <tr style=\"text-align: right;\">\n",
       "      <th></th>\n",
       "      <th>subreddit</th>\n",
       "      <th>selftext</th>\n",
       "      <th>title</th>\n",
       "    </tr>\n",
       "  </thead>\n",
       "  <tbody>\n",
       "    <tr>\n",
       "      <th>0</th>\n",
       "      <td>tea</td>\n",
       "      <td>[love, especially, green, jasmine, thing, though, drink, hot, make, mouth, dry, leaf, bitter, ta...</td>\n",
       "      <td>[make, taste, refreshing]</td>\n",
       "    </tr>\n",
       "    <tr>\n",
       "      <th>1</th>\n",
       "      <td>tea</td>\n",
       "      <td>[]</td>\n",
       "      <td>[best, strawberry, kombucha, delicious, probiotic, beverage]</td>\n",
       "    </tr>\n",
       "    <tr>\n",
       "      <th>2</th>\n",
       "      <td>tea</td>\n",
       "      <td>[]</td>\n",
       "      <td>[traditional, medicinals, worth, buying]</td>\n",
       "    </tr>\n",
       "    <tr>\n",
       "      <th>3</th>\n",
       "      <td>tea</td>\n",
       "      <td>[]</td>\n",
       "      <td>[like, dislike, spout, deal, breaker]</td>\n",
       "    </tr>\n",
       "    <tr>\n",
       "      <th>4</th>\n",
       "      <td>tea</td>\n",
       "      <td>[hi, recently, getting, specialty, mostly, part, due, recently, picking, book, tony, gebely, por...</td>\n",
       "      <td>[first, flush, experience, good]</td>\n",
       "    </tr>\n",
       "  </tbody>\n",
       "</table>\n",
       "</div>"
      ],
      "text/plain": [
       "  subreddit  \\\n",
       "0       tea   \n",
       "1       tea   \n",
       "2       tea   \n",
       "3       tea   \n",
       "4       tea   \n",
       "\n",
       "                                                                                              selftext  \\\n",
       "0  [love, especially, green, jasmine, thing, though, drink, hot, make, mouth, dry, leaf, bitter, ta...   \n",
       "1                                                                                                   []   \n",
       "2                                                                                                   []   \n",
       "3                                                                                                   []   \n",
       "4  [hi, recently, getting, specialty, mostly, part, due, recently, picking, book, tony, gebely, por...   \n",
       "\n",
       "                                                          title  \n",
       "0                                     [make, taste, refreshing]  \n",
       "1  [best, strawberry, kombucha, delicious, probiotic, beverage]  \n",
       "2                      [traditional, medicinals, worth, buying]  \n",
       "3                         [like, dislike, spout, deal, breaker]  \n",
       "4                              [first, flush, experience, good]  "
      ]
     },
     "execution_count": 34,
     "metadata": {},
     "output_type": "execute_result"
    }
   ],
   "source": [
    "df_tea.head()"
   ]
  },
  {
   "cell_type": "code",
   "execution_count": 35,
   "id": "096db326",
   "metadata": {},
   "outputs": [
    {
     "data": {
      "text/html": [
       "<div>\n",
       "<style scoped>\n",
       "    .dataframe tbody tr th:only-of-type {\n",
       "        vertical-align: middle;\n",
       "    }\n",
       "\n",
       "    .dataframe tbody tr th {\n",
       "        vertical-align: top;\n",
       "    }\n",
       "\n",
       "    .dataframe thead th {\n",
       "        text-align: right;\n",
       "    }\n",
       "</style>\n",
       "<table border=\"1\" class=\"dataframe\">\n",
       "  <thead>\n",
       "    <tr style=\"text-align: right;\">\n",
       "      <th></th>\n",
       "      <th>subreddit</th>\n",
       "      <th>selftext</th>\n",
       "      <th>title</th>\n",
       "    </tr>\n",
       "  </thead>\n",
       "  <tbody>\n",
       "    <tr>\n",
       "      <th>0</th>\n",
       "      <td>Coffee</td>\n",
       "      <td>[hi, guy, hoping, may, able, help, question, short, version, changing, grinder, compak, ceado, r...</td>\n",
       "      <td>[compak, upgrade, dilemma]</td>\n",
       "    </tr>\n",
       "    <tr>\n",
       "      <th>1</th>\n",
       "      <td>Coffee</td>\n",
       "      <td>[hello, fellow, college, student, staying, dorm, access, stove, access, french, press, kettle, b...</td>\n",
       "      <td>[new, brewing, tip]</td>\n",
       "    </tr>\n",
       "    <tr>\n",
       "      <th>2</th>\n",
       "      <td>Coffee</td>\n",
       "      <td>[hi, getting, really, weak, taste, delonghi, machine, pretty, much, like, since, bought, tried, ...</td>\n",
       "      <td>[really, weak, taste, delonghi, perfecta, deluxe, esam]</td>\n",
       "    </tr>\n",
       "    <tr>\n",
       "      <th>3</th>\n",
       "      <td>Coffee</td>\n",
       "      <td>[last, month, typed, google, best, machine, month, later, fully, dived, espresso, world, looking...</td>\n",
       "      <td>[barista, express, v, gaggia, classic]</td>\n",
       "    </tr>\n",
       "    <tr>\n",
       "      <th>4</th>\n",
       "      <td>Coffee</td>\n",
       "      <td>[]</td>\n",
       "      <td>[compak, grinder, upgrade]</td>\n",
       "    </tr>\n",
       "  </tbody>\n",
       "</table>\n",
       "</div>"
      ],
      "text/plain": [
       "  subreddit  \\\n",
       "0    Coffee   \n",
       "1    Coffee   \n",
       "2    Coffee   \n",
       "3    Coffee   \n",
       "4    Coffee   \n",
       "\n",
       "                                                                                              selftext  \\\n",
       "0  [hi, guy, hoping, may, able, help, question, short, version, changing, grinder, compak, ceado, r...   \n",
       "1  [hello, fellow, college, student, staying, dorm, access, stove, access, french, press, kettle, b...   \n",
       "2  [hi, getting, really, weak, taste, delonghi, machine, pretty, much, like, since, bought, tried, ...   \n",
       "3  [last, month, typed, google, best, machine, month, later, fully, dived, espresso, world, looking...   \n",
       "4                                                                                                   []   \n",
       "\n",
       "                                                     title  \n",
       "0                               [compak, upgrade, dilemma]  \n",
       "1                                      [new, brewing, tip]  \n",
       "2  [really, weak, taste, delonghi, perfecta, deluxe, esam]  \n",
       "3                   [barista, express, v, gaggia, classic]  \n",
       "4                               [compak, grinder, upgrade]  "
      ]
     },
     "execution_count": 35,
     "metadata": {},
     "output_type": "execute_result"
    },
    {
     "data": {
      "text/html": [
       "<div>\n",
       "<style scoped>\n",
       "    .dataframe tbody tr th:only-of-type {\n",
       "        vertical-align: middle;\n",
       "    }\n",
       "\n",
       "    .dataframe tbody tr th {\n",
       "        vertical-align: top;\n",
       "    }\n",
       "\n",
       "    .dataframe thead th {\n",
       "        text-align: right;\n",
       "    }\n",
       "</style>\n",
       "<table border=\"1\" class=\"dataframe\">\n",
       "  <thead>\n",
       "    <tr style=\"text-align: right;\">\n",
       "      <th></th>\n",
       "      <th>subreddit</th>\n",
       "      <th>selftext</th>\n",
       "      <th>title</th>\n",
       "    </tr>\n",
       "  </thead>\n",
       "  <tbody>\n",
       "    <tr>\n",
       "      <th>0</th>\n",
       "      <td>Coffee</td>\n",
       "      <td>[hi, guy, hoping, may, able, help, question, short, version, changing, grinder, compak, ceado, r...</td>\n",
       "      <td>[compak, upgrade, dilemma]</td>\n",
       "    </tr>\n",
       "    <tr>\n",
       "      <th>1</th>\n",
       "      <td>Coffee</td>\n",
       "      <td>[hello, fellow, college, student, staying, dorm, access, stove, access, french, press, kettle, b...</td>\n",
       "      <td>[new, brewing, tip]</td>\n",
       "    </tr>\n",
       "    <tr>\n",
       "      <th>2</th>\n",
       "      <td>Coffee</td>\n",
       "      <td>[hi, getting, really, weak, taste, delonghi, machine, pretty, much, like, since, bought, tried, ...</td>\n",
       "      <td>[really, weak, taste, delonghi, perfecta, deluxe, esam]</td>\n",
       "    </tr>\n",
       "    <tr>\n",
       "      <th>3</th>\n",
       "      <td>Coffee</td>\n",
       "      <td>[last, month, typed, google, best, machine, month, later, fully, dived, espresso, world, looking...</td>\n",
       "      <td>[barista, express, v, gaggia, classic]</td>\n",
       "    </tr>\n",
       "    <tr>\n",
       "      <th>4</th>\n",
       "      <td>Coffee</td>\n",
       "      <td>[]</td>\n",
       "      <td>[compak, grinder, upgrade]</td>\n",
       "    </tr>\n",
       "  </tbody>\n",
       "</table>\n",
       "</div>"
      ],
      "text/plain": [
       "  subreddit  \\\n",
       "0    Coffee   \n",
       "1    Coffee   \n",
       "2    Coffee   \n",
       "3    Coffee   \n",
       "4    Coffee   \n",
       "\n",
       "                                                                                              selftext  \\\n",
       "0  [hi, guy, hoping, may, able, help, question, short, version, changing, grinder, compak, ceado, r...   \n",
       "1  [hello, fellow, college, student, staying, dorm, access, stove, access, french, press, kettle, b...   \n",
       "2  [hi, getting, really, weak, taste, delonghi, machine, pretty, much, like, since, bought, tried, ...   \n",
       "3  [last, month, typed, google, best, machine, month, later, fully, dived, espresso, world, looking...   \n",
       "4                                                                                                   []   \n",
       "\n",
       "                                                     title  \n",
       "0                               [compak, upgrade, dilemma]  \n",
       "1                                      [new, brewing, tip]  \n",
       "2  [really, weak, taste, delonghi, perfecta, deluxe, esam]  \n",
       "3                   [barista, express, v, gaggia, classic]  \n",
       "4                               [compak, grinder, upgrade]  "
      ]
     },
     "execution_count": 35,
     "metadata": {},
     "output_type": "execute_result"
    }
   ],
   "source": [
    "df_coffee.head()"
   ]
  },
  {
   "cell_type": "code",
   "execution_count": 36,
   "id": "d3fafef5",
   "metadata": {},
   "outputs": [
    {
     "data": {
      "text/html": [
       "<div>\n",
       "<style scoped>\n",
       "    .dataframe tbody tr th:only-of-type {\n",
       "        vertical-align: middle;\n",
       "    }\n",
       "\n",
       "    .dataframe tbody tr th {\n",
       "        vertical-align: top;\n",
       "    }\n",
       "\n",
       "    .dataframe thead th {\n",
       "        text-align: right;\n",
       "    }\n",
       "</style>\n",
       "<table border=\"1\" class=\"dataframe\">\n",
       "  <thead>\n",
       "    <tr style=\"text-align: right;\">\n",
       "      <th></th>\n",
       "      <th>subreddit</th>\n",
       "      <th>selftext</th>\n",
       "      <th>title</th>\n",
       "    </tr>\n",
       "  </thead>\n",
       "  <tbody>\n",
       "    <tr>\n",
       "      <th>0</th>\n",
       "      <td>tea</td>\n",
       "      <td>[love, especially, green, jasmine, thing, though, drink, hot, make, mouth, dry, leaf, bitter, ta...</td>\n",
       "      <td>[make, taste, refreshing]</td>\n",
       "    </tr>\n",
       "    <tr>\n",
       "      <th>1</th>\n",
       "      <td>tea</td>\n",
       "      <td>[]</td>\n",
       "      <td>[best, strawberry, kombucha, delicious, probiotic, beverage]</td>\n",
       "    </tr>\n",
       "    <tr>\n",
       "      <th>2</th>\n",
       "      <td>tea</td>\n",
       "      <td>[]</td>\n",
       "      <td>[traditional, medicinals, worth, buying]</td>\n",
       "    </tr>\n",
       "    <tr>\n",
       "      <th>3</th>\n",
       "      <td>tea</td>\n",
       "      <td>[]</td>\n",
       "      <td>[like, dislike, spout, deal, breaker]</td>\n",
       "    </tr>\n",
       "    <tr>\n",
       "      <th>4</th>\n",
       "      <td>tea</td>\n",
       "      <td>[hi, recently, getting, specialty, mostly, part, due, recently, picking, book, tony, gebely, por...</td>\n",
       "      <td>[first, flush, experience, good]</td>\n",
       "    </tr>\n",
       "  </tbody>\n",
       "</table>\n",
       "</div>"
      ],
      "text/plain": [
       "  subreddit  \\\n",
       "0       tea   \n",
       "1       tea   \n",
       "2       tea   \n",
       "3       tea   \n",
       "4       tea   \n",
       "\n",
       "                                                                                              selftext  \\\n",
       "0  [love, especially, green, jasmine, thing, though, drink, hot, make, mouth, dry, leaf, bitter, ta...   \n",
       "1                                                                                                   []   \n",
       "2                                                                                                   []   \n",
       "3                                                                                                   []   \n",
       "4  [hi, recently, getting, specialty, mostly, part, due, recently, picking, book, tony, gebely, por...   \n",
       "\n",
       "                                                          title  \n",
       "0                                     [make, taste, refreshing]  \n",
       "1  [best, strawberry, kombucha, delicious, probiotic, beverage]  \n",
       "2                      [traditional, medicinals, worth, buying]  \n",
       "3                         [like, dislike, spout, deal, breaker]  \n",
       "4                              [first, flush, experience, good]  "
      ]
     },
     "execution_count": 36,
     "metadata": {},
     "output_type": "execute_result"
    },
    {
     "data": {
      "text/html": [
       "<div>\n",
       "<style scoped>\n",
       "    .dataframe tbody tr th:only-of-type {\n",
       "        vertical-align: middle;\n",
       "    }\n",
       "\n",
       "    .dataframe tbody tr th {\n",
       "        vertical-align: top;\n",
       "    }\n",
       "\n",
       "    .dataframe thead th {\n",
       "        text-align: right;\n",
       "    }\n",
       "</style>\n",
       "<table border=\"1\" class=\"dataframe\">\n",
       "  <thead>\n",
       "    <tr style=\"text-align: right;\">\n",
       "      <th></th>\n",
       "      <th>subreddit</th>\n",
       "      <th>selftext</th>\n",
       "      <th>title</th>\n",
       "    </tr>\n",
       "  </thead>\n",
       "  <tbody>\n",
       "    <tr>\n",
       "      <th>0</th>\n",
       "      <td>tea</td>\n",
       "      <td>[love, especially, green, jasmine, thing, though, drink, hot, make, mouth, dry, leaf, bitter, ta...</td>\n",
       "      <td>[make, taste, refreshing]</td>\n",
       "    </tr>\n",
       "    <tr>\n",
       "      <th>1</th>\n",
       "      <td>tea</td>\n",
       "      <td>[]</td>\n",
       "      <td>[best, strawberry, kombucha, delicious, probiotic, beverage]</td>\n",
       "    </tr>\n",
       "    <tr>\n",
       "      <th>2</th>\n",
       "      <td>tea</td>\n",
       "      <td>[]</td>\n",
       "      <td>[traditional, medicinals, worth, buying]</td>\n",
       "    </tr>\n",
       "    <tr>\n",
       "      <th>3</th>\n",
       "      <td>tea</td>\n",
       "      <td>[]</td>\n",
       "      <td>[like, dislike, spout, deal, breaker]</td>\n",
       "    </tr>\n",
       "    <tr>\n",
       "      <th>4</th>\n",
       "      <td>tea</td>\n",
       "      <td>[hi, recently, getting, specialty, mostly, part, due, recently, picking, book, tony, gebely, por...</td>\n",
       "      <td>[first, flush, experience, good]</td>\n",
       "    </tr>\n",
       "  </tbody>\n",
       "</table>\n",
       "</div>"
      ],
      "text/plain": [
       "  subreddit  \\\n",
       "0       tea   \n",
       "1       tea   \n",
       "2       tea   \n",
       "3       tea   \n",
       "4       tea   \n",
       "\n",
       "                                                                                              selftext  \\\n",
       "0  [love, especially, green, jasmine, thing, though, drink, hot, make, mouth, dry, leaf, bitter, ta...   \n",
       "1                                                                                                   []   \n",
       "2                                                                                                   []   \n",
       "3                                                                                                   []   \n",
       "4  [hi, recently, getting, specialty, mostly, part, due, recently, picking, book, tony, gebely, por...   \n",
       "\n",
       "                                                          title  \n",
       "0                                     [make, taste, refreshing]  \n",
       "1  [best, strawberry, kombucha, delicious, probiotic, beverage]  \n",
       "2                      [traditional, medicinals, worth, buying]  \n",
       "3                         [like, dislike, spout, deal, breaker]  \n",
       "4                              [first, flush, experience, good]  "
      ]
     },
     "execution_count": 36,
     "metadata": {},
     "output_type": "execute_result"
    }
   ],
   "source": [
    "df_tea.head()"
   ]
  },
  {
   "cell_type": "code",
   "execution_count": 37,
   "id": "db9f141a",
   "metadata": {},
   "outputs": [
    {
     "data": {
      "text/html": [
       "<div>\n",
       "<style scoped>\n",
       "    .dataframe tbody tr th:only-of-type {\n",
       "        vertical-align: middle;\n",
       "    }\n",
       "\n",
       "    .dataframe tbody tr th {\n",
       "        vertical-align: top;\n",
       "    }\n",
       "\n",
       "    .dataframe thead th {\n",
       "        text-align: right;\n",
       "    }\n",
       "</style>\n",
       "<table border=\"1\" class=\"dataframe\">\n",
       "  <thead>\n",
       "    <tr style=\"text-align: right;\">\n",
       "      <th></th>\n",
       "      <th>subreddit</th>\n",
       "      <th>selftext</th>\n",
       "      <th>title</th>\n",
       "    </tr>\n",
       "  </thead>\n",
       "  <tbody>\n",
       "    <tr>\n",
       "      <th>0</th>\n",
       "      <td>Coffee</td>\n",
       "      <td>[hi, guy, hoping, may, able, help, question, short, version, changing, grinder, compak, ceado, r...</td>\n",
       "      <td>[compak, upgrade, dilemma]</td>\n",
       "    </tr>\n",
       "    <tr>\n",
       "      <th>1</th>\n",
       "      <td>Coffee</td>\n",
       "      <td>[hello, fellow, college, student, staying, dorm, access, stove, access, french, press, kettle, b...</td>\n",
       "      <td>[new, brewing, tip]</td>\n",
       "    </tr>\n",
       "    <tr>\n",
       "      <th>2</th>\n",
       "      <td>Coffee</td>\n",
       "      <td>[hi, getting, really, weak, taste, delonghi, machine, pretty, much, like, since, bought, tried, ...</td>\n",
       "      <td>[really, weak, taste, delonghi, perfecta, deluxe, esam]</td>\n",
       "    </tr>\n",
       "    <tr>\n",
       "      <th>3</th>\n",
       "      <td>Coffee</td>\n",
       "      <td>[last, month, typed, google, best, machine, month, later, fully, dived, espresso, world, looking...</td>\n",
       "      <td>[barista, express, v, gaggia, classic]</td>\n",
       "    </tr>\n",
       "    <tr>\n",
       "      <th>4</th>\n",
       "      <td>Coffee</td>\n",
       "      <td>[]</td>\n",
       "      <td>[compak, grinder, upgrade]</td>\n",
       "    </tr>\n",
       "  </tbody>\n",
       "</table>\n",
       "</div>"
      ],
      "text/plain": [
       "  subreddit  \\\n",
       "0    Coffee   \n",
       "1    Coffee   \n",
       "2    Coffee   \n",
       "3    Coffee   \n",
       "4    Coffee   \n",
       "\n",
       "                                                                                              selftext  \\\n",
       "0  [hi, guy, hoping, may, able, help, question, short, version, changing, grinder, compak, ceado, r...   \n",
       "1  [hello, fellow, college, student, staying, dorm, access, stove, access, french, press, kettle, b...   \n",
       "2  [hi, getting, really, weak, taste, delonghi, machine, pretty, much, like, since, bought, tried, ...   \n",
       "3  [last, month, typed, google, best, machine, month, later, fully, dived, espresso, world, looking...   \n",
       "4                                                                                                   []   \n",
       "\n",
       "                                                     title  \n",
       "0                               [compak, upgrade, dilemma]  \n",
       "1                                      [new, brewing, tip]  \n",
       "2  [really, weak, taste, delonghi, perfecta, deluxe, esam]  \n",
       "3                   [barista, express, v, gaggia, classic]  \n",
       "4                               [compak, grinder, upgrade]  "
      ]
     },
     "execution_count": 37,
     "metadata": {},
     "output_type": "execute_result"
    },
    {
     "data": {
      "text/html": [
       "<div>\n",
       "<style scoped>\n",
       "    .dataframe tbody tr th:only-of-type {\n",
       "        vertical-align: middle;\n",
       "    }\n",
       "\n",
       "    .dataframe tbody tr th {\n",
       "        vertical-align: top;\n",
       "    }\n",
       "\n",
       "    .dataframe thead th {\n",
       "        text-align: right;\n",
       "    }\n",
       "</style>\n",
       "<table border=\"1\" class=\"dataframe\">\n",
       "  <thead>\n",
       "    <tr style=\"text-align: right;\">\n",
       "      <th></th>\n",
       "      <th>subreddit</th>\n",
       "      <th>selftext</th>\n",
       "      <th>title</th>\n",
       "    </tr>\n",
       "  </thead>\n",
       "  <tbody>\n",
       "    <tr>\n",
       "      <th>0</th>\n",
       "      <td>Coffee</td>\n",
       "      <td>[hi, guy, hoping, may, able, help, question, short, version, changing, grinder, compak, ceado, r...</td>\n",
       "      <td>[compak, upgrade, dilemma]</td>\n",
       "    </tr>\n",
       "    <tr>\n",
       "      <th>1</th>\n",
       "      <td>Coffee</td>\n",
       "      <td>[hello, fellow, college, student, staying, dorm, access, stove, access, french, press, kettle, b...</td>\n",
       "      <td>[new, brewing, tip]</td>\n",
       "    </tr>\n",
       "    <tr>\n",
       "      <th>2</th>\n",
       "      <td>Coffee</td>\n",
       "      <td>[hi, getting, really, weak, taste, delonghi, machine, pretty, much, like, since, bought, tried, ...</td>\n",
       "      <td>[really, weak, taste, delonghi, perfecta, deluxe, esam]</td>\n",
       "    </tr>\n",
       "    <tr>\n",
       "      <th>3</th>\n",
       "      <td>Coffee</td>\n",
       "      <td>[last, month, typed, google, best, machine, month, later, fully, dived, espresso, world, looking...</td>\n",
       "      <td>[barista, express, v, gaggia, classic]</td>\n",
       "    </tr>\n",
       "    <tr>\n",
       "      <th>4</th>\n",
       "      <td>Coffee</td>\n",
       "      <td>[]</td>\n",
       "      <td>[compak, grinder, upgrade]</td>\n",
       "    </tr>\n",
       "  </tbody>\n",
       "</table>\n",
       "</div>"
      ],
      "text/plain": [
       "  subreddit  \\\n",
       "0    Coffee   \n",
       "1    Coffee   \n",
       "2    Coffee   \n",
       "3    Coffee   \n",
       "4    Coffee   \n",
       "\n",
       "                                                                                              selftext  \\\n",
       "0  [hi, guy, hoping, may, able, help, question, short, version, changing, grinder, compak, ceado, r...   \n",
       "1  [hello, fellow, college, student, staying, dorm, access, stove, access, french, press, kettle, b...   \n",
       "2  [hi, getting, really, weak, taste, delonghi, machine, pretty, much, like, since, bought, tried, ...   \n",
       "3  [last, month, typed, google, best, machine, month, later, fully, dived, espresso, world, looking...   \n",
       "4                                                                                                   []   \n",
       "\n",
       "                                                     title  \n",
       "0                               [compak, upgrade, dilemma]  \n",
       "1                                      [new, brewing, tip]  \n",
       "2  [really, weak, taste, delonghi, perfecta, deluxe, esam]  \n",
       "3                   [barista, express, v, gaggia, classic]  \n",
       "4                               [compak, grinder, upgrade]  "
      ]
     },
     "execution_count": 37,
     "metadata": {},
     "output_type": "execute_result"
    }
   ],
   "source": [
    "df_coffee.head()"
   ]
  },
  {
   "cell_type": "markdown",
   "id": "cac66c80",
   "metadata": {},
   "source": [
    "### Creating a new column"
   ]
  },
  {
   "cell_type": "code",
   "execution_count": 38,
   "id": "8cb2dbed",
   "metadata": {},
   "outputs": [],
   "source": [
    "df_tea['text'] = df_tea['selftext'] + df_tea['title']"
   ]
  },
  {
   "cell_type": "code",
   "execution_count": 39,
   "id": "61696988",
   "metadata": {},
   "outputs": [],
   "source": [
    "df_coffee['text'] = df_coffee['selftext'] + df_coffee['title']"
   ]
  },
  {
   "cell_type": "code",
   "execution_count": 40,
   "id": "9634acbb",
   "metadata": {
    "scrolled": true
   },
   "outputs": [
    {
     "data": {
      "text/html": [
       "<div>\n",
       "<style scoped>\n",
       "    .dataframe tbody tr th:only-of-type {\n",
       "        vertical-align: middle;\n",
       "    }\n",
       "\n",
       "    .dataframe tbody tr th {\n",
       "        vertical-align: top;\n",
       "    }\n",
       "\n",
       "    .dataframe thead th {\n",
       "        text-align: right;\n",
       "    }\n",
       "</style>\n",
       "<table border=\"1\" class=\"dataframe\">\n",
       "  <thead>\n",
       "    <tr style=\"text-align: right;\">\n",
       "      <th></th>\n",
       "      <th>subreddit</th>\n",
       "      <th>selftext</th>\n",
       "      <th>title</th>\n",
       "      <th>text</th>\n",
       "    </tr>\n",
       "  </thead>\n",
       "  <tbody>\n",
       "    <tr>\n",
       "      <th>0</th>\n",
       "      <td>tea</td>\n",
       "      <td>[love, especially, green, jasmine, thing, though, drink, hot, make, mouth, dry, leaf, bitter, ta...</td>\n",
       "      <td>[make, taste, refreshing]</td>\n",
       "      <td>[love, especially, green, jasmine, thing, though, drink, hot, make, mouth, dry, leaf, bitter, ta...</td>\n",
       "    </tr>\n",
       "    <tr>\n",
       "      <th>1</th>\n",
       "      <td>tea</td>\n",
       "      <td>[]</td>\n",
       "      <td>[best, strawberry, kombucha, delicious, probiotic, beverage]</td>\n",
       "      <td>[best, strawberry, kombucha, delicious, probiotic, beverage]</td>\n",
       "    </tr>\n",
       "    <tr>\n",
       "      <th>2</th>\n",
       "      <td>tea</td>\n",
       "      <td>[]</td>\n",
       "      <td>[traditional, medicinals, worth, buying]</td>\n",
       "      <td>[traditional, medicinals, worth, buying]</td>\n",
       "    </tr>\n",
       "    <tr>\n",
       "      <th>3</th>\n",
       "      <td>tea</td>\n",
       "      <td>[]</td>\n",
       "      <td>[like, dislike, spout, deal, breaker]</td>\n",
       "      <td>[like, dislike, spout, deal, breaker]</td>\n",
       "    </tr>\n",
       "    <tr>\n",
       "      <th>4</th>\n",
       "      <td>tea</td>\n",
       "      <td>[hi, recently, getting, specialty, mostly, part, due, recently, picking, book, tony, gebely, por...</td>\n",
       "      <td>[first, flush, experience, good]</td>\n",
       "      <td>[hi, recently, getting, specialty, mostly, part, due, recently, picking, book, tony, gebely, por...</td>\n",
       "    </tr>\n",
       "  </tbody>\n",
       "</table>\n",
       "</div>"
      ],
      "text/plain": [
       "  subreddit  \\\n",
       "0       tea   \n",
       "1       tea   \n",
       "2       tea   \n",
       "3       tea   \n",
       "4       tea   \n",
       "\n",
       "                                                                                              selftext  \\\n",
       "0  [love, especially, green, jasmine, thing, though, drink, hot, make, mouth, dry, leaf, bitter, ta...   \n",
       "1                                                                                                   []   \n",
       "2                                                                                                   []   \n",
       "3                                                                                                   []   \n",
       "4  [hi, recently, getting, specialty, mostly, part, due, recently, picking, book, tony, gebely, por...   \n",
       "\n",
       "                                                          title  \\\n",
       "0                                     [make, taste, refreshing]   \n",
       "1  [best, strawberry, kombucha, delicious, probiotic, beverage]   \n",
       "2                      [traditional, medicinals, worth, buying]   \n",
       "3                         [like, dislike, spout, deal, breaker]   \n",
       "4                              [first, flush, experience, good]   \n",
       "\n",
       "                                                                                                  text  \n",
       "0  [love, especially, green, jasmine, thing, though, drink, hot, make, mouth, dry, leaf, bitter, ta...  \n",
       "1                                         [best, strawberry, kombucha, delicious, probiotic, beverage]  \n",
       "2                                                             [traditional, medicinals, worth, buying]  \n",
       "3                                                                [like, dislike, spout, deal, breaker]  \n",
       "4  [hi, recently, getting, specialty, mostly, part, due, recently, picking, book, tony, gebely, por...  "
      ]
     },
     "execution_count": 40,
     "metadata": {},
     "output_type": "execute_result"
    },
    {
     "data": {
      "text/html": [
       "<div>\n",
       "<style scoped>\n",
       "    .dataframe tbody tr th:only-of-type {\n",
       "        vertical-align: middle;\n",
       "    }\n",
       "\n",
       "    .dataframe tbody tr th {\n",
       "        vertical-align: top;\n",
       "    }\n",
       "\n",
       "    .dataframe thead th {\n",
       "        text-align: right;\n",
       "    }\n",
       "</style>\n",
       "<table border=\"1\" class=\"dataframe\">\n",
       "  <thead>\n",
       "    <tr style=\"text-align: right;\">\n",
       "      <th></th>\n",
       "      <th>subreddit</th>\n",
       "      <th>selftext</th>\n",
       "      <th>title</th>\n",
       "      <th>text</th>\n",
       "    </tr>\n",
       "  </thead>\n",
       "  <tbody>\n",
       "    <tr>\n",
       "      <th>0</th>\n",
       "      <td>tea</td>\n",
       "      <td>[love, especially, green, jasmine, thing, though, drink, hot, make, mouth, dry, leaf, bitter, ta...</td>\n",
       "      <td>[make, taste, refreshing]</td>\n",
       "      <td>[love, especially, green, jasmine, thing, though, drink, hot, make, mouth, dry, leaf, bitter, ta...</td>\n",
       "    </tr>\n",
       "    <tr>\n",
       "      <th>1</th>\n",
       "      <td>tea</td>\n",
       "      <td>[]</td>\n",
       "      <td>[best, strawberry, kombucha, delicious, probiotic, beverage]</td>\n",
       "      <td>[best, strawberry, kombucha, delicious, probiotic, beverage]</td>\n",
       "    </tr>\n",
       "    <tr>\n",
       "      <th>2</th>\n",
       "      <td>tea</td>\n",
       "      <td>[]</td>\n",
       "      <td>[traditional, medicinals, worth, buying]</td>\n",
       "      <td>[traditional, medicinals, worth, buying]</td>\n",
       "    </tr>\n",
       "    <tr>\n",
       "      <th>3</th>\n",
       "      <td>tea</td>\n",
       "      <td>[]</td>\n",
       "      <td>[like, dislike, spout, deal, breaker]</td>\n",
       "      <td>[like, dislike, spout, deal, breaker]</td>\n",
       "    </tr>\n",
       "    <tr>\n",
       "      <th>4</th>\n",
       "      <td>tea</td>\n",
       "      <td>[hi, recently, getting, specialty, mostly, part, due, recently, picking, book, tony, gebely, por...</td>\n",
       "      <td>[first, flush, experience, good]</td>\n",
       "      <td>[hi, recently, getting, specialty, mostly, part, due, recently, picking, book, tony, gebely, por...</td>\n",
       "    </tr>\n",
       "  </tbody>\n",
       "</table>\n",
       "</div>"
      ],
      "text/plain": [
       "  subreddit  \\\n",
       "0       tea   \n",
       "1       tea   \n",
       "2       tea   \n",
       "3       tea   \n",
       "4       tea   \n",
       "\n",
       "                                                                                              selftext  \\\n",
       "0  [love, especially, green, jasmine, thing, though, drink, hot, make, mouth, dry, leaf, bitter, ta...   \n",
       "1                                                                                                   []   \n",
       "2                                                                                                   []   \n",
       "3                                                                                                   []   \n",
       "4  [hi, recently, getting, specialty, mostly, part, due, recently, picking, book, tony, gebely, por...   \n",
       "\n",
       "                                                          title  \\\n",
       "0                                     [make, taste, refreshing]   \n",
       "1  [best, strawberry, kombucha, delicious, probiotic, beverage]   \n",
       "2                      [traditional, medicinals, worth, buying]   \n",
       "3                         [like, dislike, spout, deal, breaker]   \n",
       "4                              [first, flush, experience, good]   \n",
       "\n",
       "                                                                                                  text  \n",
       "0  [love, especially, green, jasmine, thing, though, drink, hot, make, mouth, dry, leaf, bitter, ta...  \n",
       "1                                         [best, strawberry, kombucha, delicious, probiotic, beverage]  \n",
       "2                                                             [traditional, medicinals, worth, buying]  \n",
       "3                                                                [like, dislike, spout, deal, breaker]  \n",
       "4  [hi, recently, getting, specialty, mostly, part, due, recently, picking, book, tony, gebely, por...  "
      ]
     },
     "execution_count": 40,
     "metadata": {},
     "output_type": "execute_result"
    }
   ],
   "source": [
    "df_tea.head()"
   ]
  },
  {
   "cell_type": "code",
   "execution_count": 41,
   "id": "bd56a21e",
   "metadata": {},
   "outputs": [
    {
     "data": {
      "text/html": [
       "<div>\n",
       "<style scoped>\n",
       "    .dataframe tbody tr th:only-of-type {\n",
       "        vertical-align: middle;\n",
       "    }\n",
       "\n",
       "    .dataframe tbody tr th {\n",
       "        vertical-align: top;\n",
       "    }\n",
       "\n",
       "    .dataframe thead th {\n",
       "        text-align: right;\n",
       "    }\n",
       "</style>\n",
       "<table border=\"1\" class=\"dataframe\">\n",
       "  <thead>\n",
       "    <tr style=\"text-align: right;\">\n",
       "      <th></th>\n",
       "      <th>subreddit</th>\n",
       "      <th>selftext</th>\n",
       "      <th>title</th>\n",
       "      <th>text</th>\n",
       "    </tr>\n",
       "  </thead>\n",
       "  <tbody>\n",
       "    <tr>\n",
       "      <th>0</th>\n",
       "      <td>Coffee</td>\n",
       "      <td>[hi, guy, hoping, may, able, help, question, short, version, changing, grinder, compak, ceado, r...</td>\n",
       "      <td>[compak, upgrade, dilemma]</td>\n",
       "      <td>[hi, guy, hoping, may, able, help, question, short, version, changing, grinder, compak, ceado, r...</td>\n",
       "    </tr>\n",
       "    <tr>\n",
       "      <th>1</th>\n",
       "      <td>Coffee</td>\n",
       "      <td>[hello, fellow, college, student, staying, dorm, access, stove, access, french, press, kettle, b...</td>\n",
       "      <td>[new, brewing, tip]</td>\n",
       "      <td>[hello, fellow, college, student, staying, dorm, access, stove, access, french, press, kettle, b...</td>\n",
       "    </tr>\n",
       "    <tr>\n",
       "      <th>2</th>\n",
       "      <td>Coffee</td>\n",
       "      <td>[hi, getting, really, weak, taste, delonghi, machine, pretty, much, like, since, bought, tried, ...</td>\n",
       "      <td>[really, weak, taste, delonghi, perfecta, deluxe, esam]</td>\n",
       "      <td>[hi, getting, really, weak, taste, delonghi, machine, pretty, much, like, since, bought, tried, ...</td>\n",
       "    </tr>\n",
       "    <tr>\n",
       "      <th>3</th>\n",
       "      <td>Coffee</td>\n",
       "      <td>[last, month, typed, google, best, machine, month, later, fully, dived, espresso, world, looking...</td>\n",
       "      <td>[barista, express, v, gaggia, classic]</td>\n",
       "      <td>[last, month, typed, google, best, machine, month, later, fully, dived, espresso, world, looking...</td>\n",
       "    </tr>\n",
       "    <tr>\n",
       "      <th>4</th>\n",
       "      <td>Coffee</td>\n",
       "      <td>[]</td>\n",
       "      <td>[compak, grinder, upgrade]</td>\n",
       "      <td>[compak, grinder, upgrade]</td>\n",
       "    </tr>\n",
       "  </tbody>\n",
       "</table>\n",
       "</div>"
      ],
      "text/plain": [
       "  subreddit  \\\n",
       "0    Coffee   \n",
       "1    Coffee   \n",
       "2    Coffee   \n",
       "3    Coffee   \n",
       "4    Coffee   \n",
       "\n",
       "                                                                                              selftext  \\\n",
       "0  [hi, guy, hoping, may, able, help, question, short, version, changing, grinder, compak, ceado, r...   \n",
       "1  [hello, fellow, college, student, staying, dorm, access, stove, access, french, press, kettle, b...   \n",
       "2  [hi, getting, really, weak, taste, delonghi, machine, pretty, much, like, since, bought, tried, ...   \n",
       "3  [last, month, typed, google, best, machine, month, later, fully, dived, espresso, world, looking...   \n",
       "4                                                                                                   []   \n",
       "\n",
       "                                                     title  \\\n",
       "0                               [compak, upgrade, dilemma]   \n",
       "1                                      [new, brewing, tip]   \n",
       "2  [really, weak, taste, delonghi, perfecta, deluxe, esam]   \n",
       "3                   [barista, express, v, gaggia, classic]   \n",
       "4                               [compak, grinder, upgrade]   \n",
       "\n",
       "                                                                                                  text  \n",
       "0  [hi, guy, hoping, may, able, help, question, short, version, changing, grinder, compak, ceado, r...  \n",
       "1  [hello, fellow, college, student, staying, dorm, access, stove, access, french, press, kettle, b...  \n",
       "2  [hi, getting, really, weak, taste, delonghi, machine, pretty, much, like, since, bought, tried, ...  \n",
       "3  [last, month, typed, google, best, machine, month, later, fully, dived, espresso, world, looking...  \n",
       "4                                                                           [compak, grinder, upgrade]  "
      ]
     },
     "execution_count": 41,
     "metadata": {},
     "output_type": "execute_result"
    },
    {
     "data": {
      "text/html": [
       "<div>\n",
       "<style scoped>\n",
       "    .dataframe tbody tr th:only-of-type {\n",
       "        vertical-align: middle;\n",
       "    }\n",
       "\n",
       "    .dataframe tbody tr th {\n",
       "        vertical-align: top;\n",
       "    }\n",
       "\n",
       "    .dataframe thead th {\n",
       "        text-align: right;\n",
       "    }\n",
       "</style>\n",
       "<table border=\"1\" class=\"dataframe\">\n",
       "  <thead>\n",
       "    <tr style=\"text-align: right;\">\n",
       "      <th></th>\n",
       "      <th>subreddit</th>\n",
       "      <th>selftext</th>\n",
       "      <th>title</th>\n",
       "      <th>text</th>\n",
       "    </tr>\n",
       "  </thead>\n",
       "  <tbody>\n",
       "    <tr>\n",
       "      <th>0</th>\n",
       "      <td>Coffee</td>\n",
       "      <td>[hi, guy, hoping, may, able, help, question, short, version, changing, grinder, compak, ceado, r...</td>\n",
       "      <td>[compak, upgrade, dilemma]</td>\n",
       "      <td>[hi, guy, hoping, may, able, help, question, short, version, changing, grinder, compak, ceado, r...</td>\n",
       "    </tr>\n",
       "    <tr>\n",
       "      <th>1</th>\n",
       "      <td>Coffee</td>\n",
       "      <td>[hello, fellow, college, student, staying, dorm, access, stove, access, french, press, kettle, b...</td>\n",
       "      <td>[new, brewing, tip]</td>\n",
       "      <td>[hello, fellow, college, student, staying, dorm, access, stove, access, french, press, kettle, b...</td>\n",
       "    </tr>\n",
       "    <tr>\n",
       "      <th>2</th>\n",
       "      <td>Coffee</td>\n",
       "      <td>[hi, getting, really, weak, taste, delonghi, machine, pretty, much, like, since, bought, tried, ...</td>\n",
       "      <td>[really, weak, taste, delonghi, perfecta, deluxe, esam]</td>\n",
       "      <td>[hi, getting, really, weak, taste, delonghi, machine, pretty, much, like, since, bought, tried, ...</td>\n",
       "    </tr>\n",
       "    <tr>\n",
       "      <th>3</th>\n",
       "      <td>Coffee</td>\n",
       "      <td>[last, month, typed, google, best, machine, month, later, fully, dived, espresso, world, looking...</td>\n",
       "      <td>[barista, express, v, gaggia, classic]</td>\n",
       "      <td>[last, month, typed, google, best, machine, month, later, fully, dived, espresso, world, looking...</td>\n",
       "    </tr>\n",
       "    <tr>\n",
       "      <th>4</th>\n",
       "      <td>Coffee</td>\n",
       "      <td>[]</td>\n",
       "      <td>[compak, grinder, upgrade]</td>\n",
       "      <td>[compak, grinder, upgrade]</td>\n",
       "    </tr>\n",
       "  </tbody>\n",
       "</table>\n",
       "</div>"
      ],
      "text/plain": [
       "  subreddit  \\\n",
       "0    Coffee   \n",
       "1    Coffee   \n",
       "2    Coffee   \n",
       "3    Coffee   \n",
       "4    Coffee   \n",
       "\n",
       "                                                                                              selftext  \\\n",
       "0  [hi, guy, hoping, may, able, help, question, short, version, changing, grinder, compak, ceado, r...   \n",
       "1  [hello, fellow, college, student, staying, dorm, access, stove, access, french, press, kettle, b...   \n",
       "2  [hi, getting, really, weak, taste, delonghi, machine, pretty, much, like, since, bought, tried, ...   \n",
       "3  [last, month, typed, google, best, machine, month, later, fully, dived, espresso, world, looking...   \n",
       "4                                                                                                   []   \n",
       "\n",
       "                                                     title  \\\n",
       "0                               [compak, upgrade, dilemma]   \n",
       "1                                      [new, brewing, tip]   \n",
       "2  [really, weak, taste, delonghi, perfecta, deluxe, esam]   \n",
       "3                   [barista, express, v, gaggia, classic]   \n",
       "4                               [compak, grinder, upgrade]   \n",
       "\n",
       "                                                                                                  text  \n",
       "0  [hi, guy, hoping, may, able, help, question, short, version, changing, grinder, compak, ceado, r...  \n",
       "1  [hello, fellow, college, student, staying, dorm, access, stove, access, french, press, kettle, b...  \n",
       "2  [hi, getting, really, weak, taste, delonghi, machine, pretty, much, like, since, bought, tried, ...  \n",
       "3  [last, month, typed, google, best, machine, month, later, fully, dived, espresso, world, looking...  \n",
       "4                                                                           [compak, grinder, upgrade]  "
      ]
     },
     "execution_count": 41,
     "metadata": {},
     "output_type": "execute_result"
    }
   ],
   "source": [
    "df_coffee.head()"
   ]
  },
  {
   "cell_type": "markdown",
   "id": "405a6271",
   "metadata": {},
   "source": [
    "### Dropping duplicates"
   ]
  },
  {
   "cell_type": "code",
   "execution_count": 42,
   "id": "ac90de46",
   "metadata": {},
   "outputs": [
    {
     "name": "stdout",
     "output_type": "stream",
     "text": [
      "(1993, 4)\n",
      "(2000, 4)\n",
      "(1993, 5)\n",
      "(2000, 5)\n",
      "(1993, 4)\n",
      "(2000, 4)\n",
      "(1993, 5)\n",
      "(2000, 5)\n"
     ]
    }
   ],
   "source": [
    "# To check and remove any duplicates for both datasets\n",
    "\n",
    "# Before\n",
    "print(df_tea.shape)\n",
    "print(df_coffee.shape)\n",
    "\n",
    "# Since lists are unhashable, need to convert it to something hashable like a tuple to use it to drop duplicate rows\n",
    "df_tea[\"text_tuple\"] = df_tea['text'].apply(lambda x: tuple(x))\n",
    "df_coffee[\"text_tuple\"] = df_coffee['text'].apply(lambda x: tuple(x))\n",
    "\n",
    "# Dropping any duplicate rows\n",
    "df_tea.drop_duplicates(subset='text_tuple', keep='first')\n",
    "df_coffee.drop_duplicates(subset='text_tuple', keep='first')\n",
    "\n",
    "# After\n",
    "print(df_tea.shape)\n",
    "print(df_coffee.shape)\n",
    "\n",
    "# Observed that there are no duplicate posts"
   ]
  },
  {
   "cell_type": "code",
   "execution_count": 43,
   "id": "e2c780a8",
   "metadata": {},
   "outputs": [],
   "source": [
    "# Creating new column to show number of words in submissions\n",
    "df_tea['text_length'] = df_tea['text'].str.len()\n",
    "df_coffee['text_length'] = df_coffee['text'].str.len()"
   ]
  },
  {
   "cell_type": "code",
   "execution_count": 44,
   "id": "553bd7d6",
   "metadata": {
    "scrolled": true
   },
   "outputs": [
    {
     "data": {
      "text/html": [
       "<div>\n",
       "<style scoped>\n",
       "    .dataframe tbody tr th:only-of-type {\n",
       "        vertical-align: middle;\n",
       "    }\n",
       "\n",
       "    .dataframe tbody tr th {\n",
       "        vertical-align: top;\n",
       "    }\n",
       "\n",
       "    .dataframe thead th {\n",
       "        text-align: right;\n",
       "    }\n",
       "</style>\n",
       "<table border=\"1\" class=\"dataframe\">\n",
       "  <thead>\n",
       "    <tr style=\"text-align: right;\">\n",
       "      <th></th>\n",
       "      <th>subreddit</th>\n",
       "      <th>selftext</th>\n",
       "      <th>title</th>\n",
       "      <th>text</th>\n",
       "      <th>text_tuple</th>\n",
       "      <th>text_length</th>\n",
       "    </tr>\n",
       "  </thead>\n",
       "  <tbody>\n",
       "    <tr>\n",
       "      <th>0</th>\n",
       "      <td>tea</td>\n",
       "      <td>[love, especially, green, jasmine, thing, though, drink, hot, make, mouth, dry, leaf, bitter, ta...</td>\n",
       "      <td>[make, taste, refreshing]</td>\n",
       "      <td>[love, especially, green, jasmine, thing, though, drink, hot, make, mouth, dry, leaf, bitter, ta...</td>\n",
       "      <td>(love, especially, green, jasmine, thing, though, drink, hot, make, mouth, dry, leaf, bitter, ta...</td>\n",
       "      <td>19</td>\n",
       "    </tr>\n",
       "    <tr>\n",
       "      <th>1</th>\n",
       "      <td>tea</td>\n",
       "      <td>[]</td>\n",
       "      <td>[best, strawberry, kombucha, delicious, probiotic, beverage]</td>\n",
       "      <td>[best, strawberry, kombucha, delicious, probiotic, beverage]</td>\n",
       "      <td>(best, strawberry, kombucha, delicious, probiotic, beverage)</td>\n",
       "      <td>6</td>\n",
       "    </tr>\n",
       "    <tr>\n",
       "      <th>2</th>\n",
       "      <td>tea</td>\n",
       "      <td>[]</td>\n",
       "      <td>[traditional, medicinals, worth, buying]</td>\n",
       "      <td>[traditional, medicinals, worth, buying]</td>\n",
       "      <td>(traditional, medicinals, worth, buying)</td>\n",
       "      <td>4</td>\n",
       "    </tr>\n",
       "    <tr>\n",
       "      <th>3</th>\n",
       "      <td>tea</td>\n",
       "      <td>[]</td>\n",
       "      <td>[like, dislike, spout, deal, breaker]</td>\n",
       "      <td>[like, dislike, spout, deal, breaker]</td>\n",
       "      <td>(like, dislike, spout, deal, breaker)</td>\n",
       "      <td>5</td>\n",
       "    </tr>\n",
       "    <tr>\n",
       "      <th>4</th>\n",
       "      <td>tea</td>\n",
       "      <td>[hi, recently, getting, specialty, mostly, part, due, recently, picking, book, tony, gebely, por...</td>\n",
       "      <td>[first, flush, experience, good]</td>\n",
       "      <td>[hi, recently, getting, specialty, mostly, part, due, recently, picking, book, tony, gebely, por...</td>\n",
       "      <td>(hi, recently, getting, specialty, mostly, part, due, recently, picking, book, tony, gebely, por...</td>\n",
       "      <td>43</td>\n",
       "    </tr>\n",
       "  </tbody>\n",
       "</table>\n",
       "</div>"
      ],
      "text/plain": [
       "  subreddit  \\\n",
       "0       tea   \n",
       "1       tea   \n",
       "2       tea   \n",
       "3       tea   \n",
       "4       tea   \n",
       "\n",
       "                                                                                              selftext  \\\n",
       "0  [love, especially, green, jasmine, thing, though, drink, hot, make, mouth, dry, leaf, bitter, ta...   \n",
       "1                                                                                                   []   \n",
       "2                                                                                                   []   \n",
       "3                                                                                                   []   \n",
       "4  [hi, recently, getting, specialty, mostly, part, due, recently, picking, book, tony, gebely, por...   \n",
       "\n",
       "                                                          title  \\\n",
       "0                                     [make, taste, refreshing]   \n",
       "1  [best, strawberry, kombucha, delicious, probiotic, beverage]   \n",
       "2                      [traditional, medicinals, worth, buying]   \n",
       "3                         [like, dislike, spout, deal, breaker]   \n",
       "4                              [first, flush, experience, good]   \n",
       "\n",
       "                                                                                                  text  \\\n",
       "0  [love, especially, green, jasmine, thing, though, drink, hot, make, mouth, dry, leaf, bitter, ta...   \n",
       "1                                         [best, strawberry, kombucha, delicious, probiotic, beverage]   \n",
       "2                                                             [traditional, medicinals, worth, buying]   \n",
       "3                                                                [like, dislike, spout, deal, breaker]   \n",
       "4  [hi, recently, getting, specialty, mostly, part, due, recently, picking, book, tony, gebely, por...   \n",
       "\n",
       "                                                                                            text_tuple  \\\n",
       "0  (love, especially, green, jasmine, thing, though, drink, hot, make, mouth, dry, leaf, bitter, ta...   \n",
       "1                                         (best, strawberry, kombucha, delicious, probiotic, beverage)   \n",
       "2                                                             (traditional, medicinals, worth, buying)   \n",
       "3                                                                (like, dislike, spout, deal, breaker)   \n",
       "4  (hi, recently, getting, specialty, mostly, part, due, recently, picking, book, tony, gebely, por...   \n",
       "\n",
       "   text_length  \n",
       "0           19  \n",
       "1            6  \n",
       "2            4  \n",
       "3            5  \n",
       "4           43  "
      ]
     },
     "execution_count": 44,
     "metadata": {},
     "output_type": "execute_result"
    },
    {
     "data": {
      "text/html": [
       "<div>\n",
       "<style scoped>\n",
       "    .dataframe tbody tr th:only-of-type {\n",
       "        vertical-align: middle;\n",
       "    }\n",
       "\n",
       "    .dataframe tbody tr th {\n",
       "        vertical-align: top;\n",
       "    }\n",
       "\n",
       "    .dataframe thead th {\n",
       "        text-align: right;\n",
       "    }\n",
       "</style>\n",
       "<table border=\"1\" class=\"dataframe\">\n",
       "  <thead>\n",
       "    <tr style=\"text-align: right;\">\n",
       "      <th></th>\n",
       "      <th>subreddit</th>\n",
       "      <th>selftext</th>\n",
       "      <th>title</th>\n",
       "      <th>text</th>\n",
       "      <th>text_tuple</th>\n",
       "      <th>text_length</th>\n",
       "    </tr>\n",
       "  </thead>\n",
       "  <tbody>\n",
       "    <tr>\n",
       "      <th>0</th>\n",
       "      <td>tea</td>\n",
       "      <td>[love, especially, green, jasmine, thing, though, drink, hot, make, mouth, dry, leaf, bitter, ta...</td>\n",
       "      <td>[make, taste, refreshing]</td>\n",
       "      <td>[love, especially, green, jasmine, thing, though, drink, hot, make, mouth, dry, leaf, bitter, ta...</td>\n",
       "      <td>(love, especially, green, jasmine, thing, though, drink, hot, make, mouth, dry, leaf, bitter, ta...</td>\n",
       "      <td>19</td>\n",
       "    </tr>\n",
       "    <tr>\n",
       "      <th>1</th>\n",
       "      <td>tea</td>\n",
       "      <td>[]</td>\n",
       "      <td>[best, strawberry, kombucha, delicious, probiotic, beverage]</td>\n",
       "      <td>[best, strawberry, kombucha, delicious, probiotic, beverage]</td>\n",
       "      <td>(best, strawberry, kombucha, delicious, probiotic, beverage)</td>\n",
       "      <td>6</td>\n",
       "    </tr>\n",
       "    <tr>\n",
       "      <th>2</th>\n",
       "      <td>tea</td>\n",
       "      <td>[]</td>\n",
       "      <td>[traditional, medicinals, worth, buying]</td>\n",
       "      <td>[traditional, medicinals, worth, buying]</td>\n",
       "      <td>(traditional, medicinals, worth, buying)</td>\n",
       "      <td>4</td>\n",
       "    </tr>\n",
       "    <tr>\n",
       "      <th>3</th>\n",
       "      <td>tea</td>\n",
       "      <td>[]</td>\n",
       "      <td>[like, dislike, spout, deal, breaker]</td>\n",
       "      <td>[like, dislike, spout, deal, breaker]</td>\n",
       "      <td>(like, dislike, spout, deal, breaker)</td>\n",
       "      <td>5</td>\n",
       "    </tr>\n",
       "    <tr>\n",
       "      <th>4</th>\n",
       "      <td>tea</td>\n",
       "      <td>[hi, recently, getting, specialty, mostly, part, due, recently, picking, book, tony, gebely, por...</td>\n",
       "      <td>[first, flush, experience, good]</td>\n",
       "      <td>[hi, recently, getting, specialty, mostly, part, due, recently, picking, book, tony, gebely, por...</td>\n",
       "      <td>(hi, recently, getting, specialty, mostly, part, due, recently, picking, book, tony, gebely, por...</td>\n",
       "      <td>43</td>\n",
       "    </tr>\n",
       "  </tbody>\n",
       "</table>\n",
       "</div>"
      ],
      "text/plain": [
       "  subreddit  \\\n",
       "0       tea   \n",
       "1       tea   \n",
       "2       tea   \n",
       "3       tea   \n",
       "4       tea   \n",
       "\n",
       "                                                                                              selftext  \\\n",
       "0  [love, especially, green, jasmine, thing, though, drink, hot, make, mouth, dry, leaf, bitter, ta...   \n",
       "1                                                                                                   []   \n",
       "2                                                                                                   []   \n",
       "3                                                                                                   []   \n",
       "4  [hi, recently, getting, specialty, mostly, part, due, recently, picking, book, tony, gebely, por...   \n",
       "\n",
       "                                                          title  \\\n",
       "0                                     [make, taste, refreshing]   \n",
       "1  [best, strawberry, kombucha, delicious, probiotic, beverage]   \n",
       "2                      [traditional, medicinals, worth, buying]   \n",
       "3                         [like, dislike, spout, deal, breaker]   \n",
       "4                              [first, flush, experience, good]   \n",
       "\n",
       "                                                                                                  text  \\\n",
       "0  [love, especially, green, jasmine, thing, though, drink, hot, make, mouth, dry, leaf, bitter, ta...   \n",
       "1                                         [best, strawberry, kombucha, delicious, probiotic, beverage]   \n",
       "2                                                             [traditional, medicinals, worth, buying]   \n",
       "3                                                                [like, dislike, spout, deal, breaker]   \n",
       "4  [hi, recently, getting, specialty, mostly, part, due, recently, picking, book, tony, gebely, por...   \n",
       "\n",
       "                                                                                            text_tuple  \\\n",
       "0  (love, especially, green, jasmine, thing, though, drink, hot, make, mouth, dry, leaf, bitter, ta...   \n",
       "1                                         (best, strawberry, kombucha, delicious, probiotic, beverage)   \n",
       "2                                                             (traditional, medicinals, worth, buying)   \n",
       "3                                                                (like, dislike, spout, deal, breaker)   \n",
       "4  (hi, recently, getting, specialty, mostly, part, due, recently, picking, book, tony, gebely, por...   \n",
       "\n",
       "   text_length  \n",
       "0           19  \n",
       "1            6  \n",
       "2            4  \n",
       "3            5  \n",
       "4           43  "
      ]
     },
     "execution_count": 44,
     "metadata": {},
     "output_type": "execute_result"
    }
   ],
   "source": [
    "# Ensuring that the creation of the dataset columns are done right\n",
    "df_tea.head()"
   ]
  },
  {
   "cell_type": "code",
   "execution_count": 45,
   "id": "94f49a37",
   "metadata": {
    "scrolled": true
   },
   "outputs": [
    {
     "data": {
      "text/html": [
       "<div>\n",
       "<style scoped>\n",
       "    .dataframe tbody tr th:only-of-type {\n",
       "        vertical-align: middle;\n",
       "    }\n",
       "\n",
       "    .dataframe tbody tr th {\n",
       "        vertical-align: top;\n",
       "    }\n",
       "\n",
       "    .dataframe thead th {\n",
       "        text-align: right;\n",
       "    }\n",
       "</style>\n",
       "<table border=\"1\" class=\"dataframe\">\n",
       "  <thead>\n",
       "    <tr style=\"text-align: right;\">\n",
       "      <th></th>\n",
       "      <th>subreddit</th>\n",
       "      <th>selftext</th>\n",
       "      <th>title</th>\n",
       "      <th>text</th>\n",
       "      <th>text_tuple</th>\n",
       "      <th>text_length</th>\n",
       "    </tr>\n",
       "  </thead>\n",
       "  <tbody>\n",
       "    <tr>\n",
       "      <th>0</th>\n",
       "      <td>Coffee</td>\n",
       "      <td>[hi, guy, hoping, may, able, help, question, short, version, changing, grinder, compak, ceado, r...</td>\n",
       "      <td>[compak, upgrade, dilemma]</td>\n",
       "      <td>[hi, guy, hoping, may, able, help, question, short, version, changing, grinder, compak, ceado, r...</td>\n",
       "      <td>(hi, guy, hoping, may, able, help, question, short, version, changing, grinder, compak, ceado, r...</td>\n",
       "      <td>139</td>\n",
       "    </tr>\n",
       "    <tr>\n",
       "      <th>1</th>\n",
       "      <td>Coffee</td>\n",
       "      <td>[hello, fellow, college, student, staying, dorm, access, stove, access, french, press, kettle, b...</td>\n",
       "      <td>[new, brewing, tip]</td>\n",
       "      <td>[hello, fellow, college, student, staying, dorm, access, stove, access, french, press, kettle, b...</td>\n",
       "      <td>(hello, fellow, college, student, staying, dorm, access, stove, access, french, press, kettle, b...</td>\n",
       "      <td>30</td>\n",
       "    </tr>\n",
       "    <tr>\n",
       "      <th>2</th>\n",
       "      <td>Coffee</td>\n",
       "      <td>[hi, getting, really, weak, taste, delonghi, machine, pretty, much, like, since, bought, tried, ...</td>\n",
       "      <td>[really, weak, taste, delonghi, perfecta, deluxe, esam]</td>\n",
       "      <td>[hi, getting, really, weak, taste, delonghi, machine, pretty, much, like, since, bought, tried, ...</td>\n",
       "      <td>(hi, getting, really, weak, taste, delonghi, machine, pretty, much, like, since, bought, tried, ...</td>\n",
       "      <td>70</td>\n",
       "    </tr>\n",
       "    <tr>\n",
       "      <th>3</th>\n",
       "      <td>Coffee</td>\n",
       "      <td>[last, month, typed, google, best, machine, month, later, fully, dived, espresso, world, looking...</td>\n",
       "      <td>[barista, express, v, gaggia, classic]</td>\n",
       "      <td>[last, month, typed, google, best, machine, month, later, fully, dived, espresso, world, looking...</td>\n",
       "      <td>(last, month, typed, google, best, machine, month, later, fully, dived, espresso, world, looking...</td>\n",
       "      <td>147</td>\n",
       "    </tr>\n",
       "    <tr>\n",
       "      <th>4</th>\n",
       "      <td>Coffee</td>\n",
       "      <td>[]</td>\n",
       "      <td>[compak, grinder, upgrade]</td>\n",
       "      <td>[compak, grinder, upgrade]</td>\n",
       "      <td>(compak, grinder, upgrade)</td>\n",
       "      <td>3</td>\n",
       "    </tr>\n",
       "  </tbody>\n",
       "</table>\n",
       "</div>"
      ],
      "text/plain": [
       "  subreddit  \\\n",
       "0    Coffee   \n",
       "1    Coffee   \n",
       "2    Coffee   \n",
       "3    Coffee   \n",
       "4    Coffee   \n",
       "\n",
       "                                                                                              selftext  \\\n",
       "0  [hi, guy, hoping, may, able, help, question, short, version, changing, grinder, compak, ceado, r...   \n",
       "1  [hello, fellow, college, student, staying, dorm, access, stove, access, french, press, kettle, b...   \n",
       "2  [hi, getting, really, weak, taste, delonghi, machine, pretty, much, like, since, bought, tried, ...   \n",
       "3  [last, month, typed, google, best, machine, month, later, fully, dived, espresso, world, looking...   \n",
       "4                                                                                                   []   \n",
       "\n",
       "                                                     title  \\\n",
       "0                               [compak, upgrade, dilemma]   \n",
       "1                                      [new, brewing, tip]   \n",
       "2  [really, weak, taste, delonghi, perfecta, deluxe, esam]   \n",
       "3                   [barista, express, v, gaggia, classic]   \n",
       "4                               [compak, grinder, upgrade]   \n",
       "\n",
       "                                                                                                  text  \\\n",
       "0  [hi, guy, hoping, may, able, help, question, short, version, changing, grinder, compak, ceado, r...   \n",
       "1  [hello, fellow, college, student, staying, dorm, access, stove, access, french, press, kettle, b...   \n",
       "2  [hi, getting, really, weak, taste, delonghi, machine, pretty, much, like, since, bought, tried, ...   \n",
       "3  [last, month, typed, google, best, machine, month, later, fully, dived, espresso, world, looking...   \n",
       "4                                                                           [compak, grinder, upgrade]   \n",
       "\n",
       "                                                                                            text_tuple  \\\n",
       "0  (hi, guy, hoping, may, able, help, question, short, version, changing, grinder, compak, ceado, r...   \n",
       "1  (hello, fellow, college, student, staying, dorm, access, stove, access, french, press, kettle, b...   \n",
       "2  (hi, getting, really, weak, taste, delonghi, machine, pretty, much, like, since, bought, tried, ...   \n",
       "3  (last, month, typed, google, best, machine, month, later, fully, dived, espresso, world, looking...   \n",
       "4                                                                           (compak, grinder, upgrade)   \n",
       "\n",
       "   text_length  \n",
       "0          139  \n",
       "1           30  \n",
       "2           70  \n",
       "3          147  \n",
       "4            3  "
      ]
     },
     "execution_count": 45,
     "metadata": {},
     "output_type": "execute_result"
    },
    {
     "data": {
      "text/html": [
       "<div>\n",
       "<style scoped>\n",
       "    .dataframe tbody tr th:only-of-type {\n",
       "        vertical-align: middle;\n",
       "    }\n",
       "\n",
       "    .dataframe tbody tr th {\n",
       "        vertical-align: top;\n",
       "    }\n",
       "\n",
       "    .dataframe thead th {\n",
       "        text-align: right;\n",
       "    }\n",
       "</style>\n",
       "<table border=\"1\" class=\"dataframe\">\n",
       "  <thead>\n",
       "    <tr style=\"text-align: right;\">\n",
       "      <th></th>\n",
       "      <th>subreddit</th>\n",
       "      <th>selftext</th>\n",
       "      <th>title</th>\n",
       "      <th>text</th>\n",
       "      <th>text_tuple</th>\n",
       "      <th>text_length</th>\n",
       "    </tr>\n",
       "  </thead>\n",
       "  <tbody>\n",
       "    <tr>\n",
       "      <th>0</th>\n",
       "      <td>Coffee</td>\n",
       "      <td>[hi, guy, hoping, may, able, help, question, short, version, changing, grinder, compak, ceado, r...</td>\n",
       "      <td>[compak, upgrade, dilemma]</td>\n",
       "      <td>[hi, guy, hoping, may, able, help, question, short, version, changing, grinder, compak, ceado, r...</td>\n",
       "      <td>(hi, guy, hoping, may, able, help, question, short, version, changing, grinder, compak, ceado, r...</td>\n",
       "      <td>139</td>\n",
       "    </tr>\n",
       "    <tr>\n",
       "      <th>1</th>\n",
       "      <td>Coffee</td>\n",
       "      <td>[hello, fellow, college, student, staying, dorm, access, stove, access, french, press, kettle, b...</td>\n",
       "      <td>[new, brewing, tip]</td>\n",
       "      <td>[hello, fellow, college, student, staying, dorm, access, stove, access, french, press, kettle, b...</td>\n",
       "      <td>(hello, fellow, college, student, staying, dorm, access, stove, access, french, press, kettle, b...</td>\n",
       "      <td>30</td>\n",
       "    </tr>\n",
       "    <tr>\n",
       "      <th>2</th>\n",
       "      <td>Coffee</td>\n",
       "      <td>[hi, getting, really, weak, taste, delonghi, machine, pretty, much, like, since, bought, tried, ...</td>\n",
       "      <td>[really, weak, taste, delonghi, perfecta, deluxe, esam]</td>\n",
       "      <td>[hi, getting, really, weak, taste, delonghi, machine, pretty, much, like, since, bought, tried, ...</td>\n",
       "      <td>(hi, getting, really, weak, taste, delonghi, machine, pretty, much, like, since, bought, tried, ...</td>\n",
       "      <td>70</td>\n",
       "    </tr>\n",
       "    <tr>\n",
       "      <th>3</th>\n",
       "      <td>Coffee</td>\n",
       "      <td>[last, month, typed, google, best, machine, month, later, fully, dived, espresso, world, looking...</td>\n",
       "      <td>[barista, express, v, gaggia, classic]</td>\n",
       "      <td>[last, month, typed, google, best, machine, month, later, fully, dived, espresso, world, looking...</td>\n",
       "      <td>(last, month, typed, google, best, machine, month, later, fully, dived, espresso, world, looking...</td>\n",
       "      <td>147</td>\n",
       "    </tr>\n",
       "    <tr>\n",
       "      <th>4</th>\n",
       "      <td>Coffee</td>\n",
       "      <td>[]</td>\n",
       "      <td>[compak, grinder, upgrade]</td>\n",
       "      <td>[compak, grinder, upgrade]</td>\n",
       "      <td>(compak, grinder, upgrade)</td>\n",
       "      <td>3</td>\n",
       "    </tr>\n",
       "  </tbody>\n",
       "</table>\n",
       "</div>"
      ],
      "text/plain": [
       "  subreddit  \\\n",
       "0    Coffee   \n",
       "1    Coffee   \n",
       "2    Coffee   \n",
       "3    Coffee   \n",
       "4    Coffee   \n",
       "\n",
       "                                                                                              selftext  \\\n",
       "0  [hi, guy, hoping, may, able, help, question, short, version, changing, grinder, compak, ceado, r...   \n",
       "1  [hello, fellow, college, student, staying, dorm, access, stove, access, french, press, kettle, b...   \n",
       "2  [hi, getting, really, weak, taste, delonghi, machine, pretty, much, like, since, bought, tried, ...   \n",
       "3  [last, month, typed, google, best, machine, month, later, fully, dived, espresso, world, looking...   \n",
       "4                                                                                                   []   \n",
       "\n",
       "                                                     title  \\\n",
       "0                               [compak, upgrade, dilemma]   \n",
       "1                                      [new, brewing, tip]   \n",
       "2  [really, weak, taste, delonghi, perfecta, deluxe, esam]   \n",
       "3                   [barista, express, v, gaggia, classic]   \n",
       "4                               [compak, grinder, upgrade]   \n",
       "\n",
       "                                                                                                  text  \\\n",
       "0  [hi, guy, hoping, may, able, help, question, short, version, changing, grinder, compak, ceado, r...   \n",
       "1  [hello, fellow, college, student, staying, dorm, access, stove, access, french, press, kettle, b...   \n",
       "2  [hi, getting, really, weak, taste, delonghi, machine, pretty, much, like, since, bought, tried, ...   \n",
       "3  [last, month, typed, google, best, machine, month, later, fully, dived, espresso, world, looking...   \n",
       "4                                                                           [compak, grinder, upgrade]   \n",
       "\n",
       "                                                                                            text_tuple  \\\n",
       "0  (hi, guy, hoping, may, able, help, question, short, version, changing, grinder, compak, ceado, r...   \n",
       "1  (hello, fellow, college, student, staying, dorm, access, stove, access, french, press, kettle, b...   \n",
       "2  (hi, getting, really, weak, taste, delonghi, machine, pretty, much, like, since, bought, tried, ...   \n",
       "3  (last, month, typed, google, best, machine, month, later, fully, dived, espresso, world, looking...   \n",
       "4                                                                           (compak, grinder, upgrade)   \n",
       "\n",
       "   text_length  \n",
       "0          139  \n",
       "1           30  \n",
       "2           70  \n",
       "3          147  \n",
       "4            3  "
      ]
     },
     "execution_count": 45,
     "metadata": {},
     "output_type": "execute_result"
    }
   ],
   "source": [
    "# Ensuring that the creation of the dataset columns are done right\n",
    "df_coffee.head()"
   ]
  },
  {
   "cell_type": "markdown",
   "id": "64ccd2d8",
   "metadata": {},
   "source": [
    "### Dropping Empty Lists (after removing stop words)"
   ]
  },
  {
   "cell_type": "code",
   "execution_count": 46,
   "id": "81c3b86f",
   "metadata": {},
   "outputs": [],
   "source": [
    "# Looking at rows with text_length 0\n",
    "df_tea_0 = df_tea.loc[df_tea['text_length'] == 0,:]"
   ]
  },
  {
   "cell_type": "code",
   "execution_count": 47,
   "id": "707e5d5d",
   "metadata": {},
   "outputs": [
    {
     "data": {
      "text/plain": [
       "17"
      ]
     },
     "execution_count": 47,
     "metadata": {},
     "output_type": "execute_result"
    },
    {
     "data": {
      "text/plain": [
       "17"
      ]
     },
     "execution_count": 47,
     "metadata": {},
     "output_type": "execute_result"
    }
   ],
   "source": [
    "df_tea_0.shape[0]"
   ]
  },
  {
   "cell_type": "code",
   "execution_count": 48,
   "id": "79bb748f",
   "metadata": {},
   "outputs": [],
   "source": [
    "df_coffee_0 = df_coffee.loc[df_coffee['text_length'] == 0,:]"
   ]
  },
  {
   "cell_type": "code",
   "execution_count": 49,
   "id": "8774dd1e",
   "metadata": {},
   "outputs": [
    {
     "data": {
      "text/plain": [
       "9"
      ]
     },
     "execution_count": 49,
     "metadata": {},
     "output_type": "execute_result"
    },
    {
     "data": {
      "text/plain": [
       "9"
      ]
     },
     "execution_count": 49,
     "metadata": {},
     "output_type": "execute_result"
    }
   ],
   "source": [
    "df_coffee_0.shape[0]"
   ]
  },
  {
   "cell_type": "code",
   "execution_count": 50,
   "id": "479df96f",
   "metadata": {},
   "outputs": [],
   "source": [
    "# Dropping rows with 0 words in both submissions\n",
    "df_tea = df_tea.loc[df_tea['text_length'] != 0, :]\n",
    "df_coffee = df_coffee.loc[df_coffee['text_length'] != 0, :]"
   ]
  },
  {
   "cell_type": "code",
   "execution_count": 51,
   "id": "647dc482",
   "metadata": {},
   "outputs": [
    {
     "name": "stdout",
     "output_type": "stream",
     "text": [
      "(1976, 6)\n",
      "(1991, 6)\n",
      "(1976, 6)\n",
      "(1991, 6)\n"
     ]
    }
   ],
   "source": [
    "print(df_tea.shape)\n",
    "print(df_coffee.shape)"
   ]
  },
  {
   "cell_type": "markdown",
   "id": "5248b6b6",
   "metadata": {},
   "source": [
    "# Preprocessing (CountVectorizer and N-gram) and Exploratory Data Analysis"
   ]
  },
  {
   "cell_type": "markdown",
   "id": "816fdfee",
   "metadata": {},
   "source": [
    "### EDA on Cleaned Submission Lengths"
   ]
  },
  {
   "cell_type": "code",
   "execution_count": 52,
   "id": "93b4ee82",
   "metadata": {
    "scrolled": false
   },
   "outputs": [
    {
     "data": {
      "image/png": "[encoded data removed]",
      "text/plain": [
       "<Figure size 360x360 with 1 Axes>"
      ]
     },
     "metadata": {
      "needs_background": "light"
     },
     "output_type": "display_data"
    },
    {
     "data": {
      "image/png": "[encoded data removed]",
      "text/plain": [
       "<Figure size 360x360 with 1 Axes>"
      ]
     },
     "metadata": {
      "needs_background": "light"
     },
     "output_type": "display_data"
    }
   ],
   "source": [
    "sns.displot(df_tea['text_length'], kde=False).set(title='Word Count of r/tea submissions')\n",
    "plt.xlim(0, 200);"
   ]
  },
  {
   "cell_type": "code",
   "execution_count": 53,
   "id": "c3cc2ab7",
   "metadata": {},
   "outputs": [
    {
     "data": {
      "text/plain": [
       "count    1976.000000\n",
       "mean       19.061741\n",
       "std        38.688437\n",
       "min         1.000000\n",
       "25%         4.000000\n",
       "50%         8.000000\n",
       "75%        23.000000\n",
       "max       930.000000\n",
       "Name: text_length, dtype: float64"
      ]
     },
     "execution_count": 53,
     "metadata": {},
     "output_type": "execute_result"
    },
    {
     "data": {
      "text/plain": [
       "count    1976.000000\n",
       "mean       19.061741\n",
       "std        38.688437\n",
       "min         1.000000\n",
       "25%         4.000000\n",
       "50%         8.000000\n",
       "75%        23.000000\n",
       "max       930.000000\n",
       "Name: text_length, dtype: float64"
      ]
     },
     "execution_count": 53,
     "metadata": {},
     "output_type": "execute_result"
    }
   ],
   "source": [
    "df_tea['text_length'].describe()"
   ]
  },
  {
   "cell_type": "code",
   "execution_count": 54,
   "id": "c279d4fe",
   "metadata": {
    "scrolled": false
   },
   "outputs": [
    {
     "data": {
      "image/png": "[encoded data removed]",
      "text/plain": [
       "<Figure size 360x360 with 1 Axes>"
      ]
     },
     "metadata": {
      "needs_background": "light"
     },
     "output_type": "display_data"
    },
    {
     "data": {
      "image/png": "[encoded data removed]",
      "text/plain": [
       "<Figure size 360x360 with 1 Axes>"
      ]
     },
     "metadata": {
      "needs_background": "light"
     },
     "output_type": "display_data"
    }
   ],
   "source": [
    "sns.displot(df_coffee['text_length'], kde=False).set(title='Word Count of r/coffee submissions')\n",
    "plt.xlim(0, 200);"
   ]
  },
  {
   "cell_type": "code",
   "execution_count": 55,
   "id": "22ce0dfd",
   "metadata": {},
   "outputs": [
    {
     "data": {
      "text/plain": [
       "count    1991.000000\n",
       "mean       32.324962\n",
       "std        36.030618\n",
       "min         1.000000\n",
       "25%         6.000000\n",
       "50%        23.000000\n",
       "75%        45.000000\n",
       "max       358.000000\n",
       "Name: text_length, dtype: float64"
      ]
     },
     "execution_count": 55,
     "metadata": {},
     "output_type": "execute_result"
    },
    {
     "data": {
      "text/plain": [
       "count    1991.000000\n",
       "mean       32.324962\n",
       "std        36.030618\n",
       "min         1.000000\n",
       "25%         6.000000\n",
       "50%        23.000000\n",
       "75%        45.000000\n",
       "max       358.000000\n",
       "Name: text_length, dtype: float64"
      ]
     },
     "execution_count": 55,
     "metadata": {},
     "output_type": "execute_result"
    }
   ],
   "source": [
    "df_coffee['text_length'].describe()"
   ]
  },
  {
   "cell_type": "markdown",
   "id": "1175fba0",
   "metadata": {},
   "source": [
    "##### On average, pro-choice submissions have more words than pro-life submissions. For both subreddits, the word count distributions have very strong right skew, as seen from how the median is much closer to the 25th percentile than the 75th percentile and the median being lower than the mean.\n",
    "\n",
    "##### This gives us an idea of the type of submissions are common in these 2 subreddits. Given the high frequency of submissions with low word counts, it can be said that there are many submissions that are accompanied with visual data such as images or videos. As such, analysis and techniques tuned towards visual data can be employed as an alternative for NLP."
   ]
  },
  {
   "cell_type": "markdown",
   "id": "95e8d5e4",
   "metadata": {},
   "source": [
    "### EDA on Popular Words in Each Subreddit"
   ]
  },
  {
   "cell_type": "code",
   "execution_count": 56,
   "id": "48dcae29",
   "metadata": {},
   "outputs": [],
   "source": [
    "def list_to_str(list_):\n",
    "    string = \"\" \n",
    "    string = ' '.join(list_)\n",
    "    return string"
   ]
  },
  {
   "cell_type": "code",
   "execution_count": 57,
   "id": "1662b4da",
   "metadata": {},
   "outputs": [],
   "source": [
    "df_tea['text']= df_tea['text'].apply(list_to_str)\n",
    "df_coffee['text']= df_coffee['text'].apply(list_to_str)"
   ]
  },
  {
   "cell_type": "code",
   "execution_count": null,
   "id": "ac40c8d2",
   "metadata": {},
   "outputs": [],
   "source": [
    "df_tea.head()"
   ]
  },
  {
   "cell_type": "code",
   "execution_count": null,
   "id": "567987e0",
   "metadata": {},
   "outputs": [],
   "source": [
    "df_coffee.head()"
   ]
  },
  {
   "cell_type": "markdown",
   "id": "7186d002",
   "metadata": {},
   "source": [
    "### One-gram EDA"
   ]
  },
  {
   "cell_type": "code",
   "execution_count": null,
   "id": "e2cfe7af",
   "metadata": {},
   "outputs": [],
   "source": [
    "### Count vectorizing (1-gram) tea\n",
    "cv = CountVectorizer(stop_words='english', min_df=2)\n",
    "cv.fit(df_tea['text'])\n",
    "\n",
    "tea_cv = cv.transform(df_tea['text'])\n",
    "tea_df = pd.DataFrame(tea_cv.todense(), columns=cv.get_feature_names())"
   ]
  },
  {
   "cell_type": "code",
   "execution_count": null,
   "id": "4bc1411f",
   "metadata": {
    "scrolled": true
   },
   "outputs": [],
   "source": [
    "tea_df.sum().sort_values(ascending=False).head(15)"
   ]
  },
  {
   "cell_type": "code",
   "execution_count": null,
   "id": "88efb636",
   "metadata": {},
   "outputs": [],
   "source": [
    "### Count vectorizing (1-gram) coffee\n",
    "cv = CountVectorizer(stop_words='english', min_df=2)\n",
    "cv.fit(df_coffee['text'])\n",
    "\n",
    "coffee_cv = cv.transform(df_coffee['text'])\n",
    "coffee_df = pd.DataFrame(coffee_cv.todense(), columns=cv.get_feature_names())"
   ]
  },
  {
   "cell_type": "code",
   "execution_count": null,
   "id": "b511dc44",
   "metadata": {},
   "outputs": [],
   "source": [
    "coffee_df.sum().sort_values(ascending=False).head(15)"
   ]
  },
  {
   "cell_type": "code",
   "execution_count": null,
   "id": "7358e382",
   "metadata": {
    "scrolled": false
   },
   "outputs": [],
   "source": [
    "# Plotting for both submissions\n",
    "\n",
    "fig, ax = plt.subplots(nrows = 1, ncols = 2, figsize= (15,8))\n",
    "ax = ax.ravel()\n",
    "\n",
    "plt.subplots_adjust(hspace = 0.1)\n",
    "\n",
    "# Plotting for coffee\n",
    "tea_df.sum().sort_values(ascending=False).head(20).plot(kind='barh',ax = ax[0])\n",
    "ax[0].set_title('Top 20 Popular words from r/tea')\n",
    "ax[0].set_xlabel('Count')\n",
    "\n",
    "coffee_df.sum().sort_values(ascending=False).head(20).plot(kind='barh',ax = ax[1])\n",
    "ax[1].set_title('Top 20 Popular words from r/coffee')\n",
    "ax[1].set_xlabel('Count');"
   ]
  },
  {
   "cell_type": "markdown",
   "id": "d7d1f71c",
   "metadata": {},
   "source": [
    "##### The above plots show the top 20 words that are most frequently observed. It is observed that are many words in the respective subreddits that are indicative of which subreddit they are from. \n",
    "\n",
    "##### For tea, the very telling words are leaf, the type of tea, and equipments used to make tea, such as kettle and teapot.\n",
    "\n",
    "##### For coffee, the very telling words are the type of coffee beans, and the equipment of grinder."
   ]
  },
  {
   "cell_type": "markdown",
   "id": "cd4f07d8",
   "metadata": {},
   "source": [
    "### Two-gram EDA"
   ]
  },
  {
   "cell_type": "code",
   "execution_count": null,
   "id": "62cfddc2",
   "metadata": {},
   "outputs": [],
   "source": [
    "### Count vectorizing (2-gram) tea\n",
    "cv2= CountVectorizer(stop_words='english', min_df=2, ngram_range=(2,2))\n",
    "cv2.fit(df_tea['text'])\n",
    "\n",
    "tea_cv2 = cv2.transform(df_tea['text'])\n",
    "tea_df2 = pd.DataFrame(tea_cv2.todense(), columns=cv2.get_feature_names())"
   ]
  },
  {
   "cell_type": "code",
   "execution_count": null,
   "id": "3f442639",
   "metadata": {},
   "outputs": [],
   "source": [
    "tea_df2.sum().sort_values(ascending=False).head(15)"
   ]
  },
  {
   "cell_type": "code",
   "execution_count": null,
   "id": "dcfca2b8",
   "metadata": {},
   "outputs": [],
   "source": [
    "### Count vectorizing (2-gram) coffee\n",
    "cv2= CountVectorizer(stop_words='english', min_df=2, ngram_range=(2,2))\n",
    "cv2.fit(df_coffee['text'])\n",
    "\n",
    "coffee_cv2 = cv2.transform(df_coffee['text'])\n",
    "coffee_df2 = pd.DataFrame(coffee_cv2.todense(), columns=cv2.get_feature_names())"
   ]
  },
  {
   "cell_type": "code",
   "execution_count": null,
   "id": "fc7b94d9",
   "metadata": {},
   "outputs": [],
   "source": [
    "coffee_df2.sum().sort_values(ascending=False).head(15)"
   ]
  },
  {
   "cell_type": "code",
   "execution_count": null,
   "id": "dfa7be96",
   "metadata": {
    "scrolled": false
   },
   "outputs": [],
   "source": [
    "# Plotting for both submissions\n",
    "\n",
    "fig, ax = plt.subplots(nrows = 1, ncols = 2, figsize= (15,8))\n",
    "ax = ax.ravel()\n",
    "\n",
    "plt.subplots_adjust(hspace = 0.1)\n",
    "\n",
    "# Plotting for coffee\n",
    "tea_df2.sum().sort_values(ascending=False).head(20).plot(kind='barh',ax = ax[0])\n",
    "ax[0].set_title('Top 20 Popular pairs of words from r/tea')\n",
    "ax[0].set_xlabel('Count')\n",
    "\n",
    "coffee_df2.sum().sort_values(ascending=False).head(20).plot(kind='barh',ax = ax[1])\n",
    "ax[1].set_title('Top 20 Popular pairs of words from r/coffee')\n",
    "ax[1].set_xlabel('Count');"
   ]
  },
  {
   "cell_type": "markdown",
   "id": "34786201",
   "metadata": {},
   "source": [
    "##### The above plots show the top 20 words that are most frequently observed. Compared to the most frequently observed single words, the most frequently observed pairs of words are also indicative of the subreddit they come from.\n",
    "\n",
    "##### For tea, the very telling pairs are loose leaf and the type of tea leaves.\n",
    "\n",
    "##### For coffee, the very telling pairs are the type of coffee beans and terms relating to coffee brewing equipments such as grind setting."
   ]
  },
  {
   "cell_type": "markdown",
   "id": "fb299601",
   "metadata": {},
   "source": [
    "### Three-gram EDA"
   ]
  },
  {
   "cell_type": "code",
   "execution_count": null,
   "id": "91828ae6",
   "metadata": {},
   "outputs": [],
   "source": [
    "### Count vectorizing (3-gram) tea\n",
    "cv3= CountVectorizer(stop_words='english', min_df=2, ngram_range=(3,3))\n",
    "cv3.fit(df_tea['text'])\n",
    "\n",
    "tea_cv3 = cv3.transform(df_tea['text'])\n",
    "tea_df3 = pd.DataFrame(tea_cv3.todense(), columns=cv3.get_feature_names())"
   ]
  },
  {
   "cell_type": "code",
   "execution_count": null,
   "id": "358b5562",
   "metadata": {},
   "outputs": [],
   "source": [
    "tea_df3.sum().sort_values(ascending=False).head(15)"
   ]
  },
  {
   "cell_type": "code",
   "execution_count": null,
   "id": "82963fe4",
   "metadata": {},
   "outputs": [],
   "source": [
    "### Count vectorizing (3-gram) coffee\n",
    "cv3= CountVectorizer(stop_words='english', min_df=2, ngram_range=(3,3))\n",
    "cv3.fit(df_coffee['text'])\n",
    "\n",
    "coffee_cv3 = cv3.transform(df_coffee['text'])\n",
    "coffee_df3 = pd.DataFrame(coffee_cv3.todense(), columns=cv3.get_feature_names())"
   ]
  },
  {
   "cell_type": "code",
   "execution_count": null,
   "id": "13016e1c",
   "metadata": {},
   "outputs": [],
   "source": [
    "coffee_df3.sum().sort_values(ascending=False).head(15)"
   ]
  },
  {
   "cell_type": "code",
   "execution_count": null,
   "id": "a2d36ebe",
   "metadata": {},
   "outputs": [],
   "source": [
    "# Plotting for both submissions\n",
    "\n",
    "fig, ax = plt.subplots(nrows = 1, ncols = 2, figsize= (15,8))\n",
    "ax = ax.ravel()\n",
    "\n",
    "plt.subplots_adjust(hspace = 0.1)\n",
    "\n",
    "# Plotting for coffee\n",
    "tea_df3.sum().sort_values(ascending=False).head(20).plot(kind='barh',ax = ax[0])\n",
    "ax[0].set_title('Top 20 Popular trio of words from r/tea')\n",
    "ax[0].set_xlabel('Count')\n",
    "\n",
    "coffee_df3.sum().sort_values(ascending=False).head(20).plot(kind='barh',ax = ax[1])\n",
    "ax[1].set_title('Top 20 Popular trio of words from r/coffee')\n",
    "ax[1].set_xlabel('Count');"
   ]
  },
  {
   "cell_type": "markdown",
   "id": "5bf50ed6",
   "metadata": {},
   "source": [
    "##### The above plots show the top 20 words that are most frequently observed. There seems to be a mix of informative and telling trio of words but also words that do not make sense on its own. \n",
    "\n",
    "##### For tea, we uncover more types of tea with three words but get additional, unnecessary word where two of the three words would make more sense, for instance green rose and green mint makes more sense than green rose green and green mint green, respectively.\n",
    "\n",
    "##### For coffee, we have more terms about the coffee brewing machinery, types of brew, though interestingly the issue of redundant words in a trio is not as prevalent."
   ]
  },
  {
   "cell_type": "markdown",
   "id": "ceb1e1bf",
   "metadata": {},
   "source": [
    "# Preprocessing Final Dataset"
   ]
  },
  {
   "cell_type": "code",
   "execution_count": null,
   "id": "7fed6310",
   "metadata": {},
   "outputs": [],
   "source": [
    "# Combining both tea and coffee datasets\n",
    "df = pd.concat([df_tea, df_coffee], ignore_index=True)\n",
    "\n",
    "# Removing unneeded columns\n",
    "df = df[['subreddit','text']]\n",
    "\n",
    "# Remapping tea to 1 and coffee to 0\n",
    "df['subreddit'] = df['subreddit'].map({'tea': 1, 'Coffee': 0})"
   ]
  },
  {
   "cell_type": "code",
   "execution_count": null,
   "id": "b1040a81",
   "metadata": {},
   "outputs": [],
   "source": [
    "df.head()"
   ]
  },
  {
   "cell_type": "code",
   "execution_count": null,
   "id": "1d079cf1",
   "metadata": {},
   "outputs": [],
   "source": [
    "df.tail()"
   ]
  },
  {
   "cell_type": "code",
   "execution_count": null,
   "id": "8baf9bca",
   "metadata": {},
   "outputs": [],
   "source": [
    "X = df['text']\n",
    "y = df['subreddit']"
   ]
  },
  {
   "cell_type": "markdown",
   "id": "89693320",
   "metadata": {},
   "source": [
    "# Train/Test Split"
   ]
  },
  {
   "cell_type": "code",
   "execution_count": null,
   "id": "4c933ab2",
   "metadata": {},
   "outputs": [],
   "source": [
    "# Dividing the entire dataset into a train set and test set\n",
    "X_train, X_test, y_train, y_test = train_test_split(X,\n",
    "                                                    y,\n",
    "                                                    test_size=0.25,\n",
    "                                                    stratify=y,\n",
    "                                                    random_state=42)"
   ]
  },
  {
   "cell_type": "markdown",
   "id": "064e8f71",
   "metadata": {},
   "source": [
    "# Baseline Score"
   ]
  },
  {
   "cell_type": "code",
   "execution_count": null,
   "id": "84a4b995",
   "metadata": {},
   "outputs": [],
   "source": [
    "# Without using any model and looking at the counts, we can get the baseline accuracy\n",
    "y_test.value_counts(normalize = True)"
   ]
  },
  {
   "cell_type": "markdown",
   "id": "db308c42",
   "metadata": {},
   "source": [
    "##### The baseline score can be determined to be at ~50%"
   ]
  },
  {
   "cell_type": "markdown",
   "id": "9a54ce8b",
   "metadata": {},
   "source": [
    "# Modelling"
   ]
  },
  {
   "cell_type": "markdown",
   "id": "58c43ed1",
   "metadata": {},
   "source": [
    "### Multinomial Naive Bayes Model (CountVectorizer)"
   ]
  },
  {
   "cell_type": "code",
   "execution_count": null,
   "id": "559a5476",
   "metadata": {},
   "outputs": [],
   "source": [
    "# Let's set a pipeline up with two stages:\n",
    "# 1. CountVectorizer (transformer)\n",
    "# 2. Multinomial Naive Bayes (estimator)\n",
    "\n",
    "pipe_cvec_multinomial = Pipeline([\n",
    "    ('cvec', CountVectorizer()),\n",
    "    ('nb', MultinomialNB())\n",
    "])"
   ]
  },
  {
   "cell_type": "markdown",
   "id": "707dfbfb",
   "metadata": {},
   "source": [
    "### GridSearchCV"
   ]
  },
  {
   "cell_type": "code",
   "execution_count": null,
   "id": "1914ce1f",
   "metadata": {},
   "outputs": [],
   "source": [
    "# Search over the following values of hyperparameters:\n",
    "# Maximum number of features fit: 2000, 3000, 4000, 5000, 6000, 7000, 8000\n",
    "# Minimum number of documents needed to include token: 2, 3\n",
    "# Maximum number of documents needed to include token: 90%, 95%\n",
    "# Check (individual tokens) and also check (individual tokens, 2-grams, and 3-grams).\n",
    "\n",
    "pipe_cvec_multinomial_params = {\n",
    "    'cvec__max_features': [5_000], # [2_000, 3_000, 4_000, 5_000, 6_000, 7_000, 8_000]\n",
    "    'cvec__min_df': [2] , # [2, 3]\n",
    "    'cvec__max_df': [0.9], # [.9, .95]\n",
    "    'cvec__ngram_range': [(1,2)], # [(1,1), (1,2), (1,3)]\n",
    "}"
   ]
  },
  {
   "cell_type": "code",
   "execution_count": null,
   "id": "6664113e",
   "metadata": {},
   "outputs": [],
   "source": [
    "# Instantiate GridSearchCV.\n",
    "\n",
    "gs_cvec_multinomial = GridSearchCV(pipe_cvec_multinomial, # what object are we optimizing?\n",
    "                  param_grid=pipe_cvec_multinomial_params, # what parameters values are we searching?\n",
    "                  cv=5,\n",
    "                 n_jobs = -1) # 5-fold cross-validation."
   ]
  },
  {
   "cell_type": "code",
   "execution_count": null,
   "id": "755ee34f",
   "metadata": {
    "scrolled": true
   },
   "outputs": [],
   "source": [
    "# Fit GridSearch to training data.\n",
    "gs_cvec_multinomial.fit(X_train, y_train)"
   ]
  },
  {
   "cell_type": "code",
   "execution_count": null,
   "id": "27fed762",
   "metadata": {},
   "outputs": [],
   "source": [
    "print(gs_cvec_multinomial.best_params_)"
   ]
  },
  {
   "cell_type": "code",
   "execution_count": null,
   "id": "5fb89940",
   "metadata": {},
   "outputs": [],
   "source": [
    "# Retrieving the best score based on the optimized hyperparameters from GridSearchCV\n",
    "print(gs_cvec_multinomial.best_score_)"
   ]
  },
  {
   "cell_type": "code",
   "execution_count": null,
   "id": "4980ddb8",
   "metadata": {},
   "outputs": [],
   "source": [
    "# Score model on training set.\n",
    "gs_cvec_multinomial.score(X_train, y_train)"
   ]
  },
  {
   "cell_type": "code",
   "execution_count": null,
   "id": "f45fd2b1",
   "metadata": {},
   "outputs": [],
   "source": [
    "# Score model on testing set.\n",
    "gs_cvec_multinomial.score(X_test, y_test)"
   ]
  },
  {
   "cell_type": "markdown",
   "id": "bb314424",
   "metadata": {},
   "source": [
    "<details><summary>Is accuracy the best score here?</summary>\n",
    "\n",
    "Since we are classifying the right beverage, i.e. correctly classifying it as tea when a word relating to tea appears and the same for coffee, we would want to minimise our false positives and false negatives. As a result, accuracy is our main metric to maximize.\n",
    "</details>"
   ]
  },
  {
   "cell_type": "code",
   "execution_count": null,
   "id": "40f3fd46",
   "metadata": {},
   "outputs": [],
   "source": [
    "# Get predictions\n",
    "preds = gs_cvec_multinomial.predict(X_test)\n",
    "\n",
    "# Save confusion matrix values\n",
    "tn, fp, fn, tp = confusion_matrix(y_test, preds).ravel()"
   ]
  },
  {
   "cell_type": "code",
   "execution_count": null,
   "id": "4a48fbde",
   "metadata": {},
   "outputs": [],
   "source": [
    "# View confusion matrix\n",
    "\n",
    "plot_confusion_matrix(gs_cvec_multinomial, X_test, y_test, cmap='Blues', values_format='d');"
   ]
  },
  {
   "cell_type": "code",
   "execution_count": null,
   "id": "2032e6e6",
   "metadata": {},
   "outputs": [],
   "source": [
    "# Calculate the accuracy\n",
    "\n",
    "cvec_multinomialnb_acc = (tp + tn) / (tp + tn + fp + fn)\n",
    "\n",
    "print('Accuracy of CountVectorizer Multinomial NB is:', round(cvec_multinomialnb_acc,5))"
   ]
  },
  {
   "cell_type": "markdown",
   "id": "d51e2033",
   "metadata": {},
   "source": [
    "### Bernoulli Naive Bayes Model (CountVectorizer)"
   ]
  },
  {
   "cell_type": "code",
   "execution_count": null,
   "id": "6ff93694",
   "metadata": {},
   "outputs": [],
   "source": [
    "# Let's set a pipeline up with two stages:\n",
    "# 1. CountVectorizer (transformer)\n",
    "# 2. Bernoulli Naive Bayes (estimator)\n",
    "\n",
    "pipe_cvec_bernoulli = Pipeline([\n",
    "    ('cvec', CountVectorizer()),\n",
    "    ('nb', BernoulliNB())\n",
    "])"
   ]
  },
  {
   "cell_type": "markdown",
   "id": "dcac3311",
   "metadata": {},
   "source": [
    "### GridSearch CV"
   ]
  },
  {
   "cell_type": "code",
   "execution_count": null,
   "id": "df6725a9",
   "metadata": {},
   "outputs": [],
   "source": [
    "# Search over the following values of hyperparameters:\n",
    "# Maximum number of features fit: 2000, 3000, 4000, 5000, 6000, 7000, 8000\n",
    "# Minimum number of documents needed to include token: 2, 3\n",
    "# Maximum number of documents needed to include token: 90%, 95%\n",
    "# Check (individual tokens) and also check (individual tokens, 2-grams, and 3-grams).\n",
    "\n",
    "pipe_cvec_bernoulli_params = {\n",
    "    'cvec__max_features': [2000], # [2_000, 3_000, 4_000, 5_000, 6_000, 7_000, 8_000]\n",
    "    'cvec__min_df': [3], # [2, 3]\n",
    "    'cvec__max_df': [0.9], # [.9, .95]\n",
    "    'cvec__ngram_range': [(1,2)] # [(1,1), (1,2),(1,3), (2,2), (2,3), (3,3)]\n",
    "}"
   ]
  },
  {
   "cell_type": "code",
   "execution_count": null,
   "id": "5edd6590",
   "metadata": {},
   "outputs": [],
   "source": [
    "# Instantiate GridSearchCV.\n",
    "\n",
    "gs_cvec_bernoulli = GridSearchCV(pipe_cvec_bernoulli, # what object are we optimizing?\n",
    "                  param_grid=pipe_cvec_bernoulli_params, # what parameters values are we searching?\n",
    "                  cv=5,\n",
    "                 n_jobs = -1) # 5-fold cross-validation."
   ]
  },
  {
   "cell_type": "code",
   "execution_count": null,
   "id": "27e52953",
   "metadata": {},
   "outputs": [],
   "source": [
    "# Fit GridSearch to training data.\n",
    "gs_cvec_bernoulli.fit(X_train, y_train)"
   ]
  },
  {
   "cell_type": "code",
   "execution_count": null,
   "id": "1b85bb24",
   "metadata": {},
   "outputs": [],
   "source": [
    "print(gs_cvec_bernoulli.best_params_)"
   ]
  },
  {
   "cell_type": "code",
   "execution_count": null,
   "id": "f0a3e5d0",
   "metadata": {},
   "outputs": [],
   "source": [
    "# Retrieving the best score based on the optimized hyperparameters from GridSearchCV\n",
    "print(gs_cvec_bernoulli.best_score_)"
   ]
  },
  {
   "cell_type": "code",
   "execution_count": null,
   "id": "a784661a",
   "metadata": {},
   "outputs": [],
   "source": [
    "# Score model on training set.\n",
    "gs_cvec_bernoulli.score(X_train, y_train)"
   ]
  },
  {
   "cell_type": "code",
   "execution_count": null,
   "id": "2842a8b6",
   "metadata": {},
   "outputs": [],
   "source": [
    "# Score model on testing set.\n",
    "gs_cvec_bernoulli.score(X_test, y_test)"
   ]
  },
  {
   "cell_type": "code",
   "execution_count": null,
   "id": "00725e8d",
   "metadata": {},
   "outputs": [],
   "source": [
    "# Get predictions\n",
    "preds_cvec_bernoulli = gs_cvec_bernoulli.predict(X_test)\n",
    "\n",
    "# Save confusion matrix values\n",
    "tn, fp, fn, tp = confusion_matrix(y_test, preds_cvec_bernoulli).ravel()"
   ]
  },
  {
   "cell_type": "code",
   "execution_count": null,
   "id": "38156100",
   "metadata": {},
   "outputs": [],
   "source": [
    "# View confusion matrix\n",
    "\n",
    "plot_confusion_matrix(gs_cvec_bernoulli, X_test, y_test, cmap='Blues', values_format='d');"
   ]
  },
  {
   "cell_type": "code",
   "execution_count": null,
   "id": "72f20a08",
   "metadata": {},
   "outputs": [],
   "source": [
    "# Calculate the accuracy\n",
    "\n",
    "cvec_bernoullinb_acc = (tp + tn) / (tp + tn + fp + fn)\n",
    "\n",
    "print('Accuracy of CountVectorizer Bernoulli NB is:', round(cvec_bernoullinb_acc,5))"
   ]
  },
  {
   "cell_type": "markdown",
   "id": "9fdc5b9e",
   "metadata": {},
   "source": [
    "### Multinomial Naive Bayes Model (TF-IDF)"
   ]
  },
  {
   "cell_type": "code",
   "execution_count": null,
   "id": "19e7c427",
   "metadata": {},
   "outputs": [],
   "source": [
    "pipe_tvec_multinomial = Pipeline([\n",
    "    ('tvec', TfidfVectorizer()),\n",
    "    ('nb', MultinomialNB())\n",
    "])"
   ]
  },
  {
   "cell_type": "markdown",
   "id": "68121bce",
   "metadata": {},
   "source": [
    "### GridSearch CV"
   ]
  },
  {
   "cell_type": "code",
   "execution_count": null,
   "id": "44c50bf9",
   "metadata": {},
   "outputs": [],
   "source": [
    "# Search over the following values of hyperparameters:\n",
    "# Maximum number of features fit: 2000, 3000, 4000, 5000, 6000, 7000, 8000\n",
    "# Check (individual tokens) and also check (individual tokens, 2-grams, and 3-grams).\n",
    "\n",
    "pipe_tvec_multinomial_params = {\n",
    "    'tvec__max_features': [5000], # [2_000, 3_000, 4_000, 5_000, 6_000, 7_000, 8_000]\n",
    "    'tvec__ngram_range': [(1,3)] # [(1,1), (1,2),(1,3), (2,2), (2,3), (3,3)]\n",
    "}"
   ]
  },
  {
   "cell_type": "code",
   "execution_count": null,
   "id": "8bc5883e",
   "metadata": {},
   "outputs": [],
   "source": [
    "# Instantiate GridSearchCV.\n",
    "\n",
    "gs_tvec_multinomial = GridSearchCV(pipe_tvec_multinomial, # what object are we optimizing?\n",
    "                        param_grid = pipe_tvec_multinomial_params, # what parameters values are we searching?\n",
    "                        cv=5) # 5-fold cross-validation."
   ]
  },
  {
   "cell_type": "code",
   "execution_count": null,
   "id": "dabb579e",
   "metadata": {},
   "outputs": [],
   "source": [
    "# Fit GridSearch to training data.\n",
    "gs_tvec_multinomial.fit(X_train, y_train)"
   ]
  },
  {
   "cell_type": "code",
   "execution_count": null,
   "id": "c85a38fe",
   "metadata": {},
   "outputs": [],
   "source": [
    "print(gs_tvec_multinomial.best_params_)"
   ]
  },
  {
   "cell_type": "code",
   "execution_count": null,
   "id": "9f3c3ff8",
   "metadata": {},
   "outputs": [],
   "source": [
    "# Score model on training set.\n",
    "gs_tvec_multinomial.score(X_train, y_train)"
   ]
  },
  {
   "cell_type": "code",
   "execution_count": null,
   "id": "a0958778",
   "metadata": {},
   "outputs": [],
   "source": [
    "# Score model on testing set.\n",
    "gs_tvec_multinomial.score(X_test, y_test)"
   ]
  },
  {
   "cell_type": "code",
   "execution_count": null,
   "id": "e05831b3",
   "metadata": {},
   "outputs": [],
   "source": [
    "# Get predictions\n",
    "preds_tvec_multinomial = gs_tvec_multinomial.predict(X_test)\n",
    "\n",
    "# Save confusion matrix values\n",
    "tn, fp, fn, tp = confusion_matrix(y_test, preds_tvec_multinomial).ravel()"
   ]
  },
  {
   "cell_type": "code",
   "execution_count": null,
   "id": "79d424ce",
   "metadata": {},
   "outputs": [],
   "source": [
    "# View confusion matrix\n",
    "\n",
    "plot_confusion_matrix(gs_tvec_multinomial, X_test, y_test, cmap='Blues', values_format='d');"
   ]
  },
  {
   "cell_type": "code",
   "execution_count": null,
   "id": "54b02785",
   "metadata": {},
   "outputs": [],
   "source": [
    "# Calculate the accuracy\n",
    "\n",
    "tvec_multinomialnb_acc = (tp + tn) / (tp + tn + fp + fn)\n",
    "\n",
    "print('Accuracy of TF-IDF Multinomial NB is:', tvec_multinomialnb_acc)"
   ]
  },
  {
   "cell_type": "markdown",
   "id": "84a5829a",
   "metadata": {},
   "source": [
    "### Bernoulli Naive Bayes Model (TF-IDF)"
   ]
  },
  {
   "cell_type": "code",
   "execution_count": null,
   "id": "2006f659",
   "metadata": {},
   "outputs": [],
   "source": [
    "pipe_tvec_bernoulli = Pipeline([\n",
    "    ('tvec', TfidfVectorizer()),\n",
    "    ('nb', BernoulliNB())\n",
    "])"
   ]
  },
  {
   "cell_type": "markdown",
   "id": "a099e5cf",
   "metadata": {},
   "source": [
    "### GridSearch CV"
   ]
  },
  {
   "cell_type": "code",
   "execution_count": null,
   "id": "1d84279f",
   "metadata": {},
   "outputs": [],
   "source": [
    "# Search over the following values of hyperparameters:\n",
    "# Maximum number of features fit: 2000, 3000, 4000, 5000, 6000, 7000, 8000\n",
    "# Check (individual tokens) and also check (individual tokens, 2-grams, and 3-grams).\n",
    "\n",
    "pipe_tvec_bernoulli_params = {\n",
    "    'tvec__max_features': [3000], #[2_000, 3_000, 4_000, 5_000, 6_000, 7_000, 8_000]\n",
    "    'tvec__ngram_range': [(1,2)] # [(1,1), (1,2),(1,3), (2,2), (2,3), (3,3)]\n",
    "}"
   ]
  },
  {
   "cell_type": "code",
   "execution_count": null,
   "id": "f4bf985b",
   "metadata": {},
   "outputs": [],
   "source": [
    "# Instantiate GridSearchCV.\n",
    "\n",
    "gs_tvec_bernoulli = GridSearchCV(pipe_tvec_bernoulli, # what object are we optimizing?\n",
    "                        param_grid = pipe_tvec_bernoulli_params, # what parameters values are we searching?\n",
    "                        cv=5) # 5-fold cross-validation."
   ]
  },
  {
   "cell_type": "code",
   "execution_count": null,
   "id": "c5a6c630",
   "metadata": {},
   "outputs": [],
   "source": [
    "# Fit GridSearch to training data.\n",
    "gs_tvec_bernoulli.fit(X_train, y_train)"
   ]
  },
  {
   "cell_type": "code",
   "execution_count": null,
   "id": "efc88387",
   "metadata": {},
   "outputs": [],
   "source": [
    "print(gs_tvec_bernoulli.best_params_)"
   ]
  },
  {
   "cell_type": "code",
   "execution_count": null,
   "id": "6786f4a5",
   "metadata": {},
   "outputs": [],
   "source": [
    "# Score model on training set.\n",
    "gs_tvec_bernoulli.score(X_train, y_train)"
   ]
  },
  {
   "cell_type": "code",
   "execution_count": null,
   "id": "92664647",
   "metadata": {},
   "outputs": [],
   "source": [
    "# Score model on testing set.\n",
    "gs_tvec_bernoulli.score(X_test, y_test)"
   ]
  },
  {
   "cell_type": "code",
   "execution_count": null,
   "id": "6423c6db",
   "metadata": {},
   "outputs": [],
   "source": [
    "# Get predictions\n",
    "preds_tvec_bernoulli = gs_tvec_bernoulli.predict(X_test)\n",
    "\n",
    "# Save confusion matrix values\n",
    "tn, fp, fn, tp = confusion_matrix(y_test, preds_tvec_bernoulli).ravel()"
   ]
  },
  {
   "cell_type": "code",
   "execution_count": null,
   "id": "6fe386d1",
   "metadata": {},
   "outputs": [],
   "source": [
    "# View confusion matrix\n",
    "\n",
    "plot_confusion_matrix(gs_tvec_bernoulli, X_test, y_test, cmap='Blues', values_format='d');"
   ]
  },
  {
   "cell_type": "code",
   "execution_count": null,
   "id": "985d10dd",
   "metadata": {},
   "outputs": [],
   "source": [
    "# Calculate the accuracy\n",
    "\n",
    "tvec_bernoullinb_acc = (tp + tn) / (tp + tn + fp + fn)\n",
    "\n",
    "print('Accuracy of TF-IDF Bernoulli NB is:', tvec_bernoullinb_acc)"
   ]
  },
  {
   "cell_type": "code",
   "execution_count": null,
   "id": "8c163702",
   "metadata": {},
   "outputs": [],
   "source": [
    "# Need to plot coefficients of the best model - cvec Multinomial"
   ]
  },
  {
   "cell_type": "code",
   "execution_count": null,
   "id": "806e13c1",
   "metadata": {},
   "outputs": [],
   "source": [
    "# Need to plot ROC"
   ]
  },
  {
   "cell_type": "markdown",
   "id": "887b1c31",
   "metadata": {},
   "source": [
    "###  Random Forest"
   ]
  },
  {
   "cell_type": "code",
   "execution_count": null,
   "id": "de6e41c4",
   "metadata": {},
   "outputs": [],
   "source": [
    "cvec = CountVectorizer()\n",
    "X_train = cvec.fit_transform(X_train)\n",
    "X_test = cvec.fit_transform(X_test)"
   ]
  },
  {
   "cell_type": "code",
   "execution_count": null,
   "id": "6937d293",
   "metadata": {},
   "outputs": [],
   "source": [
    "# Instantiate RandomForestClassifier and ExtraTreesClassifier\n",
    "rf = RandomForestClassifier(n_estimators=100)\n",
    "et = ExtraTreesClassifier(n_estimators=100)"
   ]
  },
  {
   "cell_type": "code",
   "execution_count": null,
   "id": "545da8e8",
   "metadata": {},
   "outputs": [],
   "source": [
    "# Average cross validation score from 100 decision trees\n",
    "cross_val_score(rf, X_train, y_train, cv=5).mean()"
   ]
  },
  {
   "cell_type": "code",
   "execution_count": null,
   "id": "071392ab",
   "metadata": {},
   "outputs": [],
   "source": [
    "# Average cross validation score from\n",
    "cross_val_score(et, X_train, y_train, cv=5).mean()"
   ]
  },
  {
   "cell_type": "code",
   "execution_count": null,
   "id": "a947afe6",
   "metadata": {},
   "outputs": [],
   "source": []
  },
  {
   "cell_type": "code",
   "execution_count": null,
   "id": "4389b796",
   "metadata": {},
   "outputs": [],
   "source": []
  },
  {
   "cell_type": "code",
   "execution_count": null,
   "id": "0ba63ea9",
   "metadata": {},
   "outputs": [],
   "source": []
  },
  {
   "cell_type": "code",
   "execution_count": null,
   "id": "844d965f",
   "metadata": {},
   "outputs": [],
   "source": []
  },
  {
   "cell_type": "code",
   "execution_count": null,
   "id": "e90dd3ed",
   "metadata": {},
   "outputs": [],
   "source": []
  },
  {
   "cell_type": "code",
   "execution_count": null,
   "id": "22033981",
   "metadata": {},
   "outputs": [],
   "source": []
  },
  {
   "cell_type": "code",
   "execution_count": null,
   "id": "a9428b25",
   "metadata": {},
   "outputs": [],
   "source": []
  }
 ],
 "metadata": {
  "kernelspec": {
   "display_name": "Python 3 (ipykernel)",
   "language": "python",
   "name": "python3"
  },
  "language_info": {
   "codemirror_mode": {
    "name": "ipython",
    "version": 3
   },
   "file_extension": ".py",
   "mimetype": "text/x-python",
   "name": "python",
   "nbconvert_exporter": "python",
   "pygments_lexer": "ipython3",
   "version": "3.9.7"
  }
 },
 "nbformat": 4,
 "nbformat_minor": 5
}
