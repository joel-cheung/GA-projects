{
 "cells": [
  {
   "cell_type": "markdown",
   "id": "e4d5dae8",
   "metadata": {},
   "source": [
    "# Background"
   ]
  },
  {
   "cell_type": "code",
   "execution_count": null,
   "id": "86e41dcf",
   "metadata": {},
   "outputs": [],
   "source": []
  },
  {
   "cell_type": "markdown",
   "id": "45662ee6",
   "metadata": {},
   "source": [
    "# Problem Statement"
   ]
  },
  {
   "cell_type": "code",
   "execution_count": null,
   "id": "83ef52f3",
   "metadata": {},
   "outputs": [],
   "source": []
  },
  {
   "cell_type": "markdown",
   "id": "a825fd87",
   "metadata": {},
   "source": [
    "### Importing libraries"
   ]
  },
  {
   "cell_type": "code",
   "execution_count": 1,
   "id": "0cd02315",
   "metadata": {},
   "outputs": [],
   "source": [
    "import pandas as pd\n",
    "import numpy as np\n",
    "import requests\n",
    "import time\n",
    "import re\n",
    "\n",
    "import matplotlib.pyplot as plt\n",
    "import seaborn as sns\n",
    "\n",
    "from sklearn.model_selection import train_test_split\n",
    "from sklearn.feature_extraction.text import CountVectorizer\n",
    "\n",
    "import gensim\n",
    "\n",
    "from nltk.corpus import stopwords\n",
    "from nltk.tokenize import word_tokenize\n",
    "from nltk.stem.porter import PorterStemmer\n",
    "from nltk.stem import WordNetLemmatizer\n",
    "lemmatizer = WordNetLemmatizer()"
   ]
  },
  {
   "cell_type": "code",
   "execution_count": 66,
   "id": "b07a8be0",
   "metadata": {},
   "outputs": [],
   "source": [
    "pd.set_option('display.max_colwidth', 100)"
   ]
  },
  {
   "cell_type": "markdown",
   "id": "2427f8d6",
   "metadata": {},
   "source": [
    "### Extracting data from Reddit Threads: prolife and prochoice"
   ]
  },
  {
   "cell_type": "code",
   "execution_count": 2,
   "id": "53fc6b97",
   "metadata": {},
   "outputs": [],
   "source": [
    "url = 'https://api.pushshift.io/reddit/search/submission'"
   ]
  },
  {
   "cell_type": "code",
   "execution_count": 3,
   "id": "9e6859e9",
   "metadata": {},
   "outputs": [],
   "source": [
    "def get_submissions(subreddit, n_iter):\n",
    "    \n",
    "    df_list = []\n",
    "    current_time = 1653202235 # 22 May 2022\n",
    "    \n",
    "    for i in range(n_iter):\n",
    "        res = requests.get(\n",
    "        url,\n",
    "        params = {\n",
    "            'subreddit' : subreddit,\n",
    "            'size' : 100,\n",
    "            'before' : current_time\n",
    "            }\n",
    "        )\n",
    "        time.sleep(3)\n",
    "        df = pd.DataFrame(res.json()['data'])\n",
    "        df = df[['subreddit','selftext','title','created_utc']]\n",
    "        df_list.append(df)\n",
    "        current_time = df.created_utc.min()\n",
    "\n",
    "    return pd.concat(df_list, axis = 0)"
   ]
  },
  {
   "cell_type": "code",
   "execution_count": 4,
   "id": "171895c0",
   "metadata": {},
   "outputs": [],
   "source": [
    "# df_prolife = get_submissions('prolife',15)\n",
    "# df_prochoice = get_submissions('prochoice',15)"
   ]
  },
  {
   "cell_type": "markdown",
   "id": "a978fff2",
   "metadata": {},
   "source": [
    "### Exporting the dataset for easier referencing"
   ]
  },
  {
   "cell_type": "code",
   "execution_count": 5,
   "id": "c848746f",
   "metadata": {},
   "outputs": [],
   "source": [
    "# This is done so that whenever this notebook is closed, I can make the above extraction codes into comments and run from the\n",
    "# read_csv line onwards\n",
    "# df_prolife.to_csv(r'../project_3/data/df_prolife.csv', index = False)\n",
    "# df_prochoice.to_csv(r'../project_3/data/df_prochoice.csv', index = False)"
   ]
  },
  {
   "cell_type": "markdown",
   "id": "e0abad7a",
   "metadata": {},
   "source": [
    "### Importing dataset"
   ]
  },
  {
   "cell_type": "code",
   "execution_count": 6,
   "id": "8fe70d99",
   "metadata": {},
   "outputs": [],
   "source": [
    "df_prolife = pd.read_csv (r'../project_3/data/df_prolife.csv')\n",
    "df_prochoice = pd.read_csv (r'../project_3/data/df_prochoice.csv')"
   ]
  },
  {
   "cell_type": "markdown",
   "id": "247db5cf",
   "metadata": {},
   "source": [
    "# Data Cleaning"
   ]
  },
  {
   "cell_type": "markdown",
   "id": "f261bfb8",
   "metadata": {},
   "source": [
    "### The Data Cleaning process includes the following steps:\n",
    "* Converting columns to the correct data type\n",
    "* Removing unwanted entries, such as nan and '[removed]'\n",
    "* Removing URLs\n",
    "* Changing to lowercase\n",
    "* Removing stop words\n",
    "* Removing symbols such as parenthesis, punctuations, colons, etc."
   ]
  },
  {
   "cell_type": "markdown",
   "id": "2ccb7168",
   "metadata": {},
   "source": [
    "### Converting and checking data type"
   ]
  },
  {
   "cell_type": "code",
   "execution_count": 7,
   "id": "a0155cae",
   "metadata": {},
   "outputs": [
    {
     "name": "stdout",
     "output_type": "stream",
     "text": [
      "subreddit      object\n",
      "selftext       object\n",
      "title          object\n",
      "created_utc     int64\n",
      "text           object\n",
      "dtype: object\n",
      "subreddit      object\n",
      "selftext       object\n",
      "title          object\n",
      "created_utc     int64\n",
      "text           object\n",
      "dtype: object\n"
     ]
    }
   ],
   "source": [
    "# To make sure all are in string type\n",
    "df_prolife[['selftext','title']] = df_prolife[['selftext','title']].astype(str)\n",
    "df_prochoice[['selftext','title']] = df_prochoice[['selftext','title']].astype(str)\n",
    "\n",
    "# Checking for right datatype\n",
    "print(df_prolife.dtypes)\n",
    "print(df_prochoice.dtypes)"
   ]
  },
  {
   "cell_type": "code",
   "execution_count": 8,
   "id": "96d8d8ab",
   "metadata": {
    "scrolled": false
   },
   "outputs": [
    {
     "data": {
      "text/html": [
       "<div>\n",
       "<style scoped>\n",
       "    .dataframe tbody tr th:only-of-type {\n",
       "        vertical-align: middle;\n",
       "    }\n",
       "\n",
       "    .dataframe tbody tr th {\n",
       "        vertical-align: top;\n",
       "    }\n",
       "\n",
       "    .dataframe thead th {\n",
       "        text-align: right;\n",
       "    }\n",
       "</style>\n",
       "<table border=\"1\" class=\"dataframe\">\n",
       "  <thead>\n",
       "    <tr style=\"text-align: right;\">\n",
       "      <th></th>\n",
       "      <th>subreddit</th>\n",
       "      <th>selftext</th>\n",
       "      <th>title</th>\n",
       "      <th>created_utc</th>\n",
       "      <th>text</th>\n",
       "    </tr>\n",
       "  </thead>\n",
       "  <tbody>\n",
       "    <tr>\n",
       "      <th>0</th>\n",
       "      <td>prolife</td>\n",
       "      <td>nan</td>\n",
       "      <td>not every woman who seeks an abortion is a vic...</td>\n",
       "      <td>1653201844</td>\n",
       "      <td>not every woman who seeks an abortion is a vic...</td>\n",
       "    </tr>\n",
       "    <tr>\n",
       "      <th>1</th>\n",
       "      <td>prolife</td>\n",
       "      <td>i once heard someone say that a human fetus, a...</td>\n",
       "      <td>abortion from a philosophical standpoint</td>\n",
       "      <td>1653199139</td>\n",
       "      <td>abortion from a philosophical standpoint i onc...</td>\n",
       "    </tr>\n",
       "    <tr>\n",
       "      <th>2</th>\n",
       "      <td>prolife</td>\n",
       "      <td>nan</td>\n",
       "      <td>hey so when did religion start making decision...</td>\n",
       "      <td>1653192481</td>\n",
       "      <td>hey so when did religion start making decision...</td>\n",
       "    </tr>\n",
       "    <tr>\n",
       "      <th>3</th>\n",
       "      <td>prolife</td>\n",
       "      <td>many prolifers like to save babies from being ...</td>\n",
       "      <td>prolifers: if you go to an abortion clinic to ...</td>\n",
       "      <td>1653190949</td>\n",
       "      <td>prolifers: if you go to an abortion clinic to ...</td>\n",
       "    </tr>\n",
       "    <tr>\n",
       "      <th>4</th>\n",
       "      <td>prolife</td>\n",
       "      <td>nan</td>\n",
       "      <td>pro-life flag</td>\n",
       "      <td>1653186020</td>\n",
       "      <td>pro-life flag</td>\n",
       "    </tr>\n",
       "  </tbody>\n",
       "</table>\n",
       "</div>"
      ],
      "text/plain": [
       "  subreddit                                           selftext  \\\n",
       "0   prolife                                                nan   \n",
       "1   prolife  i once heard someone say that a human fetus, a...   \n",
       "2   prolife                                                nan   \n",
       "3   prolife  many prolifers like to save babies from being ...   \n",
       "4   prolife                                                nan   \n",
       "\n",
       "                                               title  created_utc  \\\n",
       "0  not every woman who seeks an abortion is a vic...   1653201844   \n",
       "1           abortion from a philosophical standpoint   1653199139   \n",
       "2  hey so when did religion start making decision...   1653192481   \n",
       "3  prolifers: if you go to an abortion clinic to ...   1653190949   \n",
       "4                                      pro-life flag   1653186020   \n",
       "\n",
       "                                                text  \n",
       "0  not every woman who seeks an abortion is a vic...  \n",
       "1  abortion from a philosophical standpoint i onc...  \n",
       "2  hey so when did religion start making decision...  \n",
       "3  prolifers: if you go to an abortion clinic to ...  \n",
       "4                                     pro-life flag   "
      ]
     },
     "execution_count": 8,
     "metadata": {},
     "output_type": "execute_result"
    }
   ],
   "source": [
    "# To have a high level view of values\n",
    "df_prolife.head()"
   ]
  },
  {
   "cell_type": "code",
   "execution_count": 9,
   "id": "39652fe8",
   "metadata": {},
   "outputs": [
    {
     "data": {
      "text/html": [
       "<div>\n",
       "<style scoped>\n",
       "    .dataframe tbody tr th:only-of-type {\n",
       "        vertical-align: middle;\n",
       "    }\n",
       "\n",
       "    .dataframe tbody tr th {\n",
       "        vertical-align: top;\n",
       "    }\n",
       "\n",
       "    .dataframe thead th {\n",
       "        text-align: right;\n",
       "    }\n",
       "</style>\n",
       "<table border=\"1\" class=\"dataframe\">\n",
       "  <thead>\n",
       "    <tr style=\"text-align: right;\">\n",
       "      <th></th>\n",
       "      <th>subreddit</th>\n",
       "      <th>selftext</th>\n",
       "      <th>title</th>\n",
       "      <th>created_utc</th>\n",
       "      <th>text</th>\n",
       "    </tr>\n",
       "  </thead>\n",
       "  <tbody>\n",
       "    <tr>\n",
       "      <th>0</th>\n",
       "      <td>prochoice</td>\n",
       "      <td>i was reading somewhere, where a woman explain...</td>\n",
       "      <td>graphic explanation from pro birther</td>\n",
       "      <td>1653196778</td>\n",
       "      <td>graphic explanation from pro birther i was rea...</td>\n",
       "    </tr>\n",
       "    <tr>\n",
       "      <th>1</th>\n",
       "      <td>prochoice</td>\n",
       "      <td>nan</td>\n",
       "      <td>from a pro choice fb group</td>\n",
       "      <td>1653194538</td>\n",
       "      <td>from a pro choice fb group</td>\n",
       "    </tr>\n",
       "    <tr>\n",
       "      <th>2</th>\n",
       "      <td>prochoice</td>\n",
       "      <td>\"the complications of getting an abortion in c...</td>\n",
       "      <td>the complications of getting an abortion in ca...</td>\n",
       "      <td>1653187063</td>\n",
       "      <td>the complications of getting an abortion in ca...</td>\n",
       "    </tr>\n",
       "    <tr>\n",
       "      <th>3</th>\n",
       "      <td>prochoice</td>\n",
       "      <td>nan</td>\n",
       "      <td>um</td>\n",
       "      <td>1653186430</td>\n",
       "      <td>um</td>\n",
       "    </tr>\n",
       "    <tr>\n",
       "      <th>4</th>\n",
       "      <td>prochoice</td>\n",
       "      <td>the first amendment is largely interpreted to ...</td>\n",
       "      <td>overturning roe v wade is inconsistent with yo...</td>\n",
       "      <td>1653186109</td>\n",
       "      <td>overturning roe v wade is inconsistent with yo...</td>\n",
       "    </tr>\n",
       "  </tbody>\n",
       "</table>\n",
       "</div>"
      ],
      "text/plain": [
       "   subreddit                                           selftext  \\\n",
       "0  prochoice  i was reading somewhere, where a woman explain...   \n",
       "1  prochoice                                                nan   \n",
       "2  prochoice  \"the complications of getting an abortion in c...   \n",
       "3  prochoice                                                nan   \n",
       "4  prochoice  the first amendment is largely interpreted to ...   \n",
       "\n",
       "                                               title  created_utc  \\\n",
       "0               graphic explanation from pro birther   1653196778   \n",
       "1                         from a pro choice fb group   1653194538   \n",
       "2  the complications of getting an abortion in ca...   1653187063   \n",
       "3                                                 um   1653186430   \n",
       "4  overturning roe v wade is inconsistent with yo...   1653186109   \n",
       "\n",
       "                                                text  \n",
       "0  graphic explanation from pro birther i was rea...  \n",
       "1                        from a pro choice fb group   \n",
       "2  the complications of getting an abortion in ca...  \n",
       "3                                                um   \n",
       "4  overturning roe v wade is inconsistent with yo...  "
      ]
     },
     "execution_count": 9,
     "metadata": {},
     "output_type": "execute_result"
    }
   ],
   "source": [
    "# To have a high level view of values\n",
    "df_prochoice.head()"
   ]
  },
  {
   "cell_type": "markdown",
   "id": "cb4ce271",
   "metadata": {},
   "source": [
    "### Removing [removed]"
   ]
  },
  {
   "cell_type": "code",
   "execution_count": 10,
   "id": "fcd49998",
   "metadata": {},
   "outputs": [],
   "source": [
    "# Removing '[removed]' selftext from both submissions\n",
    "df_prolife.selftext.replace('[removed]','', inplace = True)\n",
    "df_prochoice.selftext.replace('[removed]','', inplace = True)"
   ]
  },
  {
   "cell_type": "markdown",
   "id": "8f674c31",
   "metadata": {},
   "source": [
    "### Removing URLs"
   ]
  },
  {
   "cell_type": "code",
   "execution_count": 11,
   "id": "fc23625f",
   "metadata": {},
   "outputs": [],
   "source": [
    "# Creating function to remove URLs\n",
    "def no_url(dataframe):\n",
    "#replace URL of a text\n",
    "    dataframe['selftext'] = dataframe['selftext'].str.replace('http[s]?://(?:[a-zA-Z]|[0-9]|[$-_@.&+]|[!*\\(\\),]|(?:%[0-9a-fA-F][0-9a-fA-F]))+|www?://(?:[a-zA-Z]|[0-9]|[$-_@.&+]|[!*\\(\\),]|(?:%[0-9a-fA-F][0-9a-fA-F]))+', '', regex = True)\n",
    "    dataframe['title'] = dataframe['title'].str.replace('http[s]?://(?:[a-zA-Z]|[0-9]|[$-_@.&+]|[!*\\(\\),]|(?:%[0-9a-fA-F][0-9a-fA-F]))+|www?://(?:[a-zA-Z]|[0-9]|[$-_@.&+]|[!*\\(\\),]|(?:%[0-9a-fA-F][0-9a-fA-F]))+', '', regex = True)\n",
    "\n",
    "# Removing links from submissions using defined formula\n",
    "no_url(df_prolife)\n",
    "no_url(df_prochoice)"
   ]
  },
  {
   "cell_type": "markdown",
   "id": "d1303ef4",
   "metadata": {},
   "source": [
    "### Making columns lowercase"
   ]
  },
  {
   "cell_type": "code",
   "execution_count": 12,
   "id": "a77bf59a",
   "metadata": {},
   "outputs": [],
   "source": [
    "df_prolife['selftext'] = df_prolife['selftext'].str.lower()\n",
    "df_prolife['title'] = df_prolife['title'].str.lower()\n",
    "df_prochoice['selftext'] = df_prochoice['selftext'].str.lower()\n",
    "df_prochoice['title'] = df_prochoice['title'].str.lower()"
   ]
  },
  {
   "cell_type": "markdown",
   "id": "2600d735",
   "metadata": {},
   "source": [
    "### Removing punctuation, tokenize, remove stopwords, and stem"
   ]
  },
  {
   "cell_type": "code",
   "execution_count": 14,
   "id": "519baa3b",
   "metadata": {},
   "outputs": [],
   "source": [
    "def clean_text(text):\n",
    "    text = \"\".join([word.lower() for word in text if word not in string.punctuation])\n",
    "    # \\W matches any non-word character (equivalent to [^a-zA-Z0-9_]). This does not include spaces i.e. \\s\n",
    "    # Add a + just in case there are 2 or more spaces between certain words\n",
    "    tokens = re.split('\\W+', text)\n",
    "    \n",
    "    # apply stemming and stopwords exclusion within the same step\n",
    "    text = [ps.stem(word) for word in tokens if word not in stopwords]\n",
    "    return text"
   ]
  },
  {
   "cell_type": "markdown",
   "id": "7b7c2ead",
   "metadata": {},
   "source": [
    "### Removing nan text values"
   ]
  },
  {
   "cell_type": "code",
   "execution_count": 15,
   "id": "4fc9cf1c",
   "metadata": {},
   "outputs": [],
   "source": [
    "# Remove nan text values on selftext_no_stopwords columns which are used to make the new column\n",
    "df_prolife['selftext_no_stopwords'] = df_prolife['selftext_no_stopwords'].replace('nan', \"\")\n",
    "df_prochoice['selftext_no_stopwords'] = df_prochoice['selftext_no_stopwords'].replace('nan', \"\")"
   ]
  },
  {
   "cell_type": "markdown",
   "id": "11f7ba00",
   "metadata": {},
   "source": [
    "### Making new column - text"
   ]
  },
  {
   "cell_type": "code",
   "execution_count": 16,
   "id": "37768306",
   "metadata": {},
   "outputs": [],
   "source": [
    "# Since there are submissions where there are only title but no selftext, can create a new column combining the \n",
    "# 2 columns so that each submission will have data, the resulting column will be called 'text'\n",
    "\n",
    "# Need to use ' '.join else the last word of title will be joined with the first word of selftext without a spacing , creating\n",
    "# a nonsensical word\n",
    "\n",
    "df_prolife['text'] = df_prolife[['title_no_stopwords','selftext_no_stopwords']].agg(' '.join, axis = 1)\n",
    "df_prochoice['text'] = df_prochoice[['title_no_stopwords','selftext_no_stopwords']].agg(' '.join, axis = 1)"
   ]
  },
  {
   "cell_type": "code",
   "execution_count": 17,
   "id": "84d4b084",
   "metadata": {
    "scrolled": true
   },
   "outputs": [
    {
     "data": {
      "text/html": [
       "<div>\n",
       "<style scoped>\n",
       "    .dataframe tbody tr th:only-of-type {\n",
       "        vertical-align: middle;\n",
       "    }\n",
       "\n",
       "    .dataframe tbody tr th {\n",
       "        vertical-align: top;\n",
       "    }\n",
       "\n",
       "    .dataframe thead th {\n",
       "        text-align: right;\n",
       "    }\n",
       "</style>\n",
       "<table border=\"1\" class=\"dataframe\">\n",
       "  <thead>\n",
       "    <tr style=\"text-align: right;\">\n",
       "      <th></th>\n",
       "      <th>subreddit</th>\n",
       "      <th>selftext</th>\n",
       "      <th>title</th>\n",
       "      <th>created_utc</th>\n",
       "      <th>text</th>\n",
       "      <th>title_no_stopwords</th>\n",
       "      <th>selftext_no_stopwords</th>\n",
       "    </tr>\n",
       "  </thead>\n",
       "  <tbody>\n",
       "    <tr>\n",
       "      <th>0</th>\n",
       "      <td>prolife</td>\n",
       "      <td>nan</td>\n",
       "      <td>not every woman who seeks an abortion is a vic...</td>\n",
       "      <td>1653201844</td>\n",
       "      <td>not every woman who seeks an abortion is a vic...</td>\n",
       "      <td>not every woman who seeks an abortion is a vic...</td>\n",
       "      <td></td>\n",
       "    </tr>\n",
       "    <tr>\n",
       "      <th>1</th>\n",
       "      <td>prolife</td>\n",
       "      <td>i once heard someone say that a human fetus, a...</td>\n",
       "      <td>abortion from a philosophical standpoint</td>\n",
       "      <td>1653199139</td>\n",
       "      <td>abortion from a philosophical standpoint i onc...</td>\n",
       "      <td>abortion from a philosophical standpoint</td>\n",
       "      <td>i once heard someone say that a human fetus, a...</td>\n",
       "    </tr>\n",
       "    <tr>\n",
       "      <th>2</th>\n",
       "      <td>prolife</td>\n",
       "      <td>nan</td>\n",
       "      <td>hey so when did religion start making decision...</td>\n",
       "      <td>1653192481</td>\n",
       "      <td>hey so when did religion start making decision...</td>\n",
       "      <td>hey so when did religion start making decision...</td>\n",
       "      <td></td>\n",
       "    </tr>\n",
       "    <tr>\n",
       "      <th>3</th>\n",
       "      <td>prolife</td>\n",
       "      <td>many prolifers like to save babies from being ...</td>\n",
       "      <td>prolifers: if you go to an abortion clinic to ...</td>\n",
       "      <td>1653190949</td>\n",
       "      <td>prolifers: if you go to an abortion clinic to ...</td>\n",
       "      <td>prolifers: if you go to an abortion clinic to ...</td>\n",
       "      <td>many prolifers like to save babies from being ...</td>\n",
       "    </tr>\n",
       "    <tr>\n",
       "      <th>4</th>\n",
       "      <td>prolife</td>\n",
       "      <td>nan</td>\n",
       "      <td>pro-life flag</td>\n",
       "      <td>1653186020</td>\n",
       "      <td>pro-life flag</td>\n",
       "      <td>pro-life flag</td>\n",
       "      <td></td>\n",
       "    </tr>\n",
       "  </tbody>\n",
       "</table>\n",
       "</div>"
      ],
      "text/plain": [
       "  subreddit                                           selftext  \\\n",
       "0   prolife                                                nan   \n",
       "1   prolife  i once heard someone say that a human fetus, a...   \n",
       "2   prolife                                                nan   \n",
       "3   prolife  many prolifers like to save babies from being ...   \n",
       "4   prolife                                                nan   \n",
       "\n",
       "                                               title  created_utc  \\\n",
       "0  not every woman who seeks an abortion is a vic...   1653201844   \n",
       "1           abortion from a philosophical standpoint   1653199139   \n",
       "2  hey so when did religion start making decision...   1653192481   \n",
       "3  prolifers: if you go to an abortion clinic to ...   1653190949   \n",
       "4                                      pro-life flag   1653186020   \n",
       "\n",
       "                                                text  \\\n",
       "0  not every woman who seeks an abortion is a vic...   \n",
       "1  abortion from a philosophical standpoint i onc...   \n",
       "2  hey so when did religion start making decision...   \n",
       "3  prolifers: if you go to an abortion clinic to ...   \n",
       "4                                     pro-life flag    \n",
       "\n",
       "                                  title_no_stopwords  \\\n",
       "0  not every woman who seeks an abortion is a vic...   \n",
       "1           abortion from a philosophical standpoint   \n",
       "2  hey so when did religion start making decision...   \n",
       "3  prolifers: if you go to an abortion clinic to ...   \n",
       "4                                      pro-life flag   \n",
       "\n",
       "                               selftext_no_stopwords  \n",
       "0                                                     \n",
       "1  i once heard someone say that a human fetus, a...  \n",
       "2                                                     \n",
       "3  many prolifers like to save babies from being ...  \n",
       "4                                                     "
      ]
     },
     "execution_count": 17,
     "metadata": {},
     "output_type": "execute_result"
    }
   ],
   "source": [
    "# Checking that data cleaning is done right for df_prolife\n",
    "df_prolife.head()"
   ]
  },
  {
   "cell_type": "code",
   "execution_count": 18,
   "id": "da2ca528",
   "metadata": {},
   "outputs": [
    {
     "data": {
      "text/html": [
       "<div>\n",
       "<style scoped>\n",
       "    .dataframe tbody tr th:only-of-type {\n",
       "        vertical-align: middle;\n",
       "    }\n",
       "\n",
       "    .dataframe tbody tr th {\n",
       "        vertical-align: top;\n",
       "    }\n",
       "\n",
       "    .dataframe thead th {\n",
       "        text-align: right;\n",
       "    }\n",
       "</style>\n",
       "<table border=\"1\" class=\"dataframe\">\n",
       "  <thead>\n",
       "    <tr style=\"text-align: right;\">\n",
       "      <th></th>\n",
       "      <th>subreddit</th>\n",
       "      <th>selftext</th>\n",
       "      <th>title</th>\n",
       "      <th>created_utc</th>\n",
       "      <th>text</th>\n",
       "      <th>title_no_stopwords</th>\n",
       "      <th>selftext_no_stopwords</th>\n",
       "    </tr>\n",
       "  </thead>\n",
       "  <tbody>\n",
       "    <tr>\n",
       "      <th>0</th>\n",
       "      <td>prochoice</td>\n",
       "      <td>i was reading somewhere, where a woman explain...</td>\n",
       "      <td>graphic explanation from pro birther</td>\n",
       "      <td>1653196778</td>\n",
       "      <td>graphic explanation from pro birther i was rea...</td>\n",
       "      <td>graphic explanation from pro birther</td>\n",
       "      <td>i was reading somewhere, where a woman explain...</td>\n",
       "    </tr>\n",
       "    <tr>\n",
       "      <th>1</th>\n",
       "      <td>prochoice</td>\n",
       "      <td>nan</td>\n",
       "      <td>from a pro choice fb group</td>\n",
       "      <td>1653194538</td>\n",
       "      <td>from a pro choice fb group</td>\n",
       "      <td>from a pro choice fb group</td>\n",
       "      <td></td>\n",
       "    </tr>\n",
       "    <tr>\n",
       "      <th>2</th>\n",
       "      <td>prochoice</td>\n",
       "      <td>\"the complications of getting an abortion in c...</td>\n",
       "      <td>the complications of getting an abortion in ca...</td>\n",
       "      <td>1653187063</td>\n",
       "      <td>the complications of getting an abortion in ca...</td>\n",
       "      <td>the complications of getting an abortion in ca...</td>\n",
       "      <td>\"the complications of getting an abortion in c...</td>\n",
       "    </tr>\n",
       "    <tr>\n",
       "      <th>3</th>\n",
       "      <td>prochoice</td>\n",
       "      <td>nan</td>\n",
       "      <td>um</td>\n",
       "      <td>1653186430</td>\n",
       "      <td>um</td>\n",
       "      <td>um</td>\n",
       "      <td></td>\n",
       "    </tr>\n",
       "    <tr>\n",
       "      <th>4</th>\n",
       "      <td>prochoice</td>\n",
       "      <td>the first amendment is largely interpreted to ...</td>\n",
       "      <td>overturning roe v wade is inconsistent with yo...</td>\n",
       "      <td>1653186109</td>\n",
       "      <td>overturning roe v wade is inconsistent with yo...</td>\n",
       "      <td>overturning roe v wade is inconsistent with yo...</td>\n",
       "      <td>the first amendment is largely interpreted to ...</td>\n",
       "    </tr>\n",
       "  </tbody>\n",
       "</table>\n",
       "</div>"
      ],
      "text/plain": [
       "   subreddit                                           selftext  \\\n",
       "0  prochoice  i was reading somewhere, where a woman explain...   \n",
       "1  prochoice                                                nan   \n",
       "2  prochoice  \"the complications of getting an abortion in c...   \n",
       "3  prochoice                                                nan   \n",
       "4  prochoice  the first amendment is largely interpreted to ...   \n",
       "\n",
       "                                               title  created_utc  \\\n",
       "0               graphic explanation from pro birther   1653196778   \n",
       "1                         from a pro choice fb group   1653194538   \n",
       "2  the complications of getting an abortion in ca...   1653187063   \n",
       "3                                                 um   1653186430   \n",
       "4  overturning roe v wade is inconsistent with yo...   1653186109   \n",
       "\n",
       "                                                text  \\\n",
       "0  graphic explanation from pro birther i was rea...   \n",
       "1                        from a pro choice fb group    \n",
       "2  the complications of getting an abortion in ca...   \n",
       "3                                                um    \n",
       "4  overturning roe v wade is inconsistent with yo...   \n",
       "\n",
       "                                  title_no_stopwords  \\\n",
       "0               graphic explanation from pro birther   \n",
       "1                         from a pro choice fb group   \n",
       "2  the complications of getting an abortion in ca...   \n",
       "3                                                 um   \n",
       "4  overturning roe v wade is inconsistent with yo...   \n",
       "\n",
       "                               selftext_no_stopwords  \n",
       "0  i was reading somewhere, where a woman explain...  \n",
       "1                                                     \n",
       "2  \"the complications of getting an abortion in c...  \n",
       "3                                                     \n",
       "4  the first amendment is largely interpreted to ...  "
      ]
     },
     "execution_count": 18,
     "metadata": {},
     "output_type": "execute_result"
    }
   ],
   "source": [
    "# Checking that data cleaning is done right for df_prochoice\n",
    "df_prochoice.head()"
   ]
  },
  {
   "cell_type": "markdown",
   "id": "405a6271",
   "metadata": {},
   "source": [
    "### Dropping duplicates"
   ]
  },
  {
   "cell_type": "code",
   "execution_count": 19,
   "id": "ac90de46",
   "metadata": {},
   "outputs": [
    {
     "name": "stdout",
     "output_type": "stream",
     "text": [
      "(1463, 7)\n",
      "(1482, 7)\n",
      "(1458, 7)\n",
      "(1480, 7)\n"
     ]
    }
   ],
   "source": [
    "# To check and remove any duplicates for both datasets\n",
    "\n",
    "# Before\n",
    "print(df_prolife.shape)\n",
    "print(df_prochoice.shape)\n",
    "\n",
    "# Dropping any duplicate rows\n",
    "df_prolife = df_prolife.drop_duplicates(subset = 'text', keep='first')\n",
    "df_prochoice = df_prochoice.drop_duplicates(subset = 'text', keep='first')\n",
    "\n",
    "# After\n",
    "print(df_prolife.shape)\n",
    "print(df_prochoice.shape)\n",
    "\n",
    "# Some duplicate submissions are dropped"
   ]
  },
  {
   "cell_type": "code",
   "execution_count": 20,
   "id": "553bd7d6",
   "metadata": {},
   "outputs": [
    {
     "data": {
      "text/html": [
       "<div>\n",
       "<style scoped>\n",
       "    .dataframe tbody tr th:only-of-type {\n",
       "        vertical-align: middle;\n",
       "    }\n",
       "\n",
       "    .dataframe tbody tr th {\n",
       "        vertical-align: top;\n",
       "    }\n",
       "\n",
       "    .dataframe thead th {\n",
       "        text-align: right;\n",
       "    }\n",
       "</style>\n",
       "<table border=\"1\" class=\"dataframe\">\n",
       "  <thead>\n",
       "    <tr style=\"text-align: right;\">\n",
       "      <th></th>\n",
       "      <th>subreddit</th>\n",
       "      <th>selftext</th>\n",
       "      <th>title</th>\n",
       "      <th>created_utc</th>\n",
       "      <th>text</th>\n",
       "      <th>title_no_stopwords</th>\n",
       "      <th>selftext_no_stopwords</th>\n",
       "    </tr>\n",
       "  </thead>\n",
       "  <tbody>\n",
       "    <tr>\n",
       "      <th>0</th>\n",
       "      <td>prolife</td>\n",
       "      <td>nan</td>\n",
       "      <td>not every woman who seeks an abortion is a vic...</td>\n",
       "      <td>1653201844</td>\n",
       "      <td>not every woman who seeks an abortion is a vic...</td>\n",
       "      <td>not every woman who seeks an abortion is a vic...</td>\n",
       "      <td></td>\n",
       "    </tr>\n",
       "    <tr>\n",
       "      <th>1</th>\n",
       "      <td>prolife</td>\n",
       "      <td>i once heard someone say that a human fetus, a...</td>\n",
       "      <td>abortion from a philosophical standpoint</td>\n",
       "      <td>1653199139</td>\n",
       "      <td>abortion from a philosophical standpoint i onc...</td>\n",
       "      <td>abortion from a philosophical standpoint</td>\n",
       "      <td>i once heard someone say that a human fetus, a...</td>\n",
       "    </tr>\n",
       "    <tr>\n",
       "      <th>2</th>\n",
       "      <td>prolife</td>\n",
       "      <td>nan</td>\n",
       "      <td>hey so when did religion start making decision...</td>\n",
       "      <td>1653192481</td>\n",
       "      <td>hey so when did religion start making decision...</td>\n",
       "      <td>hey so when did religion start making decision...</td>\n",
       "      <td></td>\n",
       "    </tr>\n",
       "    <tr>\n",
       "      <th>3</th>\n",
       "      <td>prolife</td>\n",
       "      <td>many prolifers like to save babies from being ...</td>\n",
       "      <td>prolifers: if you go to an abortion clinic to ...</td>\n",
       "      <td>1653190949</td>\n",
       "      <td>prolifers: if you go to an abortion clinic to ...</td>\n",
       "      <td>prolifers: if you go to an abortion clinic to ...</td>\n",
       "      <td>many prolifers like to save babies from being ...</td>\n",
       "    </tr>\n",
       "    <tr>\n",
       "      <th>4</th>\n",
       "      <td>prolife</td>\n",
       "      <td>nan</td>\n",
       "      <td>pro-life flag</td>\n",
       "      <td>1653186020</td>\n",
       "      <td>pro-life flag</td>\n",
       "      <td>pro-life flag</td>\n",
       "      <td></td>\n",
       "    </tr>\n",
       "  </tbody>\n",
       "</table>\n",
       "</div>"
      ],
      "text/plain": [
       "  subreddit                                           selftext  \\\n",
       "0   prolife                                                nan   \n",
       "1   prolife  i once heard someone say that a human fetus, a...   \n",
       "2   prolife                                                nan   \n",
       "3   prolife  many prolifers like to save babies from being ...   \n",
       "4   prolife                                                nan   \n",
       "\n",
       "                                               title  created_utc  \\\n",
       "0  not every woman who seeks an abortion is a vic...   1653201844   \n",
       "1           abortion from a philosophical standpoint   1653199139   \n",
       "2  hey so when did religion start making decision...   1653192481   \n",
       "3  prolifers: if you go to an abortion clinic to ...   1653190949   \n",
       "4                                      pro-life flag   1653186020   \n",
       "\n",
       "                                                text  \\\n",
       "0  not every woman who seeks an abortion is a vic...   \n",
       "1  abortion from a philosophical standpoint i onc...   \n",
       "2  hey so when did religion start making decision...   \n",
       "3  prolifers: if you go to an abortion clinic to ...   \n",
       "4                                     pro-life flag    \n",
       "\n",
       "                                  title_no_stopwords  \\\n",
       "0  not every woman who seeks an abortion is a vic...   \n",
       "1           abortion from a philosophical standpoint   \n",
       "2  hey so when did religion start making decision...   \n",
       "3  prolifers: if you go to an abortion clinic to ...   \n",
       "4                                      pro-life flag   \n",
       "\n",
       "                               selftext_no_stopwords  \n",
       "0                                                     \n",
       "1  i once heard someone say that a human fetus, a...  \n",
       "2                                                     \n",
       "3  many prolifers like to save babies from being ...  \n",
       "4                                                     "
      ]
     },
     "execution_count": 20,
     "metadata": {},
     "output_type": "execute_result"
    }
   ],
   "source": [
    "# Ensuring that the creation of the 'text' column is done right\n",
    "df_prolife.head()"
   ]
  },
  {
   "cell_type": "code",
   "execution_count": 21,
   "id": "94f49a37",
   "metadata": {},
   "outputs": [
    {
     "data": {
      "text/html": [
       "<div>\n",
       "<style scoped>\n",
       "    .dataframe tbody tr th:only-of-type {\n",
       "        vertical-align: middle;\n",
       "    }\n",
       "\n",
       "    .dataframe tbody tr th {\n",
       "        vertical-align: top;\n",
       "    }\n",
       "\n",
       "    .dataframe thead th {\n",
       "        text-align: right;\n",
       "    }\n",
       "</style>\n",
       "<table border=\"1\" class=\"dataframe\">\n",
       "  <thead>\n",
       "    <tr style=\"text-align: right;\">\n",
       "      <th></th>\n",
       "      <th>subreddit</th>\n",
       "      <th>selftext</th>\n",
       "      <th>title</th>\n",
       "      <th>created_utc</th>\n",
       "      <th>text</th>\n",
       "      <th>title_no_stopwords</th>\n",
       "      <th>selftext_no_stopwords</th>\n",
       "    </tr>\n",
       "  </thead>\n",
       "  <tbody>\n",
       "    <tr>\n",
       "      <th>0</th>\n",
       "      <td>prochoice</td>\n",
       "      <td>i was reading somewhere, where a woman explain...</td>\n",
       "      <td>graphic explanation from pro birther</td>\n",
       "      <td>1653196778</td>\n",
       "      <td>graphic explanation from pro birther i was rea...</td>\n",
       "      <td>graphic explanation from pro birther</td>\n",
       "      <td>i was reading somewhere, where a woman explain...</td>\n",
       "    </tr>\n",
       "    <tr>\n",
       "      <th>1</th>\n",
       "      <td>prochoice</td>\n",
       "      <td>nan</td>\n",
       "      <td>from a pro choice fb group</td>\n",
       "      <td>1653194538</td>\n",
       "      <td>from a pro choice fb group</td>\n",
       "      <td>from a pro choice fb group</td>\n",
       "      <td></td>\n",
       "    </tr>\n",
       "    <tr>\n",
       "      <th>2</th>\n",
       "      <td>prochoice</td>\n",
       "      <td>\"the complications of getting an abortion in c...</td>\n",
       "      <td>the complications of getting an abortion in ca...</td>\n",
       "      <td>1653187063</td>\n",
       "      <td>the complications of getting an abortion in ca...</td>\n",
       "      <td>the complications of getting an abortion in ca...</td>\n",
       "      <td>\"the complications of getting an abortion in c...</td>\n",
       "    </tr>\n",
       "    <tr>\n",
       "      <th>3</th>\n",
       "      <td>prochoice</td>\n",
       "      <td>nan</td>\n",
       "      <td>um</td>\n",
       "      <td>1653186430</td>\n",
       "      <td>um</td>\n",
       "      <td>um</td>\n",
       "      <td></td>\n",
       "    </tr>\n",
       "    <tr>\n",
       "      <th>4</th>\n",
       "      <td>prochoice</td>\n",
       "      <td>the first amendment is largely interpreted to ...</td>\n",
       "      <td>overturning roe v wade is inconsistent with yo...</td>\n",
       "      <td>1653186109</td>\n",
       "      <td>overturning roe v wade is inconsistent with yo...</td>\n",
       "      <td>overturning roe v wade is inconsistent with yo...</td>\n",
       "      <td>the first amendment is largely interpreted to ...</td>\n",
       "    </tr>\n",
       "  </tbody>\n",
       "</table>\n",
       "</div>"
      ],
      "text/plain": [
       "   subreddit                                           selftext  \\\n",
       "0  prochoice  i was reading somewhere, where a woman explain...   \n",
       "1  prochoice                                                nan   \n",
       "2  prochoice  \"the complications of getting an abortion in c...   \n",
       "3  prochoice                                                nan   \n",
       "4  prochoice  the first amendment is largely interpreted to ...   \n",
       "\n",
       "                                               title  created_utc  \\\n",
       "0               graphic explanation from pro birther   1653196778   \n",
       "1                         from a pro choice fb group   1653194538   \n",
       "2  the complications of getting an abortion in ca...   1653187063   \n",
       "3                                                 um   1653186430   \n",
       "4  overturning roe v wade is inconsistent with yo...   1653186109   \n",
       "\n",
       "                                                text  \\\n",
       "0  graphic explanation from pro birther i was rea...   \n",
       "1                        from a pro choice fb group    \n",
       "2  the complications of getting an abortion in ca...   \n",
       "3                                                um    \n",
       "4  overturning roe v wade is inconsistent with yo...   \n",
       "\n",
       "                                  title_no_stopwords  \\\n",
       "0               graphic explanation from pro birther   \n",
       "1                         from a pro choice fb group   \n",
       "2  the complications of getting an abortion in ca...   \n",
       "3                                                 um   \n",
       "4  overturning roe v wade is inconsistent with yo...   \n",
       "\n",
       "                               selftext_no_stopwords  \n",
       "0  i was reading somewhere, where a woman explain...  \n",
       "1                                                     \n",
       "2  \"the complications of getting an abortion in c...  \n",
       "3                                                     \n",
       "4  the first amendment is largely interpreted to ...  "
      ]
     },
     "execution_count": 21,
     "metadata": {},
     "output_type": "execute_result"
    }
   ],
   "source": [
    "# Ensuring that the creation of the 'text' column is done right\n",
    "df_prochoice.head()"
   ]
  },
  {
   "cell_type": "markdown",
   "id": "7bac251f",
   "metadata": {},
   "source": [
    "### Removing 'text' column with very few words"
   ]
  },
  {
   "cell_type": "markdown",
   "id": "bc995f21",
   "metadata": {},
   "source": [
    "##### This is because for posts with very few words in both the titles and selftext, they almost always contain visual data and the limited texts available are non-descript, so make more sense to delete them."
   ]
  },
  {
   "cell_type": "code",
   "execution_count": 22,
   "id": "39d3cc76",
   "metadata": {},
   "outputs": [],
   "source": [
    "# Looking at the word count of 'text'\n",
    "df_prolife['text_word_count'] = df_prolife['text'].map(lambda x: len(x.split()))\n",
    "df_prochoice['text_word_count'] = df_prochoice['text'].map(lambda x: len(x.split()))"
   ]
  },
  {
   "cell_type": "code",
   "execution_count": 23,
   "id": "4cce5fcb",
   "metadata": {},
   "outputs": [
    {
     "data": {
      "text/html": [
       "<div>\n",
       "<style scoped>\n",
       "    .dataframe tbody tr th:only-of-type {\n",
       "        vertical-align: middle;\n",
       "    }\n",
       "\n",
       "    .dataframe tbody tr th {\n",
       "        vertical-align: top;\n",
       "    }\n",
       "\n",
       "    .dataframe thead th {\n",
       "        text-align: right;\n",
       "    }\n",
       "</style>\n",
       "<table border=\"1\" class=\"dataframe\">\n",
       "  <thead>\n",
       "    <tr style=\"text-align: right;\">\n",
       "      <th></th>\n",
       "      <th>text</th>\n",
       "    </tr>\n",
       "  </thead>\n",
       "  <tbody>\n",
       "    <tr>\n",
       "      <th>170</th>\n",
       "      <td></td>\n",
       "    </tr>\n",
       "    <tr>\n",
       "      <th>1180</th>\n",
       "      <td>lol</td>\n",
       "    </tr>\n",
       "    <tr>\n",
       "      <th>264</th>\n",
       "      <td>hmm...</td>\n",
       "    </tr>\n",
       "    <tr>\n",
       "      <th>1092</th>\n",
       "      <td>yikes</td>\n",
       "    </tr>\n",
       "    <tr>\n",
       "      <th>1149</th>\n",
       "      <td>well?</td>\n",
       "    </tr>\n",
       "  </tbody>\n",
       "</table>\n",
       "</div>"
      ],
      "text/plain": [
       "         text\n",
       "170          \n",
       "1180     lol \n",
       "264   hmm... \n",
       "1092   yikes \n",
       "1149   well? "
      ]
     },
     "execution_count": 23,
     "metadata": {},
     "output_type": "execute_result"
    }
   ],
   "source": [
    "# Looking at the shortest prolife submissions\n",
    "df_prolife.sort_values(by='text_word_count', ascending=True)[['text']].head()"
   ]
  },
  {
   "cell_type": "code",
   "execution_count": 24,
   "id": "4b9cecc3",
   "metadata": {},
   "outputs": [
    {
     "data": {
      "text/html": [
       "<div>\n",
       "<style scoped>\n",
       "    .dataframe tbody tr th:only-of-type {\n",
       "        vertical-align: middle;\n",
       "    }\n",
       "\n",
       "    .dataframe tbody tr th {\n",
       "        vertical-align: top;\n",
       "    }\n",
       "\n",
       "    .dataframe thead th {\n",
       "        text-align: right;\n",
       "    }\n",
       "</style>\n",
       "<table border=\"1\" class=\"dataframe\">\n",
       "  <thead>\n",
       "    <tr style=\"text-align: right;\">\n",
       "      <th></th>\n",
       "      <th>text</th>\n",
       "    </tr>\n",
       "  </thead>\n",
       "  <tbody>\n",
       "    <tr>\n",
       "      <th>395</th>\n",
       "      <td></td>\n",
       "    </tr>\n",
       "    <tr>\n",
       "      <th>1039</th>\n",
       "      <td>abortion</td>\n",
       "    </tr>\n",
       "    <tr>\n",
       "      <th>1095</th>\n",
       "      <td>hehe</td>\n",
       "    </tr>\n",
       "    <tr>\n",
       "      <th>1087</th>\n",
       "      <td>amen.</td>\n",
       "    </tr>\n",
       "    <tr>\n",
       "      <th>928</th>\n",
       "      <td>scotus</td>\n",
       "    </tr>\n",
       "  </tbody>\n",
       "</table>\n",
       "</div>"
      ],
      "text/plain": [
       "           text\n",
       "395            \n",
       "1039  abortion \n",
       "1095      hehe \n",
       "1087     amen. \n",
       "928     scotus "
      ]
     },
     "execution_count": 24,
     "metadata": {},
     "output_type": "execute_result"
    }
   ],
   "source": [
    "# Looking at the shortest prochoice submissions\n",
    "df_prochoice.sort_values(by='text_word_count', ascending=True)[['text']].head()"
   ]
  },
  {
   "cell_type": "code",
   "execution_count": 25,
   "id": "aa657bea",
   "metadata": {},
   "outputs": [
    {
     "name": "stdout",
     "output_type": "stream",
     "text": [
      "(1138, 8)\n",
      "(1284, 8)\n"
     ]
    }
   ],
   "source": [
    "# Dropping observations where their word count in the 'text' column is lesser than or equal to 5\n",
    "df_prolife = df_prolife.loc[df_prolife['text_word_count'] >= 6, :]\n",
    "df_prochoice = df_prochoice.loc[df_prochoice['text_word_count'] >= 6, :]\n",
    "\n",
    "print(df_prolife.shape)\n",
    "print(df_prochoice.shape)"
   ]
  },
  {
   "cell_type": "code",
   "execution_count": 26,
   "id": "78e2cbf9",
   "metadata": {},
   "outputs": [
    {
     "data": {
      "text/html": [
       "<div>\n",
       "<style scoped>\n",
       "    .dataframe tbody tr th:only-of-type {\n",
       "        vertical-align: middle;\n",
       "    }\n",
       "\n",
       "    .dataframe tbody tr th {\n",
       "        vertical-align: top;\n",
       "    }\n",
       "\n",
       "    .dataframe thead th {\n",
       "        text-align: right;\n",
       "    }\n",
       "</style>\n",
       "<table border=\"1\" class=\"dataframe\">\n",
       "  <thead>\n",
       "    <tr style=\"text-align: right;\">\n",
       "      <th></th>\n",
       "      <th>text</th>\n",
       "    </tr>\n",
       "  </thead>\n",
       "  <tbody>\n",
       "    <tr>\n",
       "      <th>1188</th>\n",
       "      <td>you can’t win with these people</td>\n",
       "    </tr>\n",
       "    <tr>\n",
       "      <th>1394</th>\n",
       "      <td>are you fine with out-of-state abortion?</td>\n",
       "    </tr>\n",
       "    <tr>\n",
       "      <th>1187</th>\n",
       "      <td>my pro choice npc meme compilation</td>\n",
       "    </tr>\n",
       "    <tr>\n",
       "      <th>1302</th>\n",
       "      <td>throwback 1979- the first pro-life documentary</td>\n",
       "    </tr>\n",
       "    <tr>\n",
       "      <th>169</th>\n",
       "      <td>“choosing death: the legacy of roe”</td>\n",
       "    </tr>\n",
       "  </tbody>\n",
       "</table>\n",
       "</div>"
      ],
      "text/plain": [
       "                                                 text\n",
       "1188                 you can’t win with these people \n",
       "1394        are you fine with out-of-state abortion? \n",
       "1187              my pro choice npc meme compilation \n",
       "1302  throwback 1979- the first pro-life documentary \n",
       "169              “choosing death: the legacy of roe” "
      ]
     },
     "execution_count": 26,
     "metadata": {},
     "output_type": "execute_result"
    }
   ],
   "source": [
    "# Looking at the updated shortest prolife submissions\n",
    "df_prolife.sort_values(by='text_word_count', ascending=True)[['text']].head()"
   ]
  },
  {
   "cell_type": "code",
   "execution_count": 27,
   "id": "5ececa5e",
   "metadata": {},
   "outputs": [
    {
     "data": {
      "text/html": [
       "<div>\n",
       "<style scoped>\n",
       "    .dataframe tbody tr th:only-of-type {\n",
       "        vertical-align: middle;\n",
       "    }\n",
       "\n",
       "    .dataframe tbody tr th {\n",
       "        vertical-align: top;\n",
       "    }\n",
       "\n",
       "    .dataframe thead th {\n",
       "        text-align: right;\n",
       "    }\n",
       "</style>\n",
       "<table border=\"1\" class=\"dataframe\">\n",
       "  <thead>\n",
       "    <tr style=\"text-align: right;\">\n",
       "      <th></th>\n",
       "      <th>text</th>\n",
       "    </tr>\n",
       "  </thead>\n",
       "  <tbody>\n",
       "    <tr>\n",
       "      <th>139</th>\n",
       "      <td>roe v. wade is overwhelmingly popular...</td>\n",
       "    </tr>\n",
       "    <tr>\n",
       "      <th>1026</th>\n",
       "      <td>gop handmaid's tale share this video</td>\n",
       "    </tr>\n",
       "    <tr>\n",
       "      <th>1021</th>\n",
       "      <td>i think it is self explanatory</td>\n",
       "    </tr>\n",
       "    <tr>\n",
       "      <th>1311</th>\n",
       "      <td>land of the free though, right?</td>\n",
       "    </tr>\n",
       "    <tr>\n",
       "      <th>621</th>\n",
       "      <td>the last abortion clinic in knoxville</td>\n",
       "    </tr>\n",
       "  </tbody>\n",
       "</table>\n",
       "</div>"
      ],
      "text/plain": [
       "                                           text\n",
       "139   roe v. wade is overwhelmingly popular... \n",
       "1026      gop handmaid's tale share this video \n",
       "1021            i think it is self explanatory \n",
       "1311           land of the free though, right? \n",
       "621      the last abortion clinic in knoxville "
      ]
     },
     "execution_count": 27,
     "metadata": {},
     "output_type": "execute_result"
    }
   ],
   "source": [
    "# Looking at the updated shortest prochoice submissions\n",
    "df_prochoice.sort_values(by='text_word_count', ascending=True)[['text']].head()"
   ]
  },
  {
   "cell_type": "markdown",
   "id": "756fb5e1",
   "metadata": {},
   "source": [
    "### EDA on cleaned post lengths"
   ]
  },
  {
   "cell_type": "code",
   "execution_count": 51,
   "id": "93b4ee82",
   "metadata": {
    "scrolled": true
   },
   "outputs": [
    {
     "data": {
      "image/png": "[encoded data removed]",
      "text/plain": [
       "<Figure size 432x288 with 1 Axes>"
      ]
     },
     "metadata": {
      "needs_background": "light"
     },
     "output_type": "display_data"
    }
   ],
   "source": [
    "sns.distplot(df_prolife['text_word_count'], kde=False).set(title='Word Count of Pro-Life submissions')\n",
    "plt.xlim(5, 450);"
   ]
  },
  {
   "cell_type": "code",
   "execution_count": 56,
   "id": "f888a350",
   "metadata": {},
   "outputs": [
    {
     "data": {
      "text/plain": [
       "count    1138.000000\n",
       "mean       45.981547\n",
       "std       106.121438\n",
       "min         6.000000\n",
       "25%         9.000000\n",
       "50%        14.000000\n",
       "75%        31.750000\n",
       "max      1534.000000\n",
       "Name: text_word_count, dtype: float64"
      ]
     },
     "execution_count": 56,
     "metadata": {},
     "output_type": "execute_result"
    }
   ],
   "source": [
    "df_prolife['text_word_count'].describe()"
   ]
  },
  {
   "cell_type": "code",
   "execution_count": 52,
   "id": "c279d4fe",
   "metadata": {
    "scrolled": true
   },
   "outputs": [
    {
     "data": {
      "image/png": "[encoded data removed]",
      "text/plain": [
       "<Figure size 432x288 with 1 Axes>"
      ]
     },
     "metadata": {
      "needs_background": "light"
     },
     "output_type": "display_data"
    }
   ],
   "source": [
    "sns.distplot(df_prochoice['text_word_count'], kde=False).set(title='Word Count of Pro-Choice submissions')\n",
    "plt.xlim(5, 450);"
   ]
  },
  {
   "cell_type": "code",
   "execution_count": 57,
   "id": "886afd49",
   "metadata": {},
   "outputs": [
    {
     "data": {
      "text/plain": [
       "count    1284.000000\n",
       "mean       82.812305\n",
       "std       169.063889\n",
       "min         6.000000\n",
       "25%        11.000000\n",
       "50%        23.000000\n",
       "75%        86.000000\n",
       "max      2922.000000\n",
       "Name: text_word_count, dtype: float64"
      ]
     },
     "execution_count": 57,
     "metadata": {},
     "output_type": "execute_result"
    }
   ],
   "source": [
    "df_prochoice['text_word_count'].describe()"
   ]
  },
  {
   "cell_type": "markdown",
   "id": "56e2b551",
   "metadata": {},
   "source": [
    "##### On average, pro-choice submissions have more words than pro-life submissions. For both subreddits, the word count distributions have very strong right skew, as seen from how the median is much closer to the 25th percentile thant the 75th percentile and the median being lower than the mean."
   ]
  },
  {
   "cell_type": "code",
   "execution_count": 54,
   "id": "364f7a40",
   "metadata": {},
   "outputs": [
    {
     "data": {
      "text/plain": [
       "<seaborn.axisgrid.PairGrid at 0x16674b1e820>"
      ]
     },
     "execution_count": 54,
     "metadata": {},
     "output_type": "execute_result"
    },
    {
     "data": {
      "image/png": "[encoded data removed]",
      "text/plain": [
       "<Figure size 360x360 with 6 Axes>"
      ]
     },
     "metadata": {
      "needs_background": "light"
     },
     "output_type": "display_data"
    }
   ],
   "source": []
  },
  {
   "cell_type": "markdown",
   "id": "5c002d20",
   "metadata": {},
   "source": [
    "# Showing Common Words in Each Subreddit"
   ]
  },
  {
   "cell_type": "code",
   "execution_count": 58,
   "id": "ef30061e",
   "metadata": {},
   "outputs": [],
   "source": [
    "cv = CountVectorizer(stop_words='english', min_df=3)\n",
    "cv.fit(df_prolife['text'])\n",
    "\n",
    "prolife_cv = cv.transform(df_prolife['text'])\n",
    "prolife_cv_df = pd.DataFrame(prolife_cv.todense(), columns=cv.get_feature_names())"
   ]
  },
  {
   "cell_type": "code",
   "execution_count": 65,
   "id": "1168a976",
   "metadata": {},
   "outputs": [
    {
     "data": {
      "text/plain": [
       "abortion     582\n",
       "pro          556\n",
       "life         458\n",
       "people       219\n",
       "just         187\n",
       "choice       182\n",
       "don          161\n",
       "like         154\n",
       "women        153\n",
       "think        150\n",
       "child        136\n",
       "want         131\n",
       "right        125\n",
       "baby         125\n",
       "woman        111\n",
       "know         107\n",
       "roe          106\n",
       "abortions    103\n",
       "support       99\n",
       "pregnancy     97\n",
       "dtype: int64"
      ]
     },
     "execution_count": 65,
     "metadata": {},
     "output_type": "execute_result"
    }
   ],
   "source": [
    "prolife_cv_df.sum().sort_values(ascending=False).head(20)"
   ]
  },
  {
   "cell_type": "code",
   "execution_count": 62,
   "id": "ebe48f38",
   "metadata": {},
   "outputs": [
    {
     "data": {
      "image/png": "[encoded data removed]",
      "text/plain": [
       "<Figure size 432x288 with 1 Axes>"
      ]
     },
     "metadata": {
      "needs_background": "light"
     },
     "output_type": "display_data"
    }
   ],
   "source": [
    "# Plotting for prolife\n",
    "prolife_cv_df.sum().sort_values(ascending=False).head(20).plot(kind='barh');"
   ]
  },
  {
   "cell_type": "code",
   "execution_count": 60,
   "id": "d0bf4377",
   "metadata": {},
   "outputs": [],
   "source": [
    "cv = CountVectorizer(stop_words='english', min_df=3)\n",
    "cv.fit(df_prochoice['text'])\n",
    "\n",
    "prochoice_cv = cv.transform(df_prochoice['text'])\n",
    "prochoice_cv_df = pd.DataFrame(prochoice_cv.todense(), columns=cv.get_feature_names())"
   ]
  },
  {
   "cell_type": "code",
   "execution_count": 64,
   "id": "fcf176c1",
   "metadata": {},
   "outputs": [
    {
     "data": {
      "text/plain": [
       "abortion     1172\n",
       "pro           726\n",
       "people        568\n",
       "life          515\n",
       "women         491\n",
       "just          391\n",
       "choice        360\n",
       "don           359\n",
       "like          333\n",
       "want          305\n",
       "rights        284\n",
       "right         268\n",
       "think         246\n",
       "woman         222\n",
       "roe           218\n",
       "abortions     215\n",
       "birth         211\n",
       "pregnancy     209\n",
       "child         205\n",
       "care          204\n",
       "dtype: int64"
      ]
     },
     "execution_count": 64,
     "metadata": {},
     "output_type": "execute_result"
    }
   ],
   "source": [
    "prochoice_cv_df.sum().sort_values(ascending=False).head(20)"
   ]
  },
  {
   "cell_type": "code",
   "execution_count": 63,
   "id": "eafd1acc",
   "metadata": {},
   "outputs": [
    {
     "data": {
      "image/png": "[encoded data removed]",
      "text/plain": [
       "<Figure size 432x288 with 1 Axes>"
      ]
     },
     "metadata": {
      "needs_background": "light"
     },
     "output_type": "display_data"
    }
   ],
   "source": [
    "# Plotting for prochoice\n",
    "prochoice_cv_df.sum().sort_values(ascending=False).head(20).plot(kind='barh');"
   ]
  },
  {
   "cell_type": "markdown",
   "id": "f74869d6",
   "metadata": {},
   "source": [
    "##### It is observed that the top 20 most common words in both subreddits are similar, and this may cause some issue when it comes to training an accurate model"
   ]
  },
  {
   "cell_type": "code",
   "execution_count": null,
   "id": "179b0ea9",
   "metadata": {},
   "outputs": [],
   "source": []
  },
  {
   "cell_type": "code",
   "execution_count": null,
   "id": "32876b18",
   "metadata": {},
   "outputs": [],
   "source": []
  },
  {
   "cell_type": "markdown",
   "id": "6bc94145",
   "metadata": {},
   "source": [
    "# Preprocessing"
   ]
  },
  {
   "cell_type": "code",
   "execution_count": null,
   "id": "962b109f",
   "metadata": {},
   "outputs": [],
   "source": []
  },
  {
   "cell_type": "code",
   "execution_count": null,
   "id": "cb1149cc",
   "metadata": {},
   "outputs": [],
   "source": []
  }
 ],
 "metadata": {
  "kernelspec": {
   "display_name": "Python 3 (ipykernel)",
   "language": "python",
   "name": "python3"
  },
  "language_info": {
   "codemirror_mode": {
    "name": "ipython",
    "version": 3
   },
   "file_extension": ".py",
   "mimetype": "text/x-python",
   "name": "python",
   "nbconvert_exporter": "python",
   "pygments_lexer": "ipython3",
   "version": "3.9.7"
  }
 },
 "nbformat": 4,
 "nbformat_minor": 5
}
