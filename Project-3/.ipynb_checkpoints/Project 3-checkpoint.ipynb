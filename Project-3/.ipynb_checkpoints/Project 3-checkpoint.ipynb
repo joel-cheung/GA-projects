{
 "cells": [
  {
   "cell_type": "markdown",
   "id": "e4d5dae8",
   "metadata": {},
   "source": [
    "# Background"
   ]
  },
  {
   "cell_type": "markdown",
   "id": "3a8459f1",
   "metadata": {},
   "source": [
    "I am part of the data science team working in a beverage company, Coftea, specializing in coffee and tea. With the rise of numerous e-commerce platforms and numerous competitors in this space, it is important that the decisions made are founded on data in order to standout from the crowd."
   ]
  },
  {
   "cell_type": "markdown",
   "id": "45662ee6",
   "metadata": {},
   "source": [
    "# Problem Statement"
   ]
  },
  {
   "cell_type": "markdown",
   "id": "d795eb70",
   "metadata": {},
   "source": [
    "To optimize our marketing expenditure, we would like to target our advertisements to people who are most likely going to buy our products. A good proxy would be their past search results. Also, buzz in the forums would give us a good indication of upcoming and fading trends so that we are more informed of our R&D focus and stock re-filling. My team and I are presenting to fellow colleagues and management who are non-technical, to share our findings on a recent project to build a classification model for the company that would be the foundation of this optimization.\n",
    "\n",
    "With our classification models, we will be able to identify the types of tea leaves or coffee beans, machinery, and even derivative products (such as pastry) to stock up so that Coftea can capture the rising demand."
   ]
  },
  {
   "cell_type": "markdown",
   "id": "a825fd87",
   "metadata": {},
   "source": [
    "# Importing libraries"
   ]
  },
  {
   "cell_type": "code",
   "execution_count": 1,
   "id": "0cd02315",
   "metadata": {},
   "outputs": [],
   "source": [
    "# Usual libraries\n",
    "import pandas as pd\n",
    "import numpy as np\n",
    "\n",
    "\n",
    "import requests\n",
    "import time\n",
    "import re\n",
    "import string\n",
    "\n",
    "# For visualization\n",
    "import matplotlib.pyplot as plt\n",
    "import seaborn as sns\n",
    "\n",
    "# For machine learning\n",
    "from sklearn.model_selection import train_test_split, GridSearchCV, cross_val_score\n",
    "from sklearn.feature_extraction.text import CountVectorizer, TfidfVectorizer\n",
    "from sklearn.pipeline import Pipeline\n",
    "from sklearn.naive_bayes import MultinomialNB, BernoulliNB\n",
    "from sklearn.linear_model import LogisticRegression\n",
    "from sklearn.metrics import confusion_matrix, plot_confusion_matrix, accuracy_score, plot_roc_curve, roc_auc_score, recall_score, precision_score, f1_score\n",
    "from sklearn.ensemble import RandomForestClassifier, ExtraTreesClassifier\n",
    "\n",
    "import gensim\n",
    "import string\n",
    "from nltk.corpus import stopwords\n",
    "from nltk.tokenize import word_tokenize\n",
    "from nltk.stem.porter import PorterStemmer\n",
    "from nltk.corpus import wordnet\n",
    "from nltk.stem import WordNetLemmatizer\n"
   ]
  },
  {
   "cell_type": "markdown",
   "id": "c22d8990",
   "metadata": {},
   "source": [
    "# Creating Function to Clean Text"
   ]
  },
  {
   "cell_type": "code",
   "execution_count": null,
   "id": "b8eff0be",
   "metadata": {},
   "outputs": [],
   "source": [
    "def clean_text_stem(text):\n",
    "    # Removing emojis\n",
    "    dem = demoji.findall(text)\n",
    "    for item in dem.keys():\n",
    "        text = text.replace(item,'')\n",
    "        \n",
    "    # Removing URLs\n",
    "    pattern = re.compile(r\"http?://\\S+|www\\.\\S+|\\S+\\.[a-z]+)|https?://\\S+|www\\.\\S+|\\S+\\.[a-z]+)\")\n",
    "    text = pattern.sub('', text)\n",
    "    text = \" \".join(text.split())\n",
    "    \n",
    "    # Making text lowercase\n",
    "    text = text.lower()\n",
    "    \n",
    "    # Decontracting constracted words\n",
    "    text = re.sub(r\"can\\'t\", \"can not\", text)\n",
    "    text = re.sub(r\"n\\'t\", \" not\", text)\n",
    "    text = re.sub(r\"\\'re\", \" are\", text)\n",
    "    text = re.sub(r\"\\'s\", \" is\", text)\n",
    "    text = re.sub(r\"\\'d\", \" would\", text)\n",
    "    text = re.sub(r\"\\'ll\", \" will\", text)\n",
    "    text = re.sub(r\"\\'t\", \" not\", text)\n",
    "    text = re.sub(r\"\\'ve\", \" have\", text)\n",
    "    text = re.sub(r\"\\'m\", \" am\", text)\n",
    "    \n",
    "    # Removing punctuations\n",
    "    remove_punc = re.compile(r\"[%s]\" % re.escape(string.punctuation))\n",
    "    text = remove_punc.sub('', text)\n",
    "    \n",
    "    # Lemmatizing\n",
    "    # To retrieve the appropriate part-of-speech (POS) tagging for each word in a sentence/tweet for the usage of WordNetLemmatizer\n",
    "    def get_wordnet_pos(word):\n",
    "        \"\"\"Map POS tag to first character lemmatize() accepts\"\"\"\n",
    "        tag = nltk.pos_tag([word])[0][1][0].upper()\n",
    "        tag_dict = {\"J\": wordnet.ADJ,\n",
    "                    \"N\": wordnet.NOUN,\n",
    "                    \"V\": wordnet.VERB,\n",
    "                    \"R\": wordnet.ADV}\n",
    "        return tag_dict.get(tag, wordnet.NOUN)\n",
    "    \n",
    "    lemmatizer = WordNetLemmatizer()\n",
    "    text = [lemmatizer.lemmatize(word, get_wordnet_pos(word)) for word in str(text).split()]\n",
    "    text = ' '.join(text)\n",
    "    \n",
    "    # Removing back-to-back spaces\n",
    "    text = re.sub(\"\\s\\s+\" , \" \", text)\n",
    "    \n",
    "    # Removing stopwords\n",
    "    text = \" \".join([word for word in str(text).split() if word not in Stopwords])\n",
    "    \n",
    "    return text"
   ]
  },
  {
   "cell_type": "code",
   "execution_count": 2,
   "id": "305c7aa4",
   "metadata": {},
   "outputs": [],
   "source": [
    "pd.set_option('display.max_colwidth', 100)"
   ]
  },
  {
   "cell_type": "markdown",
   "id": "2427f8d6",
   "metadata": {},
   "source": [
    "# Extracting data from Reddit Threads: tea and coffee"
   ]
  },
  {
   "cell_type": "code",
   "execution_count": 3,
   "id": "53fc6b97",
   "metadata": {},
   "outputs": [],
   "source": [
    "url = 'https://api.pushshift.io/reddit/search/submission'"
   ]
  },
  {
   "cell_type": "code",
   "execution_count": 4,
   "id": "9e6859e9",
   "metadata": {},
   "outputs": [],
   "source": [
    "def get_submissions(subreddit, n_iter):\n",
    "    \n",
    "    df_list = []\n",
    "    current_time = 1653373055 # 24 May 2022, 2:17pm\n",
    "    \n",
    "    for i in range(n_iter):\n",
    "        res = requests.get(\n",
    "        url,\n",
    "        params = {\n",
    "            'subreddit' : subreddit,\n",
    "            'size' : 100,\n",
    "            'before' : current_time,\n",
    "            'stickied': False\n",
    "            }\n",
    "        )\n",
    "        time.sleep(3)\n",
    "        df = pd.DataFrame(res.json()['data'])\n",
    "        df = df[['subreddit','selftext','title','created_utc']]\n",
    "        df_list.append(df)\n",
    "        current_time = df.created_utc.min()\n",
    "\n",
    "    return pd.concat(df_list, axis = 0)"
   ]
  },
  {
   "cell_type": "code",
   "execution_count": 5,
   "id": "171895c0",
   "metadata": {},
   "outputs": [],
   "source": [
    "# df_tea = get_submissions('tea',20)\n",
    "# df_coffee = get_submissions('coffee',20)"
   ]
  },
  {
   "cell_type": "markdown",
   "id": "a978fff2",
   "metadata": {},
   "source": [
    "### Exporting the dataset for easier referencing"
   ]
  },
  {
   "cell_type": "code",
   "execution_count": 6,
   "id": "c848746f",
   "metadata": {},
   "outputs": [],
   "source": [
    "# This is done so that whenever this notebook is closed, I can make the above extraction codes into comments and run from the\n",
    "# read_csv line onwards\n",
    "# df_tea.to_csv(r'../project_3/data/df_tea.csv', index = False)\n",
    "# df_coffee.to_csv(r'../project_3/data/df_coffee.csv', index = False)"
   ]
  },
  {
   "cell_type": "markdown",
   "id": "e0abad7a",
   "metadata": {},
   "source": [
    "### Importing dataset"
   ]
  },
  {
   "cell_type": "code",
   "execution_count": 7,
   "id": "8fe70d99",
   "metadata": {},
   "outputs": [],
   "source": [
    "df_tea = pd.read_csv (r'../data/df_tea.csv')\n",
    "df_coffee = pd.read_csv (r'..data/df_coffee.csv')"
   ]
  },
  {
   "cell_type": "markdown",
   "id": "247db5cf",
   "metadata": {},
   "source": [
    "# Data Cleaning and Preprocessing"
   ]
  },
  {
   "cell_type": "markdown",
   "id": "f261bfb8",
   "metadata": {},
   "source": [
    "### The Data Cleaning process includes the following steps:\n",
    "* Dropping created_utc column\n",
    "* Converting columns to the correct data type\n",
    "* Removing unwanted entries, such as nan, '[removed]' and '[deleted]'\n",
    "* Removing URLs\n",
    "* Changing to lowercase\n",
    "* Removing stop words\n",
    "* Removing symbols such as parenthesis, punctuations, colons, etc."
   ]
  },
  {
   "cell_type": "markdown",
   "id": "4d82191e",
   "metadata": {},
   "source": [
    "### Dropping created_utc column"
   ]
  },
  {
   "cell_type": "code",
   "execution_count": 8,
   "id": "15b5b76a",
   "metadata": {},
   "outputs": [],
   "source": [
    "df_tea = df_tea[['subreddit','selftext','title']]\n",
    "df_coffee = df_coffee[['subreddit','selftext','title']]"
   ]
  },
  {
   "cell_type": "code",
   "execution_count": 9,
   "id": "6b5f98fe",
   "metadata": {},
   "outputs": [
    {
     "name": "stdout",
     "output_type": "stream",
     "text": [
      "(1993, 3)\n",
      "(2000, 3)\n"
     ]
    }
   ],
   "source": [
    "print(df_tea.shape)\n",
    "print(df_coffee.shape)"
   ]
  },
  {
   "cell_type": "markdown",
   "id": "2ccb7168",
   "metadata": {},
   "source": [
    "### Converting and checking data type"
   ]
  },
  {
   "cell_type": "code",
   "execution_count": 10,
   "id": "a0155cae",
   "metadata": {},
   "outputs": [
    {
     "name": "stdout",
     "output_type": "stream",
     "text": [
      "subreddit    object\n",
      "selftext     object\n",
      "title        object\n",
      "dtype: object\n",
      "subreddit    object\n",
      "selftext     object\n",
      "title        object\n",
      "dtype: object\n"
     ]
    }
   ],
   "source": [
    "# To make sure all are in string type\n",
    "df_tea[['selftext','title']] = df_tea[['selftext','title']].astype(str)\n",
    "df_coffee[['selftext','title']] = df_coffee[['selftext','title']].astype(str)\n",
    "\n",
    "# Checking for right datatype\n",
    "print(df_tea.dtypes)\n",
    "print(df_coffee.dtypes)"
   ]
  },
  {
   "cell_type": "code",
   "execution_count": 11,
   "id": "96d8d8ab",
   "metadata": {
    "scrolled": true
   },
   "outputs": [
    {
     "data": {
      "text/html": [
       "<div>\n",
       "<style scoped>\n",
       "    .dataframe tbody tr th:only-of-type {\n",
       "        vertical-align: middle;\n",
       "    }\n",
       "\n",
       "    .dataframe tbody tr th {\n",
       "        vertical-align: top;\n",
       "    }\n",
       "\n",
       "    .dataframe thead th {\n",
       "        text-align: right;\n",
       "    }\n",
       "</style>\n",
       "<table border=\"1\" class=\"dataframe\">\n",
       "  <thead>\n",
       "    <tr style=\"text-align: right;\">\n",
       "      <th></th>\n",
       "      <th>subreddit</th>\n",
       "      <th>selftext</th>\n",
       "      <th>title</th>\n",
       "    </tr>\n",
       "  </thead>\n",
       "  <tbody>\n",
       "    <tr>\n",
       "      <th>0</th>\n",
       "      <td>tea</td>\n",
       "      <td>I love tea, especially green and jasmine tea.  The thing is though, when I drink hot tea it make...</td>\n",
       "      <td>How do you make tea taste refreshing?</td>\n",
       "    </tr>\n",
       "    <tr>\n",
       "      <th>1</th>\n",
       "      <td>tea</td>\n",
       "      <td>[removed]</td>\n",
       "      <td>Best strawberry kombucha - A Delicious Probiotic Beverage!</td>\n",
       "    </tr>\n",
       "    <tr>\n",
       "      <th>2</th>\n",
       "      <td>tea</td>\n",
       "      <td>nan</td>\n",
       "      <td>Traditional Medicinals teas 🍵 Are they worth buying? 🧐</td>\n",
       "    </tr>\n",
       "    <tr>\n",
       "      <th>3</th>\n",
       "      <td>tea</td>\n",
       "      <td>nan</td>\n",
       "      <td>Do y'all like or dislike this spout!? Is it a deal breaker for you?</td>\n",
       "    </tr>\n",
       "    <tr>\n",
       "      <th>4</th>\n",
       "      <td>tea</td>\n",
       "      <td>hi, just recently getting into specialty teas, mostly in part due to me recently picking up the ...</td>\n",
       "      <td>how is the first flush experience? is it that good?</td>\n",
       "    </tr>\n",
       "  </tbody>\n",
       "</table>\n",
       "</div>"
      ],
      "text/plain": [
       "  subreddit  \\\n",
       "0       tea   \n",
       "1       tea   \n",
       "2       tea   \n",
       "3       tea   \n",
       "4       tea   \n",
       "\n",
       "                                                                                              selftext  \\\n",
       "0  I love tea, especially green and jasmine tea.  The thing is though, when I drink hot tea it make...   \n",
       "1                                                                                            [removed]   \n",
       "2                                                                                                  nan   \n",
       "3                                                                                                  nan   \n",
       "4  hi, just recently getting into specialty teas, mostly in part due to me recently picking up the ...   \n",
       "\n",
       "                                                                 title  \n",
       "0                                How do you make tea taste refreshing?  \n",
       "1           Best strawberry kombucha - A Delicious Probiotic Beverage!  \n",
       "2               Traditional Medicinals teas 🍵 Are they worth buying? 🧐  \n",
       "3  Do y'all like or dislike this spout!? Is it a deal breaker for you?  \n",
       "4                  how is the first flush experience? is it that good?  "
      ]
     },
     "execution_count": 11,
     "metadata": {},
     "output_type": "execute_result"
    }
   ],
   "source": [
    "# To have a high level view of values\n",
    "df_tea.head()"
   ]
  },
  {
   "cell_type": "code",
   "execution_count": 12,
   "id": "39652fe8",
   "metadata": {},
   "outputs": [
    {
     "data": {
      "text/html": [
       "<div>\n",
       "<style scoped>\n",
       "    .dataframe tbody tr th:only-of-type {\n",
       "        vertical-align: middle;\n",
       "    }\n",
       "\n",
       "    .dataframe tbody tr th {\n",
       "        vertical-align: top;\n",
       "    }\n",
       "\n",
       "    .dataframe thead th {\n",
       "        text-align: right;\n",
       "    }\n",
       "</style>\n",
       "<table border=\"1\" class=\"dataframe\">\n",
       "  <thead>\n",
       "    <tr style=\"text-align: right;\">\n",
       "      <th></th>\n",
       "      <th>subreddit</th>\n",
       "      <th>selftext</th>\n",
       "      <th>title</th>\n",
       "    </tr>\n",
       "  </thead>\n",
       "  <tbody>\n",
       "    <tr>\n",
       "      <th>0</th>\n",
       "      <td>Coffee</td>\n",
       "      <td>Hi guys...\\n\\nI'm hoping you may be able to help me with a question.\\n\\nShort version:\\nWill cha...</td>\n",
       "      <td>Compak K3 - Upgrade Dilemma</td>\n",
       "    </tr>\n",
       "    <tr>\n",
       "      <th>1</th>\n",
       "      <td>Coffee</td>\n",
       "      <td>Hello! Fellow college student here, staying in a dorm with no access to a stove. All I have acce...</td>\n",
       "      <td>New to brewing, any tips?</td>\n",
       "    </tr>\n",
       "    <tr>\n",
       "      <th>2</th>\n",
       "      <td>Coffee</td>\n",
       "      <td>Hi!\\n\\nI'm getting really weak taste from my Delonghi machine and it's pretty much been like tha...</td>\n",
       "      <td>Really weak taste with Delonghi Perfecta Deluxe esam 460.80</td>\n",
       "    </tr>\n",
       "    <tr>\n",
       "      <th>3</th>\n",
       "      <td>Coffee</td>\n",
       "      <td>Last  month I typed in to google \"best coffee machine for under $500\". Now a  month later, I hav...</td>\n",
       "      <td>Barista Express vs Gaggia Classic</td>\n",
       "    </tr>\n",
       "    <tr>\n",
       "      <th>4</th>\n",
       "      <td>Coffee</td>\n",
       "      <td>[deleted]</td>\n",
       "      <td>Compak K3 - Grinder upgrade?</td>\n",
       "    </tr>\n",
       "  </tbody>\n",
       "</table>\n",
       "</div>"
      ],
      "text/plain": [
       "  subreddit  \\\n",
       "0    Coffee   \n",
       "1    Coffee   \n",
       "2    Coffee   \n",
       "3    Coffee   \n",
       "4    Coffee   \n",
       "\n",
       "                                                                                              selftext  \\\n",
       "0  Hi guys...\\n\\nI'm hoping you may be able to help me with a question.\\n\\nShort version:\\nWill cha...   \n",
       "1  Hello! Fellow college student here, staying in a dorm with no access to a stove. All I have acce...   \n",
       "2  Hi!\\n\\nI'm getting really weak taste from my Delonghi machine and it's pretty much been like tha...   \n",
       "3  Last  month I typed in to google \"best coffee machine for under $500\". Now a  month later, I hav...   \n",
       "4                                                                                            [deleted]   \n",
       "\n",
       "                                                         title  \n",
       "0                                  Compak K3 - Upgrade Dilemma  \n",
       "1                                    New to brewing, any tips?  \n",
       "2  Really weak taste with Delonghi Perfecta Deluxe esam 460.80  \n",
       "3                            Barista Express vs Gaggia Classic  \n",
       "4                                 Compak K3 - Grinder upgrade?  "
      ]
     },
     "execution_count": 12,
     "metadata": {},
     "output_type": "execute_result"
    }
   ],
   "source": [
    "# To have a high level view of values\n",
    "df_coffee.head()"
   ]
  },
  {
   "cell_type": "markdown",
   "id": "16ce683c",
   "metadata": {},
   "source": [
    "### Replacing popular mispelled word"
   ]
  },
  {
   "cell_type": "code",
   "execution_count": 13,
   "id": "3a3ec79c",
   "metadata": {},
   "outputs": [],
   "source": [
    "# Based on the frequently used word plot for r/tea, noticed that many submissions have misspelled pu'er and thus corrected them\n",
    "# This is important as the model would read pu er and pu erh (most commonly observed misspelling) as separate words\n",
    "df_tea['selftext'] = df_tea['selftext'].str.replace(\"pu'erh\",\"pu'er\").str.replace(\"pu'erhh\",\"pu'er\").str.replace(\"pu'erhhh\",\"pu'er\").str.replace(\"puerh\",\"pu-er\").str.replace(\"pu-erh\",\"pu'er\").str.replace(\"erh\",\"er\")\n",
    "df_tea['title'] = df_tea['title'].str.replace(\"pu'erh\",\"pu'er\").str.replace(\"pu'erhh\",\"pu'er\").str.replace(\"pu'erhhh\",\"pu'er\").str.replace(\"puerh\",\"pu-er\").str.replace(\"pu-erh\",\"pu'er\").str.replace(\"erh\",\"er\")"
   ]
  },
  {
   "cell_type": "markdown",
   "id": "bb631853",
   "metadata": {},
   "source": [
    "### Removing unwanted entries, such as nan, '[removed]' and '[deleted]'"
   ]
  },
  {
   "cell_type": "code",
   "execution_count": 14,
   "id": "5577e71e",
   "metadata": {},
   "outputs": [],
   "source": [
    "df_tea['selftext'] = df_tea['selftext'].str.replace('nan','').str.replace('removed','').str.replace('deleted','')"
   ]
  },
  {
   "cell_type": "code",
   "execution_count": 15,
   "id": "46a28326",
   "metadata": {
    "scrolled": true
   },
   "outputs": [
    {
     "data": {
      "text/html": [
       "<div>\n",
       "<style scoped>\n",
       "    .dataframe tbody tr th:only-of-type {\n",
       "        vertical-align: middle;\n",
       "    }\n",
       "\n",
       "    .dataframe tbody tr th {\n",
       "        vertical-align: top;\n",
       "    }\n",
       "\n",
       "    .dataframe thead th {\n",
       "        text-align: right;\n",
       "    }\n",
       "</style>\n",
       "<table border=\"1\" class=\"dataframe\">\n",
       "  <thead>\n",
       "    <tr style=\"text-align: right;\">\n",
       "      <th></th>\n",
       "      <th>subreddit</th>\n",
       "      <th>selftext</th>\n",
       "      <th>title</th>\n",
       "    </tr>\n",
       "  </thead>\n",
       "  <tbody>\n",
       "    <tr>\n",
       "      <th>0</th>\n",
       "      <td>tea</td>\n",
       "      <td>I love tea, especially green and jasmine tea.  The thing is though, when I drink hot tea it make...</td>\n",
       "      <td>How do you make tea taste refreshing?</td>\n",
       "    </tr>\n",
       "    <tr>\n",
       "      <th>1</th>\n",
       "      <td>tea</td>\n",
       "      <td>[]</td>\n",
       "      <td>Best strawberry kombucha - A Delicious Probiotic Beverage!</td>\n",
       "    </tr>\n",
       "    <tr>\n",
       "      <th>2</th>\n",
       "      <td>tea</td>\n",
       "      <td></td>\n",
       "      <td>Traditional Medicinals teas 🍵 Are they worth buying? 🧐</td>\n",
       "    </tr>\n",
       "    <tr>\n",
       "      <th>3</th>\n",
       "      <td>tea</td>\n",
       "      <td></td>\n",
       "      <td>Do y'all like or dislike this spout!? Is it a deal breaker for you?</td>\n",
       "    </tr>\n",
       "    <tr>\n",
       "      <th>4</th>\n",
       "      <td>tea</td>\n",
       "      <td>hi, just recently getting into specialty teas, mostly in part due to me recently picking up the ...</td>\n",
       "      <td>how is the first flush experience? is it that good?</td>\n",
       "    </tr>\n",
       "  </tbody>\n",
       "</table>\n",
       "</div>"
      ],
      "text/plain": [
       "  subreddit  \\\n",
       "0       tea   \n",
       "1       tea   \n",
       "2       tea   \n",
       "3       tea   \n",
       "4       tea   \n",
       "\n",
       "                                                                                              selftext  \\\n",
       "0  I love tea, especially green and jasmine tea.  The thing is though, when I drink hot tea it make...   \n",
       "1                                                                                                   []   \n",
       "2                                                                                                        \n",
       "3                                                                                                        \n",
       "4  hi, just recently getting into specialty teas, mostly in part due to me recently picking up the ...   \n",
       "\n",
       "                                                                 title  \n",
       "0                                How do you make tea taste refreshing?  \n",
       "1           Best strawberry kombucha - A Delicious Probiotic Beverage!  \n",
       "2               Traditional Medicinals teas 🍵 Are they worth buying? 🧐  \n",
       "3  Do y'all like or dislike this spout!? Is it a deal breaker for you?  \n",
       "4                  how is the first flush experience? is it that good?  "
      ]
     },
     "execution_count": 15,
     "metadata": {},
     "output_type": "execute_result"
    }
   ],
   "source": [
    "df_tea.head()"
   ]
  },
  {
   "cell_type": "code",
   "execution_count": 16,
   "id": "3aa95294",
   "metadata": {},
   "outputs": [],
   "source": [
    "df_coffee['selftext'] = df_coffee['selftext'].str.replace('nan','').str.replace('removed','').str.replace('deleted','')"
   ]
  },
  {
   "cell_type": "code",
   "execution_count": 17,
   "id": "9c50eba7",
   "metadata": {
    "scrolled": true
   },
   "outputs": [
    {
     "data": {
      "text/html": [
       "<div>\n",
       "<style scoped>\n",
       "    .dataframe tbody tr th:only-of-type {\n",
       "        vertical-align: middle;\n",
       "    }\n",
       "\n",
       "    .dataframe tbody tr th {\n",
       "        vertical-align: top;\n",
       "    }\n",
       "\n",
       "    .dataframe thead th {\n",
       "        text-align: right;\n",
       "    }\n",
       "</style>\n",
       "<table border=\"1\" class=\"dataframe\">\n",
       "  <thead>\n",
       "    <tr style=\"text-align: right;\">\n",
       "      <th></th>\n",
       "      <th>subreddit</th>\n",
       "      <th>selftext</th>\n",
       "      <th>title</th>\n",
       "    </tr>\n",
       "  </thead>\n",
       "  <tbody>\n",
       "    <tr>\n",
       "      <th>0</th>\n",
       "      <td>Coffee</td>\n",
       "      <td>Hi guys...\\n\\nI'm hoping you may be able to help me with a question.\\n\\nShort version:\\nWill cha...</td>\n",
       "      <td>Compak K3 - Upgrade Dilemma</td>\n",
       "    </tr>\n",
       "    <tr>\n",
       "      <th>1</th>\n",
       "      <td>Coffee</td>\n",
       "      <td>Hello! Fellow college student here, staying in a dorm with no access to a stove. All I have acce...</td>\n",
       "      <td>New to brewing, any tips?</td>\n",
       "    </tr>\n",
       "    <tr>\n",
       "      <th>2</th>\n",
       "      <td>Coffee</td>\n",
       "      <td>Hi!\\n\\nI'm getting really weak taste from my Delonghi machine and it's pretty much been like tha...</td>\n",
       "      <td>Really weak taste with Delonghi Perfecta Deluxe esam 460.80</td>\n",
       "    </tr>\n",
       "    <tr>\n",
       "      <th>3</th>\n",
       "      <td>Coffee</td>\n",
       "      <td>Last  month I typed in to google \"best coffee machine for under $500\". Now a  month later, I hav...</td>\n",
       "      <td>Barista Express vs Gaggia Classic</td>\n",
       "    </tr>\n",
       "    <tr>\n",
       "      <th>4</th>\n",
       "      <td>Coffee</td>\n",
       "      <td>[]</td>\n",
       "      <td>Compak K3 - Grinder upgrade?</td>\n",
       "    </tr>\n",
       "  </tbody>\n",
       "</table>\n",
       "</div>"
      ],
      "text/plain": [
       "  subreddit  \\\n",
       "0    Coffee   \n",
       "1    Coffee   \n",
       "2    Coffee   \n",
       "3    Coffee   \n",
       "4    Coffee   \n",
       "\n",
       "                                                                                              selftext  \\\n",
       "0  Hi guys...\\n\\nI'm hoping you may be able to help me with a question.\\n\\nShort version:\\nWill cha...   \n",
       "1  Hello! Fellow college student here, staying in a dorm with no access to a stove. All I have acce...   \n",
       "2  Hi!\\n\\nI'm getting really weak taste from my Delonghi machine and it's pretty much been like tha...   \n",
       "3  Last  month I typed in to google \"best coffee machine for under $500\". Now a  month later, I hav...   \n",
       "4                                                                                                   []   \n",
       "\n",
       "                                                         title  \n",
       "0                                  Compak K3 - Upgrade Dilemma  \n",
       "1                                    New to brewing, any tips?  \n",
       "2  Really weak taste with Delonghi Perfecta Deluxe esam 460.80  \n",
       "3                            Barista Express vs Gaggia Classic  \n",
       "4                                 Compak K3 - Grinder upgrade?  "
      ]
     },
     "execution_count": 17,
     "metadata": {},
     "output_type": "execute_result"
    }
   ],
   "source": [
    "df_coffee.head()"
   ]
  },
  {
   "cell_type": "code",
   "execution_count": null,
   "id": "6b9cd6a8",
   "metadata": {},
   "outputs": [],
   "source": [
    "### Checking for missing values"
   ]
  },
  {
   "cell_type": "code",
   "execution_count": null,
   "id": "f8152678",
   "metadata": {},
   "outputs": [],
   "source": []
  },
  {
   "cell_type": "markdown",
   "id": "814f0466",
   "metadata": {},
   "source": [
    "### Removing URLs"
   ]
  },
  {
   "cell_type": "code",
   "execution_count": 18,
   "id": "fc48e5ae",
   "metadata": {},
   "outputs": [],
   "source": [
    "# Removing URLs\n",
    "df_tea['selftext'] = df_tea['selftext'].str.replace(r'http.+','',regex=True)\n",
    "\n",
    "df_tea['title'] = df_tea['title'].str.replace(r'http.+','',regex=True)\n",
    "\n",
    "df_coffee['selftext'] = df_coffee['selftext'].str.replace(r'http.+','',regex=True)\n",
    "\n",
    "df_coffee['title'] = df_coffee['title'].str.replace(r'http.+','',regex=True)"
   ]
  },
  {
   "cell_type": "markdown",
   "id": "75b96776",
   "metadata": {},
   "source": [
    "### Tokenizing"
   ]
  },
  {
   "cell_type": "code",
   "execution_count": 19,
   "id": "15118329",
   "metadata": {},
   "outputs": [],
   "source": [
    "# Create function to be used to tokenize selftext and title columns\n",
    "def tokenize(df):\n",
    "    df['selftext'] = df['selftext'].apply(lambda x: gensim.utils.simple_preprocess(x))\n",
    "    df['title'] = df['title'].apply(lambda x: gensim.utils.simple_preprocess(x))"
   ]
  },
  {
   "cell_type": "code",
   "execution_count": 20,
   "id": "9adb2ac2",
   "metadata": {},
   "outputs": [],
   "source": [
    "tokenize(df_tea)"
   ]
  },
  {
   "cell_type": "code",
   "execution_count": 21,
   "id": "61fc452c",
   "metadata": {},
   "outputs": [],
   "source": [
    "tokenize(df_coffee)"
   ]
  },
  {
   "cell_type": "markdown",
   "id": "41eafe7e",
   "metadata": {},
   "source": [
    "### Changing to lowercase"
   ]
  },
  {
   "cell_type": "code",
   "execution_count": 22,
   "id": "75548d77",
   "metadata": {},
   "outputs": [],
   "source": [
    "# Create function that changes all letters to lowercase\n",
    "def to_lowercase(words):\n",
    "    \"\"\"Convert all characters to lowercase from list of tokenized words\"\"\"\n",
    "    new_words = []\n",
    "    for word in words:\n",
    "        new_word = word.lower()\n",
    "        new_words.append(new_word)\n",
    "    return new_words"
   ]
  },
  {
   "cell_type": "code",
   "execution_count": 23,
   "id": "6f8e4b1e",
   "metadata": {},
   "outputs": [],
   "source": [
    "# Applying to the 4 columns to change from mixed case to all lowercase\n",
    "df_tea['selftext'] = df_tea['selftext'].apply(to_lowercase)\n",
    "df_tea['title'] = df_tea['title'].apply(to_lowercase)\n",
    "df_coffee['selftext'] = df_coffee['selftext'].apply(to_lowercase)\n",
    "df_coffee['title'] = df_coffee['title'].apply(to_lowercase)"
   ]
  },
  {
   "cell_type": "code",
   "execution_count": 24,
   "id": "36e2a082",
   "metadata": {},
   "outputs": [
    {
     "data": {
      "text/html": [
       "<div>\n",
       "<style scoped>\n",
       "    .dataframe tbody tr th:only-of-type {\n",
       "        vertical-align: middle;\n",
       "    }\n",
       "\n",
       "    .dataframe tbody tr th {\n",
       "        vertical-align: top;\n",
       "    }\n",
       "\n",
       "    .dataframe thead th {\n",
       "        text-align: right;\n",
       "    }\n",
       "</style>\n",
       "<table border=\"1\" class=\"dataframe\">\n",
       "  <thead>\n",
       "    <tr style=\"text-align: right;\">\n",
       "      <th></th>\n",
       "      <th>subreddit</th>\n",
       "      <th>selftext</th>\n",
       "      <th>title</th>\n",
       "    </tr>\n",
       "  </thead>\n",
       "  <tbody>\n",
       "    <tr>\n",
       "      <th>0</th>\n",
       "      <td>tea</td>\n",
       "      <td>[love, tea, especially, green, and, jasmine, tea, the, thing, is, though, when, drink, hot, tea,...</td>\n",
       "      <td>[how, do, you, make, tea, taste, refreshing]</td>\n",
       "    </tr>\n",
       "    <tr>\n",
       "      <th>1</th>\n",
       "      <td>tea</td>\n",
       "      <td>[]</td>\n",
       "      <td>[best, strawberry, kombucha, delicious, probiotic, beverage]</td>\n",
       "    </tr>\n",
       "    <tr>\n",
       "      <th>2</th>\n",
       "      <td>tea</td>\n",
       "      <td>[]</td>\n",
       "      <td>[traditional, medicinals, teas, are, they, worth, buying]</td>\n",
       "    </tr>\n",
       "    <tr>\n",
       "      <th>3</th>\n",
       "      <td>tea</td>\n",
       "      <td>[]</td>\n",
       "      <td>[do, all, like, or, dislike, this, spout, is, it, deal, breaker, for, you]</td>\n",
       "    </tr>\n",
       "    <tr>\n",
       "      <th>4</th>\n",
       "      <td>tea</td>\n",
       "      <td>[hi, just, recently, getting, into, specialty, teas, mostly, in, part, due, to, me, recently, pi...</td>\n",
       "      <td>[how, is, the, first, flush, experience, is, it, that, good]</td>\n",
       "    </tr>\n",
       "  </tbody>\n",
       "</table>\n",
       "</div>"
      ],
      "text/plain": [
       "  subreddit  \\\n",
       "0       tea   \n",
       "1       tea   \n",
       "2       tea   \n",
       "3       tea   \n",
       "4       tea   \n",
       "\n",
       "                                                                                              selftext  \\\n",
       "0  [love, tea, especially, green, and, jasmine, tea, the, thing, is, though, when, drink, hot, tea,...   \n",
       "1                                                                                                   []   \n",
       "2                                                                                                   []   \n",
       "3                                                                                                   []   \n",
       "4  [hi, just, recently, getting, into, specialty, teas, mostly, in, part, due, to, me, recently, pi...   \n",
       "\n",
       "                                                                        title  \n",
       "0                                [how, do, you, make, tea, taste, refreshing]  \n",
       "1                [best, strawberry, kombucha, delicious, probiotic, beverage]  \n",
       "2                   [traditional, medicinals, teas, are, they, worth, buying]  \n",
       "3  [do, all, like, or, dislike, this, spout, is, it, deal, breaker, for, you]  \n",
       "4                [how, is, the, first, flush, experience, is, it, that, good]  "
      ]
     },
     "execution_count": 24,
     "metadata": {},
     "output_type": "execute_result"
    }
   ],
   "source": [
    "df_tea.head()"
   ]
  },
  {
   "cell_type": "code",
   "execution_count": 25,
   "id": "1f1bddb8",
   "metadata": {},
   "outputs": [
    {
     "data": {
      "text/html": [
       "<div>\n",
       "<style scoped>\n",
       "    .dataframe tbody tr th:only-of-type {\n",
       "        vertical-align: middle;\n",
       "    }\n",
       "\n",
       "    .dataframe tbody tr th {\n",
       "        vertical-align: top;\n",
       "    }\n",
       "\n",
       "    .dataframe thead th {\n",
       "        text-align: right;\n",
       "    }\n",
       "</style>\n",
       "<table border=\"1\" class=\"dataframe\">\n",
       "  <thead>\n",
       "    <tr style=\"text-align: right;\">\n",
       "      <th></th>\n",
       "      <th>subreddit</th>\n",
       "      <th>selftext</th>\n",
       "      <th>title</th>\n",
       "    </tr>\n",
       "  </thead>\n",
       "  <tbody>\n",
       "    <tr>\n",
       "      <th>0</th>\n",
       "      <td>Coffee</td>\n",
       "      <td>[hi, guys, hoping, you, may, be, able, to, help, me, with, question, short, version, will, chang...</td>\n",
       "      <td>[compak, upgrade, dilemma]</td>\n",
       "    </tr>\n",
       "    <tr>\n",
       "      <th>1</th>\n",
       "      <td>Coffee</td>\n",
       "      <td>[hello, fellow, college, student, here, staying, in, dorm, with, no, access, to, stove, all, hav...</td>\n",
       "      <td>[new, to, brewing, any, tips]</td>\n",
       "    </tr>\n",
       "    <tr>\n",
       "      <th>2</th>\n",
       "      <td>Coffee</td>\n",
       "      <td>[hi, getting, really, weak, taste, from, my, delonghi, machine, and, it, pretty, much, been, lik...</td>\n",
       "      <td>[really, weak, taste, with, delonghi, perfecta, deluxe, esam]</td>\n",
       "    </tr>\n",
       "    <tr>\n",
       "      <th>3</th>\n",
       "      <td>Coffee</td>\n",
       "      <td>[last, month, typed, in, to, google, best, coffee, machine, for, under, now, month, later, have,...</td>\n",
       "      <td>[barista, express, vs, gaggia, classic]</td>\n",
       "    </tr>\n",
       "    <tr>\n",
       "      <th>4</th>\n",
       "      <td>Coffee</td>\n",
       "      <td>[]</td>\n",
       "      <td>[compak, grinder, upgrade]</td>\n",
       "    </tr>\n",
       "  </tbody>\n",
       "</table>\n",
       "</div>"
      ],
      "text/plain": [
       "  subreddit  \\\n",
       "0    Coffee   \n",
       "1    Coffee   \n",
       "2    Coffee   \n",
       "3    Coffee   \n",
       "4    Coffee   \n",
       "\n",
       "                                                                                              selftext  \\\n",
       "0  [hi, guys, hoping, you, may, be, able, to, help, me, with, question, short, version, will, chang...   \n",
       "1  [hello, fellow, college, student, here, staying, in, dorm, with, no, access, to, stove, all, hav...   \n",
       "2  [hi, getting, really, weak, taste, from, my, delonghi, machine, and, it, pretty, much, been, lik...   \n",
       "3  [last, month, typed, in, to, google, best, coffee, machine, for, under, now, month, later, have,...   \n",
       "4                                                                                                   []   \n",
       "\n",
       "                                                           title  \n",
       "0                                     [compak, upgrade, dilemma]  \n",
       "1                                  [new, to, brewing, any, tips]  \n",
       "2  [really, weak, taste, with, delonghi, perfecta, deluxe, esam]  \n",
       "3                        [barista, express, vs, gaggia, classic]  \n",
       "4                                     [compak, grinder, upgrade]  "
      ]
     },
     "execution_count": 25,
     "metadata": {},
     "output_type": "execute_result"
    }
   ],
   "source": [
    "df_coffee.head()"
   ]
  },
  {
   "cell_type": "markdown",
   "id": "adbc7f08",
   "metadata": {},
   "source": [
    "### Removing punctuations that are directly behind a word"
   ]
  },
  {
   "cell_type": "code",
   "execution_count": 26,
   "id": "1b1a50be",
   "metadata": {},
   "outputs": [],
   "source": [
    "# Create function that checks if the last character of a 'word' (text between whitespaces) is a punctuation, remove the \n",
    "# punctuation and append it to the list\n",
    "def remove_behind_punctuations(words):\n",
    "    word_no_punctuations_behind = []\n",
    "    for word in words:\n",
    "        if word[-1] in string.punctuation:\n",
    "            new_word = word[:-1]\n",
    "            word_no_punctuations_behind.append(new_word)\n",
    "        else:\n",
    "            word_no_punctuations_behind.append(word)\n",
    "    return word_no_punctuations_behind"
   ]
  },
  {
   "cell_type": "code",
   "execution_count": 27,
   "id": "a6ffdc23",
   "metadata": {},
   "outputs": [],
   "source": [
    "# Removing the punctuations at the back of the words\n",
    "df_tea['selftext'] = df_tea['selftext'].apply(remove_behind_punctuations)\n",
    "df_tea['title'] = df_tea['title'].apply(remove_behind_punctuations)\n",
    "df_coffee['selftext'] = df_coffee['selftext'].apply(remove_behind_punctuations)\n",
    "df_coffee['title'] = df_coffee['title'].apply(remove_behind_punctuations)"
   ]
  },
  {
   "cell_type": "markdown",
   "id": "e8e26fe7",
   "metadata": {},
   "source": [
    "##### This above function is used instead of removing non-ascii words is because there are mentions of some machinery names that are present in one subreddit and not the other, such as names of coffee machine series which may not be ascii words. Also this function would also remove common emoticons such as :)"
   ]
  },
  {
   "cell_type": "markdown",
   "id": "93c24c90",
   "metadata": {},
   "source": [
    "### Lemmatizing the columns"
   ]
  },
  {
   "cell_type": "code",
   "execution_count": 28,
   "id": "0a1977d8",
   "metadata": {},
   "outputs": [],
   "source": [
    "# Creating more stop words to make it more comprehensive\n",
    "updated_stopwords = stopwords.words('english')[:]\n",
    "\n",
    "# Doing this based on additional common words when scrolling through the subreddits and dropping common words in the\n",
    "# single, pair and trio plots\n",
    "# Have to remove the words 'coffee' and 'tea' as well\n",
    "to_add_to_stopwords = ['guygal','html','png','webp','crypto','invest','waitlist','jpg','pjpg','portfolio','www','com','ha','feel','like','wa','good','water','coffee','tea']"
   ]
  },
  {
   "cell_type": "code",
   "execution_count": 29,
   "id": "c801068b",
   "metadata": {},
   "outputs": [],
   "source": [
    "updated_stopwords.extend(to_add_to_stopwords)"
   ]
  },
  {
   "cell_type": "code",
   "execution_count": 30,
   "id": "bee53174",
   "metadata": {},
   "outputs": [],
   "source": [
    "def lemmatizing(words):\n",
    "    # Lemmatize each word of the text\n",
    "    lemmatizer = WordNetLemmatizer()\n",
    "    words = [lemmatizer.lemmatize(word) for word in words]\n",
    "    words = [word for word in words if word not in updated_stopwords]\n",
    "    return words"
   ]
  },
  {
   "cell_type": "code",
   "execution_count": 31,
   "id": "d9d4bcfe",
   "metadata": {},
   "outputs": [],
   "source": [
    "df_tea['selftext'] = df_tea['selftext'].apply(lemmatizing)\n",
    "df_tea['title'] = df_tea['title'].apply(lemmatizing)\n",
    "df_coffee['selftext'] = df_coffee['selftext'].apply(lemmatizing)\n",
    "df_coffee['title'] = df_coffee['title'].apply(lemmatizing)"
   ]
  },
  {
   "cell_type": "markdown",
   "id": "a7044376",
   "metadata": {},
   "source": [
    "### Removing stop words"
   ]
  },
  {
   "cell_type": "code",
   "execution_count": 32,
   "id": "0f9cd503",
   "metadata": {},
   "outputs": [],
   "source": [
    "# Create function to remove all stop words to remove some noise\n",
    "def remove_stopwords(words):\n",
    "    new_words = []\n",
    "    for word in words:\n",
    "        if word not in updated_stopwords:\n",
    "            new_words.append(word)\n",
    "        else:\n",
    "            pass\n",
    "    return new_words"
   ]
  },
  {
   "cell_type": "code",
   "execution_count": 33,
   "id": "4da7b077",
   "metadata": {},
   "outputs": [],
   "source": [
    "# Removing the list of stop words\n",
    "df_tea['selftext'] = df_tea['selftext'].apply(remove_stopwords)\n",
    "df_tea['title'] = df_tea['title'].apply(remove_stopwords)\n",
    "df_coffee['selftext'] = df_coffee['selftext'].apply(remove_stopwords)\n",
    "df_coffee['title'] = df_coffee['title'].apply(remove_stopwords)"
   ]
  },
  {
   "cell_type": "code",
   "execution_count": 34,
   "id": "8f67dcdb",
   "metadata": {},
   "outputs": [
    {
     "data": {
      "text/html": [
       "<div>\n",
       "<style scoped>\n",
       "    .dataframe tbody tr th:only-of-type {\n",
       "        vertical-align: middle;\n",
       "    }\n",
       "\n",
       "    .dataframe tbody tr th {\n",
       "        vertical-align: top;\n",
       "    }\n",
       "\n",
       "    .dataframe thead th {\n",
       "        text-align: right;\n",
       "    }\n",
       "</style>\n",
       "<table border=\"1\" class=\"dataframe\">\n",
       "  <thead>\n",
       "    <tr style=\"text-align: right;\">\n",
       "      <th></th>\n",
       "      <th>subreddit</th>\n",
       "      <th>selftext</th>\n",
       "      <th>title</th>\n",
       "    </tr>\n",
       "  </thead>\n",
       "  <tbody>\n",
       "    <tr>\n",
       "      <th>0</th>\n",
       "      <td>tea</td>\n",
       "      <td>[love, especially, green, jasmine, thing, though, drink, hot, make, mouth, dry, leaf, bitter, ta...</td>\n",
       "      <td>[make, taste, refreshing]</td>\n",
       "    </tr>\n",
       "    <tr>\n",
       "      <th>1</th>\n",
       "      <td>tea</td>\n",
       "      <td>[]</td>\n",
       "      <td>[best, strawberry, kombucha, delicious, probiotic, beverage]</td>\n",
       "    </tr>\n",
       "    <tr>\n",
       "      <th>2</th>\n",
       "      <td>tea</td>\n",
       "      <td>[]</td>\n",
       "      <td>[traditional, medicinals, worth, buying]</td>\n",
       "    </tr>\n",
       "    <tr>\n",
       "      <th>3</th>\n",
       "      <td>tea</td>\n",
       "      <td>[]</td>\n",
       "      <td>[dislike, spout, deal, breaker]</td>\n",
       "    </tr>\n",
       "    <tr>\n",
       "      <th>4</th>\n",
       "      <td>tea</td>\n",
       "      <td>[hi, recently, getting, specialty, mostly, part, due, recently, picking, book, tony, gebely, por...</td>\n",
       "      <td>[first, flush, experience]</td>\n",
       "    </tr>\n",
       "  </tbody>\n",
       "</table>\n",
       "</div>"
      ],
      "text/plain": [
       "  subreddit  \\\n",
       "0       tea   \n",
       "1       tea   \n",
       "2       tea   \n",
       "3       tea   \n",
       "4       tea   \n",
       "\n",
       "                                                                                              selftext  \\\n",
       "0  [love, especially, green, jasmine, thing, though, drink, hot, make, mouth, dry, leaf, bitter, ta...   \n",
       "1                                                                                                   []   \n",
       "2                                                                                                   []   \n",
       "3                                                                                                   []   \n",
       "4  [hi, recently, getting, specialty, mostly, part, due, recently, picking, book, tony, gebely, por...   \n",
       "\n",
       "                                                          title  \n",
       "0                                     [make, taste, refreshing]  \n",
       "1  [best, strawberry, kombucha, delicious, probiotic, beverage]  \n",
       "2                      [traditional, medicinals, worth, buying]  \n",
       "3                               [dislike, spout, deal, breaker]  \n",
       "4                                    [first, flush, experience]  "
      ]
     },
     "execution_count": 34,
     "metadata": {},
     "output_type": "execute_result"
    }
   ],
   "source": [
    "df_tea.head()"
   ]
  },
  {
   "cell_type": "code",
   "execution_count": 35,
   "id": "096db326",
   "metadata": {},
   "outputs": [
    {
     "data": {
      "text/html": [
       "<div>\n",
       "<style scoped>\n",
       "    .dataframe tbody tr th:only-of-type {\n",
       "        vertical-align: middle;\n",
       "    }\n",
       "\n",
       "    .dataframe tbody tr th {\n",
       "        vertical-align: top;\n",
       "    }\n",
       "\n",
       "    .dataframe thead th {\n",
       "        text-align: right;\n",
       "    }\n",
       "</style>\n",
       "<table border=\"1\" class=\"dataframe\">\n",
       "  <thead>\n",
       "    <tr style=\"text-align: right;\">\n",
       "      <th></th>\n",
       "      <th>subreddit</th>\n",
       "      <th>selftext</th>\n",
       "      <th>title</th>\n",
       "    </tr>\n",
       "  </thead>\n",
       "  <tbody>\n",
       "    <tr>\n",
       "      <th>0</th>\n",
       "      <td>Coffee</td>\n",
       "      <td>[hi, guy, hoping, may, able, help, question, short, version, changing, grinder, compak, ceado, r...</td>\n",
       "      <td>[compak, upgrade, dilemma]</td>\n",
       "    </tr>\n",
       "    <tr>\n",
       "      <th>1</th>\n",
       "      <td>Coffee</td>\n",
       "      <td>[hello, fellow, college, student, staying, dorm, access, stove, access, french, press, kettle, b...</td>\n",
       "      <td>[new, brewing, tip]</td>\n",
       "    </tr>\n",
       "    <tr>\n",
       "      <th>2</th>\n",
       "      <td>Coffee</td>\n",
       "      <td>[hi, getting, really, weak, taste, delonghi, machine, pretty, much, since, bought, tried, severa...</td>\n",
       "      <td>[really, weak, taste, delonghi, perfecta, deluxe, esam]</td>\n",
       "    </tr>\n",
       "    <tr>\n",
       "      <th>3</th>\n",
       "      <td>Coffee</td>\n",
       "      <td>[last, month, typed, google, best, machine, month, later, fully, dived, espresso, world, looking...</td>\n",
       "      <td>[barista, express, v, gaggia, classic]</td>\n",
       "    </tr>\n",
       "    <tr>\n",
       "      <th>4</th>\n",
       "      <td>Coffee</td>\n",
       "      <td>[]</td>\n",
       "      <td>[compak, grinder, upgrade]</td>\n",
       "    </tr>\n",
       "  </tbody>\n",
       "</table>\n",
       "</div>"
      ],
      "text/plain": [
       "  subreddit  \\\n",
       "0    Coffee   \n",
       "1    Coffee   \n",
       "2    Coffee   \n",
       "3    Coffee   \n",
       "4    Coffee   \n",
       "\n",
       "                                                                                              selftext  \\\n",
       "0  [hi, guy, hoping, may, able, help, question, short, version, changing, grinder, compak, ceado, r...   \n",
       "1  [hello, fellow, college, student, staying, dorm, access, stove, access, french, press, kettle, b...   \n",
       "2  [hi, getting, really, weak, taste, delonghi, machine, pretty, much, since, bought, tried, severa...   \n",
       "3  [last, month, typed, google, best, machine, month, later, fully, dived, espresso, world, looking...   \n",
       "4                                                                                                   []   \n",
       "\n",
       "                                                     title  \n",
       "0                               [compak, upgrade, dilemma]  \n",
       "1                                      [new, brewing, tip]  \n",
       "2  [really, weak, taste, delonghi, perfecta, deluxe, esam]  \n",
       "3                   [barista, express, v, gaggia, classic]  \n",
       "4                               [compak, grinder, upgrade]  "
      ]
     },
     "execution_count": 35,
     "metadata": {},
     "output_type": "execute_result"
    }
   ],
   "source": [
    "df_coffee.head()"
   ]
  },
  {
   "cell_type": "code",
   "execution_count": 36,
   "id": "d3fafef5",
   "metadata": {},
   "outputs": [
    {
     "data": {
      "text/html": [
       "<div>\n",
       "<style scoped>\n",
       "    .dataframe tbody tr th:only-of-type {\n",
       "        vertical-align: middle;\n",
       "    }\n",
       "\n",
       "    .dataframe tbody tr th {\n",
       "        vertical-align: top;\n",
       "    }\n",
       "\n",
       "    .dataframe thead th {\n",
       "        text-align: right;\n",
       "    }\n",
       "</style>\n",
       "<table border=\"1\" class=\"dataframe\">\n",
       "  <thead>\n",
       "    <tr style=\"text-align: right;\">\n",
       "      <th></th>\n",
       "      <th>subreddit</th>\n",
       "      <th>selftext</th>\n",
       "      <th>title</th>\n",
       "    </tr>\n",
       "  </thead>\n",
       "  <tbody>\n",
       "    <tr>\n",
       "      <th>0</th>\n",
       "      <td>tea</td>\n",
       "      <td>[love, especially, green, jasmine, thing, though, drink, hot, make, mouth, dry, leaf, bitter, ta...</td>\n",
       "      <td>[make, taste, refreshing]</td>\n",
       "    </tr>\n",
       "    <tr>\n",
       "      <th>1</th>\n",
       "      <td>tea</td>\n",
       "      <td>[]</td>\n",
       "      <td>[best, strawberry, kombucha, delicious, probiotic, beverage]</td>\n",
       "    </tr>\n",
       "    <tr>\n",
       "      <th>2</th>\n",
       "      <td>tea</td>\n",
       "      <td>[]</td>\n",
       "      <td>[traditional, medicinals, worth, buying]</td>\n",
       "    </tr>\n",
       "    <tr>\n",
       "      <th>3</th>\n",
       "      <td>tea</td>\n",
       "      <td>[]</td>\n",
       "      <td>[dislike, spout, deal, breaker]</td>\n",
       "    </tr>\n",
       "    <tr>\n",
       "      <th>4</th>\n",
       "      <td>tea</td>\n",
       "      <td>[hi, recently, getting, specialty, mostly, part, due, recently, picking, book, tony, gebely, por...</td>\n",
       "      <td>[first, flush, experience]</td>\n",
       "    </tr>\n",
       "  </tbody>\n",
       "</table>\n",
       "</div>"
      ],
      "text/plain": [
       "  subreddit  \\\n",
       "0       tea   \n",
       "1       tea   \n",
       "2       tea   \n",
       "3       tea   \n",
       "4       tea   \n",
       "\n",
       "                                                                                              selftext  \\\n",
       "0  [love, especially, green, jasmine, thing, though, drink, hot, make, mouth, dry, leaf, bitter, ta...   \n",
       "1                                                                                                   []   \n",
       "2                                                                                                   []   \n",
       "3                                                                                                   []   \n",
       "4  [hi, recently, getting, specialty, mostly, part, due, recently, picking, book, tony, gebely, por...   \n",
       "\n",
       "                                                          title  \n",
       "0                                     [make, taste, refreshing]  \n",
       "1  [best, strawberry, kombucha, delicious, probiotic, beverage]  \n",
       "2                      [traditional, medicinals, worth, buying]  \n",
       "3                               [dislike, spout, deal, breaker]  \n",
       "4                                    [first, flush, experience]  "
      ]
     },
     "execution_count": 36,
     "metadata": {},
     "output_type": "execute_result"
    }
   ],
   "source": [
    "df_tea.head()"
   ]
  },
  {
   "cell_type": "code",
   "execution_count": 37,
   "id": "db9f141a",
   "metadata": {},
   "outputs": [
    {
     "data": {
      "text/html": [
       "<div>\n",
       "<style scoped>\n",
       "    .dataframe tbody tr th:only-of-type {\n",
       "        vertical-align: middle;\n",
       "    }\n",
       "\n",
       "    .dataframe tbody tr th {\n",
       "        vertical-align: top;\n",
       "    }\n",
       "\n",
       "    .dataframe thead th {\n",
       "        text-align: right;\n",
       "    }\n",
       "</style>\n",
       "<table border=\"1\" class=\"dataframe\">\n",
       "  <thead>\n",
       "    <tr style=\"text-align: right;\">\n",
       "      <th></th>\n",
       "      <th>subreddit</th>\n",
       "      <th>selftext</th>\n",
       "      <th>title</th>\n",
       "    </tr>\n",
       "  </thead>\n",
       "  <tbody>\n",
       "    <tr>\n",
       "      <th>0</th>\n",
       "      <td>Coffee</td>\n",
       "      <td>[hi, guy, hoping, may, able, help, question, short, version, changing, grinder, compak, ceado, r...</td>\n",
       "      <td>[compak, upgrade, dilemma]</td>\n",
       "    </tr>\n",
       "    <tr>\n",
       "      <th>1</th>\n",
       "      <td>Coffee</td>\n",
       "      <td>[hello, fellow, college, student, staying, dorm, access, stove, access, french, press, kettle, b...</td>\n",
       "      <td>[new, brewing, tip]</td>\n",
       "    </tr>\n",
       "    <tr>\n",
       "      <th>2</th>\n",
       "      <td>Coffee</td>\n",
       "      <td>[hi, getting, really, weak, taste, delonghi, machine, pretty, much, since, bought, tried, severa...</td>\n",
       "      <td>[really, weak, taste, delonghi, perfecta, deluxe, esam]</td>\n",
       "    </tr>\n",
       "    <tr>\n",
       "      <th>3</th>\n",
       "      <td>Coffee</td>\n",
       "      <td>[last, month, typed, google, best, machine, month, later, fully, dived, espresso, world, looking...</td>\n",
       "      <td>[barista, express, v, gaggia, classic]</td>\n",
       "    </tr>\n",
       "    <tr>\n",
       "      <th>4</th>\n",
       "      <td>Coffee</td>\n",
       "      <td>[]</td>\n",
       "      <td>[compak, grinder, upgrade]</td>\n",
       "    </tr>\n",
       "  </tbody>\n",
       "</table>\n",
       "</div>"
      ],
      "text/plain": [
       "  subreddit  \\\n",
       "0    Coffee   \n",
       "1    Coffee   \n",
       "2    Coffee   \n",
       "3    Coffee   \n",
       "4    Coffee   \n",
       "\n",
       "                                                                                              selftext  \\\n",
       "0  [hi, guy, hoping, may, able, help, question, short, version, changing, grinder, compak, ceado, r...   \n",
       "1  [hello, fellow, college, student, staying, dorm, access, stove, access, french, press, kettle, b...   \n",
       "2  [hi, getting, really, weak, taste, delonghi, machine, pretty, much, since, bought, tried, severa...   \n",
       "3  [last, month, typed, google, best, machine, month, later, fully, dived, espresso, world, looking...   \n",
       "4                                                                                                   []   \n",
       "\n",
       "                                                     title  \n",
       "0                               [compak, upgrade, dilemma]  \n",
       "1                                      [new, brewing, tip]  \n",
       "2  [really, weak, taste, delonghi, perfecta, deluxe, esam]  \n",
       "3                   [barista, express, v, gaggia, classic]  \n",
       "4                               [compak, grinder, upgrade]  "
      ]
     },
     "execution_count": 37,
     "metadata": {},
     "output_type": "execute_result"
    }
   ],
   "source": [
    "df_coffee.head()"
   ]
  },
  {
   "cell_type": "markdown",
   "id": "cac66c80",
   "metadata": {},
   "source": [
    "### Creating a new column"
   ]
  },
  {
   "cell_type": "code",
   "execution_count": 38,
   "id": "8cb2dbed",
   "metadata": {},
   "outputs": [],
   "source": [
    "df_tea['text'] = df_tea['selftext'] + df_tea['title']"
   ]
  },
  {
   "cell_type": "code",
   "execution_count": 39,
   "id": "61696988",
   "metadata": {},
   "outputs": [],
   "source": [
    "df_coffee['text'] = df_coffee['selftext'] + df_coffee['title']"
   ]
  },
  {
   "cell_type": "code",
   "execution_count": 40,
   "id": "9634acbb",
   "metadata": {
    "scrolled": true
   },
   "outputs": [
    {
     "data": {
      "text/html": [
       "<div>\n",
       "<style scoped>\n",
       "    .dataframe tbody tr th:only-of-type {\n",
       "        vertical-align: middle;\n",
       "    }\n",
       "\n",
       "    .dataframe tbody tr th {\n",
       "        vertical-align: top;\n",
       "    }\n",
       "\n",
       "    .dataframe thead th {\n",
       "        text-align: right;\n",
       "    }\n",
       "</style>\n",
       "<table border=\"1\" class=\"dataframe\">\n",
       "  <thead>\n",
       "    <tr style=\"text-align: right;\">\n",
       "      <th></th>\n",
       "      <th>subreddit</th>\n",
       "      <th>selftext</th>\n",
       "      <th>title</th>\n",
       "      <th>text</th>\n",
       "    </tr>\n",
       "  </thead>\n",
       "  <tbody>\n",
       "    <tr>\n",
       "      <th>0</th>\n",
       "      <td>tea</td>\n",
       "      <td>[love, especially, green, jasmine, thing, though, drink, hot, make, mouth, dry, leaf, bitter, ta...</td>\n",
       "      <td>[make, taste, refreshing]</td>\n",
       "      <td>[love, especially, green, jasmine, thing, though, drink, hot, make, mouth, dry, leaf, bitter, ta...</td>\n",
       "    </tr>\n",
       "    <tr>\n",
       "      <th>1</th>\n",
       "      <td>tea</td>\n",
       "      <td>[]</td>\n",
       "      <td>[best, strawberry, kombucha, delicious, probiotic, beverage]</td>\n",
       "      <td>[best, strawberry, kombucha, delicious, probiotic, beverage]</td>\n",
       "    </tr>\n",
       "    <tr>\n",
       "      <th>2</th>\n",
       "      <td>tea</td>\n",
       "      <td>[]</td>\n",
       "      <td>[traditional, medicinals, worth, buying]</td>\n",
       "      <td>[traditional, medicinals, worth, buying]</td>\n",
       "    </tr>\n",
       "    <tr>\n",
       "      <th>3</th>\n",
       "      <td>tea</td>\n",
       "      <td>[]</td>\n",
       "      <td>[dislike, spout, deal, breaker]</td>\n",
       "      <td>[dislike, spout, deal, breaker]</td>\n",
       "    </tr>\n",
       "    <tr>\n",
       "      <th>4</th>\n",
       "      <td>tea</td>\n",
       "      <td>[hi, recently, getting, specialty, mostly, part, due, recently, picking, book, tony, gebely, por...</td>\n",
       "      <td>[first, flush, experience]</td>\n",
       "      <td>[hi, recently, getting, specialty, mostly, part, due, recently, picking, book, tony, gebely, por...</td>\n",
       "    </tr>\n",
       "  </tbody>\n",
       "</table>\n",
       "</div>"
      ],
      "text/plain": [
       "  subreddit  \\\n",
       "0       tea   \n",
       "1       tea   \n",
       "2       tea   \n",
       "3       tea   \n",
       "4       tea   \n",
       "\n",
       "                                                                                              selftext  \\\n",
       "0  [love, especially, green, jasmine, thing, though, drink, hot, make, mouth, dry, leaf, bitter, ta...   \n",
       "1                                                                                                   []   \n",
       "2                                                                                                   []   \n",
       "3                                                                                                   []   \n",
       "4  [hi, recently, getting, specialty, mostly, part, due, recently, picking, book, tony, gebely, por...   \n",
       "\n",
       "                                                          title  \\\n",
       "0                                     [make, taste, refreshing]   \n",
       "1  [best, strawberry, kombucha, delicious, probiotic, beverage]   \n",
       "2                      [traditional, medicinals, worth, buying]   \n",
       "3                               [dislike, spout, deal, breaker]   \n",
       "4                                    [first, flush, experience]   \n",
       "\n",
       "                                                                                                  text  \n",
       "0  [love, especially, green, jasmine, thing, though, drink, hot, make, mouth, dry, leaf, bitter, ta...  \n",
       "1                                         [best, strawberry, kombucha, delicious, probiotic, beverage]  \n",
       "2                                                             [traditional, medicinals, worth, buying]  \n",
       "3                                                                      [dislike, spout, deal, breaker]  \n",
       "4  [hi, recently, getting, specialty, mostly, part, due, recently, picking, book, tony, gebely, por...  "
      ]
     },
     "execution_count": 40,
     "metadata": {},
     "output_type": "execute_result"
    }
   ],
   "source": [
    "df_tea.head()"
   ]
  },
  {
   "cell_type": "code",
   "execution_count": 41,
   "id": "bd56a21e",
   "metadata": {},
   "outputs": [
    {
     "data": {
      "text/html": [
       "<div>\n",
       "<style scoped>\n",
       "    .dataframe tbody tr th:only-of-type {\n",
       "        vertical-align: middle;\n",
       "    }\n",
       "\n",
       "    .dataframe tbody tr th {\n",
       "        vertical-align: top;\n",
       "    }\n",
       "\n",
       "    .dataframe thead th {\n",
       "        text-align: right;\n",
       "    }\n",
       "</style>\n",
       "<table border=\"1\" class=\"dataframe\">\n",
       "  <thead>\n",
       "    <tr style=\"text-align: right;\">\n",
       "      <th></th>\n",
       "      <th>subreddit</th>\n",
       "      <th>selftext</th>\n",
       "      <th>title</th>\n",
       "      <th>text</th>\n",
       "    </tr>\n",
       "  </thead>\n",
       "  <tbody>\n",
       "    <tr>\n",
       "      <th>0</th>\n",
       "      <td>Coffee</td>\n",
       "      <td>[hi, guy, hoping, may, able, help, question, short, version, changing, grinder, compak, ceado, r...</td>\n",
       "      <td>[compak, upgrade, dilemma]</td>\n",
       "      <td>[hi, guy, hoping, may, able, help, question, short, version, changing, grinder, compak, ceado, r...</td>\n",
       "    </tr>\n",
       "    <tr>\n",
       "      <th>1</th>\n",
       "      <td>Coffee</td>\n",
       "      <td>[hello, fellow, college, student, staying, dorm, access, stove, access, french, press, kettle, b...</td>\n",
       "      <td>[new, brewing, tip]</td>\n",
       "      <td>[hello, fellow, college, student, staying, dorm, access, stove, access, french, press, kettle, b...</td>\n",
       "    </tr>\n",
       "    <tr>\n",
       "      <th>2</th>\n",
       "      <td>Coffee</td>\n",
       "      <td>[hi, getting, really, weak, taste, delonghi, machine, pretty, much, since, bought, tried, severa...</td>\n",
       "      <td>[really, weak, taste, delonghi, perfecta, deluxe, esam]</td>\n",
       "      <td>[hi, getting, really, weak, taste, delonghi, machine, pretty, much, since, bought, tried, severa...</td>\n",
       "    </tr>\n",
       "    <tr>\n",
       "      <th>3</th>\n",
       "      <td>Coffee</td>\n",
       "      <td>[last, month, typed, google, best, machine, month, later, fully, dived, espresso, world, looking...</td>\n",
       "      <td>[barista, express, v, gaggia, classic]</td>\n",
       "      <td>[last, month, typed, google, best, machine, month, later, fully, dived, espresso, world, looking...</td>\n",
       "    </tr>\n",
       "    <tr>\n",
       "      <th>4</th>\n",
       "      <td>Coffee</td>\n",
       "      <td>[]</td>\n",
       "      <td>[compak, grinder, upgrade]</td>\n",
       "      <td>[compak, grinder, upgrade]</td>\n",
       "    </tr>\n",
       "  </tbody>\n",
       "</table>\n",
       "</div>"
      ],
      "text/plain": [
       "  subreddit  \\\n",
       "0    Coffee   \n",
       "1    Coffee   \n",
       "2    Coffee   \n",
       "3    Coffee   \n",
       "4    Coffee   \n",
       "\n",
       "                                                                                              selftext  \\\n",
       "0  [hi, guy, hoping, may, able, help, question, short, version, changing, grinder, compak, ceado, r...   \n",
       "1  [hello, fellow, college, student, staying, dorm, access, stove, access, french, press, kettle, b...   \n",
       "2  [hi, getting, really, weak, taste, delonghi, machine, pretty, much, since, bought, tried, severa...   \n",
       "3  [last, month, typed, google, best, machine, month, later, fully, dived, espresso, world, looking...   \n",
       "4                                                                                                   []   \n",
       "\n",
       "                                                     title  \\\n",
       "0                               [compak, upgrade, dilemma]   \n",
       "1                                      [new, brewing, tip]   \n",
       "2  [really, weak, taste, delonghi, perfecta, deluxe, esam]   \n",
       "3                   [barista, express, v, gaggia, classic]   \n",
       "4                               [compak, grinder, upgrade]   \n",
       "\n",
       "                                                                                                  text  \n",
       "0  [hi, guy, hoping, may, able, help, question, short, version, changing, grinder, compak, ceado, r...  \n",
       "1  [hello, fellow, college, student, staying, dorm, access, stove, access, french, press, kettle, b...  \n",
       "2  [hi, getting, really, weak, taste, delonghi, machine, pretty, much, since, bought, tried, severa...  \n",
       "3  [last, month, typed, google, best, machine, month, later, fully, dived, espresso, world, looking...  \n",
       "4                                                                           [compak, grinder, upgrade]  "
      ]
     },
     "execution_count": 41,
     "metadata": {},
     "output_type": "execute_result"
    }
   ],
   "source": [
    "df_coffee.head()"
   ]
  },
  {
   "cell_type": "markdown",
   "id": "405a6271",
   "metadata": {},
   "source": [
    "### Dropping duplicates"
   ]
  },
  {
   "cell_type": "code",
   "execution_count": 42,
   "id": "ac90de46",
   "metadata": {},
   "outputs": [
    {
     "name": "stdout",
     "output_type": "stream",
     "text": [
      "(1993, 4)\n",
      "(2000, 4)\n",
      "(1993, 5)\n",
      "(2000, 5)\n"
     ]
    }
   ],
   "source": [
    "# To check and remove any duplicates for both datasets\n",
    "\n",
    "# Before\n",
    "print(df_tea.shape)\n",
    "print(df_coffee.shape)\n",
    "\n",
    "# Since lists are unhashable, need to convert it to something hashable like a tuple to use it to drop duplicate rows\n",
    "df_tea[\"text_tuple\"] = df_tea['text'].apply(lambda x: tuple(x))\n",
    "df_coffee[\"text_tuple\"] = df_coffee['text'].apply(lambda x: tuple(x))\n",
    "\n",
    "# Dropping any duplicate rows\n",
    "df_tea.drop_duplicates(subset='text_tuple', keep='first')\n",
    "df_coffee.drop_duplicates(subset='text_tuple', keep='first')\n",
    "\n",
    "# After\n",
    "print(df_tea.shape)\n",
    "print(df_coffee.shape)\n",
    "\n",
    "# Observed that there are no duplicate posts"
   ]
  },
  {
   "cell_type": "code",
   "execution_count": 43,
   "id": "e2c780a8",
   "metadata": {},
   "outputs": [],
   "source": [
    "# Creating new column to show number of words in submissions\n",
    "df_tea['text_length'] = df_tea['text'].str.len()\n",
    "df_coffee['text_length'] = df_coffee['text'].str.len()"
   ]
  },
  {
   "cell_type": "code",
   "execution_count": 44,
   "id": "553bd7d6",
   "metadata": {
    "scrolled": true
   },
   "outputs": [
    {
     "data": {
      "text/html": [
       "<div>\n",
       "<style scoped>\n",
       "    .dataframe tbody tr th:only-of-type {\n",
       "        vertical-align: middle;\n",
       "    }\n",
       "\n",
       "    .dataframe tbody tr th {\n",
       "        vertical-align: top;\n",
       "    }\n",
       "\n",
       "    .dataframe thead th {\n",
       "        text-align: right;\n",
       "    }\n",
       "</style>\n",
       "<table border=\"1\" class=\"dataframe\">\n",
       "  <thead>\n",
       "    <tr style=\"text-align: right;\">\n",
       "      <th></th>\n",
       "      <th>subreddit</th>\n",
       "      <th>selftext</th>\n",
       "      <th>title</th>\n",
       "      <th>text</th>\n",
       "      <th>text_tuple</th>\n",
       "      <th>text_length</th>\n",
       "    </tr>\n",
       "  </thead>\n",
       "  <tbody>\n",
       "    <tr>\n",
       "      <th>0</th>\n",
       "      <td>tea</td>\n",
       "      <td>[love, especially, green, jasmine, thing, though, drink, hot, make, mouth, dry, leaf, bitter, ta...</td>\n",
       "      <td>[make, taste, refreshing]</td>\n",
       "      <td>[love, especially, green, jasmine, thing, though, drink, hot, make, mouth, dry, leaf, bitter, ta...</td>\n",
       "      <td>(love, especially, green, jasmine, thing, though, drink, hot, make, mouth, dry, leaf, bitter, ta...</td>\n",
       "      <td>19</td>\n",
       "    </tr>\n",
       "    <tr>\n",
       "      <th>1</th>\n",
       "      <td>tea</td>\n",
       "      <td>[]</td>\n",
       "      <td>[best, strawberry, kombucha, delicious, probiotic, beverage]</td>\n",
       "      <td>[best, strawberry, kombucha, delicious, probiotic, beverage]</td>\n",
       "      <td>(best, strawberry, kombucha, delicious, probiotic, beverage)</td>\n",
       "      <td>6</td>\n",
       "    </tr>\n",
       "    <tr>\n",
       "      <th>2</th>\n",
       "      <td>tea</td>\n",
       "      <td>[]</td>\n",
       "      <td>[traditional, medicinals, worth, buying]</td>\n",
       "      <td>[traditional, medicinals, worth, buying]</td>\n",
       "      <td>(traditional, medicinals, worth, buying)</td>\n",
       "      <td>4</td>\n",
       "    </tr>\n",
       "    <tr>\n",
       "      <th>3</th>\n",
       "      <td>tea</td>\n",
       "      <td>[]</td>\n",
       "      <td>[dislike, spout, deal, breaker]</td>\n",
       "      <td>[dislike, spout, deal, breaker]</td>\n",
       "      <td>(dislike, spout, deal, breaker)</td>\n",
       "      <td>4</td>\n",
       "    </tr>\n",
       "    <tr>\n",
       "      <th>4</th>\n",
       "      <td>tea</td>\n",
       "      <td>[hi, recently, getting, specialty, mostly, part, due, recently, picking, book, tony, gebely, por...</td>\n",
       "      <td>[first, flush, experience]</td>\n",
       "      <td>[hi, recently, getting, specialty, mostly, part, due, recently, picking, book, tony, gebely, por...</td>\n",
       "      <td>(hi, recently, getting, specialty, mostly, part, due, recently, picking, book, tony, gebely, por...</td>\n",
       "      <td>40</td>\n",
       "    </tr>\n",
       "  </tbody>\n",
       "</table>\n",
       "</div>"
      ],
      "text/plain": [
       "  subreddit  \\\n",
       "0       tea   \n",
       "1       tea   \n",
       "2       tea   \n",
       "3       tea   \n",
       "4       tea   \n",
       "\n",
       "                                                                                              selftext  \\\n",
       "0  [love, especially, green, jasmine, thing, though, drink, hot, make, mouth, dry, leaf, bitter, ta...   \n",
       "1                                                                                                   []   \n",
       "2                                                                                                   []   \n",
       "3                                                                                                   []   \n",
       "4  [hi, recently, getting, specialty, mostly, part, due, recently, picking, book, tony, gebely, por...   \n",
       "\n",
       "                                                          title  \\\n",
       "0                                     [make, taste, refreshing]   \n",
       "1  [best, strawberry, kombucha, delicious, probiotic, beverage]   \n",
       "2                      [traditional, medicinals, worth, buying]   \n",
       "3                               [dislike, spout, deal, breaker]   \n",
       "4                                    [first, flush, experience]   \n",
       "\n",
       "                                                                                                  text  \\\n",
       "0  [love, especially, green, jasmine, thing, though, drink, hot, make, mouth, dry, leaf, bitter, ta...   \n",
       "1                                         [best, strawberry, kombucha, delicious, probiotic, beverage]   \n",
       "2                                                             [traditional, medicinals, worth, buying]   \n",
       "3                                                                      [dislike, spout, deal, breaker]   \n",
       "4  [hi, recently, getting, specialty, mostly, part, due, recently, picking, book, tony, gebely, por...   \n",
       "\n",
       "                                                                                            text_tuple  \\\n",
       "0  (love, especially, green, jasmine, thing, though, drink, hot, make, mouth, dry, leaf, bitter, ta...   \n",
       "1                                         (best, strawberry, kombucha, delicious, probiotic, beverage)   \n",
       "2                                                             (traditional, medicinals, worth, buying)   \n",
       "3                                                                      (dislike, spout, deal, breaker)   \n",
       "4  (hi, recently, getting, specialty, mostly, part, due, recently, picking, book, tony, gebely, por...   \n",
       "\n",
       "   text_length  \n",
       "0           19  \n",
       "1            6  \n",
       "2            4  \n",
       "3            4  \n",
       "4           40  "
      ]
     },
     "execution_count": 44,
     "metadata": {},
     "output_type": "execute_result"
    }
   ],
   "source": [
    "# Ensuring that the creation of the dataset columns are done right\n",
    "df_tea.head()"
   ]
  },
  {
   "cell_type": "code",
   "execution_count": 45,
   "id": "94f49a37",
   "metadata": {
    "scrolled": true
   },
   "outputs": [
    {
     "data": {
      "text/html": [
       "<div>\n",
       "<style scoped>\n",
       "    .dataframe tbody tr th:only-of-type {\n",
       "        vertical-align: middle;\n",
       "    }\n",
       "\n",
       "    .dataframe tbody tr th {\n",
       "        vertical-align: top;\n",
       "    }\n",
       "\n",
       "    .dataframe thead th {\n",
       "        text-align: right;\n",
       "    }\n",
       "</style>\n",
       "<table border=\"1\" class=\"dataframe\">\n",
       "  <thead>\n",
       "    <tr style=\"text-align: right;\">\n",
       "      <th></th>\n",
       "      <th>subreddit</th>\n",
       "      <th>selftext</th>\n",
       "      <th>title</th>\n",
       "      <th>text</th>\n",
       "      <th>text_tuple</th>\n",
       "      <th>text_length</th>\n",
       "    </tr>\n",
       "  </thead>\n",
       "  <tbody>\n",
       "    <tr>\n",
       "      <th>0</th>\n",
       "      <td>Coffee</td>\n",
       "      <td>[hi, guy, hoping, may, able, help, question, short, version, changing, grinder, compak, ceado, r...</td>\n",
       "      <td>[compak, upgrade, dilemma]</td>\n",
       "      <td>[hi, guy, hoping, may, able, help, question, short, version, changing, grinder, compak, ceado, r...</td>\n",
       "      <td>(hi, guy, hoping, may, able, help, question, short, version, changing, grinder, compak, ceado, r...</td>\n",
       "      <td>138</td>\n",
       "    </tr>\n",
       "    <tr>\n",
       "      <th>1</th>\n",
       "      <td>Coffee</td>\n",
       "      <td>[hello, fellow, college, student, staying, dorm, access, stove, access, french, press, kettle, b...</td>\n",
       "      <td>[new, brewing, tip]</td>\n",
       "      <td>[hello, fellow, college, student, staying, dorm, access, stove, access, french, press, kettle, b...</td>\n",
       "      <td>(hello, fellow, college, student, staying, dorm, access, stove, access, french, press, kettle, b...</td>\n",
       "      <td>29</td>\n",
       "    </tr>\n",
       "    <tr>\n",
       "      <th>2</th>\n",
       "      <td>Coffee</td>\n",
       "      <td>[hi, getting, really, weak, taste, delonghi, machine, pretty, much, since, bought, tried, severa...</td>\n",
       "      <td>[really, weak, taste, delonghi, perfecta, deluxe, esam]</td>\n",
       "      <td>[hi, getting, really, weak, taste, delonghi, machine, pretty, much, since, bought, tried, severa...</td>\n",
       "      <td>(hi, getting, really, weak, taste, delonghi, machine, pretty, much, since, bought, tried, severa...</td>\n",
       "      <td>67</td>\n",
       "    </tr>\n",
       "    <tr>\n",
       "      <th>3</th>\n",
       "      <td>Coffee</td>\n",
       "      <td>[last, month, typed, google, best, machine, month, later, fully, dived, espresso, world, looking...</td>\n",
       "      <td>[barista, express, v, gaggia, classic]</td>\n",
       "      <td>[last, month, typed, google, best, machine, month, later, fully, dived, espresso, world, looking...</td>\n",
       "      <td>(last, month, typed, google, best, machine, month, later, fully, dived, espresso, world, looking...</td>\n",
       "      <td>144</td>\n",
       "    </tr>\n",
       "    <tr>\n",
       "      <th>4</th>\n",
       "      <td>Coffee</td>\n",
       "      <td>[]</td>\n",
       "      <td>[compak, grinder, upgrade]</td>\n",
       "      <td>[compak, grinder, upgrade]</td>\n",
       "      <td>(compak, grinder, upgrade)</td>\n",
       "      <td>3</td>\n",
       "    </tr>\n",
       "  </tbody>\n",
       "</table>\n",
       "</div>"
      ],
      "text/plain": [
       "  subreddit  \\\n",
       "0    Coffee   \n",
       "1    Coffee   \n",
       "2    Coffee   \n",
       "3    Coffee   \n",
       "4    Coffee   \n",
       "\n",
       "                                                                                              selftext  \\\n",
       "0  [hi, guy, hoping, may, able, help, question, short, version, changing, grinder, compak, ceado, r...   \n",
       "1  [hello, fellow, college, student, staying, dorm, access, stove, access, french, press, kettle, b...   \n",
       "2  [hi, getting, really, weak, taste, delonghi, machine, pretty, much, since, bought, tried, severa...   \n",
       "3  [last, month, typed, google, best, machine, month, later, fully, dived, espresso, world, looking...   \n",
       "4                                                                                                   []   \n",
       "\n",
       "                                                     title  \\\n",
       "0                               [compak, upgrade, dilemma]   \n",
       "1                                      [new, brewing, tip]   \n",
       "2  [really, weak, taste, delonghi, perfecta, deluxe, esam]   \n",
       "3                   [barista, express, v, gaggia, classic]   \n",
       "4                               [compak, grinder, upgrade]   \n",
       "\n",
       "                                                                                                  text  \\\n",
       "0  [hi, guy, hoping, may, able, help, question, short, version, changing, grinder, compak, ceado, r...   \n",
       "1  [hello, fellow, college, student, staying, dorm, access, stove, access, french, press, kettle, b...   \n",
       "2  [hi, getting, really, weak, taste, delonghi, machine, pretty, much, since, bought, tried, severa...   \n",
       "3  [last, month, typed, google, best, machine, month, later, fully, dived, espresso, world, looking...   \n",
       "4                                                                           [compak, grinder, upgrade]   \n",
       "\n",
       "                                                                                            text_tuple  \\\n",
       "0  (hi, guy, hoping, may, able, help, question, short, version, changing, grinder, compak, ceado, r...   \n",
       "1  (hello, fellow, college, student, staying, dorm, access, stove, access, french, press, kettle, b...   \n",
       "2  (hi, getting, really, weak, taste, delonghi, machine, pretty, much, since, bought, tried, severa...   \n",
       "3  (last, month, typed, google, best, machine, month, later, fully, dived, espresso, world, looking...   \n",
       "4                                                                           (compak, grinder, upgrade)   \n",
       "\n",
       "   text_length  \n",
       "0          138  \n",
       "1           29  \n",
       "2           67  \n",
       "3          144  \n",
       "4            3  "
      ]
     },
     "execution_count": 45,
     "metadata": {},
     "output_type": "execute_result"
    }
   ],
   "source": [
    "# Ensuring that the creation of the dataset columns are done right\n",
    "df_coffee.head()"
   ]
  },
  {
   "cell_type": "markdown",
   "id": "64ccd2d8",
   "metadata": {},
   "source": [
    "### Dropping Empty Lists (after removing stop words)"
   ]
  },
  {
   "cell_type": "code",
   "execution_count": 46,
   "id": "81c3b86f",
   "metadata": {},
   "outputs": [],
   "source": [
    "# Looking at rows with text_length 0\n",
    "df_tea_0 = df_tea.loc[df_tea['text_length'] == 0,:]"
   ]
  },
  {
   "cell_type": "code",
   "execution_count": 47,
   "id": "707e5d5d",
   "metadata": {},
   "outputs": [
    {
     "data": {
      "text/plain": [
       "19"
      ]
     },
     "execution_count": 47,
     "metadata": {},
     "output_type": "execute_result"
    }
   ],
   "source": [
    "df_tea_0.shape[0]"
   ]
  },
  {
   "cell_type": "code",
   "execution_count": 48,
   "id": "79bb748f",
   "metadata": {},
   "outputs": [],
   "source": [
    "df_coffee_0 = df_coffee.loc[df_coffee['text_length'] == 0,:]"
   ]
  },
  {
   "cell_type": "code",
   "execution_count": 49,
   "id": "8774dd1e",
   "metadata": {},
   "outputs": [
    {
     "data": {
      "text/plain": [
       "9"
      ]
     },
     "execution_count": 49,
     "metadata": {},
     "output_type": "execute_result"
    }
   ],
   "source": [
    "df_coffee_0.shape[0]"
   ]
  },
  {
   "cell_type": "code",
   "execution_count": 50,
   "id": "479df96f",
   "metadata": {},
   "outputs": [],
   "source": [
    "# Dropping rows with 0 words in both submissions\n",
    "df_tea = df_tea.loc[df_tea['text_length'] != 0, :]\n",
    "df_coffee = df_coffee.loc[df_coffee['text_length'] != 0, :]"
   ]
  },
  {
   "cell_type": "code",
   "execution_count": 51,
   "id": "647dc482",
   "metadata": {},
   "outputs": [
    {
     "name": "stdout",
     "output_type": "stream",
     "text": [
      "(1974, 6)\n",
      "(1991, 6)\n"
     ]
    }
   ],
   "source": [
    "print(df_tea.shape)\n",
    "print(df_coffee.shape)"
   ]
  },
  {
   "cell_type": "markdown",
   "id": "0170cd0b",
   "metadata": {},
   "source": [
    "# Exploratory Data Analysis"
   ]
  },
  {
   "cell_type": "markdown",
   "id": "816fdfee",
   "metadata": {},
   "source": [
    "### EDA on Cleaned Submission Lengths"
   ]
  },
  {
   "cell_type": "code",
   "execution_count": 52,
   "id": "c3cc2ab7",
   "metadata": {},
   "outputs": [
    {
     "data": {
      "text/plain": [
       "count    1974.000000\n",
       "mean       18.446302\n",
       "std        37.712250\n",
       "min         1.000000\n",
       "25%         4.000000\n",
       "50%         8.000000\n",
       "75%        22.000000\n",
       "max       921.000000\n",
       "Name: text_length, dtype: float64"
      ]
     },
     "execution_count": 52,
     "metadata": {},
     "output_type": "execute_result"
    }
   ],
   "source": [
    "df_tea['text_length'].describe()"
   ]
  },
  {
   "cell_type": "code",
   "execution_count": 53,
   "id": "22ce0dfd",
   "metadata": {},
   "outputs": [
    {
     "data": {
      "text/plain": [
       "count    1991.000000\n",
       "mean       31.298343\n",
       "std        34.813334\n",
       "min         1.000000\n",
       "25%         6.000000\n",
       "50%        22.000000\n",
       "75%        44.000000\n",
       "max       339.000000\n",
       "Name: text_length, dtype: float64"
      ]
     },
     "execution_count": 53,
     "metadata": {},
     "output_type": "execute_result"
    }
   ],
   "source": [
    "df_coffee['text_length'].describe()"
   ]
  },
  {
   "cell_type": "code",
   "execution_count": 54,
   "id": "c9cf51d5",
   "metadata": {},
   "outputs": [
    {
     "name": "stderr",
     "output_type": "stream",
     "text": [
      "C:\\Users\\Joel\\anaconda3\\lib\\site-packages\\seaborn\\distributions.py:2619: FutureWarning: `distplot` is a deprecated function and will be removed in a future version. Please adapt your code to use either `displot` (a figure-level function with similar flexibility) or `histplot` (an axes-level function for histograms).\n",
      "  warnings.warn(msg, FutureWarning)\n"
     ]
    },
    {
     "data": {
      "image/png": "[encoded data removed]",
      "text/plain": [
       "<Figure size 1152x576 with 1 Axes>"
      ]
     },
     "metadata": {
      "needs_background": "light"
     },
     "output_type": "display_data"
    }
   ],
   "source": [
    "# Having the 2 graphs overlay\n",
    "bins = [0,25,50,75,100,125,150,175,200,225,250]\n",
    "fig, ax = plt.subplots(sharex=True, figsize = (16,8))\n",
    "sns.distplot(df_coffee['text_length'], ax=ax, color = 'Red', kde = False, label = 'r/coffee', hist_kws=dict(edgecolor=\"k\", linewidth=2), bins = bins)\n",
    "sns.distplot(df_tea['text_length'], ax=ax, color = 'Green', kde = False, label = 'r/tea', hist_kws=dict(edgecolor=\"k\", linewidth=2), bins = bins)\n",
    "plt.title('Word count of submissions from r/coffee and r/tea')\n",
    "plt.xlabel('Word Count')\n",
    "plt.ylabel('Frequency')\n",
    "plt.legend()\n",
    "plt.xlim(0,200);"
   ]
  },
  {
   "cell_type": "markdown",
   "id": "1175fba0",
   "metadata": {},
   "source": [
    "##### On average, pro-choice submissions have more words than pro-life submissions. For both subreddits, the word count distributions have very strong right skew, as seen from how the median is much closer to the 25th percentile than the 75th percentile and the median being lower than the mean.\n",
    "\n",
    "##### This gives us an idea of the type of submissions are common in these 2 subreddits. Given the high frequency of submissions with low word counts, it can be said that there are many submissions that are accompanied with visual data such as images or videos. As such, analysis and techniques tuned towards visual data can be employed as an alternative for NLP. This is especially the case for the coffee subreddit."
   ]
  },
  {
   "cell_type": "markdown",
   "id": "95e8d5e4",
   "metadata": {},
   "source": [
    "### EDA on Popular Words in Each Subreddit"
   ]
  },
  {
   "cell_type": "code",
   "execution_count": 55,
   "id": "48dcae29",
   "metadata": {},
   "outputs": [],
   "source": [
    "def list_to_str(list_):\n",
    "    string = \"\" \n",
    "    string = ' '.join(list_)\n",
    "    return string"
   ]
  },
  {
   "cell_type": "code",
   "execution_count": 56,
   "id": "1662b4da",
   "metadata": {},
   "outputs": [],
   "source": [
    "df_tea['text']= df_tea['text'].apply(list_to_str)\n",
    "df_coffee['text']= df_coffee['text'].apply(list_to_str)"
   ]
  },
  {
   "cell_type": "code",
   "execution_count": 57,
   "id": "ac40c8d2",
   "metadata": {},
   "outputs": [
    {
     "data": {
      "text/html": [
       "<div>\n",
       "<style scoped>\n",
       "    .dataframe tbody tr th:only-of-type {\n",
       "        vertical-align: middle;\n",
       "    }\n",
       "\n",
       "    .dataframe tbody tr th {\n",
       "        vertical-align: top;\n",
       "    }\n",
       "\n",
       "    .dataframe thead th {\n",
       "        text-align: right;\n",
       "    }\n",
       "</style>\n",
       "<table border=\"1\" class=\"dataframe\">\n",
       "  <thead>\n",
       "    <tr style=\"text-align: right;\">\n",
       "      <th></th>\n",
       "      <th>subreddit</th>\n",
       "      <th>selftext</th>\n",
       "      <th>title</th>\n",
       "      <th>text</th>\n",
       "      <th>text_tuple</th>\n",
       "      <th>text_length</th>\n",
       "    </tr>\n",
       "  </thead>\n",
       "  <tbody>\n",
       "    <tr>\n",
       "      <th>0</th>\n",
       "      <td>tea</td>\n",
       "      <td>[love, especially, green, jasmine, thing, though, drink, hot, make, mouth, dry, leaf, bitter, ta...</td>\n",
       "      <td>[make, taste, refreshing]</td>\n",
       "      <td>love especially green jasmine thing though drink hot make mouth dry leaf bitter taste something ...</td>\n",
       "      <td>(love, especially, green, jasmine, thing, though, drink, hot, make, mouth, dry, leaf, bitter, ta...</td>\n",
       "      <td>19</td>\n",
       "    </tr>\n",
       "    <tr>\n",
       "      <th>1</th>\n",
       "      <td>tea</td>\n",
       "      <td>[]</td>\n",
       "      <td>[best, strawberry, kombucha, delicious, probiotic, beverage]</td>\n",
       "      <td>best strawberry kombucha delicious probiotic beverage</td>\n",
       "      <td>(best, strawberry, kombucha, delicious, probiotic, beverage)</td>\n",
       "      <td>6</td>\n",
       "    </tr>\n",
       "    <tr>\n",
       "      <th>2</th>\n",
       "      <td>tea</td>\n",
       "      <td>[]</td>\n",
       "      <td>[traditional, medicinals, worth, buying]</td>\n",
       "      <td>traditional medicinals worth buying</td>\n",
       "      <td>(traditional, medicinals, worth, buying)</td>\n",
       "      <td>4</td>\n",
       "    </tr>\n",
       "    <tr>\n",
       "      <th>3</th>\n",
       "      <td>tea</td>\n",
       "      <td>[]</td>\n",
       "      <td>[dislike, spout, deal, breaker]</td>\n",
       "      <td>dislike spout deal breaker</td>\n",
       "      <td>(dislike, spout, deal, breaker)</td>\n",
       "      <td>4</td>\n",
       "    </tr>\n",
       "    <tr>\n",
       "      <th>4</th>\n",
       "      <td>tea</td>\n",
       "      <td>[hi, recently, getting, specialty, mostly, part, due, recently, picking, book, tony, gebely, por...</td>\n",
       "      <td>[first, flush, experience]</td>\n",
       "      <td>hi recently getting specialty mostly part due recently picking book tony gebely portion describi...</td>\n",
       "      <td>(hi, recently, getting, specialty, mostly, part, due, recently, picking, book, tony, gebely, por...</td>\n",
       "      <td>40</td>\n",
       "    </tr>\n",
       "  </tbody>\n",
       "</table>\n",
       "</div>"
      ],
      "text/plain": [
       "  subreddit  \\\n",
       "0       tea   \n",
       "1       tea   \n",
       "2       tea   \n",
       "3       tea   \n",
       "4       tea   \n",
       "\n",
       "                                                                                              selftext  \\\n",
       "0  [love, especially, green, jasmine, thing, though, drink, hot, make, mouth, dry, leaf, bitter, ta...   \n",
       "1                                                                                                   []   \n",
       "2                                                                                                   []   \n",
       "3                                                                                                   []   \n",
       "4  [hi, recently, getting, specialty, mostly, part, due, recently, picking, book, tony, gebely, por...   \n",
       "\n",
       "                                                          title  \\\n",
       "0                                     [make, taste, refreshing]   \n",
       "1  [best, strawberry, kombucha, delicious, probiotic, beverage]   \n",
       "2                      [traditional, medicinals, worth, buying]   \n",
       "3                               [dislike, spout, deal, breaker]   \n",
       "4                                    [first, flush, experience]   \n",
       "\n",
       "                                                                                                  text  \\\n",
       "0  love especially green jasmine thing though drink hot make mouth dry leaf bitter taste something ...   \n",
       "1                                                best strawberry kombucha delicious probiotic beverage   \n",
       "2                                                                  traditional medicinals worth buying   \n",
       "3                                                                           dislike spout deal breaker   \n",
       "4  hi recently getting specialty mostly part due recently picking book tony gebely portion describi...   \n",
       "\n",
       "                                                                                            text_tuple  \\\n",
       "0  (love, especially, green, jasmine, thing, though, drink, hot, make, mouth, dry, leaf, bitter, ta...   \n",
       "1                                         (best, strawberry, kombucha, delicious, probiotic, beverage)   \n",
       "2                                                             (traditional, medicinals, worth, buying)   \n",
       "3                                                                      (dislike, spout, deal, breaker)   \n",
       "4  (hi, recently, getting, specialty, mostly, part, due, recently, picking, book, tony, gebely, por...   \n",
       "\n",
       "   text_length  \n",
       "0           19  \n",
       "1            6  \n",
       "2            4  \n",
       "3            4  \n",
       "4           40  "
      ]
     },
     "execution_count": 57,
     "metadata": {},
     "output_type": "execute_result"
    }
   ],
   "source": [
    "df_tea.head()"
   ]
  },
  {
   "cell_type": "code",
   "execution_count": 58,
   "id": "567987e0",
   "metadata": {},
   "outputs": [
    {
     "data": {
      "text/html": [
       "<div>\n",
       "<style scoped>\n",
       "    .dataframe tbody tr th:only-of-type {\n",
       "        vertical-align: middle;\n",
       "    }\n",
       "\n",
       "    .dataframe tbody tr th {\n",
       "        vertical-align: top;\n",
       "    }\n",
       "\n",
       "    .dataframe thead th {\n",
       "        text-align: right;\n",
       "    }\n",
       "</style>\n",
       "<table border=\"1\" class=\"dataframe\">\n",
       "  <thead>\n",
       "    <tr style=\"text-align: right;\">\n",
       "      <th></th>\n",
       "      <th>subreddit</th>\n",
       "      <th>selftext</th>\n",
       "      <th>title</th>\n",
       "      <th>text</th>\n",
       "      <th>text_tuple</th>\n",
       "      <th>text_length</th>\n",
       "    </tr>\n",
       "  </thead>\n",
       "  <tbody>\n",
       "    <tr>\n",
       "      <th>0</th>\n",
       "      <td>Coffee</td>\n",
       "      <td>[hi, guy, hoping, may, able, help, question, short, version, changing, grinder, compak, ceado, r...</td>\n",
       "      <td>[compak, upgrade, dilemma]</td>\n",
       "      <td>hi guy hoping may able help question short version changing grinder compak ceado result better e...</td>\n",
       "      <td>(hi, guy, hoping, may, able, help, question, short, version, changing, grinder, compak, ceado, r...</td>\n",
       "      <td>138</td>\n",
       "    </tr>\n",
       "    <tr>\n",
       "      <th>1</th>\n",
       "      <td>Coffee</td>\n",
       "      <td>[hello, fellow, college, student, staying, dorm, access, stove, access, french, press, kettle, b...</td>\n",
       "      <td>[new, brewing, tip]</td>\n",
       "      <td>hello fellow college student staying dorm access stove access french press kettle brewing filter...</td>\n",
       "      <td>(hello, fellow, college, student, staying, dorm, access, stove, access, french, press, kettle, b...</td>\n",
       "      <td>29</td>\n",
       "    </tr>\n",
       "    <tr>\n",
       "      <th>2</th>\n",
       "      <td>Coffee</td>\n",
       "      <td>[hi, getting, really, weak, taste, delonghi, machine, pretty, much, since, bought, tried, severa...</td>\n",
       "      <td>[really, weak, taste, delonghi, perfecta, deluxe, esam]</td>\n",
       "      <td>hi getting really weak taste delonghi machine pretty much since bought tried several different t...</td>\n",
       "      <td>(hi, getting, really, weak, taste, delonghi, machine, pretty, much, since, bought, tried, severa...</td>\n",
       "      <td>67</td>\n",
       "    </tr>\n",
       "    <tr>\n",
       "      <th>3</th>\n",
       "      <td>Coffee</td>\n",
       "      <td>[last, month, typed, google, best, machine, month, later, fully, dived, espresso, world, looking...</td>\n",
       "      <td>[barista, express, v, gaggia, classic]</td>\n",
       "      <td>last month typed google best machine month later fully dived espresso world looking sort machine...</td>\n",
       "      <td>(last, month, typed, google, best, machine, month, later, fully, dived, espresso, world, looking...</td>\n",
       "      <td>144</td>\n",
       "    </tr>\n",
       "    <tr>\n",
       "      <th>4</th>\n",
       "      <td>Coffee</td>\n",
       "      <td>[]</td>\n",
       "      <td>[compak, grinder, upgrade]</td>\n",
       "      <td>compak grinder upgrade</td>\n",
       "      <td>(compak, grinder, upgrade)</td>\n",
       "      <td>3</td>\n",
       "    </tr>\n",
       "  </tbody>\n",
       "</table>\n",
       "</div>"
      ],
      "text/plain": [
       "  subreddit  \\\n",
       "0    Coffee   \n",
       "1    Coffee   \n",
       "2    Coffee   \n",
       "3    Coffee   \n",
       "4    Coffee   \n",
       "\n",
       "                                                                                              selftext  \\\n",
       "0  [hi, guy, hoping, may, able, help, question, short, version, changing, grinder, compak, ceado, r...   \n",
       "1  [hello, fellow, college, student, staying, dorm, access, stove, access, french, press, kettle, b...   \n",
       "2  [hi, getting, really, weak, taste, delonghi, machine, pretty, much, since, bought, tried, severa...   \n",
       "3  [last, month, typed, google, best, machine, month, later, fully, dived, espresso, world, looking...   \n",
       "4                                                                                                   []   \n",
       "\n",
       "                                                     title  \\\n",
       "0                               [compak, upgrade, dilemma]   \n",
       "1                                      [new, brewing, tip]   \n",
       "2  [really, weak, taste, delonghi, perfecta, deluxe, esam]   \n",
       "3                   [barista, express, v, gaggia, classic]   \n",
       "4                               [compak, grinder, upgrade]   \n",
       "\n",
       "                                                                                                  text  \\\n",
       "0  hi guy hoping may able help question short version changing grinder compak ceado result better e...   \n",
       "1  hello fellow college student staying dorm access stove access french press kettle brewing filter...   \n",
       "2  hi getting really weak taste delonghi machine pretty much since bought tried several different t...   \n",
       "3  last month typed google best machine month later fully dived espresso world looking sort machine...   \n",
       "4                                                                               compak grinder upgrade   \n",
       "\n",
       "                                                                                            text_tuple  \\\n",
       "0  (hi, guy, hoping, may, able, help, question, short, version, changing, grinder, compak, ceado, r...   \n",
       "1  (hello, fellow, college, student, staying, dorm, access, stove, access, french, press, kettle, b...   \n",
       "2  (hi, getting, really, weak, taste, delonghi, machine, pretty, much, since, bought, tried, severa...   \n",
       "3  (last, month, typed, google, best, machine, month, later, fully, dived, espresso, world, looking...   \n",
       "4                                                                           (compak, grinder, upgrade)   \n",
       "\n",
       "   text_length  \n",
       "0          138  \n",
       "1           29  \n",
       "2           67  \n",
       "3          144  \n",
       "4            3  "
      ]
     },
     "execution_count": 58,
     "metadata": {},
     "output_type": "execute_result"
    }
   ],
   "source": [
    "df_coffee.head()"
   ]
  },
  {
   "cell_type": "markdown",
   "id": "7186d002",
   "metadata": {},
   "source": [
    "### One-gram EDA"
   ]
  },
  {
   "cell_type": "code",
   "execution_count": 59,
   "id": "e2cfe7af",
   "metadata": {},
   "outputs": [],
   "source": [
    "### Count vectorizing (1-gram) tea\n",
    "cv = CountVectorizer(stop_words='english', min_df=2)\n",
    "cv.fit(df_tea['text'])\n",
    "\n",
    "tea_cv = cv.transform(df_tea['text'])\n",
    "tea_df = pd.DataFrame(tea_cv.todense(), columns=cv.get_feature_names())"
   ]
  },
  {
   "cell_type": "code",
   "execution_count": 60,
   "id": "4bc1411f",
   "metadata": {
    "scrolled": true
   },
   "outputs": [
    {
     "data": {
      "text/plain": [
       "leaf       299\n",
       "green      296\n",
       "know       238\n",
       "black      230\n",
       "time       212\n",
       "make       207\n",
       "cup        189\n",
       "oolong     184\n",
       "taste      180\n",
       "want       164\n",
       "really     163\n",
       "drink      160\n",
       "flavor     154\n",
       "doe        151\n",
       "looking    145\n",
       "dtype: int64"
      ]
     },
     "execution_count": 60,
     "metadata": {},
     "output_type": "execute_result"
    }
   ],
   "source": [
    "tea_df.sum().sort_values(ascending=False).head(15)"
   ]
  },
  {
   "cell_type": "code",
   "execution_count": 61,
   "id": "88efb636",
   "metadata": {},
   "outputs": [],
   "source": [
    "### Count vectorizing (1-gram) coffee\n",
    "cv = CountVectorizer(stop_words='english', min_df=2)\n",
    "cv.fit(df_coffee['text'])\n",
    "\n",
    "coffee_cv = cv.transform(df_coffee['text'])\n",
    "coffee_df = pd.DataFrame(coffee_cv.todense(), columns=cv.get_feature_names())"
   ]
  },
  {
   "cell_type": "code",
   "execution_count": 62,
   "id": "b511dc44",
   "metadata": {},
   "outputs": [
    {
     "data": {
      "text/plain": [
       "grinder     571\n",
       "machine     564\n",
       "espresso    538\n",
       "bean        487\n",
       "brew        407\n",
       "make        405\n",
       "cup         378\n",
       "grind       361\n",
       "time        351\n",
       "know        347\n",
       "use         317\n",
       "taste       306\n",
       "drink       293\n",
       "looking     281\n",
       "doe         262\n",
       "dtype: int64"
      ]
     },
     "execution_count": 62,
     "metadata": {},
     "output_type": "execute_result"
    }
   ],
   "source": [
    "coffee_df.sum().sort_values(ascending=False).head(15)"
   ]
  },
  {
   "cell_type": "code",
   "execution_count": 63,
   "id": "7358e382",
   "metadata": {
    "scrolled": false
   },
   "outputs": [
    {
     "data": {
      "image/png": "[encoded data removed]",
      "text/plain": [
       "<Figure size 1080x576 with 2 Axes>"
      ]
     },
     "metadata": {
      "needs_background": "light"
     },
     "output_type": "display_data"
    }
   ],
   "source": [
    "# Plotting for both submissions\n",
    "\n",
    "fig, ax = plt.subplots(nrows = 1, ncols = 2, figsize= (15,8))\n",
    "ax = ax.ravel()\n",
    "\n",
    "plt.subplots_adjust(hspace = 0.1)\n",
    "\n",
    "# Plotting for coffee\n",
    "tea_df.sum().sort_values(ascending=False).head(20).plot(kind='barh',ax = ax[0])\n",
    "ax[0].set_title('Top 20 Popular words from r/tea')\n",
    "ax[0].set_xlabel('Count')\n",
    "\n",
    "coffee_df.sum().sort_values(ascending=False).head(20).plot(kind='barh',ax = ax[1])\n",
    "ax[1].set_title('Top 20 Popular words from r/coffee')\n",
    "ax[1].set_xlabel('Count');"
   ]
  },
  {
   "cell_type": "markdown",
   "id": "d7d1f71c",
   "metadata": {},
   "source": [
    "##### The above plots show the top 20 words that are most frequently observed. It is observed that are many words in the respective subreddits that are indicative of which subreddit they are from. \n",
    "\n",
    "##### For tea, the very telling words are leaf, the type of tea, and equipments used to make tea, such as kettle and teapot.\n",
    "\n",
    "##### For coffee, the very telling words are the type of coffee beans, and the equipment of grinder."
   ]
  },
  {
   "cell_type": "markdown",
   "id": "cd4f07d8",
   "metadata": {},
   "source": [
    "### Two-gram EDA"
   ]
  },
  {
   "cell_type": "code",
   "execution_count": 64,
   "id": "62cfddc2",
   "metadata": {},
   "outputs": [],
   "source": [
    "### Count vectorizing (2-gram) tea\n",
    "cv2= CountVectorizer(stop_words='english', min_df=2, ngram_range=(2,2))\n",
    "cv2.fit(df_tea['text'])\n",
    "\n",
    "tea_cv2 = cv2.transform(df_tea['text'])\n",
    "tea_df2 = pd.DataFrame(tea_cv2.todense(), columns=cv2.get_feature_names())"
   ]
  },
  {
   "cell_type": "code",
   "execution_count": 65,
   "id": "3f442639",
   "metadata": {},
   "outputs": [
    {
     "data": {
      "text/plain": [
       "loose leaf           114\n",
       "pu er                 82\n",
       "earl grey             43\n",
       "gong fu               32\n",
       "doe know              28\n",
       "thanks advance        23\n",
       "view poll             22\n",
       "cold brew             22\n",
       "harney son            22\n",
       "milk oolong           21\n",
       "english breakfast     18\n",
       "electric kettle       18\n",
       "high quality          18\n",
       "year ago              17\n",
       "irish breakfast       15\n",
       "dtype: int64"
      ]
     },
     "execution_count": 65,
     "metadata": {},
     "output_type": "execute_result"
    }
   ],
   "source": [
    "tea_df2.sum().sort_values(ascending=False).head(15)"
   ]
  },
  {
   "cell_type": "code",
   "execution_count": 66,
   "id": "dcfca2b8",
   "metadata": {},
   "outputs": [],
   "source": [
    "### Count vectorizing (2-gram) coffee\n",
    "cv2= CountVectorizer(stop_words='english', min_df=2, ngram_range=(2,2))\n",
    "cv2.fit(df_coffee['text'])\n",
    "\n",
    "coffee_cv2 = cv2.transform(df_coffee['text'])\n",
    "coffee_df2 = pd.DataFrame(coffee_cv2.todense(), columns=cv2.get_feature_names())"
   ]
  },
  {
   "cell_type": "code",
   "execution_count": 67,
   "id": "fc7b94d9",
   "metadata": {},
   "outputs": [
    {
     "data": {
      "text/plain": [
       "french press        169\n",
       "cold brew           157\n",
       "espresso machine    135\n",
       "moka pot             99\n",
       "hand grinder         60\n",
       "burr grinder         55\n",
       "grind size           54\n",
       "light roast          41\n",
       "grind setting        40\n",
       "thanks advance       38\n",
       "doe know             36\n",
       "dark roast           33\n",
       "barista express      33\n",
       "baratza encore       29\n",
       "pre ground           27\n",
       "dtype: int64"
      ]
     },
     "execution_count": 67,
     "metadata": {},
     "output_type": "execute_result"
    }
   ],
   "source": [
    "coffee_df2.sum().sort_values(ascending=False).head(15)"
   ]
  },
  {
   "cell_type": "code",
   "execution_count": 68,
   "id": "dfa7be96",
   "metadata": {
    "scrolled": false
   },
   "outputs": [
    {
     "data": {
      "image/png": "[encoded data removed]",
      "text/plain": [
       "<Figure size 1440x576 with 2 Axes>"
      ]
     },
     "metadata": {
      "needs_background": "light"
     },
     "output_type": "display_data"
    }
   ],
   "source": [
    "# Plotting for both submissions\n",
    "\n",
    "fig, ax = plt.subplots(nrows = 1, ncols = 2, figsize= (20,8))\n",
    "ax = ax.ravel()\n",
    "\n",
    "plt.subplots_adjust(hspace = 0.1)\n",
    "\n",
    "# Plotting for coffee\n",
    "tea_df2.sum().sort_values(ascending=False).head(20).plot(kind='barh',ax = ax[0])\n",
    "ax[0].set_title('Top 20 Popular pairs of words from r/tea')\n",
    "ax[0].set_xlabel('Count')\n",
    "\n",
    "coffee_df2.sum().sort_values(ascending=False).head(20).plot(kind='barh',ax = ax[1])\n",
    "ax[1].set_title('Top 20 Popular pairs of words from r/coffee')\n",
    "ax[1].set_xlabel('Count');"
   ]
  },
  {
   "cell_type": "markdown",
   "id": "34786201",
   "metadata": {},
   "source": [
    "##### The above plots show the top 20 words that are most frequently observed. Compared to the most frequently observed single words, the most frequently observed pairs of words are also indicative of the subreddit they come from.\n",
    "\n",
    "##### For tea, the very telling pairs are loose leaf and the type of tea leaves.\n",
    "\n",
    "##### For coffee, the very telling pairs are the type of coffee beans and terms relating to coffee brewing equipment such as grind setting."
   ]
  },
  {
   "cell_type": "markdown",
   "id": "fb299601",
   "metadata": {},
   "source": [
    "### Three-gram EDA"
   ]
  },
  {
   "cell_type": "code",
   "execution_count": 69,
   "id": "91828ae6",
   "metadata": {},
   "outputs": [],
   "source": [
    "### Count vectorizing (3-gram) tea\n",
    "cv3= CountVectorizer(stop_words='english', min_df=2, ngram_range=(3,3))\n",
    "cv3.fit(df_tea['text'])\n",
    "\n",
    "tea_cv3 = cv3.transform(df_tea['text'])\n",
    "tea_df3 = pd.DataFrame(tea_cv3.todense(), columns=cv3.get_feature_names())"
   ]
  },
  {
   "cell_type": "code",
   "execution_count": 70,
   "id": "358b5562",
   "metadata": {},
   "outputs": [
    {
     "data": {
      "text/plain": [
       "sheng pu er                10\n",
       "tie guan yin               10\n",
       "gong fu style               9\n",
       "harney amp son              8\n",
       "online australia accent     8\n",
       "pu er cake                  7\n",
       "raw pu er                   7\n",
       "black pu er                 6\n",
       "bai mu dan                  5\n",
       "buy rose green              5\n",
       "buy mint green              5\n",
       "green buy rose              5\n",
       "mint green online           5\n",
       "join stacked managed        5\n",
       "rose green buy              5\n",
       "dtype: int64"
      ]
     },
     "execution_count": 70,
     "metadata": {},
     "output_type": "execute_result"
    }
   ],
   "source": [
    "tea_df3.sum().sort_values(ascending=False).head(15)"
   ]
  },
  {
   "cell_type": "code",
   "execution_count": 71,
   "id": "82963fe4",
   "metadata": {},
   "outputs": [],
   "source": [
    "### Count vectorizing (3-gram) coffee\n",
    "cv3= CountVectorizer(stop_words='english', min_df=2, ngram_range=(3,3))\n",
    "cv3.fit(df_coffee['text'])\n",
    "\n",
    "coffee_cv3 = cv3.transform(df_coffee['text'])\n",
    "coffee_df3 = pd.DataFrame(coffee_cv3.todense(), columns=cv3.get_feature_names())"
   ]
  },
  {
   "cell_type": "code",
   "execution_count": 72,
   "id": "13016e1c",
   "metadata": {},
   "outputs": [
    {
     "data": {
      "text/plain": [
       "cold brew concentrate         14\n",
       "make cold brew                14\n",
       "use french press              11\n",
       "long story short               9\n",
       "breville barista express       9\n",
       "bean local roaster             8\n",
       "automatic espresso machine     8\n",
       "cup moka pot                   7\n",
       "breville precision brewer      7\n",
       "nitro cold brew                7\n",
       "gaggia classic pro             7\n",
       "using french press             6\n",
       "bean cup machine               6\n",
       "double shot basket             6\n",
       "breville smart grinder         6\n",
       "dtype: int64"
      ]
     },
     "execution_count": 72,
     "metadata": {},
     "output_type": "execute_result"
    }
   ],
   "source": [
    "coffee_df3.sum().sort_values(ascending=False).head(15)"
   ]
  },
  {
   "cell_type": "code",
   "execution_count": 73,
   "id": "a2d36ebe",
   "metadata": {},
   "outputs": [
    {
     "data": {
      "image/png": "[encoded data removed]",
      "text/plain": [
       "<Figure size 1080x576 with 2 Axes>"
      ]
     },
     "metadata": {
      "needs_background": "light"
     },
     "output_type": "display_data"
    }
   ],
   "source": [
    "# Plotting for both submissions\n",
    "\n",
    "fig, ax = plt.subplots(nrows = 1, ncols = 2, figsize= (15,8))\n",
    "ax = ax.ravel()\n",
    "\n",
    "plt.subplots_adjust(hspace = 0.1)\n",
    "\n",
    "# Plotting for coffee\n",
    "tea_df3.sum().sort_values(ascending=False).head(20).plot(kind='barh',ax = ax[0])\n",
    "ax[0].set_title('Top 20 Popular trio of words from r/tea')\n",
    "ax[0].set_xlabel('Count')\n",
    "\n",
    "coffee_df3.sum().sort_values(ascending=False).head(20).plot(kind='barh',ax = ax[1])\n",
    "ax[1].set_title('Top 20 Popular trio of words from r/coffee')\n",
    "ax[1].set_xlabel('Count');"
   ]
  },
  {
   "cell_type": "markdown",
   "id": "5bf50ed6",
   "metadata": {},
   "source": [
    "##### The above plots show the top 20 words that are most frequently observed. There seems to be a mix of informative and telling trio of words but also words that do not make sense on its own. \n",
    "\n",
    "##### For tea, we uncover more types of tea with three words but get additional, unnecessary word where two of the three words would make more sense, for instance green rose makes more sense than green buy rose.\n",
    "\n",
    "##### For coffee, we have more terms about the coffee brewing machinery, types of brew, though interestingly the issue of redundant words in a trio is not as prevalent."
   ]
  },
  {
   "cell_type": "markdown",
   "id": "ceb1e1bf",
   "metadata": {},
   "source": [
    "# Preprocessing Final Dataset"
   ]
  },
  {
   "cell_type": "code",
   "execution_count": 74,
   "id": "599ea57e",
   "metadata": {},
   "outputs": [],
   "source": [
    "# Combining both tea and coffee datasets\n",
    "df = pd.concat([df_tea, df_coffee], ignore_index=True)\n",
    "\n",
    "# Removing unneeded columns\n",
    "df = df[['subreddit','text']]\n",
    "\n",
    "# Remapping tea to 1 and coffee to 0\n",
    "df['subreddit'] = df['subreddit'].map({'tea': 1, 'Coffee': 0})"
   ]
  },
  {
   "cell_type": "code",
   "execution_count": 75,
   "id": "fbbcf7a3",
   "metadata": {},
   "outputs": [
    {
     "data": {
      "text/html": [
       "<div>\n",
       "<style scoped>\n",
       "    .dataframe tbody tr th:only-of-type {\n",
       "        vertical-align: middle;\n",
       "    }\n",
       "\n",
       "    .dataframe tbody tr th {\n",
       "        vertical-align: top;\n",
       "    }\n",
       "\n",
       "    .dataframe thead th {\n",
       "        text-align: right;\n",
       "    }\n",
       "</style>\n",
       "<table border=\"1\" class=\"dataframe\">\n",
       "  <thead>\n",
       "    <tr style=\"text-align: right;\">\n",
       "      <th></th>\n",
       "      <th>subreddit</th>\n",
       "      <th>text</th>\n",
       "    </tr>\n",
       "  </thead>\n",
       "  <tbody>\n",
       "    <tr>\n",
       "      <th>0</th>\n",
       "      <td>1</td>\n",
       "      <td>love especially green jasmine thing though drink hot make mouth dry leaf bitter taste something ...</td>\n",
       "    </tr>\n",
       "    <tr>\n",
       "      <th>1</th>\n",
       "      <td>1</td>\n",
       "      <td>best strawberry kombucha delicious probiotic beverage</td>\n",
       "    </tr>\n",
       "    <tr>\n",
       "      <th>2</th>\n",
       "      <td>1</td>\n",
       "      <td>traditional medicinals worth buying</td>\n",
       "    </tr>\n",
       "    <tr>\n",
       "      <th>3</th>\n",
       "      <td>1</td>\n",
       "      <td>dislike spout deal breaker</td>\n",
       "    </tr>\n",
       "    <tr>\n",
       "      <th>4</th>\n",
       "      <td>1</td>\n",
       "      <td>hi recently getting specialty mostly part due recently picking book tony gebely portion describi...</td>\n",
       "    </tr>\n",
       "  </tbody>\n",
       "</table>\n",
       "</div>"
      ],
      "text/plain": [
       "   subreddit  \\\n",
       "0          1   \n",
       "1          1   \n",
       "2          1   \n",
       "3          1   \n",
       "4          1   \n",
       "\n",
       "                                                                                                  text  \n",
       "0  love especially green jasmine thing though drink hot make mouth dry leaf bitter taste something ...  \n",
       "1                                                best strawberry kombucha delicious probiotic beverage  \n",
       "2                                                                  traditional medicinals worth buying  \n",
       "3                                                                           dislike spout deal breaker  \n",
       "4  hi recently getting specialty mostly part due recently picking book tony gebely portion describi...  "
      ]
     },
     "execution_count": 75,
     "metadata": {},
     "output_type": "execute_result"
    }
   ],
   "source": [
    "df.head()"
   ]
  },
  {
   "cell_type": "code",
   "execution_count": 76,
   "id": "e2a21a0d",
   "metadata": {},
   "outputs": [
    {
     "data": {
      "text/html": [
       "<div>\n",
       "<style scoped>\n",
       "    .dataframe tbody tr th:only-of-type {\n",
       "        vertical-align: middle;\n",
       "    }\n",
       "\n",
       "    .dataframe tbody tr th {\n",
       "        vertical-align: top;\n",
       "    }\n",
       "\n",
       "    .dataframe thead th {\n",
       "        text-align: right;\n",
       "    }\n",
       "</style>\n",
       "<table border=\"1\" class=\"dataframe\">\n",
       "  <thead>\n",
       "    <tr style=\"text-align: right;\">\n",
       "      <th></th>\n",
       "      <th>subreddit</th>\n",
       "      <th>text</th>\n",
       "    </tr>\n",
       "  </thead>\n",
       "  <tbody>\n",
       "    <tr>\n",
       "      <th>3960</th>\n",
       "      <td>0</td>\n",
       "      <td>turn seems fried wire something heat fully especially full tank build enough pressure pull shot ...</td>\n",
       "    </tr>\n",
       "    <tr>\n",
       "      <th>3961</th>\n",
       "      <td>0</td>\n",
       "      <td>espresso bar bruges portafilters door handle</td>\n",
       "    </tr>\n",
       "    <tr>\n",
       "      <th>3962</th>\n",
       "      <td>0</td>\n",
       "      <td>done year people say way much caffeine put spoon get effect comparison spoon make super motivate...</td>\n",
       "    </tr>\n",
       "    <tr>\n",
       "      <th>3963</th>\n",
       "      <td>0</td>\n",
       "      <td>hello usually espresso start play also super jolly evo burr lido et read conical burr better wou...</td>\n",
       "    </tr>\n",
       "    <tr>\n",
       "      <th>3964</th>\n",
       "      <td>0</td>\n",
       "      <td>recently started using hario mini mill james hoffmann technique come quite acidic next none swee...</td>\n",
       "    </tr>\n",
       "  </tbody>\n",
       "</table>\n",
       "</div>"
      ],
      "text/plain": [
       "      subreddit  \\\n",
       "3960          0   \n",
       "3961          0   \n",
       "3962          0   \n",
       "3963          0   \n",
       "3964          0   \n",
       "\n",
       "                                                                                                     text  \n",
       "3960  turn seems fried wire something heat fully especially full tank build enough pressure pull shot ...  \n",
       "3961                                                         espresso bar bruges portafilters door handle  \n",
       "3962  done year people say way much caffeine put spoon get effect comparison spoon make super motivate...  \n",
       "3963  hello usually espresso start play also super jolly evo burr lido et read conical burr better wou...  \n",
       "3964  recently started using hario mini mill james hoffmann technique come quite acidic next none swee...  "
      ]
     },
     "execution_count": 76,
     "metadata": {},
     "output_type": "execute_result"
    }
   ],
   "source": [
    "df.tail()"
   ]
  },
  {
   "cell_type": "code",
   "execution_count": 77,
   "id": "5fabe267",
   "metadata": {},
   "outputs": [],
   "source": [
    "X = df['text']\n",
    "y = df['subreddit']"
   ]
  },
  {
   "cell_type": "markdown",
   "id": "37826ab2",
   "metadata": {},
   "source": [
    "# Train/Test Split"
   ]
  },
  {
   "cell_type": "code",
   "execution_count": 78,
   "id": "d554ed6a",
   "metadata": {},
   "outputs": [],
   "source": [
    "# Dividing the entire dataset into a train set and test set\n",
    "X_train, X_test, y_train, y_test = train_test_split(X,\n",
    "                                                    y,\n",
    "                                                    test_size=0.25,\n",
    "                                                    stratify=y,\n",
    "                                                    random_state=42)"
   ]
  },
  {
   "cell_type": "markdown",
   "id": "94f63ca6",
   "metadata": {},
   "source": [
    "# Baseline Score"
   ]
  },
  {
   "cell_type": "code",
   "execution_count": 79,
   "id": "84babbec",
   "metadata": {},
   "outputs": [
    {
     "data": {
      "text/plain": [
       "0    0.502016\n",
       "1    0.497984\n",
       "Name: subreddit, dtype: float64"
      ]
     },
     "execution_count": 79,
     "metadata": {},
     "output_type": "execute_result"
    }
   ],
   "source": [
    "# Without using any model and looking at the counts, we can get the baseline accuracy\n",
    "y_test.value_counts(normalize = True)"
   ]
  },
  {
   "cell_type": "markdown",
   "id": "188154f5",
   "metadata": {},
   "source": [
    "##### The baseline score can be determined to be at ~50%"
   ]
  },
  {
   "cell_type": "markdown",
   "id": "9a54ce8b",
   "metadata": {},
   "source": [
    "# Modelling"
   ]
  },
  {
   "cell_type": "markdown",
   "id": "58c43ed1",
   "metadata": {},
   "source": [
    "## Multinomial Naive Bayes Model (CountVectorizer)"
   ]
  },
  {
   "cell_type": "code",
   "execution_count": 80,
   "id": "559a5476",
   "metadata": {},
   "outputs": [],
   "source": [
    "# Let's set a pipeline up with two stages:\n",
    "# 1. CountVectorizer (transformer)\n",
    "# 2. Multinomial Naive Bayes (estimator)\n",
    "\n",
    "pipe_cvec_multinomial = Pipeline([\n",
    "    ('cvec', CountVectorizer()),\n",
    "    ('nb', MultinomialNB())\n",
    "])"
   ]
  },
  {
   "cell_type": "markdown",
   "id": "9f95d57a",
   "metadata": {},
   "source": [
    "### GridSearchCV"
   ]
  },
  {
   "cell_type": "code",
   "execution_count": 81,
   "id": "1914ce1f",
   "metadata": {},
   "outputs": [],
   "source": [
    "# Search over the following values of hyperparameters:\n",
    "# Maximum number of features fit: 2000, 3000, 4000, 5000, 6000, 7000, 8000\n",
    "# Minimum number of documents needed to include token: 2, 3\n",
    "# Maximum number of documents needed to include token: 90%, 95%\n",
    "# Check (individual tokens) and also check (individual tokens, 2-grams, and 3-grams).\n",
    "\n",
    "pipe_cvec_multinomial_params = {\n",
    "    'cvec__max_features': [5_000], # [2_000, 3_000, 4_000, 5_000, 6_000, 7_000, 8_000]\n",
    "    'cvec__min_df': [2] , # [2, 3]\n",
    "    'cvec__max_df': [0.9], # [.9, .95]\n",
    "    'cvec__ngram_range': [(1,2)], # [(1,1), (1,2), (1,3)]\n",
    "}"
   ]
  },
  {
   "cell_type": "code",
   "execution_count": 82,
   "id": "6664113e",
   "metadata": {},
   "outputs": [],
   "source": [
    "# Instantiate GridSearchCV.\n",
    "\n",
    "gs_cvec_multinomial = GridSearchCV(pipe_cvec_multinomial, # what object are we optimizing?\n",
    "                  param_grid=pipe_cvec_multinomial_params, # what parameters values are we searching?\n",
    "                  cv=5,\n",
    "                 n_jobs = -1) # 5-fold cross-validation."
   ]
  },
  {
   "cell_type": "code",
   "execution_count": 83,
   "id": "b2ad60df",
   "metadata": {
    "scrolled": true
   },
   "outputs": [],
   "source": [
    "# Fit GridSearch to training data.\n",
    "gs_cvec_multinomial.fit(X_train, y_train);"
   ]
  },
  {
   "cell_type": "code",
   "execution_count": 84,
   "id": "172b1226",
   "metadata": {},
   "outputs": [
    {
     "name": "stdout",
     "output_type": "stream",
     "text": [
      "{'cvec__max_df': 0.9, 'cvec__max_features': 5000, 'cvec__min_df': 2, 'cvec__ngram_range': (1, 2)}\n"
     ]
    }
   ],
   "source": [
    "print(gs_cvec_multinomial.best_params_)"
   ]
  },
  {
   "cell_type": "code",
   "execution_count": 85,
   "id": "2afd446c",
   "metadata": {},
   "outputs": [
    {
     "name": "stdout",
     "output_type": "stream",
     "text": [
      "0.8489766007413067\n"
     ]
    }
   ],
   "source": [
    "# Retrieving the best score based on the optimized hyperparameters from GridSearchCV\n",
    "print(gs_cvec_multinomial.best_score_)"
   ]
  },
  {
   "cell_type": "code",
   "execution_count": 86,
   "id": "f01abf12",
   "metadata": {},
   "outputs": [
    {
     "data": {
      "text/plain": [
       "0.9075008409014463"
      ]
     },
     "execution_count": 86,
     "metadata": {},
     "output_type": "execute_result"
    }
   ],
   "source": [
    "# Score model on training set.\n",
    "gs_cvec_multinomial.score(X_train, y_train)"
   ]
  },
  {
   "cell_type": "code",
   "execution_count": 87,
   "id": "70fd5891",
   "metadata": {
    "scrolled": true
   },
   "outputs": [
    {
     "data": {
      "text/plain": [
       "0.8366935483870968"
      ]
     },
     "execution_count": 87,
     "metadata": {},
     "output_type": "execute_result"
    }
   ],
   "source": [
    "# Score model on testing set.\n",
    "gs_cvec_multinomial.score(X_test, y_test)"
   ]
  },
  {
   "cell_type": "markdown",
   "id": "2107d557",
   "metadata": {},
   "source": [
    "<details><summary>Is accuracy the best score here?</summary>\n",
    "\n",
    "Since we are classifying the right beverage, i.e. correctly classifying it as tea when a word relating to tea appears and the same for coffee, we would want to minimise our false positives and false negatives. As a result, accuracy is our main metric to maximize.\n",
    "</details>"
   ]
  },
  {
   "cell_type": "code",
   "execution_count": 88,
   "id": "81a4a112",
   "metadata": {},
   "outputs": [],
   "source": [
    "# Get predictions\n",
    "preds = gs_cvec_multinomial.predict(X_test)\n",
    "\n",
    "# Save confusion matrix values\n",
    "tn, fp, fn, tp = confusion_matrix(y_test, preds).ravel()"
   ]
  },
  {
   "cell_type": "code",
   "execution_count": 89,
   "id": "fb992d84",
   "metadata": {},
   "outputs": [
    {
     "data": {
      "image/png": "[encoded data removed]",
      "text/plain": [
       "<Figure size 432x288 with 2 Axes>"
      ]
     },
     "metadata": {
      "needs_background": "light"
     },
     "output_type": "display_data"
    }
   ],
   "source": [
    "# View confusion matrix\n",
    "plot_confusion_matrix(gs_cvec_multinomial, X_test, y_test, cmap='Blues', values_format='d', display_labels=['coffee', 'tea'])\n",
    "plt.title('Confusion Matrix of CountVectorizer Multinomial Naive Bayes Model');"
   ]
  },
  {
   "cell_type": "code",
   "execution_count": 90,
   "id": "1c94a9ce",
   "metadata": {},
   "outputs": [
    {
     "name": "stdout",
     "output_type": "stream",
     "text": [
      "Accuracy of CountVectorizer Multinomial NB is: 0.83669\n"
     ]
    }
   ],
   "source": [
    "# Calculate the accuracy\n",
    "\n",
    "cvec_multinomialnb_acc = (tp + tn) / (tp + tn + fp + fn)\n",
    "\n",
    "print('Accuracy of CountVectorizer Multinomial NB is:', round(cvec_multinomialnb_acc,5))"
   ]
  },
  {
   "cell_type": "code",
   "execution_count": 91,
   "id": "54a17fb9",
   "metadata": {},
   "outputs": [
    {
     "data": {
      "image/png": "[encoded data removed]",
      "text/plain": [
       "<Figure size 432x288 with 1 Axes>"
      ]
     },
     "metadata": {
      "needs_background": "light"
     },
     "output_type": "display_data"
    }
   ],
   "source": [
    "plot_roc_curve(gs_cvec_multinomial, X_test, y_test)\n",
    "plt.plot([0, 1], [0, 1],\n",
    "         label='baseline', linestyle='--')\n",
    "plt.legend()\n",
    "plt.title('ROC Curve of CountVectorizer Multinomial Naive Bayes Model');"
   ]
  },
  {
   "cell_type": "markdown",
   "id": "83f714e8",
   "metadata": {},
   "source": [
    "## Bernoulli Naive Bayes Model (CountVectorizer)"
   ]
  },
  {
   "cell_type": "code",
   "execution_count": 92,
   "id": "64823f07",
   "metadata": {},
   "outputs": [],
   "source": [
    "# Let's set a pipeline up with two stages:\n",
    "# 1. CountVectorizer (transformer)\n",
    "# 2. Bernoulli Naive Bayes (estimator)\n",
    "\n",
    "pipe_cvec_bernoulli = Pipeline([\n",
    "    ('cvec', CountVectorizer()),\n",
    "    ('nb', BernoulliNB())\n",
    "])"
   ]
  },
  {
   "cell_type": "markdown",
   "id": "330f80b9",
   "metadata": {},
   "source": [
    "### GridSearch CV"
   ]
  },
  {
   "cell_type": "code",
   "execution_count": 93,
   "id": "5acc307b",
   "metadata": {},
   "outputs": [],
   "source": [
    "# Search over the following values of hyperparameters:\n",
    "# Maximum number of features fit: 2000, 3000, 4000, 5000, 6000, 7000, 8000\n",
    "# Minimum number of documents needed to include token: 2, 3\n",
    "# Maximum number of documents needed to include token: 90%, 95%\n",
    "# Check (individual tokens) and also check (individual tokens, 2-grams, and 3-grams).\n",
    "\n",
    "pipe_cvec_bernoulli_params = {\n",
    "    'cvec__max_features': [2000], # [2_000, 3_000, 4_000, 5_000, 6_000, 7_000, 8_000]\n",
    "    'cvec__min_df': [3], # [2, 3]\n",
    "    'cvec__max_df': [0.9], # [.9, .95]\n",
    "    'cvec__ngram_range': [(1,2)] # [(1,1), (1,2),(1,3), (2,2), (2,3), (3,3)]\n",
    "}"
   ]
  },
  {
   "cell_type": "code",
   "execution_count": 94,
   "id": "82494196",
   "metadata": {},
   "outputs": [],
   "source": [
    "# Instantiate GridSearchCV.\n",
    "\n",
    "gs_cvec_bernoulli = GridSearchCV(pipe_cvec_bernoulli, # what object are we optimizing?\n",
    "                  param_grid=pipe_cvec_bernoulli_params, # what parameters values are we searching?\n",
    "                  cv=5,\n",
    "                 n_jobs = -1) # 5-fold cross-validation."
   ]
  },
  {
   "cell_type": "code",
   "execution_count": 95,
   "id": "d23ab078",
   "metadata": {},
   "outputs": [
    {
     "data": {
      "text/plain": [
       "GridSearchCV(cv=5,\n",
       "             estimator=Pipeline(steps=[('cvec', CountVectorizer()),\n",
       "                                       ('nb', BernoulliNB())]),\n",
       "             n_jobs=-1,\n",
       "             param_grid={'cvec__max_df': [0.9], 'cvec__max_features': [2000],\n",
       "                         'cvec__min_df': [3], 'cvec__ngram_range': [(1, 2)]})"
      ]
     },
     "execution_count": 95,
     "metadata": {},
     "output_type": "execute_result"
    }
   ],
   "source": [
    "# Fit GridSearch to training data.\n",
    "gs_cvec_bernoulli.fit(X_train, y_train)"
   ]
  },
  {
   "cell_type": "code",
   "execution_count": 96,
   "id": "63fae5ed",
   "metadata": {},
   "outputs": [
    {
     "name": "stdout",
     "output_type": "stream",
     "text": [
      "{'cvec__max_df': 0.9, 'cvec__max_features': 2000, 'cvec__min_df': 3, 'cvec__ngram_range': (1, 2)}\n"
     ]
    }
   ],
   "source": [
    "print(gs_cvec_bernoulli.best_params_)"
   ]
  },
  {
   "cell_type": "code",
   "execution_count": 97,
   "id": "897670bf",
   "metadata": {},
   "outputs": [
    {
     "name": "stdout",
     "output_type": "stream",
     "text": [
      "0.7544617038734686\n"
     ]
    }
   ],
   "source": [
    "# Retrieving the best score based on the optimized hyperparameters from GridSearchCV\n",
    "print(gs_cvec_bernoulli.best_score_)"
   ]
  },
  {
   "cell_type": "code",
   "execution_count": 98,
   "id": "76cf59c1",
   "metadata": {},
   "outputs": [
    {
     "data": {
      "text/plain": [
       "0.7820383451059536"
      ]
     },
     "execution_count": 98,
     "metadata": {},
     "output_type": "execute_result"
    }
   ],
   "source": [
    "# Score model on training set.\n",
    "gs_cvec_bernoulli.score(X_train, y_train)"
   ]
  },
  {
   "cell_type": "code",
   "execution_count": 99,
   "id": "4ad97480",
   "metadata": {},
   "outputs": [
    {
     "data": {
      "text/plain": [
       "0.7530241935483871"
      ]
     },
     "execution_count": 99,
     "metadata": {},
     "output_type": "execute_result"
    }
   ],
   "source": [
    "# Score model on testing set.\n",
    "gs_cvec_bernoulli.score(X_test, y_test)"
   ]
  },
  {
   "cell_type": "code",
   "execution_count": 100,
   "id": "e1ebc404",
   "metadata": {},
   "outputs": [],
   "source": [
    "# Get predictions\n",
    "preds_cvec_bernoulli = gs_cvec_bernoulli.predict(X_test)\n",
    "\n",
    "# Save confusion matrix values\n",
    "tn, fp, fn, tp = confusion_matrix(y_test, preds_cvec_bernoulli).ravel()"
   ]
  },
  {
   "cell_type": "code",
   "execution_count": 101,
   "id": "744df456",
   "metadata": {},
   "outputs": [
    {
     "data": {
      "image/png": "[encoded data removed]",
      "text/plain": [
       "<Figure size 432x288 with 2 Axes>"
      ]
     },
     "metadata": {
      "needs_background": "light"
     },
     "output_type": "display_data"
    }
   ],
   "source": [
    "# View confusion matrix\n",
    "\n",
    "plot_confusion_matrix(gs_cvec_bernoulli, X_test, y_test, cmap='Blues', values_format='d', display_labels=['coffee', 'tea'])\n",
    "plt.title('Confusion Matrix of CountVectorizer Bernoulli Naive Bayes Model');"
   ]
  },
  {
   "cell_type": "code",
   "execution_count": 102,
   "id": "22e53a92",
   "metadata": {},
   "outputs": [
    {
     "name": "stdout",
     "output_type": "stream",
     "text": [
      "Accuracy of CountVectorizer Bernoulli NB is: 0.75302\n"
     ]
    }
   ],
   "source": [
    "# Calculate the accuracy\n",
    "\n",
    "cvec_bernoullinb_acc = (tp + tn) / (tp + tn + fp + fn)\n",
    "\n",
    "print('Accuracy of CountVectorizer Bernoulli NB is:', round(cvec_bernoullinb_acc,5))"
   ]
  },
  {
   "cell_type": "code",
   "execution_count": 103,
   "id": "090c2267",
   "metadata": {},
   "outputs": [
    {
     "data": {
      "image/png": "[encoded data removed]",
      "text/plain": [
       "<Figure size 432x288 with 1 Axes>"
      ]
     },
     "metadata": {
      "needs_background": "light"
     },
     "output_type": "display_data"
    }
   ],
   "source": [
    "plot_roc_curve(gs_cvec_bernoulli, X_test, y_test)\n",
    "plt.plot([0, 1], [0, 1],\n",
    "         label='baseline', linestyle='--')\n",
    "plt.legend()\n",
    "plt.title('ROC Curve of CountVectorizer Bernoulli Naive Bayes Model');"
   ]
  },
  {
   "cell_type": "markdown",
   "id": "e1ac75a7",
   "metadata": {},
   "source": [
    "## Multinomial Naive Bayes Model (TF-IDF)"
   ]
  },
  {
   "cell_type": "code",
   "execution_count": 104,
   "id": "94a0b5cd",
   "metadata": {},
   "outputs": [],
   "source": [
    "pipe_tvec_multinomial = Pipeline([\n",
    "    ('tvec', TfidfVectorizer()),\n",
    "    ('nb', MultinomialNB())\n",
    "])"
   ]
  },
  {
   "cell_type": "markdown",
   "id": "ad3f46bb",
   "metadata": {},
   "source": [
    "### GridSearch CV"
   ]
  },
  {
   "cell_type": "code",
   "execution_count": 105,
   "id": "d71b6fa1",
   "metadata": {},
   "outputs": [],
   "source": [
    "# Search over the following values of hyperparameters:\n",
    "# Maximum number of features fit: 2000, 3000, 4000, 5000, 6000, 7000, 8000\n",
    "# Check (individual tokens) and also check (individual tokens, 2-grams, and 3-grams).\n",
    "\n",
    "pipe_tvec_multinomial_params = {\n",
    "    'tvec__max_features': [5000], # [2_000, 3_000, 4_000, 5_000, 6_000, 7_000, 8_000]\n",
    "    'tvec__ngram_range': [(1,3)] # [(1,1), (1,2),(1,3), (2,2), (2,3), (3,3)]\n",
    "}"
   ]
  },
  {
   "cell_type": "code",
   "execution_count": 106,
   "id": "06f66f5c",
   "metadata": {},
   "outputs": [],
   "source": [
    "# Instantiate GridSearchCV.\n",
    "\n",
    "gs_tvec_multinomial = GridSearchCV(pipe_tvec_multinomial, # what object are we optimizing?\n",
    "                        param_grid = pipe_tvec_multinomial_params, # what parameters values are we searching?\n",
    "                        cv=5) # 5-fold cross-validation."
   ]
  },
  {
   "cell_type": "code",
   "execution_count": 107,
   "id": "3ad52b35",
   "metadata": {},
   "outputs": [
    {
     "data": {
      "text/plain": [
       "GridSearchCV(cv=5,\n",
       "             estimator=Pipeline(steps=[('tvec', TfidfVectorizer()),\n",
       "                                       ('nb', MultinomialNB())]),\n",
       "             param_grid={'tvec__max_features': [5000],\n",
       "                         'tvec__ngram_range': [(1, 3)]})"
      ]
     },
     "execution_count": 107,
     "metadata": {},
     "output_type": "execute_result"
    }
   ],
   "source": [
    "# Fit GridSearch to training data.\n",
    "gs_tvec_multinomial.fit(X_train, y_train)"
   ]
  },
  {
   "cell_type": "code",
   "execution_count": 108,
   "id": "6a8d3bda",
   "metadata": {},
   "outputs": [
    {
     "name": "stdout",
     "output_type": "stream",
     "text": [
      "{'tvec__max_features': 5000, 'tvec__ngram_range': (1, 3)}\n"
     ]
    }
   ],
   "source": [
    "print(gs_tvec_multinomial.best_params_)"
   ]
  },
  {
   "cell_type": "code",
   "execution_count": 109,
   "id": "3ce69fdb",
   "metadata": {},
   "outputs": [
    {
     "data": {
      "text/plain": [
       "0.9330642448705012"
      ]
     },
     "execution_count": 109,
     "metadata": {},
     "output_type": "execute_result"
    }
   ],
   "source": [
    "# Score model on training set.\n",
    "gs_tvec_multinomial.score(X_train, y_train)"
   ]
  },
  {
   "cell_type": "code",
   "execution_count": 110,
   "id": "26992b23",
   "metadata": {},
   "outputs": [
    {
     "data": {
      "text/plain": [
       "0.8205645161290323"
      ]
     },
     "execution_count": 110,
     "metadata": {},
     "output_type": "execute_result"
    }
   ],
   "source": [
    "# Score model on testing set.\n",
    "gs_tvec_multinomial.score(X_test, y_test)"
   ]
  },
  {
   "cell_type": "code",
   "execution_count": 111,
   "id": "e608f887",
   "metadata": {},
   "outputs": [],
   "source": [
    "# Get predictions\n",
    "preds_tvec_multinomial = gs_tvec_multinomial.predict(X_test)\n",
    "\n",
    "# Save confusion matrix values\n",
    "tn, fp, fn, tp = confusion_matrix(y_test, preds_tvec_multinomial).ravel()"
   ]
  },
  {
   "cell_type": "code",
   "execution_count": 112,
   "id": "c6fa23ff",
   "metadata": {},
   "outputs": [
    {
     "data": {
      "image/png": "[encoded data removed]",
      "text/plain": [
       "<Figure size 432x288 with 2 Axes>"
      ]
     },
     "metadata": {
      "needs_background": "light"
     },
     "output_type": "display_data"
    }
   ],
   "source": [
    "# View confusion matrix\n",
    "\n",
    "plot_confusion_matrix(gs_tvec_multinomial, X_test, y_test, cmap='Blues', values_format='d', display_labels=['coffee', 'tea'])\n",
    "plt.title('Confusion Matrix of TD-IDF Multinomial Naive Bayes Model');"
   ]
  },
  {
   "cell_type": "code",
   "execution_count": 113,
   "id": "6c92e1b0",
   "metadata": {
    "scrolled": true
   },
   "outputs": [
    {
     "name": "stdout",
     "output_type": "stream",
     "text": [
      "Accuracy of TF-IDF Multinomial NB is: 0.8205645161290323\n"
     ]
    }
   ],
   "source": [
    "# Calculate the accuracy\n",
    "\n",
    "tvec_multinomialnb_acc = (tp + tn) / (tp + tn + fp + fn)\n",
    "\n",
    "print('Accuracy of TF-IDF Multinomial NB is:', tvec_multinomialnb_acc)"
   ]
  },
  {
   "cell_type": "code",
   "execution_count": 114,
   "id": "72e9577a",
   "metadata": {},
   "outputs": [
    {
     "data": {
      "image/png": "[encoded data removed]",
      "text/plain": [
       "<Figure size 432x288 with 1 Axes>"
      ]
     },
     "metadata": {
      "needs_background": "light"
     },
     "output_type": "display_data"
    }
   ],
   "source": [
    "plot_roc_curve(gs_tvec_multinomial, X_test, y_test)\n",
    "plt.plot([0, 1], [0, 1],\n",
    "         label='baseline', linestyle='--')\n",
    "plt.legend()\n",
    "plt.title('ROC Curve of TF-IDF Multinomial Naive Bayes Model');"
   ]
  },
  {
   "cell_type": "markdown",
   "id": "15578e11",
   "metadata": {},
   "source": [
    "## Bernoulli Naive Bayes Model (TF-IDF)"
   ]
  },
  {
   "cell_type": "code",
   "execution_count": 115,
   "id": "5ec07e22",
   "metadata": {},
   "outputs": [],
   "source": [
    "pipe_tvec_bernoulli = Pipeline([\n",
    "    ('tvec', TfidfVectorizer()),\n",
    "    ('nb', BernoulliNB())\n",
    "])"
   ]
  },
  {
   "cell_type": "markdown",
   "id": "d51f9a52",
   "metadata": {},
   "source": [
    "### GridSearch CV"
   ]
  },
  {
   "cell_type": "code",
   "execution_count": 116,
   "id": "4eb3d37d",
   "metadata": {},
   "outputs": [],
   "source": [
    "# Search over the following values of hyperparameters:\n",
    "# Maximum number of features fit: 2000, 3000, 4000, 5000, 6000, 7000, 8000\n",
    "# Check (individual tokens) and also check (individual tokens, 2-grams, and 3-grams).\n",
    "\n",
    "pipe_tvec_bernoulli_params = {\n",
    "    'tvec__max_features': [3000], #[2_000, 3_000, 4_000, 5_000, 6_000, 7_000, 8_000]\n",
    "    'tvec__ngram_range': [(1,2)] # [(1,1), (1,2),(1,3), (2,2), (2,3), (3,3)]\n",
    "}"
   ]
  },
  {
   "cell_type": "code",
   "execution_count": 117,
   "id": "836c1fb9",
   "metadata": {},
   "outputs": [],
   "source": [
    "# Instantiate GridSearchCV.\n",
    "\n",
    "gs_tvec_bernoulli = GridSearchCV(pipe_tvec_bernoulli, # what object are we optimizing?\n",
    "                        param_grid = pipe_tvec_bernoulli_params, # what parameters values are we searching?\n",
    "                        cv=5) # 5-fold cross-validation."
   ]
  },
  {
   "cell_type": "code",
   "execution_count": 118,
   "id": "447d0e60",
   "metadata": {},
   "outputs": [
    {
     "data": {
      "text/plain": [
       "GridSearchCV(cv=5,\n",
       "             estimator=Pipeline(steps=[('tvec', TfidfVectorizer()),\n",
       "                                       ('nb', BernoulliNB())]),\n",
       "             param_grid={'tvec__max_features': [3000],\n",
       "                         'tvec__ngram_range': [(1, 2)]})"
      ]
     },
     "execution_count": 118,
     "metadata": {},
     "output_type": "execute_result"
    }
   ],
   "source": [
    "# Fit GridSearch to training data.\n",
    "gs_tvec_bernoulli.fit(X_train, y_train)"
   ]
  },
  {
   "cell_type": "code",
   "execution_count": 119,
   "id": "1a77f6b0",
   "metadata": {},
   "outputs": [
    {
     "name": "stdout",
     "output_type": "stream",
     "text": [
      "{'tvec__max_features': 3000, 'tvec__ngram_range': (1, 2)}\n"
     ]
    }
   ],
   "source": [
    "print(gs_tvec_bernoulli.best_params_)"
   ]
  },
  {
   "cell_type": "code",
   "execution_count": 120,
   "id": "c630d555",
   "metadata": {},
   "outputs": [
    {
     "data": {
      "text/plain": [
       "0.7877564749411369"
      ]
     },
     "execution_count": 120,
     "metadata": {},
     "output_type": "execute_result"
    }
   ],
   "source": [
    "# Score model on training set.\n",
    "gs_tvec_bernoulli.score(X_train, y_train)"
   ]
  },
  {
   "cell_type": "code",
   "execution_count": 121,
   "id": "ecb3f544",
   "metadata": {},
   "outputs": [
    {
     "data": {
      "text/plain": [
       "0.7540322580645161"
      ]
     },
     "execution_count": 121,
     "metadata": {},
     "output_type": "execute_result"
    }
   ],
   "source": [
    "# Score model on testing set.\n",
    "gs_tvec_bernoulli.score(X_test, y_test)"
   ]
  },
  {
   "cell_type": "code",
   "execution_count": 122,
   "id": "105c32d4",
   "metadata": {},
   "outputs": [],
   "source": [
    "# Get predictions\n",
    "preds_tvec_bernoulli = gs_tvec_bernoulli.predict(X_test)\n",
    "\n",
    "# Save confusion matrix values\n",
    "tn, fp, fn, tp = confusion_matrix(y_test, preds_tvec_bernoulli).ravel()"
   ]
  },
  {
   "cell_type": "code",
   "execution_count": 123,
   "id": "7a676219",
   "metadata": {},
   "outputs": [
    {
     "data": {
      "image/png": "[encoded data removed]",
      "text/plain": [
       "<Figure size 432x288 with 2 Axes>"
      ]
     },
     "metadata": {
      "needs_background": "light"
     },
     "output_type": "display_data"
    }
   ],
   "source": [
    "# View confusion matrix\n",
    "\n",
    "plot_confusion_matrix(gs_tvec_bernoulli, X_test, y_test, cmap='Blues', values_format='d', display_labels=['coffee', 'tea'])\n",
    "plt.title('Confusion Matrix of TD-IDF Bernoulli Naive Bayes Model');"
   ]
  },
  {
   "cell_type": "code",
   "execution_count": 124,
   "id": "1d8c7cb3",
   "metadata": {},
   "outputs": [
    {
     "name": "stdout",
     "output_type": "stream",
     "text": [
      "Accuracy of TF-IDF Bernoulli NB is: 0.7540322580645161\n"
     ]
    }
   ],
   "source": [
    "# Calculate the accuracy\n",
    "\n",
    "tvec_bernoullinb_acc = (tp + tn) / (tp + tn + fp + fn)\n",
    "\n",
    "print('Accuracy of TF-IDF Bernoulli NB is:', tvec_bernoullinb_acc)"
   ]
  },
  {
   "cell_type": "code",
   "execution_count": 125,
   "id": "9c7179b1",
   "metadata": {},
   "outputs": [
    {
     "data": {
      "image/png": "[encoded data removed]",
      "text/plain": [
       "<Figure size 432x288 with 1 Axes>"
      ]
     },
     "metadata": {
      "needs_background": "light"
     },
     "output_type": "display_data"
    }
   ],
   "source": [
    "plot_roc_curve(gs_tvec_bernoulli, X_test, y_test)\n",
    "plt.plot([0, 1], [0, 1],\n",
    "         label='baseline', linestyle='--')\n",
    "plt.legend()\n",
    "plt.title('ROC Curve of TF-IDF Bernoulli Naive Bayes Model');"
   ]
  },
  {
   "cell_type": "code",
   "execution_count": 126,
   "id": "c05892b4",
   "metadata": {},
   "outputs": [],
   "source": [
    "# Need to plot coefficients of the best model - cvec Multinomial"
   ]
  },
  {
   "cell_type": "code",
   "execution_count": 127,
   "id": "58cb1ceb",
   "metadata": {},
   "outputs": [],
   "source": [
    "# Need to make a table/ summary of the scores, also need ROC AUC scores"
   ]
  },
  {
   "cell_type": "markdown",
   "id": "9dc1850a",
   "metadata": {},
   "source": [
    "##  Random Forest"
   ]
  },
  {
   "cell_type": "code",
   "execution_count": 128,
   "id": "a1629a7b",
   "metadata": {},
   "outputs": [],
   "source": [
    "# Instantiate RandomForestClassifier and ExtraTreesClassifier\n",
    "rf = RandomForestClassifier(n_estimators=100)\n",
    "et = ExtraTreesClassifier(n_estimators=100)"
   ]
  },
  {
   "cell_type": "markdown",
   "id": "8a7ac5dd",
   "metadata": {},
   "source": [
    "### GridSearch CV"
   ]
  },
  {
   "cell_type": "code",
   "execution_count": 129,
   "id": "bc5d123c",
   "metadata": {},
   "outputs": [],
   "source": [
    "# Setting up a pipeline up with two stages:\n",
    "# 1. CountVectorizer (transformer)\n",
    "# 2. Random Forest (estimator)\n",
    "\n",
    "pipe_cvec_rf = Pipeline([\n",
    "    ('cvec', CountVectorizer()),\n",
    "    ('rf', RandomForestClassifier(random_state = 42))\n",
    "])"
   ]
  },
  {
   "cell_type": "code",
   "execution_count": 130,
   "id": "b217b1ab",
   "metadata": {},
   "outputs": [
    {
     "name": "stdout",
     "output_type": "stream",
     "text": [
      "Fitting 5 folds for each of 1 candidates, totalling 5 fits\n",
      "0.835180941063294\n"
     ]
    },
    {
     "data": {
      "text/plain": [
       "{'cvec__max_df': 0.4,\n",
       " 'cvec__max_features': 2000,\n",
       " 'cvec__min_df': 1,\n",
       " 'cvec__ngram_range': (1, 1),\n",
       " 'rf__criterion': 'entropy',\n",
       " 'rf__n_estimators': 80}"
      ]
     },
     "execution_count": 130,
     "metadata": {},
     "output_type": "execute_result"
    }
   ],
   "source": [
    "pipe_cvec_rf_params = {\n",
    "    'cvec__max_features': [2000], # [1500,2000,2200]\n",
    "    'cvec__max_df': [0.4], # [0.4,0.6,0.9]\n",
    "    'cvec__min_df': [1], # [1, 2, 3]\n",
    "    'cvec__ngram_range': [(1,1)], # [(1,1), (1,2)]\n",
    "    'rf__n_estimators': [80], # range(50,100,10)\n",
    "    'rf__criterion': ['entropy'], # ['gini','entropy']\n",
    "}\n",
    "\n",
    "gs_cvec_rf = GridSearchCV(pipe_cvec_rf, param_grid=pipe_cvec_rf_params, cv=5, verbose = True, n_jobs = -1)\n",
    "\n",
    "gs_cvec_rf.fit(X_train, y_train)\n",
    "print(gs_cvec_rf.best_score_)\n",
    "gs_cvec_rf.best_params_"
   ]
  },
  {
   "cell_type": "code",
   "execution_count": 131,
   "id": "566615b7",
   "metadata": {},
   "outputs": [
    {
     "data": {
      "text/plain": [
       "0.9885637403296333"
      ]
     },
     "execution_count": 131,
     "metadata": {},
     "output_type": "execute_result"
    }
   ],
   "source": [
    "# Score model on training set.\n",
    "gs_cvec_rf.score(X_train, y_train)"
   ]
  },
  {
   "cell_type": "code",
   "execution_count": 132,
   "id": "5399377b",
   "metadata": {},
   "outputs": [
    {
     "data": {
      "text/plain": [
       "0.8125"
      ]
     },
     "execution_count": 132,
     "metadata": {},
     "output_type": "execute_result"
    }
   ],
   "source": [
    "# Score model on test set.\n",
    "gs_cvec_rf.score(X_test, y_test)"
   ]
  },
  {
   "cell_type": "code",
   "execution_count": 133,
   "id": "50f49419",
   "metadata": {},
   "outputs": [],
   "source": [
    "# Get predictions\n",
    "preds_cvec_rf = gs_cvec_rf.predict(X_test)\n",
    "\n",
    "# Save confusion matrix values\n",
    "tn, fp, fn, tp = confusion_matrix(y_test, preds_cvec_rf).ravel()"
   ]
  },
  {
   "cell_type": "code",
   "execution_count": 134,
   "id": "8a89a7ea",
   "metadata": {},
   "outputs": [
    {
     "data": {
      "image/png": "[encoded data removed]",
      "text/plain": [
       "<Figure size 432x288 with 2 Axes>"
      ]
     },
     "metadata": {
      "needs_background": "light"
     },
     "output_type": "display_data"
    }
   ],
   "source": [
    "# View confusion matrix\n",
    "\n",
    "plot_confusion_matrix(gs_cvec_rf, X_test, y_test, cmap='Blues', values_format='d', display_labels=['coffee', 'tea'])\n",
    "plt.title('Confusion Matrix of CountVectorizer Random Forest Model');"
   ]
  },
  {
   "cell_type": "code",
   "execution_count": 135,
   "id": "c786db78",
   "metadata": {},
   "outputs": [
    {
     "name": "stdout",
     "output_type": "stream",
     "text": [
      "Accuracy of CountVectorizer Random Forest is: 0.8125\n"
     ]
    }
   ],
   "source": [
    "# Calculate the accuracy\n",
    "\n",
    "cvec_rf_acc = (tp + tn) / (tp + tn + fp + fn)\n",
    "\n",
    "print('Accuracy of CountVectorizer Random Forest is:', cvec_rf_acc)"
   ]
  },
  {
   "cell_type": "code",
   "execution_count": 136,
   "id": "98ceb815",
   "metadata": {
    "scrolled": true
   },
   "outputs": [
    {
     "data": {
      "image/png": "[encoded data removed]",
      "text/plain": [
       "<Figure size 432x288 with 1 Axes>"
      ]
     },
     "metadata": {
      "needs_background": "light"
     },
     "output_type": "display_data"
    }
   ],
   "source": [
    "plot_roc_curve(gs_cvec_rf, X_test, y_test)\n",
    "plt.plot([0, 1], [0, 1],\n",
    "         label='baseline', linestyle='--')\n",
    "plt.legend()\n",
    "plt.title('ROC Curve of CountVectorizer Random Forest Model');"
   ]
  },
  {
   "cell_type": "markdown",
   "id": "df3db748",
   "metadata": {},
   "source": [
    "# Summary of Accuracy"
   ]
  },
  {
   "cell_type": "code",
   "execution_count": 137,
   "id": "d6c7feb7",
   "metadata": {},
   "outputs": [],
   "source": [
    "# Since we are focusing on the accuracy metric, it will be used to select the best performing model."
   ]
  },
  {
   "cell_type": "code",
   "execution_count": 138,
   "id": "d0b34276",
   "metadata": {},
   "outputs": [],
   "source": [
    "models = ['CountVectorizer Multinomial NB', 'CountVectorizer Bernoulli NB','TF-IDF Multinomial NB','TF-IDF Bernoulli NB','CountVectorizer Random Forest','Baseline']\n",
    "accuracies = [cvec_multinomialnb_acc,cvec_bernoullinb_acc,tvec_multinomialnb_acc,tvec_bernoullinb_acc,cvec_rf_acc,0.5]\n",
    "accuracy_summary = pd.DataFrame([models,accuracies])"
   ]
  },
  {
   "cell_type": "code",
   "execution_count": 139,
   "id": "98dbea3a",
   "metadata": {},
   "outputs": [],
   "source": [
    "accuracy_summary = accuracy_summary.T"
   ]
  },
  {
   "cell_type": "code",
   "execution_count": 140,
   "id": "3e339890",
   "metadata": {},
   "outputs": [
    {
     "data": {
      "text/html": [
       "<div>\n",
       "<style scoped>\n",
       "    .dataframe tbody tr th:only-of-type {\n",
       "        vertical-align: middle;\n",
       "    }\n",
       "\n",
       "    .dataframe tbody tr th {\n",
       "        vertical-align: top;\n",
       "    }\n",
       "\n",
       "    .dataframe thead th {\n",
       "        text-align: right;\n",
       "    }\n",
       "</style>\n",
       "<table border=\"1\" class=\"dataframe\">\n",
       "  <thead>\n",
       "    <tr style=\"text-align: right;\">\n",
       "      <th></th>\n",
       "      <th>Model</th>\n",
       "      <th>Accuracy</th>\n",
       "    </tr>\n",
       "  </thead>\n",
       "  <tbody>\n",
       "    <tr>\n",
       "      <th>0</th>\n",
       "      <td>CountVectorizer Multinomial NB</td>\n",
       "      <td>0.836694</td>\n",
       "    </tr>\n",
       "    <tr>\n",
       "      <th>2</th>\n",
       "      <td>TF-IDF Multinomial NB</td>\n",
       "      <td>0.820565</td>\n",
       "    </tr>\n",
       "    <tr>\n",
       "      <th>4</th>\n",
       "      <td>CountVectorizer Random Forest</td>\n",
       "      <td>0.8125</td>\n",
       "    </tr>\n",
       "    <tr>\n",
       "      <th>3</th>\n",
       "      <td>TF-IDF Bernoulli NB</td>\n",
       "      <td>0.754032</td>\n",
       "    </tr>\n",
       "    <tr>\n",
       "      <th>1</th>\n",
       "      <td>CountVectorizer Bernoulli NB</td>\n",
       "      <td>0.753024</td>\n",
       "    </tr>\n",
       "    <tr>\n",
       "      <th>5</th>\n",
       "      <td>Baseline</td>\n",
       "      <td>0.5</td>\n",
       "    </tr>\n",
       "  </tbody>\n",
       "</table>\n",
       "</div>"
      ],
      "text/plain": [
       "                            Model  Accuracy\n",
       "0  CountVectorizer Multinomial NB  0.836694\n",
       "2           TF-IDF Multinomial NB  0.820565\n",
       "4   CountVectorizer Random Forest    0.8125\n",
       "3             TF-IDF Bernoulli NB  0.754032\n",
       "1    CountVectorizer Bernoulli NB  0.753024\n",
       "5                        Baseline       0.5"
      ]
     },
     "execution_count": 140,
     "metadata": {},
     "output_type": "execute_result"
    }
   ],
   "source": [
    "accuracy_summary.rename(columns = {0 : 'Model', 1 : 'Accuracy'}, inplace = True)\n",
    "accuracy_summary = accuracy_summary.sort_values(by = 'Accuracy', ascending = False)\n",
    "#accuracy_summary = accuracy_summary.set_index('Model')\n",
    "accuracy_summary"
   ]
  },
  {
   "cell_type": "code",
   "execution_count": 141,
   "id": "56407a2a",
   "metadata": {},
   "outputs": [
    {
     "data": {
      "image/png": "[encoded data removed]",
      "text/plain": [
       "<Figure size 432x288 with 1 Axes>"
      ]
     },
     "metadata": {
      "needs_background": "light"
     },
     "output_type": "display_data"
    }
   ],
   "source": [
    "accuracy_summary = accuracy_summary.sort_values(by = 'Accuracy', ascending = True)\n",
    "accuracy_summary.plot.barh(x = 'Model', y = 'Accuracy');"
   ]
  },
  {
   "cell_type": "markdown",
   "id": "0b6a1448",
   "metadata": {},
   "source": [
    "##### Based on accuracy, the CountVectorizer Multinomial Naive Bayes Model performs the best and shall be the chosen model used for production."
   ]
  },
  {
   "cell_type": "markdown",
   "id": "5236cb69",
   "metadata": {},
   "source": [
    "# Top Predictor Words"
   ]
  },
  {
   "cell_type": "code",
   "execution_count": 142,
   "id": "7a6ad01e",
   "metadata": {},
   "outputs": [],
   "source": [
    "# Saving the estimator of the selected model\n",
    "best_model = gs_cvec_multinomial.best_estimator_"
   ]
  },
  {
   "cell_type": "code",
   "execution_count": 143,
   "id": "0ef617bd",
   "metadata": {},
   "outputs": [],
   "source": [
    "# Saving variables for better accessibility\n",
    "transformer = best_model.named_steps['cvec']\n",
    "estimator = best_model.named_steps['nb']"
   ]
  },
  {
   "cell_type": "code",
   "execution_count": 144,
   "id": "5e06a011",
   "metadata": {},
   "outputs": [],
   "source": [
    "# Storing feature name and difference in log probabilities between the 2 classes in a newly created dataframe\n",
    "df_ = pd.DataFrame()\n",
    "df_['feature'] = transformer.get_feature_names()\n",
    "df_['log_prob_diff'] = estimator.feature_log_prob_[1,:] - estimator.feature_log_prob_[0,:]"
   ]
  },
  {
   "cell_type": "code",
   "execution_count": 145,
   "id": "a6f6a1d3",
   "metadata": {},
   "outputs": [
    {
     "data": {
      "text/html": [
       "<div>\n",
       "<style scoped>\n",
       "    .dataframe tbody tr th:only-of-type {\n",
       "        vertical-align: middle;\n",
       "    }\n",
       "\n",
       "    .dataframe tbody tr th {\n",
       "        vertical-align: top;\n",
       "    }\n",
       "\n",
       "    .dataframe thead th {\n",
       "        text-align: right;\n",
       "    }\n",
       "</style>\n",
       "<table border=\"1\" class=\"dataframe\">\n",
       "  <thead>\n",
       "    <tr style=\"text-align: right;\">\n",
       "      <th></th>\n",
       "      <th>feature</th>\n",
       "      <th>log_prob_diff</th>\n",
       "    </tr>\n",
       "  </thead>\n",
       "  <tbody>\n",
       "    <tr>\n",
       "      <th>3038</th>\n",
       "      <td>oolong</td>\n",
       "      <td>5.388577</td>\n",
       "    </tr>\n",
       "    <tr>\n",
       "      <th>2454</th>\n",
       "      <td>loose leaf</td>\n",
       "      <td>4.975565</td>\n",
       "    </tr>\n",
       "    <tr>\n",
       "      <th>3400</th>\n",
       "      <td>pu</td>\n",
       "      <td>4.867676</td>\n",
       "    </tr>\n",
       "    <tr>\n",
       "      <th>3401</th>\n",
       "      <td>pu er</td>\n",
       "      <td>4.702921</td>\n",
       "    </tr>\n",
       "    <tr>\n",
       "      <th>2638</th>\n",
       "      <td>matcha</td>\n",
       "      <td>4.430054</td>\n",
       "    </tr>\n",
       "    <tr>\n",
       "      <th>4331</th>\n",
       "      <td>teapot</td>\n",
       "      <td>4.369429</td>\n",
       "    </tr>\n",
       "    <tr>\n",
       "      <th>1956</th>\n",
       "      <td>herbal</td>\n",
       "      <td>4.259428</td>\n",
       "    </tr>\n",
       "    <tr>\n",
       "      <th>1236</th>\n",
       "      <td>earl</td>\n",
       "      <td>4.235898</td>\n",
       "    </tr>\n",
       "    <tr>\n",
       "      <th>1237</th>\n",
       "      <td>earl grey</td>\n",
       "      <td>4.211800</td>\n",
       "    </tr>\n",
       "    <tr>\n",
       "      <th>1636</th>\n",
       "      <td>gaiwan</td>\n",
       "      <td>4.187108</td>\n",
       "    </tr>\n",
       "  </tbody>\n",
       "</table>\n",
       "</div>"
      ],
      "text/plain": [
       "         feature  log_prob_diff\n",
       "3038      oolong       5.388577\n",
       "2454  loose leaf       4.975565\n",
       "3400          pu       4.867676\n",
       "3401       pu er       4.702921\n",
       "2638      matcha       4.430054\n",
       "4331      teapot       4.369429\n",
       "1956      herbal       4.259428\n",
       "1236        earl       4.235898\n",
       "1237   earl grey       4.211800\n",
       "1636      gaiwan       4.187108"
      ]
     },
     "execution_count": 145,
     "metadata": {},
     "output_type": "execute_result"
    }
   ],
   "source": [
    "# Following are the top 10 predictor words for tea\n",
    "top_word_tea = df_.sort_values(by = ['log_prob_diff'], ascending = False).head(10)\n",
    "top_word_tea"
   ]
  },
  {
   "cell_type": "code",
   "execution_count": 146,
   "id": "2e86c1b8",
   "metadata": {},
   "outputs": [
    {
     "data": {
      "image/png": "[encoded data removed]",
      "text/plain": [
       "<Figure size 432x288 with 1 Axes>"
      ]
     },
     "metadata": {
      "needs_background": "light"
     },
     "output_type": "display_data"
    }
   ],
   "source": [
    "top_word_tea.plot.barh(y = 'log_prob_diff', x = 'feature')\n",
    "plt.title('Top 10 Predictor Words for Tea')\n",
    "plt.xlabel('Importance')\n",
    "plt.ylabel('Word');"
   ]
  },
  {
   "cell_type": "code",
   "execution_count": 147,
   "id": "a9f6d680",
   "metadata": {},
   "outputs": [
    {
     "data": {
      "text/html": [
       "<div>\n",
       "<style scoped>\n",
       "    .dataframe tbody tr th:only-of-type {\n",
       "        vertical-align: middle;\n",
       "    }\n",
       "\n",
       "    .dataframe tbody tr th {\n",
       "        vertical-align: top;\n",
       "    }\n",
       "\n",
       "    .dataframe thead th {\n",
       "        text-align: right;\n",
       "    }\n",
       "</style>\n",
       "<table border=\"1\" class=\"dataframe\">\n",
       "  <thead>\n",
       "    <tr style=\"text-align: right;\">\n",
       "      <th></th>\n",
       "      <th>feature</th>\n",
       "      <th>log_prob_diff</th>\n",
       "    </tr>\n",
       "  </thead>\n",
       "  <tbody>\n",
       "    <tr>\n",
       "      <th>3368</th>\n",
       "      <td>pro</td>\n",
       "      <td>-3.676159</td>\n",
       "    </tr>\n",
       "    <tr>\n",
       "      <th>3659</th>\n",
       "      <td>roast</td>\n",
       "      <td>-3.750267</td>\n",
       "    </tr>\n",
       "    <tr>\n",
       "      <th>349</th>\n",
       "      <td>bean</td>\n",
       "      <td>-3.794967</td>\n",
       "    </tr>\n",
       "    <tr>\n",
       "      <th>3670</th>\n",
       "      <td>roaster</td>\n",
       "      <td>-4.001581</td>\n",
       "    </tr>\n",
       "    <tr>\n",
       "      <th>1303</th>\n",
       "      <td>espresso</td>\n",
       "      <td>-4.119364</td>\n",
       "    </tr>\n",
       "    <tr>\n",
       "      <th>1312</th>\n",
       "      <td>espresso machine</td>\n",
       "      <td>-4.126744</td>\n",
       "    </tr>\n",
       "    <tr>\n",
       "      <th>591</th>\n",
       "      <td>burr</td>\n",
       "      <td>-4.429025</td>\n",
       "    </tr>\n",
       "    <tr>\n",
       "      <th>2507</th>\n",
       "      <td>machine</td>\n",
       "      <td>-4.827218</td>\n",
       "    </tr>\n",
       "    <tr>\n",
       "      <th>1773</th>\n",
       "      <td>grind</td>\n",
       "      <td>-4.994833</td>\n",
       "    </tr>\n",
       "    <tr>\n",
       "      <th>1785</th>\n",
       "      <td>grinder</td>\n",
       "      <td>-5.579414</td>\n",
       "    </tr>\n",
       "  </tbody>\n",
       "</table>\n",
       "</div>"
      ],
      "text/plain": [
       "               feature  log_prob_diff\n",
       "3368               pro      -3.676159\n",
       "3659             roast      -3.750267\n",
       "349               bean      -3.794967\n",
       "3670           roaster      -4.001581\n",
       "1303          espresso      -4.119364\n",
       "1312  espresso machine      -4.126744\n",
       "591               burr      -4.429025\n",
       "2507           machine      -4.827218\n",
       "1773             grind      -4.994833\n",
       "1785           grinder      -5.579414"
      ]
     },
     "execution_count": 147,
     "metadata": {},
     "output_type": "execute_result"
    }
   ],
   "source": [
    "# Following are the top 10 predictor words for coffee\n",
    "top_word_coffee = df_.sort_values(by = ['log_prob_diff'], ascending = False).tail(10)\n",
    "top_word_coffee"
   ]
  },
  {
   "cell_type": "code",
   "execution_count": 148,
   "id": "a3c66497",
   "metadata": {},
   "outputs": [
    {
     "data": {
      "image/png": "[encoded data removed]",
      "text/plain": [
       "<Figure size 432x288 with 1 Axes>"
      ]
     },
     "metadata": {
      "needs_background": "light"
     },
     "output_type": "display_data"
    }
   ],
   "source": [
    "top_word_coffee.plot.barh(y = 'log_prob_diff', x = 'feature')\n",
    "plt.title('Top 10 Predictor Words for Coffee')\n",
    "plt.xlabel('Importance')\n",
    "plt.ylabel('Word');"
   ]
  },
  {
   "cell_type": "code",
   "execution_count": 149,
   "id": "a9d41f15",
   "metadata": {},
   "outputs": [],
   "source": [
    "top_word_tea['negative_log_prob_diff'] = top_word_tea['log_prob_diff'] * (-1)\n",
    "top_word_tea['working'] = np.exp(top_word_tea['negative_log_prob_diff'])\n",
    "top_word_tea['probability'] = 1- top_word_tea['working']\n",
    "top_word_tea['odds'] = np.exp(top_word_tea['log_prob_diff'])"
   ]
  },
  {
   "cell_type": "code",
   "execution_count": 150,
   "id": "bb85fda6",
   "metadata": {},
   "outputs": [
    {
     "data": {
      "text/html": [
       "<div>\n",
       "<style scoped>\n",
       "    .dataframe tbody tr th:only-of-type {\n",
       "        vertical-align: middle;\n",
       "    }\n",
       "\n",
       "    .dataframe tbody tr th {\n",
       "        vertical-align: top;\n",
       "    }\n",
       "\n",
       "    .dataframe thead th {\n",
       "        text-align: right;\n",
       "    }\n",
       "</style>\n",
       "<table border=\"1\" class=\"dataframe\">\n",
       "  <thead>\n",
       "    <tr style=\"text-align: right;\">\n",
       "      <th></th>\n",
       "      <th>feature</th>\n",
       "      <th>log_prob_diff</th>\n",
       "      <th>negative_log_prob_diff</th>\n",
       "      <th>working</th>\n",
       "      <th>probability</th>\n",
       "      <th>odds</th>\n",
       "    </tr>\n",
       "  </thead>\n",
       "  <tbody>\n",
       "    <tr>\n",
       "      <th>3038</th>\n",
       "      <td>oolong</td>\n",
       "      <td>5.388577</td>\n",
       "      <td>-5.388577</td>\n",
       "      <td>0.004568</td>\n",
       "      <td>0.995432</td>\n",
       "      <td>218.891788</td>\n",
       "    </tr>\n",
       "    <tr>\n",
       "      <th>2454</th>\n",
       "      <td>loose leaf</td>\n",
       "      <td>4.975565</td>\n",
       "      <td>-4.975565</td>\n",
       "      <td>0.006905</td>\n",
       "      <td>0.993095</td>\n",
       "      <td>144.830657</td>\n",
       "    </tr>\n",
       "    <tr>\n",
       "      <th>3400</th>\n",
       "      <td>pu</td>\n",
       "      <td>4.867676</td>\n",
       "      <td>-4.867676</td>\n",
       "      <td>0.007691</td>\n",
       "      <td>0.992309</td>\n",
       "      <td>130.018431</td>\n",
       "    </tr>\n",
       "    <tr>\n",
       "      <th>3401</th>\n",
       "      <td>pu er</td>\n",
       "      <td>4.702921</td>\n",
       "      <td>-4.702921</td>\n",
       "      <td>0.009069</td>\n",
       "      <td>0.990931</td>\n",
       "      <td>110.268796</td>\n",
       "    </tr>\n",
       "    <tr>\n",
       "      <th>2638</th>\n",
       "      <td>matcha</td>\n",
       "      <td>4.430054</td>\n",
       "      <td>-4.430054</td>\n",
       "      <td>0.011914</td>\n",
       "      <td>0.988086</td>\n",
       "      <td>83.935949</td>\n",
       "    </tr>\n",
       "    <tr>\n",
       "      <th>4331</th>\n",
       "      <td>teapot</td>\n",
       "      <td>4.369429</td>\n",
       "      <td>-4.369429</td>\n",
       "      <td>0.012658</td>\n",
       "      <td>0.987342</td>\n",
       "      <td>78.998540</td>\n",
       "    </tr>\n",
       "    <tr>\n",
       "      <th>1956</th>\n",
       "      <td>herbal</td>\n",
       "      <td>4.259428</td>\n",
       "      <td>-4.259428</td>\n",
       "      <td>0.014130</td>\n",
       "      <td>0.985870</td>\n",
       "      <td>70.769526</td>\n",
       "    </tr>\n",
       "    <tr>\n",
       "      <th>1236</th>\n",
       "      <td>earl</td>\n",
       "      <td>4.235898</td>\n",
       "      <td>-4.235898</td>\n",
       "      <td>0.014467</td>\n",
       "      <td>0.985533</td>\n",
       "      <td>69.123723</td>\n",
       "    </tr>\n",
       "    <tr>\n",
       "      <th>1237</th>\n",
       "      <td>earl grey</td>\n",
       "      <td>4.211800</td>\n",
       "      <td>-4.211800</td>\n",
       "      <td>0.014820</td>\n",
       "      <td>0.985180</td>\n",
       "      <td>67.477920</td>\n",
       "    </tr>\n",
       "    <tr>\n",
       "      <th>1636</th>\n",
       "      <td>gaiwan</td>\n",
       "      <td>4.187108</td>\n",
       "      <td>-4.187108</td>\n",
       "      <td>0.015190</td>\n",
       "      <td>0.984810</td>\n",
       "      <td>65.832117</td>\n",
       "    </tr>\n",
       "  </tbody>\n",
       "</table>\n",
       "</div>"
      ],
      "text/plain": [
       "         feature  log_prob_diff  negative_log_prob_diff   working  \\\n",
       "3038      oolong       5.388577               -5.388577  0.004568   \n",
       "2454  loose leaf       4.975565               -4.975565  0.006905   \n",
       "3400          pu       4.867676               -4.867676  0.007691   \n",
       "3401       pu er       4.702921               -4.702921  0.009069   \n",
       "2638      matcha       4.430054               -4.430054  0.011914   \n",
       "4331      teapot       4.369429               -4.369429  0.012658   \n",
       "1956      herbal       4.259428               -4.259428  0.014130   \n",
       "1236        earl       4.235898               -4.235898  0.014467   \n",
       "1237   earl grey       4.211800               -4.211800  0.014820   \n",
       "1636      gaiwan       4.187108               -4.187108  0.015190   \n",
       "\n",
       "      probability        odds  \n",
       "3038     0.995432  218.891788  \n",
       "2454     0.993095  144.830657  \n",
       "3400     0.992309  130.018431  \n",
       "3401     0.990931  110.268796  \n",
       "2638     0.988086   83.935949  \n",
       "4331     0.987342   78.998540  \n",
       "1956     0.985870   70.769526  \n",
       "1236     0.985533   69.123723  \n",
       "1237     0.985180   67.477920  \n",
       "1636     0.984810   65.832117  "
      ]
     },
     "execution_count": 150,
     "metadata": {},
     "output_type": "execute_result"
    }
   ],
   "source": [
    "top_word_tea"
   ]
  },
  {
   "cell_type": "code",
   "execution_count": 151,
   "id": "e62eb9d0",
   "metadata": {},
   "outputs": [],
   "source": [
    "top_word_coffee['working'] = np.exp(top_word_coffee['log_prob_diff'])\n",
    "top_word_coffee['probability'] = 1- top_word_coffee['working']\n",
    "top_word_coffee['positive_log_prob_diff'] = top_word_coffee['log_prob_diff'].abs()\n",
    "top_word_coffee['odds'] = np.exp(top_word_coffee['positive_log_prob_diff'])"
   ]
  },
  {
   "cell_type": "code",
   "execution_count": 152,
   "id": "cffa014f",
   "metadata": {},
   "outputs": [
    {
     "data": {
      "text/html": [
       "<div>\n",
       "<style scoped>\n",
       "    .dataframe tbody tr th:only-of-type {\n",
       "        vertical-align: middle;\n",
       "    }\n",
       "\n",
       "    .dataframe tbody tr th {\n",
       "        vertical-align: top;\n",
       "    }\n",
       "\n",
       "    .dataframe thead th {\n",
       "        text-align: right;\n",
       "    }\n",
       "</style>\n",
       "<table border=\"1\" class=\"dataframe\">\n",
       "  <thead>\n",
       "    <tr style=\"text-align: right;\">\n",
       "      <th></th>\n",
       "      <th>feature</th>\n",
       "      <th>log_prob_diff</th>\n",
       "      <th>working</th>\n",
       "      <th>probability</th>\n",
       "      <th>positive_log_prob_diff</th>\n",
       "      <th>odds</th>\n",
       "    </tr>\n",
       "  </thead>\n",
       "  <tbody>\n",
       "    <tr>\n",
       "      <th>3368</th>\n",
       "      <td>pro</td>\n",
       "      <td>-3.676159</td>\n",
       "      <td>0.025320</td>\n",
       "      <td>0.974680</td>\n",
       "      <td>3.676159</td>\n",
       "      <td>39.494401</td>\n",
       "    </tr>\n",
       "    <tr>\n",
       "      <th>3659</th>\n",
       "      <td>roast</td>\n",
       "      <td>-3.750267</td>\n",
       "      <td>0.023511</td>\n",
       "      <td>0.976489</td>\n",
       "      <td>3.750267</td>\n",
       "      <td>42.532432</td>\n",
       "    </tr>\n",
       "    <tr>\n",
       "      <th>349</th>\n",
       "      <td>bean</td>\n",
       "      <td>-3.794967</td>\n",
       "      <td>0.022484</td>\n",
       "      <td>0.977516</td>\n",
       "      <td>3.794967</td>\n",
       "      <td>44.476771</td>\n",
       "    </tr>\n",
       "    <tr>\n",
       "      <th>3670</th>\n",
       "      <td>roaster</td>\n",
       "      <td>-4.001581</td>\n",
       "      <td>0.018287</td>\n",
       "      <td>0.981713</td>\n",
       "      <td>4.001581</td>\n",
       "      <td>54.684555</td>\n",
       "    </tr>\n",
       "    <tr>\n",
       "      <th>1303</th>\n",
       "      <td>espresso</td>\n",
       "      <td>-4.119364</td>\n",
       "      <td>0.016255</td>\n",
       "      <td>0.983745</td>\n",
       "      <td>4.119364</td>\n",
       "      <td>61.520124</td>\n",
       "    </tr>\n",
       "    <tr>\n",
       "      <th>1312</th>\n",
       "      <td>espresso machine</td>\n",
       "      <td>-4.126744</td>\n",
       "      <td>0.016135</td>\n",
       "      <td>0.983865</td>\n",
       "      <td>4.126744</td>\n",
       "      <td>61.975829</td>\n",
       "    </tr>\n",
       "    <tr>\n",
       "      <th>591</th>\n",
       "      <td>burr</td>\n",
       "      <td>-4.429025</td>\n",
       "      <td>0.011926</td>\n",
       "      <td>0.988074</td>\n",
       "      <td>4.429025</td>\n",
       "      <td>83.849651</td>\n",
       "    </tr>\n",
       "    <tr>\n",
       "      <th>2507</th>\n",
       "      <td>machine</td>\n",
       "      <td>-4.827218</td>\n",
       "      <td>0.008009</td>\n",
       "      <td>0.991991</td>\n",
       "      <td>4.827218</td>\n",
       "      <td>124.863067</td>\n",
       "    </tr>\n",
       "    <tr>\n",
       "      <th>1773</th>\n",
       "      <td>grind</td>\n",
       "      <td>-4.994833</td>\n",
       "      <td>0.006773</td>\n",
       "      <td>0.993227</td>\n",
       "      <td>4.994833</td>\n",
       "      <td>147.648298</td>\n",
       "    </tr>\n",
       "    <tr>\n",
       "      <th>1785</th>\n",
       "      <td>grinder</td>\n",
       "      <td>-5.579414</td>\n",
       "      <td>0.003775</td>\n",
       "      <td>0.996225</td>\n",
       "      <td>5.579414</td>\n",
       "      <td>264.916288</td>\n",
       "    </tr>\n",
       "  </tbody>\n",
       "</table>\n",
       "</div>"
      ],
      "text/plain": [
       "               feature  log_prob_diff   working  probability  \\\n",
       "3368               pro      -3.676159  0.025320     0.974680   \n",
       "3659             roast      -3.750267  0.023511     0.976489   \n",
       "349               bean      -3.794967  0.022484     0.977516   \n",
       "3670           roaster      -4.001581  0.018287     0.981713   \n",
       "1303          espresso      -4.119364  0.016255     0.983745   \n",
       "1312  espresso machine      -4.126744  0.016135     0.983865   \n",
       "591               burr      -4.429025  0.011926     0.988074   \n",
       "2507           machine      -4.827218  0.008009     0.991991   \n",
       "1773             grind      -4.994833  0.006773     0.993227   \n",
       "1785           grinder      -5.579414  0.003775     0.996225   \n",
       "\n",
       "      positive_log_prob_diff        odds  \n",
       "3368                3.676159   39.494401  \n",
       "3659                3.750267   42.532432  \n",
       "349                 3.794967   44.476771  \n",
       "3670                4.001581   54.684555  \n",
       "1303                4.119364   61.520124  \n",
       "1312                4.126744   61.975829  \n",
       "591                 4.429025   83.849651  \n",
       "2507                4.827218  124.863067  \n",
       "1773                4.994833  147.648298  \n",
       "1785                5.579414  264.916288  "
      ]
     },
     "execution_count": 152,
     "metadata": {},
     "output_type": "execute_result"
    }
   ],
   "source": [
    "top_word_coffee"
   ]
  },
  {
   "cell_type": "markdown",
   "id": "36d14dc6",
   "metadata": {},
   "source": [
    "##### The presence of these words would significantly influence the classification of a given text. The exact, mathematical impact is shown in the odds and probability columns above."
   ]
  },
  {
   "cell_type": "markdown",
   "id": "41252d6e",
   "metadata": {},
   "source": [
    "# Interpretation"
   ]
  },
  {
   "cell_type": "markdown",
   "id": "9f74b009",
   "metadata": {},
   "source": [
    "#### This ties back to our problem statement in the sense that if a submission contains the word 'grinder', it is 5.58 times more likely for it to come from a reddit submission in r/coffee. The model gives us greater confidence that our data-driven marketing strategy will be able to identify interested customers accurately and leads to higher profits."
   ]
  },
  {
   "cell_type": "markdown",
   "id": "0e45cba0",
   "metadata": {},
   "source": [
    "# Limitations"
   ]
  },
  {
   "cell_type": "markdown",
   "id": "f22c85f3",
   "metadata": {},
   "source": [
    "1. There is a need to have a dictionary to map common misspellings of important words which may be tedious at first given that we would only be able to pick up such specific misspellings after witnessing it the first few times. There may be instances where misspelled words are used to train the model.\n",
    "\n",
    "\n",
    "2. There is a need to have another dictionary to address multi-word names of tea types, coffee types, and equipment. This result in many not meaningful analysis when plotting the frequently occurring words during our EDA phase, but makes more sense in our two-grams. Need to map all these terms to a single word by removing spaces.\n",
    "\n",
    "\n",
    "3. Update dictionary of stopwards as there are many words that are irrelevant to helping the model correctly classify which of the category a given word belongs to."
   ]
  },
  {
   "cell_type": "markdown",
   "id": "ee0bd027",
   "metadata": {},
   "source": [
    "# Future Steps"
   ]
  },
  {
   "cell_type": "markdown",
   "id": "d1bcfc9a",
   "metadata": {},
   "source": [
    "1. Can use a larger dataset by either scrapping more submissions from the reddit threads or getting text data from more localized forums such as hardwarezone, posts are more indicative of the sentiments of posters from the Asian region. This would be more relevant should the Asian market be the primary target audience of our advertisements.\n",
    "\n",
    "\n",
    "2. Given the foundation is laid, we may look into analyzing text data that are not in English, opening up the prospect of tapping into foreign markets.\n",
    "\n",
    "\n",
    "3. Additional offerings can be provided if we are able to foresee uprising hype for coffee or tea derivative products such as coffee-flavored candies.\n",
    "\n",
    "\n",
    "4. Use models that are catered to analyze visual data, especially relevant for threads with little words in their submissions but are accompanied with images or videos."
   ]
  }
 ],
 "metadata": {
  "kernelspec": {
   "display_name": "Python 3 (ipykernel)",
   "language": "python",
   "name": "python3"
  },
  "language_info": {
   "codemirror_mode": {
    "name": "ipython",
    "version": 3
   },
   "file_extension": ".py",
   "mimetype": "text/x-python",
   "name": "python",
   "nbconvert_exporter": "python",
   "pygments_lexer": "ipython3",
   "version": "3.8.13"
  }
 },
 "nbformat": 4,
 "nbformat_minor": 5
}
