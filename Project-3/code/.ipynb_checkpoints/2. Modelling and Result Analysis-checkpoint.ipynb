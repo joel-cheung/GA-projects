{
 "cells": [
  {
   "cell_type": "markdown",
   "id": "3b836134",
   "metadata": {},
   "source": [
    "<img src=\"http://imgur.com/1ZcRyrc.png\" style=\"float: left; margin: 20px; height: 55px\">\n",
    "\n",
    "# Project 3: Reddit Submissions Classification Project"
   ]
  },
  {
   "cell_type": "markdown",
   "id": "e2e922a4",
   "metadata": {},
   "source": [
    "# Information"
   ]
  },
  {
   "cell_type": "markdown",
   "id": "ade0081d",
   "metadata": {},
   "source": [
    "This projects covers the scraping of the Reddit APIs, Natural Language Processing, and classification machine learning models.\n",
    "\n",
    "The purpose of this project is to train the models to predict which subreddit a submission belongs to: r/coffee or r/tea.\n",
    "\n",
    "This is the second notebook of this project."
   ]
  },
  {
   "cell_type": "markdown",
   "id": "e4d5dae8",
   "metadata": {},
   "source": [
    "# Background"
   ]
  },
  {
   "cell_type": "markdown",
   "id": "3a8459f1",
   "metadata": {},
   "source": [
    "I am part of the data science team working in a beverage company, Coftea, specializing in coffee and tea products. With the rise of numerous e-commerce platforms and numerous competitors in this space, it is important that the decisions made are founded on data in order to standout from the crowd."
   ]
  },
  {
   "cell_type": "markdown",
   "id": "45662ee6",
   "metadata": {},
   "source": [
    "# Problem Statement"
   ]
  },
  {
   "cell_type": "markdown",
   "id": "d795eb70",
   "metadata": {},
   "source": [
    "To optimize our marketing expenditure, we would like to target our advertisements to people who are most likely going to buy our products. A good proxy would be their past search results. Also, buzz in the forums would give us a good indication of upcoming and fading trends so that we are more informed of our R&D focus and stock re-filling. My team and I are presenting to fellow colleagues and management who are non-technical, to share our findings on a recent project to build a classification model for the company that would be the foundation of this optimization.\n",
    "\n",
    "With our classification models, we will be able to identify the types of tea leaves or coffee beans, machinery, and even derivative products (such as pastry) to stock up so that Coftea can capture the rising demand.\n",
    "\n",
    "Since we are looking to advertise to consumers who have shown some indication of interest in certain products (through the proxy of posting on sites such as subreddit), we will use accuracy as the primary metric."
   ]
  },
  {
   "cell_type": "markdown",
   "id": "a825fd87",
   "metadata": {},
   "source": [
    "# Importing libraries"
   ]
  },
  {
   "cell_type": "code",
   "execution_count": 179,
   "id": "0cd02315",
   "metadata": {},
   "outputs": [],
   "source": [
    "# Usual libraries\n",
    "import pandas as pd\n",
    "import numpy as np\n",
    "\n",
    "# For webscraping\n",
    "import requests\n",
    "import time\n",
    "\n",
    "\n",
    "# For visualization\n",
    "import matplotlib.pyplot as plt\n",
    "import seaborn as sns\n",
    "\n",
    "# For machine learning\n",
    "from sklearn.model_selection import train_test_split, GridSearchCV, cross_val_score\n",
    "from sklearn.feature_extraction.text import CountVectorizer, TfidfVectorizer\n",
    "from sklearn.pipeline import Pipeline\n",
    "from sklearn.naive_bayes import MultinomialNB, BernoulliNB\n",
    "from sklearn.linear_model import LogisticRegression\n",
    "from sklearn.metrics import confusion_matrix, plot_confusion_matrix, accuracy_score, plot_roc_curve, roc_auc_score, recall_score, precision_score, f1_score\n",
    "from sklearn.ensemble import RandomForestClassifier, ExtraTreesClassifier\n",
    "\n",
    "# For NLP cleaning and preprocessing\n",
    "import demoji\n",
    "import re, string, nltk\n",
    "from nltk.corpus import stopwords\n",
    "from nltk.tokenize import word_tokenize\n",
    "from nltk.stem.porter import PorterStemmer\n",
    "from nltk.corpus import wordnet\n",
    "from nltk.stem import WordNetLemmatizer\n",
    "\n",
    "import pickle"
   ]
  },
  {
   "cell_type": "markdown",
   "id": "e0abad7a",
   "metadata": {},
   "source": [
    "# Importing dataset"
   ]
  },
  {
   "cell_type": "code",
   "execution_count": 27,
   "id": "8fe70d99",
   "metadata": {},
   "outputs": [],
   "source": [
    "df = pd.read_csv('../data/data.csv')"
   ]
  },
  {
   "cell_type": "code",
   "execution_count": 28,
   "id": "6b5f98fe",
   "metadata": {},
   "outputs": [
    {
     "data": {
      "text/html": [
       "<div>\n",
       "<style scoped>\n",
       "    .dataframe tbody tr th:only-of-type {\n",
       "        vertical-align: middle;\n",
       "    }\n",
       "\n",
       "    .dataframe tbody tr th {\n",
       "        vertical-align: top;\n",
       "    }\n",
       "\n",
       "    .dataframe thead th {\n",
       "        text-align: right;\n",
       "    }\n",
       "</style>\n",
       "<table border=\"1\" class=\"dataframe\">\n",
       "  <thead>\n",
       "    <tr style=\"text-align: right;\">\n",
       "      <th></th>\n",
       "      <th>subreddit</th>\n",
       "      <th>text</th>\n",
       "    </tr>\n",
       "  </thead>\n",
       "  <tbody>\n",
       "    <tr>\n",
       "      <th>0</th>\n",
       "      <td>1</td>\n",
       "      <td>make taste refreshingi love especially green j...</td>\n",
       "    </tr>\n",
       "    <tr>\n",
       "      <th>1</th>\n",
       "      <td>1</td>\n",
       "      <td>best strawberry kombucha delicious probiotic b...</td>\n",
       "    </tr>\n",
       "    <tr>\n",
       "      <th>2</th>\n",
       "      <td>1</td>\n",
       "      <td>traditional medicinals worth buying</td>\n",
       "    </tr>\n",
       "    <tr>\n",
       "      <th>3</th>\n",
       "      <td>1</td>\n",
       "      <td>yall like dislike spout deal breaker</td>\n",
       "    </tr>\n",
       "    <tr>\n",
       "      <th>4</th>\n",
       "      <td>1</td>\n",
       "      <td>first flush experience goodhi recently get spe...</td>\n",
       "    </tr>\n",
       "  </tbody>\n",
       "</table>\n",
       "</div>"
      ],
      "text/plain": [
       "   subreddit                                               text\n",
       "0          1  make taste refreshingi love especially green j...\n",
       "1          1  best strawberry kombucha delicious probiotic b...\n",
       "2          1                traditional medicinals worth buying\n",
       "3          1               yall like dislike spout deal breaker\n",
       "4          1  first flush experience goodhi recently get spe..."
      ]
     },
     "execution_count": 28,
     "metadata": {},
     "output_type": "execute_result"
    }
   ],
   "source": [
    "df.head()"
   ]
  },
  {
   "cell_type": "code",
   "execution_count": 29,
   "id": "5fabe267",
   "metadata": {},
   "outputs": [],
   "source": [
    "# Splitting into X and y\n",
    "X = df['text']\n",
    "y = df['subreddit']"
   ]
  },
  {
   "cell_type": "markdown",
   "id": "37826ab2",
   "metadata": {},
   "source": [
    "# Train/Test Split"
   ]
  },
  {
   "cell_type": "code",
   "execution_count": 30,
   "id": "d554ed6a",
   "metadata": {},
   "outputs": [],
   "source": [
    "# Dividing the entire dataset into a train set and test set\n",
    "X_train, X_test, y_train, y_test = train_test_split(X,\n",
    "                                                    y,\n",
    "                                                    test_size = 0.25,\n",
    "                                                    stratify = y,\n",
    "                                                    random_state = 42)"
   ]
  },
  {
   "cell_type": "markdown",
   "id": "94f63ca6",
   "metadata": {},
   "source": [
    "# Baseline Score"
   ]
  },
  {
   "cell_type": "code",
   "execution_count": 31,
   "id": "84babbec",
   "metadata": {},
   "outputs": [
    {
     "data": {
      "text/plain": [
       "0    0.516129\n",
       "1    0.483871\n",
       "Name: subreddit, dtype: float64"
      ]
     },
     "execution_count": 31,
     "metadata": {},
     "output_type": "execute_result"
    }
   ],
   "source": [
    "# Without using any model and looking at the counts, we can get the baseline accuracy\n",
    "y_test.value_counts(normalize = True)"
   ]
  },
  {
   "cell_type": "markdown",
   "id": "188154f5",
   "metadata": {},
   "source": [
    "##### The baseline score can be determined to be at ~50%"
   ]
  },
  {
   "cell_type": "markdown",
   "id": "9a54ce8b",
   "metadata": {},
   "source": [
    "# Modelling"
   ]
  },
  {
   "cell_type": "markdown",
   "id": "58c43ed1",
   "metadata": {},
   "source": [
    "## Multinomial Naive Bayes Model (CountVectorizer)"
   ]
  },
  {
   "cell_type": "code",
   "execution_count": 32,
   "id": "559a5476",
   "metadata": {},
   "outputs": [],
   "source": [
    "# Setting up a pipeline up with two stages:\n",
    "# 1. CountVectorizer (transformer)\n",
    "# 2. Multinomial Naive Bayes (estimator)\n",
    "\n",
    "pipe_cvec_multinomial = Pipeline([\n",
    "    ('cvec', CountVectorizer()),\n",
    "    ('nb', MultinomialNB())\n",
    "])"
   ]
  },
  {
   "cell_type": "code",
   "execution_count": 33,
   "id": "1914ce1f",
   "metadata": {},
   "outputs": [],
   "source": [
    "# Search over the following values of hyperparameters:\n",
    "# Maximum number of features fit: 2000, 3000, 4000, 5000, 6000\n",
    "# Minimum number of documents needed to include token: 2, 3, 4, 5, 6, 7\n",
    "# Maximum number of documents needed to include token: 80%, 85%, 90%, 95%\n",
    "# Check unigrams, bigrams, and trigrams\n",
    "# Regularization strength: 0.00001, 0.0001, 0.001, 0.1, 1, 10, 100\n",
    "\n",
    "pipe_cvec_multinomial_params = {\n",
    "    'cvec__max_features': [2_000, 3_000, 4_000, 5_000, 6_000],\n",
    "    'cvec__min_df': [2, 3, 4, 5, 6, 7] , \n",
    "    'cvec__max_df': [0.8, 0.85, 0.9, 0.95],\n",
    "    'cvec__ngram_range': [(1, 1), (2, 2), (3, 3)],\n",
    "    'nb__alpha': [0.00001, 0.0001, 0.001, 0.1, 1, 10, 100]\n",
    "}"
   ]
  },
  {
   "cell_type": "code",
   "execution_count": 34,
   "id": "6664113e",
   "metadata": {},
   "outputs": [],
   "source": [
    "# Instantiate GridSearchCV.\n",
    "cvec_multinomial = GridSearchCV(pipe_cvec_multinomial,\n",
    "                   param_grid = pipe_cvec_multinomial_params,\n",
    "                   cv = 5,\n",
    "                   n_jobs = -1,\n",
    "                   verbose = 2) "
   ]
  },
  {
   "cell_type": "code",
   "execution_count": 35,
   "id": "b2ad60df",
   "metadata": {
    "scrolled": true
   },
   "outputs": [
    {
     "name": "stdout",
     "output_type": "stream",
     "text": [
      "Fitting 5 folds for each of 2520 candidates, totalling 12600 fits\n",
      "CPU times: total: 1min 16s\n",
      "Wall time: 48min 19s\n"
     ]
    },
    {
     "data": {
      "text/html": [
       "<style>#sk-container-id-1 {color: black;background-color: white;}#sk-container-id-1 pre{padding: 0;}#sk-container-id-1 div.sk-toggleable {background-color: white;}#sk-container-id-1 label.sk-toggleable__label {cursor: pointer;display: block;width: 100%;margin-bottom: 0;padding: 0.3em;box-sizing: border-box;text-align: center;}#sk-container-id-1 label.sk-toggleable__label-arrow:before {content: \"▸\";float: left;margin-right: 0.25em;color: #696969;}#sk-container-id-1 label.sk-toggleable__label-arrow:hover:before {color: black;}#sk-container-id-1 div.sk-estimator:hover label.sk-toggleable__label-arrow:before {color: black;}#sk-container-id-1 div.sk-toggleable__content {max-height: 0;max-width: 0;overflow: hidden;text-align: left;background-color: #f0f8ff;}#sk-container-id-1 div.sk-toggleable__content pre {margin: 0.2em;color: black;border-radius: 0.25em;background-color: #f0f8ff;}#sk-container-id-1 input.sk-toggleable__control:checked~div.sk-toggleable__content {max-height: 200px;max-width: 100%;overflow: auto;}#sk-container-id-1 input.sk-toggleable__control:checked~label.sk-toggleable__label-arrow:before {content: \"▾\";}#sk-container-id-1 div.sk-estimator input.sk-toggleable__control:checked~label.sk-toggleable__label {background-color: #d4ebff;}#sk-container-id-1 div.sk-label input.sk-toggleable__control:checked~label.sk-toggleable__label {background-color: #d4ebff;}#sk-container-id-1 input.sk-hidden--visually {border: 0;clip: rect(1px 1px 1px 1px);clip: rect(1px, 1px, 1px, 1px);height: 1px;margin: -1px;overflow: hidden;padding: 0;position: absolute;width: 1px;}#sk-container-id-1 div.sk-estimator {font-family: monospace;background-color: #f0f8ff;border: 1px dotted black;border-radius: 0.25em;box-sizing: border-box;margin-bottom: 0.5em;}#sk-container-id-1 div.sk-estimator:hover {background-color: #d4ebff;}#sk-container-id-1 div.sk-parallel-item::after {content: \"\";width: 100%;border-bottom: 1px solid gray;flex-grow: 1;}#sk-container-id-1 div.sk-label:hover label.sk-toggleable__label {background-color: #d4ebff;}#sk-container-id-1 div.sk-serial::before {content: \"\";position: absolute;border-left: 1px solid gray;box-sizing: border-box;top: 0;bottom: 0;left: 50%;z-index: 0;}#sk-container-id-1 div.sk-serial {display: flex;flex-direction: column;align-items: center;background-color: white;padding-right: 0.2em;padding-left: 0.2em;position: relative;}#sk-container-id-1 div.sk-item {position: relative;z-index: 1;}#sk-container-id-1 div.sk-parallel {display: flex;align-items: stretch;justify-content: center;background-color: white;position: relative;}#sk-container-id-1 div.sk-item::before, #sk-container-id-1 div.sk-parallel-item::before {content: \"\";position: absolute;border-left: 1px solid gray;box-sizing: border-box;top: 0;bottom: 0;left: 50%;z-index: -1;}#sk-container-id-1 div.sk-parallel-item {display: flex;flex-direction: column;z-index: 1;position: relative;background-color: white;}#sk-container-id-1 div.sk-parallel-item:first-child::after {align-self: flex-end;width: 50%;}#sk-container-id-1 div.sk-parallel-item:last-child::after {align-self: flex-start;width: 50%;}#sk-container-id-1 div.sk-parallel-item:only-child::after {width: 0;}#sk-container-id-1 div.sk-dashed-wrapped {border: 1px dashed gray;margin: 0 0.4em 0.5em 0.4em;box-sizing: border-box;padding-bottom: 0.4em;background-color: white;}#sk-container-id-1 div.sk-label label {font-family: monospace;font-weight: bold;display: inline-block;line-height: 1.2em;}#sk-container-id-1 div.sk-label-container {text-align: center;}#sk-container-id-1 div.sk-container {/* jupyter's `normalize.less` sets `[hidden] { display: none; }` but bootstrap.min.css set `[hidden] { display: none !important; }` so we also need the `!important` here to be able to override the default hidden behavior on the sphinx rendered scikit-learn.org. See: https://github.com/scikit-learn/scikit-learn/issues/21755 */display: inline-block !important;position: relative;}#sk-container-id-1 div.sk-text-repr-fallback {display: none;}</style><div id=\"sk-container-id-1\" class=\"sk-top-container\"><div class=\"sk-text-repr-fallback\"><pre>GridSearchCV(cv=5,\n",
       "             estimator=Pipeline(steps=[(&#x27;cvec&#x27;, CountVectorizer()),\n",
       "                                       (&#x27;nb&#x27;, MultinomialNB())]),\n",
       "             n_jobs=-1,\n",
       "             param_grid={&#x27;cvec__max_df&#x27;: [0.8, 0.85, 0.9, 0.95],\n",
       "                         &#x27;cvec__max_features&#x27;: [2000, 3000, 4000, 5000, 6000],\n",
       "                         &#x27;cvec__min_df&#x27;: [2, 3, 4, 5, 6, 7],\n",
       "                         &#x27;cvec__ngram_range&#x27;: [(1, 1), (2, 2), (3, 3)],\n",
       "                         &#x27;nb__alpha&#x27;: [1e-05, 0.0001, 0.001, 0.1, 1, 10, 100]},\n",
       "             verbose=2)</pre><b>In a Jupyter environment, please rerun this cell to show the HTML representation or trust the notebook. <br />On GitHub, the HTML representation is unable to render, please try loading this page with nbviewer.org.</b></div><div class=\"sk-container\" hidden><div class=\"sk-item sk-dashed-wrapped\"><div class=\"sk-label-container\"><div class=\"sk-label sk-toggleable\"><input class=\"sk-toggleable__control sk-hidden--visually\" id=\"sk-estimator-id-1\" type=\"checkbox\" ><label for=\"sk-estimator-id-1\" class=\"sk-toggleable__label sk-toggleable__label-arrow\">GridSearchCV</label><div class=\"sk-toggleable__content\"><pre>GridSearchCV(cv=5,\n",
       "             estimator=Pipeline(steps=[(&#x27;cvec&#x27;, CountVectorizer()),\n",
       "                                       (&#x27;nb&#x27;, MultinomialNB())]),\n",
       "             n_jobs=-1,\n",
       "             param_grid={&#x27;cvec__max_df&#x27;: [0.8, 0.85, 0.9, 0.95],\n",
       "                         &#x27;cvec__max_features&#x27;: [2000, 3000, 4000, 5000, 6000],\n",
       "                         &#x27;cvec__min_df&#x27;: [2, 3, 4, 5, 6, 7],\n",
       "                         &#x27;cvec__ngram_range&#x27;: [(1, 1), (2, 2), (3, 3)],\n",
       "                         &#x27;nb__alpha&#x27;: [1e-05, 0.0001, 0.001, 0.1, 1, 10, 100]},\n",
       "             verbose=2)</pre></div></div></div><div class=\"sk-parallel\"><div class=\"sk-parallel-item\"><div class=\"sk-item\"><div class=\"sk-label-container\"><div class=\"sk-label sk-toggleable\"><input class=\"sk-toggleable__control sk-hidden--visually\" id=\"sk-estimator-id-2\" type=\"checkbox\" ><label for=\"sk-estimator-id-2\" class=\"sk-toggleable__label sk-toggleable__label-arrow\">estimator: Pipeline</label><div class=\"sk-toggleable__content\"><pre>Pipeline(steps=[(&#x27;cvec&#x27;, CountVectorizer()), (&#x27;nb&#x27;, MultinomialNB())])</pre></div></div></div><div class=\"sk-serial\"><div class=\"sk-item\"><div class=\"sk-serial\"><div class=\"sk-item\"><div class=\"sk-estimator sk-toggleable\"><input class=\"sk-toggleable__control sk-hidden--visually\" id=\"sk-estimator-id-3\" type=\"checkbox\" ><label for=\"sk-estimator-id-3\" class=\"sk-toggleable__label sk-toggleable__label-arrow\">CountVectorizer</label><div class=\"sk-toggleable__content\"><pre>CountVectorizer()</pre></div></div></div><div class=\"sk-item\"><div class=\"sk-estimator sk-toggleable\"><input class=\"sk-toggleable__control sk-hidden--visually\" id=\"sk-estimator-id-4\" type=\"checkbox\" ><label for=\"sk-estimator-id-4\" class=\"sk-toggleable__label sk-toggleable__label-arrow\">MultinomialNB</label><div class=\"sk-toggleable__content\"><pre>MultinomialNB()</pre></div></div></div></div></div></div></div></div></div></div></div></div>"
      ],
      "text/plain": [
       "GridSearchCV(cv=5,\n",
       "             estimator=Pipeline(steps=[('cvec', CountVectorizer()),\n",
       "                                       ('nb', MultinomialNB())]),\n",
       "             n_jobs=-1,\n",
       "             param_grid={'cvec__max_df': [0.8, 0.85, 0.9, 0.95],\n",
       "                         'cvec__max_features': [2000, 3000, 4000, 5000, 6000],\n",
       "                         'cvec__min_df': [2, 3, 4, 5, 6, 7],\n",
       "                         'cvec__ngram_range': [(1, 1), (2, 2), (3, 3)],\n",
       "                         'nb__alpha': [1e-05, 0.0001, 0.001, 0.1, 1, 10, 100]},\n",
       "             verbose=2)"
      ]
     },
     "execution_count": 35,
     "metadata": {},
     "output_type": "execute_result"
    }
   ],
   "source": [
    "%%time\n",
    "# Conducting GridSearch on training data\n",
    "cvec_multinomial.fit(X_train, y_train);"
   ]
  },
  {
   "cell_type": "code",
   "execution_count": 36,
   "id": "172b1226",
   "metadata": {},
   "outputs": [
    {
     "name": "stdout",
     "output_type": "stream",
     "text": [
      "{'cvec__max_df': 0.8, 'cvec__max_features': 4000, 'cvec__min_df': 2, 'cvec__ngram_range': (1, 1), 'nb__alpha': 0.1}\n"
     ]
    }
   ],
   "source": [
    "# Retrieving the best parameters resulting from the GridSearch\n",
    "print(cvec_multinomial.best_params_)"
   ]
  },
  {
   "cell_type": "code",
   "execution_count": 37,
   "id": "f01abf12",
   "metadata": {},
   "outputs": [
    {
     "name": "stdout",
     "output_type": "stream",
     "text": [
      "CountVectorizer Multinomial Naive Bayes GridSearchCV best score is:0.86244.\n",
      "CountVectorizer Multinomial Naive Bayes train score is:0.93882.\n",
      "CountVectorizer Multinomial Naive Bayes test score is:0.87542.\n"
     ]
    }
   ],
   "source": [
    "# Best score\n",
    "cvec_multinomial_best = round(cvec_multinomial.best_score_, 5)\n",
    "print('CountVectorizer Multinomial Naive Bayes GridSearchCV best score is:{}.'.format(cvec_multinomial_best))\n",
    "\n",
    "# Training score\n",
    "cvec_multinomial_train = round(cvec_multinomial.score(X_train, y_train), 5)\n",
    "print('CountVectorizer Multinomial Naive Bayes train score is:{}.'.format(cvec_multinomial_train))\n",
    "\n",
    "# Test score\n",
    "cvec_multinomial_test = round(cvec_multinomial.score(X_test, y_test), 5)\n",
    "print('CountVectorizer Multinomial Naive Bayes test score is:{}.'.format(cvec_multinomial_test))"
   ]
  },
  {
   "cell_type": "code",
   "execution_count": 38,
   "id": "fb992d84",
   "metadata": {},
   "outputs": [
    {
     "name": "stderr",
     "output_type": "stream",
     "text": [
      "D:\\Anaconda\\envs\\Python\\lib\\site-packages\\sklearn\\utils\\deprecation.py:87: FutureWarning: Function plot_confusion_matrix is deprecated; Function `plot_confusion_matrix` is deprecated in 1.0 and will be removed in 1.2. Use one of the class methods: ConfusionMatrixDisplay.from_predictions or ConfusionMatrixDisplay.from_estimator.\n",
      "  warnings.warn(msg, category=FutureWarning)\n"
     ]
    },
    {
     "data": {
      "image/png": "[encoded data removed]",
      "text/plain": [
       "<Figure size 432x288 with 2 Axes>"
      ]
     },
     "metadata": {
      "needs_background": "light"
     },
     "output_type": "display_data"
    }
   ],
   "source": [
    "# View confusion matrix\n",
    "plot_confusion_matrix(cvec_multinomial, X_test, y_test, cmap='Blues', values_format='d', display_labels=['coffee', 'tea'])\n",
    "plt.title('Confusion Matrix of CountVectorizer Multinomial Naive Bayes Model');"
   ]
  },
  {
   "cell_type": "code",
   "execution_count": 39,
   "id": "54a17fb9",
   "metadata": {},
   "outputs": [
    {
     "name": "stderr",
     "output_type": "stream",
     "text": [
      "D:\\Anaconda\\envs\\Python\\lib\\site-packages\\sklearn\\utils\\deprecation.py:87: FutureWarning: Function plot_roc_curve is deprecated; Function :func:`plot_roc_curve` is deprecated in 1.0 and will be removed in 1.2. Use one of the class methods: :meth:`sklearn.metric.RocCurveDisplay.from_predictions` or :meth:`sklearn.metric.RocCurveDisplay.from_estimator`.\n",
      "  warnings.warn(msg, category=FutureWarning)\n"
     ]
    },
    {
     "data": {
      "image/png": "[encoded data removed]",
      "text/plain": [
       "<Figure size 432x288 with 1 Axes>"
      ]
     },
     "metadata": {
      "needs_background": "light"
     },
     "output_type": "display_data"
    }
   ],
   "source": [
    "# Plotting AUC ROC curve\n",
    "plot_roc_curve(cvec_multinomial, X_test, y_test)\n",
    "plt.plot([0, 1], [0, 1],\n",
    "         label='baseline', linestyle='--')\n",
    "plt.legend()\n",
    "plt.title('ROC Curve of CountVectorizer Multinomial Naive Bayes Model');"
   ]
  },
  {
   "cell_type": "markdown",
   "id": "83f714e8",
   "metadata": {},
   "source": [
    "## Bernoulli Naive Bayes Model (CountVectorizer)"
   ]
  },
  {
   "cell_type": "code",
   "execution_count": 40,
   "id": "64823f07",
   "metadata": {},
   "outputs": [],
   "source": [
    "# Setting up a pipeline up with two stages:\n",
    "# 1. CountVectorizer (transformer)\n",
    "# 2. Bernoulli Naive Bayes (estimator)\n",
    "\n",
    "pipe_cvec_bernoulli = Pipeline([\n",
    "    ('cvec', CountVectorizer()),\n",
    "    ('nb', BernoulliNB())\n",
    "])"
   ]
  },
  {
   "cell_type": "code",
   "execution_count": 41,
   "id": "5acc307b",
   "metadata": {},
   "outputs": [],
   "source": [
    "# Search over the following values of hyperparameters:\n",
    "# Maximum number of features fit: 2000, 3000, 4000, 5000, 6000\n",
    "# Minimum number of documents needed to include token: 2, 3, 4, 5, 6, 7\n",
    "# Maximum number of documents needed to include token: 80%, 85%, 90%, 95%\n",
    "# Check unigrams, bigrams, and trigrams\n",
    "# Regularization strength: 0.00001, 0.0001, 0.001, 0.1, 1, 10, 100\n",
    "\n",
    "pipe_cvec_bernoulli_params = {\n",
    "    'cvec__max_features': [2_000, 3_000, 4_000, 5_000, 6_000],\n",
    "    'cvec__min_df': [2, 3, 4, 5, 6, 7] , \n",
    "    'cvec__max_df': [0.8, 0.85, 0.9, 0.95],\n",
    "    'cvec__ngram_range': [(1, 1), (2, 2), (3, 3)],\n",
    "    'nb__alpha': [0.00001, 0.0001, 0.001, 0.1, 1, 10, 100]\n",
    "}"
   ]
  },
  {
   "cell_type": "code",
   "execution_count": 42,
   "id": "82494196",
   "metadata": {},
   "outputs": [],
   "source": [
    "# Instantiate GridSearchCV\n",
    "cvec_bernoulli = GridSearchCV(pipe_cvec_bernoulli, \n",
    "                              param_grid = pipe_cvec_bernoulli_params,\n",
    "                              cv = 5,\n",
    "                              n_jobs = -1,\n",
    "                              verbose = 2) "
   ]
  },
  {
   "cell_type": "code",
   "execution_count": 43,
   "id": "d23ab078",
   "metadata": {},
   "outputs": [
    {
     "name": "stdout",
     "output_type": "stream",
     "text": [
      "Fitting 5 folds for each of 2520 candidates, totalling 12600 fits\n",
      "CPU times: total: 1min 14s\n",
      "Wall time: 48min 4s\n"
     ]
    },
    {
     "data": {
      "text/html": [
       "<style>#sk-container-id-2 {color: black;background-color: white;}#sk-container-id-2 pre{padding: 0;}#sk-container-id-2 div.sk-toggleable {background-color: white;}#sk-container-id-2 label.sk-toggleable__label {cursor: pointer;display: block;width: 100%;margin-bottom: 0;padding: 0.3em;box-sizing: border-box;text-align: center;}#sk-container-id-2 label.sk-toggleable__label-arrow:before {content: \"▸\";float: left;margin-right: 0.25em;color: #696969;}#sk-container-id-2 label.sk-toggleable__label-arrow:hover:before {color: black;}#sk-container-id-2 div.sk-estimator:hover label.sk-toggleable__label-arrow:before {color: black;}#sk-container-id-2 div.sk-toggleable__content {max-height: 0;max-width: 0;overflow: hidden;text-align: left;background-color: #f0f8ff;}#sk-container-id-2 div.sk-toggleable__content pre {margin: 0.2em;color: black;border-radius: 0.25em;background-color: #f0f8ff;}#sk-container-id-2 input.sk-toggleable__control:checked~div.sk-toggleable__content {max-height: 200px;max-width: 100%;overflow: auto;}#sk-container-id-2 input.sk-toggleable__control:checked~label.sk-toggleable__label-arrow:before {content: \"▾\";}#sk-container-id-2 div.sk-estimator input.sk-toggleable__control:checked~label.sk-toggleable__label {background-color: #d4ebff;}#sk-container-id-2 div.sk-label input.sk-toggleable__control:checked~label.sk-toggleable__label {background-color: #d4ebff;}#sk-container-id-2 input.sk-hidden--visually {border: 0;clip: rect(1px 1px 1px 1px);clip: rect(1px, 1px, 1px, 1px);height: 1px;margin: -1px;overflow: hidden;padding: 0;position: absolute;width: 1px;}#sk-container-id-2 div.sk-estimator {font-family: monospace;background-color: #f0f8ff;border: 1px dotted black;border-radius: 0.25em;box-sizing: border-box;margin-bottom: 0.5em;}#sk-container-id-2 div.sk-estimator:hover {background-color: #d4ebff;}#sk-container-id-2 div.sk-parallel-item::after {content: \"\";width: 100%;border-bottom: 1px solid gray;flex-grow: 1;}#sk-container-id-2 div.sk-label:hover label.sk-toggleable__label {background-color: #d4ebff;}#sk-container-id-2 div.sk-serial::before {content: \"\";position: absolute;border-left: 1px solid gray;box-sizing: border-box;top: 0;bottom: 0;left: 50%;z-index: 0;}#sk-container-id-2 div.sk-serial {display: flex;flex-direction: column;align-items: center;background-color: white;padding-right: 0.2em;padding-left: 0.2em;position: relative;}#sk-container-id-2 div.sk-item {position: relative;z-index: 1;}#sk-container-id-2 div.sk-parallel {display: flex;align-items: stretch;justify-content: center;background-color: white;position: relative;}#sk-container-id-2 div.sk-item::before, #sk-container-id-2 div.sk-parallel-item::before {content: \"\";position: absolute;border-left: 1px solid gray;box-sizing: border-box;top: 0;bottom: 0;left: 50%;z-index: -1;}#sk-container-id-2 div.sk-parallel-item {display: flex;flex-direction: column;z-index: 1;position: relative;background-color: white;}#sk-container-id-2 div.sk-parallel-item:first-child::after {align-self: flex-end;width: 50%;}#sk-container-id-2 div.sk-parallel-item:last-child::after {align-self: flex-start;width: 50%;}#sk-container-id-2 div.sk-parallel-item:only-child::after {width: 0;}#sk-container-id-2 div.sk-dashed-wrapped {border: 1px dashed gray;margin: 0 0.4em 0.5em 0.4em;box-sizing: border-box;padding-bottom: 0.4em;background-color: white;}#sk-container-id-2 div.sk-label label {font-family: monospace;font-weight: bold;display: inline-block;line-height: 1.2em;}#sk-container-id-2 div.sk-label-container {text-align: center;}#sk-container-id-2 div.sk-container {/* jupyter's `normalize.less` sets `[hidden] { display: none; }` but bootstrap.min.css set `[hidden] { display: none !important; }` so we also need the `!important` here to be able to override the default hidden behavior on the sphinx rendered scikit-learn.org. See: https://github.com/scikit-learn/scikit-learn/issues/21755 */display: inline-block !important;position: relative;}#sk-container-id-2 div.sk-text-repr-fallback {display: none;}</style><div id=\"sk-container-id-2\" class=\"sk-top-container\"><div class=\"sk-text-repr-fallback\"><pre>GridSearchCV(cv=5,\n",
       "             estimator=Pipeline(steps=[(&#x27;cvec&#x27;, CountVectorizer()),\n",
       "                                       (&#x27;nb&#x27;, BernoulliNB())]),\n",
       "             n_jobs=-1,\n",
       "             param_grid={&#x27;cvec__max_df&#x27;: [0.8, 0.85, 0.9, 0.95],\n",
       "                         &#x27;cvec__max_features&#x27;: [2000, 3000, 4000, 5000, 6000],\n",
       "                         &#x27;cvec__min_df&#x27;: [2, 3, 4, 5, 6, 7],\n",
       "                         &#x27;cvec__ngram_range&#x27;: [(1, 1), (2, 2), (3, 3)],\n",
       "                         &#x27;nb__alpha&#x27;: [1e-05, 0.0001, 0.001, 0.1, 1, 10, 100]},\n",
       "             verbose=2)</pre><b>In a Jupyter environment, please rerun this cell to show the HTML representation or trust the notebook. <br />On GitHub, the HTML representation is unable to render, please try loading this page with nbviewer.org.</b></div><div class=\"sk-container\" hidden><div class=\"sk-item sk-dashed-wrapped\"><div class=\"sk-label-container\"><div class=\"sk-label sk-toggleable\"><input class=\"sk-toggleable__control sk-hidden--visually\" id=\"sk-estimator-id-5\" type=\"checkbox\" ><label for=\"sk-estimator-id-5\" class=\"sk-toggleable__label sk-toggleable__label-arrow\">GridSearchCV</label><div class=\"sk-toggleable__content\"><pre>GridSearchCV(cv=5,\n",
       "             estimator=Pipeline(steps=[(&#x27;cvec&#x27;, CountVectorizer()),\n",
       "                                       (&#x27;nb&#x27;, BernoulliNB())]),\n",
       "             n_jobs=-1,\n",
       "             param_grid={&#x27;cvec__max_df&#x27;: [0.8, 0.85, 0.9, 0.95],\n",
       "                         &#x27;cvec__max_features&#x27;: [2000, 3000, 4000, 5000, 6000],\n",
       "                         &#x27;cvec__min_df&#x27;: [2, 3, 4, 5, 6, 7],\n",
       "                         &#x27;cvec__ngram_range&#x27;: [(1, 1), (2, 2), (3, 3)],\n",
       "                         &#x27;nb__alpha&#x27;: [1e-05, 0.0001, 0.001, 0.1, 1, 10, 100]},\n",
       "             verbose=2)</pre></div></div></div><div class=\"sk-parallel\"><div class=\"sk-parallel-item\"><div class=\"sk-item\"><div class=\"sk-label-container\"><div class=\"sk-label sk-toggleable\"><input class=\"sk-toggleable__control sk-hidden--visually\" id=\"sk-estimator-id-6\" type=\"checkbox\" ><label for=\"sk-estimator-id-6\" class=\"sk-toggleable__label sk-toggleable__label-arrow\">estimator: Pipeline</label><div class=\"sk-toggleable__content\"><pre>Pipeline(steps=[(&#x27;cvec&#x27;, CountVectorizer()), (&#x27;nb&#x27;, BernoulliNB())])</pre></div></div></div><div class=\"sk-serial\"><div class=\"sk-item\"><div class=\"sk-serial\"><div class=\"sk-item\"><div class=\"sk-estimator sk-toggleable\"><input class=\"sk-toggleable__control sk-hidden--visually\" id=\"sk-estimator-id-7\" type=\"checkbox\" ><label for=\"sk-estimator-id-7\" class=\"sk-toggleable__label sk-toggleable__label-arrow\">CountVectorizer</label><div class=\"sk-toggleable__content\"><pre>CountVectorizer()</pre></div></div></div><div class=\"sk-item\"><div class=\"sk-estimator sk-toggleable\"><input class=\"sk-toggleable__control sk-hidden--visually\" id=\"sk-estimator-id-8\" type=\"checkbox\" ><label for=\"sk-estimator-id-8\" class=\"sk-toggleable__label sk-toggleable__label-arrow\">BernoulliNB</label><div class=\"sk-toggleable__content\"><pre>BernoulliNB()</pre></div></div></div></div></div></div></div></div></div></div></div></div>"
      ],
      "text/plain": [
       "GridSearchCV(cv=5,\n",
       "             estimator=Pipeline(steps=[('cvec', CountVectorizer()),\n",
       "                                       ('nb', BernoulliNB())]),\n",
       "             n_jobs=-1,\n",
       "             param_grid={'cvec__max_df': [0.8, 0.85, 0.9, 0.95],\n",
       "                         'cvec__max_features': [2000, 3000, 4000, 5000, 6000],\n",
       "                         'cvec__min_df': [2, 3, 4, 5, 6, 7],\n",
       "                         'cvec__ngram_range': [(1, 1), (2, 2), (3, 3)],\n",
       "                         'nb__alpha': [1e-05, 0.0001, 0.001, 0.1, 1, 10, 100]},\n",
       "             verbose=2)"
      ]
     },
     "execution_count": 43,
     "metadata": {},
     "output_type": "execute_result"
    }
   ],
   "source": [
    "%%time\n",
    "# Conducting GridSearch on training data\n",
    "cvec_bernoulli.fit(X_train, y_train)"
   ]
  },
  {
   "cell_type": "code",
   "execution_count": 44,
   "id": "ada444df",
   "metadata": {},
   "outputs": [
    {
     "name": "stdout",
     "output_type": "stream",
     "text": [
      "{'cvec__max_df': 0.8, 'cvec__max_features': 4000, 'cvec__min_df': 2, 'cvec__ngram_range': (1, 1), 'nb__alpha': 0.0001}\n"
     ]
    }
   ],
   "source": [
    "# Retrieving the best parameters resulting from the GridSearch\n",
    "print(cvec_bernoulli.best_params_)"
   ]
  },
  {
   "cell_type": "code",
   "execution_count": 45,
   "id": "19bfab9a",
   "metadata": {},
   "outputs": [
    {
     "name": "stdout",
     "output_type": "stream",
     "text": [
      "CountVectorizer Bernoulli Naive Bayes GridSearchCV best score is:0.81238.\n",
      "CountVectorizer Bernoulli Naive Bayes train score is:0.89618.\n",
      "CountVectorizer Bernoulli Naive Bayes test score is:0.82091.\n"
     ]
    }
   ],
   "source": [
    "# Best score\n",
    "cvec_bernoulli_best = round(cvec_bernoulli.best_score_, 5)\n",
    "print('CountVectorizer Bernoulli Naive Bayes GridSearchCV best score is:{}.'.format(cvec_bernoulli_best))\n",
    "\n",
    "# Training score\n",
    "cvec_bernoulli_train = round(cvec_bernoulli.score(X_train, y_train), 5)\n",
    "print('CountVectorizer Bernoulli Naive Bayes train score is:{}.'.format(cvec_bernoulli_train))\n",
    "\n",
    "# Test score\n",
    "cvec_bernoulli_test = round(cvec_bernoulli.score(X_test, y_test), 5)\n",
    "print('CountVectorizer Bernoulli Naive Bayes test score is:{}.'.format(cvec_bernoulli_test))"
   ]
  },
  {
   "cell_type": "code",
   "execution_count": 46,
   "id": "744df456",
   "metadata": {},
   "outputs": [
    {
     "name": "stderr",
     "output_type": "stream",
     "text": [
      "D:\\Anaconda\\envs\\Python\\lib\\site-packages\\sklearn\\utils\\deprecation.py:87: FutureWarning: Function plot_confusion_matrix is deprecated; Function `plot_confusion_matrix` is deprecated in 1.0 and will be removed in 1.2. Use one of the class methods: ConfusionMatrixDisplay.from_predictions or ConfusionMatrixDisplay.from_estimator.\n",
      "  warnings.warn(msg, category=FutureWarning)\n"
     ]
    },
    {
     "data": {
      "image/png": "[encoded data removed]",
      "text/plain": [
       "<Figure size 432x288 with 2 Axes>"
      ]
     },
     "metadata": {
      "needs_background": "light"
     },
     "output_type": "display_data"
    }
   ],
   "source": [
    "# View confusion matrix\n",
    "plot_confusion_matrix(cvec_bernoulli, X_test, y_test, cmap='Blues', values_format='d', display_labels=['coffee', 'tea'])\n",
    "plt.title('Confusion Matrix of CountVectorizer Bernoulli Naive Bayes Model');"
   ]
  },
  {
   "cell_type": "code",
   "execution_count": 47,
   "id": "090c2267",
   "metadata": {},
   "outputs": [
    {
     "name": "stderr",
     "output_type": "stream",
     "text": [
      "D:\\Anaconda\\envs\\Python\\lib\\site-packages\\sklearn\\utils\\deprecation.py:87: FutureWarning: Function plot_roc_curve is deprecated; Function :func:`plot_roc_curve` is deprecated in 1.0 and will be removed in 1.2. Use one of the class methods: :meth:`sklearn.metric.RocCurveDisplay.from_predictions` or :meth:`sklearn.metric.RocCurveDisplay.from_estimator`.\n",
      "  warnings.warn(msg, category=FutureWarning)\n"
     ]
    },
    {
     "data": {
      "image/png": "[encoded data removed]",
      "text/plain": [
       "<Figure size 432x288 with 1 Axes>"
      ]
     },
     "metadata": {
      "needs_background": "light"
     },
     "output_type": "display_data"
    }
   ],
   "source": [
    "# Plotting AUC ROC curve\n",
    "plot_roc_curve(cvec_bernoulli, X_test, y_test)\n",
    "plt.plot([0, 1], [0, 1],\n",
    "         label='baseline', linestyle='--')\n",
    "plt.legend()\n",
    "plt.title('ROC Curve of CountVectorizer Bernoulli Naive Bayes Model');"
   ]
  },
  {
   "cell_type": "markdown",
   "id": "e1ac75a7",
   "metadata": {},
   "source": [
    "## Multinomial Naive Bayes Model (TF-IDF)"
   ]
  },
  {
   "cell_type": "code",
   "execution_count": 48,
   "id": "94a0b5cd",
   "metadata": {},
   "outputs": [],
   "source": [
    "# Setting up a pipeline up with two stages:\n",
    "# 1. Term Frequency-Inverse Document Frequency (transformer)\n",
    "# 2. Multinomial Naive Bayes (estimator)\n",
    "\n",
    "pipe_tvec_multinomial = Pipeline([\n",
    "    ('tvec', TfidfVectorizer()),\n",
    "    ('nb', MultinomialNB())\n",
    "])"
   ]
  },
  {
   "cell_type": "code",
   "execution_count": 49,
   "id": "d71b6fa1",
   "metadata": {},
   "outputs": [],
   "source": [
    "# Search over the following values of hyperparameters:\n",
    "# Maximum number of features fit: 2000, 3000, 4000, 5000, 6000\n",
    "# Minimum number of documents needed to include token: 2, 3, 4, 5, 6, 7\n",
    "# Maximum number of documents needed to include token: 80%, 85%, 90%, 95%\n",
    "# Check unigrams, bigrams, and trigrams\n",
    "# Regularization strength: 0.00001, 0.0001, 0.001, 0.1, 1, 10, 100\n",
    "\n",
    "pipe_tvec_multinomial_params = {\n",
    "    'tvec__max_features': [2_000, 3_000, 4_000, 5_000, 6_000],\n",
    "    'tvec__min_df': [2, 3, 4, 5, 6, 7] , \n",
    "    'tvec__max_df': [0.8, 0.85, 0.9, 0.95],\n",
    "    'tvec__ngram_range': [(1,1), (2,2), (3,3)],\n",
    "    'nb__alpha': [0.00001, 0.0001, 0.001, 0.1, 1, 10, 100]\n",
    "}"
   ]
  },
  {
   "cell_type": "code",
   "execution_count": 50,
   "id": "06f66f5c",
   "metadata": {},
   "outputs": [],
   "source": [
    "# Instantiate GridSearchCV\n",
    "tvec_multinomial = GridSearchCV(pipe_tvec_multinomial,\n",
    "                                param_grid = pipe_tvec_multinomial_params,\n",
    "                                cv = 5,\n",
    "                                n_jobs = -1,\n",
    "                                verbose = 2) "
   ]
  },
  {
   "cell_type": "code",
   "execution_count": 51,
   "id": "3ad52b35",
   "metadata": {},
   "outputs": [
    {
     "name": "stdout",
     "output_type": "stream",
     "text": [
      "Fitting 5 folds for each of 2520 candidates, totalling 12600 fits\n",
      "CPU times: total: 1min 11s\n",
      "Wall time: 36min 21s\n"
     ]
    },
    {
     "data": {
      "text/html": [
       "<style>#sk-container-id-3 {color: black;background-color: white;}#sk-container-id-3 pre{padding: 0;}#sk-container-id-3 div.sk-toggleable {background-color: white;}#sk-container-id-3 label.sk-toggleable__label {cursor: pointer;display: block;width: 100%;margin-bottom: 0;padding: 0.3em;box-sizing: border-box;text-align: center;}#sk-container-id-3 label.sk-toggleable__label-arrow:before {content: \"▸\";float: left;margin-right: 0.25em;color: #696969;}#sk-container-id-3 label.sk-toggleable__label-arrow:hover:before {color: black;}#sk-container-id-3 div.sk-estimator:hover label.sk-toggleable__label-arrow:before {color: black;}#sk-container-id-3 div.sk-toggleable__content {max-height: 0;max-width: 0;overflow: hidden;text-align: left;background-color: #f0f8ff;}#sk-container-id-3 div.sk-toggleable__content pre {margin: 0.2em;color: black;border-radius: 0.25em;background-color: #f0f8ff;}#sk-container-id-3 input.sk-toggleable__control:checked~div.sk-toggleable__content {max-height: 200px;max-width: 100%;overflow: auto;}#sk-container-id-3 input.sk-toggleable__control:checked~label.sk-toggleable__label-arrow:before {content: \"▾\";}#sk-container-id-3 div.sk-estimator input.sk-toggleable__control:checked~label.sk-toggleable__label {background-color: #d4ebff;}#sk-container-id-3 div.sk-label input.sk-toggleable__control:checked~label.sk-toggleable__label {background-color: #d4ebff;}#sk-container-id-3 input.sk-hidden--visually {border: 0;clip: rect(1px 1px 1px 1px);clip: rect(1px, 1px, 1px, 1px);height: 1px;margin: -1px;overflow: hidden;padding: 0;position: absolute;width: 1px;}#sk-container-id-3 div.sk-estimator {font-family: monospace;background-color: #f0f8ff;border: 1px dotted black;border-radius: 0.25em;box-sizing: border-box;margin-bottom: 0.5em;}#sk-container-id-3 div.sk-estimator:hover {background-color: #d4ebff;}#sk-container-id-3 div.sk-parallel-item::after {content: \"\";width: 100%;border-bottom: 1px solid gray;flex-grow: 1;}#sk-container-id-3 div.sk-label:hover label.sk-toggleable__label {background-color: #d4ebff;}#sk-container-id-3 div.sk-serial::before {content: \"\";position: absolute;border-left: 1px solid gray;box-sizing: border-box;top: 0;bottom: 0;left: 50%;z-index: 0;}#sk-container-id-3 div.sk-serial {display: flex;flex-direction: column;align-items: center;background-color: white;padding-right: 0.2em;padding-left: 0.2em;position: relative;}#sk-container-id-3 div.sk-item {position: relative;z-index: 1;}#sk-container-id-3 div.sk-parallel {display: flex;align-items: stretch;justify-content: center;background-color: white;position: relative;}#sk-container-id-3 div.sk-item::before, #sk-container-id-3 div.sk-parallel-item::before {content: \"\";position: absolute;border-left: 1px solid gray;box-sizing: border-box;top: 0;bottom: 0;left: 50%;z-index: -1;}#sk-container-id-3 div.sk-parallel-item {display: flex;flex-direction: column;z-index: 1;position: relative;background-color: white;}#sk-container-id-3 div.sk-parallel-item:first-child::after {align-self: flex-end;width: 50%;}#sk-container-id-3 div.sk-parallel-item:last-child::after {align-self: flex-start;width: 50%;}#sk-container-id-3 div.sk-parallel-item:only-child::after {width: 0;}#sk-container-id-3 div.sk-dashed-wrapped {border: 1px dashed gray;margin: 0 0.4em 0.5em 0.4em;box-sizing: border-box;padding-bottom: 0.4em;background-color: white;}#sk-container-id-3 div.sk-label label {font-family: monospace;font-weight: bold;display: inline-block;line-height: 1.2em;}#sk-container-id-3 div.sk-label-container {text-align: center;}#sk-container-id-3 div.sk-container {/* jupyter's `normalize.less` sets `[hidden] { display: none; }` but bootstrap.min.css set `[hidden] { display: none !important; }` so we also need the `!important` here to be able to override the default hidden behavior on the sphinx rendered scikit-learn.org. See: https://github.com/scikit-learn/scikit-learn/issues/21755 */display: inline-block !important;position: relative;}#sk-container-id-3 div.sk-text-repr-fallback {display: none;}</style><div id=\"sk-container-id-3\" class=\"sk-top-container\"><div class=\"sk-text-repr-fallback\"><pre>GridSearchCV(cv=5,\n",
       "             estimator=Pipeline(steps=[(&#x27;tvec&#x27;, TfidfVectorizer()),\n",
       "                                       (&#x27;nb&#x27;, MultinomialNB())]),\n",
       "             n_jobs=-1,\n",
       "             param_grid={&#x27;nb__alpha&#x27;: [1e-05, 0.0001, 0.001, 0.1, 1, 10, 100],\n",
       "                         &#x27;tvec__max_df&#x27;: [0.8, 0.85, 0.9, 0.95],\n",
       "                         &#x27;tvec__max_features&#x27;: [2000, 3000, 4000, 5000, 6000],\n",
       "                         &#x27;tvec__min_df&#x27;: [2, 3, 4, 5, 6, 7],\n",
       "                         &#x27;tvec__ngram_range&#x27;: [(1, 1), (2, 2), (3, 3)]},\n",
       "             verbose=2)</pre><b>In a Jupyter environment, please rerun this cell to show the HTML representation or trust the notebook. <br />On GitHub, the HTML representation is unable to render, please try loading this page with nbviewer.org.</b></div><div class=\"sk-container\" hidden><div class=\"sk-item sk-dashed-wrapped\"><div class=\"sk-label-container\"><div class=\"sk-label sk-toggleable\"><input class=\"sk-toggleable__control sk-hidden--visually\" id=\"sk-estimator-id-9\" type=\"checkbox\" ><label for=\"sk-estimator-id-9\" class=\"sk-toggleable__label sk-toggleable__label-arrow\">GridSearchCV</label><div class=\"sk-toggleable__content\"><pre>GridSearchCV(cv=5,\n",
       "             estimator=Pipeline(steps=[(&#x27;tvec&#x27;, TfidfVectorizer()),\n",
       "                                       (&#x27;nb&#x27;, MultinomialNB())]),\n",
       "             n_jobs=-1,\n",
       "             param_grid={&#x27;nb__alpha&#x27;: [1e-05, 0.0001, 0.001, 0.1, 1, 10, 100],\n",
       "                         &#x27;tvec__max_df&#x27;: [0.8, 0.85, 0.9, 0.95],\n",
       "                         &#x27;tvec__max_features&#x27;: [2000, 3000, 4000, 5000, 6000],\n",
       "                         &#x27;tvec__min_df&#x27;: [2, 3, 4, 5, 6, 7],\n",
       "                         &#x27;tvec__ngram_range&#x27;: [(1, 1), (2, 2), (3, 3)]},\n",
       "             verbose=2)</pre></div></div></div><div class=\"sk-parallel\"><div class=\"sk-parallel-item\"><div class=\"sk-item\"><div class=\"sk-label-container\"><div class=\"sk-label sk-toggleable\"><input class=\"sk-toggleable__control sk-hidden--visually\" id=\"sk-estimator-id-10\" type=\"checkbox\" ><label for=\"sk-estimator-id-10\" class=\"sk-toggleable__label sk-toggleable__label-arrow\">estimator: Pipeline</label><div class=\"sk-toggleable__content\"><pre>Pipeline(steps=[(&#x27;tvec&#x27;, TfidfVectorizer()), (&#x27;nb&#x27;, MultinomialNB())])</pre></div></div></div><div class=\"sk-serial\"><div class=\"sk-item\"><div class=\"sk-serial\"><div class=\"sk-item\"><div class=\"sk-estimator sk-toggleable\"><input class=\"sk-toggleable__control sk-hidden--visually\" id=\"sk-estimator-id-11\" type=\"checkbox\" ><label for=\"sk-estimator-id-11\" class=\"sk-toggleable__label sk-toggleable__label-arrow\">TfidfVectorizer</label><div class=\"sk-toggleable__content\"><pre>TfidfVectorizer()</pre></div></div></div><div class=\"sk-item\"><div class=\"sk-estimator sk-toggleable\"><input class=\"sk-toggleable__control sk-hidden--visually\" id=\"sk-estimator-id-12\" type=\"checkbox\" ><label for=\"sk-estimator-id-12\" class=\"sk-toggleable__label sk-toggleable__label-arrow\">MultinomialNB</label><div class=\"sk-toggleable__content\"><pre>MultinomialNB()</pre></div></div></div></div></div></div></div></div></div></div></div></div>"
      ],
      "text/plain": [
       "GridSearchCV(cv=5,\n",
       "             estimator=Pipeline(steps=[('tvec', TfidfVectorizer()),\n",
       "                                       ('nb', MultinomialNB())]),\n",
       "             n_jobs=-1,\n",
       "             param_grid={'nb__alpha': [1e-05, 0.0001, 0.001, 0.1, 1, 10, 100],\n",
       "                         'tvec__max_df': [0.8, 0.85, 0.9, 0.95],\n",
       "                         'tvec__max_features': [2000, 3000, 4000, 5000, 6000],\n",
       "                         'tvec__min_df': [2, 3, 4, 5, 6, 7],\n",
       "                         'tvec__ngram_range': [(1, 1), (2, 2), (3, 3)]},\n",
       "             verbose=2)"
      ]
     },
     "execution_count": 51,
     "metadata": {},
     "output_type": "execute_result"
    }
   ],
   "source": [
    "%%time\n",
    "# Conducting GridSearch on training data\n",
    "tvec_multinomial.fit(X_train, y_train)"
   ]
  },
  {
   "cell_type": "code",
   "execution_count": 52,
   "id": "6a8d3bda",
   "metadata": {},
   "outputs": [
    {
     "name": "stdout",
     "output_type": "stream",
     "text": [
      "{'nb__alpha': 0.1, 'tvec__max_df': 0.8, 'tvec__max_features': 3000, 'tvec__min_df': 3, 'tvec__ngram_range': (1, 1)}\n"
     ]
    }
   ],
   "source": [
    "# Retrieving the best parameters resulting from the GridSearch\n",
    "print(tvec_multinomial.best_params_)"
   ]
  },
  {
   "cell_type": "code",
   "execution_count": 53,
   "id": "3bf46426",
   "metadata": {},
   "outputs": [
    {
     "name": "stdout",
     "output_type": "stream",
     "text": [
      "TFIDF Multinomial Naive Bayes GridSearchCV best score is:0.85836.\n",
      "TFIDF Multinomial Naive Bayes train score is:0.94624.\n",
      "TFIDF Multinomial Naive Bayes test score is:0.87653.\n"
     ]
    }
   ],
   "source": [
    "# Best score\n",
    "tvec_multinomial_best = round(tvec_multinomial.best_score_, 5)\n",
    "print('TFIDF Multinomial Naive Bayes GridSearchCV best score is:{}.'.format(tvec_multinomial_best))\n",
    "\n",
    "# Training score\n",
    "tvec_multinomial_train = round(tvec_multinomial.score(X_train, y_train), 5)\n",
    "print('TFIDF Multinomial Naive Bayes train score is:{}.'.format(tvec_multinomial_train))\n",
    "\n",
    "# Test score\n",
    "tvec_multinomial_test = round(tvec_multinomial.score(X_test, y_test), 5)\n",
    "print('TFIDF Multinomial Naive Bayes test score is:{}.'.format(tvec_multinomial_test))"
   ]
  },
  {
   "cell_type": "code",
   "execution_count": 54,
   "id": "c6fa23ff",
   "metadata": {},
   "outputs": [
    {
     "name": "stderr",
     "output_type": "stream",
     "text": [
      "D:\\Anaconda\\envs\\Python\\lib\\site-packages\\sklearn\\utils\\deprecation.py:87: FutureWarning: Function plot_confusion_matrix is deprecated; Function `plot_confusion_matrix` is deprecated in 1.0 and will be removed in 1.2. Use one of the class methods: ConfusionMatrixDisplay.from_predictions or ConfusionMatrixDisplay.from_estimator.\n",
      "  warnings.warn(msg, category=FutureWarning)\n"
     ]
    },
    {
     "data": {
      "image/png": "[encoded data removed]",
      "text/plain": [
       "<Figure size 432x288 with 2 Axes>"
      ]
     },
     "metadata": {
      "needs_background": "light"
     },
     "output_type": "display_data"
    }
   ],
   "source": [
    "# View confusion matrix\n",
    "plot_confusion_matrix(tvec_multinomial, X_test, y_test, cmap='Blues', values_format='d', display_labels=['coffee', 'tea'])\n",
    "plt.title('Confusion Matrix of TD-IDF Multinomial Naive Bayes Model');"
   ]
  },
  {
   "cell_type": "code",
   "execution_count": 55,
   "id": "72e9577a",
   "metadata": {},
   "outputs": [
    {
     "name": "stderr",
     "output_type": "stream",
     "text": [
      "D:\\Anaconda\\envs\\Python\\lib\\site-packages\\sklearn\\utils\\deprecation.py:87: FutureWarning: Function plot_roc_curve is deprecated; Function :func:`plot_roc_curve` is deprecated in 1.0 and will be removed in 1.2. Use one of the class methods: :meth:`sklearn.metric.RocCurveDisplay.from_predictions` or :meth:`sklearn.metric.RocCurveDisplay.from_estimator`.\n",
      "  warnings.warn(msg, category=FutureWarning)\n"
     ]
    },
    {
     "data": {
      "image/png": "[encoded data removed]",
      "text/plain": [
       "<Figure size 432x288 with 1 Axes>"
      ]
     },
     "metadata": {
      "needs_background": "light"
     },
     "output_type": "display_data"
    }
   ],
   "source": [
    "# Plotting AUC ROC curve\n",
    "plot_roc_curve(tvec_multinomial, X_test, y_test)\n",
    "plt.plot([0, 1], [0, 1],\n",
    "         label='baseline', linestyle='--')\n",
    "plt.legend()\n",
    "plt.title('ROC Curve of TF-IDF Multinomial Naive Bayes Model');"
   ]
  },
  {
   "cell_type": "markdown",
   "id": "15578e11",
   "metadata": {},
   "source": [
    "## Bernoulli Naive Bayes Model (TF-IDF)"
   ]
  },
  {
   "cell_type": "code",
   "execution_count": 56,
   "id": "5ec07e22",
   "metadata": {},
   "outputs": [],
   "source": [
    "# Setting up a pipeline up with two stages:\n",
    "# 1. Term Frequency-Inverse Document Frequency (transformer)\n",
    "# 2. Bernoulli Naive Bayes (estimator)\n",
    "\n",
    "pipe_tvec_bernoulli = Pipeline([\n",
    "    ('tvec', TfidfVectorizer()),\n",
    "    ('nb', BernoulliNB())\n",
    "])"
   ]
  },
  {
   "cell_type": "code",
   "execution_count": 57,
   "id": "4eb3d37d",
   "metadata": {},
   "outputs": [],
   "source": [
    "# Search over the following values of hyperparameters:\n",
    "# Maximum number of features fit: 2000, 3000, 4000, 5000, 6000\n",
    "# Minimum number of documents needed to include token: 2, 3, 4, 5, 6, 7\n",
    "# Maximum number of documents needed to include token: 80%, 85%, 90%, 95%\n",
    "# Check unigrams, bigrams, and trigrams\n",
    "# Regularization strength: 0.00001, 0.0001, 0.001, 0.1, 1, 10, 100\n",
    "\n",
    "pipe_tvec_bernoulli_params = {\n",
    "    'tvec__max_features': [2_000, 3_000, 4_000, 5_000, 6_000],\n",
    "    'tvec__min_df': [2, 3, 4, 5, 6, 7] , \n",
    "    'tvec__max_df': [0.8, 0.85, 0.9, 0.95],\n",
    "    'tvec__ngram_range': [(1,1), (2,2), (3,3)],\n",
    "    'nb__alpha': [0.00001, 0.0001, 0.001, 0.1, 1, 10, 100]\n",
    "}"
   ]
  },
  {
   "cell_type": "code",
   "execution_count": 58,
   "id": "836c1fb9",
   "metadata": {},
   "outputs": [],
   "source": [
    "# Instantiate GridSearchCV.\n",
    "tvec_bernoulli = GridSearchCV(pipe_tvec_bernoulli,\n",
    "                              param_grid = pipe_tvec_bernoulli_params,\n",
    "                              cv = 5,\n",
    "                              n_jobs = -1,\n",
    "                              verbose = 2)"
   ]
  },
  {
   "cell_type": "code",
   "execution_count": 59,
   "id": "447d0e60",
   "metadata": {},
   "outputs": [
    {
     "name": "stdout",
     "output_type": "stream",
     "text": [
      "Fitting 5 folds for each of 2520 candidates, totalling 12600 fits\n",
      "CPU times: total: 1min 10s\n",
      "Wall time: 30min 11s\n"
     ]
    },
    {
     "data": {
      "text/html": [
       "<style>#sk-container-id-4 {color: black;background-color: white;}#sk-container-id-4 pre{padding: 0;}#sk-container-id-4 div.sk-toggleable {background-color: white;}#sk-container-id-4 label.sk-toggleable__label {cursor: pointer;display: block;width: 100%;margin-bottom: 0;padding: 0.3em;box-sizing: border-box;text-align: center;}#sk-container-id-4 label.sk-toggleable__label-arrow:before {content: \"▸\";float: left;margin-right: 0.25em;color: #696969;}#sk-container-id-4 label.sk-toggleable__label-arrow:hover:before {color: black;}#sk-container-id-4 div.sk-estimator:hover label.sk-toggleable__label-arrow:before {color: black;}#sk-container-id-4 div.sk-toggleable__content {max-height: 0;max-width: 0;overflow: hidden;text-align: left;background-color: #f0f8ff;}#sk-container-id-4 div.sk-toggleable__content pre {margin: 0.2em;color: black;border-radius: 0.25em;background-color: #f0f8ff;}#sk-container-id-4 input.sk-toggleable__control:checked~div.sk-toggleable__content {max-height: 200px;max-width: 100%;overflow: auto;}#sk-container-id-4 input.sk-toggleable__control:checked~label.sk-toggleable__label-arrow:before {content: \"▾\";}#sk-container-id-4 div.sk-estimator input.sk-toggleable__control:checked~label.sk-toggleable__label {background-color: #d4ebff;}#sk-container-id-4 div.sk-label input.sk-toggleable__control:checked~label.sk-toggleable__label {background-color: #d4ebff;}#sk-container-id-4 input.sk-hidden--visually {border: 0;clip: rect(1px 1px 1px 1px);clip: rect(1px, 1px, 1px, 1px);height: 1px;margin: -1px;overflow: hidden;padding: 0;position: absolute;width: 1px;}#sk-container-id-4 div.sk-estimator {font-family: monospace;background-color: #f0f8ff;border: 1px dotted black;border-radius: 0.25em;box-sizing: border-box;margin-bottom: 0.5em;}#sk-container-id-4 div.sk-estimator:hover {background-color: #d4ebff;}#sk-container-id-4 div.sk-parallel-item::after {content: \"\";width: 100%;border-bottom: 1px solid gray;flex-grow: 1;}#sk-container-id-4 div.sk-label:hover label.sk-toggleable__label {background-color: #d4ebff;}#sk-container-id-4 div.sk-serial::before {content: \"\";position: absolute;border-left: 1px solid gray;box-sizing: border-box;top: 0;bottom: 0;left: 50%;z-index: 0;}#sk-container-id-4 div.sk-serial {display: flex;flex-direction: column;align-items: center;background-color: white;padding-right: 0.2em;padding-left: 0.2em;position: relative;}#sk-container-id-4 div.sk-item {position: relative;z-index: 1;}#sk-container-id-4 div.sk-parallel {display: flex;align-items: stretch;justify-content: center;background-color: white;position: relative;}#sk-container-id-4 div.sk-item::before, #sk-container-id-4 div.sk-parallel-item::before {content: \"\";position: absolute;border-left: 1px solid gray;box-sizing: border-box;top: 0;bottom: 0;left: 50%;z-index: -1;}#sk-container-id-4 div.sk-parallel-item {display: flex;flex-direction: column;z-index: 1;position: relative;background-color: white;}#sk-container-id-4 div.sk-parallel-item:first-child::after {align-self: flex-end;width: 50%;}#sk-container-id-4 div.sk-parallel-item:last-child::after {align-self: flex-start;width: 50%;}#sk-container-id-4 div.sk-parallel-item:only-child::after {width: 0;}#sk-container-id-4 div.sk-dashed-wrapped {border: 1px dashed gray;margin: 0 0.4em 0.5em 0.4em;box-sizing: border-box;padding-bottom: 0.4em;background-color: white;}#sk-container-id-4 div.sk-label label {font-family: monospace;font-weight: bold;display: inline-block;line-height: 1.2em;}#sk-container-id-4 div.sk-label-container {text-align: center;}#sk-container-id-4 div.sk-container {/* jupyter's `normalize.less` sets `[hidden] { display: none; }` but bootstrap.min.css set `[hidden] { display: none !important; }` so we also need the `!important` here to be able to override the default hidden behavior on the sphinx rendered scikit-learn.org. See: https://github.com/scikit-learn/scikit-learn/issues/21755 */display: inline-block !important;position: relative;}#sk-container-id-4 div.sk-text-repr-fallback {display: none;}</style><div id=\"sk-container-id-4\" class=\"sk-top-container\"><div class=\"sk-text-repr-fallback\"><pre>GridSearchCV(cv=5,\n",
       "             estimator=Pipeline(steps=[(&#x27;tvec&#x27;, TfidfVectorizer()),\n",
       "                                       (&#x27;nb&#x27;, BernoulliNB())]),\n",
       "             n_jobs=-1,\n",
       "             param_grid={&#x27;nb__alpha&#x27;: [1e-05, 0.0001, 0.001, 0.1, 1, 10, 100],\n",
       "                         &#x27;tvec__max_df&#x27;: [0.8, 0.85, 0.9, 0.95],\n",
       "                         &#x27;tvec__max_features&#x27;: [2000, 3000, 4000, 5000, 6000],\n",
       "                         &#x27;tvec__min_df&#x27;: [2, 3, 4, 5, 6, 7],\n",
       "                         &#x27;tvec__ngram_range&#x27;: [(1, 1), (2, 2), (3, 3)]},\n",
       "             verbose=2)</pre><b>In a Jupyter environment, please rerun this cell to show the HTML representation or trust the notebook. <br />On GitHub, the HTML representation is unable to render, please try loading this page with nbviewer.org.</b></div><div class=\"sk-container\" hidden><div class=\"sk-item sk-dashed-wrapped\"><div class=\"sk-label-container\"><div class=\"sk-label sk-toggleable\"><input class=\"sk-toggleable__control sk-hidden--visually\" id=\"sk-estimator-id-13\" type=\"checkbox\" ><label for=\"sk-estimator-id-13\" class=\"sk-toggleable__label sk-toggleable__label-arrow\">GridSearchCV</label><div class=\"sk-toggleable__content\"><pre>GridSearchCV(cv=5,\n",
       "             estimator=Pipeline(steps=[(&#x27;tvec&#x27;, TfidfVectorizer()),\n",
       "                                       (&#x27;nb&#x27;, BernoulliNB())]),\n",
       "             n_jobs=-1,\n",
       "             param_grid={&#x27;nb__alpha&#x27;: [1e-05, 0.0001, 0.001, 0.1, 1, 10, 100],\n",
       "                         &#x27;tvec__max_df&#x27;: [0.8, 0.85, 0.9, 0.95],\n",
       "                         &#x27;tvec__max_features&#x27;: [2000, 3000, 4000, 5000, 6000],\n",
       "                         &#x27;tvec__min_df&#x27;: [2, 3, 4, 5, 6, 7],\n",
       "                         &#x27;tvec__ngram_range&#x27;: [(1, 1), (2, 2), (3, 3)]},\n",
       "             verbose=2)</pre></div></div></div><div class=\"sk-parallel\"><div class=\"sk-parallel-item\"><div class=\"sk-item\"><div class=\"sk-label-container\"><div class=\"sk-label sk-toggleable\"><input class=\"sk-toggleable__control sk-hidden--visually\" id=\"sk-estimator-id-14\" type=\"checkbox\" ><label for=\"sk-estimator-id-14\" class=\"sk-toggleable__label sk-toggleable__label-arrow\">estimator: Pipeline</label><div class=\"sk-toggleable__content\"><pre>Pipeline(steps=[(&#x27;tvec&#x27;, TfidfVectorizer()), (&#x27;nb&#x27;, BernoulliNB())])</pre></div></div></div><div class=\"sk-serial\"><div class=\"sk-item\"><div class=\"sk-serial\"><div class=\"sk-item\"><div class=\"sk-estimator sk-toggleable\"><input class=\"sk-toggleable__control sk-hidden--visually\" id=\"sk-estimator-id-15\" type=\"checkbox\" ><label for=\"sk-estimator-id-15\" class=\"sk-toggleable__label sk-toggleable__label-arrow\">TfidfVectorizer</label><div class=\"sk-toggleable__content\"><pre>TfidfVectorizer()</pre></div></div></div><div class=\"sk-item\"><div class=\"sk-estimator sk-toggleable\"><input class=\"sk-toggleable__control sk-hidden--visually\" id=\"sk-estimator-id-16\" type=\"checkbox\" ><label for=\"sk-estimator-id-16\" class=\"sk-toggleable__label sk-toggleable__label-arrow\">BernoulliNB</label><div class=\"sk-toggleable__content\"><pre>BernoulliNB()</pre></div></div></div></div></div></div></div></div></div></div></div></div>"
      ],
      "text/plain": [
       "GridSearchCV(cv=5,\n",
       "             estimator=Pipeline(steps=[('tvec', TfidfVectorizer()),\n",
       "                                       ('nb', BernoulliNB())]),\n",
       "             n_jobs=-1,\n",
       "             param_grid={'nb__alpha': [1e-05, 0.0001, 0.001, 0.1, 1, 10, 100],\n",
       "                         'tvec__max_df': [0.8, 0.85, 0.9, 0.95],\n",
       "                         'tvec__max_features': [2000, 3000, 4000, 5000, 6000],\n",
       "                         'tvec__min_df': [2, 3, 4, 5, 6, 7],\n",
       "                         'tvec__ngram_range': [(1, 1), (2, 2), (3, 3)]},\n",
       "             verbose=2)"
      ]
     },
     "execution_count": 59,
     "metadata": {},
     "output_type": "execute_result"
    }
   ],
   "source": [
    "%%time\n",
    "# Fit GridSearch to training data.\n",
    "tvec_bernoulli.fit(X_train, y_train)"
   ]
  },
  {
   "cell_type": "code",
   "execution_count": 60,
   "id": "63db3c4a",
   "metadata": {},
   "outputs": [
    {
     "name": "stdout",
     "output_type": "stream",
     "text": [
      "{'nb__alpha': 0.0001, 'tvec__max_df': 0.8, 'tvec__max_features': 4000, 'tvec__min_df': 2, 'tvec__ngram_range': (1, 1)}\n"
     ]
    }
   ],
   "source": [
    "# Retrieving the best parameters resulting from the GridSearch\n",
    "print(tvec_bernoulli.best_params_)"
   ]
  },
  {
   "cell_type": "code",
   "execution_count": 61,
   "id": "e2bd67ed",
   "metadata": {},
   "outputs": [
    {
     "name": "stdout",
     "output_type": "stream",
     "text": [
      "TFIDF Bernoulli Naive Bayes GridSearch CV best score is:0.81238.\n",
      "TFIDF Bernoulli Naive Bayes train score is:0.89618.\n",
      "TFIDF Bernoulli Naive Bayes test score is:0.82091.\n"
     ]
    }
   ],
   "source": [
    "# Best score\n",
    "tvec_bernoulli_best = round(tvec_bernoulli.best_score_, 5)\n",
    "print('TFIDF Bernoulli Naive Bayes GridSearch CV best score is:{}.'.format(tvec_bernoulli_best))\n",
    "\n",
    "# Training score\n",
    "tvec_bernoulli_train = round(tvec_bernoulli.score(X_train, y_train), 5)\n",
    "print('TFIDF Bernoulli Naive Bayes train score is:{}.'.format(tvec_bernoulli_train))\n",
    "\n",
    "# Test score\n",
    "tvec_bernoulli_test = round(tvec_bernoulli.score(X_test, y_test), 5)\n",
    "print('TFIDF Bernoulli Naive Bayes test score is:{}.'.format(tvec_bernoulli_test))"
   ]
  },
  {
   "cell_type": "code",
   "execution_count": 62,
   "id": "7a676219",
   "metadata": {
    "scrolled": false
   },
   "outputs": [
    {
     "name": "stderr",
     "output_type": "stream",
     "text": [
      "D:\\Anaconda\\envs\\Python\\lib\\site-packages\\sklearn\\utils\\deprecation.py:87: FutureWarning: Function plot_confusion_matrix is deprecated; Function `plot_confusion_matrix` is deprecated in 1.0 and will be removed in 1.2. Use one of the class methods: ConfusionMatrixDisplay.from_predictions or ConfusionMatrixDisplay.from_estimator.\n",
      "  warnings.warn(msg, category=FutureWarning)\n"
     ]
    },
    {
     "data": {
      "image/png": "[encoded data removed]",
      "text/plain": [
       "<Figure size 432x288 with 2 Axes>"
      ]
     },
     "metadata": {
      "needs_background": "light"
     },
     "output_type": "display_data"
    }
   ],
   "source": [
    "# View confusion matrix\n",
    "plot_confusion_matrix(tvec_bernoulli, X_test, y_test, cmap='Blues', values_format='d', display_labels=['coffee', 'tea'])\n",
    "plt.title('Confusion Matrix of TD-IDF Bernoulli Naive Bayes Model');"
   ]
  },
  {
   "cell_type": "code",
   "execution_count": 63,
   "id": "9c7179b1",
   "metadata": {},
   "outputs": [
    {
     "name": "stderr",
     "output_type": "stream",
     "text": [
      "D:\\Anaconda\\envs\\Python\\lib\\site-packages\\sklearn\\utils\\deprecation.py:87: FutureWarning: Function plot_roc_curve is deprecated; Function :func:`plot_roc_curve` is deprecated in 1.0 and will be removed in 1.2. Use one of the class methods: :meth:`sklearn.metric.RocCurveDisplay.from_predictions` or :meth:`sklearn.metric.RocCurveDisplay.from_estimator`.\n",
      "  warnings.warn(msg, category=FutureWarning)\n"
     ]
    },
    {
     "data": {
      "image/png": "[encoded data removed]",
      "text/plain": [
       "<Figure size 432x288 with 1 Axes>"
      ]
     },
     "metadata": {
      "needs_background": "light"
     },
     "output_type": "display_data"
    }
   ],
   "source": [
    "# Plotting AUC ROC Curve\n",
    "plot_roc_curve(tvec_bernoulli, X_test, y_test)\n",
    "plt.plot([0, 1], [0, 1],\n",
    "         label='baseline', linestyle='--')\n",
    "plt.legend()\n",
    "plt.title('ROC Curve of TF-IDF Bernoulli Naive Bayes Model');"
   ]
  },
  {
   "cell_type": "markdown",
   "id": "9dc1850a",
   "metadata": {},
   "source": [
    "##  Random Forest (CountVectorizer)"
   ]
  },
  {
   "cell_type": "code",
   "execution_count": 64,
   "id": "a1629a7b",
   "metadata": {},
   "outputs": [],
   "source": [
    "# Instantiate RandomForestClassifier\n",
    "rf = RandomForestClassifier()"
   ]
  },
  {
   "cell_type": "code",
   "execution_count": 65,
   "id": "bc5d123c",
   "metadata": {},
   "outputs": [],
   "source": [
    "# Setting up a pipeline up with two stages:\n",
    "# 1. CountVectorizer (transformer)\n",
    "# 2. Random Forest (estimator)\n",
    "\n",
    "pipe_cvec_rf = Pipeline([\n",
    "    ('cvec', CountVectorizer()),\n",
    "    ('rf', RandomForestClassifier(random_state = 42))\n",
    "])"
   ]
  },
  {
   "cell_type": "code",
   "execution_count": 71,
   "id": "b217b1ab",
   "metadata": {},
   "outputs": [],
   "source": [
    "# Search over the following values of hyperparameters:\n",
    "# Maximum number of features fit: 2000, 3000, 4000, 5000, 6000\n",
    "# Minimum number of documents needed to include token: 2, 3, 4, 5, 6\n",
    "# Maximum number of documents needed to include token: 80%, 85%, 90%, 95%\n",
    "# Check unigrams, bigrams, and trigrams\n",
    "# Number of trees in the forest: 30, 50, 70, 90, 110, 130\n",
    "\n",
    "pipe_cvec_rf_params = {\n",
    "    'cvec__max_features': [2_000, 3_000, 4_000, 5_000, 6_000],\n",
    "    'cvec__min_df': [2, 3, 4, 5, 6] , \n",
    "    'cvec__max_df': [0.8, 0.85, 0.9, 0.95],\n",
    "    'cvec__ngram_range': [(1, 1), (2, 2), (3, 3)],\n",
    "    'rf__n_estimators': [30, 50, 70, 90, 110, 130],\n",
    "}"
   ]
  },
  {
   "cell_type": "code",
   "execution_count": 72,
   "id": "656dc111",
   "metadata": {},
   "outputs": [],
   "source": [
    "# Instantiate GridSearchCV.\n",
    "cvec_rf = GridSearchCV(pipe_cvec_rf,\n",
    "                       param_grid = pipe_cvec_rf_params,\n",
    "                       cv = 5,\n",
    "                       n_jobs = -1,\n",
    "                       verbose = 2)"
   ]
  },
  {
   "cell_type": "code",
   "execution_count": 73,
   "id": "6d3a28e1",
   "metadata": {},
   "outputs": [
    {
     "name": "stdout",
     "output_type": "stream",
     "text": [
      "Fitting 5 folds for each of 1800 candidates, totalling 9000 fits\n",
      "CPU times: total: 55.8 s\n",
      "Wall time: 1h 16min 1s\n"
     ]
    },
    {
     "data": {
      "text/html": [
       "<style>#sk-container-id-5 {color: black;background-color: white;}#sk-container-id-5 pre{padding: 0;}#sk-container-id-5 div.sk-toggleable {background-color: white;}#sk-container-id-5 label.sk-toggleable__label {cursor: pointer;display: block;width: 100%;margin-bottom: 0;padding: 0.3em;box-sizing: border-box;text-align: center;}#sk-container-id-5 label.sk-toggleable__label-arrow:before {content: \"▸\";float: left;margin-right: 0.25em;color: #696969;}#sk-container-id-5 label.sk-toggleable__label-arrow:hover:before {color: black;}#sk-container-id-5 div.sk-estimator:hover label.sk-toggleable__label-arrow:before {color: black;}#sk-container-id-5 div.sk-toggleable__content {max-height: 0;max-width: 0;overflow: hidden;text-align: left;background-color: #f0f8ff;}#sk-container-id-5 div.sk-toggleable__content pre {margin: 0.2em;color: black;border-radius: 0.25em;background-color: #f0f8ff;}#sk-container-id-5 input.sk-toggleable__control:checked~div.sk-toggleable__content {max-height: 200px;max-width: 100%;overflow: auto;}#sk-container-id-5 input.sk-toggleable__control:checked~label.sk-toggleable__label-arrow:before {content: \"▾\";}#sk-container-id-5 div.sk-estimator input.sk-toggleable__control:checked~label.sk-toggleable__label {background-color: #d4ebff;}#sk-container-id-5 div.sk-label input.sk-toggleable__control:checked~label.sk-toggleable__label {background-color: #d4ebff;}#sk-container-id-5 input.sk-hidden--visually {border: 0;clip: rect(1px 1px 1px 1px);clip: rect(1px, 1px, 1px, 1px);height: 1px;margin: -1px;overflow: hidden;padding: 0;position: absolute;width: 1px;}#sk-container-id-5 div.sk-estimator {font-family: monospace;background-color: #f0f8ff;border: 1px dotted black;border-radius: 0.25em;box-sizing: border-box;margin-bottom: 0.5em;}#sk-container-id-5 div.sk-estimator:hover {background-color: #d4ebff;}#sk-container-id-5 div.sk-parallel-item::after {content: \"\";width: 100%;border-bottom: 1px solid gray;flex-grow: 1;}#sk-container-id-5 div.sk-label:hover label.sk-toggleable__label {background-color: #d4ebff;}#sk-container-id-5 div.sk-serial::before {content: \"\";position: absolute;border-left: 1px solid gray;box-sizing: border-box;top: 0;bottom: 0;left: 50%;z-index: 0;}#sk-container-id-5 div.sk-serial {display: flex;flex-direction: column;align-items: center;background-color: white;padding-right: 0.2em;padding-left: 0.2em;position: relative;}#sk-container-id-5 div.sk-item {position: relative;z-index: 1;}#sk-container-id-5 div.sk-parallel {display: flex;align-items: stretch;justify-content: center;background-color: white;position: relative;}#sk-container-id-5 div.sk-item::before, #sk-container-id-5 div.sk-parallel-item::before {content: \"\";position: absolute;border-left: 1px solid gray;box-sizing: border-box;top: 0;bottom: 0;left: 50%;z-index: -1;}#sk-container-id-5 div.sk-parallel-item {display: flex;flex-direction: column;z-index: 1;position: relative;background-color: white;}#sk-container-id-5 div.sk-parallel-item:first-child::after {align-self: flex-end;width: 50%;}#sk-container-id-5 div.sk-parallel-item:last-child::after {align-self: flex-start;width: 50%;}#sk-container-id-5 div.sk-parallel-item:only-child::after {width: 0;}#sk-container-id-5 div.sk-dashed-wrapped {border: 1px dashed gray;margin: 0 0.4em 0.5em 0.4em;box-sizing: border-box;padding-bottom: 0.4em;background-color: white;}#sk-container-id-5 div.sk-label label {font-family: monospace;font-weight: bold;display: inline-block;line-height: 1.2em;}#sk-container-id-5 div.sk-label-container {text-align: center;}#sk-container-id-5 div.sk-container {/* jupyter's `normalize.less` sets `[hidden] { display: none; }` but bootstrap.min.css set `[hidden] { display: none !important; }` so we also need the `!important` here to be able to override the default hidden behavior on the sphinx rendered scikit-learn.org. See: https://github.com/scikit-learn/scikit-learn/issues/21755 */display: inline-block !important;position: relative;}#sk-container-id-5 div.sk-text-repr-fallback {display: none;}</style><div id=\"sk-container-id-5\" class=\"sk-top-container\"><div class=\"sk-text-repr-fallback\"><pre>GridSearchCV(cv=5,\n",
       "             estimator=Pipeline(steps=[(&#x27;cvec&#x27;, CountVectorizer()),\n",
       "                                       (&#x27;rf&#x27;,\n",
       "                                        RandomForestClassifier(random_state=42))]),\n",
       "             n_jobs=-1,\n",
       "             param_grid={&#x27;cvec__max_df&#x27;: [0.8, 0.85, 0.9, 0.95],\n",
       "                         &#x27;cvec__max_features&#x27;: [2000, 3000, 4000, 5000, 6000],\n",
       "                         &#x27;cvec__min_df&#x27;: [2, 3, 4, 5, 6],\n",
       "                         &#x27;cvec__ngram_range&#x27;: [(1, 1), (2, 2), (3, 3)],\n",
       "                         &#x27;rf__n_estimators&#x27;: [30, 50, 70, 90, 110, 130]},\n",
       "             verbose=2)</pre><b>In a Jupyter environment, please rerun this cell to show the HTML representation or trust the notebook. <br />On GitHub, the HTML representation is unable to render, please try loading this page with nbviewer.org.</b></div><div class=\"sk-container\" hidden><div class=\"sk-item sk-dashed-wrapped\"><div class=\"sk-label-container\"><div class=\"sk-label sk-toggleable\"><input class=\"sk-toggleable__control sk-hidden--visually\" id=\"sk-estimator-id-17\" type=\"checkbox\" ><label for=\"sk-estimator-id-17\" class=\"sk-toggleable__label sk-toggleable__label-arrow\">GridSearchCV</label><div class=\"sk-toggleable__content\"><pre>GridSearchCV(cv=5,\n",
       "             estimator=Pipeline(steps=[(&#x27;cvec&#x27;, CountVectorizer()),\n",
       "                                       (&#x27;rf&#x27;,\n",
       "                                        RandomForestClassifier(random_state=42))]),\n",
       "             n_jobs=-1,\n",
       "             param_grid={&#x27;cvec__max_df&#x27;: [0.8, 0.85, 0.9, 0.95],\n",
       "                         &#x27;cvec__max_features&#x27;: [2000, 3000, 4000, 5000, 6000],\n",
       "                         &#x27;cvec__min_df&#x27;: [2, 3, 4, 5, 6],\n",
       "                         &#x27;cvec__ngram_range&#x27;: [(1, 1), (2, 2), (3, 3)],\n",
       "                         &#x27;rf__n_estimators&#x27;: [30, 50, 70, 90, 110, 130]},\n",
       "             verbose=2)</pre></div></div></div><div class=\"sk-parallel\"><div class=\"sk-parallel-item\"><div class=\"sk-item\"><div class=\"sk-label-container\"><div class=\"sk-label sk-toggleable\"><input class=\"sk-toggleable__control sk-hidden--visually\" id=\"sk-estimator-id-18\" type=\"checkbox\" ><label for=\"sk-estimator-id-18\" class=\"sk-toggleable__label sk-toggleable__label-arrow\">estimator: Pipeline</label><div class=\"sk-toggleable__content\"><pre>Pipeline(steps=[(&#x27;cvec&#x27;, CountVectorizer()),\n",
       "                (&#x27;rf&#x27;, RandomForestClassifier(random_state=42))])</pre></div></div></div><div class=\"sk-serial\"><div class=\"sk-item\"><div class=\"sk-serial\"><div class=\"sk-item\"><div class=\"sk-estimator sk-toggleable\"><input class=\"sk-toggleable__control sk-hidden--visually\" id=\"sk-estimator-id-19\" type=\"checkbox\" ><label for=\"sk-estimator-id-19\" class=\"sk-toggleable__label sk-toggleable__label-arrow\">CountVectorizer</label><div class=\"sk-toggleable__content\"><pre>CountVectorizer()</pre></div></div></div><div class=\"sk-item\"><div class=\"sk-estimator sk-toggleable\"><input class=\"sk-toggleable__control sk-hidden--visually\" id=\"sk-estimator-id-20\" type=\"checkbox\" ><label for=\"sk-estimator-id-20\" class=\"sk-toggleable__label sk-toggleable__label-arrow\">RandomForestClassifier</label><div class=\"sk-toggleable__content\"><pre>RandomForestClassifier(random_state=42)</pre></div></div></div></div></div></div></div></div></div></div></div></div>"
      ],
      "text/plain": [
       "GridSearchCV(cv=5,\n",
       "             estimator=Pipeline(steps=[('cvec', CountVectorizer()),\n",
       "                                       ('rf',\n",
       "                                        RandomForestClassifier(random_state=42))]),\n",
       "             n_jobs=-1,\n",
       "             param_grid={'cvec__max_df': [0.8, 0.85, 0.9, 0.95],\n",
       "                         'cvec__max_features': [2000, 3000, 4000, 5000, 6000],\n",
       "                         'cvec__min_df': [2, 3, 4, 5, 6],\n",
       "                         'cvec__ngram_range': [(1, 1), (2, 2), (3, 3)],\n",
       "                         'rf__n_estimators': [30, 50, 70, 90, 110, 130]},\n",
       "             verbose=2)"
      ]
     },
     "execution_count": 73,
     "metadata": {},
     "output_type": "execute_result"
    }
   ],
   "source": [
    "%%time\n",
    "# Conducting GridSearch on training data\n",
    "cvec_rf.fit(X_train, y_train)"
   ]
  },
  {
   "cell_type": "code",
   "execution_count": 74,
   "id": "e7281a90",
   "metadata": {},
   "outputs": [
    {
     "name": "stdout",
     "output_type": "stream",
     "text": [
      "{'cvec__max_df': 0.8, 'cvec__max_features': 2000, 'cvec__min_df': 2, 'cvec__ngram_range': (1, 1), 'rf__n_estimators': 90}\n"
     ]
    }
   ],
   "source": [
    "# Retrieving the best parameters resulting from the GridSearch\n",
    "print(cvec_rf.best_params_)"
   ]
  },
  {
   "cell_type": "code",
   "execution_count": 75,
   "id": "1c38749c",
   "metadata": {},
   "outputs": [
    {
     "name": "stdout",
     "output_type": "stream",
     "text": [
      "CountVectorizer Random Forest GridSearchCV best score is:0.82017.\n",
      "CountVectorizer Random Forest train score is:0.99629.\n",
      "CountVectorizer Random Forest test score is:0.83982.\n"
     ]
    }
   ],
   "source": [
    "# Best score\n",
    "cvec_rf_best = round(cvec_rf.best_score_, 5)\n",
    "print('CountVectorizer Random Forest GridSearchCV best score is:{}.'.format(cvec_rf_best))\n",
    "\n",
    "# Training score\n",
    "cvec_rf_train = round(cvec_rf.score(X_train, y_train), 5)\n",
    "print('CountVectorizer Random Forest train score is:{}.'.format(cvec_rf_train))\n",
    "\n",
    "# Test score\n",
    "cvec_rf_test = round(cvec_rf.score(X_test, y_test), 5)\n",
    "print('CountVectorizer Random Forest test score is:{}.'.format(cvec_rf_test))"
   ]
  },
  {
   "cell_type": "code",
   "execution_count": 76,
   "id": "8a89a7ea",
   "metadata": {},
   "outputs": [
    {
     "data": {
      "image/png": "[encoded data removed]",
      "text/plain": [
       "<Figure size 432x288 with 2 Axes>"
      ]
     },
     "metadata": {
      "needs_background": "light"
     },
     "output_type": "display_data"
    }
   ],
   "source": [
    "# View confusion matrix\n",
    "plot_confusion_matrix(cvec_rf, X_test, y_test, cmap='Blues', values_format='d', display_labels=['coffee', 'tea'])\n",
    "plt.title('Confusion Matrix of CountVectorizer Random Forest Model');"
   ]
  },
  {
   "cell_type": "code",
   "execution_count": 77,
   "id": "98ceb815",
   "metadata": {
    "scrolled": true
   },
   "outputs": [
    {
     "data": {
      "image/png": "[encoded data removed]",
      "text/plain": [
       "<Figure size 432x288 with 1 Axes>"
      ]
     },
     "metadata": {
      "needs_background": "light"
     },
     "output_type": "display_data"
    }
   ],
   "source": [
    "# Plotting AUC ROC Curve\n",
    "plot_roc_curve(cvec_rf, X_test, y_test)\n",
    "plt.plot([0, 1], [0, 1],\n",
    "         label='baseline', linestyle='--')\n",
    "plt.legend()\n",
    "plt.title('ROC Curve of CountVectorizer Random Forest Model');"
   ]
  },
  {
   "cell_type": "markdown",
   "id": "fdf29a61",
   "metadata": {},
   "source": [
    "## Random Forest (TF-IDF)"
   ]
  },
  {
   "cell_type": "code",
   "execution_count": 78,
   "id": "b6e53d7e",
   "metadata": {},
   "outputs": [],
   "source": [
    "# Setting up a pipeline up with two stages:\n",
    "# 1. Term Frequency-Inverse Document Frequency (transformer)\n",
    "# 2. Random Forest (estimator)\n",
    "\n",
    "pipe_tvec_rf = Pipeline([\n",
    "    ('tvec', TfidfVectorizer()),\n",
    "    ('rf', RandomForestClassifier(random_state = 42))\n",
    "])"
   ]
  },
  {
   "cell_type": "code",
   "execution_count": 83,
   "id": "01b59821",
   "metadata": {},
   "outputs": [],
   "source": [
    "# Search over the following values of hyperparameters:\n",
    "# Maximum number of features fit: 2000, 3000, 4000, 5000, 6000\n",
    "# Minimum number of documents needed to include token: 2, 3, 4, 5, 6\n",
    "# Maximum number of documents needed to include token: 80%, 85%, 90%, 95%\n",
    "# Check unigrams, bigrams, and trigrams\n",
    "# Number of trees in the forest: 30, 50, 70, 90, 110, 130\n",
    "\n",
    "pipe_tvec_rf_params = {\n",
    "    'tvec__max_features': [2_000, 3_000, 4_000, 5_000, 6_000],\n",
    "    'tvec__min_df': [2, 3, 4, 5, 6] , \n",
    "    'tvec__max_df': [0.8, 0.85, 0.9, 0.95],\n",
    "    'tvec__ngram_range': [(1, 1), (2, 2), (3, 3)],\n",
    "    'rf__n_estimators': [30, 50, 70, 90, 110, 130],\n",
    "}"
   ]
  },
  {
   "cell_type": "code",
   "execution_count": 84,
   "id": "bb58c1e3",
   "metadata": {},
   "outputs": [],
   "source": [
    "# Instantiate GridSearchCV.\n",
    "tvec_rf = GridSearchCV(pipe_tvec_rf,\n",
    "                       param_grid = pipe_tvec_rf_params,\n",
    "                       cv = 5,\n",
    "                       n_jobs = -1,\n",
    "                       verbose = 2)"
   ]
  },
  {
   "cell_type": "code",
   "execution_count": 85,
   "id": "2ece5c61",
   "metadata": {},
   "outputs": [
    {
     "name": "stdout",
     "output_type": "stream",
     "text": [
      "Fitting 5 folds for each of 1800 candidates, totalling 9000 fits\n",
      "CPU times: total: 55.5 s\n",
      "Wall time: 1h 10min 25s\n"
     ]
    },
    {
     "data": {
      "text/html": [
       "<style>#sk-container-id-6 {color: black;background-color: white;}#sk-container-id-6 pre{padding: 0;}#sk-container-id-6 div.sk-toggleable {background-color: white;}#sk-container-id-6 label.sk-toggleable__label {cursor: pointer;display: block;width: 100%;margin-bottom: 0;padding: 0.3em;box-sizing: border-box;text-align: center;}#sk-container-id-6 label.sk-toggleable__label-arrow:before {content: \"▸\";float: left;margin-right: 0.25em;color: #696969;}#sk-container-id-6 label.sk-toggleable__label-arrow:hover:before {color: black;}#sk-container-id-6 div.sk-estimator:hover label.sk-toggleable__label-arrow:before {color: black;}#sk-container-id-6 div.sk-toggleable__content {max-height: 0;max-width: 0;overflow: hidden;text-align: left;background-color: #f0f8ff;}#sk-container-id-6 div.sk-toggleable__content pre {margin: 0.2em;color: black;border-radius: 0.25em;background-color: #f0f8ff;}#sk-container-id-6 input.sk-toggleable__control:checked~div.sk-toggleable__content {max-height: 200px;max-width: 100%;overflow: auto;}#sk-container-id-6 input.sk-toggleable__control:checked~label.sk-toggleable__label-arrow:before {content: \"▾\";}#sk-container-id-6 div.sk-estimator input.sk-toggleable__control:checked~label.sk-toggleable__label {background-color: #d4ebff;}#sk-container-id-6 div.sk-label input.sk-toggleable__control:checked~label.sk-toggleable__label {background-color: #d4ebff;}#sk-container-id-6 input.sk-hidden--visually {border: 0;clip: rect(1px 1px 1px 1px);clip: rect(1px, 1px, 1px, 1px);height: 1px;margin: -1px;overflow: hidden;padding: 0;position: absolute;width: 1px;}#sk-container-id-6 div.sk-estimator {font-family: monospace;background-color: #f0f8ff;border: 1px dotted black;border-radius: 0.25em;box-sizing: border-box;margin-bottom: 0.5em;}#sk-container-id-6 div.sk-estimator:hover {background-color: #d4ebff;}#sk-container-id-6 div.sk-parallel-item::after {content: \"\";width: 100%;border-bottom: 1px solid gray;flex-grow: 1;}#sk-container-id-6 div.sk-label:hover label.sk-toggleable__label {background-color: #d4ebff;}#sk-container-id-6 div.sk-serial::before {content: \"\";position: absolute;border-left: 1px solid gray;box-sizing: border-box;top: 0;bottom: 0;left: 50%;z-index: 0;}#sk-container-id-6 div.sk-serial {display: flex;flex-direction: column;align-items: center;background-color: white;padding-right: 0.2em;padding-left: 0.2em;position: relative;}#sk-container-id-6 div.sk-item {position: relative;z-index: 1;}#sk-container-id-6 div.sk-parallel {display: flex;align-items: stretch;justify-content: center;background-color: white;position: relative;}#sk-container-id-6 div.sk-item::before, #sk-container-id-6 div.sk-parallel-item::before {content: \"\";position: absolute;border-left: 1px solid gray;box-sizing: border-box;top: 0;bottom: 0;left: 50%;z-index: -1;}#sk-container-id-6 div.sk-parallel-item {display: flex;flex-direction: column;z-index: 1;position: relative;background-color: white;}#sk-container-id-6 div.sk-parallel-item:first-child::after {align-self: flex-end;width: 50%;}#sk-container-id-6 div.sk-parallel-item:last-child::after {align-self: flex-start;width: 50%;}#sk-container-id-6 div.sk-parallel-item:only-child::after {width: 0;}#sk-container-id-6 div.sk-dashed-wrapped {border: 1px dashed gray;margin: 0 0.4em 0.5em 0.4em;box-sizing: border-box;padding-bottom: 0.4em;background-color: white;}#sk-container-id-6 div.sk-label label {font-family: monospace;font-weight: bold;display: inline-block;line-height: 1.2em;}#sk-container-id-6 div.sk-label-container {text-align: center;}#sk-container-id-6 div.sk-container {/* jupyter's `normalize.less` sets `[hidden] { display: none; }` but bootstrap.min.css set `[hidden] { display: none !important; }` so we also need the `!important` here to be able to override the default hidden behavior on the sphinx rendered scikit-learn.org. See: https://github.com/scikit-learn/scikit-learn/issues/21755 */display: inline-block !important;position: relative;}#sk-container-id-6 div.sk-text-repr-fallback {display: none;}</style><div id=\"sk-container-id-6\" class=\"sk-top-container\"><div class=\"sk-text-repr-fallback\"><pre>GridSearchCV(cv=5,\n",
       "             estimator=Pipeline(steps=[(&#x27;tvec&#x27;, TfidfVectorizer()),\n",
       "                                       (&#x27;rf&#x27;,\n",
       "                                        RandomForestClassifier(random_state=42))]),\n",
       "             n_jobs=-1,\n",
       "             param_grid={&#x27;rf__n_estimators&#x27;: [30, 50, 70, 90, 110, 130],\n",
       "                         &#x27;tvec__max_df&#x27;: [0.8, 0.85, 0.9, 0.95],\n",
       "                         &#x27;tvec__max_features&#x27;: [2000, 3000, 4000, 5000, 6000],\n",
       "                         &#x27;tvec__min_df&#x27;: [2, 3, 4, 5, 6],\n",
       "                         &#x27;tvec__ngram_range&#x27;: [(1, 1), (2, 2), (3, 3)]},\n",
       "             verbose=2)</pre><b>In a Jupyter environment, please rerun this cell to show the HTML representation or trust the notebook. <br />On GitHub, the HTML representation is unable to render, please try loading this page with nbviewer.org.</b></div><div class=\"sk-container\" hidden><div class=\"sk-item sk-dashed-wrapped\"><div class=\"sk-label-container\"><div class=\"sk-label sk-toggleable\"><input class=\"sk-toggleable__control sk-hidden--visually\" id=\"sk-estimator-id-21\" type=\"checkbox\" ><label for=\"sk-estimator-id-21\" class=\"sk-toggleable__label sk-toggleable__label-arrow\">GridSearchCV</label><div class=\"sk-toggleable__content\"><pre>GridSearchCV(cv=5,\n",
       "             estimator=Pipeline(steps=[(&#x27;tvec&#x27;, TfidfVectorizer()),\n",
       "                                       (&#x27;rf&#x27;,\n",
       "                                        RandomForestClassifier(random_state=42))]),\n",
       "             n_jobs=-1,\n",
       "             param_grid={&#x27;rf__n_estimators&#x27;: [30, 50, 70, 90, 110, 130],\n",
       "                         &#x27;tvec__max_df&#x27;: [0.8, 0.85, 0.9, 0.95],\n",
       "                         &#x27;tvec__max_features&#x27;: [2000, 3000, 4000, 5000, 6000],\n",
       "                         &#x27;tvec__min_df&#x27;: [2, 3, 4, 5, 6],\n",
       "                         &#x27;tvec__ngram_range&#x27;: [(1, 1), (2, 2), (3, 3)]},\n",
       "             verbose=2)</pre></div></div></div><div class=\"sk-parallel\"><div class=\"sk-parallel-item\"><div class=\"sk-item\"><div class=\"sk-label-container\"><div class=\"sk-label sk-toggleable\"><input class=\"sk-toggleable__control sk-hidden--visually\" id=\"sk-estimator-id-22\" type=\"checkbox\" ><label for=\"sk-estimator-id-22\" class=\"sk-toggleable__label sk-toggleable__label-arrow\">estimator: Pipeline</label><div class=\"sk-toggleable__content\"><pre>Pipeline(steps=[(&#x27;tvec&#x27;, TfidfVectorizer()),\n",
       "                (&#x27;rf&#x27;, RandomForestClassifier(random_state=42))])</pre></div></div></div><div class=\"sk-serial\"><div class=\"sk-item\"><div class=\"sk-serial\"><div class=\"sk-item\"><div class=\"sk-estimator sk-toggleable\"><input class=\"sk-toggleable__control sk-hidden--visually\" id=\"sk-estimator-id-23\" type=\"checkbox\" ><label for=\"sk-estimator-id-23\" class=\"sk-toggleable__label sk-toggleable__label-arrow\">TfidfVectorizer</label><div class=\"sk-toggleable__content\"><pre>TfidfVectorizer()</pre></div></div></div><div class=\"sk-item\"><div class=\"sk-estimator sk-toggleable\"><input class=\"sk-toggleable__control sk-hidden--visually\" id=\"sk-estimator-id-24\" type=\"checkbox\" ><label for=\"sk-estimator-id-24\" class=\"sk-toggleable__label sk-toggleable__label-arrow\">RandomForestClassifier</label><div class=\"sk-toggleable__content\"><pre>RandomForestClassifier(random_state=42)</pre></div></div></div></div></div></div></div></div></div></div></div></div>"
      ],
      "text/plain": [
       "GridSearchCV(cv=5,\n",
       "             estimator=Pipeline(steps=[('tvec', TfidfVectorizer()),\n",
       "                                       ('rf',\n",
       "                                        RandomForestClassifier(random_state=42))]),\n",
       "             n_jobs=-1,\n",
       "             param_grid={'rf__n_estimators': [30, 50, 70, 90, 110, 130],\n",
       "                         'tvec__max_df': [0.8, 0.85, 0.9, 0.95],\n",
       "                         'tvec__max_features': [2000, 3000, 4000, 5000, 6000],\n",
       "                         'tvec__min_df': [2, 3, 4, 5, 6],\n",
       "                         'tvec__ngram_range': [(1, 1), (2, 2), (3, 3)]},\n",
       "             verbose=2)"
      ]
     },
     "execution_count": 85,
     "metadata": {},
     "output_type": "execute_result"
    }
   ],
   "source": [
    "%%time\n",
    "# Conducting GridSearch on training data\n",
    "tvec_rf.fit(X_train, y_train)"
   ]
  },
  {
   "cell_type": "code",
   "execution_count": 90,
   "id": "4444f0a5",
   "metadata": {},
   "outputs": [
    {
     "name": "stdout",
     "output_type": "stream",
     "text": [
      "TF-IDF Random Forest GridSearchCV best score is:0.81942.\n",
      "TF-IDF Random Forest train score is:0.99778.\n",
      "TF-IDF Random Forest test score is:0.8287.\n"
     ]
    }
   ],
   "source": [
    "# Best score\n",
    "tvec_rf_best = round(tvec_rf.best_score_, 5)\n",
    "print('TF-IDF Random Forest GridSearchCV best score is:{}.'.format(tvec_rf_best))\n",
    "\n",
    "# Training score\n",
    "tvec_rf_train = round(tvec_rf.score(X_train, y_train), 5)\n",
    "print('TF-IDF Random Forest train score is:{}.'.format(tvec_rf_train))\n",
    "\n",
    "# Test score\n",
    "tvec_rf_test = round(tvec_rf.score(X_test, y_test), 5)\n",
    "print('TF-IDF Random Forest test score is:{}.'.format(tcvec_rf_test))"
   ]
  },
  {
   "cell_type": "code",
   "execution_count": 87,
   "id": "1aad7899",
   "metadata": {},
   "outputs": [
    {
     "data": {
      "image/png": "[encoded data removed]",
      "text/plain": [
       "<Figure size 432x288 with 2 Axes>"
      ]
     },
     "metadata": {
      "needs_background": "light"
     },
     "output_type": "display_data"
    }
   ],
   "source": [
    "# View confusion matrix\n",
    "plot_confusion_matrix(tvec_rf, X_test, y_test, cmap='Blues', values_format='d', display_labels=['coffee', 'tea'])\n",
    "plt.title('Confusion Matrix of TF-IDF Random Forest Model');"
   ]
  },
  {
   "cell_type": "code",
   "execution_count": 88,
   "id": "9a70f679",
   "metadata": {},
   "outputs": [
    {
     "data": {
      "image/png": "[encoded data removed]",
      "text/plain": [
       "<Figure size 432x288 with 1 Axes>"
      ]
     },
     "metadata": {
      "needs_background": "light"
     },
     "output_type": "display_data"
    }
   ],
   "source": [
    "# Plotting AUC ROC Curve\n",
    "plot_roc_curve(tvec_rf, X_test, y_test)\n",
    "plt.plot([0, 1], [0, 1],\n",
    "         label='baseline', linestyle='--')\n",
    "plt.legend()\n",
    "plt.title('ROC Curve of TF-IDF Random Forest Model');"
   ]
  },
  {
   "cell_type": "markdown",
   "id": "df3db748",
   "metadata": {},
   "source": [
    "# Summary of Results\n",
    "\n",
    "The scores shown here are accuracy scores."
   ]
  },
  {
   "cell_type": "code",
   "execution_count": 166,
   "id": "d0b34276",
   "metadata": {},
   "outputs": [],
   "source": [
    "models = ['CountVectorizer Multinomial NB', 'CountVectorizer Bernoulli NB','TF-IDF Multinomial NB','TF-IDF Bernoulli NB',\n",
    "          'CountVectorizer Random Forest', 'TF-IDF Random Forest', 'Baseline']\n",
    "\n",
    "\n",
    "gs_best_score = [cvec_multinomial_best, cvec_bernoulli_best, tvec_multinomial_best, tvec_bernoulli_best,\n",
    "                 cvec_rf_best, tvec_rf_best, 0.5]\n",
    "\n",
    "train_score = [cvec_multinomial_train, cvec_bernoulli_train, tvec_multinomial_train, tvec_bernoulli_train,\n",
    "                 cvec_rf_train, tvec_rf_train, 0.5]\n",
    "\n",
    "test_score = [cvec_multinomial_test, cvec_bernoulli_test, tvec_multinomial_test, tvec_bernoulli_test,\n",
    "                 cvec_rf_test, tvec_rf_test, 0.5]\n",
    "\n",
    "score_summary = pd.DataFrame(data = [models, gs_best_score, train_score, test_score],\n",
    "                             index = ['Model', 'GridSearch Best Accuracy', 'Train Accuracy', 'Test Accuracy'])"
   ]
  },
  {
   "cell_type": "code",
   "execution_count": 167,
   "id": "e24a31c9",
   "metadata": {},
   "outputs": [],
   "source": [
    "# Transposing the table\n",
    "score_summary = score_summary.T"
   ]
  },
  {
   "cell_type": "code",
   "execution_count": 168,
   "id": "94c211b5",
   "metadata": {},
   "outputs": [
    {
     "data": {
      "text/html": [
       "<div>\n",
       "<style scoped>\n",
       "    .dataframe tbody tr th:only-of-type {\n",
       "        vertical-align: middle;\n",
       "    }\n",
       "\n",
       "    .dataframe tbody tr th {\n",
       "        vertical-align: top;\n",
       "    }\n",
       "\n",
       "    .dataframe thead th {\n",
       "        text-align: right;\n",
       "    }\n",
       "</style>\n",
       "<table border=\"1\" class=\"dataframe\">\n",
       "  <thead>\n",
       "    <tr style=\"text-align: right;\">\n",
       "      <th></th>\n",
       "      <th>Model</th>\n",
       "      <th>GridSearch Best Accuracy</th>\n",
       "      <th>Train Accuracy</th>\n",
       "      <th>Test Accuracy</th>\n",
       "    </tr>\n",
       "  </thead>\n",
       "  <tbody>\n",
       "    <tr>\n",
       "      <th>2</th>\n",
       "      <td>TF-IDF Multinomial NB</td>\n",
       "      <td>0.85836</td>\n",
       "      <td>0.94624</td>\n",
       "      <td>0.87653</td>\n",
       "    </tr>\n",
       "    <tr>\n",
       "      <th>0</th>\n",
       "      <td>CountVectorizer Multinomial NB</td>\n",
       "      <td>0.86244</td>\n",
       "      <td>0.93882</td>\n",
       "      <td>0.87542</td>\n",
       "    </tr>\n",
       "    <tr>\n",
       "      <th>4</th>\n",
       "      <td>CountVectorizer Random Forest</td>\n",
       "      <td>0.82017</td>\n",
       "      <td>0.99629</td>\n",
       "      <td>0.83982</td>\n",
       "    </tr>\n",
       "    <tr>\n",
       "      <th>5</th>\n",
       "      <td>TF-IDF Random Forest</td>\n",
       "      <td>0.81942</td>\n",
       "      <td>0.99778</td>\n",
       "      <td>0.8287</td>\n",
       "    </tr>\n",
       "    <tr>\n",
       "      <th>1</th>\n",
       "      <td>CountVectorizer Bernoulli NB</td>\n",
       "      <td>0.81238</td>\n",
       "      <td>0.89618</td>\n",
       "      <td>0.82091</td>\n",
       "    </tr>\n",
       "    <tr>\n",
       "      <th>3</th>\n",
       "      <td>TF-IDF Bernoulli NB</td>\n",
       "      <td>0.81238</td>\n",
       "      <td>0.89618</td>\n",
       "      <td>0.82091</td>\n",
       "    </tr>\n",
       "    <tr>\n",
       "      <th>6</th>\n",
       "      <td>Baseline</td>\n",
       "      <td>0.5</td>\n",
       "      <td>0.5</td>\n",
       "      <td>0.5</td>\n",
       "    </tr>\n",
       "  </tbody>\n",
       "</table>\n",
       "</div>"
      ],
      "text/plain": [
       "                            Model GridSearch Best Accuracy Train Accuracy  \\\n",
       "2           TF-IDF Multinomial NB                  0.85836        0.94624   \n",
       "0  CountVectorizer Multinomial NB                  0.86244        0.93882   \n",
       "4   CountVectorizer Random Forest                  0.82017        0.99629   \n",
       "5            TF-IDF Random Forest                  0.81942        0.99778   \n",
       "1    CountVectorizer Bernoulli NB                  0.81238        0.89618   \n",
       "3             TF-IDF Bernoulli NB                  0.81238        0.89618   \n",
       "6                        Baseline                      0.5            0.5   \n",
       "\n",
       "  Test Accuracy  \n",
       "2       0.87653  \n",
       "0       0.87542  \n",
       "4       0.83982  \n",
       "5        0.8287  \n",
       "1       0.82091  \n",
       "3       0.82091  \n",
       "6           0.5  "
      ]
     },
     "execution_count": 168,
     "metadata": {},
     "output_type": "execute_result"
    }
   ],
   "source": [
    "# Ordering the rows based on decreasing test accuracy\n",
    "score_summary = score_summary.sort_values(by = 'Test Accuracy', ascending = False)\n",
    "score_summary"
   ]
  },
  {
   "cell_type": "code",
   "execution_count": 169,
   "id": "56407a2a",
   "metadata": {},
   "outputs": [
    {
     "data": {
      "image/png": "[encoded data removed]",
      "text/plain": [
       "<Figure size 432x288 with 1 Axes>"
      ]
     },
     "metadata": {
      "needs_background": "light"
     },
     "output_type": "display_data"
    }
   ],
   "source": [
    "# Plotting test accuracy scores\n",
    "score_summary = score_summary.sort_values(by = 'Test Accuracy', ascending = True)\n",
    "plt.barh('Model', 'Test Accuracy', data = score_summary);"
   ]
  },
  {
   "cell_type": "markdown",
   "id": "0b6a1448",
   "metadata": {},
   "source": [
    "Based on test accuracy, the TF-IDF Multinomial Naive Bayes Model performs the best and shall be the chosen model used for production."
   ]
  },
  {
   "cell_type": "markdown",
   "id": "5236cb69",
   "metadata": {},
   "source": [
    "# Top Predictor Words"
   ]
  },
  {
   "cell_type": "code",
   "execution_count": 170,
   "id": "7a6ad01e",
   "metadata": {},
   "outputs": [],
   "source": [
    "# Saving the estimator of the best model\n",
    "best_model_est = tvec_multinomial.best_estimator_"
   ]
  },
  {
   "cell_type": "code",
   "execution_count": 171,
   "id": "0ef617bd",
   "metadata": {},
   "outputs": [],
   "source": [
    "# Saving variables for better accessibility\n",
    "transformer = best_model_est.named_steps['tvec']\n",
    "estimator = best_model_est.named_steps['nb']"
   ]
  },
  {
   "cell_type": "code",
   "execution_count": 173,
   "id": "5e06a011",
   "metadata": {},
   "outputs": [],
   "source": [
    "# Storing feature name and difference in log probabilities between the 2 classes in a newly created dataframe\n",
    "df = pd.DataFrame()\n",
    "df['feature'] = transformer.get_feature_names()\n",
    "df['log_prob_diff'] = estimator.feature_log_prob_[1,:] - estimator.feature_log_prob_[0,:]"
   ]
  },
  {
   "cell_type": "code",
   "execution_count": 174,
   "id": "a6f6a1d3",
   "metadata": {},
   "outputs": [
    {
     "data": {
      "text/html": [
       "<div>\n",
       "<style scoped>\n",
       "    .dataframe tbody tr th:only-of-type {\n",
       "        vertical-align: middle;\n",
       "    }\n",
       "\n",
       "    .dataframe tbody tr th {\n",
       "        vertical-align: top;\n",
       "    }\n",
       "\n",
       "    .dataframe thead th {\n",
       "        text-align: right;\n",
       "    }\n",
       "</style>\n",
       "<table border=\"1\" class=\"dataframe\">\n",
       "  <thead>\n",
       "    <tr style=\"text-align: right;\">\n",
       "      <th></th>\n",
       "      <th>feature</th>\n",
       "      <th>log_prob_diff</th>\n",
       "    </tr>\n",
       "  </thead>\n",
       "  <tbody>\n",
       "    <tr>\n",
       "      <th>1767</th>\n",
       "      <td>oolong</td>\n",
       "      <td>5.772123</td>\n",
       "    </tr>\n",
       "    <tr>\n",
       "      <th>1229</th>\n",
       "      <td>herbal</td>\n",
       "      <td>5.150556</td>\n",
       "    </tr>\n",
       "    <tr>\n",
       "      <th>1987</th>\n",
       "      <td>puerh</td>\n",
       "      <td>5.022959</td>\n",
       "    </tr>\n",
       "    <tr>\n",
       "      <th>1641</th>\n",
       "      <td>mint</td>\n",
       "      <td>4.884234</td>\n",
       "    </tr>\n",
       "    <tr>\n",
       "      <th>2768</th>\n",
       "      <td>white2tea</td>\n",
       "      <td>4.856714</td>\n",
       "    </tr>\n",
       "    <tr>\n",
       "      <th>480</th>\n",
       "      <td>chamomile</td>\n",
       "      <td>4.727288</td>\n",
       "    </tr>\n",
       "    <tr>\n",
       "      <th>1095</th>\n",
       "      <td>gaiwan</td>\n",
       "      <td>4.657410</td>\n",
       "    </tr>\n",
       "    <tr>\n",
       "      <th>841</th>\n",
       "      <td>earl</td>\n",
       "      <td>4.609453</td>\n",
       "    </tr>\n",
       "    <tr>\n",
       "      <th>1158</th>\n",
       "      <td>grey</td>\n",
       "      <td>4.599161</td>\n",
       "    </tr>\n",
       "    <tr>\n",
       "      <th>2510</th>\n",
       "      <td>teapot</td>\n",
       "      <td>4.573924</td>\n",
       "    </tr>\n",
       "  </tbody>\n",
       "</table>\n",
       "</div>"
      ],
      "text/plain": [
       "        feature  log_prob_diff\n",
       "1767     oolong       5.772123\n",
       "1229     herbal       5.150556\n",
       "1987      puerh       5.022959\n",
       "1641       mint       4.884234\n",
       "2768  white2tea       4.856714\n",
       "480   chamomile       4.727288\n",
       "1095     gaiwan       4.657410\n",
       "841        earl       4.609453\n",
       "1158       grey       4.599161\n",
       "2510     teapot       4.573924"
      ]
     },
     "execution_count": 174,
     "metadata": {},
     "output_type": "execute_result"
    }
   ],
   "source": [
    "# Following are the top 10 predictor words for tea\n",
    "top_word_tea = df.sort_values(by = ['log_prob_diff'], ascending = False).head(10)\n",
    "top_word_tea"
   ]
  },
  {
   "cell_type": "code",
   "execution_count": 176,
   "id": "2e86c1b8",
   "metadata": {},
   "outputs": [
    {
     "data": {
      "image/png": "[encoded data removed]",
      "text/plain": [
       "<Figure size 432x288 with 1 Axes>"
      ]
     },
     "metadata": {
      "needs_background": "light"
     },
     "output_type": "display_data"
    }
   ],
   "source": [
    "# Plotting top predictor words with respective differences in log probability \n",
    "top_word_tea = df.sort_values(by = ['log_prob_diff'], ascending = True).tail(10)\n",
    "top_word_tea.plot.barh(y = 'log_prob_diff', x = 'feature')\n",
    "plt.title('Top 10 Predictor Words for Tea')\n",
    "plt.xlabel('Importance')\n",
    "plt.ylabel('Word');"
   ]
  },
  {
   "cell_type": "code",
   "execution_count": 178,
   "id": "a9f6d680",
   "metadata": {},
   "outputs": [
    {
     "data": {
      "text/html": [
       "<div>\n",
       "<style scoped>\n",
       "    .dataframe tbody tr th:only-of-type {\n",
       "        vertical-align: middle;\n",
       "    }\n",
       "\n",
       "    .dataframe tbody tr th {\n",
       "        vertical-align: top;\n",
       "    }\n",
       "\n",
       "    .dataframe thead th {\n",
       "        text-align: right;\n",
       "    }\n",
       "</style>\n",
       "<table border=\"1\" class=\"dataframe\">\n",
       "  <thead>\n",
       "    <tr style=\"text-align: right;\">\n",
       "      <th></th>\n",
       "      <th>feature</th>\n",
       "      <th>log_prob_diff</th>\n",
       "    </tr>\n",
       "  </thead>\n",
       "  <tbody>\n",
       "    <tr>\n",
       "      <th>2569</th>\n",
       "      <td>timemore</td>\n",
       "      <td>-4.112298</td>\n",
       "    </tr>\n",
       "    <tr>\n",
       "      <th>373</th>\n",
       "      <td>breville</td>\n",
       "      <td>-4.144637</td>\n",
       "    </tr>\n",
       "    <tr>\n",
       "      <th>282</th>\n",
       "      <td>barista</td>\n",
       "      <td>-4.221270</td>\n",
       "    </tr>\n",
       "    <tr>\n",
       "      <th>1543</th>\n",
       "      <td>machine</td>\n",
       "      <td>-4.306598</td>\n",
       "    </tr>\n",
       "    <tr>\n",
       "      <th>2137</th>\n",
       "      <td>roaster</td>\n",
       "      <td>-4.383248</td>\n",
       "    </tr>\n",
       "    <tr>\n",
       "      <th>2686</th>\n",
       "      <td>v60</td>\n",
       "      <td>-4.517613</td>\n",
       "    </tr>\n",
       "    <tr>\n",
       "      <th>406</th>\n",
       "      <td>burr</td>\n",
       "      <td>-4.763168</td>\n",
       "    </tr>\n",
       "    <tr>\n",
       "      <th>898</th>\n",
       "      <td>espresso</td>\n",
       "      <td>-5.115763</td>\n",
       "    </tr>\n",
       "    <tr>\n",
       "      <th>1159</th>\n",
       "      <td>grind</td>\n",
       "      <td>-5.383926</td>\n",
       "    </tr>\n",
       "    <tr>\n",
       "      <th>1160</th>\n",
       "      <td>grinder</td>\n",
       "      <td>-5.688587</td>\n",
       "    </tr>\n",
       "  </tbody>\n",
       "</table>\n",
       "</div>"
      ],
      "text/plain": [
       "       feature  log_prob_diff\n",
       "2569  timemore      -4.112298\n",
       "373   breville      -4.144637\n",
       "282    barista      -4.221270\n",
       "1543   machine      -4.306598\n",
       "2137   roaster      -4.383248\n",
       "2686       v60      -4.517613\n",
       "406       burr      -4.763168\n",
       "898   espresso      -5.115763\n",
       "1159     grind      -5.383926\n",
       "1160   grinder      -5.688587"
      ]
     },
     "execution_count": 178,
     "metadata": {},
     "output_type": "execute_result"
    }
   ],
   "source": [
    "# Following are the top 10 predictor words for coffee\n",
    "top_word_coffee = df.sort_values(by = ['log_prob_diff'], ascending = False).tail(10)\n",
    "top_word_coffee"
   ]
  },
  {
   "cell_type": "code",
   "execution_count": 148,
   "id": "a3c66497",
   "metadata": {},
   "outputs": [
    {
     "data": {
      "image/png": "[encoded data removed]",
      "text/plain": [
       "<Figure size 432x288 with 1 Axes>"
      ]
     },
     "metadata": {
      "needs_background": "light"
     },
     "output_type": "display_data"
    }
   ],
   "source": [
    "# Plotting top predictor words with respective differences in log probability \n",
    "top_word_coffee = df_.sort_values(by = ['log_prob_diff'], ascending = True).tail(10)\n",
    "top_word_coffee.plot.barh(y = 'log_prob_diff', x = 'feature')\n",
    "plt.title('Top 10 Predictor Words for Coffee')\n",
    "plt.xlabel('Importance')\n",
    "plt.ylabel('Word');"
   ]
  },
  {
   "cell_type": "markdown",
   "id": "ba0dd48d",
   "metadata": {},
   "source": [
    "# Saving Best Model"
   ]
  },
  {
   "cell_type": "code",
   "execution_count": 182,
   "id": "096b01d7",
   "metadata": {},
   "outputs": [],
   "source": [
    "# Saving model\n",
    "pickle.dump(tvec_multinomial, open(\"../data/tvec_multinomial.pkl\", \"wb\"))"
   ]
  }
 ],
 "metadata": {
  "kernelspec": {
   "display_name": "Python 3 (ipykernel)",
   "language": "python",
   "name": "python3"
  },
  "language_info": {
   "codemirror_mode": {
    "name": "ipython",
    "version": 3
   },
   "file_extension": ".py",
   "mimetype": "text/x-python",
   "name": "python",
   "nbconvert_exporter": "python",
   "pygments_lexer": "ipython3",
   "version": "3.8.13"
  }
 },
 "nbformat": 4,
 "nbformat_minor": 5
}
