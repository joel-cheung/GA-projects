{
 "cells": [
  {
   "cell_type": "markdown",
   "id": "3b836134",
   "metadata": {},
   "source": [
    "<img src=\"http://imgur.com/1ZcRyrc.png\" style=\"float: left; margin: 20px; height: 55px\">\n",
    "\n",
    "# Project 3: Reddit Submissions Classification Project"
   ]
  },
  {
   "cell_type": "markdown",
   "id": "e2e922a4",
   "metadata": {},
   "source": [
    "# Information"
   ]
  },
  {
   "cell_type": "markdown",
   "id": "ade0081d",
   "metadata": {},
   "source": [
    "This projects covers the scraping of the Reddit APIs, Natural Language Processing, and classification machine learning models.\n",
    "\n",
    "The purpose of this project is to train the models to predict which subreddit a submission belongs to: r/coffee or r/tea.\n",
    "\n",
    "This is the first notebook of this project."
   ]
  },
  {
   "cell_type": "markdown",
   "id": "e4d5dae8",
   "metadata": {},
   "source": [
    "# Background"
   ]
  },
  {
   "cell_type": "markdown",
   "id": "3a8459f1",
   "metadata": {},
   "source": [
    "I am part of the data science team working in a beverage company, Coftea, specializing in coffee and tea products. With the rise of numerous e-commerce platforms and numerous competitors in this space, it is important that the decisions made are founded on data in order to standout from the crowd."
   ]
  },
  {
   "cell_type": "markdown",
   "id": "45662ee6",
   "metadata": {},
   "source": [
    "# Problem Statement"
   ]
  },
  {
   "cell_type": "markdown",
   "id": "d795eb70",
   "metadata": {},
   "source": [
    "To optimize our marketing expenditure, we would like to target our advertisements to people who are most likely going to buy our products. A good proxy would be their past search results. Also, buzz in the forums would give us a good indication of upcoming and fading trends so that we are more informed of our R&D focus and stock re-filling. My team and I are presenting to fellow colleagues and management who are non-technical, to share our findings on a recent project to build a classification model for the company that would be the foundation of this optimization.\n",
    "\n",
    "With our classification models, we will be able to identify the types of tea leaves or coffee beans, machinery, and even derivative products (such as pastry) to stock up so that Coftea can capture the rising demand.\n",
    "\n",
    "Since we are looking to advertise to consumers who have shown some indication of interest in certain products (through the proxy of posting on sites such as subreddit), we will use accuracy as the primary metric."
   ]
  },
  {
   "cell_type": "markdown",
   "id": "a825fd87",
   "metadata": {},
   "source": [
    "# Importing libraries"
   ]
  },
  {
   "cell_type": "code",
   "execution_count": 1,
   "id": "0cd02315",
   "metadata": {},
   "outputs": [],
   "source": [
    "# Usual libraries\n",
    "import pandas as pd\n",
    "import numpy as np\n",
    "\n",
    "# For webscraping\n",
    "import requests\n",
    "import time\n",
    "\n",
    "\n",
    "# For visualization\n",
    "import matplotlib.pyplot as plt\n",
    "import seaborn as sns\n",
    "\n",
    "# For machine learning\n",
    "from sklearn.model_selection import train_test_split, GridSearchCV, cross_val_score\n",
    "from sklearn.feature_extraction.text import CountVectorizer, TfidfVectorizer\n",
    "from sklearn.pipeline import Pipeline\n",
    "from sklearn.naive_bayes import MultinomialNB, BernoulliNB\n",
    "from sklearn.linear_model import LogisticRegression\n",
    "from sklearn.metrics import confusion_matrix, plot_confusion_matrix, accuracy_score, plot_roc_curve, roc_auc_score, recall_score, precision_score, f1_score\n",
    "from sklearn.ensemble import RandomForestClassifier, ExtraTreesClassifier\n",
    "\n",
    "# For NLP cleaning and preprocessing\n",
    "import demoji\n",
    "import re, string, nltk\n",
    "from nltk.corpus import stopwords\n",
    "from nltk.tokenize import word_tokenize\n",
    "from nltk.stem.porter import PorterStemmer\n",
    "from nltk.corpus import wordnet\n",
    "from nltk.stem import WordNetLemmatizer"
   ]
  },
  {
   "cell_type": "markdown",
   "id": "c22d8990",
   "metadata": {},
   "source": [
    "# Creating Function to Clean Text"
   ]
  },
  {
   "cell_type": "code",
   "execution_count": 2,
   "id": "f9649ce8",
   "metadata": {},
   "outputs": [],
   "source": [
    "# Instantiating stopwords\n",
    "Stopwords = set(stopwords.words('english'))"
   ]
  },
  {
   "cell_type": "code",
   "execution_count": 3,
   "id": "e46165a8",
   "metadata": {},
   "outputs": [],
   "source": [
    "# Updating stopwords\n",
    "Stopwords.update(['amp', 'coffee', 'tea'])"
   ]
  },
  {
   "cell_type": "code",
   "execution_count": 4,
   "id": "b8eff0be",
   "metadata": {},
   "outputs": [],
   "source": [
    "def clean_text(text):\n",
    "    # Removing emojis\n",
    "    dem = demoji.findall(text)\n",
    "    for item in dem.keys():\n",
    "        text = text.replace(item,'')\n",
    "        \n",
    "    # Removing URLs\n",
    "    pattern = re.compile(r\"(http?://\\S+|www\\.\\S+|\\S+\\.[a-z]+|https?://\\S+|www\\.\\S+|\\S+\\.[a-z]+)\")\n",
    "    text = pattern.sub('', text)\n",
    "    text = \" \".join(text.split())\n",
    "    \n",
    "    # Making text lowercase\n",
    "    text = text.lower()\n",
    "    \n",
    "    # Decontracting contracted words\n",
    "    text = re.sub(r\"can\\'t\", \"can not\", text)\n",
    "    text = re.sub(r\"n\\'t\", \" not\", text)\n",
    "    text = re.sub(r\"\\'re\", \" are\", text)\n",
    "    text = re.sub(r\"\\'s\", \" is\", text)\n",
    "    text = re.sub(r\"\\'d\", \" would\", text)\n",
    "    text = re.sub(r\"\\'ll\", \" will\", text)\n",
    "    text = re.sub(r\"\\'t\", \" not\", text)\n",
    "    text = re.sub(r\"\\'ve\", \" have\", text)\n",
    "    text = re.sub(r\"\\'m\", \" am\", text)\n",
    "    \n",
    "    # Removing punctuations\n",
    "    remove_punc = re.compile(r\"[%s]\" % re.escape(string.punctuation))\n",
    "    text = remove_punc.sub('', text)\n",
    "    \n",
    "    # Lemmatizing\n",
    "    # To retrieve the appropriate part-of-speech (POS) tagging for each word in a sentence/tweet for the usage of WordNetLemmatizer\n",
    "    def get_wordnet_pos(word):\n",
    "        \"\"\"Map POS tag to first character lemmatize() accepts\"\"\"\n",
    "        tag = nltk.pos_tag([word])[0][1][0].upper()\n",
    "        tag_dict = {\"J\": wordnet.ADJ,\n",
    "                    \"N\": wordnet.NOUN,\n",
    "                    \"V\": wordnet.VERB,\n",
    "                    \"R\": wordnet.ADV}\n",
    "        return tag_dict.get(tag, wordnet.NOUN)\n",
    "    \n",
    "    lemmatizer = WordNetLemmatizer()\n",
    "    text = [lemmatizer.lemmatize(word, get_wordnet_pos(word)) for word in str(text).split()]\n",
    "    text = ' '.join(text)\n",
    "    \n",
    "    # Removing back-to-back spaces\n",
    "    text = re.sub(\"\\s\\s+\" , \" \", text)\n",
    "    \n",
    "    # Removing stopwords\n",
    "    text = \" \".join([word for word in str(text).split() if word not in Stopwords])\n",
    "    \n",
    "    return text"
   ]
  },
  {
   "cell_type": "code",
   "execution_count": 5,
   "id": "305c7aa4",
   "metadata": {},
   "outputs": [],
   "source": [
    "# Changing display settings\n",
    "pd.set_option('display.max_row', 100)\n",
    "pd.set_option('display.max_colwidth', None)"
   ]
  },
  {
   "cell_type": "markdown",
   "id": "2427f8d6",
   "metadata": {},
   "source": [
    "# Function to scrap Subreddit"
   ]
  },
  {
   "cell_type": "code",
   "execution_count": 6,
   "id": "53fc6b97",
   "metadata": {},
   "outputs": [],
   "source": [
    "url = 'https://api.pushshift.io/reddit/search/submission'"
   ]
  },
  {
   "cell_type": "code",
   "execution_count": 7,
   "id": "9e6859e9",
   "metadata": {},
   "outputs": [],
   "source": [
    "# def get_submissions(subreddit, n_iter):\n",
    "    \n",
    "#     df_list = []\n",
    "#     current_time = 1653373055 # 24 May 2022, 2:17pm\n",
    "    \n",
    "#     for i in range(n_iter):\n",
    "#         res = requests.get(\n",
    "#         url,\n",
    "#         params = {\n",
    "#             'subreddit' : subreddit,\n",
    "#             'size' : 100,\n",
    "#             'before' : current_time,\n",
    "#             'stickied': False\n",
    "#             }\n",
    "#         )\n",
    "#         time.sleep(3)\n",
    "#         df = pd.DataFrame(res.json()['data'])\n",
    "#         df = df[['subreddit','selftext','title','created_utc']]\n",
    "#         df_list.append(df)\n",
    "#         current_time = df.created_utc.min()\n",
    "\n",
    "#     return pd.concat(df_list, axis = 0)"
   ]
  },
  {
   "cell_type": "markdown",
   "id": "c227a1a1",
   "metadata": {},
   "source": [
    "# Scraping"
   ]
  },
  {
   "cell_type": "code",
   "execution_count": 8,
   "id": "171895c0",
   "metadata": {},
   "outputs": [],
   "source": [
    "# Running this will start scraping from reddit\n",
    "# df_tea = get_submissions('tea',20)\n",
    "# df_coffee = get_submissions('coffee',20)"
   ]
  },
  {
   "cell_type": "markdown",
   "id": "a978fff2",
   "metadata": {},
   "source": [
    "### Exporting the dataset for easier referencing"
   ]
  },
  {
   "cell_type": "code",
   "execution_count": 9,
   "id": "c848746f",
   "metadata": {},
   "outputs": [],
   "source": [
    "# This is done so that whenever this notebook is closed, I can make the above extraction codes into comments and run from the\n",
    "# read_csv line onwards\n",
    "# df_tea.to_csv(r'../project_3/data/df_tea.csv', index = False)\n",
    "# df_coffee.to_csv(r'../project_3/data/df_coffee.csv', index = False)"
   ]
  },
  {
   "cell_type": "markdown",
   "id": "e0abad7a",
   "metadata": {},
   "source": [
    "### Importing dataset"
   ]
  },
  {
   "cell_type": "code",
   "execution_count": 10,
   "id": "8fe70d99",
   "metadata": {},
   "outputs": [],
   "source": [
    "df_tea = pd.read_csv ('../data/df_tea.csv')\n",
    "df_coffee = pd.read_csv ('../data/df_coffee.csv')"
   ]
  },
  {
   "cell_type": "code",
   "execution_count": 11,
   "id": "71607624",
   "metadata": {},
   "outputs": [],
   "source": [
    "# Combining the two datasets\n",
    "df = pd.concat([df_tea, df_coffee], axis = 0)"
   ]
  },
  {
   "cell_type": "code",
   "execution_count": 12,
   "id": "6b5f98fe",
   "metadata": {},
   "outputs": [
    {
     "data": {
      "text/plain": [
       "Coffee    2000\n",
       "tea       1993\n",
       "Name: subreddit, dtype: int64"
      ]
     },
     "execution_count": 12,
     "metadata": {},
     "output_type": "execute_result"
    }
   ],
   "source": [
    "df.subreddit.value_counts()"
   ]
  },
  {
   "cell_type": "markdown",
   "id": "3dc0af04",
   "metadata": {},
   "source": [
    "The number of posts scraped from each subreddit is balanced."
   ]
  },
  {
   "cell_type": "markdown",
   "id": "247db5cf",
   "metadata": {},
   "source": [
    "# Data Cleaning and Preprocessing"
   ]
  },
  {
   "cell_type": "markdown",
   "id": "f261bfb8",
   "metadata": {},
   "source": [
    "### The Data Cleaning & Preprocessing process includes the following steps:\n",
    "\n",
    "Combining columns: selftext and title\n",
    "\n",
    "Removing unwanted columns and texts\n",
    "\n",
    "    1. Unwanted column: created_utc\n",
    "    2. Drop selftext and title columns after combining\n",
    "    2. Unwanted text: nan, '[removed]' and '[deleted]'\n",
    "\n",
    "\n",
    "Mapping the spelling of mispelled, commonly observed terms\n",
    "\n",
    "\n",
    "Applying the defined function on the columns of texts, which includes:\n",
    "\n",
    "    1. Removing emojis\n",
    "    2. Removing URLs\n",
    "    3. Making text lowercase\n",
    "    4. Decontracting contracted words\n",
    "    5. Removing punctuations\n",
    "    6. Lemmatizing words\n",
    "    7. Removing back-to-back whitespaces\n",
    "    8. Removing stopwords"
   ]
  },
  {
   "cell_type": "markdown",
   "id": "4958b8b2",
   "metadata": {},
   "source": [
    "### Combining Columns\n",
    "\n",
    "This will create a column containing texts from the 'selftext' and 'title'."
   ]
  },
  {
   "cell_type": "code",
   "execution_count": 13,
   "id": "740d0c8e",
   "metadata": {},
   "outputs": [],
   "source": [
    "# Combining texts, adding a white space after the last word of title and before the first word of selftext\n",
    "df['raw_text'] = df['title'].fillna('') + df['selftext'].fillna('')"
   ]
  },
  {
   "cell_type": "code",
   "execution_count": 14,
   "id": "3d98dc75",
   "metadata": {},
   "outputs": [
    {
     "data": {
      "text/html": [
       "<div>\n",
       "<style scoped>\n",
       "    .dataframe tbody tr th:only-of-type {\n",
       "        vertical-align: middle;\n",
       "    }\n",
       "\n",
       "    .dataframe tbody tr th {\n",
       "        vertical-align: top;\n",
       "    }\n",
       "\n",
       "    .dataframe thead th {\n",
       "        text-align: right;\n",
       "    }\n",
       "</style>\n",
       "<table border=\"1\" class=\"dataframe\">\n",
       "  <thead>\n",
       "    <tr style=\"text-align: right;\">\n",
       "      <th></th>\n",
       "      <th>subreddit</th>\n",
       "      <th>selftext</th>\n",
       "      <th>title</th>\n",
       "      <th>created_utc</th>\n",
       "      <th>raw_text</th>\n",
       "    </tr>\n",
       "  </thead>\n",
       "  <tbody>\n",
       "    <tr>\n",
       "      <th>0</th>\n",
       "      <td>tea</td>\n",
       "      <td>I love tea, especially green and jasmine tea.  The thing is though, when I drink hot tea it makes my mouth dry and leaves a bitter after taste.  Is there something I'm doing wrong?</td>\n",
       "      <td>How do you make tea taste refreshing?</td>\n",
       "      <td>1653372437</td>\n",
       "      <td>How do you make tea taste refreshing?I love tea, especially green and jasmine tea.  The thing is though, when I drink hot tea it makes my mouth dry and leaves a bitter after taste.  Is there something I'm doing wrong?</td>\n",
       "    </tr>\n",
       "    <tr>\n",
       "      <th>1</th>\n",
       "      <td>tea</td>\n",
       "      <td>[removed]</td>\n",
       "      <td>Best strawberry kombucha - A Delicious Probiotic Beverage!</td>\n",
       "      <td>1653369669</td>\n",
       "      <td>Best strawberry kombucha - A Delicious Probiotic Beverage![removed]</td>\n",
       "    </tr>\n",
       "    <tr>\n",
       "      <th>2</th>\n",
       "      <td>tea</td>\n",
       "      <td>NaN</td>\n",
       "      <td>Traditional Medicinals teas 🍵 Are they worth buying? 🧐</td>\n",
       "      <td>1653367355</td>\n",
       "      <td>Traditional Medicinals teas 🍵 Are they worth buying? 🧐</td>\n",
       "    </tr>\n",
       "    <tr>\n",
       "      <th>3</th>\n",
       "      <td>tea</td>\n",
       "      <td>NaN</td>\n",
       "      <td>Do y'all like or dislike this spout!? Is it a deal breaker for you?</td>\n",
       "      <td>1653364488</td>\n",
       "      <td>Do y'all like or dislike this spout!? Is it a deal breaker for you?</td>\n",
       "    </tr>\n",
       "    <tr>\n",
       "      <th>4</th>\n",
       "      <td>tea</td>\n",
       "      <td>hi, just recently getting into specialty teas, mostly in part due to me recently picking up the book \"Tea\" by Tony Gebely. there's a portion describing \"first flush\" tea, which im sure the majority of you are familiar with. it's supposedly the highest quality tea. having never tried it, i dont know how significant of a difference this would make. how was your first time having first flush tea? was it in any way valuable to you?</td>\n",
       "      <td>how is the first flush experience? is it that good?</td>\n",
       "      <td>1653364473</td>\n",
       "      <td>how is the first flush experience? is it that good?hi, just recently getting into specialty teas, mostly in part due to me recently picking up the book \"Tea\" by Tony Gebely. there's a portion describing \"first flush\" tea, which im sure the majority of you are familiar with. it's supposedly the highest quality tea. having never tried it, i dont know how significant of a difference this would make. how was your first time having first flush tea? was it in any way valuable to you?</td>\n",
       "    </tr>\n",
       "  </tbody>\n",
       "</table>\n",
       "</div>"
      ],
      "text/plain": [
       "  subreddit  \\\n",
       "0       tea   \n",
       "1       tea   \n",
       "2       tea   \n",
       "3       tea   \n",
       "4       tea   \n",
       "\n",
       "                                                                                                                                                                                                                                                                                                                                                                                                                                          selftext  \\\n",
       "0                                                                                                                                                                                                                                                             I love tea, especially green and jasmine tea.  The thing is though, when I drink hot tea it makes my mouth dry and leaves a bitter after taste.  Is there something I'm doing wrong?   \n",
       "1                                                                                                                                                                                                                                                                                                                                                                                                                                        [removed]   \n",
       "2                                                                                                                                                                                                                                                                                                                                                                                                                                              NaN   \n",
       "3                                                                                                                                                                                                                                                                                                                                                                                                                                              NaN   \n",
       "4  hi, just recently getting into specialty teas, mostly in part due to me recently picking up the book \"Tea\" by Tony Gebely. there's a portion describing \"first flush\" tea, which im sure the majority of you are familiar with. it's supposedly the highest quality tea. having never tried it, i dont know how significant of a difference this would make. how was your first time having first flush tea? was it in any way valuable to you?   \n",
       "\n",
       "                                                                 title  \\\n",
       "0                                How do you make tea taste refreshing?   \n",
       "1           Best strawberry kombucha - A Delicious Probiotic Beverage!   \n",
       "2               Traditional Medicinals teas 🍵 Are they worth buying? 🧐   \n",
       "3  Do y'all like or dislike this spout!? Is it a deal breaker for you?   \n",
       "4                  how is the first flush experience? is it that good?   \n",
       "\n",
       "   created_utc  \\\n",
       "0   1653372437   \n",
       "1   1653369669   \n",
       "2   1653367355   \n",
       "3   1653364488   \n",
       "4   1653364473   \n",
       "\n",
       "                                                                                                                                                                                                                                                                                                                                                                                                                                                                                             raw_text  \n",
       "0                                                                                                                                                                                                                                                                           How do you make tea taste refreshing?I love tea, especially green and jasmine tea.  The thing is though, when I drink hot tea it makes my mouth dry and leaves a bitter after taste.  Is there something I'm doing wrong?  \n",
       "1                                                                                                                                                                                                                                                                                                                                                                                                                                 Best strawberry kombucha - A Delicious Probiotic Beverage![removed]  \n",
       "2                                                                                                                                                                                                                                                                                                                                                                                                                                              Traditional Medicinals teas 🍵 Are they worth buying? 🧐  \n",
       "3                                                                                                                                                                                                                                                                                                                                                                                                                                 Do y'all like or dislike this spout!? Is it a deal breaker for you?  \n",
       "4  how is the first flush experience? is it that good?hi, just recently getting into specialty teas, mostly in part due to me recently picking up the book \"Tea\" by Tony Gebely. there's a portion describing \"first flush\" tea, which im sure the majority of you are familiar with. it's supposedly the highest quality tea. having never tried it, i dont know how significant of a difference this would make. how was your first time having first flush tea? was it in any way valuable to you?  "
      ]
     },
     "execution_count": 14,
     "metadata": {},
     "output_type": "execute_result"
    }
   ],
   "source": [
    "df.head()"
   ]
  },
  {
   "cell_type": "markdown",
   "id": "4d82191e",
   "metadata": {},
   "source": [
    "### Dropping Unneeded Columns\n",
    "\n",
    "The dataset will only be left with the 2 columns:\n",
    "\n",
    "    1. subreddit - showing which subreddit the text is from\n",
    "    2. text - the text itself"
   ]
  },
  {
   "cell_type": "code",
   "execution_count": 15,
   "id": "15b5b76a",
   "metadata": {},
   "outputs": [],
   "source": [
    "df = df.drop(columns = ['selftext','title','created_utc'])"
   ]
  },
  {
   "cell_type": "code",
   "execution_count": 16,
   "id": "96d8d8ab",
   "metadata": {
    "scrolled": true
   },
   "outputs": [
    {
     "data": {
      "text/html": [
       "<div>\n",
       "<style scoped>\n",
       "    .dataframe tbody tr th:only-of-type {\n",
       "        vertical-align: middle;\n",
       "    }\n",
       "\n",
       "    .dataframe tbody tr th {\n",
       "        vertical-align: top;\n",
       "    }\n",
       "\n",
       "    .dataframe thead th {\n",
       "        text-align: right;\n",
       "    }\n",
       "</style>\n",
       "<table border=\"1\" class=\"dataframe\">\n",
       "  <thead>\n",
       "    <tr style=\"text-align: right;\">\n",
       "      <th></th>\n",
       "      <th>subreddit</th>\n",
       "      <th>raw_text</th>\n",
       "    </tr>\n",
       "  </thead>\n",
       "  <tbody>\n",
       "    <tr>\n",
       "      <th>0</th>\n",
       "      <td>tea</td>\n",
       "      <td>How do you make tea taste refreshing?I love tea, especially green and jasmine tea.  The thing is though, when I drink hot tea it makes my mouth dry and leaves a bitter after taste.  Is there something I'm doing wrong?</td>\n",
       "    </tr>\n",
       "    <tr>\n",
       "      <th>1</th>\n",
       "      <td>tea</td>\n",
       "      <td>Best strawberry kombucha - A Delicious Probiotic Beverage![removed]</td>\n",
       "    </tr>\n",
       "    <tr>\n",
       "      <th>2</th>\n",
       "      <td>tea</td>\n",
       "      <td>Traditional Medicinals teas 🍵 Are they worth buying? 🧐</td>\n",
       "    </tr>\n",
       "    <tr>\n",
       "      <th>3</th>\n",
       "      <td>tea</td>\n",
       "      <td>Do y'all like or dislike this spout!? Is it a deal breaker for you?</td>\n",
       "    </tr>\n",
       "    <tr>\n",
       "      <th>4</th>\n",
       "      <td>tea</td>\n",
       "      <td>how is the first flush experience? is it that good?hi, just recently getting into specialty teas, mostly in part due to me recently picking up the book \"Tea\" by Tony Gebely. there's a portion describing \"first flush\" tea, which im sure the majority of you are familiar with. it's supposedly the highest quality tea. having never tried it, i dont know how significant of a difference this would make. how was your first time having first flush tea? was it in any way valuable to you?</td>\n",
       "    </tr>\n",
       "  </tbody>\n",
       "</table>\n",
       "</div>"
      ],
      "text/plain": [
       "  subreddit  \\\n",
       "0       tea   \n",
       "1       tea   \n",
       "2       tea   \n",
       "3       tea   \n",
       "4       tea   \n",
       "\n",
       "                                                                                                                                                                                                                                                                                                                                                                                                                                                                                             raw_text  \n",
       "0                                                                                                                                                                                                                                                                           How do you make tea taste refreshing?I love tea, especially green and jasmine tea.  The thing is though, when I drink hot tea it makes my mouth dry and leaves a bitter after taste.  Is there something I'm doing wrong?  \n",
       "1                                                                                                                                                                                                                                                                                                                                                                                                                                 Best strawberry kombucha - A Delicious Probiotic Beverage![removed]  \n",
       "2                                                                                                                                                                                                                                                                                                                                                                                                                                              Traditional Medicinals teas 🍵 Are they worth buying? 🧐  \n",
       "3                                                                                                                                                                                                                                                                                                                                                                                                                                 Do y'all like or dislike this spout!? Is it a deal breaker for you?  \n",
       "4  how is the first flush experience? is it that good?hi, just recently getting into specialty teas, mostly in part due to me recently picking up the book \"Tea\" by Tony Gebely. there's a portion describing \"first flush\" tea, which im sure the majority of you are familiar with. it's supposedly the highest quality tea. having never tried it, i dont know how significant of a difference this would make. how was your first time having first flush tea? was it in any way valuable to you?  "
      ]
     },
     "execution_count": 16,
     "metadata": {},
     "output_type": "execute_result"
    }
   ],
   "source": [
    "# To have a high level view of values\n",
    "df.head()"
   ]
  },
  {
   "cell_type": "markdown",
   "id": "bb631853",
   "metadata": {},
   "source": [
    "### Removing unwanted entries: nan, '[removed]' and '[deleted]'"
   ]
  },
  {
   "cell_type": "code",
   "execution_count": 18,
   "id": "5577e71e",
   "metadata": {},
   "outputs": [],
   "source": [
    "df['raw_text'] = df['raw_text'].str.replace('nan','').str.replace('removed','').str.replace('deleted','')"
   ]
  },
  {
   "cell_type": "code",
   "execution_count": 19,
   "id": "46a28326",
   "metadata": {
    "scrolled": true
   },
   "outputs": [
    {
     "data": {
      "text/html": [
       "<div>\n",
       "<style scoped>\n",
       "    .dataframe tbody tr th:only-of-type {\n",
       "        vertical-align: middle;\n",
       "    }\n",
       "\n",
       "    .dataframe tbody tr th {\n",
       "        vertical-align: top;\n",
       "    }\n",
       "\n",
       "    .dataframe thead th {\n",
       "        text-align: right;\n",
       "    }\n",
       "</style>\n",
       "<table border=\"1\" class=\"dataframe\">\n",
       "  <thead>\n",
       "    <tr style=\"text-align: right;\">\n",
       "      <th></th>\n",
       "      <th>subreddit</th>\n",
       "      <th>raw_text</th>\n",
       "    </tr>\n",
       "  </thead>\n",
       "  <tbody>\n",
       "    <tr>\n",
       "      <th>0</th>\n",
       "      <td>tea</td>\n",
       "      <td>How do you make tea taste refreshing?I love tea, especially green and jasmine tea.  The thing is though, when I drink hot tea it makes my mouth dry and leaves a bitter after taste.  Is there something I'm doing wrong?</td>\n",
       "    </tr>\n",
       "    <tr>\n",
       "      <th>1</th>\n",
       "      <td>tea</td>\n",
       "      <td>Best strawberry kombucha - A Delicious Probiotic Beverage![]</td>\n",
       "    </tr>\n",
       "    <tr>\n",
       "      <th>2</th>\n",
       "      <td>tea</td>\n",
       "      <td>Traditional Medicinals teas 🍵 Are they worth buying? 🧐</td>\n",
       "    </tr>\n",
       "    <tr>\n",
       "      <th>3</th>\n",
       "      <td>tea</td>\n",
       "      <td>Do y'all like or dislike this spout!? Is it a deal breaker for you?</td>\n",
       "    </tr>\n",
       "    <tr>\n",
       "      <th>4</th>\n",
       "      <td>tea</td>\n",
       "      <td>how is the first flush experience? is it that good?hi, just recently getting into specialty teas, mostly in part due to me recently picking up the book \"Tea\" by Tony Gebely. there's a portion describing \"first flush\" tea, which im sure the majority of you are familiar with. it's supposedly the highest quality tea. having never tried it, i dont know how significant of a difference this would make. how was your first time having first flush tea? was it in any way valuable to you?</td>\n",
       "    </tr>\n",
       "  </tbody>\n",
       "</table>\n",
       "</div>"
      ],
      "text/plain": [
       "  subreddit  \\\n",
       "0       tea   \n",
       "1       tea   \n",
       "2       tea   \n",
       "3       tea   \n",
       "4       tea   \n",
       "\n",
       "                                                                                                                                                                                                                                                                                                                                                                                                                                                                                             raw_text  \n",
       "0                                                                                                                                                                                                                                                                           How do you make tea taste refreshing?I love tea, especially green and jasmine tea.  The thing is though, when I drink hot tea it makes my mouth dry and leaves a bitter after taste.  Is there something I'm doing wrong?  \n",
       "1                                                                                                                                                                                                                                                                                                                                                                                                                                        Best strawberry kombucha - A Delicious Probiotic Beverage![]  \n",
       "2                                                                                                                                                                                                                                                                                                                                                                                                                                              Traditional Medicinals teas 🍵 Are they worth buying? 🧐  \n",
       "3                                                                                                                                                                                                                                                                                                                                                                                                                                 Do y'all like or dislike this spout!? Is it a deal breaker for you?  \n",
       "4  how is the first flush experience? is it that good?hi, just recently getting into specialty teas, mostly in part due to me recently picking up the book \"Tea\" by Tony Gebely. there's a portion describing \"first flush\" tea, which im sure the majority of you are familiar with. it's supposedly the highest quality tea. having never tried it, i dont know how significant of a difference this would make. how was your first time having first flush tea? was it in any way valuable to you?  "
      ]
     },
     "execution_count": 19,
     "metadata": {},
     "output_type": "execute_result"
    }
   ],
   "source": [
    "df.head()"
   ]
  },
  {
   "cell_type": "markdown",
   "id": "e0dc124a",
   "metadata": {},
   "source": [
    "### Checking for Missing Values"
   ]
  },
  {
   "cell_type": "code",
   "execution_count": 20,
   "id": "f8152678",
   "metadata": {},
   "outputs": [
    {
     "data": {
      "text/plain": [
       "0"
      ]
     },
     "execution_count": 20,
     "metadata": {},
     "output_type": "execute_result"
    }
   ],
   "source": [
    "df.raw_text.isna().sum()"
   ]
  },
  {
   "cell_type": "markdown",
   "id": "b233bb08",
   "metadata": {},
   "source": [
    "### Applying defined Function\n",
    "\n",
    "The function does the following to the column 'text':\n",
    "\n",
    "    1. Removing emojis\n",
    "    2. Removing URLs\n",
    "    3. Making text lowercase\n",
    "    4. Decontracting contracted words\n",
    "    5. Removing punctuations\n",
    "    6. Lemmatizing words\n",
    "    7. Removing back-to-back whitespaces\n",
    "    8. Removing stopwords - this includes the words 'tea' and 'coffee' as they are very likely to be giveaway terms to \n",
    "    strongly suggest which subreddit the submission containing either of those words are from."
   ]
  },
  {
   "cell_type": "code",
   "execution_count": 21,
   "id": "0568addf",
   "metadata": {},
   "outputs": [],
   "source": [
    "df['text'] = df['raw_text'].apply(lambda text: clean_text(text))"
   ]
  },
  {
   "cell_type": "markdown",
   "id": "405a6271",
   "metadata": {},
   "source": [
    "### Checking for Duplicates\n",
    "\n",
    "This is done by creating a new column where the texts are in tuples and any duplicates will be dropped."
   ]
  },
  {
   "cell_type": "code",
   "execution_count": 22,
   "id": "ac90de46",
   "metadata": {},
   "outputs": [
    {
     "name": "stdout",
     "output_type": "stream",
     "text": [
      "(3993, 3)\n",
      "(3993, 4)\n"
     ]
    }
   ],
   "source": [
    "# To check and remove any duplicates for both datasets\n",
    "\n",
    "# Before\n",
    "print(df.shape)\n",
    "\n",
    "# Since lists are unhashable, need to convert it to something hashable like a tuple to use it to drop duplicate rows\n",
    "df[\"text_tuple\"] = df['text'].apply(lambda x: tuple(x))\n",
    "\n",
    "# Dropping any duplicate rows\n",
    "df.drop_duplicates(subset = 'text_tuple', keep = 'first')\n",
    "\n",
    "# After\n",
    "print(df.shape)"
   ]
  },
  {
   "cell_type": "markdown",
   "id": "cfadf777",
   "metadata": {},
   "source": [
    "There are no duplicate submissions."
   ]
  },
  {
   "cell_type": "code",
   "execution_count": 23,
   "id": "d460f6e8",
   "metadata": {},
   "outputs": [],
   "source": [
    "df = df.drop(columns = 'text_tuple')"
   ]
  },
  {
   "cell_type": "code",
   "execution_count": 24,
   "id": "063bbaeb",
   "metadata": {},
   "outputs": [],
   "source": [
    "# Obtaining the word count of the tweets\n",
    "df['length'] = df['text'].apply(lambda x: len(x.split()))"
   ]
  },
  {
   "cell_type": "code",
   "execution_count": 25,
   "id": "c3cc2ab7",
   "metadata": {
    "scrolled": true
   },
   "outputs": [
    {
     "data": {
      "text/plain": [
       "count    3993.000000\n",
       "mean       26.487854\n",
       "std        39.832527\n",
       "min         0.000000\n",
       "25%         5.000000\n",
       "50%        12.000000\n",
       "75%        36.000000\n",
       "max      1007.000000\n",
       "Name: length, dtype: float64"
      ]
     },
     "execution_count": 25,
     "metadata": {},
     "output_type": "execute_result"
    }
   ],
   "source": [
    "df['length'].describe()"
   ]
  },
  {
   "cell_type": "code",
   "execution_count": 26,
   "id": "59448ea8",
   "metadata": {},
   "outputs": [],
   "source": [
    "# Dropping tweets where the resulting, cleaned texts are empty or very short\n",
    "df = df.loc[df['length'] >= 3]"
   ]
  },
  {
   "cell_type": "code",
   "execution_count": 27,
   "id": "5d0b5c77",
   "metadata": {},
   "outputs": [
    {
     "data": {
      "text/plain": [
       "Coffee    1857\n",
       "tea       1739\n",
       "Name: subreddit, dtype: int64"
      ]
     },
     "execution_count": 27,
     "metadata": {},
     "output_type": "execute_result"
    }
   ],
   "source": [
    "df.subreddit.value_counts()"
   ]
  },
  {
   "cell_type": "markdown",
   "id": "0170cd0b",
   "metadata": {},
   "source": [
    "# Exploratory Data Analysis (EDA)"
   ]
  },
  {
   "cell_type": "markdown",
   "id": "816fdfee",
   "metadata": {},
   "source": [
    "### EDA on Submission Lengths"
   ]
  },
  {
   "cell_type": "code",
   "execution_count": 28,
   "id": "e151ff74",
   "metadata": {},
   "outputs": [],
   "source": [
    "df_tea = df.loc[df['subreddit'] == 'tea']\n",
    "df_coffee = df.loc[df['subreddit'] == 'Coffee']"
   ]
  },
  {
   "cell_type": "code",
   "execution_count": 29,
   "id": "c6c2aea5",
   "metadata": {},
   "outputs": [
    {
     "data": {
      "text/plain": [
       "count    1739.000000\n",
       "mean       22.062105\n",
       "std        43.192036\n",
       "min         3.000000\n",
       "25%         5.000000\n",
       "50%         9.000000\n",
       "75%        27.000000\n",
       "max      1007.000000\n",
       "Name: length, dtype: float64"
      ]
     },
     "execution_count": 29,
     "metadata": {},
     "output_type": "execute_result"
    }
   ],
   "source": [
    "df_tea['length'].describe()"
   ]
  },
  {
   "cell_type": "code",
   "execution_count": 30,
   "id": "37183ca8",
   "metadata": {},
   "outputs": [
    {
     "data": {
      "text/plain": [
       "count    1857.000000\n",
       "mean       35.947227\n",
       "std        37.756200\n",
       "min         3.000000\n",
       "25%         8.000000\n",
       "50%        26.000000\n",
       "75%        49.000000\n",
       "max       391.000000\n",
       "Name: length, dtype: float64"
      ]
     },
     "execution_count": 30,
     "metadata": {},
     "output_type": "execute_result"
    }
   ],
   "source": [
    "df_coffee['length'].describe()"
   ]
  },
  {
   "cell_type": "code",
   "execution_count": 31,
   "id": "c9cf51d5",
   "metadata": {},
   "outputs": [
    {
     "name": "stderr",
     "output_type": "stream",
     "text": [
      "D:\\Anaconda\\envs\\Python\\lib\\site-packages\\seaborn\\distributions.py:2619: FutureWarning: `distplot` is a deprecated function and will be removed in a future version. Please adapt your code to use either `displot` (a figure-level function with similar flexibility) or `histplot` (an axes-level function for histograms).\n",
      "  warnings.warn(msg, FutureWarning)\n"
     ]
    },
    {
     "data": {
      "image/png": "[encoded data removed]",
      "text/plain": [
       "<Figure size 1152x576 with 1 Axes>"
      ]
     },
     "metadata": {
      "needs_background": "light"
     },
     "output_type": "display_data"
    }
   ],
   "source": [
    "# Having the 2 graphs overlay\n",
    "\n",
    "# bins focusing on the lower word counts which is the majority length\n",
    "bins = [0, 5, 10, 15, 20, 25, 30, 35, 40, 45, 50, 55, 60, 65, 70, 75, 80, 85, 90, 95, 100]\n",
    "fig, ax = plt.subplots(sharex = True, figsize = (16,8))\n",
    "sns.distplot(df_coffee['length'], ax = ax, color = 'Red', kde = False, label = 'r/coffee', hist_kws = dict(edgecolor = \"k\", linewidth = 2), bins = bins)\n",
    "sns.distplot(df_tea['length'], ax = ax, color = 'Green', kde = False, label = 'r/tea', hist_kws = dict(edgecolor = \"k\", linewidth = 2), bins = bins)\n",
    "plt.title('Word count of submissions from r/coffee and r/tea', )\n",
    "plt.xlabel('Word Count')\n",
    "plt.ylabel('Frequency')\n",
    "plt.legend()\n",
    "plt.xlim(0, 100);"
   ]
  },
  {
   "cell_type": "markdown",
   "id": "1175fba0",
   "metadata": {},
   "source": [
    "Submissions on the coffee subreddit have, on average, more words than submissions on the tea subreddit. For both subreddits, the word count distributions have very strong right skew, as seen from how the median is much closer to the 25th percentile than the 75th percentile and the median being lower than the mean.\n",
    "\n",
    "This gives us an idea of the type of submissions are common in these 2 subreddits. Given the high frequency of submissions with low word counts, it can be said that there are many submissions that contains visual data such as images or videos, and few words. As such, analysis and techniques tuned towards visual data can be employed as an alternative for NLP for this task. This is especially the case for the tea subreddit, where it has many submissions with very low word count."
   ]
  },
  {
   "cell_type": "markdown",
   "id": "b02d2aa1",
   "metadata": {},
   "source": [
    "### EDA for word n-grams"
   ]
  },
  {
   "cell_type": "markdown",
   "id": "5dd13a74",
   "metadata": {},
   "source": [
    "The following preprocessing steps are done for plotting purposes. These steps transforms the text columns into BagofWords using CountVectoizer as it is just a simple count of each word that are plotted."
   ]
  },
  {
   "cell_type": "code",
   "execution_count": 32,
   "id": "2670b153",
   "metadata": {},
   "outputs": [],
   "source": [
    "# Instantiating CountVectorizers\n",
    "\n",
    "# unigram\n",
    "cv1 = CountVectorizer()\n",
    "\n",
    "# bigram\n",
    "cv2 = CountVectorizer(ngram_range=(2,2))\n",
    "\n",
    "# trigram\n",
    "cv3 = CountVectorizer(ngram_range=(3,3))"
   ]
  },
  {
   "cell_type": "markdown",
   "id": "241a1776",
   "metadata": {},
   "source": [
    "##### Unigram"
   ]
  },
  {
   "cell_type": "code",
   "execution_count": 33,
   "id": "a86e9506",
   "metadata": {},
   "outputs": [],
   "source": [
    "# For tea\n",
    "tea_cv1 = cv1.fit_transform(df_tea['text'])\n",
    "tea_cv1_df = pd.DataFrame(tea_cv1.todense(), columns=cv1.get_feature_names_out())\n",
    "\n",
    "# For coffee\n",
    "coffee_cv1 = cv1.fit_transform(df_coffee['text'])\n",
    "coffee_cv1_df = pd.DataFrame(coffee_cv1.todense(), columns=cv1.get_feature_names_out())"
   ]
  },
  {
   "cell_type": "code",
   "execution_count": 34,
   "id": "700b3ad6",
   "metadata": {},
   "outputs": [
    {
     "data": {
      "image/png": "[encoded data removed]",
      "text/plain": [
       "<Figure size 1080x576 with 2 Axes>"
      ]
     },
     "metadata": {
      "needs_background": "light"
     },
     "output_type": "display_data"
    }
   ],
   "source": [
    "# Plotting the top 20 unigram\n",
    "fig, ax = plt.subplots(nrows = 1, ncols = 2, sharex = True, figsize = (15,8))\n",
    "ax = ax.ravel()\n",
    "\n",
    "plt.subplots_adjust(hspace = 0.1)\n",
    "\n",
    "# Setting up plot for tea submissions\n",
    "tea_cv1_df.sum().sort_values(ascending = True).tail(20).plot(kind = 'barh',ax = ax[0])\n",
    "ax[0].set_title('Top 20 Most Observed Unigram from r/tea')\n",
    "ax[0].set_xlabel('Count')\n",
    "\n",
    "# Setting up plot for coffee submissions\n",
    "coffee_cv1_df.sum().sort_values(ascending = True).tail(20).plot(kind = 'barh',ax = ax[1])\n",
    "ax[1].set_title('Top 20 Most Observed Unigram from r/coffee')\n",
    "ax[1].set_xlabel('Count');"
   ]
  },
  {
   "cell_type": "markdown",
   "id": "946506c3",
   "metadata": {},
   "source": [
    "It is observed that there are numerous common, most observed words in both subreddits, such as like, get, make, would. Though there are some unique words that are quite telling of which subreddit they are from.\n",
    "\n",
    "From r/tea, we see words relating to the type of tea. For instance, 'green' and 'black'.\n",
    "\n",
    "From r/coffee, we see words relating to coffee-making equipment such as 'grinder' and 'machine'."
   ]
  },
  {
   "cell_type": "markdown",
   "id": "40f26c6c",
   "metadata": {},
   "source": [
    "##### Bigram"
   ]
  },
  {
   "cell_type": "code",
   "execution_count": 35,
   "id": "26349f79",
   "metadata": {},
   "outputs": [],
   "source": [
    "# For tea\n",
    "tea_cv2 = cv2.fit_transform(df_tea['text'])\n",
    "tea_cv2_df = pd.DataFrame(tea_cv2.todense(), columns = cv2.get_feature_names_out())\n",
    "\n",
    "# For coffee\n",
    "coffee_cv2 = cv2.fit_transform(df_coffee['text'])\n",
    "coffee_cv2_df = pd.DataFrame(coffee_cv2.todense(), columns = cv2.get_feature_names_out())"
   ]
  },
  {
   "cell_type": "code",
   "execution_count": 36,
   "id": "7b000869",
   "metadata": {},
   "outputs": [
    {
     "data": {
      "image/png": "[encoded data removed]",
      "text/plain": [
       "<Figure size 1080x576 with 2 Axes>"
      ]
     },
     "metadata": {
      "needs_background": "light"
     },
     "output_type": "display_data"
    }
   ],
   "source": [
    "# Plotting the top 20 bigram\n",
    "fig, ax = plt.subplots(nrows = 1, ncols = 2, sharex = True, figsize = (15,8))\n",
    "ax = ax.ravel()\n",
    "\n",
    "plt.subplots_adjust(hspace = 0.1)\n",
    "\n",
    "# Setting up plot for tea submissions\n",
    "tea_cv2_df.sum().sort_values(ascending = True).tail(20).plot(kind = 'barh',ax = ax[0])\n",
    "ax[0].set_title('Top 20 Most Observed Unigram from r/tea')\n",
    "\n",
    "# Setting up plot for coffee submissions\n",
    "coffee_cv2_df.sum().sort_values(ascending = True).tail(20).plot(kind = 'barh',ax = ax[1])\n",
    "ax[1].set_title('Top 20 Most Observed Bigram from r/coffee')\n",
    "ax[1].set_xlabel('Count');"
   ]
  },
  {
   "cell_type": "markdown",
   "id": "68e98dd7",
   "metadata": {},
   "source": [
    "The bigram seems to be more informative than the unigram as it shows a wider variety of information on tea and coffee.\n",
    "\n",
    "For r/tea, we have more information such as:\n",
    "* Way tea is sold: loose leaf - whole leaves of tea are packaged in containers rather than tea leave pieces in tea bags\n",
    "* Tea names: earl grey, milk oolong\n",
    "* Way tea is prepared: cold brew, and gong fu - a ceremonious way of brewing tea\n",
    "* Tea company: Harney & Son (ampersand was removed from text cleaning)\n",
    "* Equipment: electric kettle\n",
    "\n",
    "For r/coffee, we have more information such as:\n",
    "* Equipment: french press, espresso machine, moka pot, hand grinder, burr grinder, barista express\n",
    "* Way coffee is prepared: cold brew\n",
    "* Way coffee bean is preprocessed: light roast, dark roast"
   ]
  },
  {
   "cell_type": "markdown",
   "id": "b1c40d25",
   "metadata": {},
   "source": [
    "##### Trigram"
   ]
  },
  {
   "cell_type": "code",
   "execution_count": 37,
   "id": "9b2f5731",
   "metadata": {},
   "outputs": [],
   "source": [
    "# For tea\n",
    "tea_cv3 = cv3.fit_transform(df_tea['text'])\n",
    "tea_cv3_df = pd.DataFrame(tea_cv3.todense(), columns = cv3.get_feature_names_out())\n",
    "\n",
    "# For coffee\n",
    "coffee_cv3 = cv3.fit_transform(df_coffee['text'])\n",
    "coffee_cv3_df = pd.DataFrame(coffee_cv3.todense(), columns = cv3.get_feature_names_out())"
   ]
  },
  {
   "cell_type": "code",
   "execution_count": 38,
   "id": "abb9fca8",
   "metadata": {},
   "outputs": [
    {
     "data": {
      "image/png": "[encoded data removed]",
      "text/plain": [
       "<Figure size 1080x576 with 2 Axes>"
      ]
     },
     "metadata": {
      "needs_background": "light"
     },
     "output_type": "display_data"
    }
   ],
   "source": [
    "# Plotting the top 20 trigram\n",
    "fig, ax = plt.subplots(nrows = 1, ncols = 2, sharex = True, figsize = (15,8))\n",
    "ax = ax.ravel()\n",
    "\n",
    "plt.subplots_adjust(hspace = 0.1)\n",
    "\n",
    "# Setting up plot for tea submissions\n",
    "tea_cv3_df.sum().sort_values(ascending = True).tail(20).plot(kind = 'barh', ax = ax[0])\n",
    "ax[0].set_title('Top 20 Most Observed Unigram from r/tea')\n",
    "ax[0].set_xlabel('Count')\n",
    "\n",
    "# Setting up plot for coffee submissions\n",
    "coffee_cv3_df.sum().sort_values(ascending = True).tail(20).plot(kind = 'barh', ax = ax[1])\n",
    "ax[1].set_title('Top 20 Most Observed Trigram from r/coffee')\n",
    "ax[1].set_xlabel('Count');"
   ]
  },
  {
   "cell_type": "markdown",
   "id": "9d817239",
   "metadata": {},
   "source": [
    "For trigrams, there do not seem to be additional information as compared to what was shown in bigrams.\n",
    "\n",
    "For r/tea, the additional information primarily includes types of tea, such as tie guan yin and bai mu dan. However, trigram shows us that there are some spam or advertisements in the tea subreddit texts as seen from 'stack manage portfolio', 'waitlist stack manage', and '25 invest crypto'.\n",
    "\n",
    "For r/coffee, there is limited information we can gather from trigram that are not seen in bigrams. Primarily, the additional information are the brands of machinery: Breville, Gaggia, Bialetti."
   ]
  },
  {
   "cell_type": "code",
   "execution_count": 39,
   "id": "3c3e490b",
   "metadata": {
    "scrolled": true
   },
   "outputs": [],
   "source": [
    "df = df.drop(columns = ['raw_text', 'length'])"
   ]
  },
  {
   "cell_type": "markdown",
   "id": "ceb1e1bf",
   "metadata": {},
   "source": [
    "# Preprocessing Final Dataset"
   ]
  },
  {
   "cell_type": "code",
   "execution_count": 40,
   "id": "599ea57e",
   "metadata": {},
   "outputs": [],
   "source": [
    "# Remapping tea to 1 and coffee to \n",
    "df['subreddit'] = df['subreddit'].map({'tea': 1, 'Coffee': 0})"
   ]
  },
  {
   "cell_type": "code",
   "execution_count": 41,
   "id": "fbbcf7a3",
   "metadata": {},
   "outputs": [
    {
     "data": {
      "text/html": [
       "<div>\n",
       "<style scoped>\n",
       "    .dataframe tbody tr th:only-of-type {\n",
       "        vertical-align: middle;\n",
       "    }\n",
       "\n",
       "    .dataframe tbody tr th {\n",
       "        vertical-align: top;\n",
       "    }\n",
       "\n",
       "    .dataframe thead th {\n",
       "        text-align: right;\n",
       "    }\n",
       "</style>\n",
       "<table border=\"1\" class=\"dataframe\">\n",
       "  <thead>\n",
       "    <tr style=\"text-align: right;\">\n",
       "      <th></th>\n",
       "      <th>subreddit</th>\n",
       "      <th>text</th>\n",
       "    </tr>\n",
       "  </thead>\n",
       "  <tbody>\n",
       "    <tr>\n",
       "      <th>0</th>\n",
       "      <td>1</td>\n",
       "      <td>make taste refreshingi love especially green jasmine thing though drink hot make mouth dry leaf bitter taste something wrong</td>\n",
       "    </tr>\n",
       "    <tr>\n",
       "      <th>1</th>\n",
       "      <td>1</td>\n",
       "      <td>best strawberry kombucha delicious probiotic beverage</td>\n",
       "    </tr>\n",
       "    <tr>\n",
       "      <th>2</th>\n",
       "      <td>1</td>\n",
       "      <td>traditional medicinals worth buying</td>\n",
       "    </tr>\n",
       "    <tr>\n",
       "      <th>3</th>\n",
       "      <td>1</td>\n",
       "      <td>yall like dislike spout deal breaker</td>\n",
       "    </tr>\n",
       "    <tr>\n",
       "      <th>4</th>\n",
       "      <td>1</td>\n",
       "      <td>first flush experience goodhi recently get specialty mostly part due recently pick book tony gebely portion describe first flush im sure majority familiar supposedly high quality never try dont know significant difference would make first time first flush way valuable</td>\n",
       "    </tr>\n",
       "  </tbody>\n",
       "</table>\n",
       "</div>"
      ],
      "text/plain": [
       "   subreddit  \\\n",
       "0          1   \n",
       "1          1   \n",
       "2          1   \n",
       "3          1   \n",
       "4          1   \n",
       "\n",
       "                                                                                                                                                                                                                                                                           text  \n",
       "0                                                                                                                                                  make taste refreshingi love especially green jasmine thing though drink hot make mouth dry leaf bitter taste something wrong  \n",
       "1                                                                                                                                                                                                                         best strawberry kombucha delicious probiotic beverage  \n",
       "2                                                                                                                                                                                                                                           traditional medicinals worth buying  \n",
       "3                                                                                                                                                                                                                                          yall like dislike spout deal breaker  \n",
       "4  first flush experience goodhi recently get specialty mostly part due recently pick book tony gebely portion describe first flush im sure majority familiar supposedly high quality never try dont know significant difference would make first time first flush way valuable  "
      ]
     },
     "execution_count": 41,
     "metadata": {},
     "output_type": "execute_result"
    }
   ],
   "source": [
    "# To check r/tea are remapped correctly\n",
    "df.head()"
   ]
  },
  {
   "cell_type": "code",
   "execution_count": 42,
   "id": "e2a21a0d",
   "metadata": {},
   "outputs": [
    {
     "data": {
      "text/html": [
       "<div>\n",
       "<style scoped>\n",
       "    .dataframe tbody tr th:only-of-type {\n",
       "        vertical-align: middle;\n",
       "    }\n",
       "\n",
       "    .dataframe tbody tr th {\n",
       "        vertical-align: top;\n",
       "    }\n",
       "\n",
       "    .dataframe thead th {\n",
       "        text-align: right;\n",
       "    }\n",
       "</style>\n",
       "<table border=\"1\" class=\"dataframe\">\n",
       "  <thead>\n",
       "    <tr style=\"text-align: right;\">\n",
       "      <th></th>\n",
       "      <th>subreddit</th>\n",
       "      <th>text</th>\n",
       "    </tr>\n",
       "  </thead>\n",
       "  <tbody>\n",
       "    <tr>\n",
       "      <th>1995</th>\n",
       "      <td>0</td>\n",
       "      <td>could anyone knowledge la pavoni help mei left mine low water wont fully pressurizeit turn seem fry wire something heat fully especially full tank water build enough pressure pull shot work fine accidentally left sure happen heater wire idk im afrai take apart mean remove sticker bottom decrease value although buy use dent point</td>\n",
       "    </tr>\n",
       "    <tr>\n",
       "      <th>1996</th>\n",
       "      <td>0</td>\n",
       "      <td>espresso bar bruges portafilters door handle</td>\n",
       "    </tr>\n",
       "    <tr>\n",
       "      <th>1997</th>\n",
       "      <td>0</td>\n",
       "      <td>usually put 45 spoon cupi year people say way much caffeine put 12 spoon get effect comparison 5 spoon make feel super motivate energetic also crash either sleep quite easily night</td>\n",
       "    </tr>\n",
       "    <tr>\n",
       "      <th>1998</th>\n",
       "      <td>0</td>\n",
       "      <td>v60 grinder mazzer jolly v lido ethello usually espresso start play v60 also super jolly f64evo burr lido et read conical burr well v60 would well use lido jolly well anyone personal experience</td>\n",
       "    </tr>\n",
       "    <tr>\n",
       "      <th>1999</th>\n",
       "      <td>0</td>\n",
       "      <td>v60 underextractionrecently start use v60 hario mini mill james hoffmann technique come quite acidic next none sweetness bitterness use fine set that’s actually usable grinder make taste deeper</td>\n",
       "    </tr>\n",
       "  </tbody>\n",
       "</table>\n",
       "</div>"
      ],
      "text/plain": [
       "      subreddit  \\\n",
       "1995          0   \n",
       "1996          0   \n",
       "1997          0   \n",
       "1998          0   \n",
       "1999          0   \n",
       "\n",
       "                                                                                                                                                                                                                                                                                                                                            text  \n",
       "1995  could anyone knowledge la pavoni help mei left mine low water wont fully pressurizeit turn seem fry wire something heat fully especially full tank water build enough pressure pull shot work fine accidentally left sure happen heater wire idk im afrai take apart mean remove sticker bottom decrease value although buy use dent point  \n",
       "1996                                                                                                                                                                                                                                                                                                espresso bar bruges portafilters door handle  \n",
       "1997                                                                                                                                                        usually put 45 spoon cupi year people say way much caffeine put 12 spoon get effect comparison 5 spoon make feel super motivate energetic also crash either sleep quite easily night  \n",
       "1998                                                                                                                                           v60 grinder mazzer jolly v lido ethello usually espresso start play v60 also super jolly f64evo burr lido et read conical burr well v60 would well use lido jolly well anyone personal experience  \n",
       "1999                                                                                                                                           v60 underextractionrecently start use v60 hario mini mill james hoffmann technique come quite acidic next none sweetness bitterness use fine set that’s actually usable grinder make taste deeper  "
      ]
     },
     "execution_count": 42,
     "metadata": {},
     "output_type": "execute_result"
    }
   ],
   "source": [
    "# To check r/coffee are remapped correctly\n",
    "df.tail()"
   ]
  },
  {
   "cell_type": "markdown",
   "id": "08cb098d",
   "metadata": {},
   "source": [
    "# Exporting Dataset"
   ]
  },
  {
   "cell_type": "code",
   "execution_count": 43,
   "id": "e55eb221",
   "metadata": {},
   "outputs": [],
   "source": [
    "df.to_csv('../data/data.csv', index = False)"
   ]
  }
 ],
 "metadata": {
  "kernelspec": {
   "display_name": "Python 3 (ipykernel)",
   "language": "python",
   "name": "python3"
  },
  "language_info": {
   "codemirror_mode": {
    "name": "ipython",
    "version": 3
   },
   "file_extension": ".py",
   "mimetype": "text/x-python",
   "name": "python",
   "nbconvert_exporter": "python",
   "pygments_lexer": "ipython3",
   "version": "3.8.13"
  }
 },
 "nbformat": 4,
 "nbformat_minor": 5
}
