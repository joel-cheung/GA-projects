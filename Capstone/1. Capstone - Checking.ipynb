{
 "cells": [
  {
   "cell_type": "markdown",
   "id": "a5d65564",
   "metadata": {},
   "source": [
    "# Background"
   ]
  },
  {
   "cell_type": "markdown",
   "id": "157cf96c",
   "metadata": {},
   "source": [
    "Twitter is a micro-blogging social media platform with 217.5 million daily active users globally. With 500 million new tweets (posts) daily, the topics of these tweets varies widely – k-pop, politics, financial news… you name it! Individuals use it for news, entertainment, and discussions, while corporations use them to as a marketing tool to reach out to a wide audience. Given the freedom Twitter accords to its user, Twitter can provide a conducive environment for productive discourse, but this freedom can also be abused, manifesting in the forms of racism and sexism."
   ]
  },
  {
   "cell_type": "markdown",
   "id": "1f86b5f5",
   "metadata": {},
   "source": [
    "# Problem Statement"
   ]
  },
  {
   "cell_type": "markdown",
   "id": "42db16da",
   "metadata": {},
   "source": [
    "With Twitter’s significant income stream coming from advertisers, it is imperative that Twitter keeps a substantial user base. On the other hand, Twitter should maintain a safe space for users and provide some level of checks for the tweets the users put out into the public space, and the first step would be to identify tweets that espouse racist or sexist ideologies, and then Twitter can direct the users to appropriate sources of information where users can learn more about the community that they offend or their subconscious biases so they will be more aware of their racist/sexist tendencies. Thus, to balance, Twitter has to be accurate in filtering inappropriate tweets from innocuous ones, and the kind of inappropriateness of flagged tweets (tag - racist or sexist).\n",
    "\n",
    "F1-scores will be the primary metric as it looks at both precision and recall, each looking at false positives (FPs) and false negatives (FNs) respectively, and is a popular metric for imbalanced data as is the case with the dataset used.\n",
    "\n",
    "For the purpose of explanation, racist tweets are used as the ‘positive’ case.\n",
    "\n",
    "In this context, FPs are the cases where the model erroneously flags out tweets as racist when the tweet is actually innocuous/sexist. FNs are cases where the model erroneously flags out tweets as innocuous/sexist but the tweets are actually racist.\n",
    "\n",
    "Thus, higher F1-scores are preferred."
   ]
  },
  {
   "cell_type": "markdown",
   "id": "9c9026d2",
   "metadata": {},
   "source": [
    "# Importing Libraries"
   ]
  },
  {
   "cell_type": "code",
   "execution_count": 7,
   "id": "1e9f669e",
   "metadata": {},
   "outputs": [],
   "source": [
    "# Standard libraries\n",
    "import numpy as np\n",
    "import pandas as pd\n",
    "\n",
    "# Visualization libraries\n",
    "import matplotlib.pyplot as plt\n",
    "import seaborn as sns"
   ]
  },
  {
   "cell_type": "code",
   "execution_count": 2,
   "id": "736ea6af",
   "metadata": {},
   "outputs": [],
   "source": [
    "# Changing display settings\n",
    "pd.set_option('display.max_colwidth', 100)\n",
    "pd.set_option('display.max_row', 100)"
   ]
  },
  {
   "cell_type": "markdown",
   "id": "0938a3eb",
   "metadata": {},
   "source": [
    "# Importing dataset"
   ]
  },
  {
   "cell_type": "markdown",
   "id": "48f82739",
   "metadata": {},
   "source": [
    "Datasets are from Mendeley Data that provides data from different social media platforms with labels provided. The datasets provided consists of Tweets from Twitter and Wikipdia discussion pages.\n",
    "\n",
    "[Mendeley Data](https://data.mendeley.com/datasets/jf4pzyvnpj/1)\n",
    "\n",
    "[kaggle](https://www.kaggle.com/datasets/andrewmvd/cyberbullying-classification)"
   ]
  },
  {
   "cell_type": "code",
   "execution_count": 3,
   "id": "4e1f04d8",
   "metadata": {},
   "outputs": [],
   "source": [
    "# Train data\n",
    "\n",
    "# Importing Twitter datasets from Mendeley Data\n",
    "twitter = pd.read_csv('../Capstone/data/twitter_parsed_dataset.csv')\n",
    "twitter_racism = pd.read_csv('../Capstone/data/twitter_racism_parsed_dataset.csv')\n",
    "twitter_sexism = pd.read_csv('../Capstone/data/twitter_sexism_parsed_dataset.csv')\n",
    "\n",
    "# Test data\n",
    "\n",
    "# Importing kaggle twitter dataset\n",
    "kaggle_twitter = pd.read_csv('../Capstone/data/cyberbullying_tweets.csv')"
   ]
  },
  {
   "cell_type": "markdown",
   "id": "f33a7708",
   "metadata": {},
   "source": [
    "# High level Sensing of Dataset"
   ]
  },
  {
   "cell_type": "markdown",
   "id": "3698c782",
   "metadata": {},
   "source": [
    "## Twitter"
   ]
  },
  {
   "cell_type": "markdown",
   "id": "12eb9e82",
   "metadata": {},
   "source": [
    "From Twitter, there are 3 datasets:\n",
    "* twitter_parsed\n",
    "* twitter_racism_parsed\n",
    "* twitter_sexism_parsed\n",
    "\n",
    "Based on the shape and value_counts of each dataset, the 3 datasets all have 11501 innocuous texts, with...\n",
    "* twitter_racism_parsed having 1970 racist texts\n",
    "* twitter_sexism_parsed having 3378 sexist texts\n",
    "* twitter_parsed having 1970 racist texts and 3378 sexist texts\n",
    "\n",
    "To check whether it is possible to just use twitter_parsed as a representative dataset from Twitter there are 3 things that have to be checked:\n",
    "1. The 11501 innocuous texts are the same in all 3 datasets\n",
    "2. The 1970 racist texts are the same in both twitter_parsed and twitter_racism_parsed\n",
    "3. The 3378 sexist texts are the same in both twitter_parsed and twitter_sexism_parsed"
   ]
  },
  {
   "cell_type": "markdown",
   "id": "5a7e4236",
   "metadata": {},
   "source": [
    "### Twitter - Base"
   ]
  },
  {
   "cell_type": "code",
   "execution_count": 4,
   "id": "2a977e9f",
   "metadata": {
    "scrolled": true
   },
   "outputs": [
    {
     "data": {
      "text/html": [
       "<div>\n",
       "<style scoped>\n",
       "    .dataframe tbody tr th:only-of-type {\n",
       "        vertical-align: middle;\n",
       "    }\n",
       "\n",
       "    .dataframe tbody tr th {\n",
       "        vertical-align: top;\n",
       "    }\n",
       "\n",
       "    .dataframe thead th {\n",
       "        text-align: right;\n",
       "    }\n",
       "</style>\n",
       "<table border=\"1\" class=\"dataframe\">\n",
       "  <thead>\n",
       "    <tr style=\"text-align: right;\">\n",
       "      <th></th>\n",
       "      <th>index</th>\n",
       "      <th>id</th>\n",
       "      <th>Text</th>\n",
       "      <th>Annotation</th>\n",
       "      <th>oh_label</th>\n",
       "    </tr>\n",
       "  </thead>\n",
       "  <tbody>\n",
       "    <tr>\n",
       "      <th>0</th>\n",
       "      <td>5.750000e+17</td>\n",
       "      <td>5.750000e+17</td>\n",
       "      <td>@halalflaws @biebervalue @greenlinerzjm I read them in context.No change in meaning. The history...</td>\n",
       "      <td>none</td>\n",
       "      <td>0</td>\n",
       "    </tr>\n",
       "    <tr>\n",
       "      <th>1</th>\n",
       "      <td>5.720000e+17</td>\n",
       "      <td>5.720000e+17</td>\n",
       "      <td>@ShreyaBafna3 Now you idiots claim that people who tried to stop him from becoming a terrorist m...</td>\n",
       "      <td>none</td>\n",
       "      <td>0</td>\n",
       "    </tr>\n",
       "    <tr>\n",
       "      <th>2</th>\n",
       "      <td>3.900000e+17</td>\n",
       "      <td>3.900000e+17</td>\n",
       "      <td>RT @Mooseoftorment Call me sexist, but when I go to an auto place, I'd rather talk to a guy</td>\n",
       "      <td>sexism</td>\n",
       "      <td>1</td>\n",
       "    </tr>\n",
       "    <tr>\n",
       "      <th>3</th>\n",
       "      <td>5.680000e+17</td>\n",
       "      <td>5.680000e+17</td>\n",
       "      <td>@g0ssipsquirrelx Wrong, ISIS follows the example of Mohammed and the Quran exactly.</td>\n",
       "      <td>racism</td>\n",
       "      <td>1</td>\n",
       "    </tr>\n",
       "    <tr>\n",
       "      <th>4</th>\n",
       "      <td>5.760000e+17</td>\n",
       "      <td>5.760000e+17</td>\n",
       "      <td>#mkr No No No No No No</td>\n",
       "      <td>none</td>\n",
       "      <td>0</td>\n",
       "    </tr>\n",
       "  </tbody>\n",
       "</table>\n",
       "</div>"
      ],
      "text/plain": [
       "          index            id  \\\n",
       "0  5.750000e+17  5.750000e+17   \n",
       "1  5.720000e+17  5.720000e+17   \n",
       "2  3.900000e+17  3.900000e+17   \n",
       "3  5.680000e+17  5.680000e+17   \n",
       "4  5.760000e+17  5.760000e+17   \n",
       "\n",
       "                                                                                                  Text  \\\n",
       "0  @halalflaws @biebervalue @greenlinerzjm I read them in context.No change in meaning. The history...   \n",
       "1  @ShreyaBafna3 Now you idiots claim that people who tried to stop him from becoming a terrorist m...   \n",
       "2          RT @Mooseoftorment Call me sexist, but when I go to an auto place, I'd rather talk to a guy   \n",
       "3                  @g0ssipsquirrelx Wrong, ISIS follows the example of Mohammed and the Quran exactly.   \n",
       "4                                                                               #mkr No No No No No No   \n",
       "\n",
       "  Annotation  oh_label  \n",
       "0       none         0  \n",
       "1       none         0  \n",
       "2     sexism         1  \n",
       "3     racism         1  \n",
       "4       none         0  "
      ]
     },
     "execution_count": 4,
     "metadata": {},
     "output_type": "execute_result"
    }
   ],
   "source": [
    "twitter.head()"
   ]
  },
  {
   "cell_type": "code",
   "execution_count": 5,
   "id": "1f901bd8",
   "metadata": {},
   "outputs": [
    {
     "data": {
      "text/plain": [
       "(16849, 5)"
      ]
     },
     "execution_count": 5,
     "metadata": {},
     "output_type": "execute_result"
    }
   ],
   "source": [
    "twitter.shape"
   ]
  },
  {
   "cell_type": "code",
   "execution_count": 6,
   "id": "444ed603",
   "metadata": {},
   "outputs": [
    {
     "data": {
      "text/plain": [
       "none      11501\n",
       "sexism     3378\n",
       "racism     1970\n",
       "Name: Annotation, dtype: int64"
      ]
     },
     "execution_count": 6,
     "metadata": {},
     "output_type": "execute_result"
    }
   ],
   "source": [
    "twitter.Annotation.value_counts()"
   ]
  },
  {
   "cell_type": "code",
   "execution_count": 9,
   "id": "f82e3d38",
   "metadata": {},
   "outputs": [
    {
     "data": {
      "text/html": [
       "<div>\n",
       "<style scoped>\n",
       "    .dataframe tbody tr th:only-of-type {\n",
       "        vertical-align: middle;\n",
       "    }\n",
       "\n",
       "    .dataframe tbody tr th {\n",
       "        vertical-align: top;\n",
       "    }\n",
       "\n",
       "    .dataframe thead th {\n",
       "        text-align: right;\n",
       "    }\n",
       "</style>\n",
       "<table border=\"1\" class=\"dataframe\">\n",
       "  <thead>\n",
       "    <tr style=\"text-align: right;\">\n",
       "      <th></th>\n",
       "      <th>Annotation</th>\n",
       "    </tr>\n",
       "  </thead>\n",
       "  <tbody>\n",
       "    <tr>\n",
       "      <th>none</th>\n",
       "      <td>11501</td>\n",
       "    </tr>\n",
       "    <tr>\n",
       "      <th>sexism</th>\n",
       "      <td>3378</td>\n",
       "    </tr>\n",
       "    <tr>\n",
       "      <th>racism</th>\n",
       "      <td>1970</td>\n",
       "    </tr>\n",
       "  </tbody>\n",
       "</table>\n",
       "</div>"
      ],
      "text/plain": [
       "        Annotation\n",
       "none         11501\n",
       "sexism        3378\n",
       "racism        1970"
      ]
     },
     "execution_count": 9,
     "metadata": {},
     "output_type": "execute_result"
    }
   ],
   "source": [
    "twitter_annotations = pd.DataFrame(twitter.Annotation.value_counts())\n",
    "twitter_annotations"
   ]
  },
  {
   "cell_type": "code",
   "execution_count": 10,
   "id": "eda49dd8",
   "metadata": {},
   "outputs": [
    {
     "data": {
      "image/png": "[encoded data removed]",
      "text/plain": [
       "<Figure size 432x288 with 1 Axes>"
      ]
     },
     "metadata": {
      "needs_background": "light"
     },
     "output_type": "display_data"
    }
   ],
   "source": [
    "# Plotting Tweet tags\n",
    "fig, ax = plt.subplots()\n",
    "sns.barplot(x = twitter_annotations.index, y= \"Annotation\", data= twitter_annotations).set(title = 'Tweet tags')\n",
    "ax.bar_label(ax.containers[0]);"
   ]
  },
  {
   "cell_type": "code",
   "execution_count": 7,
   "id": "64762483",
   "metadata": {},
   "outputs": [
    {
     "data": {
      "text/plain": [
       "index         float64\n",
       "id            float64\n",
       "Text           object\n",
       "Annotation     object\n",
       "oh_label        int64\n",
       "dtype: object"
      ]
     },
     "execution_count": 7,
     "metadata": {},
     "output_type": "execute_result"
    }
   ],
   "source": [
    "twitter.dtypes"
   ]
  },
  {
   "cell_type": "markdown",
   "id": "681c11d9",
   "metadata": {},
   "source": [
    "### Twitter - Racism"
   ]
  },
  {
   "cell_type": "code",
   "execution_count": 8,
   "id": "a53ddec4",
   "metadata": {
    "scrolled": true
   },
   "outputs": [
    {
     "data": {
      "text/html": [
       "<div>\n",
       "<style scoped>\n",
       "    .dataframe tbody tr th:only-of-type {\n",
       "        vertical-align: middle;\n",
       "    }\n",
       "\n",
       "    .dataframe tbody tr th {\n",
       "        vertical-align: top;\n",
       "    }\n",
       "\n",
       "    .dataframe thead th {\n",
       "        text-align: right;\n",
       "    }\n",
       "</style>\n",
       "<table border=\"1\" class=\"dataframe\">\n",
       "  <thead>\n",
       "    <tr style=\"text-align: right;\">\n",
       "      <th></th>\n",
       "      <th>index</th>\n",
       "      <th>id</th>\n",
       "      <th>Text</th>\n",
       "      <th>Annotation</th>\n",
       "      <th>oh_label</th>\n",
       "    </tr>\n",
       "  </thead>\n",
       "  <tbody>\n",
       "    <tr>\n",
       "      <th>0</th>\n",
       "      <td>5.767493e+17</td>\n",
       "      <td>5.767493e+17</td>\n",
       "      <td>@AAlwuhaib1977 Muslim mob violence against Hindus in Bangladesh continues in 2014. #Islam http:/...</td>\n",
       "      <td>racism</td>\n",
       "      <td>1</td>\n",
       "    </tr>\n",
       "    <tr>\n",
       "      <th>1</th>\n",
       "      <td>5.408905e+17</td>\n",
       "      <td>5.408905e+17</td>\n",
       "      <td>@Te4m_NiGhtM4Re http://t.co/5Ih7MkDbQG</td>\n",
       "      <td>none</td>\n",
       "      <td>0</td>\n",
       "    </tr>\n",
       "    <tr>\n",
       "      <th>2</th>\n",
       "      <td>5.678433e+17</td>\n",
       "      <td>5.678433e+17</td>\n",
       "      <td>@jncatron @isra_jourisra @AMPalestine Islamophobia is like the idea of Naziphobia. Islam is a re...</td>\n",
       "      <td>racism</td>\n",
       "      <td>1</td>\n",
       "    </tr>\n",
       "    <tr>\n",
       "      <th>3</th>\n",
       "      <td>5.766462e+17</td>\n",
       "      <td>5.766462e+17</td>\n",
       "      <td>Finally I'm all caught up, and that sudden death cook off looks like it's gonna be intense #MKR</td>\n",
       "      <td>none</td>\n",
       "      <td>0</td>\n",
       "    </tr>\n",
       "    <tr>\n",
       "      <th>4</th>\n",
       "      <td>5.713492e+17</td>\n",
       "      <td>5.713492e+17</td>\n",
       "      <td>@carolinesinders @herecomesfran *hugs*</td>\n",
       "      <td>none</td>\n",
       "      <td>0</td>\n",
       "    </tr>\n",
       "  </tbody>\n",
       "</table>\n",
       "</div>"
      ],
      "text/plain": [
       "          index            id  \\\n",
       "0  5.767493e+17  5.767493e+17   \n",
       "1  5.408905e+17  5.408905e+17   \n",
       "2  5.678433e+17  5.678433e+17   \n",
       "3  5.766462e+17  5.766462e+17   \n",
       "4  5.713492e+17  5.713492e+17   \n",
       "\n",
       "                                                                                                  Text  \\\n",
       "0  @AAlwuhaib1977 Muslim mob violence against Hindus in Bangladesh continues in 2014. #Islam http:/...   \n",
       "1                                                               @Te4m_NiGhtM4Re http://t.co/5Ih7MkDbQG   \n",
       "2  @jncatron @isra_jourisra @AMPalestine Islamophobia is like the idea of Naziphobia. Islam is a re...   \n",
       "3      Finally I'm all caught up, and that sudden death cook off looks like it's gonna be intense #MKR   \n",
       "4                                                               @carolinesinders @herecomesfran *hugs*   \n",
       "\n",
       "  Annotation  oh_label  \n",
       "0     racism         1  \n",
       "1       none         0  \n",
       "2     racism         1  \n",
       "3       none         0  \n",
       "4       none         0  "
      ]
     },
     "execution_count": 8,
     "metadata": {},
     "output_type": "execute_result"
    }
   ],
   "source": [
    "twitter_racism.head()"
   ]
  },
  {
   "cell_type": "code",
   "execution_count": 9,
   "id": "826814b4",
   "metadata": {},
   "outputs": [
    {
     "data": {
      "text/plain": [
       "(13471, 5)"
      ]
     },
     "execution_count": 9,
     "metadata": {},
     "output_type": "execute_result"
    }
   ],
   "source": [
    "twitter_racism.shape"
   ]
  },
  {
   "cell_type": "code",
   "execution_count": 10,
   "id": "a1e2d001",
   "metadata": {},
   "outputs": [
    {
     "data": {
      "text/plain": [
       "none      11501\n",
       "racism     1970\n",
       "Name: Annotation, dtype: int64"
      ]
     },
     "execution_count": 10,
     "metadata": {},
     "output_type": "execute_result"
    }
   ],
   "source": [
    "twitter_racism.Annotation.value_counts()"
   ]
  },
  {
   "cell_type": "code",
   "execution_count": 11,
   "id": "c98c0794",
   "metadata": {},
   "outputs": [
    {
     "data": {
      "text/plain": [
       "index         float64\n",
       "id            float64\n",
       "Text           object\n",
       "Annotation     object\n",
       "oh_label        int64\n",
       "dtype: object"
      ]
     },
     "execution_count": 11,
     "metadata": {},
     "output_type": "execute_result"
    }
   ],
   "source": [
    "twitter_racism.dtypes"
   ]
  },
  {
   "cell_type": "markdown",
   "id": "7f46ad1a",
   "metadata": {},
   "source": [
    "### Twitter - Sexism"
   ]
  },
  {
   "cell_type": "code",
   "execution_count": 12,
   "id": "b0e48e24",
   "metadata": {
    "scrolled": true
   },
   "outputs": [
    {
     "data": {
      "text/html": [
       "<div>\n",
       "<style scoped>\n",
       "    .dataframe tbody tr th:only-of-type {\n",
       "        vertical-align: middle;\n",
       "    }\n",
       "\n",
       "    .dataframe tbody tr th {\n",
       "        vertical-align: top;\n",
       "    }\n",
       "\n",
       "    .dataframe thead th {\n",
       "        text-align: right;\n",
       "    }\n",
       "</style>\n",
       "<table border=\"1\" class=\"dataframe\">\n",
       "  <thead>\n",
       "    <tr style=\"text-align: right;\">\n",
       "      <th></th>\n",
       "      <th>index</th>\n",
       "      <th>id</th>\n",
       "      <th>Text</th>\n",
       "      <th>Annotation</th>\n",
       "      <th>oh_label</th>\n",
       "    </tr>\n",
       "  </thead>\n",
       "  <tbody>\n",
       "    <tr>\n",
       "      <th>0</th>\n",
       "      <td>5.350000e+17</td>\n",
       "      <td>5.350000e+17</td>\n",
       "      <td>RT @BeepsS: @senna1 @BeepsS: I'm not sexist but fuck if you're a woman and you can't Cook get yo...</td>\n",
       "      <td>sexism</td>\n",
       "      <td>1</td>\n",
       "    </tr>\n",
       "    <tr>\n",
       "      <th>1</th>\n",
       "      <td>5.760000e+17</td>\n",
       "      <td>5.760000e+17</td>\n",
       "      <td>There's some very hate able teams this year #MKR</td>\n",
       "      <td>none</td>\n",
       "      <td>0</td>\n",
       "    </tr>\n",
       "    <tr>\n",
       "      <th>2</th>\n",
       "      <td>5.720000e+17</td>\n",
       "      <td>5.720000e+17</td>\n",
       "      <td>RT @The_Eccles: \"Everyone underestimated us\" \\nWe still do, as well as underestimating the judgi...</td>\n",
       "      <td>none</td>\n",
       "      <td>0</td>\n",
       "    </tr>\n",
       "    <tr>\n",
       "      <th>3</th>\n",
       "      <td>5.720000e+17</td>\n",
       "      <td>5.720000e+17</td>\n",
       "      <td>RT @NOTLukeDarcy: did @Channel7 or #MKR actually check if any of these people could cook? #WITB</td>\n",
       "      <td>none</td>\n",
       "      <td>0</td>\n",
       "    </tr>\n",
       "    <tr>\n",
       "      <th>4</th>\n",
       "      <td>4.430000e+17</td>\n",
       "      <td>4.430000e+17</td>\n",
       "      <td>No, you don't. @Shut_Up_Jeff: I thought of a really funny joke and I promise I'm not sexist but ...</td>\n",
       "      <td>sexism</td>\n",
       "      <td>1</td>\n",
       "    </tr>\n",
       "  </tbody>\n",
       "</table>\n",
       "</div>"
      ],
      "text/plain": [
       "          index            id  \\\n",
       "0  5.350000e+17  5.350000e+17   \n",
       "1  5.760000e+17  5.760000e+17   \n",
       "2  5.720000e+17  5.720000e+17   \n",
       "3  5.720000e+17  5.720000e+17   \n",
       "4  4.430000e+17  4.430000e+17   \n",
       "\n",
       "                                                                                                  Text  \\\n",
       "0  RT @BeepsS: @senna1 @BeepsS: I'm not sexist but fuck if you're a woman and you can't Cook get yo...   \n",
       "1                                                     There's some very hate able teams this year #MKR   \n",
       "2  RT @The_Eccles: \"Everyone underestimated us\" \\nWe still do, as well as underestimating the judgi...   \n",
       "3      RT @NOTLukeDarcy: did @Channel7 or #MKR actually check if any of these people could cook? #WITB   \n",
       "4  No, you don't. @Shut_Up_Jeff: I thought of a really funny joke and I promise I'm not sexist but ...   \n",
       "\n",
       "  Annotation  oh_label  \n",
       "0     sexism         1  \n",
       "1       none         0  \n",
       "2       none         0  \n",
       "3       none         0  \n",
       "4     sexism         1  "
      ]
     },
     "execution_count": 12,
     "metadata": {},
     "output_type": "execute_result"
    }
   ],
   "source": [
    "twitter_sexism.head()"
   ]
  },
  {
   "cell_type": "code",
   "execution_count": 13,
   "id": "a8878830",
   "metadata": {},
   "outputs": [
    {
     "data": {
      "text/plain": [
       "(14879, 5)"
      ]
     },
     "execution_count": 13,
     "metadata": {},
     "output_type": "execute_result"
    }
   ],
   "source": [
    "twitter_sexism.shape"
   ]
  },
  {
   "cell_type": "code",
   "execution_count": 14,
   "id": "c65fae55",
   "metadata": {
    "scrolled": true
   },
   "outputs": [
    {
     "data": {
      "text/plain": [
       "none      11501\n",
       "sexism     3378\n",
       "Name: Annotation, dtype: int64"
      ]
     },
     "execution_count": 14,
     "metadata": {},
     "output_type": "execute_result"
    }
   ],
   "source": [
    "twitter_sexism.Annotation.value_counts()"
   ]
  },
  {
   "cell_type": "code",
   "execution_count": 15,
   "id": "1161dc2e",
   "metadata": {},
   "outputs": [
    {
     "data": {
      "text/plain": [
       "index         float64\n",
       "id            float64\n",
       "Text           object\n",
       "Annotation     object\n",
       "oh_label        int64\n",
       "dtype: object"
      ]
     },
     "execution_count": 15,
     "metadata": {},
     "output_type": "execute_result"
    }
   ],
   "source": [
    "twitter_sexism.dtypes"
   ]
  },
  {
   "cell_type": "markdown",
   "id": "e6b0c1f2",
   "metadata": {},
   "source": [
    "### Checking Twitter Innocuous Texts"
   ]
  },
  {
   "cell_type": "code",
   "execution_count": 16,
   "id": "c50844e9",
   "metadata": {},
   "outputs": [],
   "source": [
    "# Creating function to check if a given text that is present in one dataset is present in another\n",
    "def check_text(df1, df2, col_df1_index, col_df2_index):\n",
    "    discrepancy_count = 0\n",
    "    for i in range(df1.shape[0]):\n",
    "        if df1.iloc[i,col_df1_index] in df2.Text.values:\n",
    "            discrepancy_count += 0\n",
    "        else:\n",
    "            discrepancy_count += 1\n",
    "    for i in range(df1.shape[0]):\n",
    "        if df2.iloc[i,col_df2_index] in df1.Text.values:\n",
    "            discrepancy_count += 0\n",
    "        else:\n",
    "            discrepancy_count += 1\n",
    "    return discrepancy_count"
   ]
  },
  {
   "cell_type": "code",
   "execution_count": 17,
   "id": "a60c6a07",
   "metadata": {},
   "outputs": [],
   "source": [
    "# To check if the 11501 innocuous rows are the same between twitter_racism, twitter_sexism and twitter\n",
    "twitter_racism_innoc = twitter_racism.loc[twitter_racism['oh_label'] == 0]\n",
    "twitter_sexism_innoc = twitter_sexism.loc[twitter_sexism['oh_label'] == 0]\n",
    "\n",
    "assert twitter_racism_innoc.shape == twitter_sexism_innoc.shape"
   ]
  },
  {
   "cell_type": "code",
   "execution_count": 18,
   "id": "e5480371",
   "metadata": {},
   "outputs": [
    {
     "data": {
      "text/plain": [
       "0"
      ]
     },
     "execution_count": 18,
     "metadata": {},
     "output_type": "execute_result"
    }
   ],
   "source": [
    "# To check if the 11501 innocuous texts are the same in both twitter_racism_parsed and twitter_sexism_parsed\n",
    "check_text(twitter_racism_innoc, twitter_sexism_innoc, 2, 2)"
   ]
  },
  {
   "cell_type": "markdown",
   "id": "a43fb058",
   "metadata": {},
   "source": [
    "We can see that the 11501 innocuous texts in twitter_racism_parsed and twitter_sexism_parsed are the same."
   ]
  },
  {
   "cell_type": "code",
   "execution_count": 19,
   "id": "ddad464a",
   "metadata": {},
   "outputs": [],
   "source": [
    "# Isolating only innocuous texts from twitter_parsed\n",
    "twitter_innoc = twitter.loc[twitter['oh_label'] == 0]"
   ]
  },
  {
   "cell_type": "code",
   "execution_count": 20,
   "id": "9ba62f6f",
   "metadata": {},
   "outputs": [
    {
     "data": {
      "text/plain": [
       "0"
      ]
     },
     "execution_count": 20,
     "metadata": {},
     "output_type": "execute_result"
    }
   ],
   "source": [
    "# To check if the 11501 innocuous texts are the same in twitter_parsed and both twitter_racism_parsed and twitter_sexism_parsed\n",
    "check_text(twitter_innoc, twitter_racism_innoc, 2, 2)"
   ]
  },
  {
   "cell_type": "code",
   "execution_count": 21,
   "id": "5f5f6c18",
   "metadata": {},
   "outputs": [
    {
     "data": {
      "text/plain": [
       "0"
      ]
     },
     "execution_count": 21,
     "metadata": {},
     "output_type": "execute_result"
    }
   ],
   "source": [
    "check_text(twitter_innoc, twitter_sexism_innoc, 2, 2)"
   ]
  },
  {
   "cell_type": "markdown",
   "id": "472ec2f1",
   "metadata": {},
   "source": [
    "### Checking Flagged Texts"
   ]
  },
  {
   "cell_type": "markdown",
   "id": "6db8604f",
   "metadata": {},
   "source": [
    "It is now established that the 11501 innocuous rows are the same, we will next look at the flagged texts.\n",
    "\n",
    "First check for texts flagged as racist."
   ]
  },
  {
   "cell_type": "code",
   "execution_count": 22,
   "id": "14bfe6be",
   "metadata": {},
   "outputs": [],
   "source": [
    "# Isolating texts flagged as racist\n",
    "twitter_racist = twitter.loc[twitter['Annotation'] == 'racism']\n",
    "twitter_racism_racist = twitter_racism.loc[twitter_racism['oh_label'] == 1]\n",
    "\n",
    "assert twitter_racist.shape == twitter_racism_racist.shape"
   ]
  },
  {
   "cell_type": "code",
   "execution_count": 23,
   "id": "99fa5c30",
   "metadata": {},
   "outputs": [
    {
     "data": {
      "text/plain": [
       "0"
      ]
     },
     "execution_count": 23,
     "metadata": {},
     "output_type": "execute_result"
    }
   ],
   "source": [
    "check_text(twitter_racist, twitter_racism_racist, 2, 2)"
   ]
  },
  {
   "cell_type": "markdown",
   "id": "7a77ff13",
   "metadata": {},
   "source": [
    "Now that the flagged racist texts are the same, now to check texts flagged as sexist."
   ]
  },
  {
   "cell_type": "code",
   "execution_count": 24,
   "id": "413b55e1",
   "metadata": {},
   "outputs": [],
   "source": [
    "# Isolating texts flagged as sexist\n",
    "twitter_sexist = twitter.loc[twitter['Annotation'] == 'sexism']\n",
    "twitter_sexism_sexist = twitter_sexism.loc[twitter_sexism['oh_label'] == 1]\n",
    "\n",
    "assert twitter_sexist.shape == twitter_sexism_sexist.shape"
   ]
  },
  {
   "cell_type": "code",
   "execution_count": 25,
   "id": "fb36862f",
   "metadata": {},
   "outputs": [
    {
     "data": {
      "text/plain": [
       "0"
      ]
     },
     "execution_count": 25,
     "metadata": {},
     "output_type": "execute_result"
    }
   ],
   "source": [
    "check_text(twitter_sexist, twitter_sexism_sexist, 2, 2)"
   ]
  },
  {
   "cell_type": "markdown",
   "id": "6d639868",
   "metadata": {},
   "source": [
    "##### Now that we have established that flagged texts from twitter_racism and twitter_sexism are present in the twitter dataset, and that innocuous texts are the same in all 3 datasets, we can drop the twitter_racism and twitter_sexism datasets and just use the twitter dataset."
   ]
  },
  {
   "cell_type": "markdown",
   "id": "8539d871",
   "metadata": {},
   "source": [
    "# Dropping Unneccessary Columns"
   ]
  },
  {
   "cell_type": "code",
   "execution_count": 26,
   "id": "723f648d",
   "metadata": {},
   "outputs": [
    {
     "data": {
      "text/html": [
       "<div>\n",
       "<style scoped>\n",
       "    .dataframe tbody tr th:only-of-type {\n",
       "        vertical-align: middle;\n",
       "    }\n",
       "\n",
       "    .dataframe tbody tr th {\n",
       "        vertical-align: top;\n",
       "    }\n",
       "\n",
       "    .dataframe thead th {\n",
       "        text-align: right;\n",
       "    }\n",
       "</style>\n",
       "<table border=\"1\" class=\"dataframe\">\n",
       "  <thead>\n",
       "    <tr style=\"text-align: right;\">\n",
       "      <th></th>\n",
       "      <th>index</th>\n",
       "      <th>id</th>\n",
       "      <th>Text</th>\n",
       "      <th>Annotation</th>\n",
       "      <th>oh_label</th>\n",
       "    </tr>\n",
       "  </thead>\n",
       "  <tbody>\n",
       "    <tr>\n",
       "      <th>0</th>\n",
       "      <td>5.750000e+17</td>\n",
       "      <td>5.750000e+17</td>\n",
       "      <td>@halalflaws @biebervalue @greenlinerzjm I read them in context.No change in meaning. The history...</td>\n",
       "      <td>none</td>\n",
       "      <td>0</td>\n",
       "    </tr>\n",
       "    <tr>\n",
       "      <th>1</th>\n",
       "      <td>5.720000e+17</td>\n",
       "      <td>5.720000e+17</td>\n",
       "      <td>@ShreyaBafna3 Now you idiots claim that people who tried to stop him from becoming a terrorist m...</td>\n",
       "      <td>none</td>\n",
       "      <td>0</td>\n",
       "    </tr>\n",
       "    <tr>\n",
       "      <th>2</th>\n",
       "      <td>3.900000e+17</td>\n",
       "      <td>3.900000e+17</td>\n",
       "      <td>RT @Mooseoftorment Call me sexist, but when I go to an auto place, I'd rather talk to a guy</td>\n",
       "      <td>sexism</td>\n",
       "      <td>1</td>\n",
       "    </tr>\n",
       "    <tr>\n",
       "      <th>3</th>\n",
       "      <td>5.680000e+17</td>\n",
       "      <td>5.680000e+17</td>\n",
       "      <td>@g0ssipsquirrelx Wrong, ISIS follows the example of Mohammed and the Quran exactly.</td>\n",
       "      <td>racism</td>\n",
       "      <td>1</td>\n",
       "    </tr>\n",
       "    <tr>\n",
       "      <th>4</th>\n",
       "      <td>5.760000e+17</td>\n",
       "      <td>5.760000e+17</td>\n",
       "      <td>#mkr No No No No No No</td>\n",
       "      <td>none</td>\n",
       "      <td>0</td>\n",
       "    </tr>\n",
       "  </tbody>\n",
       "</table>\n",
       "</div>"
      ],
      "text/plain": [
       "          index            id  \\\n",
       "0  5.750000e+17  5.750000e+17   \n",
       "1  5.720000e+17  5.720000e+17   \n",
       "2  3.900000e+17  3.900000e+17   \n",
       "3  5.680000e+17  5.680000e+17   \n",
       "4  5.760000e+17  5.760000e+17   \n",
       "\n",
       "                                                                                                  Text  \\\n",
       "0  @halalflaws @biebervalue @greenlinerzjm I read them in context.No change in meaning. The history...   \n",
       "1  @ShreyaBafna3 Now you idiots claim that people who tried to stop him from becoming a terrorist m...   \n",
       "2          RT @Mooseoftorment Call me sexist, but when I go to an auto place, I'd rather talk to a guy   \n",
       "3                  @g0ssipsquirrelx Wrong, ISIS follows the example of Mohammed and the Quran exactly.   \n",
       "4                                                                               #mkr No No No No No No   \n",
       "\n",
       "  Annotation  oh_label  \n",
       "0       none         0  \n",
       "1       none         0  \n",
       "2     sexism         1  \n",
       "3     racism         1  \n",
       "4       none         0  "
      ]
     },
     "execution_count": 26,
     "metadata": {},
     "output_type": "execute_result"
    }
   ],
   "source": [
    "twitter.head()"
   ]
  },
  {
   "cell_type": "code",
   "execution_count": 27,
   "id": "a6fc89f5",
   "metadata": {},
   "outputs": [],
   "source": [
    "twitter_final = twitter.drop(columns = ['index','id'])"
   ]
  },
  {
   "cell_type": "code",
   "execution_count": 28,
   "id": "976439e0",
   "metadata": {},
   "outputs": [
    {
     "data": {
      "text/html": [
       "<div>\n",
       "<style scoped>\n",
       "    .dataframe tbody tr th:only-of-type {\n",
       "        vertical-align: middle;\n",
       "    }\n",
       "\n",
       "    .dataframe tbody tr th {\n",
       "        vertical-align: top;\n",
       "    }\n",
       "\n",
       "    .dataframe thead th {\n",
       "        text-align: right;\n",
       "    }\n",
       "</style>\n",
       "<table border=\"1\" class=\"dataframe\">\n",
       "  <thead>\n",
       "    <tr style=\"text-align: right;\">\n",
       "      <th></th>\n",
       "      <th>Text</th>\n",
       "      <th>Annotation</th>\n",
       "      <th>oh_label</th>\n",
       "    </tr>\n",
       "  </thead>\n",
       "  <tbody>\n",
       "    <tr>\n",
       "      <th>0</th>\n",
       "      <td>@halalflaws @biebervalue @greenlinerzjm I read them in context.No change in meaning. The history...</td>\n",
       "      <td>none</td>\n",
       "      <td>0</td>\n",
       "    </tr>\n",
       "    <tr>\n",
       "      <th>1</th>\n",
       "      <td>@ShreyaBafna3 Now you idiots claim that people who tried to stop him from becoming a terrorist m...</td>\n",
       "      <td>none</td>\n",
       "      <td>0</td>\n",
       "    </tr>\n",
       "    <tr>\n",
       "      <th>2</th>\n",
       "      <td>RT @Mooseoftorment Call me sexist, but when I go to an auto place, I'd rather talk to a guy</td>\n",
       "      <td>sexism</td>\n",
       "      <td>1</td>\n",
       "    </tr>\n",
       "    <tr>\n",
       "      <th>3</th>\n",
       "      <td>@g0ssipsquirrelx Wrong, ISIS follows the example of Mohammed and the Quran exactly.</td>\n",
       "      <td>racism</td>\n",
       "      <td>1</td>\n",
       "    </tr>\n",
       "    <tr>\n",
       "      <th>4</th>\n",
       "      <td>#mkr No No No No No No</td>\n",
       "      <td>none</td>\n",
       "      <td>0</td>\n",
       "    </tr>\n",
       "  </tbody>\n",
       "</table>\n",
       "</div>"
      ],
      "text/plain": [
       "                                                                                                  Text  \\\n",
       "0  @halalflaws @biebervalue @greenlinerzjm I read them in context.No change in meaning. The history...   \n",
       "1  @ShreyaBafna3 Now you idiots claim that people who tried to stop him from becoming a terrorist m...   \n",
       "2          RT @Mooseoftorment Call me sexist, but when I go to an auto place, I'd rather talk to a guy   \n",
       "3                  @g0ssipsquirrelx Wrong, ISIS follows the example of Mohammed and the Quran exactly.   \n",
       "4                                                                               #mkr No No No No No No   \n",
       "\n",
       "  Annotation  oh_label  \n",
       "0       none         0  \n",
       "1       none         0  \n",
       "2     sexism         1  \n",
       "3     racism         1  \n",
       "4       none         0  "
      ]
     },
     "execution_count": 28,
     "metadata": {},
     "output_type": "execute_result"
    }
   ],
   "source": [
    "twitter_final.head()"
   ]
  },
  {
   "cell_type": "markdown",
   "id": "e1108d2b",
   "metadata": {},
   "source": [
    "# Exporting training dataset"
   ]
  },
  {
   "cell_type": "code",
   "execution_count": 29,
   "id": "fbaba7c1",
   "metadata": {},
   "outputs": [],
   "source": [
    "twitter_final.to_csv('../Capstone/data/twitter_final.csv', index = False)"
   ]
  }
 ],
 "metadata": {
  "kernelspec": {
   "display_name": "Python 3 (ipykernel)",
   "language": "python",
   "name": "python3"
  },
  "language_info": {
   "codemirror_mode": {
    "name": "ipython",
    "version": 3
   },
   "file_extension": ".py",
   "mimetype": "text/x-python",
   "name": "python",
   "nbconvert_exporter": "python",
   "pygments_lexer": "ipython3",
   "version": "3.8.13"
  }
 },
 "nbformat": 4,
 "nbformat_minor": 5
}
