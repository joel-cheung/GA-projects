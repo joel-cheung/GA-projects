{
 "cells": [
  {
   "cell_type": "markdown",
   "id": "0e1ffbc6",
   "metadata": {},
   "source": [
    "<img src=\"http://imgur.com/1ZcRyrc.png\" style=\"float: left; margin: 20px; height: 55px\">\n",
    "\n",
    "# Capstone Project - Identifying Offensive Tweets"
   ]
  },
  {
   "cell_type": "markdown",
   "id": "5f936554",
   "metadata": {},
   "source": [
    "# Information"
   ]
  },
  {
   "cell_type": "markdown",
   "id": "2d9c0cb3",
   "metadata": {},
   "source": [
    "This is my capstone project for the General Assembly Data Science Immersive course.\n",
    "\n",
    "This is the first notebook of this project.\n",
    "\n",
    "In this notebook, the steps conducted are:\n",
    "\n",
    "    1. Data Cleaning and Preprocessing"
   ]
  },
  {
   "cell_type": "markdown",
   "id": "92c4812a",
   "metadata": {},
   "source": [
    "**CONTENT WARNING: This project includes content that are sensitive and may be offensive to some viewers. These topics include mentions (many negative) and slurs of race, religion, and gender.**\n",
    "\n",
    "**NOTE: All text information that are used in this project are directly taken from the websites and do not reflect what I believe in. All tags (whether a tweet is racist/sexist, or not) are taken as is from the source.**\n",
    "\n",
    "For the purpose of this project, the offensive tweets of interest are ones that are racist and sexist. \n",
    "\n",
    "Racist tweets are defined as those that have antagonistic sentiments toward certain religious figures or individuals from a religious group, and/or individuals or groups from a certain race. Given the dataset 'classified_tweets' not separating the racist and sacrilegious/blasphemous (anti-religious) tweets, the 'racist' tag will be applied for both categories.\n",
    "\n",
    "Sexist tweets are defined as those that have misogynistic, homophobic, and/or transphobic sentiments.\n",
    "\n",
    "A visual representation of the definitions are as follows:"
   ]
  },
  {
   "cell_type": "markdown",
   "id": "f903cdb4",
   "metadata": {},
   "source": [
    "![Definition](../data/offensive_definition.jpg)"
   ]
  },
  {
   "cell_type": "markdown",
   "id": "a5d65564",
   "metadata": {},
   "source": [
    "# Background"
   ]
  },
  {
   "cell_type": "markdown",
   "id": "157cf96c",
   "metadata": {},
   "source": [
    "Twitter is a micro-blogging social media platform with 217.5 million daily active users globally. With 500 million new tweets (posts) daily, the topics of these tweets varies widely – k-pop, politics, financial news… you name it! Individuals use it for news, entertainment, and discussions, while corporations use them to as a marketing tool to reach out to a wide audience. Given the freedom Twitter accords to its user, Twitter can provide a conducive environment for productive discourse, but this freedom can also be abused, manifesting in the forms of racism and sexism."
   ]
  },
  {
   "cell_type": "markdown",
   "id": "1f86b5f5",
   "metadata": {},
   "source": [
    "# Problem Statement"
   ]
  },
  {
   "cell_type": "markdown",
   "id": "42db16da",
   "metadata": {},
   "source": [
    "With Twitter’s significant income stream coming from advertisers, it is imperative that Twitter keeps a substantial user base. On the other hand, Twitter should maintain a safe space for users and provide some level of checks for the tweets the users put out into the public space, and the first step would be to identify tweets that espouse racist or sexist ideologies, and then Twitter can direct the users to appropriate sources of information where users can learn more about the community that they offend or their subconscious biases so they will be more aware of their racist/sexist tendencies. Thus, to balance, Twitter has to be accurate in filtering inappropriate tweets from innocuous ones, and the kind of inappropriateness of flagged tweets (tag - racist or sexist).\n",
    "\n",
    "F1-scores will be the primary metric as it looks at both precision and recall, each looking at false positives (FPs) and false negatives (FNs) respectively, and is a popular metric for imbalanced data as is the case with the dataset used.\n",
    "\n",
    "For the purpose of explanation, racist tweets are used as the ‘positive’ case.\n",
    "\n",
    "In this context, FPs are the cases where the model erroneously flags out tweets as racist when the tweet is actually innocuous/sexist. FNs are cases where the model erroneously flags out tweets as innocuous/sexist but the tweets are actually racist.\n",
    "\n",
    "There is a need to balance the identification of an offensive tweet when it is indeed offensive and the need to maintain a high level of user experience (something that would be jeopardized when the model erroneously flags innocuous tweets as offensive).\n",
    "\n",
    "Thus, higher F1-score is the preferred metric to assess model performance."
   ]
  },
  {
   "cell_type": "markdown",
   "id": "9c9026d2",
   "metadata": {},
   "source": [
    "# Importing Libraries"
   ]
  },
  {
   "cell_type": "code",
   "execution_count": 1,
   "id": "1e9f669e",
   "metadata": {},
   "outputs": [],
   "source": [
    "# Standard libraries\n",
    "import numpy as np\n",
    "import pandas as pd\n",
    "\n",
    "# Visualization libraries\n",
    "import matplotlib.pyplot as plt\n",
    "import seaborn as sns\n",
    "\n",
    "# For NLP data cleaning and preprocessing\n",
    "import re, string, nltk, itertools\n",
    "from nltk.tokenize import word_tokenize\n",
    "from nltk.corpus import stopwords, wordnet\n",
    "from nltk.stem import WordNetLemmatizer, PorterStemmer\n",
    "from sklearn.feature_extraction.text import CountVectorizer, TfidfVectorizer\n",
    "import demoji"
   ]
  },
  {
   "cell_type": "code",
   "execution_count": 2,
   "id": "736ea6af",
   "metadata": {},
   "outputs": [],
   "source": [
    "# Changing display settings\n",
    "pd.set_option('display.max_colwidth', 100)\n",
    "pd.set_option('display.max_row', 100)"
   ]
  },
  {
   "cell_type": "markdown",
   "id": "42169640",
   "metadata": {},
   "source": [
    "# Datasets"
   ]
  },
  {
   "cell_type": "markdown",
   "id": "48f82739",
   "metadata": {},
   "source": [
    "Both datasets are from kaggle. The datasets provided consists of Tweets and the respective authors of each dataset has classified tweets based on a separate list of categories.\n",
    "\n",
    "For classified_tweets, the tweets are classified based on whether they are innocuous, suspicious (negative), racist (cyberbullying = 1), sexist (cyberbullying = 2), hateful, or contains suicidal intent.\n",
    "\n",
    "[classified_tweets](https://www.kaggle.com/datasets/munkialbright/classified-tweets)\n",
    "\n",
    "For cyberbullying_tweets, the tweets are classified based on whether they are innocuous, ageist, racist, anti-religious, sexist, or those deemed as cyberbullying but not under the previously mentioned categories.\n",
    "\n",
    "[cyberbullying_tweets](https://www.kaggle.com/datasets/andrewmvd/cyberbullying-classification)\n",
    "\n",
    "The dataset to train the models will be cyberbullying_tweets while the test dataset will be classified_tweets."
   ]
  },
  {
   "cell_type": "markdown",
   "id": "0938a3eb",
   "metadata": {},
   "source": [
    "# Importing Datasets"
   ]
  },
  {
   "cell_type": "code",
   "execution_count": 3,
   "id": "4e1f04d8",
   "metadata": {},
   "outputs": [],
   "source": [
    "# train data\n",
    "cyberbullying = pd.read_csv('../data/cyberbullying_tweets.csv')\n",
    "\n",
    "\n",
    "# test data\n",
    "classified = pd.read_csv('../data/classified_tweets.csv')"
   ]
  },
  {
   "cell_type": "markdown",
   "id": "f33a7708",
   "metadata": {},
   "source": [
    "# High level Sensing of Dataset"
   ]
  },
  {
   "cell_type": "markdown",
   "id": "6b356882",
   "metadata": {},
   "source": [
    "### Train Dataset: cyberbullying_tweets.csv"
   ]
  },
  {
   "cell_type": "code",
   "execution_count": 4,
   "id": "d9c4285e",
   "metadata": {},
   "outputs": [
    {
     "data": {
      "text/html": [
       "<div>\n",
       "<style scoped>\n",
       "    .dataframe tbody tr th:only-of-type {\n",
       "        vertical-align: middle;\n",
       "    }\n",
       "\n",
       "    .dataframe tbody tr th {\n",
       "        vertical-align: top;\n",
       "    }\n",
       "\n",
       "    .dataframe thead th {\n",
       "        text-align: right;\n",
       "    }\n",
       "</style>\n",
       "<table border=\"1\" class=\"dataframe\">\n",
       "  <thead>\n",
       "    <tr style=\"text-align: right;\">\n",
       "      <th></th>\n",
       "      <th>tweet_text</th>\n",
       "      <th>cyberbullying_type</th>\n",
       "    </tr>\n",
       "  </thead>\n",
       "  <tbody>\n",
       "    <tr>\n",
       "      <th>0</th>\n",
       "      <td>In other words #katandandre, your food was crapilicious! #mkr</td>\n",
       "      <td>not_cyberbullying</td>\n",
       "    </tr>\n",
       "    <tr>\n",
       "      <th>1</th>\n",
       "      <td>Why is #aussietv so white? #MKR #theblock #ImACelebrityAU #today #sunrise #studio10 #Neighbours ...</td>\n",
       "      <td>not_cyberbullying</td>\n",
       "    </tr>\n",
       "    <tr>\n",
       "      <th>2</th>\n",
       "      <td>@XochitlSuckkks a classy whore? Or more red velvet cupcakes?</td>\n",
       "      <td>not_cyberbullying</td>\n",
       "    </tr>\n",
       "    <tr>\n",
       "      <th>3</th>\n",
       "      <td>@Jason_Gio meh. :P  thanks for the heads up, but not too concerned about another angry dude on t...</td>\n",
       "      <td>not_cyberbullying</td>\n",
       "    </tr>\n",
       "    <tr>\n",
       "      <th>4</th>\n",
       "      <td>@RudhoeEnglish This is an ISIS account pretending to be a Kurdish account.  Like Islam, it is al...</td>\n",
       "      <td>not_cyberbullying</td>\n",
       "    </tr>\n",
       "  </tbody>\n",
       "</table>\n",
       "</div>"
      ],
      "text/plain": [
       "                                                                                            tweet_text  \\\n",
       "0                                        In other words #katandandre, your food was crapilicious! #mkr   \n",
       "1  Why is #aussietv so white? #MKR #theblock #ImACelebrityAU #today #sunrise #studio10 #Neighbours ...   \n",
       "2                                         @XochitlSuckkks a classy whore? Or more red velvet cupcakes?   \n",
       "3  @Jason_Gio meh. :P  thanks for the heads up, but not too concerned about another angry dude on t...   \n",
       "4  @RudhoeEnglish This is an ISIS account pretending to be a Kurdish account.  Like Islam, it is al...   \n",
       "\n",
       "  cyberbullying_type  \n",
       "0  not_cyberbullying  \n",
       "1  not_cyberbullying  \n",
       "2  not_cyberbullying  \n",
       "3  not_cyberbullying  \n",
       "4  not_cyberbullying  "
      ]
     },
     "execution_count": 4,
     "metadata": {},
     "output_type": "execute_result"
    }
   ],
   "source": [
    "# Checking columns of cyberbullying_tweets.csv\n",
    "cyberbullying.head()"
   ]
  },
  {
   "cell_type": "code",
   "execution_count": 5,
   "id": "aac87944",
   "metadata": {},
   "outputs": [
    {
     "data": {
      "text/plain": [
       "array(['not_cyberbullying', 'gender', 'religion', 'other_cyberbullying',\n",
       "       'age', 'ethnicity'], dtype=object)"
      ]
     },
     "execution_count": 5,
     "metadata": {},
     "output_type": "execute_result"
    }
   ],
   "source": [
    "cyberbullying.cyberbullying_type.unique()"
   ]
  },
  {
   "cell_type": "code",
   "execution_count": 6,
   "id": "c1a3383e",
   "metadata": {},
   "outputs": [],
   "source": [
    "# Filtering needed classifications of not_cyberbullying (innocuous), ethniticity, religion and gender\n",
    "cyberbullying =  cyberbullying.loc[(cyberbullying['cyberbullying_type'] == 'not_cyberbullying') |\n",
    "                                   (cyberbullying['cyberbullying_type'] == 'ethnicity') | \n",
    "                                   (cyberbullying['cyberbullying_type'] == 'religion') | \n",
    "                                   (cyberbullying['cyberbullying_type'] == 'gender') ]"
   ]
  },
  {
   "cell_type": "code",
   "execution_count": 7,
   "id": "e7f335de",
   "metadata": {},
   "outputs": [
    {
     "data": {
      "text/plain": [
       "religion             7998\n",
       "gender               7973\n",
       "ethnicity            7961\n",
       "not_cyberbullying    7945\n",
       "Name: cyberbullying_type, dtype: int64"
      ]
     },
     "execution_count": 7,
     "metadata": {},
     "output_type": "execute_result"
    }
   ],
   "source": [
    "# Checking if filtering is done correctly\n",
    "cyberbullying.cyberbullying_type.value_counts()"
   ]
  },
  {
   "cell_type": "markdown",
   "id": "ad4e5776",
   "metadata": {},
   "source": [
    "There is a need to remap the tags of cyberbullying_tweets.csv"
   ]
  },
  {
   "cell_type": "markdown",
   "id": "718ba1a4",
   "metadata": {},
   "source": [
    "### Test Dataset: classified_tweets.csv"
   ]
  },
  {
   "cell_type": "code",
   "execution_count": 8,
   "id": "82cbd81e",
   "metadata": {},
   "outputs": [
    {
     "data": {
      "text/html": [
       "<div>\n",
       "<style scoped>\n",
       "    .dataframe tbody tr th:only-of-type {\n",
       "        vertical-align: middle;\n",
       "    }\n",
       "\n",
       "    .dataframe tbody tr th {\n",
       "        vertical-align: top;\n",
       "    }\n",
       "\n",
       "    .dataframe thead th {\n",
       "        text-align: right;\n",
       "    }\n",
       "</style>\n",
       "<table border=\"1\" class=\"dataframe\">\n",
       "  <thead>\n",
       "    <tr style=\"text-align: right;\">\n",
       "      <th></th>\n",
       "      <th>text</th>\n",
       "      <th>suspicious</th>\n",
       "      <th>cyberbullying</th>\n",
       "      <th>hate</th>\n",
       "      <th>suicidal</th>\n",
       "    </tr>\n",
       "  </thead>\n",
       "  <tbody>\n",
       "    <tr>\n",
       "      <th>0</th>\n",
       "      <td>Uhmm like 6th grade on a corner of a street. I was on my corner :O Lol jk and it was randi..</td>\n",
       "      <td>0</td>\n",
       "      <td>0</td>\n",
       "      <td>0</td>\n",
       "      <td>0</td>\n",
       "    </tr>\n",
       "    <tr>\n",
       "      <th>1</th>\n",
       "      <td>a) JTP is a douchebag b) Stewart kicks ass!</td>\n",
       "      <td>1</td>\n",
       "      <td>0</td>\n",
       "      <td>0</td>\n",
       "      <td>0</td>\n",
       "    </tr>\n",
       "    <tr>\n",
       "      <th>2</th>\n",
       "      <td>ditto bitch!</td>\n",
       "      <td>1</td>\n",
       "      <td>0</td>\n",
       "      <td>0</td>\n",
       "      <td>0</td>\n",
       "    </tr>\n",
       "    <tr>\n",
       "      <th>3</th>\n",
       "      <td>damn I have to drive my dad to the airport that time oh well wonder wit it's about</td>\n",
       "      <td>0</td>\n",
       "      <td>0</td>\n",
       "      <td>0</td>\n",
       "      <td>0</td>\n",
       "    </tr>\n",
       "    <tr>\n",
       "      <th>4</th>\n",
       "      <td>:]</td>\n",
       "      <td>0</td>\n",
       "      <td>0</td>\n",
       "      <td>0</td>\n",
       "      <td>0</td>\n",
       "    </tr>\n",
       "  </tbody>\n",
       "</table>\n",
       "</div>"
      ],
      "text/plain": [
       "                                                                                             text  \\\n",
       "0    Uhmm like 6th grade on a corner of a street. I was on my corner :O Lol jk and it was randi..   \n",
       "1                                                     a) JTP is a douchebag b) Stewart kicks ass!   \n",
       "2                                                                                    ditto bitch!   \n",
       "3              damn I have to drive my dad to the airport that time oh well wonder wit it's about   \n",
       "4                                                                                              :]   \n",
       "\n",
       "   suspicious  cyberbullying  hate  suicidal  \n",
       "0           0              0     0         0  \n",
       "1           1              0     0         0  \n",
       "2           1              0     0         0  \n",
       "3           0              0     0         0  \n",
       "4           0              0     0         0  "
      ]
     },
     "execution_count": 8,
     "metadata": {},
     "output_type": "execute_result"
    }
   ],
   "source": [
    "# Checking columns of classified_tweets.csv\n",
    "classified.head()"
   ]
  },
  {
   "cell_type": "code",
   "execution_count": 9,
   "id": "d723a7c6",
   "metadata": {},
   "outputs": [],
   "source": [
    "# Dropping all columns except for 'cyberbullying'\n",
    "classified =  classified[['text', 'cyberbullying']]"
   ]
  },
  {
   "cell_type": "code",
   "execution_count": 10,
   "id": "f015cc3b",
   "metadata": {},
   "outputs": [
    {
     "data": {
      "text/plain": [
       "(19934, 2)"
      ]
     },
     "execution_count": 10,
     "metadata": {},
     "output_type": "execute_result"
    }
   ],
   "source": [
    "classified.shape"
   ]
  },
  {
   "cell_type": "code",
   "execution_count": 11,
   "id": "0a0e3d35",
   "metadata": {},
   "outputs": [
    {
     "data": {
      "text/plain": [
       "0    17256\n",
       "2     1733\n",
       "1      945\n",
       "Name: cyberbullying, dtype: int64"
      ]
     },
     "execution_count": 11,
     "metadata": {},
     "output_type": "execute_result"
    }
   ],
   "source": [
    "classified.cyberbullying.value_counts()"
   ]
  },
  {
   "cell_type": "markdown",
   "id": "08fc5fe1",
   "metadata": {},
   "source": [
    "There is no need to remap the tags of classified_tweets.csv"
   ]
  },
  {
   "cell_type": "markdown",
   "id": "6e81b178",
   "metadata": {},
   "source": [
    "## Remapping Tags of Train Dataset: cyberbullying_tweets\n",
    "\n",
    "This is done to ensure that both datasets will follow the same tagging convention as follows:\n",
    "\n",
    "    0: innocuous\n",
    "    1: racist\n",
    "    2: sexist"
   ]
  },
  {
   "cell_type": "code",
   "execution_count": 12,
   "id": "b03823e5",
   "metadata": {},
   "outputs": [
    {
     "data": {
      "text/plain": [
       "1    15959\n",
       "2     7973\n",
       "0     7945\n",
       "Name: cyberbullying_type, dtype: int64"
      ]
     },
     "execution_count": 12,
     "metadata": {},
     "output_type": "execute_result"
    }
   ],
   "source": [
    "# cyberbullying_tweets.csv\n",
    "cyberbullying_remap = {'not_cyberbullying': 0, 'religion': 1, 'ethnicity': 1, 'gender': 2}\n",
    "cyberbullying.replace(cyberbullying_remap, inplace = True)\n",
    "cyberbullying.cyberbullying_type.value_counts()"
   ]
  },
  {
   "cell_type": "code",
   "execution_count": 13,
   "id": "323d3bb1",
   "metadata": {},
   "outputs": [
    {
     "data": {
      "text/plain": [
       "(31877, 2)"
      ]
     },
     "execution_count": 13,
     "metadata": {},
     "output_type": "execute_result"
    }
   ],
   "source": [
    "cyberbullying.shape"
   ]
  },
  {
   "cell_type": "markdown",
   "id": "80d9e123",
   "metadata": {},
   "source": [
    "# Combining Datasets\n",
    "\n",
    "This is done to streamline the cleaning and preprocessing steps."
   ]
  },
  {
   "cell_type": "code",
   "execution_count": 14,
   "id": "899bd610",
   "metadata": {},
   "outputs": [],
   "source": [
    "# Before combining, renaming columns\n",
    "cyberbullying_col_rename = {'tweet_text': 'raw_text', 'cyberbullying_type': 'tag'}\n",
    "classified_col_rename = {'text': 'raw_text', 'cyberbullying': 'tag'}"
   ]
  },
  {
   "cell_type": "code",
   "execution_count": 15,
   "id": "8581570b",
   "metadata": {},
   "outputs": [],
   "source": [
    "# Renaming\n",
    "cyberbullying = cyberbullying.rename(columns = cyberbullying_col_rename)\n",
    "classified = classified.rename(columns = classified_col_rename);"
   ]
  },
  {
   "cell_type": "code",
   "execution_count": 16,
   "id": "43feba6d",
   "metadata": {},
   "outputs": [],
   "source": [
    "# To differentiate dataset\n",
    "cyberbullying['set'] = 'train'\n",
    "classified['set'] = 'test'"
   ]
  },
  {
   "cell_type": "code",
   "execution_count": 17,
   "id": "80999e20",
   "metadata": {},
   "outputs": [],
   "source": [
    "# Combining\n",
    "data = pd.concat([cyberbullying, classified], axis = 0)"
   ]
  },
  {
   "cell_type": "markdown",
   "id": "bb1035d6",
   "metadata": {},
   "source": [
    "# Cleaning Dataset\n",
    "\n",
    "There is a need to preprocess and clean the texts before conducting EDA.\n",
    "\n",
    "The cleaning/ preprocessing steps include:\n",
    "* Removing emojis 😁\n",
    "* Removing hashtags (mentions), and URLs\n",
    "* Converting all text to lowercase\n",
    "* Removing punctuations\n",
    "* Removing back-to-back spaces\n",
    "* Supplementing stopwords\n",
    "* Removing stopwords"
   ]
  },
  {
   "cell_type": "code",
   "execution_count": 18,
   "id": "d95cd594",
   "metadata": {},
   "outputs": [],
   "source": [
    "# Instantiating stopwords\n",
    "Stopwords = set(stopwords.words('english'))"
   ]
  },
  {
   "cell_type": "code",
   "execution_count": 19,
   "id": "80478c85",
   "metadata": {},
   "outputs": [],
   "source": [
    "# Updating Stopwords\n",
    "Stopwords.update(['rt','amp'])"
   ]
  },
  {
   "cell_type": "markdown",
   "id": "1e37ad56",
   "metadata": {},
   "source": [
    "## Creating Function to Clean and Preprocess Text"
   ]
  },
  {
   "cell_type": "code",
   "execution_count": 20,
   "id": "f784e006",
   "metadata": {},
   "outputs": [],
   "source": [
    "def clean_text(text):\n",
    "    # Removing emojis\n",
    "    dem = demoji.findall(text)\n",
    "    for item in dem.keys():\n",
    "        text = text.replace(item,'')\n",
    "        \n",
    "    # Removing mentions and URLs\n",
    "    pattern = re.compile(r\"(@[A-Za-z0-9]+|_[A-Za-z0-9]+|https?://\\S+|www\\.\\S+|\\S+\\.[a-z]+|)\")\n",
    "    text = pattern.sub('', text)\n",
    "    text = \" \".join(text.split())\n",
    "    \n",
    "    # Making text lowercase\n",
    "    text = text.lower()\n",
    "    \n",
    "    # Removing punctuations\n",
    "    remove_punc = re.compile(r\"[%s]\" % re.escape(string.punctuation))\n",
    "    text = remove_punc.sub('', text)\n",
    "    \n",
    "    # Lemmatizing\n",
    "    # To retrieve the appropriate part-of-speech (POS) tagging for each word in a sentence/tweet for the usage of WordNetLemmatizer\n",
    "    def get_wordnet_pos(word):\n",
    "        \"\"\"Map POS tag to first character lemmatize() accepts\"\"\"\n",
    "        tag = nltk.pos_tag([word])[0][1][0].upper()\n",
    "        tag_dict = {\"J\": wordnet.ADJ,\n",
    "                    \"N\": wordnet.NOUN,\n",
    "                    \"V\": wordnet.VERB,\n",
    "                    \"R\": wordnet.ADV}\n",
    "        return tag_dict.get(tag, wordnet.NOUN)\n",
    "    \n",
    "    lemmatizer = WordNetLemmatizer()\n",
    "    text = [lemmatizer.lemmatize(word, get_wordnet_pos(word)) for word in str(text).split()]\n",
    "    text = ' '.join(text)\n",
    "    \n",
    "    # Removing back-to-back spaces\n",
    "    text = re.sub(\"\\s\\s+\" , \" \", text)\n",
    "    \n",
    "    # Removing stopwords\n",
    "    text = \" \".join([word for word in str(text).split() if word not in Stopwords])\n",
    "    \n",
    "    return text"
   ]
  },
  {
   "cell_type": "code",
   "execution_count": 21,
   "id": "3b7b0e7f",
   "metadata": {},
   "outputs": [],
   "source": [
    "# Applying function \n",
    "data['text'] = data['raw_text'].apply(lambda text: clean_text(text))"
   ]
  },
  {
   "cell_type": "code",
   "execution_count": 22,
   "id": "3ca3ea23",
   "metadata": {},
   "outputs": [],
   "source": [
    "# Dropping old text column and \n",
    "data = data.drop(columns = 'raw_text')\n",
    "\n",
    "# Finding word count\n",
    "data['word_count'] = data['text'].apply(lambda text: len(text.split()))"
   ]
  },
  {
   "cell_type": "code",
   "execution_count": 23,
   "id": "17ab923d",
   "metadata": {},
   "outputs": [
    {
     "data": {
      "text/html": [
       "<div>\n",
       "<style scoped>\n",
       "    .dataframe tbody tr th:only-of-type {\n",
       "        vertical-align: middle;\n",
       "    }\n",
       "\n",
       "    .dataframe tbody tr th {\n",
       "        vertical-align: top;\n",
       "    }\n",
       "\n",
       "    .dataframe thead th {\n",
       "        text-align: right;\n",
       "    }\n",
       "</style>\n",
       "<table border=\"1\" class=\"dataframe\">\n",
       "  <thead>\n",
       "    <tr style=\"text-align: right;\">\n",
       "      <th></th>\n",
       "      <th>tag</th>\n",
       "      <th>set</th>\n",
       "      <th>text</th>\n",
       "      <th>word_count</th>\n",
       "    </tr>\n",
       "  </thead>\n",
       "  <tbody>\n",
       "    <tr>\n",
       "      <th>0</th>\n",
       "      <td>0</td>\n",
       "      <td>train</td>\n",
       "      <td>word katandandre food crapilicious mkr</td>\n",
       "      <td>5</td>\n",
       "    </tr>\n",
       "    <tr>\n",
       "      <th>1</th>\n",
       "      <td>0</td>\n",
       "      <td>train</td>\n",
       "      <td>aussietv white mkr theblock imacelebrityau today sunrise studio10 neighbour wonderlandten etc</td>\n",
       "      <td>11</td>\n",
       "    </tr>\n",
       "    <tr>\n",
       "      <th>2</th>\n",
       "      <td>0</td>\n",
       "      <td>train</td>\n",
       "      <td>classy whore red velvet cupcake</td>\n",
       "      <td>5</td>\n",
       "    </tr>\n",
       "    <tr>\n",
       "      <th>3</th>\n",
       "      <td>0</td>\n",
       "      <td>train</td>\n",
       "      <td>meh p thanks head concerned another angry dude twitter</td>\n",
       "      <td>9</td>\n",
       "    </tr>\n",
       "    <tr>\n",
       "      <th>4</th>\n",
       "      <td>0</td>\n",
       "      <td>train</td>\n",
       "      <td>isi account pretend kurdish account like islam lie</td>\n",
       "      <td>8</td>\n",
       "    </tr>\n",
       "  </tbody>\n",
       "</table>\n",
       "</div>"
      ],
      "text/plain": [
       "   tag    set  \\\n",
       "0    0  train   \n",
       "1    0  train   \n",
       "2    0  train   \n",
       "3    0  train   \n",
       "4    0  train   \n",
       "\n",
       "                                                                                            text  \\\n",
       "0                                                         word katandandre food crapilicious mkr   \n",
       "1  aussietv white mkr theblock imacelebrityau today sunrise studio10 neighbour wonderlandten etc   \n",
       "2                                                                classy whore red velvet cupcake   \n",
       "3                                         meh p thanks head concerned another angry dude twitter   \n",
       "4                                             isi account pretend kurdish account like islam lie   \n",
       "\n",
       "   word_count  \n",
       "0           5  \n",
       "1          11  \n",
       "2           5  \n",
       "3           9  \n",
       "4           8  "
      ]
     },
     "execution_count": 23,
     "metadata": {},
     "output_type": "execute_result"
    }
   ],
   "source": [
    "data.head()"
   ]
  },
  {
   "cell_type": "markdown",
   "id": "e1108d2b",
   "metadata": {},
   "source": [
    "# Exporting Dataset"
   ]
  },
  {
   "cell_type": "code",
   "execution_count": 25,
   "id": "fbaba7c1",
   "metadata": {},
   "outputs": [],
   "source": [
    "data.to_csv('../data/data.csv', index = False)"
   ]
  }
 ],
 "metadata": {
  "kernelspec": {
   "display_name": "Python 3 (ipykernel)",
   "language": "python",
   "name": "python3"
  },
  "language_info": {
   "codemirror_mode": {
    "name": "ipython",
    "version": 3
   },
   "file_extension": ".py",
   "mimetype": "text/x-python",
   "name": "python",
   "nbconvert_exporter": "python",
   "pygments_lexer": "ipython3",
   "version": "3.8.13"
  }
 },
 "nbformat": 4,
 "nbformat_minor": 5
}
