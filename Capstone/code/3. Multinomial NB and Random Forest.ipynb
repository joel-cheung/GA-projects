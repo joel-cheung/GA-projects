{
 "cells": [
  {
   "cell_type": "markdown",
   "id": "0e1ffbc6",
   "metadata": {
    "id": "0e1ffbc6"
   },
   "source": [
    "<img src=\"http://imgur.com/1ZcRyrc.png\" style=\"float: left; margin: 20px; height: 55px\">\n",
    "\n",
    "# Capstone Project - Identifying Offensive Tweets"
   ]
  },
  {
   "cell_type": "markdown",
   "id": "5f936554",
   "metadata": {
    "id": "5f936554"
   },
   "source": [
    "# Information"
   ]
  },
  {
   "cell_type": "markdown",
   "id": "2d9c0cb3",
   "metadata": {
    "id": "2d9c0cb3"
   },
   "source": [
    "This is my capstone project for the General Assembly Data Science Immersive course.\n",
    "\n",
    "This is the third notebook of this project.\n",
    "\n",
    "In this notebook, the steps conducted are:\n",
    "\n",
    "    1. Modelling - Multinomial Naive Bayes\n",
    "    2. Modelling - Random Forest\n",
    "    \n",
    "Both models are done with hyperparameter tuning."
   ]
  },
  {
   "cell_type": "markdown",
   "id": "92c4812a",
   "metadata": {
    "id": "92c4812a"
   },
   "source": [
    "**CONTENT WARNING: This project includes content that are sensitive and may be offensive to some viewers. These topics include mentions (many negative) and slurs of race, religion, and gender.**\n",
    "\n",
    "**NOTE: All text information that are used in this project are directly taken from the websites and do not reflect what I believe in. All tags (whether a tweet is racist/sexist, or not) are taken as is from the source.**\n",
    "\n",
    "For the purpose of this project, the offensive tweets of interest are ones that are racist and sexist. \n",
    "\n",
    "Racist tweets are defined as those that have antagonistic sentiments toward certain religious figures or individuals from a religious group, and/or individuals or groups from a certain race. Given the dataset 'classified_tweets' not separating the racist and sacrilegious/blasphemous (anti-religious) tweets, the 'racist' tag will be applied for both categories.\n",
    "\n",
    "Sexist tweets are defined as those that have misogynistic, homophobic, and/or transphobic sentiments."
   ]
  },
  {
   "cell_type": "markdown",
   "id": "a5d65564",
   "metadata": {
    "id": "a5d65564"
   },
   "source": [
    "# Background"
   ]
  },
  {
   "cell_type": "markdown",
   "id": "157cf96c",
   "metadata": {
    "id": "157cf96c"
   },
   "source": [
    "Twitter is a micro-blogging social media platform with 217.5 million daily active users globally. With 500 million new tweets (posts) daily, the topics of these tweets varies widely – k-pop, politics, financial news… you name it! Individuals use it for news, entertainment, and discussions, while corporations use them to as a marketing tool to reach out to a wide audience. Given the freedom Twitter accords to its user, Twitter can provide a conducive environment for productive discourse, but this freedom can also be abused, manifesting in the forms of racism and sexism."
   ]
  },
  {
   "cell_type": "markdown",
   "id": "1f86b5f5",
   "metadata": {
    "id": "1f86b5f5"
   },
   "source": [
    "# Problem Statement"
   ]
  },
  {
   "cell_type": "markdown",
   "id": "42db16da",
   "metadata": {
    "id": "42db16da"
   },
   "source": [
    "With Twitter’s significant income stream coming from advertisers, it is imperative that Twitter keeps a substantial user base. On the other hand, Twitter should maintain a safe space for users and provide some level of checks for the tweets the users put out into the public space, and the first step would be to identify tweets that espouse racist or sexist ideologies, and then Twitter can direct the users to appropriate sources of information where users can learn more about the community that they offend or their subconscious biases so they will be more aware of their racist/sexist tendencies. Thus, to balance, Twitter has to be accurate in filtering inappropriate tweets from innocuous ones, and the kind of inappropriateness of flagged tweets (tag - racist or sexist).\n",
    "\n",
    "F1-scores will be the primary metric as it looks at both precision and recall, each looking at false positives (FPs) and false negatives (FNs) respectively, and is a popular metric for imbalanced data as is the case with the dataset used.\n",
    "\n",
    "For the purpose of explanation, racist tweets are used as the ‘positive’ case.\n",
    "\n",
    "In this context, FPs are the cases where the model erroneously flags out tweets as racist when the tweet is actually innocuous/sexist. FNs are cases where the model erroneously flags out tweets as innocuous/sexist but the tweets are actually racist.\n",
    "\n",
    "There is a need to balance the identification of an offensive tweet when it is indeed offensive and the need to maintain a high level of user experience (something that would be jeopardized when the model erroneously flags innocuous tweets as offensive).\n",
    "\n",
    "Thus, higher F1-score is the preferred metric to assess model performance."
   ]
  },
  {
   "cell_type": "markdown",
   "id": "9c9026d2",
   "metadata": {
    "id": "9c9026d2"
   },
   "source": [
    "# Importing Libraries"
   ]
  },
  {
   "cell_type": "code",
   "execution_count": null,
   "id": "1e9f669e",
   "metadata": {
    "id": "1e9f669e"
   },
   "outputs": [],
   "source": [
    "# Standard libraries\n",
    "import numpy as np\n",
    "import pandas as pd\n",
    "\n",
    "# For visualization\n",
    "import matplotlib.pyplot as plt\n",
    "import seaborn as sns\n",
    "\n",
    "# For NLP data cleaning and preprocessing\n",
    "import re, string, nltk, itertools\n",
    "from nltk.tokenize import word_tokenize\n",
    "from nltk.stem import WordNetLemmatizer, PorterStemmer\n",
    "from sklearn.feature_extraction.text import CountVectorizer, TfidfVectorizer\n",
    "\n",
    "# Pickle to save model\n",
    "import pickle\n",
    "\n",
    "# For NLP Machine Learning processes\n",
    "from sklearn.model_selection import train_test_split, cross_val_score, GridSearchCV\n",
    "from imblearn.over_sampling import RandomOverSampler, SMOTE\n",
    "\n",
    "# Pipeline\n",
    "from imblearn.pipeline import Pipeline\n",
    "\n",
    "# Naive Bayes\n",
    "from sklearn.naive_bayes import MultinomialNB\n",
    "\n",
    "# Random Forest\n",
    "from sklearn.ensemble import RandomForestClassifier\n",
    "\n",
    "# Evaluation Metrics\n",
    "from sklearn.metrics import accuracy_score, f1_score, precision_score, recall_score\n",
    "from sklearn.metrics import roc_auc_score, roc_curve, plot_roc_curve, RocCurveDisplay\n",
    "from sklearn.metrics import confusion_matrix, ConfusionMatrixDisplay, classification_report, plot_confusion_matrix\n",
    "\n",
    "import warnings\n",
    "warnings.filterwarnings('ignore')"
   ]
  },
  {
   "cell_type": "code",
   "execution_count": null,
   "id": "736ea6af",
   "metadata": {
    "id": "736ea6af"
   },
   "outputs": [],
   "source": [
    "# Changing display settings\n",
    "pd.set_option('display.max_colwidth', 100)\n",
    "pd.set_option('display.max_row', 100)"
   ]
  },
  {
   "cell_type": "markdown",
   "id": "0938a3eb",
   "metadata": {
    "id": "0938a3eb"
   },
   "source": [
    "# Importing Dataset"
   ]
  },
  {
   "cell_type": "code",
   "execution_count": null,
   "id": "nQv3eFaG39Fx",
   "metadata": {
    "colab": {
     "base_uri": "https://localhost:8080/"
    },
    "executionInfo": {
     "elapsed": 281750,
     "status": "ok",
     "timestamp": 1660193143527,
     "user": {
      "displayName": "Joel",
      "userId": "13831783905850790679"
     },
     "user_tz": -480
    },
    "id": "nQv3eFaG39Fx",
    "outputId": "0ff4804d-8c9c-44c1-e715-795030d0d27f"
   },
   "outputs": [
    {
     "name": "stdout",
     "output_type": "stream",
     "text": [
      "Mounted at /content/drive\n"
     ]
    }
   ],
   "source": [
    "from google.colab import drive\n",
    "drive.mount('/content/drive')"
   ]
  },
  {
   "cell_type": "code",
   "execution_count": null,
   "id": "4e1f04d8",
   "metadata": {
    "id": "4e1f04d8"
   },
   "outputs": [],
   "source": [
    "data = pd.read_csv('/content/drive/MyDrive/Capstone/data/data_v1.csv')"
   ]
  },
  {
   "cell_type": "code",
   "execution_count": null,
   "id": "507b4823",
   "metadata": {
    "colab": {
     "base_uri": "https://localhost:8080/",
     "height": 206
    },
    "executionInfo": {
     "elapsed": 25,
     "status": "ok",
     "timestamp": 1660193145401,
     "user": {
      "displayName": "Joel",
      "userId": "13831783905850790679"
     },
     "user_tz": -480
    },
    "id": "507b4823",
    "outputId": "88a35d98-1993-4667-a7d1-8fa8150be63b"
   },
   "outputs": [
    {
     "data": {
      "text/html": [
       "\n",
       "  <div id=\"df-e1264711-97ef-44ea-aa86-dbc243b11841\">\n",
       "    <div class=\"colab-df-container\">\n",
       "      <div>\n",
       "<style scoped>\n",
       "    .dataframe tbody tr th:only-of-type {\n",
       "        vertical-align: middle;\n",
       "    }\n",
       "\n",
       "    .dataframe tbody tr th {\n",
       "        vertical-align: top;\n",
       "    }\n",
       "\n",
       "    .dataframe thead th {\n",
       "        text-align: right;\n",
       "    }\n",
       "</style>\n",
       "<table border=\"1\" class=\"dataframe\">\n",
       "  <thead>\n",
       "    <tr style=\"text-align: right;\">\n",
       "      <th></th>\n",
       "      <th>tag</th>\n",
       "      <th>set</th>\n",
       "      <th>text</th>\n",
       "    </tr>\n",
       "  </thead>\n",
       "  <tbody>\n",
       "    <tr>\n",
       "      <th>0</th>\n",
       "      <td>2</td>\n",
       "      <td>train</td>\n",
       "      <td>way insult direct man unflattering hat worn predominantly men meant ins…</td>\n",
       "    </tr>\n",
       "    <tr>\n",
       "      <th>1</th>\n",
       "      <td>1</td>\n",
       "      <td>train</td>\n",
       "      <td>ordinary muslim idiot person like know make sure qur’an muslim nothing claim jihad come back tal...</td>\n",
       "    </tr>\n",
       "    <tr>\n",
       "      <th>2</th>\n",
       "      <td>1</td>\n",
       "      <td>train</td>\n",
       "      <td>give buildup sweeden government idiotu behave like allrounder see reach god know many fake news ...</td>\n",
       "    </tr>\n",
       "    <tr>\n",
       "      <th>3</th>\n",
       "      <td>0</td>\n",
       "      <td>train</td>\n",
       "      <td>sure pot cooked hot mkr killerblondes abarmezh86</td>\n",
       "    </tr>\n",
       "    <tr>\n",
       "      <th>4</th>\n",
       "      <td>1</td>\n",
       "      <td>train</td>\n",
       "      <td>christian part palestinian kill driven palestinian muslim</td>\n",
       "    </tr>\n",
       "  </tbody>\n",
       "</table>\n",
       "</div>\n",
       "      <button class=\"colab-df-convert\" onclick=\"convertToInteractive('df-e1264711-97ef-44ea-aa86-dbc243b11841')\"\n",
       "              title=\"Convert this dataframe to an interactive table.\"\n",
       "              style=\"display:none;\">\n",
       "        \n",
       "  <svg xmlns=\"http://www.w3.org/2000/svg\" height=\"24px\"viewBox=\"0 0 24 24\"\n",
       "       width=\"24px\">\n",
       "    <path d=\"M0 0h24v24H0V0z\" fill=\"none\"/>\n",
       "    <path d=\"M18.56 5.44l.94 2.06.94-2.06 2.06-.94-2.06-.94-.94-2.06-.94 2.06-2.06.94zm-11 1L8.5 8.5l.94-2.06 2.06-.94-2.06-.94L8.5 2.5l-.94 2.06-2.06.94zm10 10l.94 2.06.94-2.06 2.06-.94-2.06-.94-.94-2.06-.94 2.06-2.06.94z\"/><path d=\"M17.41 7.96l-1.37-1.37c-.4-.4-.92-.59-1.43-.59-.52 0-1.04.2-1.43.59L10.3 9.45l-7.72 7.72c-.78.78-.78 2.05 0 2.83L4 21.41c.39.39.9.59 1.41.59.51 0 1.02-.2 1.41-.59l7.78-7.78 2.81-2.81c.8-.78.8-2.07 0-2.86zM5.41 20L4 18.59l7.72-7.72 1.47 1.35L5.41 20z\"/>\n",
       "  </svg>\n",
       "      </button>\n",
       "      \n",
       "  <style>\n",
       "    .colab-df-container {\n",
       "      display:flex;\n",
       "      flex-wrap:wrap;\n",
       "      gap: 12px;\n",
       "    }\n",
       "\n",
       "    .colab-df-convert {\n",
       "      background-color: #E8F0FE;\n",
       "      border: none;\n",
       "      border-radius: 50%;\n",
       "      cursor: pointer;\n",
       "      display: none;\n",
       "      fill: #1967D2;\n",
       "      height: 32px;\n",
       "      padding: 0 0 0 0;\n",
       "      width: 32px;\n",
       "    }\n",
       "\n",
       "    .colab-df-convert:hover {\n",
       "      background-color: #E2EBFA;\n",
       "      box-shadow: 0px 1px 2px rgba(60, 64, 67, 0.3), 0px 1px 3px 1px rgba(60, 64, 67, 0.15);\n",
       "      fill: #174EA6;\n",
       "    }\n",
       "\n",
       "    [theme=dark] .colab-df-convert {\n",
       "      background-color: #3B4455;\n",
       "      fill: #D2E3FC;\n",
       "    }\n",
       "\n",
       "    [theme=dark] .colab-df-convert:hover {\n",
       "      background-color: #434B5C;\n",
       "      box-shadow: 0px 1px 3px 1px rgba(0, 0, 0, 0.15);\n",
       "      filter: drop-shadow(0px 1px 2px rgba(0, 0, 0, 0.3));\n",
       "      fill: #FFFFFF;\n",
       "    }\n",
       "  </style>\n",
       "\n",
       "      <script>\n",
       "        const buttonEl =\n",
       "          document.querySelector('#df-e1264711-97ef-44ea-aa86-dbc243b11841 button.colab-df-convert');\n",
       "        buttonEl.style.display =\n",
       "          google.colab.kernel.accessAllowed ? 'block' : 'none';\n",
       "\n",
       "        async function convertToInteractive(key) {\n",
       "          const element = document.querySelector('#df-e1264711-97ef-44ea-aa86-dbc243b11841');\n",
       "          const dataTable =\n",
       "            await google.colab.kernel.invokeFunction('convertToInteractive',\n",
       "                                                     [key], {});\n",
       "          if (!dataTable) return;\n",
       "\n",
       "          const docLinkHtml = 'Like what you see? Visit the ' +\n",
       "            '<a target=\"_blank\" href=https://colab.research.google.com/notebooks/data_table.ipynb>data table notebook</a>'\n",
       "            + ' to learn more about interactive tables.';\n",
       "          element.innerHTML = '';\n",
       "          dataTable['output_type'] = 'display_data';\n",
       "          await google.colab.output.renderOutput(dataTable, element);\n",
       "          const docLink = document.createElement('div');\n",
       "          docLink.innerHTML = docLinkHtml;\n",
       "          element.appendChild(docLink);\n",
       "        }\n",
       "      </script>\n",
       "    </div>\n",
       "  </div>\n",
       "  "
      ],
      "text/plain": [
       "   tag    set  \\\n",
       "0    2  train   \n",
       "1    1  train   \n",
       "2    1  train   \n",
       "3    0  train   \n",
       "4    1  train   \n",
       "\n",
       "                                                                                                  text  \n",
       "0                             way insult direct man unflattering hat worn predominantly men meant ins…  \n",
       "1  ordinary muslim idiot person like know make sure qur’an muslim nothing claim jihad come back tal...  \n",
       "2  give buildup sweeden government idiotu behave like allrounder see reach god know many fake news ...  \n",
       "3                                                     sure pot cooked hot mkr killerblondes abarmezh86  \n",
       "4                                            christian part palestinian kill driven palestinian muslim  "
      ]
     },
     "execution_count": 5,
     "metadata": {},
     "output_type": "execute_result"
    }
   ],
   "source": [
    "data.head()"
   ]
  },
  {
   "cell_type": "code",
   "execution_count": null,
   "id": "bb113c46",
   "metadata": {
    "id": "bb113c46"
   },
   "outputs": [],
   "source": [
    "# Split entire dataset into the two datasets\n",
    "# train dataset: cyberbullying_tweets.csv and test dataset: classified_tweets.csv\n",
    "train = data.loc[data['set'] == 'train']\n",
    "test = data.loc[data['set'] == 'test']"
   ]
  },
  {
   "cell_type": "code",
   "execution_count": null,
   "id": "463b1618",
   "metadata": {
    "id": "463b1618"
   },
   "outputs": [],
   "source": [
    "# Splitting both datasets into their respective X and y columns \n",
    "X1 = train['text']\n",
    "y1 = train['tag']\n",
    "\n",
    "X2 = test['text']\n",
    "y2 = test['tag']"
   ]
  },
  {
   "cell_type": "markdown",
   "id": "f95aee32",
   "metadata": {
    "id": "f95aee32"
   },
   "source": [
    "# Train/Test Split\n",
    "\n",
    "This step splits the train dataset: cyberbullying_tweets.csv into the dataset that the classifier model will train on, and the validation dataset that the model will be assessed on."
   ]
  },
  {
   "cell_type": "code",
   "execution_count": null,
   "id": "11d90aa7",
   "metadata": {
    "id": "11d90aa7"
   },
   "outputs": [],
   "source": [
    "# Conducting train/validation split\n",
    "X_train, X_val, y_train, y_val = train_test_split(X1, y1, stratify = y1, random_state = 42)"
   ]
  },
  {
   "cell_type": "markdown",
   "id": "110725c3",
   "metadata": {
    "id": "110725c3"
   },
   "source": [
    "# Modelling - Multinomial Naive Bayes\n",
    "\n",
    "This is the intended baseline model."
   ]
  },
  {
   "cell_type": "markdown",
   "id": "5ce97839",
   "metadata": {
    "id": "5ce97839"
   },
   "source": [
    "### Multinomial Naive Bayes (CountVectorizer)"
   ]
  },
  {
   "cell_type": "code",
   "execution_count": null,
   "id": "287db410",
   "metadata": {
    "id": "287db410"
   },
   "outputs": [],
   "source": [
    "# Set up a pipeline:\n",
    "# 1. Instantiating CountVectorizer\n",
    "# 2. SMOTE sampling - due to imbalance of classes\n",
    "# 3. Multinomial Naive Bayes\n",
    "pipe_cvec_multinomial = Pipeline([\n",
    "        ('cvec', CountVectorizer()),\n",
    "        ('sampling', SMOTE()),\n",
    "        ('nb', MultinomialNB())\n",
    "    ])"
   ]
  },
  {
   "cell_type": "code",
   "execution_count": null,
   "id": "2d9795f9",
   "metadata": {
    "id": "2d9795f9"
   },
   "outputs": [],
   "source": [
    "# Search over the following values of hyperparameters:\n",
    "\n",
    "# Maximum number of features fit: 2000, 3000, 4000, 5000, 6000\n",
    "# Minimum number of documents needed to include token: 2, 3, 4, 5, 6, 7\n",
    "# Maximum number of documents needed to include token: 80%, 85%, 90%, 95%\n",
    "# Check unigrams, bigrams, and trigrams\n",
    "# Regularization strength: 0.00001, 0.0001, 0.001, 0.1, 1, 10, 100\n",
    "\n",
    "# pipe_cvec_multinomial_params = {\n",
    "#     'cvec__max_features': [2_000, 3_000, 4_000, 5_000, 6_000],\n",
    "#     'cvec__min_df': [2, 3, 4, 5, 6, 7] , \n",
    "#     'cvec__max_df': [0.8, 0.85, 0.9, 0.95],\n",
    "#     'cvec__ngram_range': [(1, 1), (2, 2), (3, 3)],\n",
    "#     'nb__alpha': [0.00001, 0.0001, 0.001, 0.1, 1, 10, 100]\n",
    "# }"
   ]
  },
  {
   "cell_type": "markdown",
   "id": "f25cf467",
   "metadata": {
    "id": "f25cf467"
   },
   "source": [
    "The above range of hyperparameters values are the ones that are searched."
   ]
  },
  {
   "cell_type": "code",
   "execution_count": null,
   "id": "r2qPpMN6JBSI",
   "metadata": {
    "id": "r2qPpMN6JBSI"
   },
   "outputs": [],
   "source": [
    "# For ease of running the notebook, will just use the best parameters retrieved from cvec_multinomial.best_params_\n",
    "pipe_cvec_multinomial_params = {\n",
    "    'cvec__max_features': [4_000],\n",
    "    'cvec__min_df': [3] , \n",
    "    'cvec__max_df': [0.9],\n",
    "    'cvec__ngram_range': [(1, 1)],\n",
    "    'nb__alpha': [1]\n",
    "}"
   ]
  },
  {
   "cell_type": "code",
   "execution_count": null,
   "id": "f76573a4",
   "metadata": {
    "id": "f76573a4"
   },
   "outputs": [],
   "source": [
    "# Instantiate GridSearchCV.\n",
    "cvec_multinomial = GridSearchCV(pipe_cvec_multinomial,\n",
    "                   param_grid = pipe_cvec_multinomial_params,\n",
    "                   cv = 5,\n",
    "                   scoring = 'f1_weighted',\n",
    "                   n_jobs = -1,\n",
    "                   verbose = 2) "
   ]
  },
  {
   "cell_type": "code",
   "execution_count": null,
   "id": "cb311b90",
   "metadata": {
    "colab": {
     "base_uri": "https://localhost:8080/"
    },
    "executionInfo": {
     "elapsed": 3819,
     "status": "ok",
     "timestamp": 1660193149202,
     "user": {
      "displayName": "Joel",
      "userId": "13831783905850790679"
     },
     "user_tz": -480
    },
    "id": "cb311b90",
    "outputId": "87222d36-5cfc-40d6-b8a4-c2cfa5f87d80"
   },
   "outputs": [
    {
     "name": "stdout",
     "output_type": "stream",
     "text": [
      "Fitting 5 folds for each of 1 candidates, totalling 5 fits\n",
      "CPU times: user 725 ms, sys: 141 ms, total: 866 ms\n",
      "Wall time: 3.43 s\n"
     ]
    },
    {
     "data": {
      "text/plain": [
       "GridSearchCV(cv=5,\n",
       "             estimator=Pipeline(steps=[('cvec', CountVectorizer()),\n",
       "                                       ('sampling', SMOTE()),\n",
       "                                       ('nb', MultinomialNB())]),\n",
       "             n_jobs=-1,\n",
       "             param_grid={'cvec__max_df': [0.9], 'cvec__max_features': [4000],\n",
       "                         'cvec__min_df': [3], 'cvec__ngram_range': [(1, 1)],\n",
       "                         'nb__alpha': [1]},\n",
       "             scoring='f1_weighted', verbose=2)"
      ]
     },
     "execution_count": 13,
     "metadata": {},
     "output_type": "execute_result"
    }
   ],
   "source": [
    "%%time\n",
    "# Conducting GridSearch on training data\n",
    "cvec_multinomial.fit(X_train, y_train);"
   ]
  },
  {
   "cell_type": "code",
   "execution_count": null,
   "id": "667aac2b",
   "metadata": {
    "colab": {
     "base_uri": "https://localhost:8080/"
    },
    "executionInfo": {
     "elapsed": 19,
     "status": "ok",
     "timestamp": 1660193149203,
     "user": {
      "displayName": "Joel",
      "userId": "13831783905850790679"
     },
     "user_tz": -480
    },
    "id": "667aac2b",
    "outputId": "daab3f0b-0e31-444f-b138-309770b02ad1"
   },
   "outputs": [
    {
     "name": "stdout",
     "output_type": "stream",
     "text": [
      "{'cvec__max_df': 0.9, 'cvec__max_features': 4000, 'cvec__min_df': 3, 'cvec__ngram_range': (1, 1), 'nb__alpha': 1}\n"
     ]
    }
   ],
   "source": [
    "# Retrieving the best parameters resulting from the GridSearch\n",
    "print(cvec_multinomial.best_params_)"
   ]
  },
  {
   "cell_type": "code",
   "execution_count": null,
   "id": "94d5df73",
   "metadata": {
    "colab": {
     "base_uri": "https://localhost:8080/"
    },
    "executionInfo": {
     "elapsed": 13,
     "status": "ok",
     "timestamp": 1660193149204,
     "user": {
      "displayName": "Joel",
      "userId": "13831783905850790679"
     },
     "user_tz": -480
    },
    "id": "94d5df73",
    "outputId": "69bd14c0-1375-4577-db49-b0e88c3ea00b"
   },
   "outputs": [
    {
     "name": "stdout",
     "output_type": "stream",
     "text": [
      "CountVectorizer Multinomial Naive Bayes GridSearchCV best score is: 0.88683.\n",
      "CountVectorizer Multinomial Naive Bayes train score is: 0.92246.\n",
      "CountVectorizer Multinomial Naive Bayes validation score is: 0.88983.\n"
     ]
    }
   ],
   "source": [
    "# Best score\n",
    "cvec_multinomial_best = round(cvec_multinomial.best_score_, 5)\n",
    "print('CountVectorizer Multinomial Naive Bayes GridSearchCV best score is: {}.'.format(cvec_multinomial_best))\n",
    "\n",
    "# Training score\n",
    "c_multi_train_pred = cvec_multinomial.predict(X_train)\n",
    "cvec_multinomial_train = round(f1_score(y_train, c_multi_train_pred, average = 'weighted'), 5)\n",
    "print('CountVectorizer Multinomial Naive Bayes train score is: {}.'.format(cvec_multinomial_train))\n",
    "\n",
    "# Validation score\n",
    "c_multi_val_pred = cvec_multinomial.predict(X_val)\n",
    "cvec_multinomial_val = round(f1_score(y_val, c_multi_val_pred, average = 'weighted'), 5)\n",
    "print('CountVectorizer Multinomial Naive Bayes validation score is: {}.'.format(cvec_multinomial_val))"
   ]
  },
  {
   "cell_type": "code",
   "execution_count": null,
   "id": "b30a20bf",
   "metadata": {
    "colab": {
     "base_uri": "https://localhost:8080/",
     "height": 295
    },
    "executionInfo": {
     "elapsed": 933,
     "status": "ok",
     "timestamp": 1660193150130,
     "user": {
      "displayName": "Joel",
      "userId": "13831783905850790679"
     },
     "user_tz": -480
    },
    "id": "b30a20bf",
    "outputId": "9706ad48-433f-45fb-cad6-3d23842de2d4"
   },
   "outputs": [
    {
     "data": {
      "image/png": "[encoded data removed]",
      "text/plain": [
       "<Figure size 432x288 with 2 Axes>"
      ]
     },
     "metadata": {
      "needs_background": "light"
     },
     "output_type": "display_data"
    }
   ],
   "source": [
    "# View confusion matrix\n",
    "plot_confusion_matrix(cvec_multinomial, X_val, y_val, cmap = 'Blues', values_format = 'd',\n",
    "                      display_labels = ['innocuous', 'racist', 'sexist'])\n",
    "plt.title('Confusion Matrix of CountVectorizer Multinomial Naive Bayes Model');"
   ]
  },
  {
   "cell_type": "markdown",
   "id": "43cae6c4",
   "metadata": {
    "id": "43cae6c4"
   },
   "source": [
    "### Multinomial Naive Bayes (TF-IDF)"
   ]
  },
  {
   "cell_type": "code",
   "execution_count": null,
   "id": "d351a79d",
   "metadata": {
    "id": "d351a79d"
   },
   "outputs": [],
   "source": [
    "# Set up a pipeline:\n",
    "# 1. Instantiating TF-IDF Vectorizer\n",
    "# 2. SMOTE sampling - due to imbalance of classes\n",
    "# 3. Multinomial Naive Bayes\n",
    "pipe_tvec_multinomial = Pipeline([\n",
    "        ('tvec', TfidfVectorizer()),\n",
    "        ('sampling', SMOTE()),\n",
    "        ('nb', MultinomialNB())\n",
    "    ])"
   ]
  },
  {
   "cell_type": "code",
   "execution_count": null,
   "id": "ec947c9d",
   "metadata": {
    "id": "ec947c9d"
   },
   "outputs": [],
   "source": [
    "# Search over the following values of hyperparameters:\n",
    "# Maximum number of features fit: 2000, 3000, 4000, 5000, 6000\n",
    "# Minimum number of documents needed to include token: 2, 3, 4, 5, 6, 7\n",
    "# Maximum number of documents needed to include token: 80%, 85%, 90%, 95%\n",
    "# Check unigrams, bigrams, and trigrams\n",
    "# Regularization strength: 0.00001, 0.0001, 0.001, 0.1, 1, 10, 100\n",
    "\n",
    "# pipe_tvec_multinomial_params = {\n",
    "#     'tvec__max_features': [2_000, 3_000, 4_000, 5_000, 6_000],\n",
    "#     'tvec__min_df': [2, 3, 4, 5, 6, 7] , \n",
    "#     'tvec__max_df': [0.8, 0.85, 0.9, 0.95],\n",
    "#     'tvec__ngram_range': [(1,1), (2,2), (3,3)],\n",
    "#     'nb__alpha': [0.00001, 0.0001, 0.001, 0.1, 1, 10, 100]\n",
    "# }"
   ]
  },
  {
   "cell_type": "markdown",
   "id": "265c143a",
   "metadata": {
    "id": "265c143a"
   },
   "source": [
    "The above range of hyperparameters values are the ones that are searched."
   ]
  },
  {
   "cell_type": "code",
   "execution_count": null,
   "id": "5Mp_AJcBWvYE",
   "metadata": {
    "id": "5Mp_AJcBWvYE"
   },
   "outputs": [],
   "source": [
    "# For ease of running the notebook, will just use the best parameters retrieved from tvec_multinomial.best_params_\n",
    "pipe_tvec_multinomial_params = {\n",
    "    'tvec__max_features': [3_000],\n",
    "    'tvec__min_df': [2] , \n",
    "    'tvec__max_df': [0.85],\n",
    "    'tvec__ngram_range': [(1,1)],\n",
    "    'nb__alpha': [1]\n",
    "}"
   ]
  },
  {
   "cell_type": "code",
   "execution_count": null,
   "id": "f14e4d56",
   "metadata": {
    "id": "f14e4d56"
   },
   "outputs": [],
   "source": [
    "# Instantiate GridSearchCV\n",
    "tvec_multinomial = GridSearchCV(pipe_tvec_multinomial,\n",
    "                                param_grid = pipe_tvec_multinomial_params,\n",
    "                                cv = 5,\n",
    "                                scoring = 'f1_weighted',\n",
    "                                n_jobs = -1,\n",
    "                                verbose = 2) "
   ]
  },
  {
   "cell_type": "code",
   "execution_count": null,
   "id": "f454dd84",
   "metadata": {
    "colab": {
     "base_uri": "https://localhost:8080/"
    },
    "executionInfo": {
     "elapsed": 1027,
     "status": "ok",
     "timestamp": 1660193151132,
     "user": {
      "displayName": "Joel",
      "userId": "13831783905850790679"
     },
     "user_tz": -480
    },
    "id": "f454dd84",
    "outputId": "9e0ceda7-c71e-4929-afca-3e057c71fe2d"
   },
   "outputs": [
    {
     "name": "stdout",
     "output_type": "stream",
     "text": [
      "Fitting 5 folds for each of 1 candidates, totalling 5 fits\n",
      "CPU times: user 641 ms, sys: 13.4 ms, total: 654 ms\n",
      "Wall time: 1.7 s\n"
     ]
    },
    {
     "data": {
      "text/plain": [
       "GridSearchCV(cv=5,\n",
       "             estimator=Pipeline(steps=[('tvec', TfidfVectorizer()),\n",
       "                                       ('sampling', SMOTE()),\n",
       "                                       ('nb', MultinomialNB())]),\n",
       "             n_jobs=-1,\n",
       "             param_grid={'nb__alpha': [1], 'tvec__max_df': [0.85],\n",
       "                         'tvec__max_features': [3000], 'tvec__min_df': [2],\n",
       "                         'tvec__ngram_range': [(1, 1)]},\n",
       "             scoring='f1_weighted', verbose=2)"
      ]
     },
     "execution_count": 21,
     "metadata": {},
     "output_type": "execute_result"
    }
   ],
   "source": [
    "%%time\n",
    "# Conducting GridSearch on training data\n",
    "tvec_multinomial.fit(X_train, y_train)"
   ]
  },
  {
   "cell_type": "code",
   "execution_count": null,
   "id": "cd11c7d0",
   "metadata": {
    "colab": {
     "base_uri": "https://localhost:8080/"
    },
    "executionInfo": {
     "elapsed": 17,
     "status": "ok",
     "timestamp": 1660193151133,
     "user": {
      "displayName": "Joel",
      "userId": "13831783905850790679"
     },
     "user_tz": -480
    },
    "id": "cd11c7d0",
    "outputId": "7961567c-3278-4cf5-ce41-30e6a9857a31"
   },
   "outputs": [
    {
     "name": "stdout",
     "output_type": "stream",
     "text": [
      "{'nb__alpha': 1, 'tvec__max_df': 0.85, 'tvec__max_features': 3000, 'tvec__min_df': 2, 'tvec__ngram_range': (1, 1)}\n"
     ]
    }
   ],
   "source": [
    "# Retrieving the best parameters resulting from the GridSearch\n",
    "print(tvec_multinomial.best_params_)"
   ]
  },
  {
   "cell_type": "code",
   "execution_count": null,
   "id": "39a29c62",
   "metadata": {
    "colab": {
     "base_uri": "https://localhost:8080/"
    },
    "executionInfo": {
     "elapsed": 814,
     "status": "ok",
     "timestamp": 1660193151937,
     "user": {
      "displayName": "Joel",
      "userId": "13831783905850790679"
     },
     "user_tz": -480
    },
    "id": "39a29c62",
    "outputId": "5e44841c-5379-42bc-c0e0-00388203aa53"
   },
   "outputs": [
    {
     "name": "stdout",
     "output_type": "stream",
     "text": [
      "TFIDF Multinomial Naive Bayes GridSearchCV best score is: 0.87728.\n",
      "TFIDF Multinomial Naive Bayes train score is: 0.91962.\n",
      "TFIDF Multinomial Naive Bayes validation score is: 0.88029.\n"
     ]
    }
   ],
   "source": [
    "# Best score\n",
    "tvec_multinomial_best = round(tvec_multinomial.best_score_, 5)\n",
    "print('TFIDF Multinomial Naive Bayes GridSearchCV best score is: {}.'.format(tvec_multinomial_best))\n",
    "\n",
    "# Training score\n",
    "t_multi_train_pred = tvec_multinomial.predict(X_train)\n",
    "tvec_multinomial_train = round(f1_score(y_train, t_multi_train_pred, average = 'weighted'), 5)\n",
    "print('TFIDF Multinomial Naive Bayes train score is: {}.'.format(tvec_multinomial_train))\n",
    "\n",
    "# Validation score\n",
    "t_multi_test_pred = tvec_multinomial.predict(X_val)\n",
    "tvec_multinomial_val = round(f1_score(y_val, t_multi_test_pred, average = 'weighted'), 5)\n",
    "print('TFIDF Multinomial Naive Bayes validation score is: {}.'.format(tvec_multinomial_val))"
   ]
  },
  {
   "cell_type": "code",
   "execution_count": null,
   "id": "5a9c7511",
   "metadata": {
    "colab": {
     "base_uri": "https://localhost:8080/",
     "height": 295
    },
    "executionInfo": {
     "elapsed": 20,
     "status": "ok",
     "timestamp": 1660193151938,
     "user": {
      "displayName": "Joel",
      "userId": "13831783905850790679"
     },
     "user_tz": -480
    },
    "id": "5a9c7511",
    "outputId": "5ba1ebc6-7e13-49d8-ac99-6011aa5fa523"
   },
   "outputs": [
    {
     "data": {
      "image/png": "[encoded data removed]",
      "text/plain": [
       "<Figure size 432x288 with 2 Axes>"
      ]
     },
     "metadata": {
      "needs_background": "light"
     },
     "output_type": "display_data"
    }
   ],
   "source": [
    "# View confusion matrix\n",
    "plot_confusion_matrix(tvec_multinomial, X_val, y_val, cmap = 'Blues', values_format = 'd',\n",
    "                      display_labels = ['innocuous', 'racist', 'sexist'])\n",
    "plt.title('Confusion Matrix of TF-IDF Multinomial Naive Bayes Model');"
   ]
  },
  {
   "cell_type": "markdown",
   "id": "ad070f3c",
   "metadata": {
    "id": "ad070f3c"
   },
   "source": [
    "# Modelling - Random Forest"
   ]
  },
  {
   "cell_type": "code",
   "execution_count": null,
   "id": "c9bd8708",
   "metadata": {
    "id": "c9bd8708"
   },
   "outputs": [],
   "source": [
    "# Instantiate RandomForestClassifier\n",
    "rf = RandomForestClassifier()"
   ]
  },
  {
   "cell_type": "markdown",
   "id": "326fea53",
   "metadata": {
    "id": "326fea53"
   },
   "source": [
    "### Random Forest (CountVectorizer)"
   ]
  },
  {
   "cell_type": "code",
   "execution_count": null,
   "id": "4b550281",
   "metadata": {
    "id": "4b550281"
   },
   "outputs": [],
   "source": [
    "# Setting up a pipeline up with two stages:\n",
    "# 1. Instantiating CountVectorizer\n",
    "# 2. SMOTE sampling - due to imbalance of classes\n",
    "# 3. Random Forest Classifier\n",
    "\n",
    "pipe_cvec_rf = Pipeline([\n",
    "    ('cvec', CountVectorizer()),\n",
    "    ('sampling', SMOTE()),\n",
    "    ('rf', RandomForestClassifier(random_state = 42))\n",
    "])"
   ]
  },
  {
   "cell_type": "code",
   "execution_count": null,
   "id": "8fa6e8f9",
   "metadata": {
    "id": "8fa6e8f9"
   },
   "outputs": [],
   "source": [
    "# Search over the following values of hyperparameters:\n",
    "# Maximum number of features fit: 2000, 3000, 4000, 5000\n",
    "# Minimum number of documents needed to include token: 2, 3, 4, 5, 6\n",
    "# Maximum number of documents needed to include token: 80%, 85%, 90%, 95%\n",
    "# Number of trees in the forest: 50, 70, 90, 110, 130\n",
    "\n",
    "# pipe_cvec_rf_params = {\n",
    "#     'cvec__max_features': [2_000, 3_000, 4_000, 5_000],\n",
    "#     'cvec__min_df': [2, 3, 4, 5, 6] , \n",
    "#     'cvec__max_df': [0.8, 0.85, 0.9, 0.95],\n",
    "#     'cvec__ngram_range': [(1, 1)],\n",
    "#     'rf__n_estimators': [50, 70, 90, 110, 130],\n",
    "# }"
   ]
  },
  {
   "cell_type": "markdown",
   "id": "9akQmWgBxvAe",
   "metadata": {
    "id": "9akQmWgBxvAe"
   },
   "source": [
    "The above range of hyperparameters values are the ones that are searched."
   ]
  },
  {
   "cell_type": "code",
   "execution_count": null,
   "id": "rt6_IZKVxsvj",
   "metadata": {
    "id": "rt6_IZKVxsvj"
   },
   "outputs": [],
   "source": [
    "# For ease of running the notebook, will just use the best parameters retrieved from cvec_rf.best_params_\n",
    "pipe_cvec_rf_params = {\n",
    "    'cvec__max_features': [4_000],\n",
    "    'cvec__min_df': [2] , \n",
    "    'cvec__max_df': [0.85],\n",
    "    'cvec__ngram_range': [(1,1)],\n",
    "    'rf__n_estimators': [130]\n",
    "}"
   ]
  },
  {
   "cell_type": "code",
   "execution_count": null,
   "id": "43fae58c",
   "metadata": {
    "id": "43fae58c"
   },
   "outputs": [],
   "source": [
    "# Instantiate GridSearchCV.\n",
    "cvec_rf = GridSearchCV(pipe_cvec_rf,\n",
    "                       param_grid = pipe_cvec_rf_params,\n",
    "                       cv = 5,\n",
    "                       scoring = 'f1_weighted',\n",
    "                       n_jobs = -1,\n",
    "                       verbose = 2)"
   ]
  },
  {
   "cell_type": "code",
   "execution_count": null,
   "id": "0ace0778",
   "metadata": {
    "colab": {
     "base_uri": "https://localhost:8080/"
    },
    "executionInfo": {
     "elapsed": 38926,
     "status": "ok",
     "timestamp": 1660193190848,
     "user": {
      "displayName": "Joel",
      "userId": "13831783905850790679"
     },
     "user_tz": -480
    },
    "id": "0ace0778",
    "outputId": "2dd38c59-b153-426a-a9ea-42cd9faf9eb6"
   },
   "outputs": [
    {
     "name": "stdout",
     "output_type": "stream",
     "text": [
      "Fitting 5 folds for each of 1 candidates, totalling 5 fits\n",
      "CPU times: user 14 s, sys: 31.4 ms, total: 14 s\n",
      "Wall time: 38.8 s\n"
     ]
    },
    {
     "data": {
      "text/plain": [
       "GridSearchCV(cv=5,\n",
       "             estimator=Pipeline(steps=[('cvec', CountVectorizer()),\n",
       "                                       ('sampling', SMOTE()),\n",
       "                                       ('rf',\n",
       "                                        RandomForestClassifier(random_state=42))]),\n",
       "             n_jobs=-1,\n",
       "             param_grid={'cvec__max_df': [0.85], 'cvec__max_features': [4000],\n",
       "                         'cvec__min_df': [2], 'cvec__ngram_range': [(1, 1)],\n",
       "                         'rf__n_estimators': [130]},\n",
       "             scoring='f1_weighted', verbose=2)"
      ]
     },
     "execution_count": 30,
     "metadata": {},
     "output_type": "execute_result"
    }
   ],
   "source": [
    "%%time\n",
    "# Conducting GridSearch on training data\n",
    "cvec_rf.fit(X_train, y_train)"
   ]
  },
  {
   "cell_type": "code",
   "execution_count": null,
   "id": "b46c780f",
   "metadata": {
    "colab": {
     "base_uri": "https://localhost:8080/"
    },
    "executionInfo": {
     "elapsed": 27,
     "status": "ok",
     "timestamp": 1660193190849,
     "user": {
      "displayName": "Joel",
      "userId": "13831783905850790679"
     },
     "user_tz": -480
    },
    "id": "b46c780f",
    "outputId": "7dcf1ba9-aefe-4047-8786-c03dd9d42ec3"
   },
   "outputs": [
    {
     "name": "stdout",
     "output_type": "stream",
     "text": [
      "{'cvec__max_df': 0.85, 'cvec__max_features': 4000, 'cvec__min_df': 2, 'cvec__ngram_range': (1, 1), 'rf__n_estimators': 130}\n"
     ]
    }
   ],
   "source": [
    "# Retrieving the best parameters resulting from the GridSearch\n",
    "print(cvec_rf.best_params_)"
   ]
  },
  {
   "cell_type": "code",
   "execution_count": null,
   "id": "0e9c0ae9",
   "metadata": {
    "colab": {
     "base_uri": "https://localhost:8080/"
    },
    "executionInfo": {
     "elapsed": 673,
     "status": "ok",
     "timestamp": 1660193191501,
     "user": {
      "displayName": "Joel",
      "userId": "13831783905850790679"
     },
     "user_tz": -480
    },
    "id": "0e9c0ae9",
    "outputId": "8342356b-0618-47c9-963a-8f302e9735fb"
   },
   "outputs": [
    {
     "name": "stdout",
     "output_type": "stream",
     "text": [
      "CountVectorizer Random Forest GridSearchCV best score is: 0.9073.\n",
      "CountVectorizer Random Forest train score is: 0.9991.\n",
      "CountVectorizer Random Forest validation score is: 0.91663.\n"
     ]
    }
   ],
   "source": [
    "# Best score\n",
    "cvec_rf_best = round(cvec_rf.best_score_, 5)\n",
    "print('CountVectorizer Random Forest GridSearchCV best score is: {}.'.format(cvec_rf_best))\n",
    "\n",
    "# Training score\n",
    "c_rf_train_pred = cvec_rf.predict(X_train)\n",
    "cvec_rf_train = round(f1_score(y_train, c_rf_train_pred, average = 'weighted'), 5)\n",
    "print('CountVectorizer Random Forest train score is: {}.'.format(cvec_rf_train))\n",
    "\n",
    "# Validation score\n",
    "c_rf_test_pred = cvec_rf.predict(X_val)\n",
    "cvec_rf_val = round(f1_score(y_val, c_rf_test_pred, average = 'weighted'), 5)\n",
    "print('CountVectorizer Random Forest validation score is: {}.'.format(cvec_rf_val))"
   ]
  },
  {
   "cell_type": "code",
   "execution_count": null,
   "id": "07630078",
   "metadata": {
    "colab": {
     "base_uri": "https://localhost:8080/",
     "height": 295
    },
    "executionInfo": {
     "elapsed": 799,
     "status": "ok",
     "timestamp": 1660193192295,
     "user": {
      "displayName": "Joel",
      "userId": "13831783905850790679"
     },
     "user_tz": -480
    },
    "id": "07630078",
    "outputId": "2725d362-5920-4669-934a-1bae3e0754e6"
   },
   "outputs": [
    {
     "data": {
      "image/png": "[encoded data removed]",
      "text/plain": [
       "<Figure size 432x288 with 2 Axes>"
      ]
     },
     "metadata": {
      "needs_background": "light"
     },
     "output_type": "display_data"
    }
   ],
   "source": [
    "# View confusion matrix\n",
    "plot_confusion_matrix(cvec_rf, X_val, y_val, cmap = 'Blues', values_format = 'd',\n",
    "                      display_labels = ['innocuous', 'racist', 'sexist'])\n",
    "plt.title('Confusion Matrix of CountVectorizer Random Forest Model');"
   ]
  },
  {
   "cell_type": "markdown",
   "id": "b048fdc6",
   "metadata": {
    "id": "b048fdc6"
   },
   "source": [
    "### Random Forest (TF-IDF)"
   ]
  },
  {
   "cell_type": "code",
   "execution_count": null,
   "id": "4730fb7a",
   "metadata": {
    "id": "4730fb7a"
   },
   "outputs": [],
   "source": [
    "# Setting up a pipeline up with two stages:\n",
    "# 1. Instantiating TfidfVectorizer\n",
    "# 2. SMOTE sampling - due to imbalance of classes\n",
    "# 3. Random Forest Classifier\n",
    "\n",
    "pipe_tvec_rf = Pipeline([\n",
    "    ('tvec', TfidfVectorizer()),\n",
    "    ('sampling', SMOTE()),\n",
    "    ('rf', RandomForestClassifier(random_state = 42))\n",
    "])"
   ]
  },
  {
   "cell_type": "code",
   "execution_count": null,
   "id": "da807351",
   "metadata": {
    "id": "da807351"
   },
   "outputs": [],
   "source": [
    "# Search over the following values of hyperparameters:\n",
    "# Maximum number of features fit: 2000, 3000, 4000, 5000\n",
    "# Minimum number of documents needed to include token: 2, 3, 4, 5, 6\n",
    "# Maximum number of documents needed to include token: 80%, 85%, 90%, 95%\n",
    "# Number of trees in the forest: 50, 70, 90, 110, 130\n",
    "\n",
    "# pipe_tvec_rf_params = {\n",
    "#     'tvec__max_features': [2_000, 3_000, 4_000, 5_000],\n",
    "#     'tvec__min_df': [2, 3, 4, 5, 6] , \n",
    "#     'tvec__max_df': [0.8, 0.85, 0.9, 0.95],\n",
    "#     'tvec__ngram_range': [(1, 1)],\n",
    "#     'rf__n_estimators': [50, 70, 90, 110, 130],\n",
    "# }"
   ]
  },
  {
   "cell_type": "markdown",
   "id": "2xCqwAk1QAH2",
   "metadata": {
    "id": "2xCqwAk1QAH2"
   },
   "source": [
    "The above range of hyperparameters values are the ones that are searched."
   ]
  },
  {
   "cell_type": "code",
   "execution_count": null,
   "id": "u8ZpfOirIqyn",
   "metadata": {
    "id": "u8ZpfOirIqyn"
   },
   "outputs": [],
   "source": [
    "# For ease of running the notebook, will just use the best parameters retrieved from tvec_rf.best_params_\n",
    "pipe_tvec_rf_params = {\n",
    "    'tvec__max_features': [4_000],\n",
    "    'tvec__min_df': [3] , \n",
    "    'tvec__max_df': [0.95],\n",
    "    'tvec__ngram_range': [(1,1)],\n",
    "    'rf__n_estimators': [110]\n",
    "}"
   ]
  },
  {
   "cell_type": "code",
   "execution_count": null,
   "id": "ab22e473",
   "metadata": {
    "id": "ab22e473"
   },
   "outputs": [],
   "source": [
    "# Instantiate GridSearchCV.\n",
    "tvec_rf = GridSearchCV(pipe_tvec_rf,\n",
    "                       param_grid = pipe_tvec_rf_params,\n",
    "                       cv = 5,\n",
    "                       scoring = 'f1_weighted',\n",
    "                       n_jobs = -1,\n",
    "                       verbose = 2)"
   ]
  },
  {
   "cell_type": "code",
   "execution_count": null,
   "id": "a0bce990",
   "metadata": {
    "colab": {
     "base_uri": "https://localhost:8080/"
    },
    "executionInfo": {
     "elapsed": 27394,
     "status": "ok",
     "timestamp": 1660193219675,
     "user": {
      "displayName": "Joel",
      "userId": "13831783905850790679"
     },
     "user_tz": -480
    },
    "id": "a0bce990",
    "outputId": "5c12772e-a32e-4afc-e2b4-d03b7af0c9f1"
   },
   "outputs": [
    {
     "name": "stdout",
     "output_type": "stream",
     "text": [
      "Fitting 5 folds for each of 1 candidates, totalling 5 fits\n",
      "CPU times: user 9.73 s, sys: 41 ms, total: 9.77 s\n",
      "Wall time: 27.3 s\n"
     ]
    },
    {
     "data": {
      "text/plain": [
       "GridSearchCV(cv=5,\n",
       "             estimator=Pipeline(steps=[('tvec', TfidfVectorizer()),\n",
       "                                       ('sampling', SMOTE()),\n",
       "                                       ('rf',\n",
       "                                        RandomForestClassifier(random_state=42))]),\n",
       "             n_jobs=-1,\n",
       "             param_grid={'rf__n_estimators': [110], 'tvec__max_df': [0.95],\n",
       "                         'tvec__max_features': [4000], 'tvec__min_df': [3],\n",
       "                         'tvec__ngram_range': [(1, 1)]},\n",
       "             scoring='f1_weighted', verbose=2)"
      ]
     },
     "execution_count": 38,
     "metadata": {},
     "output_type": "execute_result"
    }
   ],
   "source": [
    "%%time\n",
    "# Conducting GridSearch on training data\n",
    "tvec_rf.fit(X_train, y_train)"
   ]
  },
  {
   "cell_type": "code",
   "execution_count": null,
   "id": "d0608e15",
   "metadata": {
    "colab": {
     "base_uri": "https://localhost:8080/"
    },
    "executionInfo": {
     "elapsed": 35,
     "status": "ok",
     "timestamp": 1660193219676,
     "user": {
      "displayName": "Joel",
      "userId": "13831783905850790679"
     },
     "user_tz": -480
    },
    "id": "d0608e15",
    "outputId": "b88a280e-7f07-4a0e-9e4d-1ee4b533f659"
   },
   "outputs": [
    {
     "name": "stdout",
     "output_type": "stream",
     "text": [
      "{'rf__n_estimators': 110, 'tvec__max_df': 0.95, 'tvec__max_features': 4000, 'tvec__min_df': 3, 'tvec__ngram_range': (1, 1)}\n"
     ]
    }
   ],
   "source": [
    "# Retrieving the best parameters resulting from the GridSearch\n",
    "print(tvec_rf.best_params_)"
   ]
  },
  {
   "cell_type": "code",
   "execution_count": null,
   "id": "493eb73e",
   "metadata": {
    "colab": {
     "base_uri": "https://localhost:8080/"
    },
    "executionInfo": {
     "elapsed": 750,
     "status": "ok",
     "timestamp": 1660193220401,
     "user": {
      "displayName": "Joel",
      "userId": "13831783905850790679"
     },
     "user_tz": -480
    },
    "id": "493eb73e",
    "outputId": "47b27f93-4ed6-471f-950b-9a3e9aacb4d8"
   },
   "outputs": [
    {
     "name": "stdout",
     "output_type": "stream",
     "text": [
      "CountVectorizer Random Forest GridSearchCV best score is: 0.92853.\n",
      "CountVectorizer Random Forest train score is: 0.9991.\n",
      "CountVectorizer Random Forest validation score is: 0.93142.\n"
     ]
    }
   ],
   "source": [
    "# Best score\n",
    "tvec_rf_best = round(tvec_rf.best_score_, 5)\n",
    "print('CountVectorizer Random Forest GridSearchCV best score is: {}.'.format(tvec_rf_best))\n",
    "\n",
    "# Training score\n",
    "t_rf_train_pred = tvec_rf.predict(X_train)\n",
    "tvec_rf_train = round(f1_score(y_train, t_rf_train_pred, average = 'weighted'), 5)\n",
    "print('CountVectorizer Random Forest train score is: {}.'.format(tvec_rf_train))\n",
    "\n",
    "# Validation score\n",
    "t_rf_test_pred = tvec_rf.predict(X_val)\n",
    "tvec_rf_val = round(f1_score(y_val, t_rf_test_pred, average = 'weighted'), 5)\n",
    "print('CountVectorizer Random Forest validation score is: {}.'.format(tvec_rf_val))"
   ]
  },
  {
   "cell_type": "code",
   "execution_count": null,
   "id": "311f62e2",
   "metadata": {
    "colab": {
     "base_uri": "https://localhost:8080/",
     "height": 295
    },
    "executionInfo": {
     "elapsed": 782,
     "status": "ok",
     "timestamp": 1660193221171,
     "user": {
      "displayName": "Joel",
      "userId": "13831783905850790679"
     },
     "user_tz": -480
    },
    "id": "311f62e2",
    "outputId": "8899af68-5d7b-4c82-90b7-042efb06c230"
   },
   "outputs": [
    {
     "data": {
      "image/png": "[encoded data removed]",
      "text/plain": [
       "<Figure size 432x288 with 2 Axes>"
      ]
     },
     "metadata": {
      "needs_background": "light"
     },
     "output_type": "display_data"
    }
   ],
   "source": [
    "# View confusion matrix\n",
    "plot_confusion_matrix(tvec_rf, X_val, y_val, cmap = 'Blues', values_format = 'd',\n",
    "                      display_labels = ['innocuous', 'racist', 'sexist'])\n",
    "plt.title('Confusion Matrix of TF-IDF Random Forest Model');"
   ]
  },
  {
   "cell_type": "markdown",
   "id": "3W_pAwgrLZTS",
   "metadata": {
    "id": "3W_pAwgrLZTS"
   },
   "source": [
    "# Saving Models\n",
    "\n",
    "This is done so that these models can be used to predict the labels on the test set."
   ]
  },
  {
   "cell_type": "code",
   "execution_count": null,
   "id": "4Hqb5iIXJBCz",
   "metadata": {
    "id": "4Hqb5iIXJBCz"
   },
   "outputs": [],
   "source": [
    "# Saving Multinomial Naive Bayes Models\n",
    "# cvec\n",
    "pickle.dump(cvec_multinomial, open('/content/drive/MyDrive/Capstone/data/cvec_multinomial.pkl', 'wb'))\n",
    "\n",
    "# tvec\n",
    "pickle.dump(tvec_multinomial, open('/content/drive/MyDrive/Capstone/data/tvec_multinomial.pkl', 'wb'))"
   ]
  },
  {
   "cell_type": "code",
   "execution_count": null,
   "id": "O5fv1BROJA79",
   "metadata": {
    "id": "O5fv1BROJA79"
   },
   "outputs": [],
   "source": [
    "# Saving Random Forest Models\n",
    "# cvec\n",
    "pickle.dump(cvec_rf, open('/content/drive/MyDrive/Capstone/data/cvec_rf.pkl', 'wb'))\n",
    "\n",
    "# tvec\n",
    "pickle.dump(tvec_rf, open('/content/drive/MyDrive/Capstone/data/tvec_rf.pkl', 'wb'))"
   ]
  }
 ],
 "metadata": {
  "colab": {
   "collapsed_sections": [],
   "machine_shape": "hm",
   "name": "3. Modelling - Multinomial NB and Random Forest.ipynb",
   "provenance": []
  },
  "gpuClass": "standard",
  "kernelspec": {
   "display_name": "Python 3 (ipykernel)",
   "language": "python",
   "name": "python3"
  },
  "language_info": {
   "codemirror_mode": {
    "name": "ipython",
    "version": 3
   },
   "file_extension": ".py",
   "mimetype": "text/x-python",
   "name": "python",
   "nbconvert_exporter": "python",
   "pygments_lexer": "ipython3",
   "version": "3.8.13"
  }
 },
 "nbformat": 4,
 "nbformat_minor": 5
}
