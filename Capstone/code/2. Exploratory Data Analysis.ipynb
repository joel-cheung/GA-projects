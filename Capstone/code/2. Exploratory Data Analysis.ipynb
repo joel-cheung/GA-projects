{
 "cells": [
  {
   "cell_type": "markdown",
   "id": "0e1ffbc6",
   "metadata": {},
   "source": [
    "<img src=\"http://imgur.com/1ZcRyrc.png\" style=\"float: left; margin: 20px; height: 55px\">\n",
    "\n",
    "# Capstone Project - Identifying Offensive Tweets"
   ]
  },
  {
   "cell_type": "markdown",
   "id": "5f936554",
   "metadata": {},
   "source": [
    "# Information"
   ]
  },
  {
   "cell_type": "markdown",
   "id": "2d9c0cb3",
   "metadata": {},
   "source": [
    "This is my capstone project for the General Assembly Data Science Immersive course.\n",
    "\n",
    "This is the second notebook of this project.\n",
    "\n",
    "In this notebook, the steps conducted are:\n",
    "\n",
    "    1. Exploratory Data Analysis"
   ]
  },
  {
   "cell_type": "markdown",
   "id": "92c4812a",
   "metadata": {},
   "source": [
    "**CONTENT WARNING: This project includes content that are sensitive and may be offensive to some viewers. These topics include mentions (many negative) and slurs of race, religion, and gender.**\n",
    "\n",
    "**NOTE: All text information that are used in this project are directly taken from the websites and do not reflect what I believe in. All tags (whether a tweet is racist/sexist, or not) are taken as is from the source.**\n",
    "\n",
    "For the purpose of this project, the offensive tweets of interest are ones that are racist and sexist. \n",
    "\n",
    "Racist tweets are defined as those that have antagonistic sentiments toward certain religious figures or individuals from a religious group, and/or individuals or groups from a certain race. Given the dataset 'classified_tweets' not separating the racist and sacrilegious/blasphemous (anti-religious) tweets, the 'racist' tag will be applied for both categories.\n",
    "\n",
    "Sexist tweets are defined as those that have misogynistic, homophobic, and/or transphobic sentiments."
   ]
  },
  {
   "cell_type": "markdown",
   "id": "a5d65564",
   "metadata": {},
   "source": [
    "# Background"
   ]
  },
  {
   "cell_type": "markdown",
   "id": "157cf96c",
   "metadata": {},
   "source": [
    "Twitter is a micro-blogging social media platform with 217.5 million daily active users globally. With 500 million new tweets (posts) daily, the topics of these tweets varies widely – k-pop, politics, financial news… you name it! Individuals use it for news, entertainment, and discussions, while corporations use them to as a marketing tool to reach out to a wide audience. Given the freedom Twitter accords to its user, Twitter can provide a conducive environment for productive discourse, but this freedom can also be abused, manifesting in the forms of racism and sexism."
   ]
  },
  {
   "cell_type": "markdown",
   "id": "1f86b5f5",
   "metadata": {},
   "source": [
    "# Problem Statement"
   ]
  },
  {
   "cell_type": "markdown",
   "id": "42db16da",
   "metadata": {},
   "source": [
    "With Twitter’s significant income stream coming from advertisers, it is imperative that Twitter keeps a substantial user base. On the other hand, Twitter should maintain a safe space for users and provide some level of checks for the tweets the users put out into the public space, and the first step would be to identify tweets that espouse racist or sexist ideologies, and then Twitter can direct the users to appropriate sources of information where users can learn more about the community that they offend or their subconscious biases so they will be more aware of their racist/sexist tendencies. Thus, to balance, Twitter has to be accurate in filtering inappropriate tweets from innocuous ones, and the kind of inappropriateness of flagged tweets (tag - racist or sexist).\n",
    "\n",
    "F1-scores will be the primary metric as it looks at both precision and recall, each looking at false positives (FPs) and false negatives (FNs) respectively, and is a popular metric for imbalanced data as is the case with the dataset used.\n",
    "\n",
    "For the purpose of explanation, racist tweets are used as the ‘positive’ case.\n",
    "\n",
    "In this context, FPs are the cases where the model erroneously flags out tweets as racist when the tweet is actually innocuous/sexist. FNs are cases where the model erroneously flags out tweets as innocuous/sexist but the tweets are actually racist.\n",
    "\n",
    "There is a need to balance the identification of an offensive tweet when it is indeed offensive and the need to maintain a high level of user experience (something that would be jeopardized when the model erroneously flags innocuous tweets as offensive).\n",
    "\n",
    "Thus, higher F1-score is the preferred metric to assess model performance."
   ]
  },
  {
   "cell_type": "markdown",
   "id": "9c9026d2",
   "metadata": {},
   "source": [
    "# Importing Libraries"
   ]
  },
  {
   "cell_type": "code",
   "execution_count": 1,
   "id": "1e9f669e",
   "metadata": {},
   "outputs": [],
   "source": [
    "# Standard libraries\n",
    "import numpy as np\n",
    "import pandas as pd\n",
    "\n",
    "# Visualization libraries\n",
    "import matplotlib.pyplot as plt\n",
    "import seaborn as sns\n",
    "\n",
    "# For NLP data cleaning and preprocessing\n",
    "import re, string, nltk, itertools\n",
    "from nltk.tokenize import word_tokenize\n",
    "from nltk.corpus import stopwords, wordnet\n",
    "from nltk.stem import WordNetLemmatizer, PorterStemmer\n",
    "from sklearn.feature_extraction.text import CountVectorizer, TfidfVectorizer\n",
    "import demoji\n",
    "\n",
    "# For general preprocessing\n",
    "from sklearn.model_selection import train_test_split"
   ]
  },
  {
   "cell_type": "code",
   "execution_count": 2,
   "id": "736ea6af",
   "metadata": {},
   "outputs": [],
   "source": [
    "# Changing display settings\n",
    "pd.set_option('display.max_colwidth', 100)\n",
    "pd.set_option('display.max_row', 100)"
   ]
  },
  {
   "cell_type": "markdown",
   "id": "0938a3eb",
   "metadata": {},
   "source": [
    "# Importing Datasets"
   ]
  },
  {
   "cell_type": "code",
   "execution_count": 3,
   "id": "4e1f04d8",
   "metadata": {},
   "outputs": [],
   "source": [
    "data = pd.read_csv('../data/data.csv')"
   ]
  },
  {
   "cell_type": "code",
   "execution_count": 4,
   "id": "2a65a060",
   "metadata": {},
   "outputs": [
    {
     "data": {
      "text/plain": [
       "Index(['tag', 'set', 'text', 'word_count'], dtype='object')"
      ]
     },
     "execution_count": 4,
     "metadata": {},
     "output_type": "execute_result"
    }
   ],
   "source": [
    "data.columns"
   ]
  },
  {
   "cell_type": "code",
   "execution_count": 5,
   "id": "507b4823",
   "metadata": {},
   "outputs": [
    {
     "data": {
      "text/html": [
       "<div>\n",
       "<style scoped>\n",
       "    .dataframe tbody tr th:only-of-type {\n",
       "        vertical-align: middle;\n",
       "    }\n",
       "\n",
       "    .dataframe tbody tr th {\n",
       "        vertical-align: top;\n",
       "    }\n",
       "\n",
       "    .dataframe thead th {\n",
       "        text-align: right;\n",
       "    }\n",
       "</style>\n",
       "<table border=\"1\" class=\"dataframe\">\n",
       "  <thead>\n",
       "    <tr style=\"text-align: right;\">\n",
       "      <th></th>\n",
       "      <th>tag</th>\n",
       "      <th>set</th>\n",
       "      <th>text</th>\n",
       "      <th>word_count</th>\n",
       "    </tr>\n",
       "  </thead>\n",
       "  <tbody>\n",
       "    <tr>\n",
       "      <th>0</th>\n",
       "      <td>0</td>\n",
       "      <td>train</td>\n",
       "      <td>word katandandre food crapilicious mkr</td>\n",
       "      <td>5</td>\n",
       "    </tr>\n",
       "    <tr>\n",
       "      <th>1</th>\n",
       "      <td>0</td>\n",
       "      <td>train</td>\n",
       "      <td>aussietv white mkr theblock imacelebrityau today sunrise studio10 neighbour wonderlandten etc</td>\n",
       "      <td>11</td>\n",
       "    </tr>\n",
       "    <tr>\n",
       "      <th>2</th>\n",
       "      <td>0</td>\n",
       "      <td>train</td>\n",
       "      <td>classy whore red velvet cupcake</td>\n",
       "      <td>5</td>\n",
       "    </tr>\n",
       "    <tr>\n",
       "      <th>3</th>\n",
       "      <td>0</td>\n",
       "      <td>train</td>\n",
       "      <td>meh p thanks head concerned another angry dude twitter</td>\n",
       "      <td>9</td>\n",
       "    </tr>\n",
       "    <tr>\n",
       "      <th>4</th>\n",
       "      <td>0</td>\n",
       "      <td>train</td>\n",
       "      <td>isi account pretend kurdish account like islam lie</td>\n",
       "      <td>8</td>\n",
       "    </tr>\n",
       "  </tbody>\n",
       "</table>\n",
       "</div>"
      ],
      "text/plain": [
       "   tag    set  \\\n",
       "0    0  train   \n",
       "1    0  train   \n",
       "2    0  train   \n",
       "3    0  train   \n",
       "4    0  train   \n",
       "\n",
       "                                                                                            text  \\\n",
       "0                                                         word katandandre food crapilicious mkr   \n",
       "1  aussietv white mkr theblock imacelebrityau today sunrise studio10 neighbour wonderlandten etc   \n",
       "2                                                                classy whore red velvet cupcake   \n",
       "3                                         meh p thanks head concerned another angry dude twitter   \n",
       "4                                             isi account pretend kurdish account like islam lie   \n",
       "\n",
       "   word_count  \n",
       "0           5  \n",
       "1          11  \n",
       "2           5  \n",
       "3           9  \n",
       "4           8  "
      ]
     },
     "execution_count": 5,
     "metadata": {},
     "output_type": "execute_result"
    }
   ],
   "source": [
    "data.head()"
   ]
  },
  {
   "cell_type": "code",
   "execution_count": 6,
   "id": "ffbde07c",
   "metadata": {},
   "outputs": [
    {
     "name": "stdout",
     "output_type": "stream",
     "text": [
      "<class 'pandas.core.frame.DataFrame'>\n",
      "RangeIndex: 51811 entries, 0 to 51810\n",
      "Data columns (total 4 columns):\n",
      " #   Column      Non-Null Count  Dtype \n",
      "---  ------      --------------  ----- \n",
      " 0   tag         51811 non-null  int64 \n",
      " 1   set         51811 non-null  object\n",
      " 2   text        51426 non-null  object\n",
      " 3   word_count  51811 non-null  int64 \n",
      "dtypes: int64(2), object(2)\n",
      "memory usage: 1.6+ MB\n"
     ]
    }
   ],
   "source": [
    "data.info()"
   ]
  },
  {
   "cell_type": "code",
   "execution_count": 7,
   "id": "463b1618",
   "metadata": {},
   "outputs": [],
   "source": [
    "# Splitting for analysis\n",
    "train = data.loc[data['set'] == 'train']\n",
    "test = data.loc[data['set'] == 'test']"
   ]
  },
  {
   "cell_type": "code",
   "execution_count": 8,
   "id": "b5c5015d",
   "metadata": {},
   "outputs": [
    {
     "name": "stdout",
     "output_type": "stream",
     "text": [
      "(31877, 4)\n",
      "(19934, 4)\n"
     ]
    }
   ],
   "source": [
    "print(train.shape)\n",
    "print(test.shape)"
   ]
  },
  {
   "cell_type": "code",
   "execution_count": 9,
   "id": "7db5ce9f",
   "metadata": {},
   "outputs": [],
   "source": [
    "# Removing tweets with low word (cleaned) count\n",
    "train = train.loc[train['word_count'] >= 4]"
   ]
  },
  {
   "cell_type": "code",
   "execution_count": 10,
   "id": "825be233",
   "metadata": {},
   "outputs": [
    {
     "name": "stdout",
     "output_type": "stream",
     "text": [
      "<class 'pandas.core.frame.DataFrame'>\n",
      "Int64Index: 29747 entries, 0 to 31876\n",
      "Data columns (total 4 columns):\n",
      " #   Column      Non-Null Count  Dtype \n",
      "---  ------      --------------  ----- \n",
      " 0   tag         29747 non-null  int64 \n",
      " 1   set         29747 non-null  object\n",
      " 2   text        29747 non-null  object\n",
      " 3   word_count  29747 non-null  int64 \n",
      "dtypes: int64(2), object(2)\n",
      "memory usage: 1.1+ MB\n"
     ]
    }
   ],
   "source": [
    "train.info()"
   ]
  },
  {
   "cell_type": "markdown",
   "id": "724ffdbf",
   "metadata": {},
   "source": [
    "There are 29747 remaining tweets in the train dataset after removing for cleaned tweets containing 3 or fewer words."
   ]
  },
  {
   "cell_type": "markdown",
   "id": "f5a1c21a",
   "metadata": {},
   "source": [
    "# Reducing Train Dataset Size\n",
    "\n",
    "This is done due to computing resource limitations. This reduction is executed by randomly reducing 50% of tweets from each category.\n",
    "\n",
    "This reduction would maintain the proportion of each tag in the train dataset."
   ]
  },
  {
   "cell_type": "code",
   "execution_count": 11,
   "id": "7f25cd98",
   "metadata": {},
   "outputs": [
    {
     "data": {
      "text/plain": [
       "1    0.529902\n",
       "2    0.253673\n",
       "0    0.216425\n",
       "Name: tag, dtype: float64"
      ]
     },
     "execution_count": 11,
     "metadata": {},
     "output_type": "execute_result"
    }
   ],
   "source": [
    "# Looking at original weights of each tag\n",
    "train['tag'].value_counts(normalize = True)"
   ]
  },
  {
   "cell_type": "code",
   "execution_count": 12,
   "id": "970160f5",
   "metadata": {},
   "outputs": [],
   "source": [
    "X = train[['set','text','word_count']]\n",
    "y = train['tag']"
   ]
  },
  {
   "cell_type": "code",
   "execution_count": 13,
   "id": "07bd17ca",
   "metadata": {},
   "outputs": [],
   "source": [
    "# Conducting 'train/test split' so that dataset will be downsized whilst keeping proportion of tags\n",
    "# Will be using the 'test' set as the new train dataset\n",
    "X_train, X_test, y_train, y_test = train_test_split(X, y, test_size = 0.5, stratify = y)"
   ]
  },
  {
   "cell_type": "code",
   "execution_count": 14,
   "id": "c70d5441",
   "metadata": {},
   "outputs": [
    {
     "name": "stdout",
     "output_type": "stream",
     "text": [
      "(14874,)\n",
      "(14874, 3)\n"
     ]
    }
   ],
   "source": [
    "print(y_test.shape)\n",
    "print(X_test.shape)"
   ]
  },
  {
   "cell_type": "code",
   "execution_count": 15,
   "id": "647e8aeb",
   "metadata": {},
   "outputs": [
    {
     "data": {
      "text/plain": [
       "1    0.529918\n",
       "2    0.253664\n",
       "0    0.216418\n",
       "Name: tag, dtype: float64"
      ]
     },
     "execution_count": 15,
     "metadata": {},
     "output_type": "execute_result"
    }
   ],
   "source": [
    "y_test.value_counts(normalize = True)"
   ]
  },
  {
   "cell_type": "code",
   "execution_count": 16,
   "id": "ff5b3c51",
   "metadata": {},
   "outputs": [],
   "source": [
    "# Reconstruct reduced dataset\n",
    "train = pd.concat([y_test, X_test], axis = 1)"
   ]
  },
  {
   "cell_type": "code",
   "execution_count": 17,
   "id": "fccdf433",
   "metadata": {},
   "outputs": [
    {
     "data": {
      "text/html": [
       "<div>\n",
       "<style scoped>\n",
       "    .dataframe tbody tr th:only-of-type {\n",
       "        vertical-align: middle;\n",
       "    }\n",
       "\n",
       "    .dataframe tbody tr th {\n",
       "        vertical-align: top;\n",
       "    }\n",
       "\n",
       "    .dataframe thead th {\n",
       "        text-align: right;\n",
       "    }\n",
       "</style>\n",
       "<table border=\"1\" class=\"dataframe\">\n",
       "  <thead>\n",
       "    <tr style=\"text-align: right;\">\n",
       "      <th></th>\n",
       "      <th>tag</th>\n",
       "      <th>set</th>\n",
       "      <th>text</th>\n",
       "      <th>word_count</th>\n",
       "    </tr>\n",
       "  </thead>\n",
       "  <tbody>\n",
       "    <tr>\n",
       "      <th>13101</th>\n",
       "      <td>2</td>\n",
       "      <td>train</td>\n",
       "      <td>way insult direct man unflattering hat worn predominantly men meant ins…</td>\n",
       "      <td>11</td>\n",
       "    </tr>\n",
       "    <tr>\n",
       "      <th>20352</th>\n",
       "      <td>1</td>\n",
       "      <td>train</td>\n",
       "      <td>ordinary muslim idiot person like know make sure qur’an muslim nothing claim jihad come back tal...</td>\n",
       "      <td>21</td>\n",
       "    </tr>\n",
       "    <tr>\n",
       "      <th>16034</th>\n",
       "      <td>1</td>\n",
       "      <td>train</td>\n",
       "      <td>give buildup sweeden government idiotu behave like allrounder see reach god know many fake news ...</td>\n",
       "      <td>29</td>\n",
       "    </tr>\n",
       "    <tr>\n",
       "      <th>5038</th>\n",
       "      <td>0</td>\n",
       "      <td>train</td>\n",
       "      <td>sure pot cooked hot mkr killerblondes abarmezh86</td>\n",
       "      <td>7</td>\n",
       "    </tr>\n",
       "    <tr>\n",
       "      <th>23824</th>\n",
       "      <td>1</td>\n",
       "      <td>train</td>\n",
       "      <td>christian part palestinian kill driven palestinian muslim</td>\n",
       "      <td>7</td>\n",
       "    </tr>\n",
       "  </tbody>\n",
       "</table>\n",
       "</div>"
      ],
      "text/plain": [
       "       tag    set  \\\n",
       "13101    2  train   \n",
       "20352    1  train   \n",
       "16034    1  train   \n",
       "5038     0  train   \n",
       "23824    1  train   \n",
       "\n",
       "                                                                                                      text  \\\n",
       "13101                             way insult direct man unflattering hat worn predominantly men meant ins…   \n",
       "20352  ordinary muslim idiot person like know make sure qur’an muslim nothing claim jihad come back tal...   \n",
       "16034  give buildup sweeden government idiotu behave like allrounder see reach god know many fake news ...   \n",
       "5038                                                      sure pot cooked hot mkr killerblondes abarmezh86   \n",
       "23824                                            christian part palestinian kill driven palestinian muslim   \n",
       "\n",
       "       word_count  \n",
       "13101          11  \n",
       "20352          21  \n",
       "16034          29  \n",
       "5038            7  \n",
       "23824           7  "
      ]
     },
     "execution_count": 17,
     "metadata": {},
     "output_type": "execute_result"
    }
   ],
   "source": [
    "train.head()"
   ]
  },
  {
   "cell_type": "markdown",
   "id": "dff1164f",
   "metadata": {},
   "source": [
    "# Tweet Length Analysis\n",
    "\n",
    "The following plots are based on the train (seen) dataset."
   ]
  },
  {
   "cell_type": "code",
   "execution_count": 18,
   "id": "5f41ea7a",
   "metadata": {},
   "outputs": [
    {
     "data": {
      "image/png": "[encoded data removed]",
      "text/plain": [
       "<Figure size 1296x576 with 1 Axes>"
      ]
     },
     "metadata": {
      "needs_background": "light"
     },
     "output_type": "display_data"
    }
   ],
   "source": [
    "# Plotting for tweets word count\n",
    "plt.figure(figsize = (18,8))\n",
    "ax = sns.countplot(x = 'word_count', data = train, palette = 'magma')\n",
    "plt.title('Tweet Count Length', fontsize = 20)\n",
    "plt.yticks([])\n",
    "ax.bar_label(ax.containers[0])\n",
    "plt.ylabel('count')\n",
    "plt.xlabel('')\n",
    "plt.savefig('../data/tweet_count_length.jpg', bbox_inches='tight')\n",
    "plt.show();"
   ]
  },
  {
   "cell_type": "markdown",
   "id": "4c6e2cb3",
   "metadata": {},
   "source": [
    "# Preprocessing for Word n-gram EDA\n",
    "\n",
    "This preprocessing step is for plotting purposes. The preproccessing method transforms the text columns into BagofWords using CountVectoizer as it is just a simple count of each unique word that is plotted."
   ]
  },
  {
   "cell_type": "code",
   "execution_count": 19,
   "id": "c67538fd",
   "metadata": {},
   "outputs": [],
   "source": [
    "# Instantiating CountVectorizers\n",
    "\n",
    "# unigram\n",
    "cv1 = CountVectorizer()\n",
    "\n",
    "# bigram\n",
    "cv2 = CountVectorizer(ngram_range = (2, 2))\n",
    "\n",
    "# trigram\n",
    "cv3 = CountVectorizer(ngram_range = (3, 3))"
   ]
  },
  {
   "cell_type": "markdown",
   "id": "ae74b32c",
   "metadata": {},
   "source": [
    "### Unigram"
   ]
  },
  {
   "cell_type": "code",
   "execution_count": 20,
   "id": "36a1fbfb",
   "metadata": {},
   "outputs": [],
   "source": [
    "# Preprocessing for unigram\n",
    "cv1.fit(train['text'])\n",
    "\n",
    "train_cv1_racism = cv1.transform(train['text'][train['tag'] == 1])\n",
    "train_cv1_sexism = cv1.transform(train['text'][train['tag'] == 2])\n",
    "train_cv1_racism_df = pd.DataFrame(train_cv1_racism.todense(), columns = cv1.get_feature_names_out())\n",
    "train_cv1_sexism_df = pd.DataFrame(train_cv1_sexism.todense(), columns = cv1.get_feature_names_out())"
   ]
  },
  {
   "cell_type": "markdown",
   "id": "d5d3374d",
   "metadata": {},
   "source": [
    "### Bigram"
   ]
  },
  {
   "cell_type": "code",
   "execution_count": 21,
   "id": "6023306b",
   "metadata": {},
   "outputs": [],
   "source": [
    "# Preprocessing for bigram\n",
    "cv2.fit(train['text'])\n",
    "\n",
    "train_cv2_racism = cv2.transform(train['text'][train['tag'] == 1])\n",
    "train_cv2_sexism = cv2.transform(train['text'][train['tag'] == 2])\n",
    "train_cv2_racism_df = pd.DataFrame(train_cv2_racism.todense(), columns = cv2.get_feature_names_out())\n",
    "train_cv2_sexism_df = pd.DataFrame(train_cv2_sexism.todense(), columns = cv2.get_feature_names_out())"
   ]
  },
  {
   "cell_type": "markdown",
   "id": "8a985fc5",
   "metadata": {},
   "source": [
    "### Trigram"
   ]
  },
  {
   "cell_type": "code",
   "execution_count": 22,
   "id": "bf9eeae4",
   "metadata": {},
   "outputs": [],
   "source": [
    "# Preprocessing for trigram\n",
    "cv3.fit(train['text'])\n",
    "\n",
    "train_cv3_racism = cv3.transform(train['text'][train['tag'] == 1])\n",
    "train_cv3_sexism = cv3.transform(train['text'][train['tag'] == 2])\n",
    "train_cv3_racism_df = pd.DataFrame(train_cv3_racism.todense(), columns = cv3.get_feature_names_out())\n",
    "train_cv3_sexism_df = pd.DataFrame(train_cv3_sexism.todense(), columns = cv3.get_feature_names_out())"
   ]
  },
  {
   "cell_type": "markdown",
   "id": "98c9386c",
   "metadata": {},
   "source": [
    "# Word n-gram Analysis"
   ]
  },
  {
   "cell_type": "markdown",
   "id": "17589ab4",
   "metadata": {},
   "source": [
    "### Unigram"
   ]
  },
  {
   "cell_type": "code",
   "execution_count": 23,
   "id": "863aab97",
   "metadata": {},
   "outputs": [
    {
     "data": {
      "image/png": "[encoded data removed]",
      "text/plain": [
       "<Figure size 1080x576 with 2 Axes>"
      ]
     },
     "metadata": {
      "needs_background": "light"
     },
     "output_type": "display_data"
    }
   ],
   "source": [
    "# Plotting the top 20 commonly observed unigram\n",
    "fig, ax = plt.subplots(nrows = 1, ncols = 2, sharex = True, figsize = (15,8))\n",
    "ax = ax.ravel()\n",
    "\n",
    "plt.subplots_adjust(hspace = 0.1)\n",
    "\n",
    "# Setting up plot for sexism\n",
    "train_cv1_racism_df.sum().sort_values(ascending = True).tail(20).plot(kind = 'barh',ax = ax[0])\n",
    "ax[0].set_title('Top 20 Most Commonly Observed Unigrams flagged as racist')\n",
    "ax[0].set_xlabel('Count')\n",
    "\n",
    "# Setting up plot for racism\n",
    "train_cv1_sexism_df.sum().sort_values(ascending = True).tail(20).plot(kind = 'barh',ax = ax[1])\n",
    "ax[1].set_title('Top 20 Most Commonly Observed Unigrams flagged as sexist')\n",
    "ax[1].set_xlabel('Count')\n",
    "\n",
    "plt.savefig('../data/word_unigram.jpg', bbox_inches = 'tight');"
   ]
  },
  {
   "cell_type": "markdown",
   "id": "fc22fef1",
   "metadata": {},
   "source": [
    "For the unigrams from tweets flagged as racist, there are:\n",
    "- expletive: fuck\n",
    "- mentions of race: white, black (with the n-word slur)\n",
    "- insult: dumb\n",
    "- mentions of Abrahamic faith: muslim, christian\n",
    "- mentions of extremism: terrorist\n",
    "\n",
    "For the unigrams from tweets flagged as sexist, there are:\n",
    "- mentions of sexual assault: rape\n",
    "- mentions of gender: woman, female, men, girl\n",
    "- insult: dumb\n",
    "- mentions of sexuality: gay\n",
    "- mentions of mkr - stands for My Kitchen Rules, an Australian competitive cooking game show that has shown scenes where contestants hurled sexist remarks to female contestants, and where discussions online has garnered significant misogynistic sentiments\n",
    "- expletive: fuck"
   ]
  },
  {
   "cell_type": "markdown",
   "id": "a7ed06d6",
   "metadata": {},
   "source": [
    "### Bigram"
   ]
  },
  {
   "cell_type": "code",
   "execution_count": 24,
   "id": "56b15667",
   "metadata": {},
   "outputs": [
    {
     "data": {
      "image/png": "[encoded data removed]",
      "text/plain": [
       "<Figure size 1080x576 with 2 Axes>"
      ]
     },
     "metadata": {
      "needs_background": "light"
     },
     "output_type": "display_data"
    }
   ],
   "source": [
    "# Plotting the top 20 commonly observed bigram\n",
    "fig, ax = plt.subplots(nrows = 1, ncols = 2, sharex = True, figsize = (15,8))\n",
    "ax = ax.ravel()\n",
    "\n",
    "plt.subplots_adjust(hspace = 0.1)\n",
    "\n",
    "# Setting up plot for sexism\n",
    "train_cv2_racism_df.sum().sort_values(ascending = True).tail(20).plot(kind = 'barh',ax = ax[0])\n",
    "ax[0].set_title('Top 20 Most Commonly Observed Bigrams flagged as racist')\n",
    "ax[0].set_xlabel('Count')\n",
    "\n",
    "# Setting up plot for racism\n",
    "train_cv2_sexism_df.sum().sort_values(ascending = True).tail(20).plot(kind = 'barh',ax = ax[1])\n",
    "ax[1].set_title('Top 20 Most Commonly Observed Bigrams flagged as sexist')\n",
    "ax[1].set_xlabel('Count')\n",
    "\n",
    "plt.savefig('../data/word_bigram.jpg', bbox_inches = 'tight');"
   ]
  },
  {
   "cell_type": "markdown",
   "id": "b703ba71",
   "metadata": {},
   "source": [
    "For the bigrams from tweets flagged as racist, there are:\n",
    "- directed insults: dumb and fuck found before and after the mention of the n-word -  this gives us more information on the recipient of most racist tweets\n",
    "- attack on polical figures: fuck obama - Barack Obama is the first black President of the United States, another attack on the black community\n",
    "- mentions of other demography: christian woman, white people - this gives us more information about the other profiles of people involved in racist tweets\n",
    "- links to religious extremism: islamic terrorism, radical islamic - the extremism mentioned in tweets are those relating to islam\n",
    "\n",
    "For bigrams from tweets flagged as sexist, there are:\n",
    "- downplaying/dismissal of severe/sensitive topics: permutations and combinations of the words 'rape', 'gay', joke'\n",
    "- mention of celebrity: miley cyrus - an American singer-songwriter who was in the spotlight for making a date-rape joke at a club gig"
   ]
  },
  {
   "cell_type": "markdown",
   "id": "3093733b",
   "metadata": {},
   "source": [
    "### Trigram"
   ]
  },
  {
   "cell_type": "code",
   "execution_count": 25,
   "id": "752c4259",
   "metadata": {},
   "outputs": [
    {
     "data": {
      "image/png": "[encoded data removed]",
      "text/plain": [
       "<Figure size 1080x576 with 2 Axes>"
      ]
     },
     "metadata": {
      "needs_background": "light"
     },
     "output_type": "display_data"
    }
   ],
   "source": [
    "# Plotting the top 20 commonly observed trigram\n",
    "fig, ax = plt.subplots(nrows = 1, ncols = 2, sharex = True, figsize = (15,8))\n",
    "ax = ax.ravel()\n",
    "\n",
    "plt.subplots_adjust(hspace = 0.1)\n",
    "\n",
    "# Setting up plot for sexism\n",
    "train_cv3_racism_df.sum().sort_values(ascending = True).tail(20).plot(kind = 'barh',ax = ax[0])\n",
    "ax[0].set_title('Top 20 Most Commonly Observed Trigrams flagged as racist')\n",
    "ax[0].set_xlabel('Count')\n",
    "\n",
    "# Setting up plot for racism\n",
    "train_cv3_sexism_df.sum().sort_values(ascending = True).tail(20).plot(kind = 'barh',ax = ax[1])\n",
    "ax[1].set_title('Top 20 Most Commonly Observed Trigrams flagged as sexist')\n",
    "ax[1].set_xlabel('Count')\n",
    "\n",
    "plt.savefig('../data/word_trigram.jpg', bbox_inches = 'tight');"
   ]
  },
  {
   "cell_type": "markdown",
   "id": "efd9f6b1",
   "metadata": {},
   "source": [
    "For the trigrams from tweets flagged as racist, there is not much additional information we can gather that we did not from bigrams, though an additional piece of information uncovered here is the mention of black life matter, which is a decentralized political and social movement that strives to highlight the discrimination, racism, and inequality that the black community face.\n",
    "\n",
    "For the trigrams from tweets flagged as sexist, there is also not much additional information we can gather that are not already seen from bigrams."
   ]
  },
  {
   "cell_type": "markdown",
   "id": "222ba503",
   "metadata": {},
   "source": [
    "# Exporting Dataset"
   ]
  },
  {
   "cell_type": "code",
   "execution_count": 26,
   "id": "35a615ce",
   "metadata": {},
   "outputs": [
    {
     "data": {
      "text/plain": [
       "(34808, 4)"
      ]
     },
     "execution_count": 26,
     "metadata": {},
     "output_type": "execute_result"
    }
   ],
   "source": [
    "# Combining reduced train dataset with test set\n",
    "data = pd.concat([train, test], axis = 0)\n",
    "data.shape"
   ]
  },
  {
   "cell_type": "code",
   "execution_count": 27,
   "id": "bf9685df",
   "metadata": {},
   "outputs": [],
   "source": [
    "# Dropping word_count column\n",
    "data = data.drop(columns = 'word_count')\n",
    "\n",
    "# Exporting\n",
    "data.to_csv('../data/data_v1.csv', index = False)"
   ]
  }
 ],
 "metadata": {
  "kernelspec": {
   "display_name": "Python 3 (ipykernel)",
   "language": "python",
   "name": "python3"
  },
  "language_info": {
   "codemirror_mode": {
    "name": "ipython",
    "version": 3
   },
   "file_extension": ".py",
   "mimetype": "text/x-python",
   "name": "python",
   "nbconvert_exporter": "python",
   "pygments_lexer": "ipython3",
   "version": "3.8.13"
  }
 },
 "nbformat": 4,
 "nbformat_minor": 5
}
