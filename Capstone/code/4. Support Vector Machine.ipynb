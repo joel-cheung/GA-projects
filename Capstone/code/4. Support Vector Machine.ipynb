{
 "cells": [
  {
   "cell_type": "markdown",
   "id": "0e1ffbc6",
   "metadata": {
    "id": "0e1ffbc6"
   },
   "source": [
    "<img src=\"http://imgur.com/1ZcRyrc.png\" style=\"float: left; margin: 20px; height: 55px\">\n",
    "\n",
    "# Capstone Project - Identifying Offensive Tweets"
   ]
  },
  {
   "cell_type": "markdown",
   "id": "5f936554",
   "metadata": {
    "id": "5f936554"
   },
   "source": [
    "# Information"
   ]
  },
  {
   "cell_type": "markdown",
   "id": "2d9c0cb3",
   "metadata": {
    "id": "2d9c0cb3"
   },
   "source": [
    "This is my capstone project for the General Assembly Data Science Immersive course.\n",
    "\n",
    "This is the fourth notebook of this project.\n",
    "\n",
    "In this notebook, the steps conducted are:\n",
    "\n",
    "    1. Modelling - Support Vector Machine (SVM)\n",
    "    \n",
    "Model is done with hyperparameter tuning."
   ]
  },
  {
   "cell_type": "markdown",
   "id": "92c4812a",
   "metadata": {
    "id": "92c4812a"
   },
   "source": [
    "**CONTENT WARNING: This project includes content that are sensitive and may be offensive to some viewers. These topics include mentions (many negative) and slurs of race, religion, and gender.**\n",
    "\n",
    "**NOTE: All text information that are used in this project are directly taken from the websites and do not reflect what I believe in. All tags (whether a tweet is racist/sexist, or not) are taken as is from the source.**\n",
    "\n",
    "For the purpose of this project, the offensive tweets of interest are ones that are racist and sexist. \n",
    "\n",
    "Racist tweets are defined as those that have antagonistic sentiments toward certain religious figures or individuals from a religious group, and/or individuals or groups from a certain race. Given the dataset 'classified_tweets' not separating the racist and sacrilegious/blasphemous (anti-religious) tweets, the 'racist' tag will be applied for both categories.\n",
    "\n",
    "Sexist tweets are defined as those that have misogynistic, homophobic, and/or transphobic sentiments."
   ]
  },
  {
   "cell_type": "markdown",
   "id": "a5d65564",
   "metadata": {
    "id": "a5d65564"
   },
   "source": [
    "# Background"
   ]
  },
  {
   "cell_type": "markdown",
   "id": "157cf96c",
   "metadata": {
    "id": "157cf96c"
   },
   "source": [
    "Twitter is a micro-blogging social media platform with 217.5 million daily active users globally. With 500 million new tweets (posts) daily, the topics of these tweets varies widely – k-pop, politics, financial news… you name it! Individuals use it for news, entertainment, and discussions, while corporations use them to as a marketing tool to reach out to a wide audience. Given the freedom Twitter accords to its user, Twitter can provide a conducive environment for productive discourse, but this freedom can also be abused, manifesting in the forms of racism and sexism."
   ]
  },
  {
   "cell_type": "markdown",
   "id": "1f86b5f5",
   "metadata": {
    "id": "1f86b5f5"
   },
   "source": [
    "# Problem Statement"
   ]
  },
  {
   "cell_type": "markdown",
   "id": "42db16da",
   "metadata": {
    "id": "42db16da"
   },
   "source": [
    "With Twitter’s significant income stream coming from advertisers, it is imperative that Twitter keeps a substantial user base. On the other hand, Twitter should maintain a safe space for users and provide some level of checks for the tweets the users put out into the public space, and the first step would be to identify tweets that espouse racist or sexist ideologies, and then Twitter can direct the users to appropriate sources of information where users can learn more about the community that they offend or their subconscious biases so they will be more aware of their racist/sexist tendencies. Thus, to balance, Twitter has to be accurate in filtering inappropriate tweets from innocuous ones, and the kind of inappropriateness of flagged tweets (tag - racist or sexist).\n",
    "\n",
    "F1-scores will be the primary metric as it looks at both precision and recall, each looking at false positives (FPs) and false negatives (FNs) respectively, and is a popular metric for imbalanced data as is the case with the dataset used.\n",
    "\n",
    "For the purpose of explanation, racist tweets are used as the ‘positive’ case.\n",
    "\n",
    "In this context, FPs are the cases where the model erroneously flags out tweets as racist when the tweet is actually innocuous/sexist. FNs are cases where the model erroneously flags out tweets as innocuous/sexist but the tweets are actually racist.\n",
    "\n",
    "There is a need to balance the identification of an offensive tweet when it is indeed offensive and the need to maintain a high level of user experience (something that would be jeopardized when the model erroneously flags innocuous tweets as offensive).\n",
    "\n",
    "Thus, higher F1-score is the preferred metric to assess model performance."
   ]
  },
  {
   "cell_type": "markdown",
   "id": "9c9026d2",
   "metadata": {
    "id": "9c9026d2"
   },
   "source": [
    "# Importing Libraries"
   ]
  },
  {
   "cell_type": "code",
   "execution_count": null,
   "id": "1e9f669e",
   "metadata": {
    "id": "1e9f669e"
   },
   "outputs": [],
   "source": [
    "# Standard libraries\n",
    "import numpy as np\n",
    "import pandas as pd\n",
    "\n",
    "# For visualization\n",
    "import matplotlib.pyplot as plt\n",
    "import seaborn as sns\n",
    "\n",
    "# For NLP data cleaning and preprocessing\n",
    "import re, string, nltk, itertools\n",
    "from nltk.tokenize import word_tokenize\n",
    "from nltk.stem import WordNetLemmatizer, PorterStemmer\n",
    "from sklearn.feature_extraction.text import CountVectorizer, TfidfVectorizer\n",
    "\n",
    "# Pickle to save model\n",
    "import pickle\n",
    "\n",
    "# For NLP Machine Learning processes\n",
    "from sklearn.model_selection import train_test_split, cross_val_score, GridSearchCV\n",
    "from imblearn.over_sampling import RandomOverSampler, SMOTE\n",
    "\n",
    "# Pipeline\n",
    "from imblearn.pipeline import Pipeline\n",
    "\n",
    "# Support Vector Machine\n",
    "from sklearn.svm import SVC\n",
    "\n",
    "# Evaluation Metrics\n",
    "from sklearn.metrics import accuracy_score, f1_score, precision_score, recall_score\n",
    "from sklearn.metrics import roc_auc_score, roc_curve, plot_roc_curve, RocCurveDisplay\n",
    "from sklearn.metrics import confusion_matrix, ConfusionMatrixDisplay, classification_report, plot_confusion_matrix\n",
    "\n",
    "import warnings\n",
    "warnings.filterwarnings('ignore')"
   ]
  },
  {
   "cell_type": "code",
   "execution_count": null,
   "id": "736ea6af",
   "metadata": {
    "id": "736ea6af"
   },
   "outputs": [],
   "source": [
    "# Changing display settings\n",
    "pd.set_option('display.max_colwidth', 100)\n",
    "pd.set_option('display.max_row', 100)"
   ]
  },
  {
   "cell_type": "markdown",
   "id": "0938a3eb",
   "metadata": {
    "id": "0938a3eb"
   },
   "source": [
    "# Importing Dataset"
   ]
  },
  {
   "cell_type": "code",
   "execution_count": null,
   "id": "nQv3eFaG39Fx",
   "metadata": {
    "colab": {
     "base_uri": "https://localhost:8080/"
    },
    "executionInfo": {
     "elapsed": 25055,
     "status": "ok",
     "timestamp": 1660977899195,
     "user": {
      "displayName": "Joel",
      "userId": "13831783905850790679"
     },
     "user_tz": -480
    },
    "id": "nQv3eFaG39Fx",
    "outputId": "6cb24839-09da-464d-ca49-45380dda5fef"
   },
   "outputs": [
    {
     "name": "stdout",
     "output_type": "stream",
     "text": [
      "Mounted at /content/drive\n"
     ]
    }
   ],
   "source": [
    "from google.colab import drive\n",
    "drive.mount('/content/drive')"
   ]
  },
  {
   "cell_type": "code",
   "execution_count": null,
   "id": "4e1f04d8",
   "metadata": {
    "id": "4e1f04d8"
   },
   "outputs": [],
   "source": [
    "data = pd.read_csv('/content/drive/MyDrive/Capstone/data/data_v1.csv')"
   ]
  },
  {
   "cell_type": "code",
   "execution_count": null,
   "id": "507b4823",
   "metadata": {
    "colab": {
     "base_uri": "https://localhost:8080/",
     "height": 206
    },
    "executionInfo": {
     "elapsed": 49,
     "status": "ok",
     "timestamp": 1660977900766,
     "user": {
      "displayName": "Joel",
      "userId": "13831783905850790679"
     },
     "user_tz": -480
    },
    "id": "507b4823",
    "outputId": "6bafcb2f-09d5-4bcb-a335-2313435d899f"
   },
   "outputs": [
    {
     "data": {
      "text/html": [
       "\n",
       "  <div id=\"df-8b344b81-b5e7-41af-a0b6-5bb895507d0a\">\n",
       "    <div class=\"colab-df-container\">\n",
       "      <div>\n",
       "<style scoped>\n",
       "    .dataframe tbody tr th:only-of-type {\n",
       "        vertical-align: middle;\n",
       "    }\n",
       "\n",
       "    .dataframe tbody tr th {\n",
       "        vertical-align: top;\n",
       "    }\n",
       "\n",
       "    .dataframe thead th {\n",
       "        text-align: right;\n",
       "    }\n",
       "</style>\n",
       "<table border=\"1\" class=\"dataframe\">\n",
       "  <thead>\n",
       "    <tr style=\"text-align: right;\">\n",
       "      <th></th>\n",
       "      <th>tag</th>\n",
       "      <th>set</th>\n",
       "      <th>text</th>\n",
       "    </tr>\n",
       "  </thead>\n",
       "  <tbody>\n",
       "    <tr>\n",
       "      <th>0</th>\n",
       "      <td>2</td>\n",
       "      <td>train</td>\n",
       "      <td>way insult direct man unflattering hat worn predominantly men meant ins…</td>\n",
       "    </tr>\n",
       "    <tr>\n",
       "      <th>1</th>\n",
       "      <td>1</td>\n",
       "      <td>train</td>\n",
       "      <td>ordinary muslim idiot person like know make sure qur’an muslim nothing claim jihad come back tal...</td>\n",
       "    </tr>\n",
       "    <tr>\n",
       "      <th>2</th>\n",
       "      <td>1</td>\n",
       "      <td>train</td>\n",
       "      <td>give buildup sweeden government idiotu behave like allrounder see reach god know many fake news ...</td>\n",
       "    </tr>\n",
       "    <tr>\n",
       "      <th>3</th>\n",
       "      <td>0</td>\n",
       "      <td>train</td>\n",
       "      <td>sure pot cooked hot mkr killerblondes abarmezh86</td>\n",
       "    </tr>\n",
       "    <tr>\n",
       "      <th>4</th>\n",
       "      <td>1</td>\n",
       "      <td>train</td>\n",
       "      <td>christian part palestinian kill driven palestinian muslim</td>\n",
       "    </tr>\n",
       "  </tbody>\n",
       "</table>\n",
       "</div>\n",
       "      <button class=\"colab-df-convert\" onclick=\"convertToInteractive('df-8b344b81-b5e7-41af-a0b6-5bb895507d0a')\"\n",
       "              title=\"Convert this dataframe to an interactive table.\"\n",
       "              style=\"display:none;\">\n",
       "        \n",
       "  <svg xmlns=\"http://www.w3.org/2000/svg\" height=\"24px\"viewBox=\"0 0 24 24\"\n",
       "       width=\"24px\">\n",
       "    <path d=\"M0 0h24v24H0V0z\" fill=\"none\"/>\n",
       "    <path d=\"M18.56 5.44l.94 2.06.94-2.06 2.06-.94-2.06-.94-.94-2.06-.94 2.06-2.06.94zm-11 1L8.5 8.5l.94-2.06 2.06-.94-2.06-.94L8.5 2.5l-.94 2.06-2.06.94zm10 10l.94 2.06.94-2.06 2.06-.94-2.06-.94-.94-2.06-.94 2.06-2.06.94z\"/><path d=\"M17.41 7.96l-1.37-1.37c-.4-.4-.92-.59-1.43-.59-.52 0-1.04.2-1.43.59L10.3 9.45l-7.72 7.72c-.78.78-.78 2.05 0 2.83L4 21.41c.39.39.9.59 1.41.59.51 0 1.02-.2 1.41-.59l7.78-7.78 2.81-2.81c.8-.78.8-2.07 0-2.86zM5.41 20L4 18.59l7.72-7.72 1.47 1.35L5.41 20z\"/>\n",
       "  </svg>\n",
       "      </button>\n",
       "      \n",
       "  <style>\n",
       "    .colab-df-container {\n",
       "      display:flex;\n",
       "      flex-wrap:wrap;\n",
       "      gap: 12px;\n",
       "    }\n",
       "\n",
       "    .colab-df-convert {\n",
       "      background-color: #E8F0FE;\n",
       "      border: none;\n",
       "      border-radius: 50%;\n",
       "      cursor: pointer;\n",
       "      display: none;\n",
       "      fill: #1967D2;\n",
       "      height: 32px;\n",
       "      padding: 0 0 0 0;\n",
       "      width: 32px;\n",
       "    }\n",
       "\n",
       "    .colab-df-convert:hover {\n",
       "      background-color: #E2EBFA;\n",
       "      box-shadow: 0px 1px 2px rgba(60, 64, 67, 0.3), 0px 1px 3px 1px rgba(60, 64, 67, 0.15);\n",
       "      fill: #174EA6;\n",
       "    }\n",
       "\n",
       "    [theme=dark] .colab-df-convert {\n",
       "      background-color: #3B4455;\n",
       "      fill: #D2E3FC;\n",
       "    }\n",
       "\n",
       "    [theme=dark] .colab-df-convert:hover {\n",
       "      background-color: #434B5C;\n",
       "      box-shadow: 0px 1px 3px 1px rgba(0, 0, 0, 0.15);\n",
       "      filter: drop-shadow(0px 1px 2px rgba(0, 0, 0, 0.3));\n",
       "      fill: #FFFFFF;\n",
       "    }\n",
       "  </style>\n",
       "\n",
       "      <script>\n",
       "        const buttonEl =\n",
       "          document.querySelector('#df-8b344b81-b5e7-41af-a0b6-5bb895507d0a button.colab-df-convert');\n",
       "        buttonEl.style.display =\n",
       "          google.colab.kernel.accessAllowed ? 'block' : 'none';\n",
       "\n",
       "        async function convertToInteractive(key) {\n",
       "          const element = document.querySelector('#df-8b344b81-b5e7-41af-a0b6-5bb895507d0a');\n",
       "          const dataTable =\n",
       "            await google.colab.kernel.invokeFunction('convertToInteractive',\n",
       "                                                     [key], {});\n",
       "          if (!dataTable) return;\n",
       "\n",
       "          const docLinkHtml = 'Like what you see? Visit the ' +\n",
       "            '<a target=\"_blank\" href=https://colab.research.google.com/notebooks/data_table.ipynb>data table notebook</a>'\n",
       "            + ' to learn more about interactive tables.';\n",
       "          element.innerHTML = '';\n",
       "          dataTable['output_type'] = 'display_data';\n",
       "          await google.colab.output.renderOutput(dataTable, element);\n",
       "          const docLink = document.createElement('div');\n",
       "          docLink.innerHTML = docLinkHtml;\n",
       "          element.appendChild(docLink);\n",
       "        }\n",
       "      </script>\n",
       "    </div>\n",
       "  </div>\n",
       "  "
      ],
      "text/plain": [
       "   tag    set  \\\n",
       "0    2  train   \n",
       "1    1  train   \n",
       "2    1  train   \n",
       "3    0  train   \n",
       "4    1  train   \n",
       "\n",
       "                                                                                                  text  \n",
       "0                             way insult direct man unflattering hat worn predominantly men meant ins…  \n",
       "1  ordinary muslim idiot person like know make sure qur’an muslim nothing claim jihad come back tal...  \n",
       "2  give buildup sweeden government idiotu behave like allrounder see reach god know many fake news ...  \n",
       "3                                                     sure pot cooked hot mkr killerblondes abarmezh86  \n",
       "4                                            christian part palestinian kill driven palestinian muslim  "
      ]
     },
     "execution_count": 5,
     "metadata": {},
     "output_type": "execute_result"
    }
   ],
   "source": [
    "data.head()"
   ]
  },
  {
   "cell_type": "code",
   "execution_count": null,
   "id": "bb113c46",
   "metadata": {
    "id": "bb113c46"
   },
   "outputs": [],
   "source": [
    "# Split entire dataset into the two datasets\n",
    "# train dataset: cyberbullying_tweets.csv and test dataset: classified_tweets.csv\n",
    "train = data.loc[data['set'] == 'train']\n",
    "test = data.loc[data['set'] == 'test']"
   ]
  },
  {
   "cell_type": "code",
   "execution_count": null,
   "id": "463b1618",
   "metadata": {
    "id": "463b1618"
   },
   "outputs": [],
   "source": [
    "# Splitting both datasets into their respective X and y columns \n",
    "X1 = train['text']\n",
    "y1 = train['tag']\n",
    "\n",
    "X2 = test['text']\n",
    "y2 = test['tag']"
   ]
  },
  {
   "cell_type": "markdown",
   "id": "f95aee32",
   "metadata": {
    "id": "f95aee32"
   },
   "source": [
    "# Train/Test Split\n",
    "\n",
    "This step splits the train dataset: cyberbullying_tweets.csv into the dataset that the classifier model will train on, and the validation dataset that the model will be assessed on."
   ]
  },
  {
   "cell_type": "code",
   "execution_count": null,
   "id": "11d90aa7",
   "metadata": {
    "id": "11d90aa7"
   },
   "outputs": [],
   "source": [
    "# Conducting train/validation split\n",
    "X_train, X_val, y_train, y_val = train_test_split(X1, y1, stratify = y1, random_state = 42)"
   ]
  },
  {
   "cell_type": "markdown",
   "id": "110725c3",
   "metadata": {
    "id": "110725c3"
   },
   "source": [
    "# Modelling - Support Vector Machine (SVM)"
   ]
  },
  {
   "cell_type": "markdown",
   "id": "5ce97839",
   "metadata": {
    "id": "5ce97839"
   },
   "source": [
    "### Support Vector Machine (CountVectorizer)"
   ]
  },
  {
   "cell_type": "code",
   "execution_count": null,
   "id": "287db410",
   "metadata": {
    "id": "287db410"
   },
   "outputs": [],
   "source": [
    "# Set up a pipeline:\n",
    "# 1. Instantiating CountVectorizer\n",
    "# 2. SMOTE sampling - due to imbalance of classes\n",
    "# 3. Support Vector Machine\n",
    "pipe_cvec_svm = Pipeline([\n",
    "        ('cvec', CountVectorizer()),\n",
    "        ('sampling', SMOTE(random_state = 42)),\n",
    "        ('svc', SVC(random_state = 42))\n",
    "    ])"
   ]
  },
  {
   "cell_type": "code",
   "execution_count": null,
   "id": "2d9795f9",
   "metadata": {
    "id": "2d9795f9"
   },
   "outputs": [],
   "source": [
    "# Search over the following values of hyperparameters:\n",
    "\n",
    "# SMOTE - number of k-nearest neighbours to conduct synthetic samples: 1 to 5\n",
    "# Kernal coefficient: auto or scale\n",
    "# Kernal type to be used: 'rbf', 'linear', 'poly', 'sigmoid'\n",
    "# Regularization strength: 0.01, 0.1, 1, 10, 100\n",
    "# To use or not to use the shrinking heuristics\n",
    "# Setting weights for each class\n",
    "\n",
    "# pipe_cvec_svc_params = {  \n",
    "#     'sampling__k_neighbors': [1, 2, 3, 4, 5],      \n",
    "#     'svc__gamma':['auto','scale'],                 \n",
    "#     'svc__kernel':['rbf', 'linear', 'poly', 'sigmoid'],\n",
    "#     'svc__C' : [0.01, 0.1, 1, 10, 100],                             \n",
    "#     'svc__shrinking' : [True, False],                    \n",
    "#     'svc__class_weight' : ['balanced', None],           \n",
    "    \n",
    "# }"
   ]
  },
  {
   "cell_type": "markdown",
   "id": "f25cf467",
   "metadata": {
    "id": "f25cf467"
   },
   "source": [
    "The above range of hyperparameters values are the ones that are searched."
   ]
  },
  {
   "cell_type": "code",
   "execution_count": null,
   "id": "r2qPpMN6JBSI",
   "metadata": {
    "id": "r2qPpMN6JBSI"
   },
   "outputs": [],
   "source": [
    "# For ease of running the notebook, will just use the best parameters retrieved from cvec_svm.best_params_\n",
    "pipe_cvec_svc_params = {\n",
    "    'sampling__sampling_strategy': ['minority'],   \n",
    "    'sampling__k_neighbors': [4],      \n",
    "    'svc__gamma':['auto'],                 \n",
    "    'svc__kernel':['linear'],\n",
    "    'svc__C' : [0.1],                             \n",
    "    'svc__shrinking' : [True],                    \n",
    "    'svc__class_weight' : ['balanced'],           \n",
    "    \n",
    "}"
   ]
  },
  {
   "cell_type": "code",
   "execution_count": null,
   "id": "f76573a4",
   "metadata": {
    "id": "f76573a4"
   },
   "outputs": [],
   "source": [
    "# Instantiate GridSearchCV.\n",
    "cvec_svm = GridSearchCV(pipe_cvec_svm,\n",
    "                   param_grid = pipe_cvec_svc_params,\n",
    "                   cv = 5,\n",
    "                   scoring = 'f1_weighted',\n",
    "                   n_jobs = -1,\n",
    "                   verbose = 2) "
   ]
  },
  {
   "cell_type": "code",
   "execution_count": null,
   "id": "cb311b90",
   "metadata": {
    "colab": {
     "base_uri": "https://localhost:8080/"
    },
    "executionInfo": {
     "elapsed": 17902,
     "status": "ok",
     "timestamp": 1660977918642,
     "user": {
      "displayName": "Joel",
      "userId": "13831783905850790679"
     },
     "user_tz": -480
    },
    "id": "cb311b90",
    "outputId": "f711126a-8766-4bc0-9b50-39714723b1e8"
   },
   "outputs": [
    {
     "name": "stdout",
     "output_type": "stream",
     "text": [
      "Fitting 5 folds for each of 1 candidates, totalling 5 fits\n",
      "CPU times: user 6.25 s, sys: 109 ms, total: 6.36 s\n",
      "Wall time: 18.6 s\n"
     ]
    },
    {
     "data": {
      "text/plain": [
       "GridSearchCV(cv=5,\n",
       "             estimator=Pipeline(steps=[('cvec', CountVectorizer()),\n",
       "                                       ('sampling', SMOTE(random_state=42)),\n",
       "                                       ('svc', SVC(random_state=42))]),\n",
       "             n_jobs=-1,\n",
       "             param_grid={'sampling__k_neighbors': [4],\n",
       "                         'sampling__sampling_strategy': ['minority'],\n",
       "                         'svc__C': [0.1], 'svc__class_weight': ['balanced'],\n",
       "                         'svc__gamma': ['auto'], 'svc__kernel': ['linear'],\n",
       "                         'svc__shrinking': [True]},\n",
       "             scoring='f1_weighted', verbose=2)"
      ]
     },
     "execution_count": 13,
     "metadata": {},
     "output_type": "execute_result"
    }
   ],
   "source": [
    "%%time\n",
    "# Conducting GridSearch on training data\n",
    "cvec_svm.fit(X_train, y_train);"
   ]
  },
  {
   "cell_type": "code",
   "execution_count": null,
   "id": "667aac2b",
   "metadata": {
    "colab": {
     "base_uri": "https://localhost:8080/"
    },
    "executionInfo": {
     "elapsed": 17,
     "status": "ok",
     "timestamp": 1660977918643,
     "user": {
      "displayName": "Joel",
      "userId": "13831783905850790679"
     },
     "user_tz": -480
    },
    "id": "667aac2b",
    "outputId": "d368c3cc-d1f2-4534-a052-2c8d38c6b187"
   },
   "outputs": [
    {
     "name": "stdout",
     "output_type": "stream",
     "text": [
      "{'sampling__k_neighbors': 4, 'sampling__sampling_strategy': 'minority', 'svc__C': 0.1, 'svc__class_weight': 'balanced', 'svc__gamma': 'auto', 'svc__kernel': 'linear', 'svc__shrinking': True}\n"
     ]
    }
   ],
   "source": [
    "# Retrieving the best parameters resulting from the GridSearch\n",
    "print(cvec_svm.best_params_)"
   ]
  },
  {
   "cell_type": "code",
   "execution_count": null,
   "id": "94d5df73",
   "metadata": {
    "colab": {
     "base_uri": "https://localhost:8080/"
    },
    "executionInfo": {
     "elapsed": 5472,
     "status": "ok",
     "timestamp": 1660977924103,
     "user": {
      "displayName": "Joel",
      "userId": "13831783905850790679"
     },
     "user_tz": -480
    },
    "id": "94d5df73",
    "outputId": "f809b123-ddb0-44ed-916a-4a5e4e3a69a9"
   },
   "outputs": [
    {
     "name": "stdout",
     "output_type": "stream",
     "text": [
      "CountVectorizer Support Vector Machine GridSearchCV best score is: 0.92502.\n",
      "CountVectorizer Support Vector Machine train score is: 0.9633.\n",
      "CountVectorizer Support Vector Machine validation score is: 0.92713.\n"
     ]
    }
   ],
   "source": [
    "# Best score\n",
    "cvec_svm_best = round(cvec_svm.best_score_, 5)\n",
    "print('CountVectorizer Support Vector Machine GridSearchCV best score is: {}.'.format(cvec_svm_best))\n",
    "\n",
    "# Training score\n",
    "c_svm_train_pred = cvec_svm.predict(X_train)\n",
    "cvec_svm_train = round(f1_score(y_train, c_svm_train_pred, average = 'weighted'), 5)\n",
    "print('CountVectorizer Support Vector Machine train score is: {}.'.format(cvec_svm_train))\n",
    "\n",
    "# Validation score\n",
    "c_svm_val_pred = cvec_svm.predict(X_val)\n",
    "cvec_svm_val = round(f1_score(y_val, c_svm_val_pred, average = 'weighted'), 5)\n",
    "print('CountVectorizer Support Vector Machine validation score is: {}.'.format(cvec_svm_val))"
   ]
  },
  {
   "cell_type": "code",
   "execution_count": null,
   "id": "b30a20bf",
   "metadata": {
    "colab": {
     "base_uri": "https://localhost:8080/",
     "height": 295
    },
    "executionInfo": {
     "elapsed": 1637,
     "status": "ok",
     "timestamp": 1660977925720,
     "user": {
      "displayName": "Joel",
      "userId": "13831783905850790679"
     },
     "user_tz": -480
    },
    "id": "b30a20bf",
    "outputId": "727fd581-a447-4e00-a1dc-15f742bac68e"
   },
   "outputs": [
    {
     "data": {
      "image/png": "[encoded data removed]",
      "text/plain": [
       "<Figure size 432x288 with 2 Axes>"
      ]
     },
     "metadata": {
      "needs_background": "light"
     },
     "output_type": "display_data"
    }
   ],
   "source": [
    "# View confusion matrix\n",
    "plot_confusion_matrix(cvec_svm, X_val, y_val, cmap = 'Blues', values_format = 'd',\n",
    "                      display_labels = ['innocuous', 'racist', 'sexist'])\n",
    "plt.title('Confusion Matrix of CountVectorizer Support Vector Machine Model');"
   ]
  },
  {
   "cell_type": "markdown",
   "id": "43cae6c4",
   "metadata": {
    "id": "43cae6c4"
   },
   "source": [
    "### Support Vector Machine (TF-IDF)"
   ]
  },
  {
   "cell_type": "code",
   "execution_count": null,
   "id": "d351a79d",
   "metadata": {
    "id": "d351a79d"
   },
   "outputs": [],
   "source": [
    "# Set up a pipeline:\n",
    "# 1. Instantiating TF-IDF Vectorizer\n",
    "# 2. SMOTE sampling - due to imbalance of classes\n",
    "# 3. Support Vector Machine\n",
    "pipe_tvec_svm = Pipeline([\n",
    "        ('tvec', TfidfVectorizer()),\n",
    "        ('sampling', SMOTE(random_state = 42)),\n",
    "        ('svc', SVC(random_state = 42))\n",
    "    ])"
   ]
  },
  {
   "cell_type": "code",
   "execution_count": null,
   "id": "ec947c9d",
   "metadata": {
    "id": "ec947c9d"
   },
   "outputs": [],
   "source": [
    "# Search over the following values of hyperparameters:\n",
    "\n",
    "# SMOTE - number of k-nearest neighbours to conduct synthetic samples: 1 to 5\n",
    "# Kernal coefficient: auto or scale\n",
    "# Kernal type to be used: 'rbf', 'linear', 'poly', 'sigmoid'\n",
    "# Regularization strength: 0.01, 0.1, 1, 10, 100\n",
    "# To use or not to use the shrinking heuristics\n",
    "# Setting weights for each class\n",
    "\n",
    "# pipe_tvec_svc_params = { \n",
    "#     'sampling__k_neighbors': [1, 2, 3, 4, 5],      \n",
    "#     'svc__gamma':['auto','scale'],                 \n",
    "#     'svc__kernel':['rbf', 'linear', 'poly', 'sigmoid'],\n",
    "#     #'svc__probability' : [True],                   # [True]    # Cannot run when False\n",
    "#     'svc__C' : [0.01, 0.1, 1, 10, 100],                             \n",
    "#     'svc__shrinking' : [True, False],                    \n",
    "#     'svc__class_weight' : ['balanced', None],           \n",
    "    \n",
    "# }"
   ]
  },
  {
   "cell_type": "markdown",
   "id": "265c143a",
   "metadata": {
    "id": "265c143a"
   },
   "source": [
    "The above range of hyperparameters values are the ones that are searched."
   ]
  },
  {
   "cell_type": "code",
   "execution_count": null,
   "id": "5Mp_AJcBWvYE",
   "metadata": {
    "id": "5Mp_AJcBWvYE"
   },
   "outputs": [],
   "source": [
    "# For ease of running the notebook, will just use the best parameters retrieved from tvec_svm.best_params_\n",
    "pipe_tvec_svc_params = {\n",
    "    'sampling__sampling_strategy': ['minority'],   \n",
    "    'sampling__k_neighbors': [5],      \n",
    "    'svc__gamma':['scale'],                 \n",
    "    'svc__kernel':['rbf'],\n",
    "    'svc__C' : [100],                             \n",
    "    'svc__shrinking' : [True],                    \n",
    "    'svc__class_weight' : ['balanced'],           \n",
    "    \n",
    "}"
   ]
  },
  {
   "cell_type": "code",
   "execution_count": null,
   "id": "f14e4d56",
   "metadata": {
    "id": "f14e4d56"
   },
   "outputs": [],
   "source": [
    "# Instantiate GridSearchCV\n",
    "tvec_svm = GridSearchCV(pipe_tvec_svm,\n",
    "                                param_grid = pipe_tvec_svc_params,\n",
    "                                cv = 5,\n",
    "                                scoring = 'f1_weighted',\n",
    "                                n_jobs = -1,\n",
    "                                verbose = 2) "
   ]
  },
  {
   "cell_type": "code",
   "execution_count": null,
   "id": "f454dd84",
   "metadata": {
    "colab": {
     "base_uri": "https://localhost:8080/"
    },
    "executionInfo": {
     "elapsed": 56036,
     "status": "ok",
     "timestamp": 1660977981741,
     "user": {
      "displayName": "Joel",
      "userId": "13831783905850790679"
     },
     "user_tz": -480
    },
    "id": "f454dd84",
    "outputId": "acba1498-4b06-4938-fb98-6648561c993b"
   },
   "outputs": [
    {
     "name": "stdout",
     "output_type": "stream",
     "text": [
      "Fitting 5 folds for each of 1 candidates, totalling 5 fits\n",
      "CPU times: user 21.9 s, sys: 139 ms, total: 22.1 s\n",
      "Wall time: 56 s\n"
     ]
    },
    {
     "data": {
      "text/plain": [
       "GridSearchCV(cv=5,\n",
       "             estimator=Pipeline(steps=[('tvec', TfidfVectorizer()),\n",
       "                                       ('sampling', SMOTE(random_state=42)),\n",
       "                                       ('svc', SVC(random_state=42))]),\n",
       "             n_jobs=-1,\n",
       "             param_grid={'sampling__k_neighbors': [5],\n",
       "                         'sampling__sampling_strategy': ['minority'],\n",
       "                         'svc__C': [100], 'svc__class_weight': ['balanced'],\n",
       "                         'svc__gamma': ['scale'], 'svc__kernel': ['rbf'],\n",
       "                         'svc__shrinking': [True]},\n",
       "             scoring='f1_weighted', verbose=2)"
      ]
     },
     "execution_count": 21,
     "metadata": {},
     "output_type": "execute_result"
    }
   ],
   "source": [
    "%%time\n",
    "# Conducting GridSearch on training data\n",
    "tvec_svm.fit(X_train, y_train)"
   ]
  },
  {
   "cell_type": "code",
   "execution_count": null,
   "id": "cd11c7d0",
   "metadata": {
    "colab": {
     "base_uri": "https://localhost:8080/"
    },
    "executionInfo": {
     "elapsed": 31,
     "status": "ok",
     "timestamp": 1660977981742,
     "user": {
      "displayName": "Joel",
      "userId": "13831783905850790679"
     },
     "user_tz": -480
    },
    "id": "cd11c7d0",
    "outputId": "0bd6a92c-52bd-4569-ab94-0f13c778629a"
   },
   "outputs": [
    {
     "name": "stdout",
     "output_type": "stream",
     "text": [
      "{'sampling__k_neighbors': 5, 'sampling__sampling_strategy': 'minority', 'svc__C': 100, 'svc__class_weight': 'balanced', 'svc__gamma': 'scale', 'svc__kernel': 'rbf', 'svc__shrinking': True}\n"
     ]
    }
   ],
   "source": [
    "# Retrieving the best parameters resulting from the GridSearch\n",
    "print(tvec_svm.best_params_)"
   ]
  },
  {
   "cell_type": "code",
   "execution_count": null,
   "id": "39a29c62",
   "metadata": {
    "colab": {
     "base_uri": "https://localhost:8080/"
    },
    "executionInfo": {
     "elapsed": 14843,
     "status": "ok",
     "timestamp": 1660977996561,
     "user": {
      "displayName": "Joel",
      "userId": "13831783905850790679"
     },
     "user_tz": -480
    },
    "id": "39a29c62",
    "outputId": "70c96bbd-7424-40b6-c7e6-687ba9953425"
   },
   "outputs": [
    {
     "name": "stdout",
     "output_type": "stream",
     "text": [
      "TFIDF Support Vector Machine GridSearchCV best score is: 0.92444.\n",
      "TFIDF Support Vector Machine train score is: 0.9991.\n",
      "TFIDF Support Vector Machine validation score is: 0.92461.\n"
     ]
    }
   ],
   "source": [
    "# Best score\n",
    "tvec_svm_best = round(tvec_svm.best_score_, 5)\n",
    "print('TFIDF Support Vector Machine GridSearchCV best score is: {}.'.format(tvec_svm_best))\n",
    "\n",
    "# Training score\n",
    "t_svm_train_pred = tvec_svm.predict(X_train)\n",
    "tvec_svm_train = round(f1_score(y_train, t_svm_train_pred, average = 'weighted'), 5)\n",
    "print('TFIDF Support Vector Machine train score is: {}.'.format(tvec_svm_train))\n",
    "\n",
    "# Validation score\n",
    "t_svm_test_pred = tvec_svm.predict(X_val)\n",
    "tvec_svm_val = round(f1_score(y_val, t_svm_test_pred, average = 'weighted'), 5)\n",
    "print('TFIDF Support Vector Machine validation score is: {}.'.format(tvec_svm_val))"
   ]
  },
  {
   "cell_type": "code",
   "execution_count": null,
   "id": "5a9c7511",
   "metadata": {
    "colab": {
     "base_uri": "https://localhost:8080/",
     "height": 295
    },
    "executionInfo": {
     "elapsed": 3928,
     "status": "ok",
     "timestamp": 1660978000469,
     "user": {
      "displayName": "Joel",
      "userId": "13831783905850790679"
     },
     "user_tz": -480
    },
    "id": "5a9c7511",
    "outputId": "17485c61-1e75-4680-84e5-313f1cd3cc5d"
   },
   "outputs": [
    {
     "data": {
      "image/png": "[encoded data removed]",
      "text/plain": [
       "<Figure size 432x288 with 2 Axes>"
      ]
     },
     "metadata": {
      "needs_background": "light"
     },
     "output_type": "display_data"
    }
   ],
   "source": [
    "# View confusion matrix\n",
    "plot_confusion_matrix(tvec_svm, X_val, y_val, cmap = 'Blues', values_format = 'd',\n",
    "                      display_labels = ['innocuous', 'racist', 'sexist'])\n",
    "plt.title('Confusion Matrix of TF-IDF Support Vector Machine Model');"
   ]
  },
  {
   "cell_type": "markdown",
   "id": "3W_pAwgrLZTS",
   "metadata": {
    "id": "3W_pAwgrLZTS"
   },
   "source": [
    "# Saving Models\n",
    "\n",
    "This is done so that these models can be used to predict the labels on the test set."
   ]
  },
  {
   "cell_type": "code",
   "execution_count": null,
   "id": "4Hqb5iIXJBCz",
   "metadata": {
    "id": "4Hqb5iIXJBCz"
   },
   "outputs": [],
   "source": [
    "# Saving Support Vector Machine Models\n",
    "# cvec\n",
    "pickle.dump(cvec_svm, open('/content/drive/MyDrive/Capstone/data/cvec_svm.pkl', 'wb'))\n",
    "\n",
    "# tvec\n",
    "pickle.dump(tvec_svm, open('/content/drive/MyDrive/Capstone/data/tvec_svm.pkl', 'wb'))"
   ]
  }
 ],
 "metadata": {
  "accelerator": "GPU",
  "colab": {
   "collapsed_sections": [],
   "machine_shape": "hm",
   "name": "4. Modelling - SVM and XGBoost.ipynb",
   "provenance": []
  },
  "gpuClass": "standard",
  "kernelspec": {
   "display_name": "Python 3 (ipykernel)",
   "language": "python",
   "name": "python3"
  },
  "language_info": {
   "codemirror_mode": {
    "name": "ipython",
    "version": 3
   },
   "file_extension": ".py",
   "mimetype": "text/x-python",
   "name": "python",
   "nbconvert_exporter": "python",
   "pygments_lexer": "ipython3",
   "version": "3.8.13"
  }
 },
 "nbformat": 4,
 "nbformat_minor": 5
}
