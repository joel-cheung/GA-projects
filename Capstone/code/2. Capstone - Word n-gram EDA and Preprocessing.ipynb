{
 "cells": [
  {
   "cell_type": "markdown",
   "id": "26d38f81",
   "metadata": {},
   "source": [
    "# Background"
   ]
  },
  {
   "cell_type": "markdown",
   "id": "2fbacbc3",
   "metadata": {},
   "source": [
    "Twitter is a micro-blogging social media platform with 217.5 million daily active users globally. With 500 million new tweets (posts) daily, the topics of these tweets varies widely – k-pop, politics, financial news… you name it! Individuals use it for news, entertainment, and discussions, while corporations use them to as a marketing tool to reach out to a wide audience. Given the freedom Twitter accords to its user, Twitter can provide a conducive environment for productive discourse, but this freedom can also be abused, manifesting in the forms of racism and sexism."
   ]
  },
  {
   "cell_type": "markdown",
   "id": "04a08dbe",
   "metadata": {},
   "source": [
    "# Problem Statement"
   ]
  },
  {
   "cell_type": "markdown",
   "id": "363d0f2a",
   "metadata": {},
   "source": [
    "With Twitter’s significant income stream coming from advertisers, it is imperative that Twitter keeps a substantial user base. On the other hand, Twitter should maintain a safe space for users and provide some level of checks for the tweets the users put out into the public space, and the first step would be to identify tweets that espouse racist or sexist ideologies, and then Twitter can direct the users to appropriate sources of information where users can learn more about the community that they offend or their subconscious biases so they will be more aware of their racist/sexist tendencies. Thus, to balance, Twitter has to be accurate in filtering inappropriate tweets from innocuous ones, and the kind of inappropriateness of flagged tweets (tag - racist or sexist).\n",
    "\n",
    "F1-scores will be the primary metric as it looks at both precision and recall, each looking at false positives (FPs) and false negatives (FNs) respectively, and is a popular metric for imbalanced data as is the case with the dataset used.\n",
    "\n",
    "For the purpose of explanation, racist tweets are used as the ‘positive’ case.\n",
    "\n",
    "In this context, FPs are the cases where the model erroneously flags out tweets as racist when the tweet is actually innocuous/sexist. FNs are cases where the model erroneously flags out tweets as innocuous/sexist but the tweets are actually racist.\n",
    "\n",
    "Thus, higher F1-scores are preferred."
   ]
  },
  {
   "cell_type": "markdown",
   "id": "4505e03a",
   "metadata": {},
   "source": [
    "# Importing Libraries"
   ]
  },
  {
   "cell_type": "code",
   "execution_count": 1,
   "id": "4f6e2a3b",
   "metadata": {},
   "outputs": [],
   "source": [
    "# Standard libraries\n",
    "import numpy as np\n",
    "import pandas as pd\n",
    "\n",
    "# Visualization libraries\n",
    "import matplotlib.pyplot as plt\n",
    "import seaborn as sns\n",
    "import plotly.express as px\n",
    "\n",
    "# For NLP data cleaning and preprocessing\n",
    "import re, string, nltk, itertools\n",
    "from nltk.tokenize import word_tokenize\n",
    "from nltk.corpus import stopwords, wordnet\n",
    "from nltk.stem import WordNetLemmatizer, PorterStemmer\n",
    "from sklearn.feature_extraction.text import CountVectorizer, TfidfVectorizer\n",
    "import demoji"
   ]
  },
  {
   "cell_type": "code",
   "execution_count": 2,
   "id": "e24ca0d8",
   "metadata": {},
   "outputs": [],
   "source": [
    "# Changing display settings\n",
    "pd.set_option('display.max_row', 100)\n",
    "pd.set_option('display.max_colwidth', None)"
   ]
  },
  {
   "cell_type": "markdown",
   "id": "944eb637",
   "metadata": {},
   "source": [
    "# Importing training dataset"
   ]
  },
  {
   "cell_type": "code",
   "execution_count": 3,
   "id": "908d4b02",
   "metadata": {},
   "outputs": [],
   "source": [
    "twitter_final = pd.read_csv('../Capstone/data/twitter_final.csv')"
   ]
  },
  {
   "cell_type": "code",
   "execution_count": 4,
   "id": "73800abd",
   "metadata": {
    "scrolled": true
   },
   "outputs": [
    {
     "data": {
      "text/html": [
       "<div>\n",
       "<style scoped>\n",
       "    .dataframe tbody tr th:only-of-type {\n",
       "        vertical-align: middle;\n",
       "    }\n",
       "\n",
       "    .dataframe tbody tr th {\n",
       "        vertical-align: top;\n",
       "    }\n",
       "\n",
       "    .dataframe thead th {\n",
       "        text-align: right;\n",
       "    }\n",
       "</style>\n",
       "<table border=\"1\" class=\"dataframe\">\n",
       "  <thead>\n",
       "    <tr style=\"text-align: right;\">\n",
       "      <th></th>\n",
       "      <th>Text</th>\n",
       "      <th>Annotation</th>\n",
       "      <th>oh_label</th>\n",
       "    </tr>\n",
       "  </thead>\n",
       "  <tbody>\n",
       "    <tr>\n",
       "      <th>0</th>\n",
       "      <td>@halalflaws @biebervalue @greenlinerzjm I read them in context.No change in meaning. The history of Islamic slavery. https://t.co/xWJzpSodGj</td>\n",
       "      <td>none</td>\n",
       "      <td>0</td>\n",
       "    </tr>\n",
       "    <tr>\n",
       "      <th>1</th>\n",
       "      <td>@ShreyaBafna3 Now you idiots claim that people who tried to stop him from becoming a terrorist made him a terrorist. Islamically brain dead.</td>\n",
       "      <td>none</td>\n",
       "      <td>0</td>\n",
       "    </tr>\n",
       "    <tr>\n",
       "      <th>2</th>\n",
       "      <td>RT @Mooseoftorment Call me sexist, but when I go to an auto place, I'd rather talk to a guy</td>\n",
       "      <td>sexism</td>\n",
       "      <td>1</td>\n",
       "    </tr>\n",
       "    <tr>\n",
       "      <th>3</th>\n",
       "      <td>@g0ssipsquirrelx Wrong, ISIS follows the example of Mohammed and the Quran exactly.</td>\n",
       "      <td>racism</td>\n",
       "      <td>1</td>\n",
       "    </tr>\n",
       "    <tr>\n",
       "      <th>4</th>\n",
       "      <td>#mkr No No No No No No</td>\n",
       "      <td>none</td>\n",
       "      <td>0</td>\n",
       "    </tr>\n",
       "  </tbody>\n",
       "</table>\n",
       "</div>"
      ],
      "text/plain": [
       "                                                                                                                                           Text  \\\n",
       "0  @halalflaws @biebervalue @greenlinerzjm I read them in context.No change in meaning. The history of Islamic slavery. https://t.co/xWJzpSodGj   \n",
       "1  @ShreyaBafna3 Now you idiots claim that people who tried to stop him from becoming a terrorist made him a terrorist. Islamically brain dead.   \n",
       "2                                                   RT @Mooseoftorment Call me sexist, but when I go to an auto place, I'd rather talk to a guy   \n",
       "3                                                           @g0ssipsquirrelx Wrong, ISIS follows the example of Mohammed and the Quran exactly.   \n",
       "4                                                                                                                        #mkr No No No No No No   \n",
       "\n",
       "  Annotation  oh_label  \n",
       "0       none         0  \n",
       "1       none         0  \n",
       "2     sexism         1  \n",
       "3     racism         1  \n",
       "4       none         0  "
      ]
     },
     "execution_count": 4,
     "metadata": {},
     "output_type": "execute_result"
    }
   ],
   "source": [
    "twitter_final.head()"
   ]
  },
  {
   "cell_type": "code",
   "execution_count": 5,
   "id": "a6b4d323",
   "metadata": {},
   "outputs": [
    {
     "data": {
      "text/plain": [
       "(16849, 3)"
      ]
     },
     "execution_count": 5,
     "metadata": {},
     "output_type": "execute_result"
    }
   ],
   "source": [
    "twitter_final.shape"
   ]
  },
  {
   "cell_type": "code",
   "execution_count": 6,
   "id": "bebb3562",
   "metadata": {},
   "outputs": [
    {
     "data": {
      "text/plain": [
       "none      11501\n",
       "sexism     3378\n",
       "racism     1970\n",
       "Name: Annotation, dtype: int64"
      ]
     },
     "execution_count": 6,
     "metadata": {},
     "output_type": "execute_result"
    }
   ],
   "source": [
    "twitter_final.Annotation.value_counts()"
   ]
  },
  {
   "cell_type": "markdown",
   "id": "0db640d2",
   "metadata": {},
   "source": [
    "# Cleaning/Preprocessing"
   ]
  },
  {
   "cell_type": "markdown",
   "id": "231e0292",
   "metadata": {},
   "source": [
    "There is a need to preprocess and clean the texts before conducting EDA.\n",
    "\n",
    "The cleaning/ preprocessing steps include:\n",
    "* Removing emojis 😁\n",
    "* Removing hashtags (mentions), and URLs\n",
    "* Converting all text to lowercase\n",
    "* Removing contractions\n",
    "* Removing punctuations\n",
    "* Removing back-to-back spaces\n",
    "* Updating stopwords (done iteratively upon looking at word n-gram results)\n",
    "* Removing stopwords"
   ]
  },
  {
   "cell_type": "code",
   "execution_count": 7,
   "id": "e9a3c56c",
   "metadata": {},
   "outputs": [],
   "source": [
    "# Instantiating stopwords\n",
    "Stopwords = set(stopwords.words('english'))"
   ]
  },
  {
   "cell_type": "code",
   "execution_count": 8,
   "id": "6320d9a6",
   "metadata": {},
   "outputs": [],
   "source": [
    "# Updating Stopwords\n",
    "Stopwords.update(['rt','amp'])"
   ]
  },
  {
   "cell_type": "markdown",
   "id": "c2fb06be",
   "metadata": {},
   "source": [
    "# Creating functions for data cleaning"
   ]
  },
  {
   "cell_type": "markdown",
   "id": "3d04d482",
   "metadata": {},
   "source": [
    "### Creating a function for text cleaning (stemming)"
   ]
  },
  {
   "cell_type": "code",
   "execution_count": 9,
   "id": "5702dcda",
   "metadata": {},
   "outputs": [],
   "source": [
    "def clean_text_stem(text):\n",
    "    # Removing emojis\n",
    "    dem = demoji.findall(text)\n",
    "    for item in dem.keys():\n",
    "        text = text.replace(item,'')\n",
    "        \n",
    "    # Removing mentions and URLs\n",
    "    pattern = re.compile(r\"(@[A-Za-z0-9]+|_[A-Za-z0-9]+|https?://\\S+|www\\.\\S+|\\S+\\.[a-z]+)\")\n",
    "    text = pattern.sub('', text)\n",
    "    text = \" \".join(text.split())\n",
    "    \n",
    "    # Making text lowercase\n",
    "    text = text.lower()\n",
    "    \n",
    "    # Decontracting constracted words\n",
    "    text = re.sub(r\"can\\'t\", \"can not\", text)\n",
    "    text = re.sub(r\"n\\'t\", \" not\", text)\n",
    "    text = re.sub(r\"\\'re\", \" are\", text)\n",
    "    text = re.sub(r\"\\'s\", \" is\", text)\n",
    "    text = re.sub(r\"\\'d\", \" would\", text)\n",
    "    text = re.sub(r\"\\'ll\", \" will\", text)\n",
    "    text = re.sub(r\"\\'t\", \" not\", text)\n",
    "    text = re.sub(r\"\\'ve\", \" have\", text)\n",
    "    text = re.sub(r\"\\'m\", \" am\", text)\n",
    "    \n",
    "    # Removing punctuations\n",
    "    remove_punc = re.compile(r\"[%s]\" % re.escape(string.punctuation))\n",
    "    text = remove_punc.sub('', text)\n",
    "    \n",
    "    # Stemming words\n",
    "    tokenized = nltk.word_tokenize(text)\n",
    "    stemmer = PorterStemmer()\n",
    "    text = ' '.join([stemmer.stem(words) for words in tokenized])\n",
    "    \n",
    "    # Removing back-to-back spaces\n",
    "    text = re.sub(\"\\s\\s+\" , \" \", text)\n",
    "    \n",
    "    # Removing stopwords\n",
    "    text = \" \".join([word for word in str(text).split() if word not in Stopwords])\n",
    "    \n",
    "    return text"
   ]
  },
  {
   "cell_type": "markdown",
   "id": "4315bf43",
   "metadata": {},
   "source": [
    "### Creating a function for text cleaning (lemmatizing)"
   ]
  },
  {
   "cell_type": "code",
   "execution_count": 10,
   "id": "24f7f2e8",
   "metadata": {},
   "outputs": [],
   "source": [
    "def clean_text_lemmatize(text):\n",
    "    # Removing emojis\n",
    "    dem = demoji.findall(text)\n",
    "    for item in dem.keys():\n",
    "        text = text.replace(item,'')\n",
    "        \n",
    "    # Removing mentions and URLs\n",
    "    pattern = re.compile(r\"(@[A-Za-z0-9]+|_[A-Za-z0-9]+|https?://\\S+|www\\.\\S+|\\S+\\.[a-z]+|)\")\n",
    "    text = pattern.sub('', text)\n",
    "    text = \" \".join(text.split())\n",
    "    \n",
    "    # Making text lowercase\n",
    "    text = text.lower()\n",
    "    \n",
    "    # Decontracting constracted words\n",
    "    text = re.sub(r\"can\\'t\", \"can not\", text)\n",
    "    text = re.sub(r\"n\\'t\", \" not\", text)\n",
    "    text = re.sub(r\"\\'re\", \" are\", text)\n",
    "    text = re.sub(r\"\\'s\", \" is\", text)\n",
    "    text = re.sub(r\"\\'d\", \" would\", text)\n",
    "    text = re.sub(r\"\\'ll\", \" will\", text)\n",
    "    text = re.sub(r\"\\'t\", \" not\", text)\n",
    "    text = re.sub(r\"\\'ve\", \" have\", text)\n",
    "    text = re.sub(r\"\\'m\", \" am\", text)\n",
    "    \n",
    "    # Removing punctuations\n",
    "    remove_punc = re.compile(r\"[%s]\" % re.escape(string.punctuation))\n",
    "    text = remove_punc.sub('', text)\n",
    "    \n",
    "    # Lemmatizing\n",
    "    # To retrieve the appropriate part-of-speech (POS) tagging for each word in a sentence/tweet for the usage of WordNetLemmatizer\n",
    "    def get_wordnet_pos(word):\n",
    "        \"\"\"Map POS tag to first character lemmatize() accepts\"\"\"\n",
    "        tag = nltk.pos_tag([word])[0][1][0].upper()\n",
    "        tag_dict = {\"J\": wordnet.ADJ,\n",
    "                    \"N\": wordnet.NOUN,\n",
    "                    \"V\": wordnet.VERB,\n",
    "                    \"R\": wordnet.ADV}\n",
    "        return tag_dict.get(tag, wordnet.NOUN)\n",
    "    \n",
    "    lemmatizer = WordNetLemmatizer()\n",
    "    text = [lemmatizer.lemmatize(word, get_wordnet_pos(word)) for word in str(text).split()]\n",
    "    text = ' '.join(text)\n",
    "    \n",
    "    # Removing back-to-back spaces\n",
    "    text = re.sub(\"\\s\\s+\" , \" \", text)\n",
    "    \n",
    "    # Removing stopwords\n",
    "    text = \" \".join([word for word in str(text).split() if word not in Stopwords])\n",
    "    \n",
    "    return text"
   ]
  },
  {
   "cell_type": "markdown",
   "id": "a2a95e69",
   "metadata": {},
   "source": [
    "### Creating 2 columns, one preprocessed using Porter Stemming and another using WordNet Lemmatization"
   ]
  },
  {
   "cell_type": "code",
   "execution_count": 11,
   "id": "1cb50e32",
   "metadata": {
    "scrolled": true
   },
   "outputs": [],
   "source": [
    "twitter_final['Text_stem'] = twitter_final['Text'].apply(lambda text: clean_text_stem(text))"
   ]
  },
  {
   "cell_type": "code",
   "execution_count": 12,
   "id": "783183b5",
   "metadata": {},
   "outputs": [],
   "source": [
    "twitter_final['Text_lemm'] = twitter_final['Text'].apply(lambda text: clean_text_lemmatize(text))"
   ]
  },
  {
   "cell_type": "code",
   "execution_count": 13,
   "id": "1b8dd04e",
   "metadata": {},
   "outputs": [
    {
     "data": {
      "text/html": [
       "<div>\n",
       "<style scoped>\n",
       "    .dataframe tbody tr th:only-of-type {\n",
       "        vertical-align: middle;\n",
       "    }\n",
       "\n",
       "    .dataframe tbody tr th {\n",
       "        vertical-align: top;\n",
       "    }\n",
       "\n",
       "    .dataframe thead th {\n",
       "        text-align: right;\n",
       "    }\n",
       "</style>\n",
       "<table border=\"1\" class=\"dataframe\">\n",
       "  <thead>\n",
       "    <tr style=\"text-align: right;\">\n",
       "      <th></th>\n",
       "      <th>Text</th>\n",
       "      <th>Annotation</th>\n",
       "      <th>oh_label</th>\n",
       "      <th>Text_stem</th>\n",
       "      <th>Text_lemm</th>\n",
       "    </tr>\n",
       "  </thead>\n",
       "  <tbody>\n",
       "    <tr>\n",
       "      <th>0</th>\n",
       "      <td>@halalflaws @biebervalue @greenlinerzjm I read them in context.No change in meaning. The history of Islamic slavery. https://t.co/xWJzpSodGj</td>\n",
       "      <td>none</td>\n",
       "      <td>0</td>\n",
       "      <td>read contextno chang mean histori islam slaveri</td>\n",
       "      <td>read contextno change meaning history islamic slavery</td>\n",
       "    </tr>\n",
       "    <tr>\n",
       "      <th>1</th>\n",
       "      <td>@ShreyaBafna3 Now you idiots claim that people who tried to stop him from becoming a terrorist made him a terrorist. Islamically brain dead.</td>\n",
       "      <td>none</td>\n",
       "      <td>0</td>\n",
       "      <td>idiot claim peopl tri stop becom terrorist made terrorist islam brain dead</td>\n",
       "      <td>idiot claim people try stop become terrorist make terrorist islamically brain dead</td>\n",
       "    </tr>\n",
       "    <tr>\n",
       "      <th>2</th>\n",
       "      <td>RT @Mooseoftorment Call me sexist, but when I go to an auto place, I'd rather talk to a guy</td>\n",
       "      <td>sexism</td>\n",
       "      <td>1</td>\n",
       "      <td>call sexist go auto place would rather talk guy</td>\n",
       "      <td>call sexist go auto place would rather talk guy</td>\n",
       "    </tr>\n",
       "    <tr>\n",
       "      <th>3</th>\n",
       "      <td>@g0ssipsquirrelx Wrong, ISIS follows the example of Mohammed and the Quran exactly.</td>\n",
       "      <td>racism</td>\n",
       "      <td>1</td>\n",
       "      <td>wrong isi follow exampl moham quran exactli</td>\n",
       "      <td>wrong isi follow example mohammed quran exactly</td>\n",
       "    </tr>\n",
       "    <tr>\n",
       "      <th>4</th>\n",
       "      <td>#mkr No No No No No No</td>\n",
       "      <td>none</td>\n",
       "      <td>0</td>\n",
       "      <td>mkr</td>\n",
       "      <td>mkr</td>\n",
       "    </tr>\n",
       "    <tr>\n",
       "      <th>5</th>\n",
       "      <td>RT @TRobinsonNewEra: http://t.co/nkkCbpcHEo Saudi preacher who 'raped and tortured' his five -year-old daughter to death is released after …</td>\n",
       "      <td>none</td>\n",
       "      <td>0</td>\n",
       "      <td>saudi preacher rape tortur hi five yearold daughter death releas …</td>\n",
       "      <td>saudi preacher rap torture five yearold daughter death release …</td>\n",
       "    </tr>\n",
       "    <tr>\n",
       "      <th>6</th>\n",
       "      <td>RT @Millhouse66 @Maureen_JS nooo not sexist but most women are bad drivers</td>\n",
       "      <td>sexism</td>\n",
       "      <td>1</td>\n",
       "      <td>nooo sexist women bad driver</td>\n",
       "      <td>nooo sexist woman bad driver</td>\n",
       "    </tr>\n",
       "    <tr>\n",
       "      <th>7</th>\n",
       "      <td>Going to make some pancakes.....Don't hve any strawberries ....🍓🍓🍓🍓but I hve bananas .....🍌🍌🍌🍌. ;))) #MKR</td>\n",
       "      <td>none</td>\n",
       "      <td>0</td>\n",
       "      <td>go make pancakesdo hve ani strawberri hve banana mkr</td>\n",
       "      <td>go make pancakesdo hve strawberry hve banana mkr</td>\n",
       "    </tr>\n",
       "    <tr>\n",
       "      <th>8</th>\n",
       "      <td>RT @ahtweet: @freebsdgirl How dare you have feelings is a fantastic way to dehumanize someone.</td>\n",
       "      <td>none</td>\n",
       "      <td>0</td>\n",
       "      <td>dare feel fantast way dehuman someon</td>\n",
       "      <td>dare feeling fantastic way dehumanize someone</td>\n",
       "    </tr>\n",
       "    <tr>\n",
       "      <th>9</th>\n",
       "      <td>RT @Newmanzaa: There's something wrong when a girl wins Wayne Rooney street striker #NotSexist</td>\n",
       "      <td>sexism</td>\n",
       "      <td>1</td>\n",
       "      <td>someth wrong girl win wayn rooney street striker notsexist</td>\n",
       "      <td>something wrong girl win wayne rooney street striker notsexist</td>\n",
       "    </tr>\n",
       "  </tbody>\n",
       "</table>\n",
       "</div>"
      ],
      "text/plain": [
       "                                                                                                                                           Text  \\\n",
       "0  @halalflaws @biebervalue @greenlinerzjm I read them in context.No change in meaning. The history of Islamic slavery. https://t.co/xWJzpSodGj   \n",
       "1  @ShreyaBafna3 Now you idiots claim that people who tried to stop him from becoming a terrorist made him a terrorist. Islamically brain dead.   \n",
       "2                                                   RT @Mooseoftorment Call me sexist, but when I go to an auto place, I'd rather talk to a guy   \n",
       "3                                                           @g0ssipsquirrelx Wrong, ISIS follows the example of Mohammed and the Quran exactly.   \n",
       "4                                                                                                                        #mkr No No No No No No   \n",
       "5  RT @TRobinsonNewEra: http://t.co/nkkCbpcHEo Saudi preacher who 'raped and tortured' his five -year-old daughter to death is released after …   \n",
       "6                                                                    RT @Millhouse66 @Maureen_JS nooo not sexist but most women are bad drivers   \n",
       "7                                     Going to make some pancakes.....Don't hve any strawberries ....🍓🍓🍓🍓but I hve bananas .....🍌🍌🍌🍌. ;))) #MKR   \n",
       "8                                                RT @ahtweet: @freebsdgirl How dare you have feelings is a fantastic way to dehumanize someone.   \n",
       "9                                                RT @Newmanzaa: There's something wrong when a girl wins Wayne Rooney street striker #NotSexist   \n",
       "\n",
       "  Annotation  oh_label  \\\n",
       "0       none         0   \n",
       "1       none         0   \n",
       "2     sexism         1   \n",
       "3     racism         1   \n",
       "4       none         0   \n",
       "5       none         0   \n",
       "6     sexism         1   \n",
       "7       none         0   \n",
       "8       none         0   \n",
       "9     sexism         1   \n",
       "\n",
       "                                                                    Text_stem  \\\n",
       "0                             read contextno chang mean histori islam slaveri   \n",
       "1  idiot claim peopl tri stop becom terrorist made terrorist islam brain dead   \n",
       "2                             call sexist go auto place would rather talk guy   \n",
       "3                                 wrong isi follow exampl moham quran exactli   \n",
       "4                                                                         mkr   \n",
       "5          saudi preacher rape tortur hi five yearold daughter death releas …   \n",
       "6                                                nooo sexist women bad driver   \n",
       "7                        go make pancakesdo hve ani strawberri hve banana mkr   \n",
       "8                                        dare feel fantast way dehuman someon   \n",
       "9                  someth wrong girl win wayn rooney street striker notsexist   \n",
       "\n",
       "                                                                            Text_lemm  \n",
       "0                               read contextno change meaning history islamic slavery  \n",
       "1  idiot claim people try stop become terrorist make terrorist islamically brain dead  \n",
       "2                                     call sexist go auto place would rather talk guy  \n",
       "3                                     wrong isi follow example mohammed quran exactly  \n",
       "4                                                                                 mkr  \n",
       "5                    saudi preacher rap torture five yearold daughter death release …  \n",
       "6                                                        nooo sexist woman bad driver  \n",
       "7                                    go make pancakesdo hve strawberry hve banana mkr  \n",
       "8                                       dare feeling fantastic way dehumanize someone  \n",
       "9                      something wrong girl win wayne rooney street striker notsexist  "
      ]
     },
     "execution_count": 13,
     "metadata": {},
     "output_type": "execute_result"
    }
   ],
   "source": [
    "twitter_final.head(10)"
   ]
  },
  {
   "cell_type": "code",
   "execution_count": 14,
   "id": "ace35de8",
   "metadata": {},
   "outputs": [
    {
     "data": {
      "text/html": [
       "<div>\n",
       "<style scoped>\n",
       "    .dataframe tbody tr th:only-of-type {\n",
       "        vertical-align: middle;\n",
       "    }\n",
       "\n",
       "    .dataframe tbody tr th {\n",
       "        vertical-align: top;\n",
       "    }\n",
       "\n",
       "    .dataframe thead th {\n",
       "        text-align: right;\n",
       "    }\n",
       "</style>\n",
       "<table border=\"1\" class=\"dataframe\">\n",
       "  <thead>\n",
       "    <tr style=\"text-align: right;\">\n",
       "      <th></th>\n",
       "      <th>Text</th>\n",
       "      <th>Annotation</th>\n",
       "      <th>oh_label</th>\n",
       "      <th>Text_stem</th>\n",
       "      <th>Text_lemm</th>\n",
       "    </tr>\n",
       "  </thead>\n",
       "  <tbody>\n",
       "    <tr>\n",
       "      <th>0</th>\n",
       "      <td>@halalflaws @biebervalue @greenlinerzjm I read them in context.No change in meaning. The history of Islamic slavery. https://t.co/xWJzpSodGj</td>\n",
       "      <td>none</td>\n",
       "      <td>0</td>\n",
       "      <td>read contextno chang mean histori islam slaveri</td>\n",
       "      <td>read contextno change meaning history islamic slavery</td>\n",
       "    </tr>\n",
       "    <tr>\n",
       "      <th>1</th>\n",
       "      <td>@ShreyaBafna3 Now you idiots claim that people who tried to stop him from becoming a terrorist made him a terrorist. Islamically brain dead.</td>\n",
       "      <td>none</td>\n",
       "      <td>0</td>\n",
       "      <td>idiot claim peopl tri stop becom terrorist made terrorist islam brain dead</td>\n",
       "      <td>idiot claim people try stop become terrorist make terrorist islamically brain dead</td>\n",
       "    </tr>\n",
       "    <tr>\n",
       "      <th>2</th>\n",
       "      <td>RT @Mooseoftorment Call me sexist, but when I go to an auto place, I'd rather talk to a guy</td>\n",
       "      <td>sexism</td>\n",
       "      <td>1</td>\n",
       "      <td>call sexist go auto place would rather talk guy</td>\n",
       "      <td>call sexist go auto place would rather talk guy</td>\n",
       "    </tr>\n",
       "    <tr>\n",
       "      <th>3</th>\n",
       "      <td>@g0ssipsquirrelx Wrong, ISIS follows the example of Mohammed and the Quran exactly.</td>\n",
       "      <td>racism</td>\n",
       "      <td>1</td>\n",
       "      <td>wrong isi follow exampl moham quran exactli</td>\n",
       "      <td>wrong isi follow example mohammed quran exactly</td>\n",
       "    </tr>\n",
       "  </tbody>\n",
       "</table>\n",
       "</div>"
      ],
      "text/plain": [
       "                                                                                                                                           Text  \\\n",
       "0  @halalflaws @biebervalue @greenlinerzjm I read them in context.No change in meaning. The history of Islamic slavery. https://t.co/xWJzpSodGj   \n",
       "1  @ShreyaBafna3 Now you idiots claim that people who tried to stop him from becoming a terrorist made him a terrorist. Islamically brain dead.   \n",
       "2                                                   RT @Mooseoftorment Call me sexist, but when I go to an auto place, I'd rather talk to a guy   \n",
       "3                                                           @g0ssipsquirrelx Wrong, ISIS follows the example of Mohammed and the Quran exactly.   \n",
       "\n",
       "  Annotation  oh_label  \\\n",
       "0       none         0   \n",
       "1       none         0   \n",
       "2     sexism         1   \n",
       "3     racism         1   \n",
       "\n",
       "                                                                    Text_stem  \\\n",
       "0                             read contextno chang mean histori islam slaveri   \n",
       "1  idiot claim peopl tri stop becom terrorist made terrorist islam brain dead   \n",
       "2                             call sexist go auto place would rather talk guy   \n",
       "3                                 wrong isi follow exampl moham quran exactli   \n",
       "\n",
       "                                                                            Text_lemm  \n",
       "0                               read contextno change meaning history islamic slavery  \n",
       "1  idiot claim people try stop become terrorist make terrorist islamically brain dead  \n",
       "2                                     call sexist go auto place would rather talk guy  \n",
       "3                                     wrong isi follow example mohammed quran exactly  "
      ]
     },
     "execution_count": 14,
     "metadata": {},
     "output_type": "execute_result"
    }
   ],
   "source": [
    "twitter_final.head(4)"
   ]
  },
  {
   "cell_type": "markdown",
   "id": "3534c7ae",
   "metadata": {},
   "source": [
    "Based on the top 10 results, it is observed that the emojis, mentions of other twitter users, URLs, hashtags are removed and letters are made lowercase."
   ]
  },
  {
   "cell_type": "code",
   "execution_count": 15,
   "id": "b3226313",
   "metadata": {},
   "outputs": [],
   "source": [
    "# Creating a column showing length of cleaned text\n",
    "twitter_final['Text_stem_length'] = twitter_final['Text_stem'].str.len()\n",
    "twitter_final['Text_lemm_length'] = twitter_final['Text_lemm'].str.len()"
   ]
  },
  {
   "cell_type": "markdown",
   "id": "7230c23d",
   "metadata": {},
   "source": [
    "### Checking for and Filtering out empty rows after Cleaning"
   ]
  },
  {
   "cell_type": "code",
   "execution_count": 16,
   "id": "3b11d100",
   "metadata": {},
   "outputs": [
    {
     "data": {
      "text/plain": [
       "296"
      ]
     },
     "execution_count": 16,
     "metadata": {},
     "output_type": "execute_result"
    }
   ],
   "source": [
    "twitter_final_stem_0 = twitter_final.loc[twitter_final['Text_stem_length'] == 0]\n",
    "twitter_final_stem_0.shape[0]"
   ]
  },
  {
   "cell_type": "markdown",
   "id": "f1d28dc3",
   "metadata": {},
   "source": [
    "Of the stemmed tweets, there are 296 empty rows after cleaning."
   ]
  },
  {
   "cell_type": "code",
   "execution_count": 17,
   "id": "849de11e",
   "metadata": {},
   "outputs": [
    {
     "data": {
      "text/plain": [
       "306"
      ]
     },
     "execution_count": 17,
     "metadata": {},
     "output_type": "execute_result"
    }
   ],
   "source": [
    "twitter_final_lemm_0 = twitter_final.loc[twitter_final['Text_lemm_length'] == 0]\n",
    "twitter_final_lemm_0.shape[0]"
   ]
  },
  {
   "cell_type": "markdown",
   "id": "54c876ea",
   "metadata": {},
   "source": [
    "Of the lemmatized tweets, there are 306 empty rows after cleaning."
   ]
  },
  {
   "cell_type": "code",
   "execution_count": 18,
   "id": "5868f943",
   "metadata": {},
   "outputs": [
    {
     "data": {
      "text/html": [
       "<div>\n",
       "<style scoped>\n",
       "    .dataframe tbody tr th:only-of-type {\n",
       "        vertical-align: middle;\n",
       "    }\n",
       "\n",
       "    .dataframe tbody tr th {\n",
       "        vertical-align: top;\n",
       "    }\n",
       "\n",
       "    .dataframe thead th {\n",
       "        text-align: right;\n",
       "    }\n",
       "</style>\n",
       "<table border=\"1\" class=\"dataframe\">\n",
       "  <thead>\n",
       "    <tr style=\"text-align: right;\">\n",
       "      <th></th>\n",
       "      <th>Text</th>\n",
       "      <th>Annotation</th>\n",
       "      <th>oh_label</th>\n",
       "      <th>Text_stem</th>\n",
       "      <th>Text_lemm</th>\n",
       "      <th>Text_stem_length</th>\n",
       "      <th>Text_lemm_length</th>\n",
       "    </tr>\n",
       "  </thead>\n",
       "  <tbody>\n",
       "    <tr>\n",
       "      <th>154</th>\n",
       "      <td>@gamer456ism @femfreq @StephenAtHome \"you're\"</td>\n",
       "      <td>none</td>\n",
       "      <td>0</td>\n",
       "      <td></td>\n",
       "      <td></td>\n",
       "      <td>0</td>\n",
       "      <td>0</td>\n",
       "    </tr>\n",
       "    <tr>\n",
       "      <th>179</th>\n",
       "      <td>@dankmtl @PeaceNotHate_ http://t.co/HxgNJvWoqG</td>\n",
       "      <td>none</td>\n",
       "      <td>0</td>\n",
       "      <td></td>\n",
       "      <td></td>\n",
       "      <td>0</td>\n",
       "      <td>0</td>\n",
       "    </tr>\n",
       "    <tr>\n",
       "      <th>211</th>\n",
       "      <td>@Assiye61 http://t.co/dduX3ZbMtE</td>\n",
       "      <td>none</td>\n",
       "      <td>0</td>\n",
       "      <td></td>\n",
       "      <td></td>\n",
       "      <td>0</td>\n",
       "      <td>0</td>\n",
       "    </tr>\n",
       "  </tbody>\n",
       "</table>\n",
       "</div>"
      ],
      "text/plain": [
       "                                               Text Annotation  oh_label  \\\n",
       "154   @gamer456ism @femfreq @StephenAtHome \"you're\"       none         0   \n",
       "179  @dankmtl @PeaceNotHate_ http://t.co/HxgNJvWoqG       none         0   \n",
       "211                @Assiye61 http://t.co/dduX3ZbMtE       none         0   \n",
       "\n",
       "    Text_stem Text_lemm  Text_stem_length  Text_lemm_length  \n",
       "154                                     0                 0  \n",
       "179                                     0                 0  \n",
       "211                                     0                 0  "
      ]
     },
     "execution_count": 18,
     "metadata": {},
     "output_type": "execute_result"
    }
   ],
   "source": [
    "twitter_final_stem_0.head(3)"
   ]
  },
  {
   "cell_type": "code",
   "execution_count": 19,
   "id": "0388096f",
   "metadata": {},
   "outputs": [
    {
     "data": {
      "text/html": [
       "<div>\n",
       "<style scoped>\n",
       "    .dataframe tbody tr th:only-of-type {\n",
       "        vertical-align: middle;\n",
       "    }\n",
       "\n",
       "    .dataframe tbody tr th {\n",
       "        vertical-align: top;\n",
       "    }\n",
       "\n",
       "    .dataframe thead th {\n",
       "        text-align: right;\n",
       "    }\n",
       "</style>\n",
       "<table border=\"1\" class=\"dataframe\">\n",
       "  <thead>\n",
       "    <tr style=\"text-align: right;\">\n",
       "      <th></th>\n",
       "      <th>Text</th>\n",
       "      <th>Annotation</th>\n",
       "      <th>oh_label</th>\n",
       "      <th>Text_stem</th>\n",
       "      <th>Text_lemm</th>\n",
       "      <th>Text_stem_length</th>\n",
       "      <th>Text_lemm_length</th>\n",
       "    </tr>\n",
       "  </thead>\n",
       "  <tbody>\n",
       "    <tr>\n",
       "      <th>154</th>\n",
       "      <td>@gamer456ism @femfreq @StephenAtHome \"you're\"</td>\n",
       "      <td>none</td>\n",
       "      <td>0</td>\n",
       "      <td></td>\n",
       "      <td></td>\n",
       "      <td>0</td>\n",
       "      <td>0</td>\n",
       "    </tr>\n",
       "    <tr>\n",
       "      <th>179</th>\n",
       "      <td>@dankmtl @PeaceNotHate_ http://t.co/HxgNJvWoqG</td>\n",
       "      <td>none</td>\n",
       "      <td>0</td>\n",
       "      <td></td>\n",
       "      <td></td>\n",
       "      <td>0</td>\n",
       "      <td>0</td>\n",
       "    </tr>\n",
       "    <tr>\n",
       "      <th>211</th>\n",
       "      <td>@Assiye61 http://t.co/dduX3ZbMtE</td>\n",
       "      <td>none</td>\n",
       "      <td>0</td>\n",
       "      <td></td>\n",
       "      <td></td>\n",
       "      <td>0</td>\n",
       "      <td>0</td>\n",
       "    </tr>\n",
       "  </tbody>\n",
       "</table>\n",
       "</div>"
      ],
      "text/plain": [
       "                                               Text Annotation  oh_label  \\\n",
       "154   @gamer456ism @femfreq @StephenAtHome \"you're\"       none         0   \n",
       "179  @dankmtl @PeaceNotHate_ http://t.co/HxgNJvWoqG       none         0   \n",
       "211                @Assiye61 http://t.co/dduX3ZbMtE       none         0   \n",
       "\n",
       "    Text_stem Text_lemm  Text_stem_length  Text_lemm_length  \n",
       "154                                     0                 0  \n",
       "179                                     0                 0  \n",
       "211                                     0                 0  "
      ]
     },
     "execution_count": 19,
     "metadata": {},
     "output_type": "execute_result"
    }
   ],
   "source": [
    "twitter_final_lemm_0.head(3)"
   ]
  },
  {
   "cell_type": "markdown",
   "id": "63cb47d5",
   "metadata": {},
   "source": [
    "It can be observed that the now empty rows were tweets that includes only mentions and URLs."
   ]
  },
  {
   "cell_type": "markdown",
   "id": "0cfae952",
   "metadata": {},
   "source": [
    "Due to the empty rows having no values instead of NaN, using twitter_final.dropna() will not make any difference. Instead, need to drop rows if there the length of either or both length columns have the value 0."
   ]
  },
  {
   "cell_type": "code",
   "execution_count": 20,
   "id": "4d3dabe0",
   "metadata": {},
   "outputs": [],
   "source": [
    "# Creating a new column consisting of the multiple of the 2 length columns\n",
    "twitter_final['length_multiple'] = twitter_final['Text_stem_length'] * twitter_final['Text_lemm_length']\n",
    "\n",
    "# Filtering out rows with 'length_multiple' value == 0, i.e. one or both cleaned columns are empty\n",
    "twitter_final = twitter_final.loc[twitter_final['length_multiple'] != 0]"
   ]
  },
  {
   "cell_type": "code",
   "execution_count": 21,
   "id": "20363121",
   "metadata": {},
   "outputs": [
    {
     "name": "stdout",
     "output_type": "stream",
     "text": [
      "There are 16542 remaining rows.\n"
     ]
    }
   ],
   "source": [
    "print(\"There are {} remaining rows.\".format(twitter_final.shape[0]))"
   ]
  },
  {
   "cell_type": "markdown",
   "id": "ef263fc6",
   "metadata": {},
   "source": [
    "# Tweet Length Analysis"
   ]
  },
  {
   "cell_type": "markdown",
   "id": "50876c81",
   "metadata": {},
   "source": [
    "### Plotting for short tweets"
   ]
  },
  {
   "cell_type": "code",
   "execution_count": 22,
   "id": "7606a0a5",
   "metadata": {},
   "outputs": [],
   "source": [
    "text_len_lemm = []\n",
    "for text in twitter_final.Text_lemm:\n",
    "    tweet_len = len(text.split())\n",
    "    text_len_lemm.append(tweet_len)"
   ]
  },
  {
   "cell_type": "code",
   "execution_count": 23,
   "id": "8e9bf6ca",
   "metadata": {},
   "outputs": [],
   "source": [
    "twitter_final['Text_lemm_word_length'] = text_len_lemm"
   ]
  },
  {
   "cell_type": "code",
   "execution_count": 24,
   "id": "6f9c1e7c",
   "metadata": {},
   "outputs": [
    {
     "data": {
      "image/png": "[encoded data removed]",
      "text/plain": [
       "<Figure size 864x360 with 1 Axes>"
      ]
     },
     "metadata": {
      "needs_background": "light"
     },
     "output_type": "display_data"
    }
   ],
   "source": [
    "plt.figure(figsize=(12,5))\n",
    "ax = sns.countplot(x='Text_lemm_word_length', data=twitter_final[twitter_final['Text_lemm_word_length']<10], palette='magma')\n",
    "plt.title('Count of tweets with less than 10 words', fontsize=20)\n",
    "plt.yticks([])\n",
    "ax.bar_label(ax.containers[0])\n",
    "plt.ylabel('count')\n",
    "plt.xlabel('')\n",
    "plt.show()"
   ]
  },
  {
   "cell_type": "markdown",
   "id": "3b80e1bb",
   "metadata": {},
   "source": [
    "### Plotting for long tweets"
   ]
  },
  {
   "cell_type": "code",
   "execution_count": 25,
   "id": "aea228b0",
   "metadata": {},
   "outputs": [
    {
     "data": {
      "image/png": "[encoded data removed]",
      "text/plain": [
       "<Figure size 1152x360 with 1 Axes>"
      ]
     },
     "metadata": {
      "needs_background": "light"
     },
     "output_type": "display_data"
    }
   ],
   "source": [
    "plt.figure(figsize=(16,5))\n",
    "ax = sns.countplot(x='Text_lemm_word_length', data=twitter_final[(twitter_final['Text_lemm_word_length']<=1000) & (twitter_final['Text_lemm_word_length']>10)], palette='magma')\n",
    "plt.title('Count of tweets with high number of words', fontsize=25)\n",
    "plt.yticks([])\n",
    "ax.bar_label(ax.containers[0])\n",
    "plt.ylabel('count')\n",
    "plt.xlabel('')\n",
    "plt.show()"
   ]
  },
  {
   "cell_type": "code",
   "execution_count": 26,
   "id": "f7aeed3e",
   "metadata": {},
   "outputs": [
    {
     "data": {
      "text/plain": [
       "0.75"
      ]
     },
     "execution_count": 26,
     "metadata": {},
     "output_type": "execute_result"
    }
   ],
   "source": [
    "perc_short_tweets = len(twitter_final[twitter_final['Text_lemm_word_length']<10])/(len(twitter_final[twitter_final['Text_lemm_word_length']<10]) + len(twitter_final[(twitter_final['Text_lemm_word_length']<=1000) & (twitter_final['Text_lemm_word_length']>10)]))\n",
    "round(perc_short_tweets,2)"
   ]
  },
  {
   "cell_type": "code",
   "execution_count": 27,
   "id": "1ac5bacb",
   "metadata": {},
   "outputs": [
    {
     "name": "stdout",
     "output_type": "stream",
     "text": [
      "It can be observed that majority of tweets are short consisting of 10 words or less, constituting 75% of tweets in the dataset.\n"
     ]
    }
   ],
   "source": [
    "print(\"It can be observed that majority of tweets are short consisting of 10 words or less, constituting {:.0%} of tweets in the dataset.\".format(round(perc_short_tweets,2)))"
   ]
  },
  {
   "cell_type": "markdown",
   "id": "30edaf3c",
   "metadata": {},
   "source": [
    "# Preprocessing for word n-grams\n",
    "\n",
    "This preprocessing step is for plotting purposes. The preproccessing method transforms the text columns into BagofWords using CountVectoizer as it is just a simple count of each word that are plotted."
   ]
  },
  {
   "cell_type": "code",
   "execution_count": 28,
   "id": "594043c2",
   "metadata": {},
   "outputs": [],
   "source": [
    "# Instantiating CountVectorizers\n",
    "\n",
    "# unigram\n",
    "cv1 = CountVectorizer()\n",
    "\n",
    "# bigram\n",
    "cv2 = CountVectorizer(ngram_range=(2,2))\n",
    "\n",
    "# trigram\n",
    "cv3 = CountVectorizer(ngram_range=(3,3))"
   ]
  },
  {
   "cell_type": "markdown",
   "id": "d974d97a",
   "metadata": {},
   "source": [
    "### Unigram"
   ]
  },
  {
   "cell_type": "code",
   "execution_count": 29,
   "id": "3c719936",
   "metadata": {},
   "outputs": [],
   "source": [
    "# Unigram for stemmed text\n",
    "cv1.fit(twitter_final['Text_stem'])\n",
    "\n",
    "stem_cv1 = cv1.transform(twitter_final['Text_stem'])\n",
    "stem_cv1_df = pd.DataFrame(stem_cv1.todense(), columns=cv1.get_feature_names_out())"
   ]
  },
  {
   "cell_type": "code",
   "execution_count": 30,
   "id": "1630c103",
   "metadata": {},
   "outputs": [],
   "source": [
    "# Unigram for lemmaztized text\n",
    "cv1.fit(twitter_final['Text_lemm'])\n",
    "\n",
    "lemm_cv1_racism = cv1.transform(twitter_final['Text_lemm'][twitter_final['Annotation'] == 'racism'])\n",
    "lemm_cv1_sexism = cv1.transform(twitter_final['Text_stem'][twitter_final['Annotation'] == 'sexism'])\n",
    "lemm_cv1_racism_df = pd.DataFrame(lemm_cv1_racism.todense(), columns=cv1.get_feature_names_out())\n",
    "lemm_cv1_sexism_df = pd.DataFrame(lemm_cv1_sexism.todense(), columns=cv1.get_feature_names_out())"
   ]
  },
  {
   "cell_type": "markdown",
   "id": "31e3ffff",
   "metadata": {},
   "source": [
    "### Bigram"
   ]
  },
  {
   "cell_type": "code",
   "execution_count": 31,
   "id": "4dc7f4af",
   "metadata": {},
   "outputs": [],
   "source": [
    "# Bigram for stemmed text\n",
    "cv2.fit(twitter_final['Text_stem'])\n",
    "\n",
    "stem_cv2 = cv2.transform(twitter_final['Text_stem'])\n",
    "stem_cv2_df = pd.DataFrame(stem_cv2.todense(), columns=cv2.get_feature_names_out())"
   ]
  },
  {
   "cell_type": "code",
   "execution_count": 32,
   "id": "48efee7e",
   "metadata": {},
   "outputs": [],
   "source": [
    "# Bigram for lemmaztized text\n",
    "cv2.fit(twitter_final['Text_lemm'])\n",
    "\n",
    "lemm_cv2_racism = cv2.transform(twitter_final['Text_lemm'][twitter_final['Annotation'] == 'racism'])\n",
    "lemm_cv2_sexism = cv2.transform(twitter_final['Text_stem'][twitter_final['Annotation'] == 'sexism'])\n",
    "lemm_cv2_racism_df = pd.DataFrame(lemm_cv2_racism.todense(), columns=cv2.get_feature_names_out())\n",
    "lemm_cv2_sexism_df = pd.DataFrame(lemm_cv2_sexism.todense(), columns=cv2.get_feature_names_out())"
   ]
  },
  {
   "cell_type": "markdown",
   "id": "4e4565ec",
   "metadata": {},
   "source": [
    "### Trigram"
   ]
  },
  {
   "cell_type": "code",
   "execution_count": 33,
   "id": "d535121c",
   "metadata": {},
   "outputs": [],
   "source": [
    "# Trigram for stemmed text\n",
    "cv3.fit(twitter_final['Text_stem'])\n",
    "\n",
    "stem_cv3 = cv3.transform(twitter_final['Text_stem'])\n",
    "stem_cv3_df = pd.DataFrame(stem_cv3.todense(), columns=cv3.get_feature_names_out())"
   ]
  },
  {
   "cell_type": "code",
   "execution_count": 34,
   "id": "06e2456f",
   "metadata": {},
   "outputs": [],
   "source": [
    "# Trigram for lemmaztized text\n",
    "cv3.fit(twitter_final['Text_lemm'])\n",
    "\n",
    "lemm_cv3_racism = cv3.transform(twitter_final['Text_lemm'][twitter_final['Annotation'] == 'racism'])\n",
    "lemm_cv3_sexism = cv3.transform(twitter_final['Text_stem'][twitter_final['Annotation'] == 'sexism'])\n",
    "lemm_cv3_racism_df = pd.DataFrame(lemm_cv3_racism.todense(), columns=cv3.get_feature_names_out())\n",
    "lemm_cv3_sexism_df = pd.DataFrame(lemm_cv3_sexism.todense(), columns=cv3.get_feature_names_out())"
   ]
  },
  {
   "cell_type": "markdown",
   "id": "e387d92b",
   "metadata": {},
   "source": [
    "# Word n-gram Analysis\n",
    "\n",
    "For the purpose of plotting commonly observed word n-grams without significant overlaps, the following will only plot lemmatized texts."
   ]
  },
  {
   "cell_type": "markdown",
   "id": "e19c7dd6",
   "metadata": {},
   "source": [
    "### Unigram"
   ]
  },
  {
   "cell_type": "code",
   "execution_count": 36,
   "id": "f1246677",
   "metadata": {},
   "outputs": [
    {
     "data": {
      "image/png": "[encoded data removed]",
      "text/plain": [
       "<Figure size 1080x576 with 2 Axes>"
      ]
     },
     "metadata": {
      "needs_background": "light"
     },
     "output_type": "display_data"
    }
   ],
   "source": [
    "# Plotting the top 20 unigram of lemmatized texts\n",
    "fig, ax = plt.subplots(nrows = 1, ncols = 2, figsize= (15,8))\n",
    "ax = ax.ravel()\n",
    "\n",
    "plt.subplots_adjust(hspace = 0.1)\n",
    "\n",
    "# Setting up plot for sexism\n",
    "lemm_cv1_sexism_df.sum().sort_values(ascending=True).tail(20).plot(kind='barh',ax = ax[0])\n",
    "ax[0].set_title('Top 20 Most Commonly Observed Unigrams flagged as sexist')\n",
    "ax[0].set_xlabel('Count')\n",
    "\n",
    "# Setting up plot for racism\n",
    "lemm_cv1_racism_df.sum().sort_values(ascending=True).tail(20).plot(kind='barh',ax = ax[1])\n",
    "ax[1].set_title('Top 20 Most Commonly Observed Unigrams flagged as racist')\n",
    "ax[1].set_xlabel('Count');"
   ]
  },
  {
   "cell_type": "markdown",
   "id": "84f756da",
   "metadata": {},
   "source": [
    "It can be observed that unigrams from tweets flagged as racist are largely centred around females. mkr stands for My Kitchen Rules, a reality cooking competition, and its hashtag #mkr contains many sexist comments on Twitter.\n",
    "\n",
    "Those flagged as racist have significant anti-religious sentiments, primarily centered around the Abrahamic faiths (Islam, Christianity, and Judaism), with references to fundamentalists and extremists ('ISI' or ISIS, lemmatized/stemmed the second 's' away, and 'terrorist')."
   ]
  },
  {
   "cell_type": "markdown",
   "id": "6234f797",
   "metadata": {},
   "source": [
    "### Bigram"
   ]
  },
  {
   "cell_type": "code",
   "execution_count": 37,
   "id": "4b474440",
   "metadata": {},
   "outputs": [
    {
     "data": {
      "image/png": "[encoded data removed]",
      "text/plain": [
       "<Figure size 1080x576 with 2 Axes>"
      ]
     },
     "metadata": {
      "needs_background": "light"
     },
     "output_type": "display_data"
    }
   ],
   "source": [
    "# Plotting the top 20 bigram of lemmatized texts\n",
    "fig, ax = plt.subplots(nrows = 1, ncols = 2, figsize= (15,8))\n",
    "ax = ax.ravel()\n",
    "\n",
    "plt.subplots_adjust(hspace = 0.1)\n",
    "\n",
    "# Setting up plot for sexism\n",
    "lemm_cv2_sexism_df.sum().sort_values(ascending=True).tail(20).plot(kind='barh',ax = ax[0])\n",
    "ax[0].set_title('Top 20 Most Commonly Observed Bigrams flagged as sexist')\n",
    "ax[0].set_xlabel('Count')\n",
    "\n",
    "# Setting up plot for racism\n",
    "lemm_cv2_racism_df.sum().sort_values(ascending=True).tail(20).plot(kind='barh',ax = ax[1])\n",
    "ax[1].set_title('Top 20 Most Commonly Observed Bigrams flagged as racist')\n",
    "ax[1].set_xlabel('Count');"
   ]
  },
  {
   "cell_type": "markdown",
   "id": "9f4bbb1c",
   "metadata": {},
   "source": [
    "Commonly observed bigrams from tweets flagged as sexist are still centered around My Kitchen Rules, and many tweets contain the word 'sexist'.\n",
    "\n",
    "At this level, it can be seen that the 2 most common themes are about calling out or recognizing sexism. Though upon further investigation, these tweets frequently contain phrases such as 'call me sexist but... (follows by something sexist)', or 'i'm not a sexist but... (follows by something sexist)'.\n",
    "\n",
    "Commonly observed bigrams from tweets flagged as racist show similar themes as seen in unigrams.\n",
    "\n",
    "Interestingly, the bigram '1400 year' and 'humanity 1400' are now highlighted when previously in unigrams, neither of the terms '1400' and 'humanity' are highlighted, alongside the lack of mentions of 'isi' (ISIS) despite it being a frequently observed unigram. Also, there are mentions of girls which are not seen in the unigrams. \n",
    "\n",
    "However, at the bigram level, there is not much information about the references to '1400 year', i.e. what happened around year 1400 or what happened about 1400 years ago? Based on the top few frequently observed bigrams, a guess can be made about some declaration of war at that point in history."
   ]
  },
  {
   "cell_type": "markdown",
   "id": "626722e2",
   "metadata": {},
   "source": [
    "### Trigram"
   ]
  },
  {
   "cell_type": "code",
   "execution_count": 38,
   "id": "ccbddbfa",
   "metadata": {},
   "outputs": [
    {
     "data": {
      "image/png": "[encoded data removed]",
      "text/plain": [
       "<Figure size 1080x576 with 2 Axes>"
      ]
     },
     "metadata": {
      "needs_background": "light"
     },
     "output_type": "display_data"
    }
   ],
   "source": [
    "# Plotting the top 20 bigram of lemmatized texts\n",
    "fig, ax = plt.subplots(nrows = 1, ncols = 2, figsize= (15,8))\n",
    "ax = ax.ravel()\n",
    "\n",
    "plt.subplots_adjust(hspace = 0.1)\n",
    "\n",
    "# Setting up plot for sexism\n",
    "lemm_cv3_sexism_df.sum().sort_values(ascending=True).tail(20).plot(kind='barh',ax = ax[0])\n",
    "ax[0].set_title('Top 20 Most Commonly Observed Trigrams flagged as sexist')\n",
    "ax[0].set_xlabel('Count')\n",
    "\n",
    "# Setting up plot for racism\n",
    "lemm_cv3_racism_df.sum().sort_values(ascending=True).tail(20).plot(kind='barh',ax = ax[1])\n",
    "ax[1].set_title('Top 20 Most Commonly Observed Trigrams flagged as racist')\n",
    "ax[1].set_xlabel('Count');"
   ]
  },
  {
   "cell_type": "markdown",
   "id": "01adaa29",
   "metadata": {},
   "source": [
    "Commonly observed trigrams from tweets flagged as sexist see that the words 'sexist' and 'mkr' are still dominant. \n",
    "\n",
    "With more granularity, the 'call sexist' bigrams is now split into more variants but these variants do not give any more information about those tweets seen in the bigrams.\n",
    "\n",
    "Commonly observed trigrams from tweets flagged as racist gives us more certainty about what happened about 1400 years ago as compared to bigrams.\n",
    "\n",
    "Based on the results, it seems that 1400 years ago, there was some declaration of war on humanity. There is more information about the treatment of Jews (beheadment).\n",
    "\n",
    "Interestingly, there is the first mention of a non-Abrahamic faith in a tweet flagged as racist, i.e. Hinduism."
   ]
  },
  {
   "cell_type": "markdown",
   "id": "2d758a4d",
   "metadata": {},
   "source": [
    "# Removing Unneccessary Columns\n",
    "\n",
    "This is done as the dataset will be exported and used for the preprocessing and EDA of character n-grams."
   ]
  },
  {
   "cell_type": "code",
   "execution_count": 39,
   "id": "34985af6",
   "metadata": {},
   "outputs": [],
   "source": [
    "twitter_final = twitter_final.drop(columns = ['Text_stem_length','Text_lemm_length','length_multiple','Text_lemm_word_length'])"
   ]
  },
  {
   "cell_type": "markdown",
   "id": "4e87c9e3",
   "metadata": {},
   "source": [
    "# Exporting Dataset"
   ]
  },
  {
   "cell_type": "code",
   "execution_count": 44,
   "id": "3d210664",
   "metadata": {},
   "outputs": [],
   "source": [
    "twitter_final.to_csv('../Capstone/data/twitter_final2.csv', index = False)"
   ]
  }
 ],
 "metadata": {
  "kernelspec": {
   "display_name": "Python 3 (ipykernel)",
   "language": "python",
   "name": "python3"
  },
  "language_info": {
   "codemirror_mode": {
    "name": "ipython",
    "version": 3
   },
   "file_extension": ".py",
   "mimetype": "text/x-python",
   "name": "python",
   "nbconvert_exporter": "python",
   "pygments_lexer": "ipython3",
   "version": "3.8.13"
  }
 },
 "nbformat": 4,
 "nbformat_minor": 5
}
