{
 "cells": [
  {
   "cell_type": "markdown",
   "id": "6593cbb2",
   "metadata": {},
   "source": [
    "# Background"
   ]
  },
  {
   "cell_type": "markdown",
   "id": "ae9034f3",
   "metadata": {},
   "source": [
    "Twitter is a micro-blogging social media platform with 217.5 million daily active users globally. With 500 million new tweets (posts) daily, the topics of these tweets varies widely – k-pop, politics, financial news… you name it! Individuals use it for news, entertainment, and discussions, while corporations use them to as a marketing tool to reach out to a wide audience. Given the freedom Twitter accords to its user, Twitter can provide a conducive environment for productive discourse, but this freedom can also be abused, manifesting in the forms of racism and sexism."
   ]
  },
  {
   "cell_type": "markdown",
   "id": "e5113afb",
   "metadata": {},
   "source": [
    "# Problem Statement"
   ]
  },
  {
   "cell_type": "markdown",
   "id": "99ba471b",
   "metadata": {},
   "source": [
    "With Twitter’s significant income stream coming from advertisers, it is imperative that Twitter keeps a substantial user base. On the other hand, Twitter should maintain a safe space for users and provide some level of checks for the tweets the users put out into the public space, and the first step would be to identify tweets that espouse racist or sexist ideologies, and then Twitter can direct the users to appropriate sources of information where users can learn more about the community that they offend or their subconscious biases so they will be more aware of their racist/sexist tendencies. Thus, to balance, Twitter has to be accurate in filtering inappropriate tweets from innocuous ones, and the kind of inappropriateness of flagged tweets (tag - racist or sexist).\n",
    "\n",
    "F1-scores will be the primary metric as it looks at both precision and recall, each looking at false positives (FPs) and false negatives (FNs) respectively, and is a popular metric for imbalanced data as is the case with the dataset used.\n",
    "\n",
    "For the purpose of explanation, racist tweets are used as the ‘positive’ case.\n",
    "\n",
    "In this context, FPs are the cases where the model erroneously flags out tweets as racist when the tweet is actually innocuous/sexist. FNs are cases where the model erroneously flags out tweets as innocuous/sexist but the tweets are actually racist.\n",
    "\n",
    "Thus, higher F1-scores are preferred."
   ]
  },
  {
   "cell_type": "markdown",
   "id": "33df08aa",
   "metadata": {},
   "source": [
    "# Importing Libraries"
   ]
  },
  {
   "cell_type": "code",
   "execution_count": 1,
   "id": "ab4bab57",
   "metadata": {},
   "outputs": [],
   "source": [
    "# Standard libraries\n",
    "import numpy as np\n",
    "import pandas as pd\n",
    "\n",
    "# Visualization libraries\n",
    "import matplotlib.pyplot as plt\n",
    "import seaborn as sns\n",
    "import plotly.express as px\n",
    "\n",
    "# For NLP data cleaning and preprocessing\n",
    "import re, string, nltk, itertools\n",
    "from nltk.tokenize import word_tokenize\n",
    "from nltk.stem import WordNetLemmatizer, PorterStemmer\n",
    "from sklearn.feature_extraction.text import CountVectorizer, TfidfVectorizer"
   ]
  },
  {
   "cell_type": "code",
   "execution_count": 2,
   "id": "1fef6a57",
   "metadata": {},
   "outputs": [],
   "source": [
    "# Changing display settings\n",
    "pd.set_option('display.max_row', 100)\n",
    "pd.set_option('display.max_colwidth', None)"
   ]
  },
  {
   "cell_type": "markdown",
   "id": "3d2c0db3",
   "metadata": {},
   "source": [
    "# Importing Dataset"
   ]
  },
  {
   "cell_type": "code",
   "execution_count": 3,
   "id": "d6a6d581",
   "metadata": {},
   "outputs": [],
   "source": [
    "twitter_final2 = pd.read_csv('../Capstone/data/twitter_final2.csv')"
   ]
  },
  {
   "cell_type": "code",
   "execution_count": 4,
   "id": "e292adb4",
   "metadata": {},
   "outputs": [
    {
     "data": {
      "text/html": [
       "<div>\n",
       "<style scoped>\n",
       "    .dataframe tbody tr th:only-of-type {\n",
       "        vertical-align: middle;\n",
       "    }\n",
       "\n",
       "    .dataframe tbody tr th {\n",
       "        vertical-align: top;\n",
       "    }\n",
       "\n",
       "    .dataframe thead th {\n",
       "        text-align: right;\n",
       "    }\n",
       "</style>\n",
       "<table border=\"1\" class=\"dataframe\">\n",
       "  <thead>\n",
       "    <tr style=\"text-align: right;\">\n",
       "      <th></th>\n",
       "      <th>Text</th>\n",
       "      <th>Annotation</th>\n",
       "      <th>oh_label</th>\n",
       "      <th>Text_stem</th>\n",
       "      <th>Text_lemm</th>\n",
       "    </tr>\n",
       "  </thead>\n",
       "  <tbody>\n",
       "    <tr>\n",
       "      <th>0</th>\n",
       "      <td>@halalflaws @biebervalue @greenlinerzjm I read them in context.No change in meaning. The history of Islamic slavery. https://t.co/xWJzpSodGj</td>\n",
       "      <td>none</td>\n",
       "      <td>0</td>\n",
       "      <td>read contextno chang mean histori islam slaveri</td>\n",
       "      <td>read contextno change meaning history islamic slavery</td>\n",
       "    </tr>\n",
       "    <tr>\n",
       "      <th>1</th>\n",
       "      <td>@ShreyaBafna3 Now you idiots claim that people who tried to stop him from becoming a terrorist made him a terrorist. Islamically brain dead.</td>\n",
       "      <td>none</td>\n",
       "      <td>0</td>\n",
       "      <td>idiot claim peopl tri stop becom terrorist made terrorist islam brain dead</td>\n",
       "      <td>idiot claim people try stop become terrorist make terrorist islamically brain dead</td>\n",
       "    </tr>\n",
       "    <tr>\n",
       "      <th>2</th>\n",
       "      <td>RT @Mooseoftorment Call me sexist, but when I go to an auto place, I'd rather talk to a guy</td>\n",
       "      <td>sexism</td>\n",
       "      <td>1</td>\n",
       "      <td>call sexist go auto place would rather talk guy</td>\n",
       "      <td>call sexist go auto place would rather talk guy</td>\n",
       "    </tr>\n",
       "    <tr>\n",
       "      <th>3</th>\n",
       "      <td>@g0ssipsquirrelx Wrong, ISIS follows the example of Mohammed and the Quran exactly.</td>\n",
       "      <td>racism</td>\n",
       "      <td>1</td>\n",
       "      <td>wrong isi follow exampl moham quran exactli</td>\n",
       "      <td>wrong isi follow example mohammed quran exactly</td>\n",
       "    </tr>\n",
       "    <tr>\n",
       "      <th>4</th>\n",
       "      <td>#mkr No No No No No No</td>\n",
       "      <td>none</td>\n",
       "      <td>0</td>\n",
       "      <td>mkr</td>\n",
       "      <td>mkr</td>\n",
       "    </tr>\n",
       "  </tbody>\n",
       "</table>\n",
       "</div>"
      ],
      "text/plain": [
       "                                                                                                                                           Text  \\\n",
       "0  @halalflaws @biebervalue @greenlinerzjm I read them in context.No change in meaning. The history of Islamic slavery. https://t.co/xWJzpSodGj   \n",
       "1  @ShreyaBafna3 Now you idiots claim that people who tried to stop him from becoming a terrorist made him a terrorist. Islamically brain dead.   \n",
       "2                                                   RT @Mooseoftorment Call me sexist, but when I go to an auto place, I'd rather talk to a guy   \n",
       "3                                                           @g0ssipsquirrelx Wrong, ISIS follows the example of Mohammed and the Quran exactly.   \n",
       "4                                                                                                                        #mkr No No No No No No   \n",
       "\n",
       "  Annotation  oh_label  \\\n",
       "0       none         0   \n",
       "1       none         0   \n",
       "2     sexism         1   \n",
       "3     racism         1   \n",
       "4       none         0   \n",
       "\n",
       "                                                                    Text_stem  \\\n",
       "0                             read contextno chang mean histori islam slaveri   \n",
       "1  idiot claim peopl tri stop becom terrorist made terrorist islam brain dead   \n",
       "2                             call sexist go auto place would rather talk guy   \n",
       "3                                 wrong isi follow exampl moham quran exactli   \n",
       "4                                                                         mkr   \n",
       "\n",
       "                                                                            Text_lemm  \n",
       "0                               read contextno change meaning history islamic slavery  \n",
       "1  idiot claim people try stop become terrorist make terrorist islamically brain dead  \n",
       "2                                     call sexist go auto place would rather talk guy  \n",
       "3                                     wrong isi follow example mohammed quran exactly  \n",
       "4                                                                                 mkr  "
      ]
     },
     "execution_count": 4,
     "metadata": {},
     "output_type": "execute_result"
    }
   ],
   "source": [
    "twitter_final2.head()"
   ]
  },
  {
   "cell_type": "markdown",
   "id": "ca188d87",
   "metadata": {},
   "source": [
    "# Preprocessing of Character n-grams"
   ]
  },
  {
   "cell_type": "markdown",
   "id": "c22182cd",
   "metadata": {},
   "source": [
    "### Creating Function to create character n-grams"
   ]
  },
  {
   "cell_type": "code",
   "execution_count": 5,
   "id": "f709532f",
   "metadata": {},
   "outputs": [],
   "source": [
    "def creating_char_n_gram(text, n):\n",
    "    result = []\n",
    "    text = str(text).split()\n",
    "    for word in text:\n",
    "        result.append([word[i: i + n] for i in range(len(word) - n + 1)])\n",
    "    result = list(itertools.chain.from_iterable(result))\n",
    "    return result"
   ]
  },
  {
   "cell_type": "code",
   "execution_count": 6,
   "id": "d00f4c81",
   "metadata": {},
   "outputs": [],
   "source": [
    "# Results of previous function is a list of lists containing character n-grams, need to unwrap the inner lists\n",
    "def unwrapping_lists_of_char_n_grams(text):\n",
    "    for i in range(len(text)):\n",
    "        return ' '.join(text)"
   ]
  },
  {
   "cell_type": "markdown",
   "id": "5a1a3be9",
   "metadata": {},
   "source": [
    "### Creating Columns of Character n-gram "
   ]
  },
  {
   "cell_type": "markdown",
   "id": "39af8994",
   "metadata": {},
   "source": [
    "### Based on stemmed text"
   ]
  },
  {
   "cell_type": "code",
   "execution_count": 7,
   "id": "5e5ae9a3",
   "metadata": {},
   "outputs": [],
   "source": [
    "# Creating character n-gram columns and unwrapping the lists of individual character n-grams\n",
    "# Character 2-gram\n",
    "twitter_final2['Text_stem_char_2_gram'] = twitter_final2['Text_stem'].apply(lambda text: creating_char_n_gram(text,2))\n",
    "twitter_final2['Text_stem_char_2_gram'] = twitter_final2['Text_stem_char_2_gram'].apply(lambda text: unwrapping_lists_of_char_n_grams(text))\n",
    "\n",
    "# Character 3-gram\n",
    "twitter_final2['Text_stem_char_3_gram'] = twitter_final2['Text_stem'].apply(lambda text: creating_char_n_gram(text,3))\n",
    "twitter_final2['Text_stem_char_3_gram'] = twitter_final2['Text_stem_char_3_gram'].apply(lambda text: unwrapping_lists_of_char_n_grams(text))\n",
    "\n",
    "# Character 4-gram\n",
    "twitter_final2['Text_stem_char_4_gram'] = twitter_final2['Text_stem'].apply(lambda text: creating_char_n_gram(text,4))\n",
    "twitter_final2['Text_stem_char_4_gram'] = twitter_final2['Text_stem_char_4_gram'].apply(lambda text: unwrapping_lists_of_char_n_grams(text))"
   ]
  },
  {
   "cell_type": "markdown",
   "id": "37910ba9",
   "metadata": {},
   "source": [
    "### Based on lemmatized text"
   ]
  },
  {
   "cell_type": "code",
   "execution_count": 8,
   "id": "7afe4f7d",
   "metadata": {},
   "outputs": [],
   "source": [
    "# Creating character n-gram columns and unwrapping the lists of individual character n-grams\n",
    "# Character 2-gram\n",
    "twitter_final2['Text_lemm_char_2_gram'] = twitter_final2['Text_lemm'].apply(lambda text: creating_char_n_gram(text,2))\n",
    "twitter_final2['Text_lemm_char_2_gram'] = twitter_final2['Text_lemm_char_2_gram'].apply(lambda text: unwrapping_lists_of_char_n_grams(text))\n",
    "\n",
    "# Character 3-gram\n",
    "twitter_final2['Text_lemm_char_3_gram'] = twitter_final2['Text_lemm'].apply(lambda text: creating_char_n_gram(text,3))\n",
    "twitter_final2['Text_lemm_char_3_gram'] = twitter_final2['Text_lemm_char_3_gram'].apply(lambda text: unwrapping_lists_of_char_n_grams(text))\n",
    "\n",
    "# Character 4-gram\n",
    "twitter_final2['Text_lemm_char_4_gram'] = twitter_final2['Text_lemm'].apply(lambda text: creating_char_n_gram(text,4))\n",
    "twitter_final2['Text_lemm_char_4_gram'] = twitter_final2['Text_lemm_char_4_gram'].apply(lambda text: unwrapping_lists_of_char_n_grams(text))"
   ]
  },
  {
   "cell_type": "code",
   "execution_count": 9,
   "id": "f58238d2",
   "metadata": {},
   "outputs": [
    {
     "data": {
      "text/html": [
       "<div>\n",
       "<style scoped>\n",
       "    .dataframe tbody tr th:only-of-type {\n",
       "        vertical-align: middle;\n",
       "    }\n",
       "\n",
       "    .dataframe tbody tr th {\n",
       "        vertical-align: top;\n",
       "    }\n",
       "\n",
       "    .dataframe thead th {\n",
       "        text-align: right;\n",
       "    }\n",
       "</style>\n",
       "<table border=\"1\" class=\"dataframe\">\n",
       "  <thead>\n",
       "    <tr style=\"text-align: right;\">\n",
       "      <th></th>\n",
       "      <th>Text</th>\n",
       "      <th>Annotation</th>\n",
       "      <th>oh_label</th>\n",
       "      <th>Text_stem</th>\n",
       "      <th>Text_lemm</th>\n",
       "      <th>Text_stem_char_2_gram</th>\n",
       "      <th>Text_stem_char_3_gram</th>\n",
       "      <th>Text_stem_char_4_gram</th>\n",
       "      <th>Text_lemm_char_2_gram</th>\n",
       "      <th>Text_lemm_char_3_gram</th>\n",
       "      <th>Text_lemm_char_4_gram</th>\n",
       "    </tr>\n",
       "  </thead>\n",
       "  <tbody>\n",
       "    <tr>\n",
       "      <th>0</th>\n",
       "      <td>@halalflaws @biebervalue @greenlinerzjm I read them in context.No change in meaning. The history of Islamic slavery. https://t.co/xWJzpSodGj</td>\n",
       "      <td>none</td>\n",
       "      <td>0</td>\n",
       "      <td>read contextno chang mean histori islam slaveri</td>\n",
       "      <td>read contextno change meaning history islamic slavery</td>\n",
       "      <td>re ea ad co on nt te ex xt tn no ch ha an ng me ea an hi is st to or ri is sl la am sl la av ve er ri</td>\n",
       "      <td>rea ead con ont nte tex ext xtn tno cha han ang mea ean his ist sto tor ori isl sla lam sla lav ave ver eri</td>\n",
       "      <td>read cont onte ntex text extn xtno chan hang mean hist isto stor tori isla slam slav lave aver veri</td>\n",
       "      <td>re ea ad co on nt te ex xt tn no ch ha an ng ge me ea an ni in ng hi is st to or ry is sl la am mi ic sl la av ve er ry</td>\n",
       "      <td>rea ead con ont nte tex ext xtn tno cha han ang nge mea ean ani nin ing his ist sto tor ory isl sla lam ami mic sla lav ave ver ery</td>\n",
       "      <td>read cont onte ntex text extn xtno chan hang ange mean eani anin ning hist isto stor tory isla slam lami amic slav lave aver very</td>\n",
       "    </tr>\n",
       "    <tr>\n",
       "      <th>1</th>\n",
       "      <td>@ShreyaBafna3 Now you idiots claim that people who tried to stop him from becoming a terrorist made him a terrorist. Islamically brain dead.</td>\n",
       "      <td>none</td>\n",
       "      <td>0</td>\n",
       "      <td>idiot claim peopl tri stop becom terrorist made terrorist islam brain dead</td>\n",
       "      <td>idiot claim people try stop become terrorist make terrorist islamically brain dead</td>\n",
       "      <td>id di io ot cl la ai im pe eo op pl tr ri st to op be ec co om te er rr ro or ri is st ma ad de te er rr ro or ri is st is sl la am br ra ai in de ea ad</td>\n",
       "      <td>idi dio iot cla lai aim peo eop opl tri sto top bec eco com ter err rro ror ori ris ist mad ade ter err rro ror ori ris ist isl sla lam bra rai ain dea ead</td>\n",
       "      <td>idio diot clai laim peop eopl stop beco ecom terr erro rror rori oris rist made terr erro rror rori oris rist isla slam brai rain dead</td>\n",
       "      <td>id di io ot cl la ai im pe eo op pl le tr ry st to op be ec co om me te er rr ro or ri is st ma ak ke te er rr ro or ri is st is sl la am mi ic ca al ll ly br ra ai in de ea ad</td>\n",
       "      <td>idi dio iot cla lai aim peo eop opl ple try sto top bec eco com ome ter err rro ror ori ris ist mak ake ter err rro ror ori ris ist isl sla lam ami mic ica cal all lly bra rai ain dea ead</td>\n",
       "      <td>idio diot clai laim peop eopl ople stop beco ecom come terr erro rror rori oris rist make terr erro rror rori oris rist isla slam lami amic mica ical call ally brai rain dead</td>\n",
       "    </tr>\n",
       "    <tr>\n",
       "      <th>2</th>\n",
       "      <td>RT @Mooseoftorment Call me sexist, but when I go to an auto place, I'd rather talk to a guy</td>\n",
       "      <td>sexism</td>\n",
       "      <td>1</td>\n",
       "      <td>call sexist go auto place would rather talk guy</td>\n",
       "      <td>call sexist go auto place would rather talk guy</td>\n",
       "      <td>ca al ll se ex xi is st go au ut to pl la ac ce wo ou ul ld ra at th he er ta al lk gu uy</td>\n",
       "      <td>cal all sex exi xis ist aut uto pla lac ace wou oul uld rat ath the her tal alk guy</td>\n",
       "      <td>call sexi exis xist auto plac lace woul ould rath athe ther talk</td>\n",
       "      <td>ca al ll se ex xi is st go au ut to pl la ac ce wo ou ul ld ra at th he er ta al lk gu uy</td>\n",
       "      <td>cal all sex exi xis ist aut uto pla lac ace wou oul uld rat ath the her tal alk guy</td>\n",
       "      <td>call sexi exis xist auto plac lace woul ould rath athe ther talk</td>\n",
       "    </tr>\n",
       "    <tr>\n",
       "      <th>3</th>\n",
       "      <td>@g0ssipsquirrelx Wrong, ISIS follows the example of Mohammed and the Quran exactly.</td>\n",
       "      <td>racism</td>\n",
       "      <td>1</td>\n",
       "      <td>wrong isi follow exampl moham quran exactli</td>\n",
       "      <td>wrong isi follow example mohammed quran exactly</td>\n",
       "      <td>wr ro on ng is si fo ol ll lo ow ex xa am mp pl mo oh ha am qu ur ra an ex xa ac ct tl li</td>\n",
       "      <td>wro ron ong isi fol oll llo low exa xam amp mpl moh oha ham qur ura ran exa xac act ctl tli</td>\n",
       "      <td>wron rong foll ollo llow exam xamp ampl moha oham qura uran exac xact actl ctli</td>\n",
       "      <td>wr ro on ng is si fo ol ll lo ow ex xa am mp pl le mo oh ha am mm me ed qu ur ra an ex xa ac ct tl ly</td>\n",
       "      <td>wro ron ong isi fol oll llo low exa xam amp mpl ple moh oha ham amm mme med qur ura ran exa xac act ctl tly</td>\n",
       "      <td>wron rong foll ollo llow exam xamp ampl mple moha oham hamm amme mmed qura uran exac xact actl ctly</td>\n",
       "    </tr>\n",
       "    <tr>\n",
       "      <th>4</th>\n",
       "      <td>#mkr No No No No No No</td>\n",
       "      <td>none</td>\n",
       "      <td>0</td>\n",
       "      <td>mkr</td>\n",
       "      <td>mkr</td>\n",
       "      <td>mk kr</td>\n",
       "      <td>mkr</td>\n",
       "      <td>None</td>\n",
       "      <td>mk kr</td>\n",
       "      <td>mkr</td>\n",
       "      <td>None</td>\n",
       "    </tr>\n",
       "  </tbody>\n",
       "</table>\n",
       "</div>"
      ],
      "text/plain": [
       "                                                                                                                                           Text  \\\n",
       "0  @halalflaws @biebervalue @greenlinerzjm I read them in context.No change in meaning. The history of Islamic slavery. https://t.co/xWJzpSodGj   \n",
       "1  @ShreyaBafna3 Now you idiots claim that people who tried to stop him from becoming a terrorist made him a terrorist. Islamically brain dead.   \n",
       "2                                                   RT @Mooseoftorment Call me sexist, but when I go to an auto place, I'd rather talk to a guy   \n",
       "3                                                           @g0ssipsquirrelx Wrong, ISIS follows the example of Mohammed and the Quran exactly.   \n",
       "4                                                                                                                        #mkr No No No No No No   \n",
       "\n",
       "  Annotation  oh_label  \\\n",
       "0       none         0   \n",
       "1       none         0   \n",
       "2     sexism         1   \n",
       "3     racism         1   \n",
       "4       none         0   \n",
       "\n",
       "                                                                    Text_stem  \\\n",
       "0                             read contextno chang mean histori islam slaveri   \n",
       "1  idiot claim peopl tri stop becom terrorist made terrorist islam brain dead   \n",
       "2                             call sexist go auto place would rather talk guy   \n",
       "3                                 wrong isi follow exampl moham quran exactli   \n",
       "4                                                                         mkr   \n",
       "\n",
       "                                                                            Text_lemm  \\\n",
       "0                               read contextno change meaning history islamic slavery   \n",
       "1  idiot claim people try stop become terrorist make terrorist islamically brain dead   \n",
       "2                                     call sexist go auto place would rather talk guy   \n",
       "3                                     wrong isi follow example mohammed quran exactly   \n",
       "4                                                                                 mkr   \n",
       "\n",
       "                                                                                                                                      Text_stem_char_2_gram  \\\n",
       "0                                                     re ea ad co on nt te ex xt tn no ch ha an ng me ea an hi is st to or ri is sl la am sl la av ve er ri   \n",
       "1  id di io ot cl la ai im pe eo op pl tr ri st to op be ec co om te er rr ro or ri is st ma ad de te er rr ro or ri is st is sl la am br ra ai in de ea ad   \n",
       "2                                                                 ca al ll se ex xi is st go au ut to pl la ac ce wo ou ul ld ra at th he er ta al lk gu uy   \n",
       "3                                                                 wr ro on ng is si fo ol ll lo ow ex xa am mp pl mo oh ha am qu ur ra an ex xa ac ct tl li   \n",
       "4                                                                                                                                                     mk kr   \n",
       "\n",
       "                                                                                                                                         Text_stem_char_3_gram  \\\n",
       "0                                                  rea ead con ont nte tex ext xtn tno cha han ang mea ean his ist sto tor ori isl sla lam sla lav ave ver eri   \n",
       "1  idi dio iot cla lai aim peo eop opl tri sto top bec eco com ter err rro ror ori ris ist mad ade ter err rro ror ori ris ist isl sla lam bra rai ain dea ead   \n",
       "2                                                                          cal all sex exi xis ist aut uto pla lac ace wou oul uld rat ath the her tal alk guy   \n",
       "3                                                                  wro ron ong isi fol oll llo low exa xam amp mpl moh oha ham qur ura ran exa xac act ctl tli   \n",
       "4                                                                                                                                                          mkr   \n",
       "\n",
       "                                                                                                                    Text_stem_char_4_gram  \\\n",
       "0                                     read cont onte ntex text extn xtno chan hang mean hist isto stor tori isla slam slav lave aver veri   \n",
       "1  idio diot clai laim peop eopl stop beco ecom terr erro rror rori oris rist made terr erro rror rori oris rist isla slam brai rain dead   \n",
       "2                                                                        call sexi exis xist auto plac lace woul ould rath athe ther talk   \n",
       "3                                                         wron rong foll ollo llow exam xamp ampl moha oham qura uran exac xact actl ctli   \n",
       "4                                                                                                                                    None   \n",
       "\n",
       "                                                                                                                                                              Text_lemm_char_2_gram  \\\n",
       "0                                                           re ea ad co on nt te ex xt tn no ch ha an ng ge me ea an ni in ng hi is st to or ry is sl la am mi ic sl la av ve er ry   \n",
       "1  id di io ot cl la ai im pe eo op pl le tr ry st to op be ec co om me te er rr ro or ri is st ma ak ke te er rr ro or ri is st is sl la am mi ic ca al ll ly br ra ai in de ea ad   \n",
       "2                                                                                         ca al ll se ex xi is st go au ut to pl la ac ce wo ou ul ld ra at th he er ta al lk gu uy   \n",
       "3                                                                             wr ro on ng is si fo ol ll lo ow ex xa am mp pl le mo oh ha am mm me ed qu ur ra an ex xa ac ct tl ly   \n",
       "4                                                                                                                                                                             mk kr   \n",
       "\n",
       "                                                                                                                                                                         Text_lemm_char_3_gram  \\\n",
       "0                                                          rea ead con ont nte tex ext xtn tno cha han ang nge mea ean ani nin ing his ist sto tor ory isl sla lam ami mic sla lav ave ver ery   \n",
       "1  idi dio iot cla lai aim peo eop opl ple try sto top bec eco com ome ter err rro ror ori ris ist mak ake ter err rro ror ori ris ist isl sla lam ami mic ica cal all lly bra rai ain dea ead   \n",
       "2                                                                                                          cal all sex exi xis ist aut uto pla lac ace wou oul uld rat ath the her tal alk guy   \n",
       "3                                                                                  wro ron ong isi fol oll llo low exa xam amp mpl ple moh oha ham amm mme med qur ura ran exa xac act ctl tly   \n",
       "4                                                                                                                                                                                          mkr   \n",
       "\n",
       "                                                                                                                                                            Text_lemm_char_4_gram  \n",
       "0                                               read cont onte ntex text extn xtno chan hang ange mean eani anin ning hist isto stor tory isla slam lami amic slav lave aver very  \n",
       "1  idio diot clai laim peop eopl ople stop beco ecom come terr erro rror rori oris rist make terr erro rror rori oris rist isla slam lami amic mica ical call ally brai rain dead  \n",
       "2                                                                                                                call sexi exis xist auto plac lace woul ould rath athe ther talk  \n",
       "3                                                                             wron rong foll ollo llow exam xamp ampl mple moha oham hamm amme mmed qura uran exac xact actl ctly  \n",
       "4                                                                                                                                                                            None  "
      ]
     },
     "execution_count": 9,
     "metadata": {},
     "output_type": "execute_result"
    }
   ],
   "source": [
    "twitter_final2.head()"
   ]
  },
  {
   "cell_type": "markdown",
   "id": "04d66e5e",
   "metadata": {},
   "source": [
    "It can be observed that some texts rows contain None because the cleaned texts do not have enough characters to make the character n-grams. Need to remove those rows before transforming the columns into bag of words."
   ]
  },
  {
   "cell_type": "code",
   "execution_count": 10,
   "id": "d944ad87",
   "metadata": {},
   "outputs": [
    {
     "data": {
      "text/plain": [
       "11"
      ]
     },
     "execution_count": 10,
     "metadata": {},
     "output_type": "execute_result"
    }
   ],
   "source": [
    "twitter_final2.Text_stem_char_2_gram.isna().sum()"
   ]
  },
  {
   "cell_type": "code",
   "execution_count": 11,
   "id": "0bdf4fff",
   "metadata": {},
   "outputs": [
    {
     "data": {
      "text/plain": [
       "56"
      ]
     },
     "execution_count": 11,
     "metadata": {},
     "output_type": "execute_result"
    }
   ],
   "source": [
    "twitter_final2.Text_stem_char_3_gram.isna().sum()"
   ]
  },
  {
   "cell_type": "code",
   "execution_count": 12,
   "id": "0de8b082",
   "metadata": {},
   "outputs": [
    {
     "data": {
      "text/plain": [
       "229"
      ]
     },
     "execution_count": 12,
     "metadata": {},
     "output_type": "execute_result"
    }
   ],
   "source": [
    "twitter_final2.Text_stem_char_4_gram.isna().sum()"
   ]
  },
  {
   "cell_type": "code",
   "execution_count": 13,
   "id": "5b0d0262",
   "metadata": {},
   "outputs": [
    {
     "data": {
      "text/plain": [
       "13"
      ]
     },
     "execution_count": 13,
     "metadata": {},
     "output_type": "execute_result"
    }
   ],
   "source": [
    "twitter_final2.Text_lemm_char_2_gram.isna().sum()"
   ]
  },
  {
   "cell_type": "code",
   "execution_count": 14,
   "id": "968fa415",
   "metadata": {},
   "outputs": [
    {
     "data": {
      "text/plain": [
       "36"
      ]
     },
     "execution_count": 14,
     "metadata": {},
     "output_type": "execute_result"
    }
   ],
   "source": [
    "twitter_final2.Text_lemm_char_3_gram.isna().sum()"
   ]
  },
  {
   "cell_type": "code",
   "execution_count": 15,
   "id": "934fbbd8",
   "metadata": {},
   "outputs": [
    {
     "data": {
      "text/plain": [
       "239"
      ]
     },
     "execution_count": 15,
     "metadata": {},
     "output_type": "execute_result"
    }
   ],
   "source": [
    "twitter_final2.Text_lemm_char_4_gram.isna().sum()"
   ]
  },
  {
   "cell_type": "markdown",
   "id": "d0602105",
   "metadata": {},
   "source": [
    "# Dropping rows with None values"
   ]
  },
  {
   "cell_type": "code",
   "execution_count": 16,
   "id": "f436a503",
   "metadata": {},
   "outputs": [
    {
     "data": {
      "text/plain": [
       "(16542, 11)"
      ]
     },
     "execution_count": 16,
     "metadata": {},
     "output_type": "execute_result"
    }
   ],
   "source": [
    "twitter_final2.shape"
   ]
  },
  {
   "cell_type": "code",
   "execution_count": 17,
   "id": "57664fc4",
   "metadata": {},
   "outputs": [],
   "source": [
    "twitter_final2 = twitter_final2.dropna(subset = ['Text_stem_char_2_gram','Text_stem_char_3_gram','Text_stem_char_4_gram'])\n",
    "twitter_final2 = twitter_final2.dropna(subset = ['Text_lemm_char_2_gram','Text_lemm_char_3_gram','Text_lemm_char_4_gram'])"
   ]
  },
  {
   "cell_type": "code",
   "execution_count": 18,
   "id": "c4e6ced7",
   "metadata": {},
   "outputs": [
    {
     "data": {
      "text/plain": [
       "0"
      ]
     },
     "execution_count": 18,
     "metadata": {},
     "output_type": "execute_result"
    }
   ],
   "source": [
    "# Checking\n",
    "twitter_final2.Text_stem_char_2_gram.isna().sum()"
   ]
  },
  {
   "cell_type": "code",
   "execution_count": 19,
   "id": "4604e850",
   "metadata": {},
   "outputs": [
    {
     "data": {
      "text/plain": [
       "0"
      ]
     },
     "execution_count": 19,
     "metadata": {},
     "output_type": "execute_result"
    }
   ],
   "source": [
    "# Checking\n",
    "twitter_final2.Text_stem_char_3_gram.isna().sum()"
   ]
  },
  {
   "cell_type": "code",
   "execution_count": 20,
   "id": "7a09de18",
   "metadata": {},
   "outputs": [
    {
     "data": {
      "text/plain": [
       "0"
      ]
     },
     "execution_count": 20,
     "metadata": {},
     "output_type": "execute_result"
    }
   ],
   "source": [
    "# Checking\n",
    "twitter_final2.Text_stem_char_4_gram.isna().sum()"
   ]
  },
  {
   "cell_type": "code",
   "execution_count": 21,
   "id": "73ea6ae3",
   "metadata": {},
   "outputs": [
    {
     "data": {
      "text/plain": [
       "(16299, 11)"
      ]
     },
     "execution_count": 21,
     "metadata": {},
     "output_type": "execute_result"
    }
   ],
   "source": [
    "twitter_final2.shape"
   ]
  },
  {
   "cell_type": "markdown",
   "id": "1a8c6330",
   "metadata": {},
   "source": [
    "Since each of the character n-gram are already created, and are separated by a whitespace, a CountVectorizer with the default argument of ngram_range = (1, 1) can be used."
   ]
  },
  {
   "cell_type": "code",
   "execution_count": 22,
   "id": "890ce466",
   "metadata": {},
   "outputs": [],
   "source": [
    "# Instantiating CountVectorizer\n",
    "cv1 = CountVectorizer()"
   ]
  },
  {
   "cell_type": "code",
   "execution_count": 23,
   "id": "c8450442",
   "metadata": {},
   "outputs": [],
   "source": [
    "# Character Bigram for lemmaztized text\n",
    "cv1.fit(twitter_final2['Text_lemm_char_2_gram'])\n",
    "\n",
    "lemm_char_bigram_cv1_racism = cv1.transform(twitter_final2['Text_lemm_char_2_gram'][twitter_final2['Annotation'] == 'racism'])\n",
    "lemm_char_bigram_cv1_sexism = cv1.transform(twitter_final2['Text_lemm_char_2_gram'][twitter_final2['Annotation'] == 'sexism'])\n",
    "lemm_char_bigram_cv1_racism_df = pd.DataFrame(lemm_char_bigram_cv1_racism.todense(), columns=cv1.get_feature_names_out())\n",
    "lemm_char_bigram_cv1_sexism_df = pd.DataFrame(lemm_char_bigram_cv1_sexism.todense(), columns=cv1.get_feature_names_out())"
   ]
  },
  {
   "cell_type": "code",
   "execution_count": 24,
   "id": "dd29f262",
   "metadata": {},
   "outputs": [],
   "source": [
    "# Character Trigram for lemmaztized text\n",
    "cv1.fit(twitter_final2['Text_lemm_char_3_gram'])\n",
    "\n",
    "lemm_char_trigram_cv1_racism = cv1.transform(twitter_final2['Text_lemm_char_3_gram'][twitter_final2['Annotation'] == 'racism'])\n",
    "lemm_char_trigram_cv1_sexism = cv1.transform(twitter_final2['Text_lemm_char_3_gram'][twitter_final2['Annotation'] == 'sexism'])\n",
    "lemm_char_trigram_cv1_racism_df = pd.DataFrame(lemm_char_trigram_cv1_racism.todense(), columns=cv1.get_feature_names_out())\n",
    "lemm_char_trigram_cv1_sexism_df = pd.DataFrame(lemm_char_trigram_cv1_sexism.todense(), columns=cv1.get_feature_names_out())"
   ]
  },
  {
   "cell_type": "code",
   "execution_count": 25,
   "id": "773303c1",
   "metadata": {},
   "outputs": [],
   "source": [
    "# Character 4-gram for lemmaztized text\n",
    "cv1.fit(twitter_final2['Text_lemm_char_4_gram'])\n",
    "\n",
    "lemm_char_4gram_cv1_racism = cv1.transform(twitter_final2['Text_lemm_char_4_gram'][twitter_final2['Annotation'] == 'racism'])\n",
    "lemm_char_4gram_cv1_sexism = cv1.transform(twitter_final2['Text_lemm_char_4_gram'][twitter_final2['Annotation'] == 'sexism'])\n",
    "lemm_char_4gram_cv1_racism_df = pd.DataFrame(lemm_char_4gram_cv1_racism.todense(), columns=cv1.get_feature_names_out())\n",
    "lemm_char_4gram_cv1_sexism_df = pd.DataFrame(lemm_char_4gram_cv1_sexism.todense(), columns=cv1.get_feature_names_out())"
   ]
  },
  {
   "cell_type": "markdown",
   "id": "c751791c",
   "metadata": {},
   "source": [
    "# Character n-gram Analysis\n",
    "\n",
    "For the purpose of plotting commonly observed character n-grams without significant overlaps, the following will only plot lemmatized texts."
   ]
  },
  {
   "cell_type": "markdown",
   "id": "cf28f437",
   "metadata": {},
   "source": [
    "### Bigram"
   ]
  },
  {
   "cell_type": "code",
   "execution_count": 26,
   "id": "bb7c2960",
   "metadata": {},
   "outputs": [
    {
     "data": {
      "image/png": "[encoded data removed]",
      "text/plain": [
       "<Figure size 1080x576 with 2 Axes>"
      ]
     },
     "metadata": {
      "needs_background": "light"
     },
     "output_type": "display_data"
    }
   ],
   "source": [
    "# Plotting the top 20 character bigram of lemmatized texts\n",
    "fig, ax = plt.subplots(nrows = 1, ncols = 2, figsize= (15,8))\n",
    "ax = ax.ravel()\n",
    "\n",
    "plt.subplots_adjust(hspace = 0.1)\n",
    "\n",
    "# Setting up plot for sexism\n",
    "lemm_char_bigram_cv1_sexism_df.sum().sort_values(ascending=True).tail(20).plot(kind='barh',ax = ax[0])\n",
    "ax[0].set_title('Top 20 Most Commonly Observed Character Bigrams flagged as sexist')\n",
    "ax[0].set_xlabel('Count')\n",
    "\n",
    "# Setting up plot for racism\n",
    "lemm_char_bigram_cv1_racism_df.sum().sort_values(ascending=True).tail(20).plot(kind='barh',ax = ax[1])\n",
    "ax[1].set_title('Top 20 Most Commonly Observed Character Bigrams flagged as racist')\n",
    "ax[1].set_xlabel('Count');"
   ]
  },
  {
   "cell_type": "markdown",
   "id": "0252be1c",
   "metadata": {},
   "source": [
    "Unlike the case of word bigram, character bigrams do not offer much information on the frequently observed terms, which is not a large concern since lower levels of character n-grams are just 2 letters whose primary objective is showing the 2 common consecutive letters of words from those flagged tweets."
   ]
  },
  {
   "cell_type": "markdown",
   "id": "0c4f2c97",
   "metadata": {},
   "source": [
    "### Trigram"
   ]
  },
  {
   "cell_type": "code",
   "execution_count": 27,
   "id": "371f75c2",
   "metadata": {},
   "outputs": [
    {
     "data": {
      "image/png": "[encoded data removed]",
      "text/plain": [
       "<Figure size 1080x576 with 2 Axes>"
      ]
     },
     "metadata": {
      "needs_background": "light"
     },
     "output_type": "display_data"
    }
   ],
   "source": [
    "# Plotting the top 20 character trigram of lemmatized texts\n",
    "fig, ax = plt.subplots(nrows = 1, ncols = 2, figsize= (15,8))\n",
    "ax = ax.ravel()\n",
    "\n",
    "plt.subplots_adjust(hspace = 0.1)\n",
    "\n",
    "# Setting up plot for sexism\n",
    "lemm_char_trigram_cv1_sexism_df.sum().sort_values(ascending=True).tail(20).plot(kind='barh',ax = ax[0])\n",
    "ax[0].set_title('Top 20 Most Commonly Observed Character Trigrams flagged as sexist')\n",
    "ax[0].set_xlabel('Count')\n",
    "\n",
    "# Setting up plot for racism\n",
    "lemm_char_trigram_cv1_racism_df.sum().sort_values(ascending=True).tail(20).plot(kind='barh',ax = ax[1])\n",
    "ax[1].set_title('Top 20 Most Commonly Observed Character Trigrams flagged as racist')\n",
    "ax[1].set_xlabel('Count');"
   ]
  },
  {
   "cell_type": "markdown",
   "id": "ef8680c1",
   "metadata": {},
   "source": [
    "For character trigrams from tweets flagged as sexist, there are notable terms that are also highlighted from character trigrams such as 'mkr', 'kat', and parts of the words 'sexist', 'sexism', and 'woman'.\n",
    "\n",
    "For character trigrams from tweets flagged as racist, parts of the word 'islam' and 'muslim' are apparent."
   ]
  },
  {
   "cell_type": "markdown",
   "id": "3717aae6",
   "metadata": {},
   "source": [
    "### 4-gram"
   ]
  },
  {
   "cell_type": "code",
   "execution_count": 28,
   "id": "8415263e",
   "metadata": {
    "scrolled": false
   },
   "outputs": [
    {
     "data": {
      "image/png": "[encoded data removed]",
      "text/plain": [
       "<Figure size 1080x576 with 2 Axes>"
      ]
     },
     "metadata": {
      "needs_background": "light"
     },
     "output_type": "display_data"
    }
   ],
   "source": [
    "# Plotting the top 20 character 4-gram of lemmatized texts\n",
    "fig, ax = plt.subplots(nrows = 1, ncols = 2, figsize= (15,8))\n",
    "ax = ax.ravel()\n",
    "\n",
    "plt.subplots_adjust(hspace = 0.1)\n",
    "\n",
    "# Setting up plot for sexism\n",
    "lemm_char_4gram_cv1_sexism_df.sum().sort_values(ascending=True).tail(20).plot(kind='barh',ax = ax[0])\n",
    "ax[0].set_title('Top 20 Most Commonly Observed Character 4-grams flagged as sexist')\n",
    "ax[0].set_xlabel('Count')\n",
    "\n",
    "# Setting up plot for racism\n",
    "lemm_char_4gram_cv1_racism_df.sum().sort_values(ascending=True).tail(20).plot(kind='barh',ax = ax[1])\n",
    "ax[1].set_title('Top 20 Most Commonly Observed Character 4-grams flagged as racist')\n",
    "ax[1].set_xlabel('Count');"
   ]
  },
  {
   "cell_type": "markdown",
   "id": "e232c281",
   "metadata": {},
   "source": [
    "For character 4-grams from tweets flagged as sexist, there is not much additional information gathered other than the mention of the word 'feminism'.\n",
    "\n",
    "For character trigrams from tweets flagged as racist, as compared to the character trigrams, notable parts of the name 'Prophet Mohammed' can be observed."
   ]
  },
  {
   "cell_type": "markdown",
   "id": "f8ebc192",
   "metadata": {},
   "source": [
    "# Exporting Dataset"
   ]
  },
  {
   "cell_type": "code",
   "execution_count": 29,
   "id": "71ca932a",
   "metadata": {},
   "outputs": [],
   "source": [
    "twitter_final2.to_csv('../Capstone/data/twitter_final3.csv', index = False)"
   ]
  }
 ],
 "metadata": {
  "kernelspec": {
   "display_name": "Python 3 (ipykernel)",
   "language": "python",
   "name": "python3"
  },
  "language_info": {
   "codemirror_mode": {
    "name": "ipython",
    "version": 3
   },
   "file_extension": ".py",
   "mimetype": "text/x-python",
   "name": "python",
   "nbconvert_exporter": "python",
   "pygments_lexer": "ipython3",
   "version": "3.8.13"
  }
 },
 "nbformat": 4,
 "nbformat_minor": 5
}
