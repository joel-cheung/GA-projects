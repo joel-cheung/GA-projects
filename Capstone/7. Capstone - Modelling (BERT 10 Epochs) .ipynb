{
 "cells": [
  {
   "cell_type": "markdown",
   "id": "705a617f",
   "metadata": {},
   "source": [
    "# Background"
   ]
  },
  {
   "cell_type": "markdown",
   "id": "b4d37779",
   "metadata": {},
   "source": [
    "Twitter is a micro-blogging social media platform with 217.5 million daily active users globally. With 500 million new tweets (posts) daily, the topics of these tweets varies widely – k-pop, politics, financial news… you name it! Individuals use it for news, entertainment, and discussions, while corporations use them to as a marketing tool to reach out to a wide audience. Given the freedom Twitter accords to its user, Twitter can provide a conducive environment for productive discourse, but this freedom can also be abused, manifesting in the forms of racism and sexism. "
   ]
  },
  {
   "cell_type": "markdown",
   "id": "5f4cfa85",
   "metadata": {},
   "source": [
    "# Problem Statement"
   ]
  },
  {
   "cell_type": "markdown",
   "id": "9149c8b2",
   "metadata": {},
   "source": [
    "With Twitter’s significant income stream coming from advertisers, it is imperative that Twitter keeps a substantial user base. On the other hand, Twitter should maintain a safe space for users and provide some level of checks for the tweets the users put out into the public space, and the first step would be to identify tweets that espouse racist or sexist ideologies, and then Twitter can direct the users to appropriate sources of information where users can learn more about the community that they offend or their subconscious biases so they will be more aware of their racist/sexist tendencies. Thus, to balance, Twitter has to be accurate in filtering inappropriate tweets from innocuous ones, and the kind of inappropriateness of flagged tweets (tag - racist or sexist).\n",
    "\n",
    "F1-scores will be the primary metric as it looks at both precision and recall, each looking at false positives (FPs) and false negatives (FNs) respectively, and is a popular metric for imbalanced data as is the case with the dataset used.\n",
    "\n",
    "For the purpose of explanation, racist tweets are used as the ‘positive’ case.\n",
    "\n",
    "In this context, FPs are the cases where the model erroneously flags out tweets as racist when the tweet is actually innocuous/sexist. FNs are cases where the model erroneously flags out tweets as innocuous/sexist but the tweets are actually racist.\n",
    "\n",
    "Thus, higher F1-scores are preferred."
   ]
  },
  {
   "cell_type": "markdown",
   "id": "7a89ba68",
   "metadata": {},
   "source": [
    "# Importing Libraries"
   ]
  },
  {
   "cell_type": "code",
   "execution_count": 1,
   "id": "95dce205",
   "metadata": {},
   "outputs": [],
   "source": [
    "# Standard libraries\n",
    "import numpy as np\n",
    "import pandas as pd\n",
    "\n",
    "# For visualization\n",
    "import matplotlib.pyplot as plt\n",
    "import seaborn as sns\n",
    "\n",
    "# For NLP data cleaning and preprocessing\n",
    "import re, string, nltk, itertools\n",
    "from nltk.tokenize import word_tokenize\n",
    "from nltk.stem import WordNetLemmatizer, PorterStemmer\n",
    "from sklearn.feature_extraction.text import CountVectorizer, TfidfTransformer\n",
    "\n",
    "# Pickle to save model\n",
    "import pickle\n",
    "\n",
    "# For showing time\n",
    "import time\n",
    "\n",
    "# For NLP Machine Learning processes\n",
    "from sklearn.model_selection import train_test_split, cross_val_score, GridSearchCV\n",
    "from imblearn.over_sampling import RandomOverSampler, SMOTE\n",
    "\n",
    "# Pipeline\n",
    "from imblearn.pipeline import Pipeline\n",
    "\n",
    "# Naive Bayes\n",
    "from sklearn.naive_bayes import MultinomialNB\n",
    "\n",
    "# Random Forest\n",
    "from sklearn.ensemble import RandomForestClassifier\n",
    "\n",
    "# XGBoost\n",
    "import xgboost as xgb\n",
    "from xgboost import XGBClassifier, plot_importance\n",
    "\n",
    "# Support Vector Machine\n",
    "from sklearn.svm import SVC\n",
    "\n",
    "# PyTorch LSTM\n",
    "import torch\n",
    "import torch.nn as nn\n",
    "import torch.nn.functional as F\n",
    "from torch.utils.data import TensorDataset, DataLoader, RandomSampler, SequentialSampler\n",
    "\n",
    "# Tokenization for LSTM\n",
    "from collections import Counter\n",
    "from gensim.models import Word2Vec\n",
    "\n",
    "# Transformers library for BERT\n",
    "import transformers\n",
    "from transformers import BertModel\n",
    "from transformers import BertTokenizer\n",
    "from transformers import AdamW, get_linear_schedule_with_warmup\n",
    "\n",
    "# Evaluation Metrics\n",
    "from sklearn.metrics import accuracy_score, f1_score, precision_score, recall_score\n",
    "from sklearn.metrics import roc_auc_score, roc_curve, plot_roc_curve, RocCurveDisplay\n",
    "from sklearn.metrics import confusion_matrix, ConfusionMatrixDisplay, classification_report, plot_confusion_matrix"
   ]
  },
  {
   "cell_type": "code",
   "execution_count": 2,
   "id": "7bb4ccf0",
   "metadata": {
    "scrolled": true
   },
   "outputs": [
    {
     "name": "stdout",
     "output_type": "stream",
     "text": [
      "True\n",
      "tensor([0.], device='cuda:0')\n",
      "1.12.0\n",
      "1\n",
      "0\n"
     ]
    }
   ],
   "source": [
    "# Checking if CUDA is working as intended\n",
    "print(torch.cuda.is_available())\n",
    "print(torch.zeros(1).cuda())\n",
    "print(torch.__version__)\n",
    "print(torch.cuda.device_count())\n",
    "print(torch.cuda.current_device())\n",
    "torch.cuda.empty_cache()"
   ]
  },
  {
   "cell_type": "code",
   "execution_count": 3,
   "id": "81434aef",
   "metadata": {},
   "outputs": [
    {
     "name": "stdout",
     "output_type": "stream",
     "text": [
      "[name: \"/device:CPU:0\"\n",
      "device_type: \"CPU\"\n",
      "memory_limit: 268435456\n",
      "locality {\n",
      "}\n",
      "incarnation: 15933735565211460591\n",
      "xla_global_id: -1\n",
      ", name: \"/device:GPU:0\"\n",
      "device_type: \"GPU\"\n",
      "memory_limit: 2410990796\n",
      "locality {\n",
      "  bus_id: 1\n",
      "  links {\n",
      "  }\n",
      "}\n",
      "incarnation: 6754359928859800585\n",
      "physical_device_desc: \"device: 0, name: NVIDIA GeForce GTX 950M, pci bus id: 0000:01:00.0, compute capability: 5.0\"\n",
      "xla_global_id: 416903419\n",
      "]\n"
     ]
    }
   ],
   "source": [
    "from tensorflow.python.client import device_lib\n",
    "print(device_lib.list_local_devices())"
   ]
  },
  {
   "cell_type": "code",
   "execution_count": 4,
   "id": "e7e3229f",
   "metadata": {},
   "outputs": [],
   "source": [
    "# Setting seed for reproducibility\n",
    "import random\n",
    "\n",
    "seed_value = 42\n",
    "random.seed(seed_value)\n",
    "np.random.seed(seed_value)\n",
    "torch.manual_seed(seed_value)\n",
    "torch.cuda.manual_seed_all(seed_value)"
   ]
  },
  {
   "cell_type": "code",
   "execution_count": 5,
   "id": "2b54d6dc",
   "metadata": {},
   "outputs": [],
   "source": [
    "# Changing display settings\n",
    "pd.set_option('display.max_row', 100)\n",
    "pd.set_option('display.max_colwidth', None)"
   ]
  },
  {
   "cell_type": "markdown",
   "id": "e9aadea0",
   "metadata": {},
   "source": [
    "# Importing Dataset"
   ]
  },
  {
   "cell_type": "code",
   "execution_count": 6,
   "id": "cff682b7",
   "metadata": {},
   "outputs": [],
   "source": [
    "twitter = pd.read_csv('../Capstone/data/twitter_char_4_gram_lemm_text.csv')"
   ]
  },
  {
   "cell_type": "code",
   "execution_count": 7,
   "id": "3b0802e1",
   "metadata": {},
   "outputs": [
    {
     "data": {
      "text/plain": [
       "Index(['Annotation', 'Text_lemm_char_4_gram'], dtype='object')"
      ]
     },
     "execution_count": 7,
     "metadata": {},
     "output_type": "execute_result"
    }
   ],
   "source": [
    "twitter.columns"
   ]
  },
  {
   "cell_type": "code",
   "execution_count": 8,
   "id": "575f2120",
   "metadata": {
    "scrolled": true
   },
   "outputs": [
    {
     "data": {
      "text/html": [
       "<div>\n",
       "<style scoped>\n",
       "    .dataframe tbody tr th:only-of-type {\n",
       "        vertical-align: middle;\n",
       "    }\n",
       "\n",
       "    .dataframe tbody tr th {\n",
       "        vertical-align: top;\n",
       "    }\n",
       "\n",
       "    .dataframe thead th {\n",
       "        text-align: right;\n",
       "    }\n",
       "</style>\n",
       "<table border=\"1\" class=\"dataframe\">\n",
       "  <thead>\n",
       "    <tr style=\"text-align: right;\">\n",
       "      <th></th>\n",
       "      <th>Annotation</th>\n",
       "      <th>Text_lemm_char_4_gram</th>\n",
       "    </tr>\n",
       "  </thead>\n",
       "  <tbody>\n",
       "    <tr>\n",
       "      <th>0</th>\n",
       "      <td>0</td>\n",
       "      <td>read cont onte ntex text extn xtno chan hang ange mean eani anin ning hist isto stor tory isla slam lami amic slav lave aver very</td>\n",
       "    </tr>\n",
       "    <tr>\n",
       "      <th>1</th>\n",
       "      <td>0</td>\n",
       "      <td>idio diot clai laim peop eopl ople stop beco ecom come terr erro rror rori oris rist make terr erro rror rori oris rist isla slam lami amic mica ical call ally brai rain dead</td>\n",
       "    </tr>\n",
       "    <tr>\n",
       "      <th>2</th>\n",
       "      <td>1</td>\n",
       "      <td>call sexi exis xist auto plac lace woul ould rath athe ther talk</td>\n",
       "    </tr>\n",
       "    <tr>\n",
       "      <th>3</th>\n",
       "      <td>2</td>\n",
       "      <td>wron rong foll ollo llow exam xamp ampl mple moha oham hamm amme mmed qura uran exac xact actl ctly</td>\n",
       "    </tr>\n",
       "    <tr>\n",
       "      <th>4</th>\n",
       "      <td>0</td>\n",
       "      <td>saud audi prea reac each ache cher tort ortu rtur ture five year earo arol rold daug augh ught ghte hter deat eath rele elea leas ease</td>\n",
       "    </tr>\n",
       "  </tbody>\n",
       "</table>\n",
       "</div>"
      ],
      "text/plain": [
       "   Annotation  \\\n",
       "0           0   \n",
       "1           0   \n",
       "2           1   \n",
       "3           2   \n",
       "4           0   \n",
       "\n",
       "                                                                                                                                                            Text_lemm_char_4_gram  \n",
       "0                                               read cont onte ntex text extn xtno chan hang ange mean eani anin ning hist isto stor tory isla slam lami amic slav lave aver very  \n",
       "1  idio diot clai laim peop eopl ople stop beco ecom come terr erro rror rori oris rist make terr erro rror rori oris rist isla slam lami amic mica ical call ally brai rain dead  \n",
       "2                                                                                                                call sexi exis xist auto plac lace woul ould rath athe ther talk  \n",
       "3                                                                             wron rong foll ollo llow exam xamp ampl mple moha oham hamm amme mmed qura uran exac xact actl ctly  \n",
       "4                                          saud audi prea reac each ache cher tort ortu rtur ture five year earo arol rold daug augh ught ghte hter deat eath rele elea leas ease  "
      ]
     },
     "execution_count": 8,
     "metadata": {},
     "output_type": "execute_result"
    }
   ],
   "source": [
    "twitter.head()"
   ]
  },
  {
   "cell_type": "code",
   "execution_count": 38,
   "id": "7014a0cb",
   "metadata": {},
   "outputs": [
    {
     "data": {
      "text/plain": [
       "(16299, 2)"
      ]
     },
     "execution_count": 38,
     "metadata": {},
     "output_type": "execute_result"
    }
   ],
   "source": [
    "twitter.shape"
   ]
  },
  {
   "cell_type": "code",
   "execution_count": 9,
   "id": "4f11df29",
   "metadata": {},
   "outputs": [],
   "source": [
    "flag = ['none', 'sexism', 'racism']"
   ]
  },
  {
   "cell_type": "markdown",
   "id": "631082f8",
   "metadata": {},
   "source": [
    "# Train/Test Split"
   ]
  },
  {
   "cell_type": "code",
   "execution_count": 10,
   "id": "053c1ae9",
   "metadata": {},
   "outputs": [],
   "source": [
    "# Splitting the creating the X and Y columns for the character 4-gram based on lemmatized text dataset\n",
    "X, y = twitter['Text_lemm_char_4_gram'].values, twitter['Annotation'].values"
   ]
  },
  {
   "cell_type": "code",
   "execution_count": 11,
   "id": "f5259cee",
   "metadata": {},
   "outputs": [],
   "source": [
    "# Conducting train/test split\n",
    "X_train, X_test, y_train, y_test = train_test_split(X, y, test_size=0.2, stratify=y, random_state=seed_value)"
   ]
  },
  {
   "cell_type": "code",
   "execution_count": 12,
   "id": "06e84a6a",
   "metadata": {},
   "outputs": [],
   "source": [
    "X_train, X_valid, y_train, y_valid = train_test_split(X_train, y_train, test_size=0.1, stratify=y_train, random_state=seed_value)"
   ]
  },
  {
   "cell_type": "code",
   "execution_count": 13,
   "id": "ee056619",
   "metadata": {},
   "outputs": [],
   "source": [
    "# Oversampling to fit majority class (none)\n",
    "ros = RandomOverSampler()\n",
    "X_train_os, y_train_os = ros.fit_resample(np.array(X_train).reshape(-1,1),np.array(y_train).reshape(-1,1))"
   ]
  },
  {
   "cell_type": "markdown",
   "id": "6ca3fcb1",
   "metadata": {},
   "source": [
    "### BERT-specific Preprocessing"
   ]
  },
  {
   "cell_type": "code",
   "execution_count": 14,
   "id": "f2c1315e",
   "metadata": {},
   "outputs": [],
   "source": [
    "X_train_os = X_train_os.flatten()\n",
    "y_train_os = y_train_os.flatten()"
   ]
  },
  {
   "cell_type": "code",
   "execution_count": 15,
   "id": "51b2f5fb",
   "metadata": {},
   "outputs": [
    {
     "data": {
      "text/plain": [
       "array([[   0, 7913],\n",
       "       [   1, 7913],\n",
       "       [   2, 7913]], dtype=int64)"
      ]
     },
     "execution_count": 15,
     "metadata": {},
     "output_type": "execute_result"
    }
   ],
   "source": [
    "(unique, counts) = np.unique(y_train_os, return_counts=True)\n",
    "np.asarray((unique, counts)).T"
   ]
  },
  {
   "cell_type": "markdown",
   "id": "5b2ee356",
   "metadata": {},
   "source": [
    "Since we need to tokenize the tweets (get \"input ids\" and \"attention masks\") for BERT, we load the specific BERT tokenizer from the Hugging Face library."
   ]
  },
  {
   "cell_type": "code",
   "execution_count": 16,
   "id": "8778c223",
   "metadata": {},
   "outputs": [],
   "source": [
    "tokenizer = BertTokenizer.from_pretrained('bert-base-uncased', do_lower_case=True)"
   ]
  },
  {
   "cell_type": "code",
   "execution_count": 17,
   "id": "de81589b",
   "metadata": {},
   "outputs": [],
   "source": [
    "# Defining a custom tokenizer function using the loaded tokenizer.\n",
    "def bert_tokenizer(data):\n",
    "    input_ids = []\n",
    "    attention_masks = []\n",
    "    for sent in data:\n",
    "        encoded_sent = tokenizer.encode_plus(\n",
    "            text=sent,\n",
    "            add_special_tokens=True,        # Add `[CLS]` and `[SEP]` special tokens\n",
    "            max_length=MAX_LEN,             # Choose max length to truncate/pad\n",
    "            pad_to_max_length=True,         # Pad sentence to max length \n",
    "            return_attention_mask=True      # Return attention mask\n",
    "            )\n",
    "        input_ids.append(encoded_sent.get('input_ids'))\n",
    "        attention_masks.append(encoded_sent.get('attention_mask'))\n",
    "\n",
    "    # Convert lists to tensors\n",
    "    input_ids = torch.tensor(input_ids)\n",
    "    attention_masks = torch.tensor(attention_masks)\n",
    "\n",
    "    return input_ids, attention_masks"
   ]
  },
  {
   "cell_type": "markdown",
   "id": "bc578cdf",
   "metadata": {},
   "source": [
    "Since we need to specify the length of the longest tokenized sentence, we tokenize the train tweets using the \"encode\" method of the original BERT tokenizer and check the longest sentence."
   ]
  },
  {
   "cell_type": "code",
   "execution_count": 18,
   "id": "ac9bf8f5",
   "metadata": {},
   "outputs": [
    {
     "name": "stdout",
     "output_type": "stream",
     "text": [
      "Max length:  183\n"
     ]
    }
   ],
   "source": [
    "# Tokenize train tweets\n",
    "encoded_tweets = [tokenizer.encode(sent, add_special_tokens=True) for sent in X_train]\n",
    "\n",
    "# Find the longest tokenized tweet\n",
    "max_len = max([len(sent) for sent in encoded_tweets])\n",
    "print('Max length: ', max_len)"
   ]
  },
  {
   "cell_type": "markdown",
   "id": "9300996d",
   "metadata": {},
   "source": [
    "Choosing the max length as ... (slightly more than the max_length)"
   ]
  },
  {
   "cell_type": "code",
   "execution_count": 19,
   "id": "e166389f",
   "metadata": {},
   "outputs": [],
   "source": [
    "MAX_LEN = max_len + 2"
   ]
  },
  {
   "cell_type": "markdown",
   "id": "44731b3f",
   "metadata": {},
   "source": [
    "Then we can tokenize the train, validation and test tweets using the custom define tokenizer."
   ]
  },
  {
   "cell_type": "code",
   "execution_count": 20,
   "id": "31c78f31",
   "metadata": {},
   "outputs": [
    {
     "name": "stderr",
     "output_type": "stream",
     "text": [
      "Truncation was not explicitly activated but `max_length` is provided a specific value, please use `truncation=True` to explicitly truncate examples to max length. Defaulting to 'longest_first' truncation strategy. If you encode pairs of sequences (GLUE-style) with the tokenizer you can select this strategy more precisely by providing a specific strategy to `truncation`.\n",
      "D:\\Anaconda\\envs\\Python\\lib\\site-packages\\transformers\\tokenization_utils_base.py:2301: FutureWarning: The `pad_to_max_length` argument is deprecated and will be removed in a future version, use `padding=True` or `padding='longest'` to pad to the longest sequence in the batch, or use `padding='max_length'` to pad to a max length. In this case, you can give a specific length with `max_length` (e.g. `max_length=45`) or leave max_length to None to pad to the maximal input size of the model (e.g. 512 for Bert).\n",
      "  warnings.warn(\n"
     ]
    }
   ],
   "source": [
    "train_inputs, train_masks = bert_tokenizer(X_train_os)\n",
    "val_inputs, val_masks = bert_tokenizer(X_valid)\n",
    "test_inputs, test_masks = bert_tokenizer(X_test)"
   ]
  },
  {
   "cell_type": "markdown",
   "id": "de2a25a1",
   "metadata": {},
   "source": [
    "### Data preprocessing for PyTorch BERT model\n",
    "\n",
    "Since we are using the BERT model built on PyTorch, we need to convert the arrays to pytorch tensors and create dataloaders for the data."
   ]
  },
  {
   "cell_type": "code",
   "execution_count": 21,
   "id": "def39900",
   "metadata": {},
   "outputs": [],
   "source": [
    "# Convert target columns to pytorch tensors format\n",
    "train_labels = torch.from_numpy(y_train_os)\n",
    "val_labels = torch.from_numpy(y_valid)\n",
    "test_labels = torch.from_numpy(y_test)"
   ]
  },
  {
   "cell_type": "markdown",
   "id": "1d2d0b0f",
   "metadata": {},
   "source": [
    "### Dataloaders"
   ]
  },
  {
   "cell_type": "markdown",
   "id": "73983768",
   "metadata": {},
   "source": [
    "According to the author of this code (from Kaggle), it is mentioned that the original author of the BERT Model suggests a batch_size of 16 or 32. Since there is a memory allocation issue when using batch_size = 32, I have reduced it to 8."
   ]
  },
  {
   "cell_type": "code",
   "execution_count": 22,
   "id": "636b3e3d",
   "metadata": {},
   "outputs": [],
   "source": [
    "batch_size = 8"
   ]
  },
  {
   "cell_type": "code",
   "execution_count": 23,
   "id": "d95fa603",
   "metadata": {},
   "outputs": [],
   "source": [
    "# Create the DataLoader for our training set\n",
    "train_data = TensorDataset(train_inputs, train_masks, train_labels)\n",
    "train_sampler = RandomSampler(train_data)\n",
    "train_dataloader = DataLoader(train_data, sampler=train_sampler, batch_size=batch_size)\n",
    "\n",
    "# Create the DataLoader for our validation set\n",
    "val_data = TensorDataset(val_inputs, val_masks, val_labels)\n",
    "val_sampler = SequentialSampler(val_data)\n",
    "val_dataloader = DataLoader(val_data, sampler=val_sampler, batch_size=batch_size)\n",
    "\n",
    "# Create the DataLoader for our test set\n",
    "test_data = TensorDataset(test_inputs, test_masks, test_labels)\n",
    "test_sampler = SequentialSampler(test_data)\n",
    "test_dataloader = DataLoader(test_data, sampler=test_sampler, batch_size=batch_size)"
   ]
  },
  {
   "cell_type": "markdown",
   "id": "86df252a",
   "metadata": {},
   "source": [
    "# BERT Modelling"
   ]
  },
  {
   "cell_type": "markdown",
   "id": "e9c81bfc",
   "metadata": {},
   "source": [
    "Now we can create a custom BERT classifier class, including the original BERT model (made of transformer layers) and additional Dense layers to perform the desired classification task."
   ]
  },
  {
   "cell_type": "code",
   "execution_count": 24,
   "id": "2c6dae37",
   "metadata": {},
   "outputs": [
    {
     "name": "stdout",
     "output_type": "stream",
     "text": [
      "CPU times: total: 0 ns\n",
      "Wall time: 0 ns\n"
     ]
    }
   ],
   "source": [
    "%%time\n",
    "class Bert_Classifier(nn.Module):\n",
    "    def __init__(self, freeze_bert=False):\n",
    "        super(Bert_Classifier, self).__init__()\n",
    "        # Specify hidden size of BERT, hidden size of the classifier, and number of labels\n",
    "        n_input = 768\n",
    "        n_hidden = 50\n",
    "        # 3 n_output because there are 3 categories of tweets ('none': 0, 'sexism': 1, 'racism': 2)\n",
    "        n_output = 3\n",
    "        # Instantiate BERT model\n",
    "        self.bert = BertModel.from_pretrained('bert-base-uncased')\n",
    "\n",
    "        # Add dense layers to perform the classification\n",
    "        self.classifier = nn.Sequential(\n",
    "            nn.Linear(n_input,  n_hidden),\n",
    "            nn.ReLU(),\n",
    "            nn.Linear(n_hidden, n_output)\n",
    "        )\n",
    "        # Add possibility to freeze the BERT model\n",
    "        # to avoid fine tuning BERT params (usually leads to worse results)\n",
    "        if freeze_bert:\n",
    "            for param in self.bert.parameters():\n",
    "                param.requires_grad = False\n",
    "        \n",
    "    def forward(self, input_ids, attention_mask):\n",
    "        # Feed input data to BERT\n",
    "        outputs = self.bert(input_ids=input_ids,\n",
    "                            attention_mask=attention_mask)\n",
    "        \n",
    "        # Extract the last hidden state of the token `[CLS]` for classification task\n",
    "        last_hidden_state_cls = outputs[0][:, 0, :]\n",
    "\n",
    "        # Feed input to classifier to compute logits\n",
    "        logits = self.classifier(last_hidden_state_cls)\n",
    "\n",
    "        return logits"
   ]
  },
  {
   "cell_type": "markdown",
   "id": "fb597a85",
   "metadata": {},
   "source": [
    "Moreover, since we want to define a learning rate scheduler, we define a custom \"initalize_model\" function as follows."
   ]
  },
  {
   "cell_type": "code",
   "execution_count": 25,
   "id": "f6149392",
   "metadata": {},
   "outputs": [],
   "source": [
    "def initialize_model(epochs=4):\n",
    "    # Instantiate Bert Classifier\n",
    "    bert_classifier = Bert_Classifier(freeze_bert=False)\n",
    "    \n",
    "    bert_classifier.to(device)\n",
    "\n",
    "    # Set up optimizer\n",
    "    optimizer = AdamW(bert_classifier.parameters(),\n",
    "                      lr=5e-5,    # learning rate, set to default value\n",
    "                      eps=1e-8    # decay, set to default value\n",
    "                      )\n",
    "    \n",
    "    ### Set up learning rate scheduler ###\n",
    "\n",
    "    # Calculate total number of training steps\n",
    "    total_steps = len(train_dataloader) * epochs\n",
    "\n",
    "    # Defint the scheduler\n",
    "    scheduler = get_linear_schedule_with_warmup(optimizer,\n",
    "                                                num_warmup_steps=0, # Default value\n",
    "                                                num_training_steps=total_steps)\n",
    "    return bert_classifier, optimizer, scheduler"
   ]
  },
  {
   "cell_type": "markdown",
   "id": "c6b7c067",
   "metadata": {},
   "source": [
    "We also specify the use of GPU if present (highly recommended for the fine tuning)"
   ]
  },
  {
   "cell_type": "code",
   "execution_count": 26,
   "id": "80122e4e",
   "metadata": {},
   "outputs": [],
   "source": [
    "device = 'cuda' if torch.cuda.is_available() else 'cpu'\n",
    "EPOCHS= 10"
   ]
  },
  {
   "cell_type": "markdown",
   "id": "5927a47e",
   "metadata": {},
   "source": [
    "And then we intialize the BERT model calling the \"initialize_model\" function we defined."
   ]
  },
  {
   "cell_type": "code",
   "execution_count": 27,
   "id": "b69e355f",
   "metadata": {},
   "outputs": [
    {
     "name": "stderr",
     "output_type": "stream",
     "text": [
      "Some weights of the model checkpoint at bert-base-uncased were not used when initializing BertModel: ['cls.seq_relationship.bias', 'cls.predictions.decoder.weight', 'cls.predictions.transform.dense.weight', 'cls.seq_relationship.weight', 'cls.predictions.transform.LayerNorm.weight', 'cls.predictions.transform.LayerNorm.bias', 'cls.predictions.bias', 'cls.predictions.transform.dense.bias']\n",
      "- This IS expected if you are initializing BertModel from the checkpoint of a model trained on another task or with another architecture (e.g. initializing a BertForSequenceClassification model from a BertForPreTraining model).\n",
      "- This IS NOT expected if you are initializing BertModel from the checkpoint of a model that you expect to be exactly identical (initializing a BertForSequenceClassification model from a BertForSequenceClassification model).\n",
      "D:\\Anaconda\\envs\\Python\\lib\\site-packages\\transformers\\optimization.py:306: FutureWarning: This implementation of AdamW is deprecated and will be removed in a future version. Use the PyTorch implementation torch.optim.AdamW instead, or set `no_deprecation_warning=True` to disable this warning\n",
      "  warnings.warn(\n"
     ]
    }
   ],
   "source": [
    "bert_classifier, optimizer, scheduler = initialize_model(epochs=EPOCHS)"
   ]
  },
  {
   "cell_type": "markdown",
   "id": "497e9f8a",
   "metadata": {},
   "source": [
    "# BERT Training"
   ]
  },
  {
   "cell_type": "markdown",
   "id": "427f8e1a",
   "metadata": {},
   "source": [
    "After defining the custom BERT classifier model, we are ready to start the training."
   ]
  },
  {
   "cell_type": "code",
   "execution_count": 28,
   "id": "5d382a9b",
   "metadata": {},
   "outputs": [],
   "source": [
    "# Define Cross entropy Loss function for the multiclass classification task\n",
    "loss_fn = nn.CrossEntropyLoss()\n",
    "\n",
    "def bert_train(model, train_dataloader, val_dataloader=None, epochs=4, evaluation=False):\n",
    "\n",
    "    print(\"Start training...\\n\")\n",
    "    for epoch_i in range(epochs):\n",
    "        print(\"-\"*10)\n",
    "        print(\"Epoch : {}\".format(epoch_i+1))\n",
    "        print(\"-\"*10)\n",
    "        print(\"-\"*38)\n",
    "        print(f\"{'BATCH NO.':^7} | {'TRAIN LOSS':^12} | {'ELAPSED (s)':^9}\")\n",
    "        print(\"-\"*38)\n",
    "\n",
    "        # Measure the elapsed time of each epoch\n",
    "        t0_epoch, t0_batch = time.time(), time.time()\n",
    "\n",
    "        # Reset tracking variables at the beginning of each epoch\n",
    "        total_loss, batch_loss, batch_counts = 0, 0, 0\n",
    "        \n",
    "        ###TRAINING###\n",
    "\n",
    "        # Put the model into the training mode\n",
    "        model.train()\n",
    "\n",
    "        for step, batch in enumerate(train_dataloader):\n",
    "            batch_counts +=1\n",
    "            \n",
    "            b_input_ids, b_attn_mask, b_labels = tuple(t.to(device) for t in batch)\n",
    "\n",
    "            # Zero out any previously calculated gradients\n",
    "            model.zero_grad()\n",
    "\n",
    "            # Perform a forward pass and get logits.\n",
    "            logits = model(b_input_ids, b_attn_mask)\n",
    "\n",
    "            # Compute loss and accumulate the loss values\n",
    "            loss = loss_fn(logits, b_labels)\n",
    "            batch_loss += loss.item()\n",
    "            total_loss += loss.item()\n",
    "\n",
    "            # Perform a backward pass to calculate gradients\n",
    "            loss.backward()\n",
    "\n",
    "            # Clip the norm of the gradients to 1.0 to prevent \"exploding gradients\"\n",
    "            torch.nn.utils.clip_grad_norm_(model.parameters(), 1.0)\n",
    "\n",
    "            # Update model parameters:\n",
    "            # fine tune BERT params and train additional dense layers\n",
    "            optimizer.step()\n",
    "            # update learning rate\n",
    "            scheduler.step()\n",
    "\n",
    "            # Print the loss values and time elapsed for every 100 batches\n",
    "            if (step % 100 == 0 and step != 0) or (step == len(train_dataloader) - 1):\n",
    "                # Calculate time elapsed for 20 batches\n",
    "                time_elapsed = time.time() - t0_batch\n",
    "                \n",
    "                print(f\"{step:^9} | {batch_loss / batch_counts:^12.6f} | {time_elapsed:^9.2f}\")\n",
    "\n",
    "                # Reset batch tracking variables\n",
    "                batch_loss, batch_counts = 0, 0\n",
    "                t0_batch = time.time()\n",
    "\n",
    "        # Calculate the average loss over the entire training data\n",
    "        avg_train_loss = total_loss / len(train_dataloader)\n",
    "\n",
    "        ###EVALUATION###\n",
    "        \n",
    "        # Put the model into the evaluation mode\n",
    "        model.eval()\n",
    "        \n",
    "        # Define empty lists to host accuracy and validation for each batch\n",
    "        val_accuracy = []\n",
    "        val_loss = []\n",
    "\n",
    "        for batch in val_dataloader:\n",
    "            batch_input_ids, batch_attention_mask, batch_labels = tuple(t.to(device) for t in batch)\n",
    "            \n",
    "            # We do not want to update the params during the evaluation,\n",
    "            # So we specify that we dont want to compute the gradients of the tensors\n",
    "            # by calling the torch.no_grad() method\n",
    "            with torch.no_grad():\n",
    "                logits = model(batch_input_ids, batch_attention_mask)\n",
    "\n",
    "            loss = loss_fn(logits, batch_labels)\n",
    "\n",
    "            val_loss.append(loss.item())\n",
    "\n",
    "            # Get the predictions starting from the logits (get index of highest logit)\n",
    "            preds = torch.argmax(logits, dim=1).flatten()\n",
    "\n",
    "            # Calculate the validation accuracy \n",
    "            accuracy = (preds == batch_labels).cpu().numpy().mean() * 100\n",
    "            val_accuracy.append(accuracy)\n",
    "\n",
    "        # Compute the average accuracy and loss over the validation set\n",
    "        val_loss = np.mean(val_loss)\n",
    "        val_accuracy = np.mean(val_accuracy)\n",
    "        \n",
    "        # Print performance over the entire training data\n",
    "        time_elapsed = time.time() - t0_epoch\n",
    "        print(\"-\"*61)\n",
    "        print(f\"{'AVG TRAIN LOSS':^12} | {'VAL LOSS':^10} | {'VAL ACCURACY (%)':^9} | {'ELAPSED (s)':^9}\")\n",
    "        print(\"-\"*61)\n",
    "        print(f\"{avg_train_loss:^14.6f} | {val_loss:^10.6f} | {val_accuracy:^17.2f} | {time_elapsed:^9.2f}\")\n",
    "        print(\"-\"*61)\n",
    "        print(\"\\n\")\n",
    "    \n",
    "    print(\"Training complete!\")"
   ]
  },
  {
   "cell_type": "code",
   "execution_count": 29,
   "id": "57e9c69c",
   "metadata": {
    "scrolled": false
   },
   "outputs": [
    {
     "name": "stdout",
     "output_type": "stream",
     "text": [
      "Start training...\n",
      "\n",
      "----------\n",
      "Epoch : 1\n",
      "----------\n",
      "--------------------------------------\n",
      "BATCH NO. |  TRAIN LOSS  | ELAPSED (s)\n",
      "--------------------------------------\n",
      "   100    |   0.909376   |  178.17  \n",
      "   200    |   0.694939   |  180.46  \n",
      "   300    |   0.679346   |  195.61  \n",
      "   400    |   0.652831   |  195.80  \n",
      "   500    |   0.644261   |  195.63  \n",
      "   600    |   0.634829   |  195.57  \n",
      "   700    |   0.611968   |  195.59  \n",
      "   800    |   0.579748   |  181.18  \n",
      "   900    |   0.571644   |  173.86  \n",
      "  1000    |   0.574575   |  173.76  \n",
      "  1100    |   0.567758   |  173.75  \n",
      "  1200    |   0.545248   |  173.78  \n",
      "  1300    |   0.525739   |  191.52  \n",
      "  1400    |   0.518865   |  184.21  \n",
      "  1500    |   0.513220   |  183.47  \n",
      "  1600    |   0.519220   |  182.02  \n",
      "  1700    |   0.572164   |  180.42  \n",
      "  1800    |   0.505104   |  180.45  \n",
      "  1900    |   0.472122   |  180.45  \n",
      "  2000    |   0.441135   |  180.44  \n",
      "  2100    |   0.465543   |  180.47  \n",
      "  2200    |   0.466226   |  180.46  \n",
      "  2300    |   0.447317   |  180.45  \n",
      "  2400    |   0.467362   |  180.48  \n",
      "  2500    |   0.465392   |  180.48  \n",
      "  2600    |   0.458552   |  180.53  \n",
      "  2700    |   0.424847   |  180.53  \n",
      "  2800    |   0.413126   |  180.53  \n",
      "  2900    |   0.462456   |  180.49  \n",
      "  2967    |   0.338460   |  121.65  \n",
      "-------------------------------------------------------------\n",
      "AVG TRAIN LOSS |  VAL LOSS  | VAL ACCURACY (%) | ELAPSED (s)\n",
      "-------------------------------------------------------------\n",
      "   0.540457    |  0.717052  |       77.45       |  5503.89 \n",
      "-------------------------------------------------------------\n",
      "\n",
      "\n",
      "----------\n",
      "Epoch : 2\n",
      "----------\n",
      "--------------------------------------\n",
      "BATCH NO. |  TRAIN LOSS  | ELAPSED (s)\n",
      "--------------------------------------\n",
      "   100    |   0.373010   |  182.24  \n",
      "   200    |   0.377157   |  179.61  \n",
      "   300    |   0.357279   |  179.57  \n",
      "   400    |   0.410012   |  179.56  \n",
      "   500    |   0.421434   |  179.57  \n",
      "   600    |   0.380690   |  179.56  \n",
      "   700    |   0.362830   |  179.54  \n",
      "   800    |   0.406726   |  179.52  \n",
      "   900    |   0.336753   |  179.52  \n",
      "  1000    |   0.350905   |  179.47  \n",
      "  1100    |   0.363548   |  179.45  \n",
      "  1200    |   0.378328   |  179.47  \n",
      "  1300    |   0.376931   |  179.41  \n",
      "  1400    |   0.394911   |  179.47  \n",
      "  1500    |   0.396341   |  179.46  \n",
      "  1600    |   0.307535   |  179.49  \n",
      "  1700    |   0.352259   |  179.53  \n",
      "  1800    |   0.360662   |  179.51  \n",
      "  1900    |   0.294442   |  191.06  \n",
      "  2000    |   0.386872   |  174.23  \n",
      "  2100    |   0.339018   |  174.06  \n",
      "  2200    |   0.319846   |  173.97  \n",
      "  2300    |   0.367810   |  174.04  \n",
      "  2400    |   0.349833   |  173.89  \n",
      "  2500    |   0.390656   |  173.85  \n",
      "  2600    |   0.351608   |  173.91  \n",
      "  2700    |   0.314324   |  173.88  \n",
      "  2800    |   0.341881   |  173.90  \n",
      "  2900    |   0.374058   |  174.06  \n",
      "  2967    |   0.320640   |  116.40  \n",
      "-------------------------------------------------------------\n",
      "AVG TRAIN LOSS |  VAL LOSS  | VAL ACCURACY (%) | ELAPSED (s)\n",
      "-------------------------------------------------------------\n",
      "   0.362406    |  0.712759  |       81.21       |  5374.92 \n",
      "-------------------------------------------------------------\n",
      "\n",
      "\n",
      "----------\n",
      "Epoch : 3\n",
      "----------\n",
      "--------------------------------------\n",
      "BATCH NO. |  TRAIN LOSS  | ELAPSED (s)\n",
      "--------------------------------------\n",
      "   100    |   0.283069   |  202.11  \n",
      "   200    |   0.217602   |  187.26  \n",
      "   300    |   0.271039   |  187.20  \n",
      "   400    |   0.281809   |  187.20  \n",
      "   500    |   0.277127   |  187.12  \n",
      "   600    |   0.287248   |  187.06  \n",
      "   700    |   0.254254   |  187.19  \n",
      "   800    |   0.239693   |  187.09  \n",
      "   900    |   0.274173   |  186.98  \n",
      "  1000    |   0.260237   |  184.03  \n",
      "  1100    |   0.300372   |  184.04  \n",
      "  1200    |   0.321086   |  183.95  \n",
      "  1300    |   0.237463   |  183.93  \n",
      "  1400    |   0.290979   |  184.03  \n",
      "  1500    |   0.231131   |  183.92  \n",
      "  1600    |   0.283988   |  184.00  \n",
      "  1700    |   0.217149   |  183.84  \n",
      "  1800    |   0.219989   |  183.93  \n",
      "  1900    |   0.320624   |  183.97  \n",
      "  2000    |   0.262950   |  184.00  \n",
      "  2100    |   0.235427   |  184.08  \n",
      "  2200    |   0.223071   |  184.09  \n",
      "  2300    |   0.296460   |  183.94  \n",
      "  2400    |   0.225802   |  183.99  \n",
      "  2500    |   0.274943   |  184.10  \n",
      "  2600    |   0.240412   |  183.96  \n",
      "  2700    |   0.218286   |  183.96  \n",
      "  2800    |   0.259390   |  183.97  \n",
      "  2900    |   0.225123   |  185.23  \n",
      "  2967    |   0.269904   |  116.27  \n",
      "-------------------------------------------------------------\n",
      "AVG TRAIN LOSS |  VAL LOSS  | VAL ACCURACY (%) | ELAPSED (s)\n",
      "-------------------------------------------------------------\n",
      "   0.259925    |  0.928040  |       78.68       |  5590.55 \n",
      "-------------------------------------------------------------\n",
      "\n",
      "\n",
      "----------\n",
      "Epoch : 4\n",
      "----------\n",
      "--------------------------------------\n",
      "BATCH NO. |  TRAIN LOSS  | ELAPSED (s)\n",
      "--------------------------------------\n",
      "   100    |   0.199437   |  199.25  \n",
      "   200    |   0.190810   |  188.68  \n",
      "   300    |   0.150539   |  187.13  \n",
      "   400    |   0.193764   |  187.11  \n",
      "   500    |   0.169276   |  187.10  \n",
      "   600    |   0.138348   |  187.22  \n",
      "   700    |   0.227140   |  187.14  \n",
      "   800    |   0.169414   |  187.22  \n",
      "   900    |   0.195398   |  187.12  \n",
      "  1000    |   0.209486   |  187.09  \n",
      "  1100    |   0.135912   |  187.10  \n",
      "  1200    |   0.235497   |  184.60  \n",
      "  1300    |   0.225591   |  183.96  \n",
      "  1400    |   0.148262   |  183.98  \n",
      "  1500    |   0.176261   |  184.05  \n",
      "  1600    |   0.176322   |  183.88  \n",
      "  1700    |   0.216106   |  183.92  \n",
      "  1800    |   0.181757   |  183.98  \n",
      "  1900    |   0.247454   |  183.95  \n",
      "  2000    |   0.234812   |  183.93  \n",
      "  2100    |   0.184072   |  183.94  \n",
      "  2200    |   0.196500   |  183.94  \n",
      "  2300    |   0.195164   |  184.00  \n",
      "  2400    |   0.160385   |  183.98  \n",
      "  2500    |   0.189643   |  183.93  \n",
      "  2600    |   0.219506   |  183.96  \n",
      "  2700    |   0.214818   |  184.12  \n",
      "  2800    |   0.232028   |  184.09  \n",
      "  2900    |   0.162818   |  184.11  \n",
      "  2967    |   0.164784   |  122.99  \n",
      "-------------------------------------------------------------\n",
      "AVG TRAIN LOSS |  VAL LOSS  | VAL ACCURACY (%) | ELAPSED (s)\n",
      "-------------------------------------------------------------\n",
      "   0.191675    |  0.932705  |       80.98       |  5596.81 \n",
      "-------------------------------------------------------------\n",
      "\n",
      "\n",
      "----------\n",
      "Epoch : 5\n",
      "----------\n",
      "--------------------------------------\n",
      "BATCH NO. |  TRAIN LOSS  | ELAPSED (s)\n",
      "--------------------------------------\n",
      "   100    |   0.170414   |  200.31  \n",
      "   200    |   0.162722   |  192.40  \n",
      "   300    |   0.121909   |  192.38  \n",
      "   400    |   0.151848   |  192.39  \n",
      "   500    |   0.143650   |  192.36  \n",
      "   600    |   0.116182   |  192.36  \n",
      "   700    |   0.144085   |  191.99  \n",
      "   800    |   0.157800   |  174.05  \n",
      "   900    |   0.153740   |  177.11  \n",
      "  1000    |   0.146178   |  177.11  \n",
      "  1100    |   0.183325   |  177.09  \n",
      "  1200    |   0.199619   |  177.05  \n",
      "  1300    |   0.094841   |  177.07  \n",
      "  1400    |   0.176156   |  177.11  \n",
      "  1500    |   0.208928   |  177.01  \n",
      "  1600    |   0.161894   |  177.03  \n",
      "  1700    |   0.175770   |  177.07  \n",
      "  1800    |   0.165775   |  177.18  \n",
      "  1900    |   0.141713   |  177.14  \n",
      "  2000    |   0.201811   |  177.03  \n",
      "  2100    |   0.156890   |  177.14  \n",
      "  2200    |   0.149929   |  177.15  \n",
      "  2300    |   0.192050   |  177.15  \n",
      "  2400    |   0.142059   |  177.14  \n",
      "  2500    |   0.107219   |  177.10  \n",
      "  2600    |   0.144949   |  177.16  \n",
      "  2700    |   0.176784   |  177.21  \n",
      "  2800    |   0.126212   |  177.16  \n",
      "  2900    |   0.161992   |  177.20  \n",
      "  2967    |   0.122198   |  118.45  \n",
      "-------------------------------------------------------------\n",
      "AVG TRAIN LOSS |  VAL LOSS  | VAL ACCURACY (%) | ELAPSED (s)\n",
      "-------------------------------------------------------------\n",
      "   0.155661    |  1.097391  |       80.52       |  5461.09 \n",
      "-------------------------------------------------------------\n",
      "\n",
      "\n",
      "----------\n",
      "Epoch : 6\n",
      "----------\n",
      "--------------------------------------\n",
      "BATCH NO. |  TRAIN LOSS  | ELAPSED (s)\n",
      "--------------------------------------\n",
      "   100    |   0.129832   |  210.02  \n",
      "   200    |   0.127999   |  200.27  \n",
      "   300    |   0.099201   |  199.15  \n",
      "   400    |   0.124313   |  196.07  \n",
      "   500    |   0.118516   |  196.10  \n"
     ]
    },
    {
     "name": "stdout",
     "output_type": "stream",
     "text": [
      "   600    |   0.078465   |  196.07  \n",
      "   700    |   0.179000   |  196.07  \n",
      "   800    |   0.135226   |  196.11  \n",
      "   900    |   0.126149   |  196.05  \n",
      "  1000    |   0.088674   |  195.79  \n",
      "  1100    |   0.151895   |  195.49  \n",
      "  1200    |   0.103942   |  195.43  \n",
      "  1300    |   0.130180   |  195.43  \n",
      "  1400    |   0.129792   |  195.42  \n",
      "  1500    |   0.120017   |  195.44  \n",
      "  1600    |   0.100958   |  195.47  \n",
      "  1700    |   0.119971   |  195.57  \n",
      "  1800    |   0.121885   |  195.58  \n",
      "  1900    |   0.119852   |  195.48  \n",
      "  2000    |   0.093280   |  195.47  \n",
      "  2100    |   0.124165   |  195.50  \n",
      "  2200    |   0.111598   |  195.56  \n",
      "  2300    |   0.079039   |  196.04  \n",
      "  2400    |   0.155727   |  195.65  \n",
      "  2500    |   0.129043   |  192.54  \n",
      "  2600    |   0.111137   |  178.99  \n",
      "  2700    |   0.132035   |  174.74  \n",
      "  2800    |   0.122725   |  173.49  \n",
      "  2900    |   0.128631   |  172.27  \n",
      "  2967    |   0.092165   |  114.85  \n",
      "-------------------------------------------------------------\n",
      "AVG TRAIN LOSS |  VAL LOSS  | VAL ACCURACY (%) | ELAPSED (s)\n",
      "-------------------------------------------------------------\n",
      "   0.119821    |  0.973698  |       83.36       |  5802.05 \n",
      "-------------------------------------------------------------\n",
      "\n",
      "\n",
      "----------\n",
      "Epoch : 7\n",
      "----------\n",
      "--------------------------------------\n",
      "BATCH NO. |  TRAIN LOSS  | ELAPSED (s)\n",
      "--------------------------------------\n",
      "   100    |   0.066683   |  176.18  \n",
      "   200    |   0.102781   |  171.96  \n",
      "   300    |   0.089982   |  171.88  \n",
      "   400    |   0.078374   |  171.91  \n",
      "   500    |   0.092858   |  171.93  \n",
      "   600    |   0.157868   |  172.02  \n",
      "   700    |   0.165992   |  175.28  \n",
      "   800    |   0.091463   |  173.93  \n",
      "   900    |   0.113183   |  171.91  \n",
      "  1000    |   0.079350   |  171.92  \n",
      "  1100    |   0.117167   |  171.87  \n",
      "  1200    |   0.076213   |  171.87  \n",
      "  1300    |   0.100373   |  171.83  \n",
      "  1400    |   0.086699   |  171.80  \n",
      "  1500    |   0.096884   |  171.79  \n",
      "  1600    |   0.078185   |  171.79  \n",
      "  1700    |   0.056874   |  171.81  \n",
      "  1800    |   0.077525   |  171.82  \n",
      "  1900    |   0.127506   |  171.85  \n",
      "  2000    |   0.094846   |  171.83  \n",
      "  2100    |   0.089417   |  171.85  \n",
      "  2200    |   0.098285   |  171.82  \n",
      "  2300    |   0.072379   |  171.87  \n",
      "  2400    |   0.074473   |  171.87  \n",
      "  2500    |   0.093094   |  171.91  \n",
      "  2600    |   0.089126   |  171.88  \n",
      "  2700    |   0.056795   |  171.85  \n",
      "  2800    |   0.089176   |  171.85  \n",
      "  2900    |   0.134841   |  171.81  \n",
      "  2967    |   0.074329   |  114.81  \n",
      "-------------------------------------------------------------\n",
      "AVG TRAIN LOSS |  VAL LOSS  | VAL ACCURACY (%) | ELAPSED (s)\n",
      "-------------------------------------------------------------\n",
      "   0.094301    |  1.202909  |       80.75       |  5183.68 \n",
      "-------------------------------------------------------------\n",
      "\n",
      "\n",
      "----------\n",
      "Epoch : 8\n",
      "----------\n",
      "--------------------------------------\n",
      "BATCH NO. |  TRAIN LOSS  | ELAPSED (s)\n",
      "--------------------------------------\n",
      "   100    |   0.084389   |  174.12  \n",
      "   200    |   0.073621   |  169.42  \n",
      "   300    |   0.083001   |  169.37  \n",
      "   400    |   0.110248   |  169.37  \n",
      "   500    |   0.139933   |  169.42  \n",
      "   600    |   0.071814   |  169.46  \n",
      "   700    |   0.068828   |  179.59  \n",
      "   800    |   0.091811   |  170.23  \n",
      "   900    |   0.054276   |  169.96  \n",
      "  1000    |   0.086070   |  169.91  \n",
      "  1100    |   0.059433   |  169.85  \n",
      "  1200    |   0.095141   |  169.97  \n",
      "  1300    |   0.093205   |  170.00  \n",
      "  1400    |   0.097328   |  170.02  \n",
      "  1500    |   0.056064   |  170.02  \n",
      "  1600    |   0.063398   |  170.15  \n",
      "  1700    |   0.113018   |  170.14  \n",
      "  1800    |   0.078273   |  170.07  \n",
      "  1900    |   0.081090   |  170.04  \n",
      "  2000    |   0.063369   |  170.01  \n",
      "  2100    |   0.061046   |  169.99  \n",
      "  2200    |   0.114735   |  170.00  \n",
      "  2300    |   0.081969   |  169.94  \n",
      "  2400    |   0.060564   |  169.84  \n",
      "  2500    |   0.072922   |  169.83  \n",
      "  2600    |   0.071210   |  169.87  \n",
      "  2700    |   0.100169   |  169.83  \n",
      "  2800    |   0.064860   |  169.85  \n",
      "  2900    |   0.049562   |  169.90  \n",
      "  2967    |   0.066449   |  113.53  \n",
      "-------------------------------------------------------------\n",
      "AVG TRAIN LOSS |  VAL LOSS  | VAL ACCURACY (%) | ELAPSED (s)\n",
      "-------------------------------------------------------------\n",
      "   0.080415    |  1.258005  |       82.98       |  5134.19 \n",
      "-------------------------------------------------------------\n",
      "\n",
      "\n",
      "----------\n",
      "Epoch : 9\n",
      "----------\n",
      "--------------------------------------\n",
      "BATCH NO. |  TRAIN LOSS  | ELAPSED (s)\n",
      "--------------------------------------\n",
      "   100    |   0.041601   |  179.63  \n",
      "   200    |   0.063523   |  174.10  \n",
      "   300    |   0.048920   |  172.76  \n",
      "   400    |   0.050911   |  172.33  \n",
      "   500    |   0.060261   |  172.32  \n",
      "   600    |   0.093823   |  172.28  \n",
      "   700    |   0.062594   |  172.25  \n",
      "   800    |   0.054500   |  172.23  \n",
      "   900    |   0.069708   |  172.24  \n",
      "  1000    |   0.055862   |  172.17  \n",
      "  1100    |   0.054533   |  172.08  \n",
      "  1200    |   0.088751   |  172.17  \n",
      "  1300    |   0.101004   |  172.35  \n",
      "  1400    |   0.050429   |  172.29  \n",
      "  1500    |   0.050333   |  172.20  \n",
      "  1600    |   0.045094   |  172.27  \n",
      "  1700    |   0.046089   |  172.26  \n",
      "  1800    |   0.099293   |  172.16  \n",
      "  1900    |   0.042338   |  172.33  \n",
      "  2000    |   0.055338   |  172.37  \n",
      "  2100    |   0.027466   |  172.13  \n",
      "  2200    |   0.086281   |  172.15  \n",
      "  2300    |   0.051065   |  172.11  \n",
      "  2400    |   0.060766   |  172.08  \n",
      "  2500    |   0.066049   |  172.06  \n",
      "  2600    |   0.060958   |  172.03  \n",
      "  2700    |   0.072988   |  172.07  \n",
      "  2800    |   0.098860   |  172.18  \n",
      "  2900    |   0.060733   |  172.21  \n",
      "  2967    |   0.030376   |  115.00  \n",
      "-------------------------------------------------------------\n",
      "AVG TRAIN LOSS |  VAL LOSS  | VAL ACCURACY (%) | ELAPSED (s)\n",
      "-------------------------------------------------------------\n",
      "   0.062023    |  1.250762  |       82.82       |  5198.13 \n",
      "-------------------------------------------------------------\n",
      "\n",
      "\n",
      "----------\n",
      "Epoch : 10\n",
      "----------\n",
      "--------------------------------------\n",
      "BATCH NO. |  TRAIN LOSS  | ELAPSED (s)\n",
      "--------------------------------------\n",
      "   100    |   0.068613   |  179.06  \n",
      "   200    |   0.057346   |  173.10  \n",
      "   300    |   0.035613   |  172.20  \n",
      "   400    |   0.068361   |  172.19  \n",
      "   500    |   0.053573   |  172.36  \n",
      "   600    |   0.058787   |  175.51  \n",
      "   700    |   0.049986   |  192.94  \n",
      "   800    |   0.040176   |  200.19  \n",
      "   900    |   0.063357   |  192.49  \n",
      "  1000    |   0.034237   |  186.86  \n",
      "  1100    |   0.049231   |  186.89  \n",
      "  1200    |   0.062224   |  186.97  \n",
      "  1300    |   0.037309   |  186.68  \n",
      "  1400    |   0.050264   |  175.67  \n",
      "  1500    |   0.038941   |  173.73  \n",
      "  1600    |   0.040593   |  173.79  \n",
      "  1700    |   0.067367   |  172.09  \n",
      "  1800    |   0.065818   |  172.27  \n",
      "  1900    |   0.043395   |  172.44  \n",
      "  2000    |   0.049915   |  172.32  \n",
      "  2100    |   0.033549   |  172.23  \n",
      "  2200    |   0.054950   |  172.38  \n",
      "  2300    |   0.041274   |  172.31  \n",
      "  2400    |   0.050542   |  172.33  \n",
      "  2500    |   0.058265   |  172.23  \n",
      "  2600    |   0.046097   |  172.27  \n",
      "  2700    |   0.059508   |  172.30  \n",
      "  2800    |   0.083945   |  172.38  \n",
      "  2900    |   0.039030   |  172.48  \n",
      "  2967    |   0.039381   |  115.18  \n",
      "-------------------------------------------------------------\n",
      "AVG TRAIN LOSS |  VAL LOSS  | VAL ACCURACY (%) | ELAPSED (s)\n",
      "-------------------------------------------------------------\n",
      "   0.051528    |  1.287210  |       83.13       |  5338.27 \n",
      "-------------------------------------------------------------\n",
      "\n",
      "\n",
      "Training complete!\n"
     ]
    }
   ],
   "source": [
    "bert_train(bert_classifier, train_dataloader, val_dataloader, epochs=EPOCHS)"
   ]
  },
  {
   "cell_type": "markdown",
   "id": "c4ddaf22",
   "metadata": {},
   "source": [
    "# BERT Prediction"
   ]
  },
  {
   "cell_type": "markdown",
   "id": "b874cb06",
   "metadata": {},
   "source": [
    "Now we define a function similar to the model \"evaluation\", where we feed to the model the test data instead of the validation data."
   ]
  },
  {
   "cell_type": "code",
   "execution_count": 30,
   "id": "ff45c15a",
   "metadata": {},
   "outputs": [],
   "source": [
    "def bert_predict(model, test_dataloader):\n",
    "    \n",
    "    # Define empty list to host the predictions\n",
    "    preds_list = []\n",
    "    \n",
    "    # Put the model into evaluation mode\n",
    "    model.eval()\n",
    "    \n",
    "    for batch in test_dataloader:\n",
    "        batch_input_ids, batch_attention_mask = tuple(t.to(device) for t in batch)[:2]\n",
    "        \n",
    "        # Avoid gradient calculation of tensors by using \"no_grad()\" method\n",
    "        with torch.no_grad():\n",
    "            logit = model(batch_input_ids, batch_attention_mask)\n",
    "        \n",
    "        # Get index of highest logit\n",
    "        pred = torch.argmax(logit,dim=1).cpu().numpy()\n",
    "        # Append predicted class to list\n",
    "        preds_list.extend(pred)\n",
    "\n",
    "    return preds_list"
   ]
  },
  {
   "cell_type": "markdown",
   "id": "222acdb4",
   "metadata": {},
   "source": [
    "Then we can call the defined function and get the class predictions of the test data."
   ]
  },
  {
   "cell_type": "code",
   "execution_count": 31,
   "id": "25705e6b",
   "metadata": {},
   "outputs": [],
   "source": [
    "bert_preds = bert_predict(bert_classifier, test_dataloader)"
   ]
  },
  {
   "cell_type": "markdown",
   "id": "133ae7ee",
   "metadata": {},
   "source": [
    "# Results from BERT Classifer Model"
   ]
  },
  {
   "cell_type": "markdown",
   "id": "d13f0c5a",
   "metadata": {},
   "source": [
    "### Classification Report"
   ]
  },
  {
   "cell_type": "code",
   "execution_count": 32,
   "id": "1baa3f31",
   "metadata": {},
   "outputs": [
    {
     "name": "stdout",
     "output_type": "stream",
     "text": [
      "Classification Report for BERT (10 Epochs) :\n",
      "               precision    recall  f1-score   support\n",
      "\n",
      "        none       0.84      0.88      0.86      2198\n",
      "      sexism       0.71      0.60      0.65       668\n",
      "      racism       0.73      0.69      0.71       394\n",
      "\n",
      "    accuracy                           0.80      3260\n",
      "   macro avg       0.76      0.72      0.74      3260\n",
      "weighted avg       0.80      0.80      0.80      3260\n",
      "\n"
     ]
    }
   ],
   "source": [
    "print('Classification Report for BERT (10 Epochs) :\\n', classification_report(y_test, bert_preds, target_names=flag))"
   ]
  },
  {
   "cell_type": "markdown",
   "id": "9acbd7d5",
   "metadata": {},
   "source": [
    "### Confusion Matrix"
   ]
  },
  {
   "cell_type": "code",
   "execution_count": 42,
   "id": "3c3f7b49",
   "metadata": {},
   "outputs": [],
   "source": [
    "cf_matrix = confusion_matrix(y_true = y_test, y_pred = bert_preds)"
   ]
  },
  {
   "cell_type": "code",
   "execution_count": 43,
   "id": "73933392",
   "metadata": {
    "scrolled": true
   },
   "outputs": [
    {
     "data": {
      "image/png": "[encoded data removed]",
      "text/plain": [
       "<Figure size 432x288 with 2 Axes>"
      ]
     },
     "metadata": {
      "needs_background": "light"
     },
     "output_type": "display_data"
    }
   ],
   "source": [
    "ax = sns.heatmap(cf_matrix, annot=True, cmap='Blues', fmt='g')\n",
    "\n",
    "ax.set_title('BERT Model (10 Epochs) Confusion Matrix\\n\\n');\n",
    "ax.set_xlabel('\\nPredicted Values')\n",
    "ax.set_ylabel('Actual Values ');\n",
    "\n",
    "## Ticket labels - List must be in alphabetical order\n",
    "ax.xaxis.set_ticklabels(['None','Sexism','Racism'])\n",
    "ax.yaxis.set_ticklabels(['None','Sexism','Racism'])\n",
    "\n",
    "## Display the visualization of the Confusion Matrix.\n",
    "plt.show()"
   ]
  },
  {
   "cell_type": "markdown",
   "id": "f3959b35",
   "metadata": {},
   "source": [
    "It can be observed that the model best classifies an innocuous tweet as innocuous most of the time, which is unsurprising given the majority tweets are innocuous (tagged as 'none'). \n",
    "\n",
    "Generally, the BERT model is able to correctly identify more than half of the inappropriate tweets, with better performance picking out racist tweets. When the tweets are marked as sexist or racist, the model is much more likely to erroneously flag them as innocuous rather than the wrong kind of inappropriateness."
   ]
  },
  {
   "cell_type": "code",
   "execution_count": 44,
   "id": "0784830a",
   "metadata": {},
   "outputs": [
    {
     "data": {
      "text/plain": [
       "__main__.Bert_Classifier"
      ]
     },
     "execution_count": 44,
     "metadata": {},
     "output_type": "execute_result"
    }
   ],
   "source": [
    "# This is the model variable\n",
    "type(bert_classifier)"
   ]
  },
  {
   "cell_type": "markdown",
   "id": "4e5d5c60",
   "metadata": {},
   "source": [
    "# Saving BERT Model with 10 Epochs"
   ]
  },
  {
   "cell_type": "code",
   "execution_count": 46,
   "id": "2c21508d",
   "metadata": {},
   "outputs": [],
   "source": [
    "# Saving Model\n",
    "pickle.dump(bert_classifier, open(\"../Capstone/bert_classifier_10epochs.pkl\", \"wb\"))"
   ]
  },
  {
   "cell_type": "markdown",
   "id": "3d2feb7a",
   "metadata": {},
   "source": [
    "# Saving Confusion Matrix"
   ]
  },
  {
   "cell_type": "code",
   "execution_count": 47,
   "id": "72df9e72",
   "metadata": {},
   "outputs": [],
   "source": [
    "pickle.dump(cf_matrix, open(\"../Capstone/bert_classifier_10epochs_cf_matrix.pkl\", \"wb\"))"
   ]
  },
  {
   "cell_type": "code",
   "execution_count": 48,
   "id": "6891f42a",
   "metadata": {},
   "outputs": [],
   "source": [
    "# Checking by loading saved confusion matrix\n",
    "saved_cf = pickle.load(open('../Capstone/bert_classifier_10epochs_cf_matrix.pkl', 'rb'))"
   ]
  },
  {
   "cell_type": "code",
   "execution_count": 49,
   "id": "958b5c7a",
   "metadata": {},
   "outputs": [
    {
     "data": {
      "text/plain": [
       "array([[1944,  156,   98],\n",
       "       [ 263,  402,    3],\n",
       "       [ 117,    6,  271]], dtype=int64)"
      ]
     },
     "execution_count": 49,
     "metadata": {},
     "output_type": "execute_result"
    }
   ],
   "source": [
    "# Showing confusion matrix\n",
    "saved_cf"
   ]
  }
 ],
 "metadata": {
  "kernelspec": {
   "display_name": "Python 3 (ipykernel)",
   "language": "python",
   "name": "python3"
  },
  "language_info": {
   "codemirror_mode": {
    "name": "ipython",
    "version": 3
   },
   "file_extension": ".py",
   "mimetype": "text/x-python",
   "name": "python",
   "nbconvert_exporter": "python",
   "pygments_lexer": "ipython3",
   "version": "3.8.13"
  }
 },
 "nbformat": 4,
 "nbformat_minor": 5
}
