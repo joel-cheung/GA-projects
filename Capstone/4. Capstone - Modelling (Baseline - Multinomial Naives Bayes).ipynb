{
 "cells": [
  {
   "cell_type": "markdown",
   "id": "705a617f",
   "metadata": {},
   "source": [
    "# Background"
   ]
  },
  {
   "cell_type": "markdown",
   "id": "fc618fb1",
   "metadata": {},
   "source": [
    "Twitter is a micro-blogging social media platform with 217.5 million daily active users globally. With 500 million new tweets (posts) daily, the topics of these tweets varies widely – k-pop, politics, financial news… you name it! Individuals use it for news, entertainment, and discussions, while corporations use them to as a marketing tool to reach out to a wide audience. Given the freedom Twitter accords to its user, Twitter can provide a conducive environment for productive discourse, but this freedom can also be abused, manifesting in the forms of racism and sexism."
   ]
  },
  {
   "cell_type": "markdown",
   "id": "5f4cfa85",
   "metadata": {},
   "source": [
    "# Problem Statement"
   ]
  },
  {
   "cell_type": "markdown",
   "id": "dfcfe3f9",
   "metadata": {},
   "source": [
    "With Twitter’s significant income stream coming from advertisers, it is imperative that Twitter keeps a substantial user base. On the other hand, Twitter should maintain a safe space for users and provide some level of checks for the tweets the users put out into the public space, and the first step would be to identify tweets that espouse racist or sexist ideologies, and then Twitter can direct the users to appropriate sources of information where users can learn more about the community that they offend or their subconscious biases so they will be more aware of their racist/sexist tendencies. Thus, to balance, Twitter has to be accurate in filtering inappropriate tweets from innocuous ones, and the kind of inappropriateness of flagged tweets (tag - racist or sexist).\n",
    "\n",
    "F1-scores will be the primary metric as it looks at both precision and recall, each looking at false positives (FPs) and false negatives (FNs) respectively, and is a popular metric for imbalanced data as is the case with the dataset used.\n",
    "\n",
    "For the purpose of explanation, racist tweets are used as the ‘positive’ case.\n",
    "\n",
    "In this context, FPs are the cases where the model erroneously flags out tweets as racist when the tweet is actually innocuous/sexist. FNs are cases where the model erroneously flags out tweets as innocuous/sexist but the tweets are actually racist.\n",
    "\n",
    "Thus, higher F1-scores are preferred."
   ]
  },
  {
   "cell_type": "markdown",
   "id": "7a89ba68",
   "metadata": {},
   "source": [
    "# Importing Libraries"
   ]
  },
  {
   "cell_type": "code",
   "execution_count": 1,
   "id": "95dce205",
   "metadata": {},
   "outputs": [],
   "source": [
    "# Standard libraries\n",
    "import numpy as np\n",
    "import pandas as pd\n",
    "\n",
    "# For visualization\n",
    "import matplotlib.pyplot as plt\n",
    "import seaborn as sns\n",
    "\n",
    "# For NLP data cleaning and preprocessing\n",
    "import re, string, nltk, itertools\n",
    "from nltk.tokenize import word_tokenize\n",
    "from nltk.stem import WordNetLemmatizer, PorterStemmer\n",
    "from sklearn.feature_extraction.text import CountVectorizer, TfidfVectorizer\n",
    "\n",
    "# Pickle to save model\n",
    "import pickle\n",
    "\n",
    "# For NLP Machine Learning processes\n",
    "from sklearn.model_selection import train_test_split, cross_val_score, GridSearchCV\n",
    "from imblearn.over_sampling import RandomOverSampler, SMOTE\n",
    "\n",
    "# Pipeline\n",
    "from imblearn.pipeline import Pipeline\n",
    "\n",
    "# Naive Bayes\n",
    "from sklearn.naive_bayes import MultinomialNB\n",
    "\n",
    "# Random Forest\n",
    "from sklearn.ensemble import RandomForestClassifier\n",
    "\n",
    "# XGBoost\n",
    "import xgboost as xgb\n",
    "from xgboost import XGBClassifier, plot_importance\n",
    "\n",
    "# Support Vector Machine\n",
    "from sklearn.svm import SVC\n",
    "\n",
    "# PyTorch LSTM\n",
    "import torch\n",
    "import torch.nn as nn\n",
    "import torch.nn.functional as F\n",
    "from torch.utils.data import TensorDataset, DataLoader, RandomSampler, SequentialSampler\n",
    "\n",
    "# Tokenization for LSTM\n",
    "from collections import Counter\n",
    "from gensim.models import Word2Vec\n",
    "\n",
    "# Transformers library for BERT\n",
    "import transformers\n",
    "from transformers import BertModel\n",
    "from transformers import BertTokenizer\n",
    "from transformers import AdamW, get_linear_schedule_with_warmup\n",
    "\n",
    "# Evaluation Metrics\n",
    "from sklearn.metrics import accuracy_score, f1_score, precision_score, recall_score\n",
    "from sklearn.metrics import roc_auc_score, roc_curve, plot_roc_curve, RocCurveDisplay\n",
    "from sklearn.metrics import confusion_matrix, ConfusionMatrixDisplay, classification_report, plot_confusion_matrix"
   ]
  },
  {
   "cell_type": "code",
   "execution_count": 2,
   "id": "e7e3229f",
   "metadata": {},
   "outputs": [],
   "source": [
    "# Setting seed for reproducibility\n",
    "import random\n",
    "\n",
    "seed_value=42\n",
    "random.seed(seed_value)\n",
    "np.random.seed(seed_value)\n",
    "torch.manual_seed(seed_value)\n",
    "torch.cuda.manual_seed_all(seed_value)"
   ]
  },
  {
   "cell_type": "code",
   "execution_count": 3,
   "id": "2b54d6dc",
   "metadata": {},
   "outputs": [],
   "source": [
    "# Changing display settings\n",
    "pd.set_option('display.max_row', 100)\n",
    "pd.set_option('display.max_colwidth', None)"
   ]
  },
  {
   "cell_type": "markdown",
   "id": "e9aadea0",
   "metadata": {},
   "source": [
    "# Importing Dataset"
   ]
  },
  {
   "cell_type": "code",
   "execution_count": 4,
   "id": "cff682b7",
   "metadata": {},
   "outputs": [],
   "source": [
    "twitter_final3 = pd.read_csv('../Capstone/data/twitter_final3.csv')"
   ]
  },
  {
   "cell_type": "code",
   "execution_count": 5,
   "id": "3b0802e1",
   "metadata": {},
   "outputs": [
    {
     "data": {
      "text/plain": [
       "Index(['Text', 'Annotation', 'oh_label', 'Text_stem', 'Text_lemm',\n",
       "       'Text_stem_char_2_gram', 'Text_stem_char_3_gram',\n",
       "       'Text_stem_char_4_gram', 'Text_lemm_char_2_gram',\n",
       "       'Text_lemm_char_3_gram', 'Text_lemm_char_4_gram'],\n",
       "      dtype='object')"
      ]
     },
     "execution_count": 5,
     "metadata": {},
     "output_type": "execute_result"
    }
   ],
   "source": [
    "twitter_final3.columns"
   ]
  },
  {
   "cell_type": "code",
   "execution_count": 6,
   "id": "575f2120",
   "metadata": {},
   "outputs": [
    {
     "data": {
      "text/html": [
       "<div>\n",
       "<style scoped>\n",
       "    .dataframe tbody tr th:only-of-type {\n",
       "        vertical-align: middle;\n",
       "    }\n",
       "\n",
       "    .dataframe tbody tr th {\n",
       "        vertical-align: top;\n",
       "    }\n",
       "\n",
       "    .dataframe thead th {\n",
       "        text-align: right;\n",
       "    }\n",
       "</style>\n",
       "<table border=\"1\" class=\"dataframe\">\n",
       "  <thead>\n",
       "    <tr style=\"text-align: right;\">\n",
       "      <th></th>\n",
       "      <th>Text</th>\n",
       "      <th>Annotation</th>\n",
       "      <th>oh_label</th>\n",
       "      <th>Text_stem</th>\n",
       "      <th>Text_lemm</th>\n",
       "      <th>Text_stem_char_2_gram</th>\n",
       "      <th>Text_stem_char_3_gram</th>\n",
       "      <th>Text_stem_char_4_gram</th>\n",
       "      <th>Text_lemm_char_2_gram</th>\n",
       "      <th>Text_lemm_char_3_gram</th>\n",
       "      <th>Text_lemm_char_4_gram</th>\n",
       "    </tr>\n",
       "  </thead>\n",
       "  <tbody>\n",
       "    <tr>\n",
       "      <th>0</th>\n",
       "      <td>@halalflaws @biebervalue @greenlinerzjm I read them in context.No change in meaning. The history of Islamic slavery. https://t.co/xWJzpSodGj</td>\n",
       "      <td>none</td>\n",
       "      <td>0</td>\n",
       "      <td>read contextno chang mean histori islam slaveri</td>\n",
       "      <td>read contextno change meaning history islamic slavery</td>\n",
       "      <td>re ea ad co on nt te ex xt tn no ch ha an ng me ea an hi is st to or ri is sl la am sl la av ve er ri</td>\n",
       "      <td>rea ead con ont nte tex ext xtn tno cha han ang mea ean his ist sto tor ori isl sla lam sla lav ave ver eri</td>\n",
       "      <td>read cont onte ntex text extn xtno chan hang mean hist isto stor tori isla slam slav lave aver veri</td>\n",
       "      <td>re ea ad co on nt te ex xt tn no ch ha an ng ge me ea an ni in ng hi is st to or ry is sl la am mi ic sl la av ve er ry</td>\n",
       "      <td>rea ead con ont nte tex ext xtn tno cha han ang nge mea ean ani nin ing his ist sto tor ory isl sla lam ami mic sla lav ave ver ery</td>\n",
       "      <td>read cont onte ntex text extn xtno chan hang ange mean eani anin ning hist isto stor tory isla slam lami amic slav lave aver very</td>\n",
       "    </tr>\n",
       "    <tr>\n",
       "      <th>1</th>\n",
       "      <td>@ShreyaBafna3 Now you idiots claim that people who tried to stop him from becoming a terrorist made him a terrorist. Islamically brain dead.</td>\n",
       "      <td>none</td>\n",
       "      <td>0</td>\n",
       "      <td>idiot claim peopl tri stop becom terrorist made terrorist islam brain dead</td>\n",
       "      <td>idiot claim people try stop become terrorist make terrorist islamically brain dead</td>\n",
       "      <td>id di io ot cl la ai im pe eo op pl tr ri st to op be ec co om te er rr ro or ri is st ma ad de te er rr ro or ri is st is sl la am br ra ai in de ea ad</td>\n",
       "      <td>idi dio iot cla lai aim peo eop opl tri sto top bec eco com ter err rro ror ori ris ist mad ade ter err rro ror ori ris ist isl sla lam bra rai ain dea ead</td>\n",
       "      <td>idio diot clai laim peop eopl stop beco ecom terr erro rror rori oris rist made terr erro rror rori oris rist isla slam brai rain dead</td>\n",
       "      <td>id di io ot cl la ai im pe eo op pl le tr ry st to op be ec co om me te er rr ro or ri is st ma ak ke te er rr ro or ri is st is sl la am mi ic ca al ll ly br ra ai in de ea ad</td>\n",
       "      <td>idi dio iot cla lai aim peo eop opl ple try sto top bec eco com ome ter err rro ror ori ris ist mak ake ter err rro ror ori ris ist isl sla lam ami mic ica cal all lly bra rai ain dea ead</td>\n",
       "      <td>idio diot clai laim peop eopl ople stop beco ecom come terr erro rror rori oris rist make terr erro rror rori oris rist isla slam lami amic mica ical call ally brai rain dead</td>\n",
       "    </tr>\n",
       "    <tr>\n",
       "      <th>2</th>\n",
       "      <td>RT @Mooseoftorment Call me sexist, but when I go to an auto place, I'd rather talk to a guy</td>\n",
       "      <td>sexism</td>\n",
       "      <td>1</td>\n",
       "      <td>call sexist go auto place would rather talk guy</td>\n",
       "      <td>call sexist go auto place would rather talk guy</td>\n",
       "      <td>ca al ll se ex xi is st go au ut to pl la ac ce wo ou ul ld ra at th he er ta al lk gu uy</td>\n",
       "      <td>cal all sex exi xis ist aut uto pla lac ace wou oul uld rat ath the her tal alk guy</td>\n",
       "      <td>call sexi exis xist auto plac lace woul ould rath athe ther talk</td>\n",
       "      <td>ca al ll se ex xi is st go au ut to pl la ac ce wo ou ul ld ra at th he er ta al lk gu uy</td>\n",
       "      <td>cal all sex exi xis ist aut uto pla lac ace wou oul uld rat ath the her tal alk guy</td>\n",
       "      <td>call sexi exis xist auto plac lace woul ould rath athe ther talk</td>\n",
       "    </tr>\n",
       "    <tr>\n",
       "      <th>3</th>\n",
       "      <td>@g0ssipsquirrelx Wrong, ISIS follows the example of Mohammed and the Quran exactly.</td>\n",
       "      <td>racism</td>\n",
       "      <td>1</td>\n",
       "      <td>wrong isi follow exampl moham quran exactli</td>\n",
       "      <td>wrong isi follow example mohammed quran exactly</td>\n",
       "      <td>wr ro on ng is si fo ol ll lo ow ex xa am mp pl mo oh ha am qu ur ra an ex xa ac ct tl li</td>\n",
       "      <td>wro ron ong isi fol oll llo low exa xam amp mpl moh oha ham qur ura ran exa xac act ctl tli</td>\n",
       "      <td>wron rong foll ollo llow exam xamp ampl moha oham qura uran exac xact actl ctli</td>\n",
       "      <td>wr ro on ng is si fo ol ll lo ow ex xa am mp pl le mo oh ha am mm me ed qu ur ra an ex xa ac ct tl ly</td>\n",
       "      <td>wro ron ong isi fol oll llo low exa xam amp mpl ple moh oha ham amm mme med qur ura ran exa xac act ctl tly</td>\n",
       "      <td>wron rong foll ollo llow exam xamp ampl mple moha oham hamm amme mmed qura uran exac xact actl ctly</td>\n",
       "    </tr>\n",
       "    <tr>\n",
       "      <th>4</th>\n",
       "      <td>RT @TRobinsonNewEra: http://t.co/nkkCbpcHEo Saudi preacher who 'raped and tortured' his five -year-old daughter to death is released after …</td>\n",
       "      <td>none</td>\n",
       "      <td>0</td>\n",
       "      <td>saudi preacher rape tortur hi five yearold daughter death releas …</td>\n",
       "      <td>saudi preacher rap torture five yearold daughter death release …</td>\n",
       "      <td>sa au ud di pr re ea ac ch he er ra ap pe to or rt tu ur hi fi iv ve ye ea ar ro ol ld da au ug gh ht te er de ea at th re el le ea as</td>\n",
       "      <td>sau aud udi pre rea eac ach che her rap ape tor ort rtu tur fiv ive yea ear aro rol old dau aug ugh ght hte ter dea eat ath rel ele lea eas</td>\n",
       "      <td>saud audi prea reac each ache cher rape tort ortu rtur five year earo arol rold daug augh ught ghte hter deat eath rele elea leas</td>\n",
       "      <td>sa au ud di pr re ea ac ch he er ra ap to or rt tu ur re fi iv ve ye ea ar ro ol ld da au ug gh ht te er de ea at th re el le ea as se</td>\n",
       "      <td>sau aud udi pre rea eac ach che her rap tor ort rtu tur ure fiv ive yea ear aro rol old dau aug ugh ght hte ter dea eat ath rel ele lea eas ase</td>\n",
       "      <td>saud audi prea reac each ache cher tort ortu rtur ture five year earo arol rold daug augh ught ghte hter deat eath rele elea leas ease</td>\n",
       "    </tr>\n",
       "  </tbody>\n",
       "</table>\n",
       "</div>"
      ],
      "text/plain": [
       "                                                                                                                                           Text  \\\n",
       "0  @halalflaws @biebervalue @greenlinerzjm I read them in context.No change in meaning. The history of Islamic slavery. https://t.co/xWJzpSodGj   \n",
       "1  @ShreyaBafna3 Now you idiots claim that people who tried to stop him from becoming a terrorist made him a terrorist. Islamically brain dead.   \n",
       "2                                                   RT @Mooseoftorment Call me sexist, but when I go to an auto place, I'd rather talk to a guy   \n",
       "3                                                           @g0ssipsquirrelx Wrong, ISIS follows the example of Mohammed and the Quran exactly.   \n",
       "4  RT @TRobinsonNewEra: http://t.co/nkkCbpcHEo Saudi preacher who 'raped and tortured' his five -year-old daughter to death is released after …   \n",
       "\n",
       "  Annotation  oh_label  \\\n",
       "0       none         0   \n",
       "1       none         0   \n",
       "2     sexism         1   \n",
       "3     racism         1   \n",
       "4       none         0   \n",
       "\n",
       "                                                                    Text_stem  \\\n",
       "0                             read contextno chang mean histori islam slaveri   \n",
       "1  idiot claim peopl tri stop becom terrorist made terrorist islam brain dead   \n",
       "2                             call sexist go auto place would rather talk guy   \n",
       "3                                 wrong isi follow exampl moham quran exactli   \n",
       "4          saudi preacher rape tortur hi five yearold daughter death releas …   \n",
       "\n",
       "                                                                            Text_lemm  \\\n",
       "0                               read contextno change meaning history islamic slavery   \n",
       "1  idiot claim people try stop become terrorist make terrorist islamically brain dead   \n",
       "2                                     call sexist go auto place would rather talk guy   \n",
       "3                                     wrong isi follow example mohammed quran exactly   \n",
       "4                    saudi preacher rap torture five yearold daughter death release …   \n",
       "\n",
       "                                                                                                                                      Text_stem_char_2_gram  \\\n",
       "0                                                     re ea ad co on nt te ex xt tn no ch ha an ng me ea an hi is st to or ri is sl la am sl la av ve er ri   \n",
       "1  id di io ot cl la ai im pe eo op pl tr ri st to op be ec co om te er rr ro or ri is st ma ad de te er rr ro or ri is st is sl la am br ra ai in de ea ad   \n",
       "2                                                                 ca al ll se ex xi is st go au ut to pl la ac ce wo ou ul ld ra at th he er ta al lk gu uy   \n",
       "3                                                                 wr ro on ng is si fo ol ll lo ow ex xa am mp pl mo oh ha am qu ur ra an ex xa ac ct tl li   \n",
       "4                    sa au ud di pr re ea ac ch he er ra ap pe to or rt tu ur hi fi iv ve ye ea ar ro ol ld da au ug gh ht te er de ea at th re el le ea as   \n",
       "\n",
       "                                                                                                                                         Text_stem_char_3_gram  \\\n",
       "0                                                  rea ead con ont nte tex ext xtn tno cha han ang mea ean his ist sto tor ori isl sla lam sla lav ave ver eri   \n",
       "1  idi dio iot cla lai aim peo eop opl tri sto top bec eco com ter err rro ror ori ris ist mad ade ter err rro ror ori ris ist isl sla lam bra rai ain dea ead   \n",
       "2                                                                          cal all sex exi xis ist aut uto pla lac ace wou oul uld rat ath the her tal alk guy   \n",
       "3                                                                  wro ron ong isi fol oll llo low exa xam amp mpl moh oha ham qur ura ran exa xac act ctl tli   \n",
       "4                  sau aud udi pre rea eac ach che her rap ape tor ort rtu tur fiv ive yea ear aro rol old dau aug ugh ght hte ter dea eat ath rel ele lea eas   \n",
       "\n",
       "                                                                                                                    Text_stem_char_4_gram  \\\n",
       "0                                     read cont onte ntex text extn xtno chan hang mean hist isto stor tori isla slam slav lave aver veri   \n",
       "1  idio diot clai laim peop eopl stop beco ecom terr erro rror rori oris rist made terr erro rror rori oris rist isla slam brai rain dead   \n",
       "2                                                                        call sexi exis xist auto plac lace woul ould rath athe ther talk   \n",
       "3                                                         wron rong foll ollo llow exam xamp ampl moha oham qura uran exac xact actl ctli   \n",
       "4       saud audi prea reac each ache cher rape tort ortu rtur five year earo arol rold daug augh ught ghte hter deat eath rele elea leas   \n",
       "\n",
       "                                                                                                                                                              Text_lemm_char_2_gram  \\\n",
       "0                                                           re ea ad co on nt te ex xt tn no ch ha an ng ge me ea an ni in ng hi is st to or ry is sl la am mi ic sl la av ve er ry   \n",
       "1  id di io ot cl la ai im pe eo op pl le tr ry st to op be ec co om me te er rr ro or ri is st ma ak ke te er rr ro or ri is st is sl la am mi ic ca al ll ly br ra ai in de ea ad   \n",
       "2                                                                                         ca al ll se ex xi is st go au ut to pl la ac ce wo ou ul ld ra at th he er ta al lk gu uy   \n",
       "3                                                                             wr ro on ng is si fo ol ll lo ow ex xa am mp pl le mo oh ha am mm me ed qu ur ra an ex xa ac ct tl ly   \n",
       "4                                            sa au ud di pr re ea ac ch he er ra ap to or rt tu ur re fi iv ve ye ea ar ro ol ld da au ug gh ht te er de ea at th re el le ea as se   \n",
       "\n",
       "                                                                                                                                                                         Text_lemm_char_3_gram  \\\n",
       "0                                                          rea ead con ont nte tex ext xtn tno cha han ang nge mea ean ani nin ing his ist sto tor ory isl sla lam ami mic sla lav ave ver ery   \n",
       "1  idi dio iot cla lai aim peo eop opl ple try sto top bec eco com ome ter err rro ror ori ris ist mak ake ter err rro ror ori ris ist isl sla lam ami mic ica cal all lly bra rai ain dea ead   \n",
       "2                                                                                                          cal all sex exi xis ist aut uto pla lac ace wou oul uld rat ath the her tal alk guy   \n",
       "3                                                                                  wro ron ong isi fol oll llo low exa xam amp mpl ple moh oha ham amm mme med qur ura ran exa xac act ctl tly   \n",
       "4                                              sau aud udi pre rea eac ach che her rap tor ort rtu tur ure fiv ive yea ear aro rol old dau aug ugh ght hte ter dea eat ath rel ele lea eas ase   \n",
       "\n",
       "                                                                                                                                                            Text_lemm_char_4_gram  \n",
       "0                                               read cont onte ntex text extn xtno chan hang ange mean eani anin ning hist isto stor tory isla slam lami amic slav lave aver very  \n",
       "1  idio diot clai laim peop eopl ople stop beco ecom come terr erro rror rori oris rist make terr erro rror rori oris rist isla slam lami amic mica ical call ally brai rain dead  \n",
       "2                                                                                                                call sexi exis xist auto plac lace woul ould rath athe ther talk  \n",
       "3                                                                             wron rong foll ollo llow exam xamp ampl mple moha oham hamm amme mmed qura uran exac xact actl ctly  \n",
       "4                                          saud audi prea reac each ache cher tort ortu rtur ture five year earo arol rold daug augh ught ghte hter deat eath rele elea leas ease  "
      ]
     },
     "execution_count": 6,
     "metadata": {},
     "output_type": "execute_result"
    }
   ],
   "source": [
    "twitter_final3.head()"
   ]
  },
  {
   "cell_type": "code",
   "execution_count": 7,
   "id": "dccd7a7f",
   "metadata": {},
   "outputs": [
    {
     "data": {
      "text/plain": [
       "none      0.674274\n",
       "sexism    0.204859\n",
       "racism    0.120866\n",
       "Name: Annotation, dtype: float64"
      ]
     },
     "execution_count": 7,
     "metadata": {},
     "output_type": "execute_result"
    }
   ],
   "source": [
    "twitter_final3.Annotation.value_counts(normalize = True)"
   ]
  },
  {
   "cell_type": "markdown",
   "id": "dc7c0dc5",
   "metadata": {},
   "source": [
    "The dataset is imbalanced."
   ]
  },
  {
   "cell_type": "markdown",
   "id": "2168eb73",
   "metadata": {},
   "source": [
    "# Encoding Annotation"
   ]
  },
  {
   "cell_type": "code",
   "execution_count": 8,
   "id": "9a03b441",
   "metadata": {},
   "outputs": [],
   "source": [
    "twitter_final3['Annotation'] = twitter_final3['Annotation'].replace({'none': 0,'sexism': 1,'racism': 2})"
   ]
  },
  {
   "cell_type": "markdown",
   "id": "631082f8",
   "metadata": {},
   "source": [
    "# Train/Test Split"
   ]
  },
  {
   "cell_type": "markdown",
   "id": "0bd8015a",
   "metadata": {},
   "source": [
    "Since the dataset (twitter_final3) contains columns of stemmed and lemmatized words, as well as character 2-, 3-, and 4-grams based on stemmed and lemmatized words, there is a need to create different separate datasets that will then be split using the train_test_split function.\n",
    "\n",
    "Each of the separate datasets have the 'Y' (Annotation) column, and the 'X' values of each datasets are:\n",
    "1. Stemmed Text\n",
    "2. Lemmatized Text\n",
    "3. Character 2-gram based on stemmed text\n",
    "4. Character 3-gram based on stemmed text\n",
    "5. Character 4-gram based on stemmed text\n",
    "6. Character 2-gram based on lemmatized text\n",
    "7. Character 3-gram based on lemmatized text\n",
    "8. Character 4-gram based on lemmatized text\n",
    "\n",
    "There is no need to separate datasets 1 and 2 into the separate word n-grams as the Pipeline used later on will produce the word n-gram that will return the best result. And the result of that model will be compared to those of the character n-gram models."
   ]
  },
  {
   "cell_type": "code",
   "execution_count": 9,
   "id": "26508522",
   "metadata": {
    "scrolled": true
   },
   "outputs": [],
   "source": [
    "# Creating different datasets, naming convention follows the list above\n",
    "df1 = twitter_final3[['Annotation','Text_stem']]\n",
    "df2 = twitter_final3[['Annotation','Text_lemm']]\n",
    "df3 = twitter_final3[['Annotation','Text_stem_char_2_gram']]\n",
    "df4 = twitter_final3[['Annotation','Text_stem_char_3_gram']]\n",
    "df5 = twitter_final3[['Annotation','Text_stem_char_4_gram']]\n",
    "df6 = twitter_final3[['Annotation','Text_lemm_char_2_gram']]\n",
    "df7 = twitter_final3[['Annotation','Text_lemm_char_3_gram']]\n",
    "df8 = twitter_final3[['Annotation','Text_lemm_char_4_gram']]"
   ]
  },
  {
   "cell_type": "code",
   "execution_count": 10,
   "id": "053c1ae9",
   "metadata": {},
   "outputs": [],
   "source": [
    "# Splitting the creating the X and Y columns for each dataset\n",
    "X1, y1 = df1['Text_stem'], df1['Annotation']\n",
    "X2, y2 = df2['Text_lemm'], df2['Annotation']\n",
    "X3, y3 = df3['Text_stem_char_2_gram'], df3['Annotation']\n",
    "X4, y4 = df4['Text_stem_char_3_gram'], df4['Annotation']\n",
    "X5, y5 = df5['Text_stem_char_4_gram'], df5['Annotation']\n",
    "X6, y6 = df6['Text_lemm_char_2_gram'], df6['Annotation']\n",
    "X7, y7 = df7['Text_lemm_char_3_gram'], df7['Annotation']\n",
    "X8, y8 = df8['Text_lemm_char_4_gram'], df8['Annotation']"
   ]
  },
  {
   "cell_type": "code",
   "execution_count": 11,
   "id": "f5259cee",
   "metadata": {},
   "outputs": [],
   "source": [
    "# Conducting train/test split\n",
    "X1_train, X1_val, y1_train, y1_val = train_test_split(X1, y1, stratify = y1, random_state = seed_value)\n",
    "X2_train, X2_val, y2_train, y2_val = train_test_split(X2, y2, stratify = y2, random_state = seed_value)\n",
    "X3_train, X3_val, y3_train, y3_val = train_test_split(X3, y3, stratify = y3, random_state = seed_value)\n",
    "X4_train, X4_val, y4_train, y4_val = train_test_split(X4, y4, stratify = y4, random_state = seed_value)\n",
    "X5_train, X5_val, y5_train, y5_val = train_test_split(X5, y5, stratify = y5, random_state = seed_value)\n",
    "X6_train, X6_val, y6_train, y6_val = train_test_split(X6, y6, stratify = y6, random_state = seed_value)\n",
    "X7_train, X7_val, y7_train, y7_val = train_test_split(X7, y7, stratify = y7, random_state = seed_value)\n",
    "X8_train, X8_val, y8_train, y8_val = train_test_split(X8, y8, stratify = y8, random_state = seed_value)"
   ]
  },
  {
   "cell_type": "markdown",
   "id": "7c51fb9b",
   "metadata": {},
   "source": [
    "# Baseline Model - Multiclass Logistic Regression"
   ]
  },
  {
   "cell_type": "markdown",
   "id": "ba924766",
   "metadata": {},
   "source": [
    "### Logistic Regression Hyperparameter Tuning"
   ]
  },
  {
   "cell_type": "markdown",
   "id": "cfa79cf1",
   "metadata": {},
   "source": [
    "### For Stemmed and Lemmatized texts"
   ]
  },
  {
   "cell_type": "code",
   "execution_count": 13,
   "id": "9bf9c3b5",
   "metadata": {},
   "outputs": [],
   "source": [
    "# Set up a pipeline:\n",
    "# 1. Instantiating CountVectorizer\n",
    "# 2. SMOTE sampling - due to imbalance of classes\n",
    "# 3. Multinomial Naive Bayes\n",
    "\n",
    "pipe_cvec_multinomial = Pipeline([\n",
    "        ('cvec', CountVectorizer()),\n",
    "        ('sampling', SMOTE()),\n",
    "        ('nb', MultinomialNB())\n",
    "    ])"
   ]
  },
  {
   "cell_type": "code",
   "execution_count": 14,
   "id": "474f2cab",
   "metadata": {},
   "outputs": [],
   "source": [
    "# Set up hyperparameters tuning                    \n",
    "pipe_cvec_multinomial_words_params = {\n",
    "    'cvec__max_features': range(2_000, 6_000, 1_000),       \n",
    "    'cvec__min_df': range(2, 6),                           \n",
    "    'cvec__max_df': [0.9, 0.95],                           \n",
    "    'cvec__ngram_range': [(1,1), (2,2), (3, 3)]             \n",
    "}"
   ]
  },
  {
   "cell_type": "markdown",
   "id": "36319ca5",
   "metadata": {},
   "source": [
    "### GridSearch CV"
   ]
  },
  {
   "cell_type": "code",
   "execution_count": 14,
   "id": "9da0c165",
   "metadata": {},
   "outputs": [],
   "source": [
    "# Instantiate GridSearchCV.\n",
    "\n",
    "gs_cvec_multinomial_word = GridSearchCV(pipe_cvec_multinomial, \n",
    "                  param_grid = pipe_cvec_multinomial_words_params, # Parameters values we are searching over\n",
    "                  cv=5, # 5-fold cross-validation\n",
    "                 n_jobs = -1) "
   ]
  },
  {
   "cell_type": "markdown",
   "id": "97e7e07b",
   "metadata": {},
   "source": [
    "### Creating Function to run and save results"
   ]
  },
  {
   "cell_type": "code",
   "execution_count": 19,
   "id": "efcc7494",
   "metadata": {},
   "outputs": [],
   "source": [
    "def results_of_fitting_word(X_train, y_train, X_test, y_test):\n",
    "    metrics = {}\n",
    "    \n",
    "    for i in range(2):\n",
    "        model = gs_cvec_multinomial_word.fit(X_train[i], y_train[i])\n",
    "        predictions = model.predict(X_test[i])\n",
    "        model_f1_score = f1_score(y_test[i], predictions, average= 'weighted')\n",
    "        metrics[f'F1 Score NB {i+1}'] = model_f1_score\n",
    "    return metrics"
   ]
  },
  {
   "cell_type": "code",
   "execution_count": 20,
   "id": "843c3443",
   "metadata": {},
   "outputs": [],
   "source": [
    "word_gram_results = results_of_fitting_word([X1_train, X2_train],[y1_train, y2_train],[X1_val, X2_val],[y1_val, y2_val])"
   ]
  },
  {
   "cell_type": "code",
   "execution_count": 21,
   "id": "6946b4fd",
   "metadata": {},
   "outputs": [
    {
     "data": {
      "text/plain": [
       "{'F1 Score NB 1': 0.7698045961569268, 'F1 Score NB 2': 0.7691639286384142}"
      ]
     },
     "execution_count": 21,
     "metadata": {},
     "output_type": "execute_result"
    }
   ],
   "source": [
    "word_gram_results"
   ]
  },
  {
   "cell_type": "markdown",
   "id": "b77de7e3",
   "metadata": {},
   "source": [
    "The best model fitted onto word n-gram data has the F1 score of 0.7698"
   ]
  },
  {
   "cell_type": "markdown",
   "id": "589f57cc",
   "metadata": {},
   "source": [
    "### For Character n-grams"
   ]
  },
  {
   "cell_type": "code",
   "execution_count": 15,
   "id": "a6ad0c56",
   "metadata": {},
   "outputs": [],
   "source": [
    "# Set up hyperparameters tuning                    \n",
    "pipe_cvec_multinomial_char_params = {\n",
    "    'cvec__max_features': range(2_000, 6_000, 1_000),       \n",
    "    'cvec__min_df': range(2, 6),                           \n",
    "    'cvec__max_df': [0.9, 0.95],                           \n",
    "    'cvec__ngram_range': [(1,1)]                           \n",
    "}"
   ]
  },
  {
   "cell_type": "markdown",
   "id": "5bd901a2",
   "metadata": {},
   "source": [
    "### GridSearch CV"
   ]
  },
  {
   "cell_type": "code",
   "execution_count": 16,
   "id": "47669cd3",
   "metadata": {},
   "outputs": [],
   "source": [
    "# Instantiate GridSearchCV.\n",
    "\n",
    "gs_cvec_multinomial_char = GridSearchCV(pipe_cvec_multinomial, \n",
    "                  param_grid = pipe_cvec_multinomial_char_params, # Parameters values we are searching over\n",
    "                  cv=5, # 5-fold cross-validation\n",
    "                 n_jobs = -1) "
   ]
  },
  {
   "cell_type": "markdown",
   "id": "aa57f8d3",
   "metadata": {},
   "source": [
    "### Creating Function to run and save results"
   ]
  },
  {
   "cell_type": "code",
   "execution_count": 30,
   "id": "530d3d4a",
   "metadata": {},
   "outputs": [],
   "source": [
    "def results_of_fitting_char(X_train, y_train, X_test, y_test):\n",
    "    metrics = {}\n",
    "    \n",
    "    for i in range(6):\n",
    "        model = gs_cvec_multinomial_char.fit(X_train[i], y_train[i])\n",
    "        predictions = model.predict(X_test[i])\n",
    "        model_f1_score = f1_score(y_test[i], predictions, average = 'weighted')\n",
    "        metrics[f'F1 Score NB {i+3}'] = model_f1_score\n",
    "    return metrics"
   ]
  },
  {
   "cell_type": "code",
   "execution_count": 31,
   "id": "29748948",
   "metadata": {},
   "outputs": [],
   "source": [
    "character_gram_results =results_of_fitting_char(\n",
    "                        [X3_train, X4_train, X5_train, X6_train, X7_train, X8_train],\n",
    "                        [y3_train, y4_train, y5_train, y6_train, y7_train, y8_train],\n",
    "                        [X3_val, X4_val, X5_val, X6_val, X7_val, X8_val],\n",
    "                        [y3_val, y4_val, y5_val, y6_val, y7_val, y8_val])"
   ]
  },
  {
   "cell_type": "code",
   "execution_count": 32,
   "id": "2424df25",
   "metadata": {},
   "outputs": [
    {
     "data": {
      "text/plain": [
       "{'F1 Score NB 3': 0.743900751575385,\n",
       " 'F1 Score NB 4': 0.777522331248203,\n",
       " 'F1 Score NB 5': 0.7799846508600293,\n",
       " 'F1 Score NB 6': 0.7405176071269206,\n",
       " 'F1 Score NB 7': 0.7757728570721354,\n",
       " 'F1 Score NB 8': 0.7811407100197731}"
      ]
     },
     "execution_count": 32,
     "metadata": {},
     "output_type": "execute_result"
    }
   ],
   "source": [
    "character_gram_results"
   ]
  },
  {
   "cell_type": "code",
   "execution_count": 33,
   "id": "04b4848a",
   "metadata": {},
   "outputs": [
    {
     "data": {
      "text/html": [
       "<div>\n",
       "<style scoped>\n",
       "    .dataframe tbody tr th:only-of-type {\n",
       "        vertical-align: middle;\n",
       "    }\n",
       "\n",
       "    .dataframe tbody tr th {\n",
       "        vertical-align: top;\n",
       "    }\n",
       "\n",
       "    .dataframe thead th {\n",
       "        text-align: right;\n",
       "    }\n",
       "</style>\n",
       "<table border=\"1\" class=\"dataframe\">\n",
       "  <thead>\n",
       "    <tr style=\"text-align: right;\">\n",
       "      <th></th>\n",
       "      <th>Model</th>\n",
       "      <th>F1 Score</th>\n",
       "    </tr>\n",
       "  </thead>\n",
       "  <tbody>\n",
       "    <tr>\n",
       "      <th>0</th>\n",
       "      <td>F1 Score NB 1</td>\n",
       "      <td>0.769805</td>\n",
       "    </tr>\n",
       "    <tr>\n",
       "      <th>1</th>\n",
       "      <td>F1 Score NB 2</td>\n",
       "      <td>0.769164</td>\n",
       "    </tr>\n",
       "    <tr>\n",
       "      <th>2</th>\n",
       "      <td>F1 Score NB 3</td>\n",
       "      <td>0.743901</td>\n",
       "    </tr>\n",
       "    <tr>\n",
       "      <th>3</th>\n",
       "      <td>F1 Score NB 4</td>\n",
       "      <td>0.777522</td>\n",
       "    </tr>\n",
       "    <tr>\n",
       "      <th>4</th>\n",
       "      <td>F1 Score NB 5</td>\n",
       "      <td>0.779985</td>\n",
       "    </tr>\n",
       "    <tr>\n",
       "      <th>5</th>\n",
       "      <td>F1 Score NB 6</td>\n",
       "      <td>0.740518</td>\n",
       "    </tr>\n",
       "    <tr>\n",
       "      <th>6</th>\n",
       "      <td>F1 Score NB 7</td>\n",
       "      <td>0.775773</td>\n",
       "    </tr>\n",
       "    <tr>\n",
       "      <th>7</th>\n",
       "      <td>F1 Score NB 8</td>\n",
       "      <td>0.781141</td>\n",
       "    </tr>\n",
       "  </tbody>\n",
       "</table>\n",
       "</div>"
      ],
      "text/plain": [
       "           Model  F1 Score\n",
       "0  F1 Score NB 1  0.769805\n",
       "1  F1 Score NB 2  0.769164\n",
       "2  F1 Score NB 3  0.743901\n",
       "3  F1 Score NB 4  0.777522\n",
       "4  F1 Score NB 5  0.779985\n",
       "5  F1 Score NB 6  0.740518\n",
       "6  F1 Score NB 7  0.775773\n",
       "7  F1 Score NB 8  0.781141"
      ]
     },
     "execution_count": 33,
     "metadata": {},
     "output_type": "execute_result"
    }
   ],
   "source": [
    "# Combining dictionaries and convert to dataframe\n",
    "NB_results = word_gram_results.copy()\n",
    "NB_results.update(character_gram_results)\n",
    "NB_results = pd.DataFrame(list(NB_results.items()), columns = ['Model','F1 Score'])\n",
    "NB_results"
   ]
  },
  {
   "cell_type": "code",
   "execution_count": 34,
   "id": "cc8cfb80",
   "metadata": {
    "scrolled": false
   },
   "outputs": [
    {
     "data": {
      "image/png": "[encoded data removed]",
      "text/plain": [
       "<Figure size 432x288 with 1 Axes>"
      ]
     },
     "metadata": {
      "needs_background": "light"
     },
     "output_type": "display_data"
    }
   ],
   "source": [
    "# Plotting F1 scores\n",
    "fig, ax = plt.subplots()\n",
    "sns.barplot(x = \"F1 Score\", y= \"Model\", data= NB_results).set(title = 'F1 Score of Multinomial Naive Bayes Models')\n",
    "ax.set_xlim(min(NB_results['F1 Score']) - 0.005, max(NB_results['F1 Score']) + 0.005)\n",
    "ax.bar_label(ax.containers[0]);"
   ]
  },
  {
   "cell_type": "markdown",
   "id": "05cb8399",
   "metadata": {},
   "source": [
    "As seen from the results of the word and character n-grams, it is observed that **character 4-gram based on lemmatized text** has the F1 score of 0.7811.\n",
    "\n",
    "Thus, for the subsequent models, it will be based on that column."
   ]
  },
  {
   "cell_type": "markdown",
   "id": "ec21ac62",
   "metadata": {},
   "source": [
    "# Training the Multinomial NB model on Character 4-gram based on Lemmatized Text"
   ]
  },
  {
   "cell_type": "code",
   "execution_count": 17,
   "id": "8731d97f",
   "metadata": {},
   "outputs": [],
   "source": [
    "multi_nb = gs_cvec_multinomial_char.fit(X8_train, y8_train)"
   ]
  },
  {
   "cell_type": "markdown",
   "id": "d801aa44",
   "metadata": {},
   "source": [
    "# Saving Multinomial NB Model"
   ]
  },
  {
   "cell_type": "code",
   "execution_count": 20,
   "id": "b10d0f0a",
   "metadata": {},
   "outputs": [],
   "source": [
    "# Saving\n",
    "pickle.dump(multi_nb, open(\"../Capstone/multi_nb.pkl\", \"wb\"))"
   ]
  },
  {
   "cell_type": "code",
   "execution_count": 12,
   "id": "628d78f7",
   "metadata": {},
   "outputs": [],
   "source": [
    "# Loading\n",
    "multi_nb_model = pickle.load(open(\"../Capstone/multi_nb.pkl\", \"rb\"))"
   ]
  },
  {
   "cell_type": "code",
   "execution_count": 13,
   "id": "5b59c0c5",
   "metadata": {},
   "outputs": [],
   "source": [
    "# Predicting tags on train set\n",
    "multi_nb_model_pred = multi_nb_model.predict(X8_train)"
   ]
  },
  {
   "cell_type": "code",
   "execution_count": 14,
   "id": "fad4b98d",
   "metadata": {},
   "outputs": [],
   "source": [
    "# Calculating f1-score on train set\n",
    "multi_nb_train_f1 = f1_score(y8_train,multi_nb_model_pred, average = 'weighted')"
   ]
  },
  {
   "cell_type": "code",
   "execution_count": 15,
   "id": "f6cd8075",
   "metadata": {},
   "outputs": [
    {
     "data": {
      "text/plain": [
       "0.8073134404462712"
      ]
     },
     "execution_count": 15,
     "metadata": {},
     "output_type": "execute_result"
    }
   ],
   "source": [
    "multi_nb_train_f1"
   ]
  },
  {
   "cell_type": "markdown",
   "id": "3a9eb475",
   "metadata": {},
   "source": [
    "There is a small difference betweeen the f1 score on the train set (0.807) and the validation set (0.781), it can be observed that the Multinomial Naive Bayes model do not have significant overfitting on the train set and can generalize to the validation set."
   ]
  },
  {
   "cell_type": "markdown",
   "id": "35deaf74",
   "metadata": {},
   "source": [
    "# Exporting Dataset\n",
    "\n",
    "This dataset will only contain the Annotation (mapped to integers), and the column of character 4-gram based on lemmatized text ('Text_lemm_char_4_gram')."
   ]
  },
  {
   "cell_type": "code",
   "execution_count": 35,
   "id": "01132367",
   "metadata": {},
   "outputs": [],
   "source": [
    "twitter_final4 = twitter_final3[['Annotation','Text_lemm_char_4_gram']]"
   ]
  },
  {
   "cell_type": "code",
   "execution_count": 36,
   "id": "dd55b4ac",
   "metadata": {},
   "outputs": [],
   "source": [
    "twitter_final4.to_csv('../Capstone/data/twitter_char_4_gram_lemm_text.csv', index = False)"
   ]
  }
 ],
 "metadata": {
  "kernelspec": {
   "display_name": "Python 3 (ipykernel)",
   "language": "python",
   "name": "python3"
  },
  "language_info": {
   "codemirror_mode": {
    "name": "ipython",
    "version": 3
   },
   "file_extension": ".py",
   "mimetype": "text/x-python",
   "name": "python",
   "nbconvert_exporter": "python",
   "pygments_lexer": "ipython3",
   "version": "3.8.13"
  }
 },
 "nbformat": 4,
 "nbformat_minor": 5
}
