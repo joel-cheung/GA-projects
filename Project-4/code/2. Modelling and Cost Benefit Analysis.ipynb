{
 "cells": [
  {
   "cell_type": "markdown",
   "metadata": {
    "id": "cVn5BSiSRjBC"
   },
   "source": [
    "<img src=\"http://imgur.com/1ZcRyrc.png\" style=\"float: left; margin: 20px; height: 55px\">\n",
    "\n",
    "# Project 4: West Nile Virus Prediction Project"
   ]
  },
  {
   "cell_type": "markdown",
   "metadata": {},
   "source": [
    "# Information"
   ]
  },
  {
   "cell_type": "markdown",
   "metadata": {},
   "source": [
    "This project is based on this kaggle challenge, with the datasets provided on there as well: https://www.kaggle.com/c/predict-west-nile-virus/\n",
    "\n",
    "This is the second notebook for this project.\n",
    "\n",
    "In this notebook, the steps conducted are:\n",
    "   1. Modelling\n",
    "   2. Cost Benefit Analysis"
   ]
  },
  {
   "cell_type": "markdown",
   "metadata": {},
   "source": [
    "# Background"
   ]
  },
  {
   "cell_type": "markdown",
   "metadata": {},
   "source": [
    "The West Nile Virus (WNV) first appeared in the Americas in 1999, and has since become the **leading** mosquito-borne disease in the country ([source](https://www.nejm.org/doi/full/10.1056/NEJM200106143442401)). It is a virus transmitted to humans by mosquitoes that feed on infected birds. Around 20% of people who become infected with the virus develop symptoms ranging from fever, and headaches, to serious neurological illnesses that can result in death. The first WNV case was identified in Illinois in September 2001 when laboratory tests confirmed its presence in two crows found dead in the Chicago area. By the end of 2002, Illinois accounted for more human cases and deaths than any other state ([source](https://dph.illinois.gov/topics-services/diseases-and-conditions/west-nile-virus)). Since there is no vaccine or medication to prevent or treat WNV in people, the most effective way to prevent this virus is to reduce the number of mosquitoes and to take precautions to avoid mosquito bites ([source](https://www.cdc.gov/westnile/index.html#:~:text=There%20are%20no%20vaccines%20to,a%20fever%20and%20other%20symptoms.)). \n",
    "\n",
    "Following the outbreak of WNV in Chicago, the City of Chicago and Chicago Department of Public Health (CDPH) put in place a comprehensive surveillance and control program to trap and test mosquitos for WNV. This program is still in place today."
   ]
  },
  {
   "cell_type": "markdown",
   "metadata": {},
   "source": [
    "# Problem Statement"
   ]
  },
  {
   "cell_type": "markdown",
   "metadata": {},
   "source": [
    "In light of the potential outbreak of West Nile Virus (WNV) in Chicago, the CDPH has asked its data scientist team to develop a predictive model based on past data on weather conditions and virus detection locations.\n",
    "\n",
    "Given the use of public funds to finance the spraying of pesticide in order to  reduce the number of WNV cases, coupled with the potentially high cost of spraying pesticide over large areas, it is imperative for this project to bring focus to where and when pesticides should be sprayed that would effectively combat the WNV problem.\n",
    "\n",
    "A model that accurately predicts the outbreak of the virus using information about the locations of mosquito traps and weather information ensures that the targeted spraying will be informed and well-justified."
   ]
  },
  {
   "cell_type": "markdown",
   "metadata": {
    "id": "7Ub7qUaxRjBI"
   },
   "source": [
    "## Recap of Notebook 1"
   ]
  },
  {
   "cell_type": "markdown",
   "metadata": {
    "id": "kvbxXMKcRjBJ"
   },
   "source": [
    "To recap, the goal of this project is to develop a predictive model based on past data on weather conditions and virus detection locations. Given the use of public funds to finance the spraying of pesticide in order to reduce the number of WNV cases, coupled with the pontentially high cost of spraying pesticide over large areas, it is imperative for this project to bring focus to where and when pesticides should be sprayed that would effectively combat the WNV problem.\n",
    "\n",
    "The below features are identified for modeling consideration:\n",
    "\n",
    "|Feature                        | Description |\n",
    "|:------------------------------|:---------------------|\n",
    "|Latitude                       |Latitude|\n",
    "|Longitude                      |Longitude|\n",
    "|Week                           |Week of the Year|\n",
    "|Tavg                           |Average Temperature|\n",
    "|DewPoint                       |Average Dew Point Temperature|\n",
    "|WetBulb                        |Average Wet Bulb Temperature|\n",
    "|PrecipTotal                    |Precipitation|\n",
    "|StnPressure                    |Average Station Pressure|\n",
    "|SeaLevel                       |Average Sea Level Pressure|\n",
    "|ResultSpeed                    |Resultant Wind Speed|\n",
    "|ResultDir                      |Resultant Direction|\n",
    "|AvgSpeed                       |Average Wind Speed|\n",
    "|CsTSRA                         |Significant Weather Type Thunderstorm and Rain|\n",
    "|CsRA                           |Significant Weather Type Rain|\n",
    "|CsTS                           |Significant Weather Type Thunderstorm|\n",
    "|CsBR                           |Significant Weather Type Mist|\n",
    "|RelativeHumidity               |Relative Humidity|\n",
    "|NightTime                      |Hours in the nighttime|\n",
    "|DayTime                        |Hours in the daytime|\n",
    "|Tavg_7daysbf                   |Average Temperature 7 days lag|\n",
    "|DewPoint_7daysbf               |Dew Point 7 days lag|\n",
    "|PrecipTotal_7daysbf            |Precipitation 7 days lag|\n",
    "|Species_CULEX PIPIENS          |Mosquito species Culex Pipiens|\n",
    "|Species_CULEX PIPIENS/RESTUANS |Mosquito species Culex Pipiens / Restuans|\n",
    "|Species_CULEX RESTUANS         |Mosquito species Culex Restuans|\n",
    "|WnvRisk_low                    |Between 0 to 2 WNV cases|\n",
    "|WnvRisk_medium                 |Between 3 to 5 WNV cases|\n",
    "|WnvRisk_high                   |More than 5 WNV cases|\n",
    "\n",
    "\n",
    "\n",
    "In this Notebook, we will cover:\n",
    "- Modeling using Logistic Regression, Random Forest, AdaBoost, Gradient Boost, XgBoost, KNN and Support Vector Machine. To handle the imbalanced dataset, we will adopt SMOTE method.\n",
    "- Identify the feature importance.\n",
    "- Provide the cost analysis benefits, conclusions, recommendations, limitations and future plans."
   ]
  },
  {
   "cell_type": "markdown",
   "metadata": {
    "id": "mLjwklKuRjBL"
   },
   "source": [
    "## Import Libraries and Datasets"
   ]
  },
  {
   "cell_type": "code",
   "execution_count": 1,
   "metadata": {
    "ExecuteTime": {
     "end_time": "2022-06-10T00:36:57.736434Z",
     "start_time": "2022-06-10T00:36:55.967137Z"
    },
    "id": "cB70yCp0WxaJ",
    "scrolled": true
   },
   "outputs": [
    {
     "name": "stderr",
     "output_type": "stream",
     "text": [
      "C:\\Users\\Joel\\AppData\\Local\\Temp\\ipykernel_15848\\3220175555.py:3: FutureWarning: pandas.Int64Index is deprecated and will be removed from pandas in a future version. Use pandas.Index with the appropriate dtype instead.\n",
      "  from pandas import MultiIndex, Int64Index\n"
     ]
    }
   ],
   "source": [
    "import numpy as np\n",
    "import pandas as pd\n",
    "from pandas import MultiIndex, Int64Index\n",
    "import scipy\n",
    "\n",
    "# For plotting\n",
    "import seaborn as sns\n",
    "import matplotlib.pyplot as plt\n",
    "import seaborn as sns\n",
    "sns.set()\n",
    "sns.set_theme(style = 'whitegrid') # set theme to be whitegrid\n",
    "\n",
    "import datetime\n",
    "from datetime import datetime\n",
    "\n",
    "# For modeling\n",
    "from imblearn.over_sampling import SMOTE\n",
    "from sklearn.preprocessing import PolynomialFeatures, StandardScaler\n",
    "from imblearn.pipeline import Pipeline\n",
    "from sklearn.model_selection import train_test_split, cross_val_score, GridSearchCV\n",
    "from sklearn.linear_model import LogisticRegression\n",
    "from sklearn.ensemble import RandomForestClassifier, GradientBoostingClassifier, AdaBoostClassifier\n",
    "from sklearn.neighbors import KNeighborsClassifier\n",
    "from sklearn.svm import SVC\n",
    "from sklearn.tree import DecisionTreeClassifier\n",
    "import xgboost as xgb\n",
    "from xgboost import XGBClassifier, plot_importance\n",
    "\n",
    "# For metrics\n",
    "from sklearn.metrics import accuracy_score, f1_score, precision_score, recall_score, classification_report\n",
    "from sklearn.metrics import roc_auc_score, roc_curve, plot_roc_curve, RocCurveDisplay\n",
    "from sklearn.metrics import confusion_matrix, ConfusionMatrixDisplay\n",
    "\n",
    "# Set the max display for the columns and rows\n",
    "pd.set_option(\"display.max_rows\", 100)\n",
    "pd.set_option(\"display.max_columns\", 100)\n",
    "\n",
    "import warnings\n",
    "warnings.filterwarnings('ignore')"
   ]
  },
  {
   "cell_type": "code",
   "execution_count": 2,
   "metadata": {
    "ExecuteTime": {
     "end_time": "2022-06-10T00:36:58.051067Z",
     "start_time": "2022-06-10T00:36:57.738417Z"
    },
    "id": "QIpMSv5IWxaJ"
   },
   "outputs": [],
   "source": [
    "# Import train and test datasets\n",
    "df_train_model = pd.read_csv('../data/df_train_model.csv')\n",
    "df_test_model = pd.read_csv('../data/df_test_model.csv')"
   ]
  },
  {
   "cell_type": "code",
   "execution_count": 3,
   "metadata": {
    "ExecuteTime": {
     "end_time": "2022-06-10T00:36:58.082068Z",
     "start_time": "2022-06-10T00:36:58.054051Z"
    },
    "colab": {
     "base_uri": "https://localhost:8080/",
     "height": 287
    },
    "executionInfo": {
     "elapsed": 68,
     "status": "ok",
     "timestamp": 1654765651127,
     "user": {
      "displayName": "Calvin Lim",
      "userId": "12406366410999313820"
     },
     "user_tz": -480
    },
    "id": "V4nngXkVRjBQ",
    "outputId": "a60e1761-6f80-479e-d779-eca381908b75"
   },
   "outputs": [
    {
     "data": {
      "text/html": [
       "<div>\n",
       "<style scoped>\n",
       "    .dataframe tbody tr th:only-of-type {\n",
       "        vertical-align: middle;\n",
       "    }\n",
       "\n",
       "    .dataframe tbody tr th {\n",
       "        vertical-align: top;\n",
       "    }\n",
       "\n",
       "    .dataframe thead th {\n",
       "        text-align: right;\n",
       "    }\n",
       "</style>\n",
       "<table border=\"1\" class=\"dataframe\">\n",
       "  <thead>\n",
       "    <tr style=\"text-align: right;\">\n",
       "      <th></th>\n",
       "      <th>Latitude</th>\n",
       "      <th>Longitude</th>\n",
       "      <th>WnvPresent</th>\n",
       "      <th>Week</th>\n",
       "      <th>Tavg</th>\n",
       "      <th>DewPoint</th>\n",
       "      <th>WetBulb</th>\n",
       "      <th>PrecipTotal</th>\n",
       "      <th>StnPressure</th>\n",
       "      <th>SeaLevel</th>\n",
       "      <th>ResultSpeed</th>\n",
       "      <th>ResultDir</th>\n",
       "      <th>AvgSpeed</th>\n",
       "      <th>CsTSRA</th>\n",
       "      <th>CsBR</th>\n",
       "      <th>CsRA</th>\n",
       "      <th>CsTS</th>\n",
       "      <th>RelativeHumidity</th>\n",
       "      <th>NightTime</th>\n",
       "      <th>DayTime</th>\n",
       "      <th>Tavg_7daysbf</th>\n",
       "      <th>DewPoint_7daysbf</th>\n",
       "      <th>PrecipTotal_7daysbf</th>\n",
       "      <th>Species_CULEX PIPIENS</th>\n",
       "      <th>Species_CULEX PIPIENS/RESTUANS</th>\n",
       "      <th>Species_CULEX RESTUANS</th>\n",
       "      <th>WnvRisk_low</th>\n",
       "      <th>WnvRisk_medium</th>\n",
       "      <th>WnvRisk_high</th>\n",
       "    </tr>\n",
       "  </thead>\n",
       "  <tbody>\n",
       "    <tr>\n",
       "      <th>0</th>\n",
       "      <td>41.954690</td>\n",
       "      <td>-87.800991</td>\n",
       "      <td>0</td>\n",
       "      <td>22</td>\n",
       "      <td>74.0</td>\n",
       "      <td>58</td>\n",
       "      <td>65.0</td>\n",
       "      <td>0.0</td>\n",
       "      <td>29.39</td>\n",
       "      <td>30.11</td>\n",
       "      <td>5.8</td>\n",
       "      <td>18</td>\n",
       "      <td>6.5</td>\n",
       "      <td>0</td>\n",
       "      <td>1</td>\n",
       "      <td>0</td>\n",
       "      <td>0</td>\n",
       "      <td>57.398449</td>\n",
       "      <td>9.066667</td>\n",
       "      <td>14.933333</td>\n",
       "      <td>0.0</td>\n",
       "      <td>0</td>\n",
       "      <td>0.0</td>\n",
       "      <td>0</td>\n",
       "      <td>1</td>\n",
       "      <td>0</td>\n",
       "      <td>0</td>\n",
       "      <td>0</td>\n",
       "      <td>1</td>\n",
       "    </tr>\n",
       "    <tr>\n",
       "      <th>1</th>\n",
       "      <td>41.954690</td>\n",
       "      <td>-87.800991</td>\n",
       "      <td>0</td>\n",
       "      <td>22</td>\n",
       "      <td>74.0</td>\n",
       "      <td>58</td>\n",
       "      <td>65.0</td>\n",
       "      <td>0.0</td>\n",
       "      <td>29.39</td>\n",
       "      <td>30.11</td>\n",
       "      <td>5.8</td>\n",
       "      <td>18</td>\n",
       "      <td>6.5</td>\n",
       "      <td>0</td>\n",
       "      <td>1</td>\n",
       "      <td>0</td>\n",
       "      <td>0</td>\n",
       "      <td>57.398449</td>\n",
       "      <td>9.066667</td>\n",
       "      <td>14.933333</td>\n",
       "      <td>0.0</td>\n",
       "      <td>0</td>\n",
       "      <td>0.0</td>\n",
       "      <td>0</td>\n",
       "      <td>0</td>\n",
       "      <td>1</td>\n",
       "      <td>0</td>\n",
       "      <td>0</td>\n",
       "      <td>1</td>\n",
       "    </tr>\n",
       "    <tr>\n",
       "      <th>2</th>\n",
       "      <td>41.994991</td>\n",
       "      <td>-87.769279</td>\n",
       "      <td>0</td>\n",
       "      <td>22</td>\n",
       "      <td>74.0</td>\n",
       "      <td>58</td>\n",
       "      <td>65.0</td>\n",
       "      <td>0.0</td>\n",
       "      <td>29.39</td>\n",
       "      <td>30.11</td>\n",
       "      <td>5.8</td>\n",
       "      <td>18</td>\n",
       "      <td>6.5</td>\n",
       "      <td>0</td>\n",
       "      <td>1</td>\n",
       "      <td>0</td>\n",
       "      <td>0</td>\n",
       "      <td>57.398449</td>\n",
       "      <td>9.066667</td>\n",
       "      <td>14.933333</td>\n",
       "      <td>0.0</td>\n",
       "      <td>0</td>\n",
       "      <td>0.0</td>\n",
       "      <td>0</td>\n",
       "      <td>0</td>\n",
       "      <td>1</td>\n",
       "      <td>1</td>\n",
       "      <td>0</td>\n",
       "      <td>0</td>\n",
       "    </tr>\n",
       "    <tr>\n",
       "      <th>3</th>\n",
       "      <td>41.974089</td>\n",
       "      <td>-87.824812</td>\n",
       "      <td>0</td>\n",
       "      <td>22</td>\n",
       "      <td>74.0</td>\n",
       "      <td>58</td>\n",
       "      <td>65.0</td>\n",
       "      <td>0.0</td>\n",
       "      <td>29.39</td>\n",
       "      <td>30.11</td>\n",
       "      <td>5.8</td>\n",
       "      <td>18</td>\n",
       "      <td>6.5</td>\n",
       "      <td>0</td>\n",
       "      <td>1</td>\n",
       "      <td>0</td>\n",
       "      <td>0</td>\n",
       "      <td>57.398449</td>\n",
       "      <td>9.066667</td>\n",
       "      <td>14.933333</td>\n",
       "      <td>0.0</td>\n",
       "      <td>0</td>\n",
       "      <td>0.0</td>\n",
       "      <td>0</td>\n",
       "      <td>1</td>\n",
       "      <td>0</td>\n",
       "      <td>0</td>\n",
       "      <td>1</td>\n",
       "      <td>0</td>\n",
       "    </tr>\n",
       "    <tr>\n",
       "      <th>4</th>\n",
       "      <td>41.974089</td>\n",
       "      <td>-87.824812</td>\n",
       "      <td>0</td>\n",
       "      <td>22</td>\n",
       "      <td>74.0</td>\n",
       "      <td>58</td>\n",
       "      <td>65.0</td>\n",
       "      <td>0.0</td>\n",
       "      <td>29.39</td>\n",
       "      <td>30.11</td>\n",
       "      <td>5.8</td>\n",
       "      <td>18</td>\n",
       "      <td>6.5</td>\n",
       "      <td>0</td>\n",
       "      <td>1</td>\n",
       "      <td>0</td>\n",
       "      <td>0</td>\n",
       "      <td>57.398449</td>\n",
       "      <td>9.066667</td>\n",
       "      <td>14.933333</td>\n",
       "      <td>0.0</td>\n",
       "      <td>0</td>\n",
       "      <td>0.0</td>\n",
       "      <td>0</td>\n",
       "      <td>0</td>\n",
       "      <td>1</td>\n",
       "      <td>0</td>\n",
       "      <td>1</td>\n",
       "      <td>0</td>\n",
       "    </tr>\n",
       "  </tbody>\n",
       "</table>\n",
       "</div>"
      ],
      "text/plain": [
       "    Latitude  Longitude  WnvPresent  Week  Tavg  DewPoint  WetBulb  \\\n",
       "0  41.954690 -87.800991           0    22  74.0        58     65.0   \n",
       "1  41.954690 -87.800991           0    22  74.0        58     65.0   \n",
       "2  41.994991 -87.769279           0    22  74.0        58     65.0   \n",
       "3  41.974089 -87.824812           0    22  74.0        58     65.0   \n",
       "4  41.974089 -87.824812           0    22  74.0        58     65.0   \n",
       "\n",
       "   PrecipTotal  StnPressure  SeaLevel  ResultSpeed  ResultDir  AvgSpeed  \\\n",
       "0          0.0        29.39     30.11          5.8         18       6.5   \n",
       "1          0.0        29.39     30.11          5.8         18       6.5   \n",
       "2          0.0        29.39     30.11          5.8         18       6.5   \n",
       "3          0.0        29.39     30.11          5.8         18       6.5   \n",
       "4          0.0        29.39     30.11          5.8         18       6.5   \n",
       "\n",
       "   CsTSRA  CsBR  CsRA  CsTS  RelativeHumidity  NightTime    DayTime  \\\n",
       "0       0     1     0     0         57.398449   9.066667  14.933333   \n",
       "1       0     1     0     0         57.398449   9.066667  14.933333   \n",
       "2       0     1     0     0         57.398449   9.066667  14.933333   \n",
       "3       0     1     0     0         57.398449   9.066667  14.933333   \n",
       "4       0     1     0     0         57.398449   9.066667  14.933333   \n",
       "\n",
       "   Tavg_7daysbf  DewPoint_7daysbf  PrecipTotal_7daysbf  Species_CULEX PIPIENS  \\\n",
       "0           0.0                 0                  0.0                      0   \n",
       "1           0.0                 0                  0.0                      0   \n",
       "2           0.0                 0                  0.0                      0   \n",
       "3           0.0                 0                  0.0                      0   \n",
       "4           0.0                 0                  0.0                      0   \n",
       "\n",
       "   Species_CULEX PIPIENS/RESTUANS  Species_CULEX RESTUANS  WnvRisk_low  \\\n",
       "0                               1                       0            0   \n",
       "1                               0                       1            0   \n",
       "2                               0                       1            1   \n",
       "3                               1                       0            0   \n",
       "4                               0                       1            0   \n",
       "\n",
       "   WnvRisk_medium  WnvRisk_high  \n",
       "0               0             1  \n",
       "1               0             1  \n",
       "2               0             0  \n",
       "3               1             0  \n",
       "4               1             0  "
      ]
     },
     "execution_count": 3,
     "metadata": {},
     "output_type": "execute_result"
    }
   ],
   "source": [
    "# Check first 5 rows for df_train_model\n",
    "df_train_model.head()"
   ]
  },
  {
   "cell_type": "code",
   "execution_count": 4,
   "metadata": {
    "ExecuteTime": {
     "end_time": "2022-06-10T00:36:58.098077Z",
     "start_time": "2022-06-10T00:36:58.085057Z"
    },
    "colab": {
     "base_uri": "https://localhost:8080/"
    },
    "executionInfo": {
     "elapsed": 66,
     "status": "ok",
     "timestamp": 1654765651128,
     "user": {
      "displayName": "Calvin Lim",
      "userId": "12406366410999313820"
     },
     "user_tz": -480
    },
    "id": "xZetXoIURjBS",
    "outputId": "f5ec085e-82a9-4db1-8801-4ab1c70bbc7e"
   },
   "outputs": [
    {
     "name": "stdout",
     "output_type": "stream",
     "text": [
      "<class 'pandas.core.frame.DataFrame'>\n",
      "RangeIndex: 8475 entries, 0 to 8474\n",
      "Data columns (total 29 columns):\n",
      " #   Column                          Non-Null Count  Dtype  \n",
      "---  ------                          --------------  -----  \n",
      " 0   Latitude                        8475 non-null   float64\n",
      " 1   Longitude                       8475 non-null   float64\n",
      " 2   WnvPresent                      8475 non-null   int64  \n",
      " 3   Week                            8475 non-null   int64  \n",
      " 4   Tavg                            8475 non-null   float64\n",
      " 5   DewPoint                        8475 non-null   int64  \n",
      " 6   WetBulb                         8475 non-null   float64\n",
      " 7   PrecipTotal                     8475 non-null   float64\n",
      " 8   StnPressure                     8475 non-null   float64\n",
      " 9   SeaLevel                        8475 non-null   float64\n",
      " 10  ResultSpeed                     8475 non-null   float64\n",
      " 11  ResultDir                       8475 non-null   int64  \n",
      " 12  AvgSpeed                        8475 non-null   float64\n",
      " 13  CsTSRA                          8475 non-null   int64  \n",
      " 14  CsBR                            8475 non-null   int64  \n",
      " 15  CsRA                            8475 non-null   int64  \n",
      " 16  CsTS                            8475 non-null   int64  \n",
      " 17  RelativeHumidity                8475 non-null   float64\n",
      " 18  NightTime                       8475 non-null   float64\n",
      " 19  DayTime                         8475 non-null   float64\n",
      " 20  Tavg_7daysbf                    8475 non-null   float64\n",
      " 21  DewPoint_7daysbf                8475 non-null   int64  \n",
      " 22  PrecipTotal_7daysbf             8475 non-null   float64\n",
      " 23  Species_CULEX PIPIENS           8475 non-null   int64  \n",
      " 24  Species_CULEX PIPIENS/RESTUANS  8475 non-null   int64  \n",
      " 25  Species_CULEX RESTUANS          8475 non-null   int64  \n",
      " 26  WnvRisk_low                     8475 non-null   int64  \n",
      " 27  WnvRisk_medium                  8475 non-null   int64  \n",
      " 28  WnvRisk_high                    8475 non-null   int64  \n",
      "dtypes: float64(14), int64(15)\n",
      "memory usage: 1.9 MB\n"
     ]
    }
   ],
   "source": [
    "# Check preliminary information for df_train_model\n",
    "df_train_model.info()"
   ]
  },
  {
   "cell_type": "code",
   "execution_count": 5,
   "metadata": {
    "ExecuteTime": {
     "end_time": "2022-06-10T00:36:58.129084Z",
     "start_time": "2022-06-10T00:36:58.100068Z"
    },
    "colab": {
     "base_uri": "https://localhost:8080/",
     "height": 287
    },
    "executionInfo": {
     "elapsed": 66,
     "status": "ok",
     "timestamp": 1654765651131,
     "user": {
      "displayName": "Calvin Lim",
      "userId": "12406366410999313820"
     },
     "user_tz": -480
    },
    "id": "TVH2f7XqRjBT",
    "outputId": "f9779803-8aea-4cb5-d2b8-2cab96303834"
   },
   "outputs": [
    {
     "data": {
      "text/html": [
       "<div>\n",
       "<style scoped>\n",
       "    .dataframe tbody tr th:only-of-type {\n",
       "        vertical-align: middle;\n",
       "    }\n",
       "\n",
       "    .dataframe tbody tr th {\n",
       "        vertical-align: top;\n",
       "    }\n",
       "\n",
       "    .dataframe thead th {\n",
       "        text-align: right;\n",
       "    }\n",
       "</style>\n",
       "<table border=\"1\" class=\"dataframe\">\n",
       "  <thead>\n",
       "    <tr style=\"text-align: right;\">\n",
       "      <th></th>\n",
       "      <th>Id</th>\n",
       "      <th>Latitude</th>\n",
       "      <th>Longitude</th>\n",
       "      <th>Week</th>\n",
       "      <th>Tavg</th>\n",
       "      <th>DewPoint</th>\n",
       "      <th>WetBulb</th>\n",
       "      <th>PrecipTotal</th>\n",
       "      <th>StnPressure</th>\n",
       "      <th>SeaLevel</th>\n",
       "      <th>ResultSpeed</th>\n",
       "      <th>ResultDir</th>\n",
       "      <th>AvgSpeed</th>\n",
       "      <th>CsTSRA</th>\n",
       "      <th>CsBR</th>\n",
       "      <th>CsRA</th>\n",
       "      <th>CsTS</th>\n",
       "      <th>RelativeHumidity</th>\n",
       "      <th>NightTime</th>\n",
       "      <th>DayTime</th>\n",
       "      <th>Tavg_7daysbf</th>\n",
       "      <th>DewPoint_7daysbf</th>\n",
       "      <th>PrecipTotal_7daysbf</th>\n",
       "      <th>Species_CULEX PIPIENS</th>\n",
       "      <th>Species_CULEX PIPIENS/RESTUANS</th>\n",
       "      <th>Species_CULEX RESTUANS</th>\n",
       "      <th>WnvRisk_low</th>\n",
       "      <th>WnvRisk_medium</th>\n",
       "      <th>WnvRisk_high</th>\n",
       "    </tr>\n",
       "  </thead>\n",
       "  <tbody>\n",
       "    <tr>\n",
       "      <th>0</th>\n",
       "      <td>1</td>\n",
       "      <td>41.95469</td>\n",
       "      <td>-87.800991</td>\n",
       "      <td>24</td>\n",
       "      <td>74.0</td>\n",
       "      <td>56</td>\n",
       "      <td>64.0</td>\n",
       "      <td>0.0</td>\n",
       "      <td>29.28</td>\n",
       "      <td>29.99</td>\n",
       "      <td>8.9</td>\n",
       "      <td>18</td>\n",
       "      <td>10.0</td>\n",
       "      <td>0</td>\n",
       "      <td>0</td>\n",
       "      <td>0</td>\n",
       "      <td>0</td>\n",
       "      <td>53.405643</td>\n",
       "      <td>8.833333</td>\n",
       "      <td>15.166667</td>\n",
       "      <td>0.0</td>\n",
       "      <td>0</td>\n",
       "      <td>0.0</td>\n",
       "      <td>0</td>\n",
       "      <td>1</td>\n",
       "      <td>0</td>\n",
       "      <td>0</td>\n",
       "      <td>0</td>\n",
       "      <td>1</td>\n",
       "    </tr>\n",
       "    <tr>\n",
       "      <th>1</th>\n",
       "      <td>2</td>\n",
       "      <td>41.95469</td>\n",
       "      <td>-87.800991</td>\n",
       "      <td>24</td>\n",
       "      <td>74.0</td>\n",
       "      <td>56</td>\n",
       "      <td>64.0</td>\n",
       "      <td>0.0</td>\n",
       "      <td>29.28</td>\n",
       "      <td>29.99</td>\n",
       "      <td>8.9</td>\n",
       "      <td>18</td>\n",
       "      <td>10.0</td>\n",
       "      <td>0</td>\n",
       "      <td>0</td>\n",
       "      <td>0</td>\n",
       "      <td>0</td>\n",
       "      <td>53.405643</td>\n",
       "      <td>8.833333</td>\n",
       "      <td>15.166667</td>\n",
       "      <td>0.0</td>\n",
       "      <td>0</td>\n",
       "      <td>0.0</td>\n",
       "      <td>0</td>\n",
       "      <td>0</td>\n",
       "      <td>1</td>\n",
       "      <td>0</td>\n",
       "      <td>0</td>\n",
       "      <td>1</td>\n",
       "    </tr>\n",
       "    <tr>\n",
       "      <th>2</th>\n",
       "      <td>3</td>\n",
       "      <td>41.95469</td>\n",
       "      <td>-87.800991</td>\n",
       "      <td>24</td>\n",
       "      <td>74.0</td>\n",
       "      <td>56</td>\n",
       "      <td>64.0</td>\n",
       "      <td>0.0</td>\n",
       "      <td>29.28</td>\n",
       "      <td>29.99</td>\n",
       "      <td>8.9</td>\n",
       "      <td>18</td>\n",
       "      <td>10.0</td>\n",
       "      <td>0</td>\n",
       "      <td>0</td>\n",
       "      <td>0</td>\n",
       "      <td>0</td>\n",
       "      <td>53.405643</td>\n",
       "      <td>8.833333</td>\n",
       "      <td>15.166667</td>\n",
       "      <td>0.0</td>\n",
       "      <td>0</td>\n",
       "      <td>0.0</td>\n",
       "      <td>1</td>\n",
       "      <td>0</td>\n",
       "      <td>0</td>\n",
       "      <td>0</td>\n",
       "      <td>0</td>\n",
       "      <td>1</td>\n",
       "    </tr>\n",
       "    <tr>\n",
       "      <th>3</th>\n",
       "      <td>4</td>\n",
       "      <td>41.95469</td>\n",
       "      <td>-87.800991</td>\n",
       "      <td>24</td>\n",
       "      <td>74.0</td>\n",
       "      <td>56</td>\n",
       "      <td>64.0</td>\n",
       "      <td>0.0</td>\n",
       "      <td>29.28</td>\n",
       "      <td>29.99</td>\n",
       "      <td>8.9</td>\n",
       "      <td>18</td>\n",
       "      <td>10.0</td>\n",
       "      <td>0</td>\n",
       "      <td>0</td>\n",
       "      <td>0</td>\n",
       "      <td>0</td>\n",
       "      <td>53.405643</td>\n",
       "      <td>8.833333</td>\n",
       "      <td>15.166667</td>\n",
       "      <td>0.0</td>\n",
       "      <td>0</td>\n",
       "      <td>0.0</td>\n",
       "      <td>0</td>\n",
       "      <td>0</td>\n",
       "      <td>0</td>\n",
       "      <td>0</td>\n",
       "      <td>0</td>\n",
       "      <td>1</td>\n",
       "    </tr>\n",
       "    <tr>\n",
       "      <th>4</th>\n",
       "      <td>5</td>\n",
       "      <td>41.95469</td>\n",
       "      <td>-87.800991</td>\n",
       "      <td>24</td>\n",
       "      <td>74.0</td>\n",
       "      <td>56</td>\n",
       "      <td>64.0</td>\n",
       "      <td>0.0</td>\n",
       "      <td>29.28</td>\n",
       "      <td>29.99</td>\n",
       "      <td>8.9</td>\n",
       "      <td>18</td>\n",
       "      <td>10.0</td>\n",
       "      <td>0</td>\n",
       "      <td>0</td>\n",
       "      <td>0</td>\n",
       "      <td>0</td>\n",
       "      <td>53.405643</td>\n",
       "      <td>8.833333</td>\n",
       "      <td>15.166667</td>\n",
       "      <td>0.0</td>\n",
       "      <td>0</td>\n",
       "      <td>0.0</td>\n",
       "      <td>0</td>\n",
       "      <td>0</td>\n",
       "      <td>0</td>\n",
       "      <td>0</td>\n",
       "      <td>0</td>\n",
       "      <td>1</td>\n",
       "    </tr>\n",
       "  </tbody>\n",
       "</table>\n",
       "</div>"
      ],
      "text/plain": [
       "   Id  Latitude  Longitude  Week  Tavg  DewPoint  WetBulb  PrecipTotal  \\\n",
       "0   1  41.95469 -87.800991    24  74.0        56     64.0          0.0   \n",
       "1   2  41.95469 -87.800991    24  74.0        56     64.0          0.0   \n",
       "2   3  41.95469 -87.800991    24  74.0        56     64.0          0.0   \n",
       "3   4  41.95469 -87.800991    24  74.0        56     64.0          0.0   \n",
       "4   5  41.95469 -87.800991    24  74.0        56     64.0          0.0   \n",
       "\n",
       "   StnPressure  SeaLevel  ResultSpeed  ResultDir  AvgSpeed  CsTSRA  CsBR  \\\n",
       "0        29.28     29.99          8.9         18      10.0       0     0   \n",
       "1        29.28     29.99          8.9         18      10.0       0     0   \n",
       "2        29.28     29.99          8.9         18      10.0       0     0   \n",
       "3        29.28     29.99          8.9         18      10.0       0     0   \n",
       "4        29.28     29.99          8.9         18      10.0       0     0   \n",
       "\n",
       "   CsRA  CsTS  RelativeHumidity  NightTime    DayTime  Tavg_7daysbf  \\\n",
       "0     0     0         53.405643   8.833333  15.166667           0.0   \n",
       "1     0     0         53.405643   8.833333  15.166667           0.0   \n",
       "2     0     0         53.405643   8.833333  15.166667           0.0   \n",
       "3     0     0         53.405643   8.833333  15.166667           0.0   \n",
       "4     0     0         53.405643   8.833333  15.166667           0.0   \n",
       "\n",
       "   DewPoint_7daysbf  PrecipTotal_7daysbf  Species_CULEX PIPIENS  \\\n",
       "0                 0                  0.0                      0   \n",
       "1                 0                  0.0                      0   \n",
       "2                 0                  0.0                      1   \n",
       "3                 0                  0.0                      0   \n",
       "4                 0                  0.0                      0   \n",
       "\n",
       "   Species_CULEX PIPIENS/RESTUANS  Species_CULEX RESTUANS  WnvRisk_low  \\\n",
       "0                               1                       0            0   \n",
       "1                               0                       1            0   \n",
       "2                               0                       0            0   \n",
       "3                               0                       0            0   \n",
       "4                               0                       0            0   \n",
       "\n",
       "   WnvRisk_medium  WnvRisk_high  \n",
       "0               0             1  \n",
       "1               0             1  \n",
       "2               0             1  \n",
       "3               0             1  \n",
       "4               0             1  "
      ]
     },
     "execution_count": 5,
     "metadata": {},
     "output_type": "execute_result"
    }
   ],
   "source": [
    "# Check first 5 rows for df_test_model\n",
    "df_test_model.head()"
   ]
  },
  {
   "cell_type": "code",
   "execution_count": 6,
   "metadata": {
    "ExecuteTime": {
     "end_time": "2022-06-10T00:36:58.160168Z",
     "start_time": "2022-06-10T00:36:58.131067Z"
    },
    "colab": {
     "base_uri": "https://localhost:8080/"
    },
    "executionInfo": {
     "elapsed": 63,
     "status": "ok",
     "timestamp": 1654765651131,
     "user": {
      "displayName": "Calvin Lim",
      "userId": "12406366410999313820"
     },
     "user_tz": -480
    },
    "id": "RdeIbaCvRjBU",
    "outputId": "c9470196-296d-46b2-8115-a3fcfb669091"
   },
   "outputs": [
    {
     "name": "stdout",
     "output_type": "stream",
     "text": [
      "<class 'pandas.core.frame.DataFrame'>\n",
      "RangeIndex: 116293 entries, 0 to 116292\n",
      "Data columns (total 29 columns):\n",
      " #   Column                          Non-Null Count   Dtype  \n",
      "---  ------                          --------------   -----  \n",
      " 0   Id                              116293 non-null  int64  \n",
      " 1   Latitude                        116293 non-null  float64\n",
      " 2   Longitude                       116293 non-null  float64\n",
      " 3   Week                            116293 non-null  int64  \n",
      " 4   Tavg                            116293 non-null  float64\n",
      " 5   DewPoint                        116293 non-null  int64  \n",
      " 6   WetBulb                         116293 non-null  float64\n",
      " 7   PrecipTotal                     116293 non-null  float64\n",
      " 8   StnPressure                     116293 non-null  float64\n",
      " 9   SeaLevel                        116293 non-null  float64\n",
      " 10  ResultSpeed                     116293 non-null  float64\n",
      " 11  ResultDir                       116293 non-null  int64  \n",
      " 12  AvgSpeed                        116293 non-null  float64\n",
      " 13  CsTSRA                          116293 non-null  int64  \n",
      " 14  CsBR                            116293 non-null  int64  \n",
      " 15  CsRA                            116293 non-null  int64  \n",
      " 16  CsTS                            116293 non-null  int64  \n",
      " 17  RelativeHumidity                116293 non-null  float64\n",
      " 18  NightTime                       116293 non-null  float64\n",
      " 19  DayTime                         116293 non-null  float64\n",
      " 20  Tavg_7daysbf                    116293 non-null  float64\n",
      " 21  DewPoint_7daysbf                116293 non-null  int64  \n",
      " 22  PrecipTotal_7daysbf             116293 non-null  float64\n",
      " 23  Species_CULEX PIPIENS           116293 non-null  int64  \n",
      " 24  Species_CULEX PIPIENS/RESTUANS  116293 non-null  int64  \n",
      " 25  Species_CULEX RESTUANS          116293 non-null  int64  \n",
      " 26  WnvRisk_low                     116293 non-null  int64  \n",
      " 27  WnvRisk_medium                  116293 non-null  int64  \n",
      " 28  WnvRisk_high                    116293 non-null  int64  \n",
      "dtypes: float64(14), int64(15)\n",
      "memory usage: 25.7 MB\n"
     ]
    }
   ],
   "source": [
    "# Check preliminary information for df_test_model\n",
    "df_test_model.info()"
   ]
  },
  {
   "cell_type": "code",
   "execution_count": 7,
   "metadata": {
    "ExecuteTime": {
     "end_time": "2022-06-10T00:36:58.176182Z",
     "start_time": "2022-06-10T00:36:58.162167Z"
    },
    "id": "Nb_6rjbWRjBU"
   },
   "outputs": [],
   "source": [
    "# Reset index with Id\n",
    "df_test_model.set_index(keys = ['Id'], inplace = True)"
   ]
  },
  {
   "cell_type": "code",
   "execution_count": 8,
   "metadata": {
    "ExecuteTime": {
     "end_time": "2022-06-10T00:36:58.207194Z",
     "start_time": "2022-06-10T00:36:58.178170Z"
    },
    "colab": {
     "base_uri": "https://localhost:8080/",
     "height": 319
    },
    "executionInfo": {
     "elapsed": 57,
     "status": "ok",
     "timestamp": 1654765651132,
     "user": {
      "displayName": "Calvin Lim",
      "userId": "12406366410999313820"
     },
     "user_tz": -480
    },
    "id": "DWdtZpdRRjBV",
    "outputId": "062d8820-19b4-4626-fa50-88c4d0d5f7dc"
   },
   "outputs": [
    {
     "data": {
      "text/html": [
       "<div>\n",
       "<style scoped>\n",
       "    .dataframe tbody tr th:only-of-type {\n",
       "        vertical-align: middle;\n",
       "    }\n",
       "\n",
       "    .dataframe tbody tr th {\n",
       "        vertical-align: top;\n",
       "    }\n",
       "\n",
       "    .dataframe thead th {\n",
       "        text-align: right;\n",
       "    }\n",
       "</style>\n",
       "<table border=\"1\" class=\"dataframe\">\n",
       "  <thead>\n",
       "    <tr style=\"text-align: right;\">\n",
       "      <th></th>\n",
       "      <th>Latitude</th>\n",
       "      <th>Longitude</th>\n",
       "      <th>Week</th>\n",
       "      <th>Tavg</th>\n",
       "      <th>DewPoint</th>\n",
       "      <th>WetBulb</th>\n",
       "      <th>PrecipTotal</th>\n",
       "      <th>StnPressure</th>\n",
       "      <th>SeaLevel</th>\n",
       "      <th>ResultSpeed</th>\n",
       "      <th>ResultDir</th>\n",
       "      <th>AvgSpeed</th>\n",
       "      <th>CsTSRA</th>\n",
       "      <th>CsBR</th>\n",
       "      <th>CsRA</th>\n",
       "      <th>CsTS</th>\n",
       "      <th>RelativeHumidity</th>\n",
       "      <th>NightTime</th>\n",
       "      <th>DayTime</th>\n",
       "      <th>Tavg_7daysbf</th>\n",
       "      <th>DewPoint_7daysbf</th>\n",
       "      <th>PrecipTotal_7daysbf</th>\n",
       "      <th>Species_CULEX PIPIENS</th>\n",
       "      <th>Species_CULEX PIPIENS/RESTUANS</th>\n",
       "      <th>Species_CULEX RESTUANS</th>\n",
       "      <th>WnvRisk_low</th>\n",
       "      <th>WnvRisk_medium</th>\n",
       "      <th>WnvRisk_high</th>\n",
       "    </tr>\n",
       "    <tr>\n",
       "      <th>Id</th>\n",
       "      <th></th>\n",
       "      <th></th>\n",
       "      <th></th>\n",
       "      <th></th>\n",
       "      <th></th>\n",
       "      <th></th>\n",
       "      <th></th>\n",
       "      <th></th>\n",
       "      <th></th>\n",
       "      <th></th>\n",
       "      <th></th>\n",
       "      <th></th>\n",
       "      <th></th>\n",
       "      <th></th>\n",
       "      <th></th>\n",
       "      <th></th>\n",
       "      <th></th>\n",
       "      <th></th>\n",
       "      <th></th>\n",
       "      <th></th>\n",
       "      <th></th>\n",
       "      <th></th>\n",
       "      <th></th>\n",
       "      <th></th>\n",
       "      <th></th>\n",
       "      <th></th>\n",
       "      <th></th>\n",
       "      <th></th>\n",
       "    </tr>\n",
       "  </thead>\n",
       "  <tbody>\n",
       "    <tr>\n",
       "      <th>1</th>\n",
       "      <td>41.95469</td>\n",
       "      <td>-87.800991</td>\n",
       "      <td>24</td>\n",
       "      <td>74.0</td>\n",
       "      <td>56</td>\n",
       "      <td>64.0</td>\n",
       "      <td>0.0</td>\n",
       "      <td>29.28</td>\n",
       "      <td>29.99</td>\n",
       "      <td>8.9</td>\n",
       "      <td>18</td>\n",
       "      <td>10.0</td>\n",
       "      <td>0</td>\n",
       "      <td>0</td>\n",
       "      <td>0</td>\n",
       "      <td>0</td>\n",
       "      <td>53.405643</td>\n",
       "      <td>8.833333</td>\n",
       "      <td>15.166667</td>\n",
       "      <td>0.0</td>\n",
       "      <td>0</td>\n",
       "      <td>0.0</td>\n",
       "      <td>0</td>\n",
       "      <td>1</td>\n",
       "      <td>0</td>\n",
       "      <td>0</td>\n",
       "      <td>0</td>\n",
       "      <td>1</td>\n",
       "    </tr>\n",
       "    <tr>\n",
       "      <th>2</th>\n",
       "      <td>41.95469</td>\n",
       "      <td>-87.800991</td>\n",
       "      <td>24</td>\n",
       "      <td>74.0</td>\n",
       "      <td>56</td>\n",
       "      <td>64.0</td>\n",
       "      <td>0.0</td>\n",
       "      <td>29.28</td>\n",
       "      <td>29.99</td>\n",
       "      <td>8.9</td>\n",
       "      <td>18</td>\n",
       "      <td>10.0</td>\n",
       "      <td>0</td>\n",
       "      <td>0</td>\n",
       "      <td>0</td>\n",
       "      <td>0</td>\n",
       "      <td>53.405643</td>\n",
       "      <td>8.833333</td>\n",
       "      <td>15.166667</td>\n",
       "      <td>0.0</td>\n",
       "      <td>0</td>\n",
       "      <td>0.0</td>\n",
       "      <td>0</td>\n",
       "      <td>0</td>\n",
       "      <td>1</td>\n",
       "      <td>0</td>\n",
       "      <td>0</td>\n",
       "      <td>1</td>\n",
       "    </tr>\n",
       "    <tr>\n",
       "      <th>3</th>\n",
       "      <td>41.95469</td>\n",
       "      <td>-87.800991</td>\n",
       "      <td>24</td>\n",
       "      <td>74.0</td>\n",
       "      <td>56</td>\n",
       "      <td>64.0</td>\n",
       "      <td>0.0</td>\n",
       "      <td>29.28</td>\n",
       "      <td>29.99</td>\n",
       "      <td>8.9</td>\n",
       "      <td>18</td>\n",
       "      <td>10.0</td>\n",
       "      <td>0</td>\n",
       "      <td>0</td>\n",
       "      <td>0</td>\n",
       "      <td>0</td>\n",
       "      <td>53.405643</td>\n",
       "      <td>8.833333</td>\n",
       "      <td>15.166667</td>\n",
       "      <td>0.0</td>\n",
       "      <td>0</td>\n",
       "      <td>0.0</td>\n",
       "      <td>1</td>\n",
       "      <td>0</td>\n",
       "      <td>0</td>\n",
       "      <td>0</td>\n",
       "      <td>0</td>\n",
       "      <td>1</td>\n",
       "    </tr>\n",
       "    <tr>\n",
       "      <th>4</th>\n",
       "      <td>41.95469</td>\n",
       "      <td>-87.800991</td>\n",
       "      <td>24</td>\n",
       "      <td>74.0</td>\n",
       "      <td>56</td>\n",
       "      <td>64.0</td>\n",
       "      <td>0.0</td>\n",
       "      <td>29.28</td>\n",
       "      <td>29.99</td>\n",
       "      <td>8.9</td>\n",
       "      <td>18</td>\n",
       "      <td>10.0</td>\n",
       "      <td>0</td>\n",
       "      <td>0</td>\n",
       "      <td>0</td>\n",
       "      <td>0</td>\n",
       "      <td>53.405643</td>\n",
       "      <td>8.833333</td>\n",
       "      <td>15.166667</td>\n",
       "      <td>0.0</td>\n",
       "      <td>0</td>\n",
       "      <td>0.0</td>\n",
       "      <td>0</td>\n",
       "      <td>0</td>\n",
       "      <td>0</td>\n",
       "      <td>0</td>\n",
       "      <td>0</td>\n",
       "      <td>1</td>\n",
       "    </tr>\n",
       "    <tr>\n",
       "      <th>5</th>\n",
       "      <td>41.95469</td>\n",
       "      <td>-87.800991</td>\n",
       "      <td>24</td>\n",
       "      <td>74.0</td>\n",
       "      <td>56</td>\n",
       "      <td>64.0</td>\n",
       "      <td>0.0</td>\n",
       "      <td>29.28</td>\n",
       "      <td>29.99</td>\n",
       "      <td>8.9</td>\n",
       "      <td>18</td>\n",
       "      <td>10.0</td>\n",
       "      <td>0</td>\n",
       "      <td>0</td>\n",
       "      <td>0</td>\n",
       "      <td>0</td>\n",
       "      <td>53.405643</td>\n",
       "      <td>8.833333</td>\n",
       "      <td>15.166667</td>\n",
       "      <td>0.0</td>\n",
       "      <td>0</td>\n",
       "      <td>0.0</td>\n",
       "      <td>0</td>\n",
       "      <td>0</td>\n",
       "      <td>0</td>\n",
       "      <td>0</td>\n",
       "      <td>0</td>\n",
       "      <td>1</td>\n",
       "    </tr>\n",
       "  </tbody>\n",
       "</table>\n",
       "</div>"
      ],
      "text/plain": [
       "    Latitude  Longitude  Week  Tavg  DewPoint  WetBulb  PrecipTotal  \\\n",
       "Id                                                                    \n",
       "1   41.95469 -87.800991    24  74.0        56     64.0          0.0   \n",
       "2   41.95469 -87.800991    24  74.0        56     64.0          0.0   \n",
       "3   41.95469 -87.800991    24  74.0        56     64.0          0.0   \n",
       "4   41.95469 -87.800991    24  74.0        56     64.0          0.0   \n",
       "5   41.95469 -87.800991    24  74.0        56     64.0          0.0   \n",
       "\n",
       "    StnPressure  SeaLevel  ResultSpeed  ResultDir  AvgSpeed  CsTSRA  CsBR  \\\n",
       "Id                                                                          \n",
       "1         29.28     29.99          8.9         18      10.0       0     0   \n",
       "2         29.28     29.99          8.9         18      10.0       0     0   \n",
       "3         29.28     29.99          8.9         18      10.0       0     0   \n",
       "4         29.28     29.99          8.9         18      10.0       0     0   \n",
       "5         29.28     29.99          8.9         18      10.0       0     0   \n",
       "\n",
       "    CsRA  CsTS  RelativeHumidity  NightTime    DayTime  Tavg_7daysbf  \\\n",
       "Id                                                                     \n",
       "1      0     0         53.405643   8.833333  15.166667           0.0   \n",
       "2      0     0         53.405643   8.833333  15.166667           0.0   \n",
       "3      0     0         53.405643   8.833333  15.166667           0.0   \n",
       "4      0     0         53.405643   8.833333  15.166667           0.0   \n",
       "5      0     0         53.405643   8.833333  15.166667           0.0   \n",
       "\n",
       "    DewPoint_7daysbf  PrecipTotal_7daysbf  Species_CULEX PIPIENS  \\\n",
       "Id                                                                 \n",
       "1                  0                  0.0                      0   \n",
       "2                  0                  0.0                      0   \n",
       "3                  0                  0.0                      1   \n",
       "4                  0                  0.0                      0   \n",
       "5                  0                  0.0                      0   \n",
       "\n",
       "    Species_CULEX PIPIENS/RESTUANS  Species_CULEX RESTUANS  WnvRisk_low  \\\n",
       "Id                                                                        \n",
       "1                                1                       0            0   \n",
       "2                                0                       1            0   \n",
       "3                                0                       0            0   \n",
       "4                                0                       0            0   \n",
       "5                                0                       0            0   \n",
       "\n",
       "    WnvRisk_medium  WnvRisk_high  \n",
       "Id                                \n",
       "1                0             1  \n",
       "2                0             1  \n",
       "3                0             1  \n",
       "4                0             1  \n",
       "5                0             1  "
      ]
     },
     "execution_count": 8,
     "metadata": {},
     "output_type": "execute_result"
    }
   ],
   "source": [
    "df_test_model.head()"
   ]
  },
  {
   "cell_type": "code",
   "execution_count": 9,
   "metadata": {
    "ExecuteTime": {
     "end_time": "2022-06-10T00:36:58.222197Z",
     "start_time": "2022-06-10T00:36:58.209183Z"
    },
    "colab": {
     "base_uri": "https://localhost:8080/"
    },
    "executionInfo": {
     "elapsed": 55,
     "status": "ok",
     "timestamp": 1654765651134,
     "user": {
      "displayName": "Calvin Lim",
      "userId": "12406366410999313820"
     },
     "user_tz": -480
    },
    "id": "bEnS0hgERjBV",
    "outputId": "88e30f17-5f5a-4e7b-ea1b-f72e4e8a4c5c"
   },
   "outputs": [
    {
     "data": {
      "text/plain": [
       "0    0.956342\n",
       "1    0.043658\n",
       "Name: WnvPresent, dtype: float64"
      ]
     },
     "execution_count": 9,
     "metadata": {},
     "output_type": "execute_result"
    }
   ],
   "source": [
    "# Check whether the dataset target is balanced\n",
    "df_train_model['WnvPresent'].value_counts(normalize = True)"
   ]
  },
  {
   "cell_type": "markdown",
   "metadata": {
    "id": "awhY6nA4RjBW"
   },
   "source": [
    "The dataset is highly imbalance with only 4.4% of West Nile Virus presence."
   ]
  },
  {
   "cell_type": "markdown",
   "metadata": {
    "id": "6yLqokDQRjBW"
   },
   "source": [
    "## Dataset Preparation"
   ]
  },
  {
   "cell_type": "markdown",
   "metadata": {
    "id": "ylKnBDRgRjBX"
   },
   "source": [
    "### Train/Test Split"
   ]
  },
  {
   "cell_type": "code",
   "execution_count": 10,
   "metadata": {
    "ExecuteTime": {
     "end_time": "2022-06-10T00:36:58.238201Z",
     "start_time": "2022-06-10T00:36:58.225183Z"
    },
    "id": "XUSNWOvoRjBX"
   },
   "outputs": [],
   "source": [
    "# Create X and y variables\n",
    "X = df_train_model.drop(columns = ['WnvPresent'])\n",
    "y = df_train_model['WnvPresent']"
   ]
  },
  {
   "cell_type": "code",
   "execution_count": 11,
   "metadata": {
    "ExecuteTime": {
     "end_time": "2022-06-10T00:36:58.253360Z",
     "start_time": "2022-06-10T00:36:58.240184Z"
    },
    "colab": {
     "base_uri": "https://localhost:8080/"
    },
    "executionInfo": {
     "elapsed": 49,
     "status": "ok",
     "timestamp": 1654765651135,
     "user": {
      "displayName": "Calvin Lim",
      "userId": "12406366410999313820"
     },
     "user_tz": -480
    },
    "id": "SwGaOOi5RjBX",
    "outputId": "0ae30149-06eb-4330-c977-3fe383699628"
   },
   "outputs": [
    {
     "name": "stdout",
     "output_type": "stream",
     "text": [
      "(6356, 28) (2119, 28) (6356,) (2119,)\n"
     ]
    }
   ],
   "source": [
    "# Split the dataset by 0.75 and 0.25\n",
    "X_train, X_val, y_train, y_val = train_test_split(X, y, stratify = y, random_state = 123)\n",
    "\n",
    "# Check the shape of both train and val datasets\n",
    "print(X_train.shape, X_val.shape, y_train.shape, y_val.shape)"
   ]
  },
  {
   "cell_type": "markdown",
   "metadata": {
    "id": "ke_2fiokRjBY"
   },
   "source": [
    "### Standard Scaling"
   ]
  },
  {
   "cell_type": "code",
   "execution_count": 12,
   "metadata": {
    "ExecuteTime": {
     "end_time": "2022-06-10T00:36:58.268352Z",
     "start_time": "2022-06-10T00:36:58.256346Z"
    },
    "id": "dAfpwrEKRjBY"
   },
   "outputs": [],
   "source": [
    "# Scale the data\n",
    "ss = StandardScaler()\n",
    "\n",
    "# Fit and transform the data\n",
    "Xs_train = ss.fit_transform(X_train)\n",
    "Xs_val = ss.transform(X_val)"
   ]
  },
  {
   "cell_type": "code",
   "execution_count": 13,
   "metadata": {
    "ExecuteTime": {
     "end_time": "2022-06-10T00:36:58.284349Z",
     "start_time": "2022-06-10T00:36:58.270348Z"
    },
    "colab": {
     "base_uri": "https://localhost:8080/"
    },
    "executionInfo": {
     "elapsed": 771,
     "status": "ok",
     "timestamp": 1654765651863,
     "user": {
      "displayName": "Calvin Lim",
      "userId": "12406366410999313820"
     },
     "user_tz": -480
    },
    "id": "EA7yrNDBRjBZ",
    "outputId": "208f658a-6114-4e59-e7dd-ca3c4b7d6579"
   },
   "outputs": [
    {
     "data": {
      "text/plain": [
       "array([[ 1.30084764, -0.3938165 ,  0.0657385 , ..., -0.54486529,\n",
       "        -0.93448836,  1.50985753],\n",
       "       [ 1.53572688, -1.32805444,  0.27729998, ..., -0.54486529,\n",
       "        -0.93448836,  1.50985753],\n",
       "       [-0.68180036,  1.11941536, -0.14582298, ..., -0.54486529,\n",
       "         1.07010429, -0.66231415],\n",
       "       ...,\n",
       "       [ 1.30084764, -0.3938165 , -1.41519186, ..., -0.54486529,\n",
       "        -0.93448836,  1.50985753],\n",
       "       [ 0.53431133,  0.08317431,  0.91198442, ..., -0.54486529,\n",
       "         1.07010429, -0.66231415],\n",
       "       [-1.11985056,  1.30282411,  1.1235459 , ..., -0.54486529,\n",
       "         1.07010429, -0.66231415]])"
      ]
     },
     "execution_count": 13,
     "metadata": {},
     "output_type": "execute_result"
    }
   ],
   "source": [
    "Xs_val"
   ]
  },
  {
   "cell_type": "markdown",
   "metadata": {
    "id": "Pinx2SaLRjBZ"
   },
   "source": [
    "## Functions for modeling evaluation"
   ]
  },
  {
   "cell_type": "code",
   "execution_count": 14,
   "metadata": {
    "ExecuteTime": {
     "end_time": "2022-06-10T00:36:58.299371Z",
     "start_time": "2022-06-10T00:36:58.286352Z"
    },
    "id": "ngbb--UjRjBa"
   },
   "outputs": [],
   "source": [
    "# Create a function to print data on the metrics\n",
    "def metrics(y_test, y_predict):\n",
    "    print('Accuracy score:', round(accuracy_score(y_val, y_predict), 4), '\\n')\n",
    "    print('ROC AUC score:', round(roc_auc_score(y_val, y_predict), 4), '\\n')\n",
    "    print('-----------------------------------------------------------------')\n",
    "    print(classification_report(y_val, y_predict))\n",
    "    print('-----------------------------------------------------------------')"
   ]
  },
  {
   "cell_type": "code",
   "execution_count": 15,
   "metadata": {
    "ExecuteTime": {
     "end_time": "2022-06-10T00:36:58.314374Z",
     "start_time": "2022-06-10T00:36:58.301353Z"
    },
    "id": "TqvmdHvlRjBa"
   },
   "outputs": [],
   "source": [
    "# Create a function to plot the confusion matrix\n",
    "def plot_confusion_matrix(y_val, y_predict):\n",
    "    cm = confusion_matrix(y_val, y_predict)\n",
    "    \n",
    "    # Modify the matrix to include the labels\n",
    "    modified_cm = []\n",
    "    for index, value in enumerate(cm):\n",
    "        if index == 0:\n",
    "            modified_cm.append(['TN = ' + str(value[0]), 'FP = ' + str(value[1])])\n",
    "        if index == 1:\n",
    "            modified_cm.append(['FN = ' + str(value[0]), 'TP = ' + str(value[1])])       \n",
    "    \n",
    "    # Print the matrix\n",
    "    plt.figure(figsize = (8, 8))\n",
    "    labels = ['WNV Non-Presence', 'WNV Presence']\n",
    "    sns.heatmap(cm, annot = np.array(modified_cm), cmap = 'Blues', fmt = \"\", \n",
    "                xticklabels = labels, yticklabels = labels)\n",
    "    plt.xlabel('Predicted Label')\n",
    "    plt.ylabel('True Label')\n",
    "    plt.title('Confusion matrix', fontsize = 16, fontweight = 'bold')\n",
    "    plt.tick_params(labelsize = 12)"
   ]
  },
  {
   "cell_type": "code",
   "execution_count": 16,
   "metadata": {
    "ExecuteTime": {
     "end_time": "2022-06-10T00:36:58.330378Z",
     "start_time": "2022-06-10T00:36:58.317359Z"
    },
    "id": "qVuJsgw4RjBb"
   },
   "outputs": [],
   "source": [
    "# Create a fuction to run and evaluate the model. Return the results for best model, best parameters and metrics\n",
    "def model_eval(pipe, params):\n",
    "\n",
    "    # Initialize gridsearch for the model based on parameters defined\n",
    "    gs = GridSearchCV(pipe, param_grid = params, cv = 5, scoring = 'roc_auc', verbose = 1, n_jobs = -1)\n",
    "\n",
    "    # Fit the model\n",
    "    gs.fit(X_train, y_train)\n",
    "\n",
    "    # Get the best parameters\n",
    "    best_params = gs.best_params_\n",
    "\n",
    "    # Get the best model\n",
    "    best_model = gs.best_estimator_\n",
    "\n",
    "    # Predict validation set\n",
    "    pred = best_model.predict(X_val)\n",
    "\n",
    "    # Metrics\n",
    "    metrics = {} # Create a dictionary to hold the metric data\n",
    "    train_pred_prob = best_model.predict_proba(X_train)[:,1]\n",
    "    val_pred_prob = best_model.predict_proba(X_val)[:,1]\n",
    "    tn, fp, fn, tp = confusion_matrix(y_val, pred).ravel()\n",
    "    precision = tp / (tp + fp)\n",
    "    recall = tp / (tp + fn)\n",
    "    metrics['roc_auc_train'] = round(roc_auc_score(y_train, train_pred_prob), 4)\n",
    "    metrics['roc_auc_val'] = round(roc_auc_score(y_val, val_pred_prob), 4)\n",
    "    metrics['f1_score'] = round((2 * recall * precision) / (recall + precision), 4)\n",
    "    metrics['precision'] = round(precision, 4)\n",
    "    metrics['sensitivity'] = round(recall, 4)\n",
    "    metrics['specificity'] = round(tn / (tn + fp), 4)\n",
    "    metrics['false_pos'] = fp\n",
    "    metrics['true_pos'] = tp\n",
    "    metrics['false_neg'] = fn\n",
    "    metrics['true_neg'] = tn\n",
    "    \n",
    "    # Plot Confusion Matrix\n",
    "    plot_confusion_matrix(y_val, pred)\n",
    "    plt.show()\n",
    "    \n",
    "    # Plot ROC graph\n",
    "    RocCurveDisplay.from_estimator(best_model, X_val, y_val)\n",
    "    plt.plot([0, 1], [0, 1], linestyle = '--', label = 'baseline')\n",
    "    plt.title('ROC Curve', fontsize = 16, fontweight = 'bold')\n",
    "    plt.ylabel('True Positive Rate')\n",
    "    plt.xlabel('False Positive Rate')\n",
    "    plt.legend(loc = 4)\n",
    "    plt.show()\n",
    " \n",
    "    return (best_model, best_params, metrics)"
   ]
  },
  {
   "cell_type": "markdown",
   "metadata": {
    "id": "qzXY4vnrRjBc"
   },
   "source": [
    "## Baseline model - Logistic Regression"
   ]
  },
  {
   "cell_type": "markdown",
   "metadata": {
    "id": "Hv8HpgT4RjBc"
   },
   "source": [
    "Logistic Regression is a common binary classification algorithm where it uses the weighted combination of the input features and passes them through a sigmoid function. Sigmoid function transforms any real number input, to a number between 0 and 1. It is also a simple algorithm and it iterates over the data until it converges. We will use this model as our baseline model."
   ]
  },
  {
   "cell_type": "code",
   "execution_count": 17,
   "metadata": {
    "ExecuteTime": {
     "end_time": "2022-06-10T00:36:58.392599Z",
     "start_time": "2022-06-10T00:36:58.332360Z"
    },
    "colab": {
     "base_uri": "https://localhost:8080/"
    },
    "executionInfo": {
     "elapsed": 229,
     "status": "ok",
     "timestamp": 1654765651869,
     "user": {
      "displayName": "Calvin Lim",
      "userId": "12406366410999313820"
     },
     "user_tz": -480
    },
    "id": "POGvWw9sRjBc",
    "outputId": "05d66348-fbab-4397-d679-e7a7a952e664"
   },
   "outputs": [],
   "source": [
    "# Instantiate, fit and predit using Logistic Regression model (Baseline model)\n",
    "lr = LogisticRegression()\n",
    "lr.fit(Xs_train, y_train)\n",
    "lr_preds = lr.predict(Xs_val)"
   ]
  },
  {
   "cell_type": "code",
   "execution_count": 18,
   "metadata": {
    "ExecuteTime": {
     "end_time": "2022-06-10T00:36:58.408395Z",
     "start_time": "2022-06-10T00:36:58.394375Z"
    },
    "colab": {
     "base_uri": "https://localhost:8080/"
    },
    "executionInfo": {
     "elapsed": 221,
     "status": "ok",
     "timestamp": 1654765651871,
     "user": {
      "displayName": "Calvin Lim",
      "userId": "12406366410999313820"
     },
     "user_tz": -480
    },
    "id": "NBjdgWxxRjBc",
    "outputId": "8dd70498-393d-41ce-e120-7fd82d5c216f"
   },
   "outputs": [
    {
     "name": "stdout",
     "output_type": "stream",
     "text": [
      "Accuracy score: 0.9561 \n",
      "\n",
      "ROC AUC score: 0.5 \n",
      "\n",
      "-----------------------------------------------------------------\n",
      "              precision    recall  f1-score   support\n",
      "\n",
      "           0       0.96      1.00      0.98      2026\n",
      "           1       0.00      0.00      0.00        93\n",
      "\n",
      "    accuracy                           0.96      2119\n",
      "   macro avg       0.48      0.50      0.49      2119\n",
      "weighted avg       0.91      0.96      0.93      2119\n",
      "\n",
      "-----------------------------------------------------------------\n"
     ]
    }
   ],
   "source": [
    "metrics(y_val, lr_preds)"
   ]
  },
  {
   "cell_type": "markdown",
   "metadata": {
    "id": "-jLfRZMmRjBd"
   },
   "source": [
    "- The accuracy score is high (95.6%) but the ROC score is low (0.5). The precision and recall score is 0 as there is no predicted samples due to an imbalanced dataset. This shows the model does not accurately predict the target 1 correctly with the dataset because the model is biased and predicts the target 0 for every sample. \n",
    "- In order to handle the imbalanced dataset, we will adopt the Synthetic Minority Oversampling Technique (SMOTE)."
   ]
  },
  {
   "cell_type": "markdown",
   "metadata": {
    "id": "uBC3zhMDRjBd"
   },
   "source": [
    "### Synthetic Minority Oversampling Technique (SMOTE)"
   ]
  },
  {
   "cell_type": "markdown",
   "metadata": {
    "id": "vB9SqNvgRjBd"
   },
   "source": [
    "SMOTE is one of the methods used to handle imbalanced dataset. This approach works by first finding its k nearest neighbour in the minority class neigbours and create synthetic samples at selecting examples that are close to it and connect the 2 points and drawing a new sample at a point along that line. "
   ]
  },
  {
   "cell_type": "code",
   "execution_count": 19,
   "metadata": {
    "ExecuteTime": {
     "end_time": "2022-06-10T00:36:58.439384Z",
     "start_time": "2022-06-10T00:36:58.410379Z"
    },
    "id": "ajrst0gIRjBe"
   },
   "outputs": [],
   "source": [
    "# Create synthetic data for train set using SMOTE\n",
    "sm = SMOTE(random_state = 123)\n",
    "Xsm_train, ysm_train = sm.fit_resample(Xs_train, y_train)"
   ]
  },
  {
   "cell_type": "code",
   "execution_count": 20,
   "metadata": {
    "ExecuteTime": {
     "end_time": "2022-06-10T00:36:58.455387Z",
     "start_time": "2022-06-10T00:36:58.440385Z"
    },
    "colab": {
     "base_uri": "https://localhost:8080/"
    },
    "executionInfo": {
     "elapsed": 158,
     "status": "ok",
     "timestamp": 1654765651873,
     "user": {
      "displayName": "Calvin Lim",
      "userId": "12406366410999313820"
     },
     "user_tz": -480
    },
    "id": "8-L3q4RkRjBe",
    "outputId": "4a496603-aa73-4f81-b2c1-4c0978619a3e"
   },
   "outputs": [
    {
     "name": "stdout",
     "output_type": "stream",
     "text": [
      "(12158, 28) (12158,)\n"
     ]
    }
   ],
   "source": [
    "# Check the shape of train dataset after smoting\n",
    "print(Xsm_train.shape, ysm_train.shape)"
   ]
  },
  {
   "cell_type": "code",
   "execution_count": 21,
   "metadata": {
    "ExecuteTime": {
     "end_time": "2022-06-10T00:36:58.470390Z",
     "start_time": "2022-06-10T00:36:58.456389Z"
    },
    "colab": {
     "base_uri": "https://localhost:8080/"
    },
    "executionInfo": {
     "elapsed": 146,
     "status": "ok",
     "timestamp": 1654765651874,
     "user": {
      "displayName": "Calvin Lim",
      "userId": "12406366410999313820"
     },
     "user_tz": -480
    },
    "id": "D00vfK3bRjBe",
    "outputId": "c69634fa-980a-4c91-f1b2-a6b30ad6070d"
   },
   "outputs": [
    {
     "name": "stdout",
     "output_type": "stream",
     "text": [
      "0    6079\n",
      "1    6079\n",
      "Name: WnvPresent, dtype: int64\n"
     ]
    }
   ],
   "source": [
    "# Confirm if the dataset has been balanced\n",
    "print(pd.Series(ysm_train).value_counts())"
   ]
  },
  {
   "cell_type": "markdown",
   "metadata": {
    "id": "xJ4jT7-ERjBf"
   },
   "source": [
    "The number of data increased to 12,158 instead of the initial 6,356 after smoting."
   ]
  },
  {
   "cell_type": "code",
   "execution_count": 22,
   "metadata": {
    "ExecuteTime": {
     "end_time": "2022-06-10T00:36:58.597900Z",
     "start_time": "2022-06-10T00:36:58.471391Z"
    },
    "colab": {
     "base_uri": "https://localhost:8080/"
    },
    "executionInfo": {
     "elapsed": 787,
     "status": "ok",
     "timestamp": 1654765652523,
     "user": {
      "displayName": "Calvin Lim",
      "userId": "12406366410999313820"
     },
     "user_tz": -480
    },
    "id": "vCHARaGXRjBf",
    "outputId": "2d339ef9-5743-4512-be6a-d64ff881d5b2"
   },
   "outputs": [],
   "source": [
    "# Fit and predict using Logistic Regression model with the SMOTE dataset\n",
    "lr.fit(Xsm_train, ysm_train)\n",
    "lr_preds_2 = lr.predict(Xs_val)"
   ]
  },
  {
   "cell_type": "code",
   "execution_count": 23,
   "metadata": {
    "ExecuteTime": {
     "end_time": "2022-06-10T00:36:58.613901Z",
     "start_time": "2022-06-10T00:36:58.598900Z"
    },
    "colab": {
     "base_uri": "https://localhost:8080/"
    },
    "executionInfo": {
     "elapsed": 74,
     "status": "ok",
     "timestamp": 1654765652525,
     "user": {
      "displayName": "Calvin Lim",
      "userId": "12406366410999313820"
     },
     "user_tz": -480
    },
    "id": "NC0FyTmzQ6EA",
    "outputId": "edf5d0e2-f2a2-4cad-bce8-6538b308fc42"
   },
   "outputs": [
    {
     "data": {
      "text/plain": [
       "0.7872182924823161"
      ]
     },
     "execution_count": 23,
     "metadata": {},
     "output_type": "execute_result"
    }
   ],
   "source": [
    "# Print the score\n",
    "lr.score(Xsm_train, ysm_train)"
   ]
  },
  {
   "cell_type": "code",
   "execution_count": 24,
   "metadata": {
    "ExecuteTime": {
     "end_time": "2022-06-10T00:36:58.628979Z",
     "start_time": "2022-06-10T00:36:58.614902Z"
    },
    "colab": {
     "base_uri": "https://localhost:8080/"
    },
    "executionInfo": {
     "elapsed": 63,
     "status": "ok",
     "timestamp": 1654765652526,
     "user": {
      "displayName": "Calvin Lim",
      "userId": "12406366410999313820"
     },
     "user_tz": -480
    },
    "id": "tlkks__aRjBf",
    "outputId": "649af2f2-e2fe-42bb-97e7-f100f539b5a5"
   },
   "outputs": [
    {
     "name": "stdout",
     "output_type": "stream",
     "text": [
      "Accuracy score: 0.7112 \n",
      "\n",
      "ROC AUC score: 0.7771 \n",
      "\n",
      "-----------------------------------------------------------------\n",
      "              precision    recall  f1-score   support\n",
      "\n",
      "           0       0.99      0.70      0.82      2026\n",
      "           1       0.12      0.85      0.21        93\n",
      "\n",
      "    accuracy                           0.71      2119\n",
      "   macro avg       0.55      0.78      0.51      2119\n",
      "weighted avg       0.95      0.71      0.80      2119\n",
      "\n",
      "-----------------------------------------------------------------\n"
     ]
    }
   ],
   "source": [
    "# Print the metrics\n",
    "metrics(y_val, lr_preds_2)"
   ]
  },
  {
   "cell_type": "markdown",
   "metadata": {
    "id": "icNARTxZRjBf"
   },
   "source": [
    "- The ROC score has improved to 0.7771. This shows the SMOTE is effective in handling the imbalanced dataset.\n",
    "- We will tune the hyperparameter to see if the score will improve further."
   ]
  },
  {
   "cell_type": "markdown",
   "metadata": {
    "id": "h0kFvqaERjBg"
   },
   "source": [
    "### Logistic Regression Hyperparameter Tuning"
   ]
  },
  {
   "cell_type": "code",
   "execution_count": 25,
   "metadata": {
    "ExecuteTime": {
     "end_time": "2022-06-10T00:36:58.644710Z",
     "start_time": "2022-06-10T00:36:58.630980Z"
    },
    "id": "4dqiinIyRjBg"
   },
   "outputs": [],
   "source": [
    "# Set up a pipeline:\n",
    "# 1. Standard scaling\n",
    "# 2. SMOTE sampling\n",
    "# 3. Logistic Regression\n",
    "\n",
    "lr_pipe = Pipeline([\n",
    "        ('scale', StandardScaler()),\n",
    "        ('sampling', SMOTE()),\n",
    "        ('lr', LogisticRegression(solver = 'liblinear'))\n",
    "    ])"
   ]
  },
  {
   "cell_type": "code",
   "execution_count": 26,
   "metadata": {
    "ExecuteTime": {
     "end_time": "2022-06-10T00:36:58.660717Z",
     "start_time": "2022-06-10T00:36:58.646712Z"
    },
    "id": "KFSJOqe9RjBg"
   },
   "outputs": [],
   "source": [
    "# Set up hyperparameters tuning                    (Refer to comments for original parameters)\n",
    "lr_params = {\n",
    "    'sampling__sampling_strategy': ['minority'],   # ['auto', 'minority']\n",
    "    'sampling__k_neighbors': [2],                  # [2, 3, 5]\n",
    "    'lr__C': [1],                                  # [0.1, 0.3, 0.5, 1]\n",
    "    'lr__penalty': ['l1']                          # ['l1','l2']\n",
    "}"
   ]
  },
  {
   "cell_type": "code",
   "execution_count": 27,
   "metadata": {
    "ExecuteTime": {
     "end_time": "2022-06-10T00:37:14.930023Z",
     "start_time": "2022-06-10T00:36:58.662715Z"
    },
    "colab": {
     "base_uri": "https://localhost:8080/",
     "height": 1000
    },
    "executionInfo": {
     "elapsed": 172396,
     "status": "ok",
     "timestamp": 1654765824871,
     "user": {
      "displayName": "Calvin Lim",
      "userId": "12406366410999313820"
     },
     "user_tz": -480
    },
    "id": "SycyGmbyRjBg",
    "outputId": "4ea18894-bb2e-46de-d84a-01a54ea108ee"
   },
   "outputs": [
    {
     "name": "stdout",
     "output_type": "stream",
     "text": [
      "Fitting 5 folds for each of 1 candidates, totalling 5 fits\n"
     ]
    },
    {
     "data": {
      "image/png": "[encoded data removed]",
      "text/plain": [
       "<Figure size 576x576 with 2 Axes>"
      ]
     },
     "metadata": {
      "needs_background": "light"
     },
     "output_type": "display_data"
    },
    {
     "data": {
      "image/png": "[encoded data removed]",
      "text/plain": [
       "<Figure size 432x288 with 1 Axes>"
      ]
     },
     "metadata": {
      "needs_background": "light"
     },
     "output_type": "display_data"
    },
    {
     "name": "stdout",
     "output_type": "stream",
     "text": [
      "{'lr__C': 1, 'lr__penalty': 'l1', 'sampling__k_neighbors': 2, 'sampling__sampling_strategy': 'minority'}\n"
     ]
    },
    {
     "data": {
      "text/html": [
       "<div>\n",
       "<style scoped>\n",
       "    .dataframe tbody tr th:only-of-type {\n",
       "        vertical-align: middle;\n",
       "    }\n",
       "\n",
       "    .dataframe tbody tr th {\n",
       "        vertical-align: top;\n",
       "    }\n",
       "\n",
       "    .dataframe thead th {\n",
       "        text-align: right;\n",
       "    }\n",
       "</style>\n",
       "<table border=\"1\" class=\"dataframe\">\n",
       "  <thead>\n",
       "    <tr style=\"text-align: right;\">\n",
       "      <th></th>\n",
       "      <th>Logistic Regression</th>\n",
       "    </tr>\n",
       "  </thead>\n",
       "  <tbody>\n",
       "    <tr>\n",
       "      <th>roc_auc_train</th>\n",
       "      <td>0.8385</td>\n",
       "    </tr>\n",
       "    <tr>\n",
       "      <th>roc_auc_val</th>\n",
       "      <td>0.8574</td>\n",
       "    </tr>\n",
       "    <tr>\n",
       "      <th>f1_score</th>\n",
       "      <td>0.2092</td>\n",
       "    </tr>\n",
       "    <tr>\n",
       "      <th>precision</th>\n",
       "      <td>0.1187</td>\n",
       "    </tr>\n",
       "    <tr>\n",
       "      <th>sensitivity</th>\n",
       "      <td>0.8817</td>\n",
       "    </tr>\n",
       "    <tr>\n",
       "      <th>specificity</th>\n",
       "      <td>0.6994</td>\n",
       "    </tr>\n",
       "    <tr>\n",
       "      <th>false_pos</th>\n",
       "      <td>609.0000</td>\n",
       "    </tr>\n",
       "    <tr>\n",
       "      <th>true_pos</th>\n",
       "      <td>82.0000</td>\n",
       "    </tr>\n",
       "    <tr>\n",
       "      <th>false_neg</th>\n",
       "      <td>11.0000</td>\n",
       "    </tr>\n",
       "    <tr>\n",
       "      <th>true_neg</th>\n",
       "      <td>1417.0000</td>\n",
       "    </tr>\n",
       "  </tbody>\n",
       "</table>\n",
       "</div>"
      ],
      "text/plain": [
       "               Logistic Regression\n",
       "roc_auc_train               0.8385\n",
       "roc_auc_val                 0.8574\n",
       "f1_score                    0.2092\n",
       "precision                   0.1187\n",
       "sensitivity                 0.8817\n",
       "specificity                 0.6994\n",
       "false_pos                 609.0000\n",
       "true_pos                   82.0000\n",
       "false_neg                  11.0000\n",
       "true_neg                 1417.0000"
      ]
     },
     "execution_count": 27,
     "metadata": {},
     "output_type": "execute_result"
    }
   ],
   "source": [
    "# Run the logistic regression model\n",
    "best_model_lr, best_params_lr, metrics_lr = model_eval(lr_pipe, lr_params)\n",
    "print(best_params_lr)\n",
    "\n",
    "# Convert metrics result to dataframe\n",
    "lr_df = pd.DataFrame.from_dict(metrics_lr, orient = 'index', columns = ['Logistic Regression'])\n",
    "lr_df"
   ]
  },
  {
   "cell_type": "markdown",
   "metadata": {
    "id": "cjTgUYqFRjBh"
   },
   "source": [
    "With hyperparameter tuning, the ROC AUC score has further improved to 0.8574."
   ]
  },
  {
   "cell_type": "markdown",
   "metadata": {
    "id": "czCawOhaRjBh"
   },
   "source": [
    "## Random Forest Model"
   ]
  },
  {
   "cell_type": "markdown",
   "metadata": {
    "id": "dDHaoHbURjBh"
   },
   "source": [
    "Random Forest is another supervised learning algorithm that can be used for classification. As the name suggests, this algorithm creates multiple decision trees on randomly selected samples and get prediction from each tree. Each tree will have equal votes and tree with the most votes is chosen as the final result."
   ]
  },
  {
   "cell_type": "code",
   "execution_count": 28,
   "metadata": {
    "ExecuteTime": {
     "end_time": "2022-06-10T00:37:14.945030Z",
     "start_time": "2022-06-10T00:37:14.935026Z"
    },
    "id": "dmeY6FQjRjBh"
   },
   "outputs": [],
   "source": [
    "# Set up a pipeline:\n",
    "# 1. Standard scaling\n",
    "# 2. SMOTE sampling\n",
    "# 3. Random Forest\n",
    "\n",
    "rf_pipe = Pipeline([\n",
    "        ('scale', StandardScaler()),\n",
    "        ('sampling', SMOTE()),\n",
    "        ('rf', RandomForestClassifier())\n",
    "    ])"
   ]
  },
  {
   "cell_type": "code",
   "execution_count": 29,
   "metadata": {
    "ExecuteTime": {
     "end_time": "2022-06-10T00:37:14.961021Z",
     "start_time": "2022-06-10T00:37:14.947019Z"
    },
    "id": "VtqOX3PFRjBh"
   },
   "outputs": [],
   "source": [
    "# Set up hyperparameters tuning                    (Refer to comments for original parameters)\n",
    "rf_params = {\n",
    "    'sampling__sampling_strategy': ['minority'],   # ['not minority']\n",
    "    'sampling__k_neighbors': [3],                  # range(2, 5)\n",
    "    'rf__n_estimators':[175],                      # range(150, 250, 25)\n",
    "    'rf__max_depth':[10],                          # range(4, 11)\n",
    "    'rf__min_samples_leaf': [16],                  # range(4, 20, 2)\n",
    "    'rf__random_state':[123]                       # [123]\n",
    "}"
   ]
  },
  {
   "cell_type": "code",
   "execution_count": 30,
   "metadata": {
    "ExecuteTime": {
     "end_time": "2022-06-10T00:37:19.715142Z",
     "start_time": "2022-06-10T00:37:14.963022Z"
    },
    "colab": {
     "base_uri": "https://localhost:8080/",
     "height": 1000
    },
    "executionInfo": {
     "elapsed": 9286,
     "status": "ok",
     "timestamp": 1654765834116,
     "user": {
      "displayName": "Calvin Lim",
      "userId": "12406366410999313820"
     },
     "user_tz": -480
    },
    "id": "x8dflGhoRjBi",
    "outputId": "716de48b-11a4-4600-a211-663ace3dc412"
   },
   "outputs": [
    {
     "name": "stdout",
     "output_type": "stream",
     "text": [
      "Fitting 5 folds for each of 1 candidates, totalling 5 fits\n"
     ]
    },
    {
     "data": {
      "image/png": "[encoded data removed]",
      "text/plain": [
       "<Figure size 576x576 with 2 Axes>"
      ]
     },
     "metadata": {
      "needs_background": "light"
     },
     "output_type": "display_data"
    },
    {
     "data": {
      "image/png": "[encoded data removed]",
      "text/plain": [
       "<Figure size 432x288 with 1 Axes>"
      ]
     },
     "metadata": {
      "needs_background": "light"
     },
     "output_type": "display_data"
    },
    {
     "name": "stdout",
     "output_type": "stream",
     "text": [
      "{'rf__max_depth': 10, 'rf__min_samples_leaf': 16, 'rf__n_estimators': 175, 'rf__random_state': 123, 'sampling__k_neighbors': 3, 'sampling__sampling_strategy': 'minority'}\n"
     ]
    },
    {
     "data": {
      "text/html": [
       "<div>\n",
       "<style scoped>\n",
       "    .dataframe tbody tr th:only-of-type {\n",
       "        vertical-align: middle;\n",
       "    }\n",
       "\n",
       "    .dataframe tbody tr th {\n",
       "        vertical-align: top;\n",
       "    }\n",
       "\n",
       "    .dataframe thead th {\n",
       "        text-align: right;\n",
       "    }\n",
       "</style>\n",
       "<table border=\"1\" class=\"dataframe\">\n",
       "  <thead>\n",
       "    <tr style=\"text-align: right;\">\n",
       "      <th></th>\n",
       "      <th>Random Forest</th>\n",
       "    </tr>\n",
       "  </thead>\n",
       "  <tbody>\n",
       "    <tr>\n",
       "      <th>roc_auc_train</th>\n",
       "      <td>0.9177</td>\n",
       "    </tr>\n",
       "    <tr>\n",
       "      <th>roc_auc_val</th>\n",
       "      <td>0.8781</td>\n",
       "    </tr>\n",
       "    <tr>\n",
       "      <th>f1_score</th>\n",
       "      <td>0.2966</td>\n",
       "    </tr>\n",
       "    <tr>\n",
       "      <th>precision</th>\n",
       "      <td>0.1847</td>\n",
       "    </tr>\n",
       "    <tr>\n",
       "      <th>sensitivity</th>\n",
       "      <td>0.7527</td>\n",
       "    </tr>\n",
       "    <tr>\n",
       "      <th>specificity</th>\n",
       "      <td>0.8475</td>\n",
       "    </tr>\n",
       "    <tr>\n",
       "      <th>false_pos</th>\n",
       "      <td>309.0000</td>\n",
       "    </tr>\n",
       "    <tr>\n",
       "      <th>true_pos</th>\n",
       "      <td>70.0000</td>\n",
       "    </tr>\n",
       "    <tr>\n",
       "      <th>false_neg</th>\n",
       "      <td>23.0000</td>\n",
       "    </tr>\n",
       "    <tr>\n",
       "      <th>true_neg</th>\n",
       "      <td>1717.0000</td>\n",
       "    </tr>\n",
       "  </tbody>\n",
       "</table>\n",
       "</div>"
      ],
      "text/plain": [
       "               Random Forest\n",
       "roc_auc_train         0.9177\n",
       "roc_auc_val           0.8781\n",
       "f1_score              0.2966\n",
       "precision             0.1847\n",
       "sensitivity           0.7527\n",
       "specificity           0.8475\n",
       "false_pos           309.0000\n",
       "true_pos             70.0000\n",
       "false_neg            23.0000\n",
       "true_neg           1717.0000"
      ]
     },
     "execution_count": 30,
     "metadata": {},
     "output_type": "execute_result"
    }
   ],
   "source": [
    "# Run the random forest model \n",
    "best_model_rf, best_params_rf, metrics_rf = model_eval(rf_pipe, rf_params)\n",
    "print(best_params_rf)\n",
    "\n",
    "# Convert metrics result to dataframe\n",
    "rf_df = pd.DataFrame.from_dict(metrics_rf, orient = 'index', columns = ['Random Forest'])\n",
    "rf_df"
   ]
  },
  {
   "cell_type": "markdown",
   "metadata": {
    "id": "3rMtzOrqRjBi"
   },
   "source": [
    "## AdaBoost Model"
   ]
  },
  {
   "cell_type": "markdown",
   "metadata": {
    "id": "d9MTP3yzRjBi"
   },
   "source": [
    "AdaBoost is a boosting ensemble model that works well with the decision tree. This model learns the previous misclassified data and increase the weight of the misclassification for the next model. The process iterates until the specified maximum number of estimators is reached or it has no error. The final model is a combination of all the learning algorithms built."
   ]
  },
  {
   "cell_type": "code",
   "execution_count": 31,
   "metadata": {
    "ExecuteTime": {
     "end_time": "2022-06-10T00:37:19.730507Z",
     "start_time": "2022-06-10T00:37:19.717150Z"
    },
    "id": "r3K-nIa7RjBj"
   },
   "outputs": [],
   "source": [
    "# Set up a pipeline:\n",
    "# 1. Standard scaling\n",
    "# 2. SMOTE sampling\n",
    "# 3. Ada Boost\n",
    "\n",
    "ada_pipe = Pipeline([\n",
    "        ('scale', StandardScaler()),\n",
    "        ('sampling', SMOTE()),\n",
    "        ('ada', AdaBoostClassifier())\n",
    "    ])"
   ]
  },
  {
   "cell_type": "code",
   "execution_count": 32,
   "metadata": {
    "ExecuteTime": {
     "end_time": "2022-06-10T00:37:19.745669Z",
     "start_time": "2022-06-10T00:37:19.733657Z"
    },
    "id": "K_KDlHg_RjBj"
   },
   "outputs": [],
   "source": [
    "# Set up hyperparameters tuning                             (Refer to comments for original parameters)\n",
    "ada_params = {\n",
    "    'sampling__sampling_strategy': ['minority'],            # ['auto', 'minority']\n",
    "    'sampling__k_neighbors': [5],                           # [2, 3, 5]\n",
    "    'ada__learning_rate': [0.5],                            # [0.1, 0.25, 0.5] \n",
    "    'ada__n_estimators': [200],                             # [100, 150, 200]\n",
    "    'ada__random_state': [123]                              # [123]\n",
    "}"
   ]
  },
  {
   "cell_type": "code",
   "execution_count": 33,
   "metadata": {
    "ExecuteTime": {
     "end_time": "2022-06-10T00:37:26.436796Z",
     "start_time": "2022-06-10T00:37:19.747655Z"
    },
    "colab": {
     "base_uri": "https://localhost:8080/",
     "height": 1000
    },
    "executionInfo": {
     "elapsed": 14982,
     "status": "ok",
     "timestamp": 1654765849078,
     "user": {
      "displayName": "Calvin Lim",
      "userId": "12406366410999313820"
     },
     "user_tz": -480
    },
    "id": "2nj4Pr9YRjBj",
    "outputId": "b50fa08f-f858-443f-c6f7-e512ba79f05e"
   },
   "outputs": [
    {
     "name": "stdout",
     "output_type": "stream",
     "text": [
      "Fitting 5 folds for each of 1 candidates, totalling 5 fits\n"
     ]
    },
    {
     "data": {
      "image/png": "[encoded data removed]",
      "text/plain": [
       "<Figure size 576x576 with 2 Axes>"
      ]
     },
     "metadata": {
      "needs_background": "light"
     },
     "output_type": "display_data"
    },
    {
     "data": {
      "image/png": "[encoded data removed]",
      "text/plain": [
       "<Figure size 432x288 with 1 Axes>"
      ]
     },
     "metadata": {
      "needs_background": "light"
     },
     "output_type": "display_data"
    },
    {
     "name": "stdout",
     "output_type": "stream",
     "text": [
      "{'ada__learning_rate': 0.5, 'ada__n_estimators': 200, 'ada__random_state': 123, 'sampling__k_neighbors': 5, 'sampling__sampling_strategy': 'minority'}\n"
     ]
    },
    {
     "data": {
      "text/html": [
       "<div>\n",
       "<style scoped>\n",
       "    .dataframe tbody tr th:only-of-type {\n",
       "        vertical-align: middle;\n",
       "    }\n",
       "\n",
       "    .dataframe tbody tr th {\n",
       "        vertical-align: top;\n",
       "    }\n",
       "\n",
       "    .dataframe thead th {\n",
       "        text-align: right;\n",
       "    }\n",
       "</style>\n",
       "<table border=\"1\" class=\"dataframe\">\n",
       "  <thead>\n",
       "    <tr style=\"text-align: right;\">\n",
       "      <th></th>\n",
       "      <th>Ada Boost</th>\n",
       "    </tr>\n",
       "  </thead>\n",
       "  <tbody>\n",
       "    <tr>\n",
       "      <th>roc_auc_train</th>\n",
       "      <td>0.8771</td>\n",
       "    </tr>\n",
       "    <tr>\n",
       "      <th>roc_auc_val</th>\n",
       "      <td>0.8781</td>\n",
       "    </tr>\n",
       "    <tr>\n",
       "      <th>f1_score</th>\n",
       "      <td>0.3107</td>\n",
       "    </tr>\n",
       "    <tr>\n",
       "      <th>precision</th>\n",
       "      <td>0.1951</td>\n",
       "    </tr>\n",
       "    <tr>\n",
       "      <th>sensitivity</th>\n",
       "      <td>0.7634</td>\n",
       "    </tr>\n",
       "    <tr>\n",
       "      <th>specificity</th>\n",
       "      <td>0.8554</td>\n",
       "    </tr>\n",
       "    <tr>\n",
       "      <th>false_pos</th>\n",
       "      <td>293.0000</td>\n",
       "    </tr>\n",
       "    <tr>\n",
       "      <th>true_pos</th>\n",
       "      <td>71.0000</td>\n",
       "    </tr>\n",
       "    <tr>\n",
       "      <th>false_neg</th>\n",
       "      <td>22.0000</td>\n",
       "    </tr>\n",
       "    <tr>\n",
       "      <th>true_neg</th>\n",
       "      <td>1733.0000</td>\n",
       "    </tr>\n",
       "  </tbody>\n",
       "</table>\n",
       "</div>"
      ],
      "text/plain": [
       "               Ada Boost\n",
       "roc_auc_train     0.8771\n",
       "roc_auc_val       0.8781\n",
       "f1_score          0.3107\n",
       "precision         0.1951\n",
       "sensitivity       0.7634\n",
       "specificity       0.8554\n",
       "false_pos       293.0000\n",
       "true_pos         71.0000\n",
       "false_neg        22.0000\n",
       "true_neg       1733.0000"
      ]
     },
     "execution_count": 33,
     "metadata": {},
     "output_type": "execute_result"
    }
   ],
   "source": [
    "# Run ada boost model\n",
    "best_model_ada, best_params_ada, metrics_ada = model_eval(ada_pipe, ada_params)\n",
    "print(best_params_ada)\n",
    "\n",
    "# Convert metrics result to dataframe\n",
    "ada_df = pd.DataFrame.from_dict(metrics_ada, orient = 'index', columns = ['Ada Boost'])\n",
    "ada_df"
   ]
  },
  {
   "cell_type": "markdown",
   "metadata": {
    "id": "7vpezGgiRjBj"
   },
   "source": [
    "## Gradient Boost Model"
   ]
  },
  {
   "cell_type": "markdown",
   "metadata": {
    "id": "Ra8Y8oVdRjBk"
   },
   "source": [
    "Gradient Boost is another boosting ensemble model that takes an iterative approach to combining weak learners to create a strong learner by focusing on mistakes of prior iterations. For Gradient Boost, all the models are weighed equally and their predictive capacity is restricted with learning rate to increase accuracy. "
   ]
  },
  {
   "cell_type": "code",
   "execution_count": 34,
   "metadata": {
    "ExecuteTime": {
     "end_time": "2022-06-10T00:37:26.451834Z",
     "start_time": "2022-06-10T00:37:26.438797Z"
    },
    "id": "ZwFJaybRRjBl"
   },
   "outputs": [],
   "source": [
    "# Set up a pipeline:\n",
    "# 1. Standard scaling\n",
    "# 2. SMOTE sampling\n",
    "# 3. Gradient Boost\n",
    "\n",
    "gb_pipe = Pipeline([\n",
    "        ('scale', StandardScaler()),\n",
    "        ('sampling', SMOTE()),\n",
    "        ('gb', GradientBoostingClassifier())\n",
    "    ])"
   ]
  },
  {
   "cell_type": "code",
   "execution_count": 35,
   "metadata": {
    "ExecuteTime": {
     "end_time": "2022-06-10T00:37:26.467843Z",
     "start_time": "2022-06-10T00:37:26.454825Z"
    },
    "id": "oCVRmJ5WRjBl"
   },
   "outputs": [],
   "source": [
    "# Set up hyperparameters tuning               (Refer to comments for original parameters)\n",
    "gb_params = {\n",
    "    'sampling__sampling_strategy': ['auto'],  # ['auto', 'minority']                  \n",
    "    'sampling__k_neighbors': [5],             # [2, 3, 5]\n",
    "    'gb__learning_rate': [0.1],               # [0.1, 0.25, 0.5]              \n",
    "    'gb__n_estimators': [150],                # [100, 150, 200, 300]\n",
    "    'gb__max_depth': [3],                     # [3, 5, 7]\n",
    "    'gb__random_state': [123]                 # [123]\n",
    "}"
   ]
  },
  {
   "cell_type": "code",
   "execution_count": 36,
   "metadata": {
    "ExecuteTime": {
     "end_time": "2022-06-10T00:37:34.548941Z",
     "start_time": "2022-06-10T00:37:26.469826Z"
    },
    "colab": {
     "base_uri": "https://localhost:8080/",
     "height": 1000
    },
    "executionInfo": {
     "elapsed": 22205,
     "status": "ok",
     "timestamp": 1654765871264,
     "user": {
      "displayName": "Calvin Lim",
      "userId": "12406366410999313820"
     },
     "user_tz": -480
    },
    "id": "htfhOB5CRjBl",
    "outputId": "1f257146-a42d-4107-bfbc-7614edf945d7"
   },
   "outputs": [
    {
     "name": "stdout",
     "output_type": "stream",
     "text": [
      "Fitting 5 folds for each of 1 candidates, totalling 5 fits\n"
     ]
    },
    {
     "data": {
      "image/png": "[encoded data removed]",
      "text/plain": [
       "<Figure size 576x576 with 2 Axes>"
      ]
     },
     "metadata": {
      "needs_background": "light"
     },
     "output_type": "display_data"
    },
    {
     "data": {
      "image/png": "[encoded data removed]",
      "text/plain": [
       "<Figure size 432x288 with 1 Axes>"
      ]
     },
     "metadata": {
      "needs_background": "light"
     },
     "output_type": "display_data"
    },
    {
     "name": "stdout",
     "output_type": "stream",
     "text": [
      "{'gb__learning_rate': 0.1, 'gb__max_depth': 3, 'gb__n_estimators': 150, 'gb__random_state': 123, 'sampling__k_neighbors': 5, 'sampling__sampling_strategy': 'auto'}\n"
     ]
    },
    {
     "data": {
      "text/html": [
       "<div>\n",
       "<style scoped>\n",
       "    .dataframe tbody tr th:only-of-type {\n",
       "        vertical-align: middle;\n",
       "    }\n",
       "\n",
       "    .dataframe tbody tr th {\n",
       "        vertical-align: top;\n",
       "    }\n",
       "\n",
       "    .dataframe thead th {\n",
       "        text-align: right;\n",
       "    }\n",
       "</style>\n",
       "<table border=\"1\" class=\"dataframe\">\n",
       "  <thead>\n",
       "    <tr style=\"text-align: right;\">\n",
       "      <th></th>\n",
       "      <th>Gradient Boost</th>\n",
       "    </tr>\n",
       "  </thead>\n",
       "  <tbody>\n",
       "    <tr>\n",
       "      <th>roc_auc_train</th>\n",
       "      <td>0.9072</td>\n",
       "    </tr>\n",
       "    <tr>\n",
       "      <th>roc_auc_val</th>\n",
       "      <td>0.8737</td>\n",
       "    </tr>\n",
       "    <tr>\n",
       "      <th>f1_score</th>\n",
       "      <td>0.3388</td>\n",
       "    </tr>\n",
       "    <tr>\n",
       "      <th>precision</th>\n",
       "      <td>0.2271</td>\n",
       "    </tr>\n",
       "    <tr>\n",
       "      <th>sensitivity</th>\n",
       "      <td>0.6667</td>\n",
       "    </tr>\n",
       "    <tr>\n",
       "      <th>specificity</th>\n",
       "      <td>0.8959</td>\n",
       "    </tr>\n",
       "    <tr>\n",
       "      <th>false_pos</th>\n",
       "      <td>211.0000</td>\n",
       "    </tr>\n",
       "    <tr>\n",
       "      <th>true_pos</th>\n",
       "      <td>62.0000</td>\n",
       "    </tr>\n",
       "    <tr>\n",
       "      <th>false_neg</th>\n",
       "      <td>31.0000</td>\n",
       "    </tr>\n",
       "    <tr>\n",
       "      <th>true_neg</th>\n",
       "      <td>1815.0000</td>\n",
       "    </tr>\n",
       "  </tbody>\n",
       "</table>\n",
       "</div>"
      ],
      "text/plain": [
       "               Gradient Boost\n",
       "roc_auc_train          0.9072\n",
       "roc_auc_val            0.8737\n",
       "f1_score               0.3388\n",
       "precision              0.2271\n",
       "sensitivity            0.6667\n",
       "specificity            0.8959\n",
       "false_pos            211.0000\n",
       "true_pos              62.0000\n",
       "false_neg             31.0000\n",
       "true_neg            1815.0000"
      ]
     },
     "execution_count": 36,
     "metadata": {},
     "output_type": "execute_result"
    }
   ],
   "source": [
    "# Run the gradient boost model\n",
    "best_model_gb, best_params_gb, metrics_gb = model_eval(gb_pipe, gb_params)\n",
    "print(best_params_gb)\n",
    "\n",
    "# Convert metrics result to dataframe\n",
    "gb_df = pd.DataFrame.from_dict(metrics_gb, orient = 'index', columns = ['Gradient Boost'])\n",
    "gb_df"
   ]
  },
  {
   "cell_type": "markdown",
   "metadata": {
    "id": "UrEhPwGuRjBl"
   },
   "source": [
    "## XGBoost Model"
   ]
  },
  {
   "cell_type": "markdown",
   "metadata": {
    "id": "E595aOhqo3sA"
   },
   "source": [
    "XGBoost, also known as eXtreme Gradient Boosting, is an implementation of gradient boosted decision trees designed for speed and performance. Similar to Gradient Boosting, it is an ensemble tree method that applies the principle of boosting weak learners using the gradient descent architecture. "
   ]
  },
  {
   "cell_type": "code",
   "execution_count": 37,
   "metadata": {
    "ExecuteTime": {
     "end_time": "2022-06-10T00:37:34.563958Z",
     "start_time": "2022-06-10T00:37:34.550950Z"
    },
    "id": "JH0kAsXoRjBm"
   },
   "outputs": [],
   "source": [
    "# Set up a pipeline:\n",
    "# 1. Standard scaling\n",
    "# 2. SMOTE sampling\n",
    "# 3. XG Boost\n",
    "\n",
    "xgb_pipe = Pipeline([\n",
    "        ('scale', StandardScaler()),\n",
    "        ('sampling', SMOTE(random_state = 123, sampling_strategy = 'minority')),\n",
    "        ('xgb', XGBClassifier(objective = 'binary:logistic',\n",
    "                              scale_pos_weight = 1,\n",
    "                              seed = 123,\n",
    "                              booster = 'gbtree',\n",
    "                              eval_metric = 'auc', \n",
    "                              use_label_encoder = False,\n",
    "                              n_jobs = -1))\n",
    "    ])"
   ]
  },
  {
   "cell_type": "code",
   "execution_count": 38,
   "metadata": {
    "ExecuteTime": {
     "end_time": "2022-06-10T00:37:34.578948Z",
     "start_time": "2022-06-10T00:37:34.565954Z"
    },
    "id": "fapQdWIrRjBm"
   },
   "outputs": [],
   "source": [
    "# Set up hyperparameters tuning                    (Refer to comments for original parameters)\n",
    "xgb_params = {\n",
    "    'sampling__k_neighbors': [5],                  # [2, 3, 5]\n",
    "    'xgb__n_estimators': [1000],                   # [300,700,900,1000,1200]\n",
    "    'xgb__max_depth': [1],                         # [1,3,5,7]\n",
    "    'xgb__min_child_weight': [4],                  # [2,3,4]\n",
    "    'xgb__learning_rate': [0.1],                   # [0.1, 0.01, 0.001]\n",
    "    'xgb__colsample_bytree': [0.5],                # [0.5, 1.0]\n",
    "    'xgb__subsample': [1.0],                       # [0.6, 0.8, 1.0]\n",
    "}"
   ]
  },
  {
   "cell_type": "code",
   "execution_count": 39,
   "metadata": {
    "ExecuteTime": {
     "end_time": "2022-06-10T00:37:38.533161Z",
     "start_time": "2022-06-10T00:37:34.580949Z"
    },
    "colab": {
     "base_uri": "https://localhost:8080/",
     "height": 1000
    },
    "executionInfo": {
     "elapsed": 16451,
     "status": "ok",
     "timestamp": 1654765887700,
     "user": {
      "displayName": "Calvin Lim",
      "userId": "12406366410999313820"
     },
     "user_tz": -480
    },
    "id": "JrixbyjjRjBm",
    "outputId": "b7c45ff3-be7a-4189-a6a0-4288f7f7902f"
   },
   "outputs": [
    {
     "name": "stdout",
     "output_type": "stream",
     "text": [
      "Fitting 5 folds for each of 1 candidates, totalling 5 fits\n"
     ]
    },
    {
     "data": {
      "image/png": "[encoded data removed]",
      "text/plain": [
       "<Figure size 576x576 with 2 Axes>"
      ]
     },
     "metadata": {
      "needs_background": "light"
     },
     "output_type": "display_data"
    },
    {
     "data": {
      "image/png": "[encoded data removed]",
      "text/plain": [
       "<Figure size 432x288 with 1 Axes>"
      ]
     },
     "metadata": {
      "needs_background": "light"
     },
     "output_type": "display_data"
    },
    {
     "name": "stdout",
     "output_type": "stream",
     "text": [
      "{'sampling__k_neighbors': 5, 'xgb__colsample_bytree': 0.5, 'xgb__learning_rate': 0.1, 'xgb__max_depth': 1, 'xgb__min_child_weight': 4, 'xgb__n_estimators': 1000, 'xgb__subsample': 1.0}\n"
     ]
    },
    {
     "data": {
      "text/html": [
       "<div>\n",
       "<style scoped>\n",
       "    .dataframe tbody tr th:only-of-type {\n",
       "        vertical-align: middle;\n",
       "    }\n",
       "\n",
       "    .dataframe tbody tr th {\n",
       "        vertical-align: top;\n",
       "    }\n",
       "\n",
       "    .dataframe thead th {\n",
       "        text-align: right;\n",
       "    }\n",
       "</style>\n",
       "<table border=\"1\" class=\"dataframe\">\n",
       "  <thead>\n",
       "    <tr style=\"text-align: right;\">\n",
       "      <th></th>\n",
       "      <th>XGBoost</th>\n",
       "    </tr>\n",
       "  </thead>\n",
       "  <tbody>\n",
       "    <tr>\n",
       "      <th>roc_auc_train</th>\n",
       "      <td>0.8762</td>\n",
       "    </tr>\n",
       "    <tr>\n",
       "      <th>roc_auc_val</th>\n",
       "      <td>0.8805</td>\n",
       "    </tr>\n",
       "    <tr>\n",
       "      <th>f1_score</th>\n",
       "      <td>0.3067</td>\n",
       "    </tr>\n",
       "    <tr>\n",
       "      <th>precision</th>\n",
       "      <td>0.1906</td>\n",
       "    </tr>\n",
       "    <tr>\n",
       "      <th>sensitivity</th>\n",
       "      <td>0.7849</td>\n",
       "    </tr>\n",
       "    <tr>\n",
       "      <th>specificity</th>\n",
       "      <td>0.8470</td>\n",
       "    </tr>\n",
       "    <tr>\n",
       "      <th>false_pos</th>\n",
       "      <td>310.0000</td>\n",
       "    </tr>\n",
       "    <tr>\n",
       "      <th>true_pos</th>\n",
       "      <td>73.0000</td>\n",
       "    </tr>\n",
       "    <tr>\n",
       "      <th>false_neg</th>\n",
       "      <td>20.0000</td>\n",
       "    </tr>\n",
       "    <tr>\n",
       "      <th>true_neg</th>\n",
       "      <td>1716.0000</td>\n",
       "    </tr>\n",
       "  </tbody>\n",
       "</table>\n",
       "</div>"
      ],
      "text/plain": [
       "                 XGBoost\n",
       "roc_auc_train     0.8762\n",
       "roc_auc_val       0.8805\n",
       "f1_score          0.3067\n",
       "precision         0.1906\n",
       "sensitivity       0.7849\n",
       "specificity       0.8470\n",
       "false_pos       310.0000\n",
       "true_pos         73.0000\n",
       "false_neg        20.0000\n",
       "true_neg       1716.0000"
      ]
     },
     "execution_count": 39,
     "metadata": {},
     "output_type": "execute_result"
    }
   ],
   "source": [
    "# Run the XG boost model\n",
    "best_model_xgb, best_params_xgb, metrics_xgb = model_eval(xgb_pipe, xgb_params)\n",
    "print(best_params_xgb)\n",
    "\n",
    "# Convert metrics result to dataframe\n",
    "xgb_df = pd.DataFrame.from_dict(metrics_xgb, orient = 'index', columns = ['XGBoost'])\n",
    "xgb_df"
   ]
  },
  {
   "cell_type": "markdown",
   "metadata": {
    "id": "2Wzve7yjStwK"
   },
   "source": [
    "## Support Vector Machine (SVM)\n",
    "SVM is used for classification and regression problems. The model maps training data to points in space so as to maximise the width of the gap between the two categories. New examples are then mapped into that same space and predicted to belong to a category based on which side of the gap they fall."
   ]
  },
  {
   "cell_type": "code",
   "execution_count": 40,
   "metadata": {
    "ExecuteTime": {
     "end_time": "2022-06-10T00:37:38.548164Z",
     "start_time": "2022-06-10T00:37:38.535163Z"
    },
    "id": "rnEGIZNoSghq"
   },
   "outputs": [],
   "source": [
    "# Set up a pipeline:\n",
    "# 1. Standard scaling\n",
    "# 2. SMOTE sampling\n",
    "# 3. SVM\n",
    "\n",
    "svc_pipe = Pipeline([\n",
    "        ('scale', StandardScaler()),\n",
    "        ('sampling', SMOTE(n_jobs = -1)),\n",
    "        ('svc', SVC())\n",
    "    ])"
   ]
  },
  {
   "cell_type": "code",
   "execution_count": 41,
   "metadata": {
    "ExecuteTime": {
     "end_time": "2022-06-10T00:37:38.563169Z",
     "start_time": "2022-06-10T00:37:38.550167Z"
    },
    "id": "E6z-JRhkSgrV"
   },
   "outputs": [],
   "source": [
    "# Set up hyperparameters tuning                    (Refer to comments for original parameters)\n",
    "\n",
    "svc_params = {\n",
    "    'sampling__sampling_strategy': ['minority'],   # ['minority']\n",
    "    'sampling__k_neighbors': [2],                  # [1, 2, 4, 5]\n",
    "    'svc__gamma':['auto'],                         # []'auto','scale']\n",
    "    'svc__kernel':['rbf'],                         # ['rbf', 'linear', 'poly', 'sigmoid']\n",
    "    'svc__random_state': [123],                    # [123]\n",
    "    'svc__probability' : [True],                   # [True]    # Cannot run when False\n",
    "    'svc__C' : [0.1],                              # [0.01, 0.1, 1, 2]\n",
    "    'svc__shrinking' : [True],                     # [True, False]\n",
    "    'svc__class_weight' : ['balanced'],            # ['balanced', None]\n",
    "    \n",
    "}"
   ]
  },
  {
   "cell_type": "code",
   "execution_count": 42,
   "metadata": {
    "ExecuteTime": {
     "end_time": "2022-06-10T00:38:57.303109Z",
     "start_time": "2022-06-10T00:37:38.565171Z"
    },
    "colab": {
     "base_uri": "https://localhost:8080/",
     "height": 900
    },
    "executionInfo": {
     "elapsed": 127587,
     "status": "ok",
     "timestamp": 1654766015259,
     "user": {
      "displayName": "Calvin Lim",
      "userId": "12406366410999313820"
     },
     "user_tz": -480
    },
    "id": "lUtMs4EbSgxt",
    "outputId": "121a4f39-ffd6-492c-cc8d-b9ea25405017"
   },
   "outputs": [
    {
     "name": "stdout",
     "output_type": "stream",
     "text": [
      "Fitting 5 folds for each of 1 candidates, totalling 5 fits\n"
     ]
    },
    {
     "data": {
      "image/png": "[encoded data removed]",
      "text/plain": [
       "<Figure size 576x576 with 2 Axes>"
      ]
     },
     "metadata": {
      "needs_background": "light"
     },
     "output_type": "display_data"
    },
    {
     "data": {
      "image/png": "[encoded data removed]",
      "text/plain": [
       "<Figure size 432x288 with 1 Axes>"
      ]
     },
     "metadata": {
      "needs_background": "light"
     },
     "output_type": "display_data"
    },
    {
     "name": "stdout",
     "output_type": "stream",
     "text": [
      "{'sampling__k_neighbors': 2, 'sampling__sampling_strategy': 'minority', 'svc__C': 0.1, 'svc__class_weight': 'balanced', 'svc__gamma': 'auto', 'svc__kernel': 'rbf', 'svc__probability': True, 'svc__random_state': 123, 'svc__shrinking': True}\n",
      "CPU times: total: 55 s\n",
      "Wall time: 2min 37s\n"
     ]
    },
    {
     "data": {
      "text/html": [
       "<div>\n",
       "<style scoped>\n",
       "    .dataframe tbody tr th:only-of-type {\n",
       "        vertical-align: middle;\n",
       "    }\n",
       "\n",
       "    .dataframe tbody tr th {\n",
       "        vertical-align: top;\n",
       "    }\n",
       "\n",
       "    .dataframe thead th {\n",
       "        text-align: right;\n",
       "    }\n",
       "</style>\n",
       "<table border=\"1\" class=\"dataframe\">\n",
       "  <thead>\n",
       "    <tr style=\"text-align: right;\">\n",
       "      <th></th>\n",
       "      <th>SVM</th>\n",
       "    </tr>\n",
       "  </thead>\n",
       "  <tbody>\n",
       "    <tr>\n",
       "      <th>roc_auc_train</th>\n",
       "      <td>0.8941</td>\n",
       "    </tr>\n",
       "    <tr>\n",
       "      <th>roc_auc_val</th>\n",
       "      <td>0.8767</td>\n",
       "    </tr>\n",
       "    <tr>\n",
       "      <th>f1_score</th>\n",
       "      <td>0.2496</td>\n",
       "    </tr>\n",
       "    <tr>\n",
       "      <th>precision</th>\n",
       "      <td>0.1484</td>\n",
       "    </tr>\n",
       "    <tr>\n",
       "      <th>sensitivity</th>\n",
       "      <td>0.7849</td>\n",
       "    </tr>\n",
       "    <tr>\n",
       "      <th>specificity</th>\n",
       "      <td>0.7932</td>\n",
       "    </tr>\n",
       "    <tr>\n",
       "      <th>false_pos</th>\n",
       "      <td>419.0000</td>\n",
       "    </tr>\n",
       "    <tr>\n",
       "      <th>true_pos</th>\n",
       "      <td>73.0000</td>\n",
       "    </tr>\n",
       "    <tr>\n",
       "      <th>false_neg</th>\n",
       "      <td>20.0000</td>\n",
       "    </tr>\n",
       "    <tr>\n",
       "      <th>true_neg</th>\n",
       "      <td>1607.0000</td>\n",
       "    </tr>\n",
       "  </tbody>\n",
       "</table>\n",
       "</div>"
      ],
      "text/plain": [
       "                     SVM\n",
       "roc_auc_train     0.8941\n",
       "roc_auc_val       0.8767\n",
       "f1_score          0.2496\n",
       "precision         0.1484\n",
       "sensitivity       0.7849\n",
       "specificity       0.7932\n",
       "false_pos       419.0000\n",
       "true_pos         73.0000\n",
       "false_neg        20.0000\n",
       "true_neg       1607.0000"
      ]
     },
     "execution_count": 42,
     "metadata": {},
     "output_type": "execute_result"
    }
   ],
   "source": [
    "%%time\n",
    "# Run the SVM model\n",
    "\n",
    "# Run the support vector machine model\n",
    "best_model_svc, best_params_svc, metrics_svc = model_eval(svc_pipe, svc_params)\n",
    "print(best_params_svc)\n",
    "\n",
    "# Convert metrics result to dataframe\n",
    "svc_df = pd.DataFrame.from_dict(metrics_svc, orient = 'index', columns = ['SVM'])\n",
    "svc_df"
   ]
  },
  {
   "cell_type": "markdown",
   "metadata": {
    "id": "AJfClVouZRy5"
   },
   "source": [
    "## K-Nearest Neighbor"
   ]
  },
  {
   "cell_type": "markdown",
   "metadata": {
    "id": "SLV1vWF3zRtm"
   },
   "source": [
    "The k-Nearest neighbor (kNN) algorithm is a supervised machine learning algorithm used for classification and regression. In the context of classification, a class label is assigned on the basis of a majority vote i.e. the label that is most frequently represented around a given data point is used."
   ]
  },
  {
   "cell_type": "code",
   "execution_count": 43,
   "metadata": {
    "ExecuteTime": {
     "end_time": "2022-06-10T00:38:57.319125Z",
     "start_time": "2022-06-10T00:38:57.305098Z"
    },
    "id": "dcGNopVmZVv1"
   },
   "outputs": [],
   "source": [
    "# Set up a pipeline:\n",
    "# 1. Standard scaling\n",
    "# 2. SMOTE sampling\n",
    "# 3. KNN\n",
    "\n",
    "knn_pipe = Pipeline([\n",
    "        ('scale', StandardScaler()),\n",
    "        ('sampling', SMOTE(n_jobs = -1)),\n",
    "        ('knn', KNeighborsClassifier())\n",
    "    ])"
   ]
  },
  {
   "cell_type": "code",
   "execution_count": 44,
   "metadata": {
    "ExecuteTime": {
     "end_time": "2022-06-10T00:38:57.334117Z",
     "start_time": "2022-06-10T00:38:57.321108Z"
    },
    "id": "Usz5vqGJZV5i"
   },
   "outputs": [],
   "source": [
    "# Set up hyperparameters tuning                    (Refer to comments for original parameters)\n",
    "\n",
    "knn_params = {\n",
    "    'sampling__sampling_strategy': ['minority'],   # ['minority']\n",
    "    'sampling__k_neighbors': [30],                 # [20, 30, 40, 50, 60, 70, 100]\n",
    "    'knn__n_neighbors': [30],                      # [5,10,20, 30, 40]\n",
    "    'knn__algorithm': ['brute'],                   # ['ball_tree', 'kd_tree', 'brute', 'auto']\n",
    "    'knn__weights': ['uniform'],                   # ['distance', 'uniform']\n",
    "    'knn__p': [1],                                 # [1, 2]\n",
    "    'knn__leaf_size': [30],                        # [10, 20, 30, 40, 50]\n",
    "    'knn__metric' : ['minkowski']     # ['manhattan','euclidean', 'chebyshev','minkowski','seuclidean','mahalanobis']\n",
    "    \n",
    "}"
   ]
  },
  {
   "cell_type": "code",
   "execution_count": 45,
   "metadata": {
    "ExecuteTime": {
     "end_time": "2022-06-10T00:39:03.427598Z",
     "start_time": "2022-06-10T00:38:57.337112Z"
    },
    "colab": {
     "base_uri": "https://localhost:8080/",
     "height": 936
    },
    "executionInfo": {
     "elapsed": 7211,
     "status": "ok",
     "timestamp": 1654766022450,
     "user": {
      "displayName": "Calvin Lim",
      "userId": "12406366410999313820"
     },
     "user_tz": -480
    },
    "id": "uv4V4pQiZWAg",
    "outputId": "7a247884-35b1-41cb-d713-07f319534df1"
   },
   "outputs": [
    {
     "name": "stdout",
     "output_type": "stream",
     "text": [
      "Fitting 5 folds for each of 1 candidates, totalling 5 fits\n"
     ]
    },
    {
     "data": {
      "image/png": "[encoded data removed]",
      "text/plain": [
       "<Figure size 576x576 with 2 Axes>"
      ]
     },
     "metadata": {
      "needs_background": "light"
     },
     "output_type": "display_data"
    },
    {
     "data": {
      "image/png": "[encoded data removed]",
      "text/plain": [
       "<Figure size 432x288 with 1 Axes>"
      ]
     },
     "metadata": {
      "needs_background": "light"
     },
     "output_type": "display_data"
    },
    {
     "name": "stdout",
     "output_type": "stream",
     "text": [
      "{'knn__algorithm': 'brute', 'knn__leaf_size': 30, 'knn__metric': 'minkowski', 'knn__n_neighbors': 30, 'knn__p': 1, 'knn__weights': 'uniform', 'sampling__k_neighbors': 30, 'sampling__sampling_strategy': 'minority'}\n",
      "CPU times: total: 10.2 s\n",
      "Wall time: 5.25 s\n"
     ]
    },
    {
     "data": {
      "text/html": [
       "<div>\n",
       "<style scoped>\n",
       "    .dataframe tbody tr th:only-of-type {\n",
       "        vertical-align: middle;\n",
       "    }\n",
       "\n",
       "    .dataframe tbody tr th {\n",
       "        vertical-align: top;\n",
       "    }\n",
       "\n",
       "    .dataframe thead th {\n",
       "        text-align: right;\n",
       "    }\n",
       "</style>\n",
       "<table border=\"1\" class=\"dataframe\">\n",
       "  <thead>\n",
       "    <tr style=\"text-align: right;\">\n",
       "      <th></th>\n",
       "      <th>KNN</th>\n",
       "    </tr>\n",
       "  </thead>\n",
       "  <tbody>\n",
       "    <tr>\n",
       "      <th>roc_auc_train</th>\n",
       "      <td>0.9353</td>\n",
       "    </tr>\n",
       "    <tr>\n",
       "      <th>roc_auc_val</th>\n",
       "      <td>0.8550</td>\n",
       "    </tr>\n",
       "    <tr>\n",
       "      <th>f1_score</th>\n",
       "      <td>0.2691</td>\n",
       "    </tr>\n",
       "    <tr>\n",
       "      <th>precision</th>\n",
       "      <td>0.1700</td>\n",
       "    </tr>\n",
       "    <tr>\n",
       "      <th>sensitivity</th>\n",
       "      <td>0.6452</td>\n",
       "    </tr>\n",
       "    <tr>\n",
       "      <th>specificity</th>\n",
       "      <td>0.8554</td>\n",
       "    </tr>\n",
       "    <tr>\n",
       "      <th>false_pos</th>\n",
       "      <td>293.0000</td>\n",
       "    </tr>\n",
       "    <tr>\n",
       "      <th>true_pos</th>\n",
       "      <td>60.0000</td>\n",
       "    </tr>\n",
       "    <tr>\n",
       "      <th>false_neg</th>\n",
       "      <td>33.0000</td>\n",
       "    </tr>\n",
       "    <tr>\n",
       "      <th>true_neg</th>\n",
       "      <td>1733.0000</td>\n",
       "    </tr>\n",
       "  </tbody>\n",
       "</table>\n",
       "</div>"
      ],
      "text/plain": [
       "                     KNN\n",
       "roc_auc_train     0.9353\n",
       "roc_auc_val       0.8550\n",
       "f1_score          0.2691\n",
       "precision         0.1700\n",
       "sensitivity       0.6452\n",
       "specificity       0.8554\n",
       "false_pos       293.0000\n",
       "true_pos         60.0000\n",
       "false_neg        33.0000\n",
       "true_neg       1733.0000"
      ]
     },
     "execution_count": 45,
     "metadata": {},
     "output_type": "execute_result"
    }
   ],
   "source": [
    "%%time\n",
    "# Run the knn model \n",
    "best_model_knn, best_params_knn, metrics_knn = model_eval(knn_pipe, knn_params)\n",
    "print(best_params_knn)\n",
    "\n",
    "# Convert metrics result to dataframe\n",
    "knn_df = pd.DataFrame.from_dict(metrics_knn, orient = 'index', columns = ['KNN'])\n",
    "knn_df"
   ]
  },
  {
   "cell_type": "markdown",
   "metadata": {
    "id": "RWn_F-m1RjBo"
   },
   "source": [
    "## Model Comparison"
   ]
  },
  {
   "cell_type": "code",
   "execution_count": 46,
   "metadata": {
    "ExecuteTime": {
     "end_time": "2022-06-10T00:39:03.443613Z",
     "start_time": "2022-06-10T00:39:03.430595Z"
    },
    "colab": {
     "base_uri": "https://localhost:8080/",
     "height": 363
    },
    "executionInfo": {
     "elapsed": 33,
     "status": "ok",
     "timestamp": 1654766022451,
     "user": {
      "displayName": "Calvin Lim",
      "userId": "12406366410999313820"
     },
     "user_tz": -480
    },
    "id": "jzUz_j35RjBo",
    "outputId": "94d5873a-e9f1-4f15-ea4e-1c0666f7688e"
   },
   "outputs": [
    {
     "data": {
      "text/html": [
       "<div>\n",
       "<style scoped>\n",
       "    .dataframe tbody tr th:only-of-type {\n",
       "        vertical-align: middle;\n",
       "    }\n",
       "\n",
       "    .dataframe tbody tr th {\n",
       "        vertical-align: top;\n",
       "    }\n",
       "\n",
       "    .dataframe thead th {\n",
       "        text-align: right;\n",
       "    }\n",
       "</style>\n",
       "<table border=\"1\" class=\"dataframe\">\n",
       "  <thead>\n",
       "    <tr style=\"text-align: right;\">\n",
       "      <th></th>\n",
       "      <th>Logistic Regression</th>\n",
       "      <th>Random Forest</th>\n",
       "      <th>Ada Boost</th>\n",
       "      <th>Gradient Boost</th>\n",
       "      <th>XGBoost</th>\n",
       "      <th>SVM</th>\n",
       "      <th>KNN</th>\n",
       "    </tr>\n",
       "  </thead>\n",
       "  <tbody>\n",
       "    <tr>\n",
       "      <th>roc_auc_train</th>\n",
       "      <td>0.8385</td>\n",
       "      <td>0.9177</td>\n",
       "      <td>0.8771</td>\n",
       "      <td>0.9072</td>\n",
       "      <td>0.8762</td>\n",
       "      <td>0.8941</td>\n",
       "      <td>0.9353</td>\n",
       "    </tr>\n",
       "    <tr>\n",
       "      <th>roc_auc_val</th>\n",
       "      <td>0.8574</td>\n",
       "      <td>0.8781</td>\n",
       "      <td>0.8781</td>\n",
       "      <td>0.8737</td>\n",
       "      <td>0.8805</td>\n",
       "      <td>0.8767</td>\n",
       "      <td>0.8550</td>\n",
       "    </tr>\n",
       "    <tr>\n",
       "      <th>f1_score</th>\n",
       "      <td>0.2092</td>\n",
       "      <td>0.2966</td>\n",
       "      <td>0.3107</td>\n",
       "      <td>0.3388</td>\n",
       "      <td>0.3067</td>\n",
       "      <td>0.2496</td>\n",
       "      <td>0.2691</td>\n",
       "    </tr>\n",
       "    <tr>\n",
       "      <th>precision</th>\n",
       "      <td>0.1187</td>\n",
       "      <td>0.1847</td>\n",
       "      <td>0.1951</td>\n",
       "      <td>0.2271</td>\n",
       "      <td>0.1906</td>\n",
       "      <td>0.1484</td>\n",
       "      <td>0.1700</td>\n",
       "    </tr>\n",
       "    <tr>\n",
       "      <th>sensitivity</th>\n",
       "      <td>0.8817</td>\n",
       "      <td>0.7527</td>\n",
       "      <td>0.7634</td>\n",
       "      <td>0.6667</td>\n",
       "      <td>0.7849</td>\n",
       "      <td>0.7849</td>\n",
       "      <td>0.6452</td>\n",
       "    </tr>\n",
       "    <tr>\n",
       "      <th>specificity</th>\n",
       "      <td>0.6994</td>\n",
       "      <td>0.8475</td>\n",
       "      <td>0.8554</td>\n",
       "      <td>0.8959</td>\n",
       "      <td>0.8470</td>\n",
       "      <td>0.7932</td>\n",
       "      <td>0.8554</td>\n",
       "    </tr>\n",
       "    <tr>\n",
       "      <th>false_pos</th>\n",
       "      <td>609.0000</td>\n",
       "      <td>309.0000</td>\n",
       "      <td>293.0000</td>\n",
       "      <td>211.0000</td>\n",
       "      <td>310.0000</td>\n",
       "      <td>419.0000</td>\n",
       "      <td>293.0000</td>\n",
       "    </tr>\n",
       "    <tr>\n",
       "      <th>true_pos</th>\n",
       "      <td>82.0000</td>\n",
       "      <td>70.0000</td>\n",
       "      <td>71.0000</td>\n",
       "      <td>62.0000</td>\n",
       "      <td>73.0000</td>\n",
       "      <td>73.0000</td>\n",
       "      <td>60.0000</td>\n",
       "    </tr>\n",
       "    <tr>\n",
       "      <th>false_neg</th>\n",
       "      <td>11.0000</td>\n",
       "      <td>23.0000</td>\n",
       "      <td>22.0000</td>\n",
       "      <td>31.0000</td>\n",
       "      <td>20.0000</td>\n",
       "      <td>20.0000</td>\n",
       "      <td>33.0000</td>\n",
       "    </tr>\n",
       "    <tr>\n",
       "      <th>true_neg</th>\n",
       "      <td>1417.0000</td>\n",
       "      <td>1717.0000</td>\n",
       "      <td>1733.0000</td>\n",
       "      <td>1815.0000</td>\n",
       "      <td>1716.0000</td>\n",
       "      <td>1607.0000</td>\n",
       "      <td>1733.0000</td>\n",
       "    </tr>\n",
       "  </tbody>\n",
       "</table>\n",
       "</div>"
      ],
      "text/plain": [
       "               Logistic Regression  Random Forest  Ada Boost  Gradient Boost  \\\n",
       "roc_auc_train               0.8385         0.9177     0.8771          0.9072   \n",
       "roc_auc_val                 0.8574         0.8781     0.8781          0.8737   \n",
       "f1_score                    0.2092         0.2966     0.3107          0.3388   \n",
       "precision                   0.1187         0.1847     0.1951          0.2271   \n",
       "sensitivity                 0.8817         0.7527     0.7634          0.6667   \n",
       "specificity                 0.6994         0.8475     0.8554          0.8959   \n",
       "false_pos                 609.0000       309.0000   293.0000        211.0000   \n",
       "true_pos                   82.0000        70.0000    71.0000         62.0000   \n",
       "false_neg                  11.0000        23.0000    22.0000         31.0000   \n",
       "true_neg                 1417.0000      1717.0000  1733.0000       1815.0000   \n",
       "\n",
       "                 XGBoost        SVM        KNN  \n",
       "roc_auc_train     0.8762     0.8941     0.9353  \n",
       "roc_auc_val       0.8805     0.8767     0.8550  \n",
       "f1_score          0.3067     0.2496     0.2691  \n",
       "precision         0.1906     0.1484     0.1700  \n",
       "sensitivity       0.7849     0.7849     0.6452  \n",
       "specificity       0.8470     0.7932     0.8554  \n",
       "false_pos       310.0000   419.0000   293.0000  \n",
       "true_pos         73.0000    73.0000    60.0000  \n",
       "false_neg        20.0000    20.0000    33.0000  \n",
       "true_neg       1716.0000  1607.0000  1733.0000  "
      ]
     },
     "execution_count": 46,
     "metadata": {},
     "output_type": "execute_result"
    }
   ],
   "source": [
    "# Create a dataframe to store the results from all models\n",
    "model_list = [lr_df, rf_df, ada_df, gb_df, xgb_df, svc_df, knn_df]\n",
    "model_df = pd.concat(model_list, axis = 1, join = \"inner\")\n",
    "model_df"
   ]
  },
  {
   "cell_type": "markdown",
   "metadata": {
    "id": "zXZCiFEC1yP5"
   },
   "source": [
    "Based on the results for the 7 models, the best model is XGBoost with a ROC AUC validation score of 0.8805."
   ]
  },
  {
   "cell_type": "markdown",
   "metadata": {
    "id": "w3W146N4RjBp"
   },
   "source": [
    "## Feature Importance"
   ]
  },
  {
   "cell_type": "markdown",
   "metadata": {
    "id": "J6XLnbElRjBp"
   },
   "source": [
    "To check which features have a stronger predicting power in determining whether the virus is present or not, we will look at the feature importance for the best model."
   ]
  },
  {
   "cell_type": "code",
   "execution_count": 47,
   "metadata": {
    "ExecuteTime": {
     "end_time": "2022-06-10T00:39:03.458884Z",
     "start_time": "2022-06-10T00:39:03.445935Z"
    },
    "id": "ARAclqp5RjBp"
   },
   "outputs": [],
   "source": [
    "# Create a function to list the features importance for best model\n",
    "def feature_importance(best_model, name, title):\n",
    "    \n",
    "    # Extract the feature importance from the best model\n",
    "    importances = best_model.named_steps[name].feature_importances_\n",
    "    feature_list = list(X.columns)\n",
    "    feature_importance = sorted(zip(importances, feature_list), reverse = True)\n",
    "\n",
    "    # Convert to dataframe and return the result. Subset to top 10 features for plotting\n",
    "    df_feature = pd.DataFrame(feature_importance, columns = ['Coefficient', 'Feature'])\n",
    "    df_feature_top10 = df_feature.head(10)\n",
    "\n",
    "    # Plot the feature importance\n",
    "    plt.figure(figsize = (10, 5))\n",
    "    sns.barplot(data = df_feature_top10, y = 'Feature', x = 'Coefficient', orient = 'h', palette = 'coolwarm')\n",
    "    plt.xlabel('Coefficient Values')\n",
    "    plt.ylabel('Feature')\n",
    "    plt.title('Top 10 Predictors', fontsize = 16, fontweight = 'bold')\n",
    "    \n",
    "    return df_feature"
   ]
  },
  {
   "cell_type": "code",
   "execution_count": 66,
   "metadata": {
    "ExecuteTime": {
     "end_time": "2022-06-10T00:39:03.630922Z",
     "start_time": "2022-06-10T00:39:03.461868Z"
    },
    "colab": {
     "base_uri": "https://localhost:8080/",
     "height": 1000
    },
    "executionInfo": {
     "elapsed": 909,
     "status": "ok",
     "timestamp": 1654766024378,
     "user": {
      "displayName": "Calvin Lim",
      "userId": "12406366410999313820"
     },
     "user_tz": -480
    },
    "id": "eyoHqJQJRjBp",
    "outputId": "887e9f4d-cc26-48b5-b08f-fdcd269338f6"
   },
   "outputs": [
    {
     "data": {
      "text/html": [
       "<div>\n",
       "<style scoped>\n",
       "    .dataframe tbody tr th:only-of-type {\n",
       "        vertical-align: middle;\n",
       "    }\n",
       "\n",
       "    .dataframe tbody tr th {\n",
       "        vertical-align: top;\n",
       "    }\n",
       "\n",
       "    .dataframe thead th {\n",
       "        text-align: right;\n",
       "    }\n",
       "</style>\n",
       "<table border=\"1\" class=\"dataframe\">\n",
       "  <thead>\n",
       "    <tr style=\"text-align: right;\">\n",
       "      <th></th>\n",
       "      <th>Coefficient</th>\n",
       "      <th>Feature</th>\n",
       "    </tr>\n",
       "  </thead>\n",
       "  <tbody>\n",
       "    <tr>\n",
       "      <th>0</th>\n",
       "      <td>0.195934</td>\n",
       "      <td>WnvRisk_low</td>\n",
       "    </tr>\n",
       "    <tr>\n",
       "      <th>1</th>\n",
       "      <td>0.193469</td>\n",
       "      <td>NightTime</td>\n",
       "    </tr>\n",
       "    <tr>\n",
       "      <th>2</th>\n",
       "      <td>0.160590</td>\n",
       "      <td>DayTime</td>\n",
       "    </tr>\n",
       "    <tr>\n",
       "      <th>3</th>\n",
       "      <td>0.066221</td>\n",
       "      <td>Week</td>\n",
       "    </tr>\n",
       "    <tr>\n",
       "      <th>4</th>\n",
       "      <td>0.054365</td>\n",
       "      <td>WnvRisk_high</td>\n",
       "    </tr>\n",
       "    <tr>\n",
       "      <th>5</th>\n",
       "      <td>0.037136</td>\n",
       "      <td>Species_CULEX RESTUANS</td>\n",
       "    </tr>\n",
       "    <tr>\n",
       "      <th>6</th>\n",
       "      <td>0.031191</td>\n",
       "      <td>AvgSpeed</td>\n",
       "    </tr>\n",
       "    <tr>\n",
       "      <th>7</th>\n",
       "      <td>0.029522</td>\n",
       "      <td>CsTS</td>\n",
       "    </tr>\n",
       "    <tr>\n",
       "      <th>8</th>\n",
       "      <td>0.025513</td>\n",
       "      <td>PrecipTotal</td>\n",
       "    </tr>\n",
       "    <tr>\n",
       "      <th>9</th>\n",
       "      <td>0.025158</td>\n",
       "      <td>Tavg</td>\n",
       "    </tr>\n",
       "    <tr>\n",
       "      <th>10</th>\n",
       "      <td>0.018797</td>\n",
       "      <td>Longitude</td>\n",
       "    </tr>\n",
       "    <tr>\n",
       "      <th>11</th>\n",
       "      <td>0.017704</td>\n",
       "      <td>ResultSpeed</td>\n",
       "    </tr>\n",
       "    <tr>\n",
       "      <th>12</th>\n",
       "      <td>0.017366</td>\n",
       "      <td>ResultDir</td>\n",
       "    </tr>\n",
       "    <tr>\n",
       "      <th>13</th>\n",
       "      <td>0.016607</td>\n",
       "      <td>StnPressure</td>\n",
       "    </tr>\n",
       "    <tr>\n",
       "      <th>14</th>\n",
       "      <td>0.014952</td>\n",
       "      <td>CsBR</td>\n",
       "    </tr>\n",
       "    <tr>\n",
       "      <th>15</th>\n",
       "      <td>0.013602</td>\n",
       "      <td>Latitude</td>\n",
       "    </tr>\n",
       "    <tr>\n",
       "      <th>16</th>\n",
       "      <td>0.011287</td>\n",
       "      <td>DewPoint</td>\n",
       "    </tr>\n",
       "    <tr>\n",
       "      <th>17</th>\n",
       "      <td>0.011137</td>\n",
       "      <td>WetBulb</td>\n",
       "    </tr>\n",
       "    <tr>\n",
       "      <th>18</th>\n",
       "      <td>0.010834</td>\n",
       "      <td>DewPoint_7daysbf</td>\n",
       "    </tr>\n",
       "    <tr>\n",
       "      <th>19</th>\n",
       "      <td>0.010732</td>\n",
       "      <td>Species_CULEX PIPIENS</td>\n",
       "    </tr>\n",
       "    <tr>\n",
       "      <th>20</th>\n",
       "      <td>0.010185</td>\n",
       "      <td>Species_CULEX PIPIENS/RESTUANS</td>\n",
       "    </tr>\n",
       "    <tr>\n",
       "      <th>21</th>\n",
       "      <td>0.008450</td>\n",
       "      <td>RelativeHumidity</td>\n",
       "    </tr>\n",
       "    <tr>\n",
       "      <th>22</th>\n",
       "      <td>0.008170</td>\n",
       "      <td>WnvRisk_medium</td>\n",
       "    </tr>\n",
       "    <tr>\n",
       "      <th>23</th>\n",
       "      <td>0.006579</td>\n",
       "      <td>SeaLevel</td>\n",
       "    </tr>\n",
       "    <tr>\n",
       "      <th>24</th>\n",
       "      <td>0.004500</td>\n",
       "      <td>Tavg_7daysbf</td>\n",
       "    </tr>\n",
       "    <tr>\n",
       "      <th>25</th>\n",
       "      <td>0.000000</td>\n",
       "      <td>PrecipTotal_7daysbf</td>\n",
       "    </tr>\n",
       "    <tr>\n",
       "      <th>26</th>\n",
       "      <td>0.000000</td>\n",
       "      <td>CsTSRA</td>\n",
       "    </tr>\n",
       "    <tr>\n",
       "      <th>27</th>\n",
       "      <td>0.000000</td>\n",
       "      <td>CsRA</td>\n",
       "    </tr>\n",
       "  </tbody>\n",
       "</table>\n",
       "</div>"
      ],
      "text/plain": [
       "    Coefficient                         Feature\n",
       "0      0.195934                     WnvRisk_low\n",
       "1      0.193469                       NightTime\n",
       "2      0.160590                         DayTime\n",
       "3      0.066221                            Week\n",
       "4      0.054365                    WnvRisk_high\n",
       "5      0.037136          Species_CULEX RESTUANS\n",
       "6      0.031191                        AvgSpeed\n",
       "7      0.029522                            CsTS\n",
       "8      0.025513                     PrecipTotal\n",
       "9      0.025158                            Tavg\n",
       "10     0.018797                       Longitude\n",
       "11     0.017704                     ResultSpeed\n",
       "12     0.017366                       ResultDir\n",
       "13     0.016607                     StnPressure\n",
       "14     0.014952                            CsBR\n",
       "15     0.013602                        Latitude\n",
       "16     0.011287                        DewPoint\n",
       "17     0.011137                         WetBulb\n",
       "18     0.010834                DewPoint_7daysbf\n",
       "19     0.010732           Species_CULEX PIPIENS\n",
       "20     0.010185  Species_CULEX PIPIENS/RESTUANS\n",
       "21     0.008450                RelativeHumidity\n",
       "22     0.008170                  WnvRisk_medium\n",
       "23     0.006579                        SeaLevel\n",
       "24     0.004500                    Tavg_7daysbf\n",
       "25     0.000000             PrecipTotal_7daysbf\n",
       "26     0.000000                          CsTSRA\n",
       "27     0.000000                            CsRA"
      ]
     },
     "execution_count": 66,
     "metadata": {},
     "output_type": "execute_result"
    },
    {
     "data": {
      "image/png": "[encoded data removed]",
      "text/plain": [
       "<Figure size 720x360 with 1 Axes>"
      ]
     },
     "metadata": {
      "needs_background": "light"
     },
     "output_type": "display_data"
    }
   ],
   "source": [
    "feature_importance(best_model_xgb, 'xgb', 'Feature Importance')"
   ]
  },
  {
   "cell_type": "markdown",
   "metadata": {
    "id": "URj_iRFi8gvT"
   },
   "source": [
    "The top 3 predictors are WnvRisk_low, NightTime and DayTime."
   ]
  },
  {
   "cell_type": "markdown",
   "metadata": {
    "id": "r2cqoTwtRjBr"
   },
   "source": [
    "## Prediction on Test Dataset"
   ]
  },
  {
   "cell_type": "code",
   "execution_count": 49,
   "metadata": {
    "ExecuteTime": {
     "end_time": "2022-06-10T00:39:03.661913Z",
     "start_time": "2022-06-10T00:39:03.631918Z"
    },
    "colab": {
     "base_uri": "https://localhost:8080/"
    },
    "executionInfo": {
     "elapsed": 47,
     "status": "ok",
     "timestamp": 1654766024383,
     "user": {
      "displayName": "Calvin Lim",
      "userId": "12406366410999313820"
     },
     "user_tz": -480
    },
    "id": "2Iap_LtVRjBr",
    "outputId": "4e8cfee0-d88b-42f4-ce21-a4387a4c42ac"
   },
   "outputs": [
    {
     "name": "stdout",
     "output_type": "stream",
     "text": [
      "<class 'pandas.core.frame.DataFrame'>\n",
      "Int64Index: 116293 entries, 1 to 116293\n",
      "Data columns (total 28 columns):\n",
      " #   Column                          Non-Null Count   Dtype  \n",
      "---  ------                          --------------   -----  \n",
      " 0   Latitude                        116293 non-null  float64\n",
      " 1   Longitude                       116293 non-null  float64\n",
      " 2   Week                            116293 non-null  int64  \n",
      " 3   Tavg                            116293 non-null  float64\n",
      " 4   DewPoint                        116293 non-null  int64  \n",
      " 5   WetBulb                         116293 non-null  float64\n",
      " 6   PrecipTotal                     116293 non-null  float64\n",
      " 7   StnPressure                     116293 non-null  float64\n",
      " 8   SeaLevel                        116293 non-null  float64\n",
      " 9   ResultSpeed                     116293 non-null  float64\n",
      " 10  ResultDir                       116293 non-null  int64  \n",
      " 11  AvgSpeed                        116293 non-null  float64\n",
      " 12  CsTSRA                          116293 non-null  int64  \n",
      " 13  CsBR                            116293 non-null  int64  \n",
      " 14  CsRA                            116293 non-null  int64  \n",
      " 15  CsTS                            116293 non-null  int64  \n",
      " 16  RelativeHumidity                116293 non-null  float64\n",
      " 17  NightTime                       116293 non-null  float64\n",
      " 18  DayTime                         116293 non-null  float64\n",
      " 19  Tavg_7daysbf                    116293 non-null  float64\n",
      " 20  DewPoint_7daysbf                116293 non-null  int64  \n",
      " 21  PrecipTotal_7daysbf             116293 non-null  float64\n",
      " 22  Species_CULEX PIPIENS           116293 non-null  int64  \n",
      " 23  Species_CULEX PIPIENS/RESTUANS  116293 non-null  int64  \n",
      " 24  Species_CULEX RESTUANS          116293 non-null  int64  \n",
      " 25  WnvRisk_low                     116293 non-null  int64  \n",
      " 26  WnvRisk_medium                  116293 non-null  int64  \n",
      " 27  WnvRisk_high                    116293 non-null  int64  \n",
      "dtypes: float64(14), int64(14)\n",
      "memory usage: 25.7 MB\n"
     ]
    }
   ],
   "source": [
    "df_test_model.info()"
   ]
  },
  {
   "cell_type": "code",
   "execution_count": 50,
   "metadata": {
    "ExecuteTime": {
     "end_time": "2022-06-10T00:39:03.692933Z",
     "start_time": "2022-06-10T00:39:03.671916Z"
    },
    "colab": {
     "base_uri": "https://localhost:8080/",
     "height": 319
    },
    "executionInfo": {
     "elapsed": 40,
     "status": "ok",
     "timestamp": 1654766024385,
     "user": {
      "displayName": "Calvin Lim",
      "userId": "12406366410999313820"
     },
     "user_tz": -480
    },
    "id": "czL_08whRjBs",
    "outputId": "19779699-605a-45a3-885b-2458a7c2cd58"
   },
   "outputs": [
    {
     "data": {
      "text/html": [
       "<div>\n",
       "<style scoped>\n",
       "    .dataframe tbody tr th:only-of-type {\n",
       "        vertical-align: middle;\n",
       "    }\n",
       "\n",
       "    .dataframe tbody tr th {\n",
       "        vertical-align: top;\n",
       "    }\n",
       "\n",
       "    .dataframe thead th {\n",
       "        text-align: right;\n",
       "    }\n",
       "</style>\n",
       "<table border=\"1\" class=\"dataframe\">\n",
       "  <thead>\n",
       "    <tr style=\"text-align: right;\">\n",
       "      <th></th>\n",
       "      <th>Latitude</th>\n",
       "      <th>Longitude</th>\n",
       "      <th>Week</th>\n",
       "      <th>Tavg</th>\n",
       "      <th>DewPoint</th>\n",
       "      <th>WetBulb</th>\n",
       "      <th>PrecipTotal</th>\n",
       "      <th>StnPressure</th>\n",
       "      <th>SeaLevel</th>\n",
       "      <th>ResultSpeed</th>\n",
       "      <th>ResultDir</th>\n",
       "      <th>AvgSpeed</th>\n",
       "      <th>CsTSRA</th>\n",
       "      <th>CsBR</th>\n",
       "      <th>CsRA</th>\n",
       "      <th>CsTS</th>\n",
       "      <th>RelativeHumidity</th>\n",
       "      <th>NightTime</th>\n",
       "      <th>DayTime</th>\n",
       "      <th>Tavg_7daysbf</th>\n",
       "      <th>DewPoint_7daysbf</th>\n",
       "      <th>PrecipTotal_7daysbf</th>\n",
       "      <th>Species_CULEX PIPIENS</th>\n",
       "      <th>Species_CULEX PIPIENS/RESTUANS</th>\n",
       "      <th>Species_CULEX RESTUANS</th>\n",
       "      <th>WnvRisk_low</th>\n",
       "      <th>WnvRisk_medium</th>\n",
       "      <th>WnvRisk_high</th>\n",
       "    </tr>\n",
       "    <tr>\n",
       "      <th>Id</th>\n",
       "      <th></th>\n",
       "      <th></th>\n",
       "      <th></th>\n",
       "      <th></th>\n",
       "      <th></th>\n",
       "      <th></th>\n",
       "      <th></th>\n",
       "      <th></th>\n",
       "      <th></th>\n",
       "      <th></th>\n",
       "      <th></th>\n",
       "      <th></th>\n",
       "      <th></th>\n",
       "      <th></th>\n",
       "      <th></th>\n",
       "      <th></th>\n",
       "      <th></th>\n",
       "      <th></th>\n",
       "      <th></th>\n",
       "      <th></th>\n",
       "      <th></th>\n",
       "      <th></th>\n",
       "      <th></th>\n",
       "      <th></th>\n",
       "      <th></th>\n",
       "      <th></th>\n",
       "      <th></th>\n",
       "      <th></th>\n",
       "    </tr>\n",
       "  </thead>\n",
       "  <tbody>\n",
       "    <tr>\n",
       "      <th>1</th>\n",
       "      <td>41.95469</td>\n",
       "      <td>-87.800991</td>\n",
       "      <td>24</td>\n",
       "      <td>74.0</td>\n",
       "      <td>56</td>\n",
       "      <td>64.0</td>\n",
       "      <td>0.0</td>\n",
       "      <td>29.28</td>\n",
       "      <td>29.99</td>\n",
       "      <td>8.9</td>\n",
       "      <td>18</td>\n",
       "      <td>10.0</td>\n",
       "      <td>0</td>\n",
       "      <td>0</td>\n",
       "      <td>0</td>\n",
       "      <td>0</td>\n",
       "      <td>53.405643</td>\n",
       "      <td>8.833333</td>\n",
       "      <td>15.166667</td>\n",
       "      <td>0.0</td>\n",
       "      <td>0</td>\n",
       "      <td>0.0</td>\n",
       "      <td>0</td>\n",
       "      <td>1</td>\n",
       "      <td>0</td>\n",
       "      <td>0</td>\n",
       "      <td>0</td>\n",
       "      <td>1</td>\n",
       "    </tr>\n",
       "    <tr>\n",
       "      <th>2</th>\n",
       "      <td>41.95469</td>\n",
       "      <td>-87.800991</td>\n",
       "      <td>24</td>\n",
       "      <td>74.0</td>\n",
       "      <td>56</td>\n",
       "      <td>64.0</td>\n",
       "      <td>0.0</td>\n",
       "      <td>29.28</td>\n",
       "      <td>29.99</td>\n",
       "      <td>8.9</td>\n",
       "      <td>18</td>\n",
       "      <td>10.0</td>\n",
       "      <td>0</td>\n",
       "      <td>0</td>\n",
       "      <td>0</td>\n",
       "      <td>0</td>\n",
       "      <td>53.405643</td>\n",
       "      <td>8.833333</td>\n",
       "      <td>15.166667</td>\n",
       "      <td>0.0</td>\n",
       "      <td>0</td>\n",
       "      <td>0.0</td>\n",
       "      <td>0</td>\n",
       "      <td>0</td>\n",
       "      <td>1</td>\n",
       "      <td>0</td>\n",
       "      <td>0</td>\n",
       "      <td>1</td>\n",
       "    </tr>\n",
       "    <tr>\n",
       "      <th>3</th>\n",
       "      <td>41.95469</td>\n",
       "      <td>-87.800991</td>\n",
       "      <td>24</td>\n",
       "      <td>74.0</td>\n",
       "      <td>56</td>\n",
       "      <td>64.0</td>\n",
       "      <td>0.0</td>\n",
       "      <td>29.28</td>\n",
       "      <td>29.99</td>\n",
       "      <td>8.9</td>\n",
       "      <td>18</td>\n",
       "      <td>10.0</td>\n",
       "      <td>0</td>\n",
       "      <td>0</td>\n",
       "      <td>0</td>\n",
       "      <td>0</td>\n",
       "      <td>53.405643</td>\n",
       "      <td>8.833333</td>\n",
       "      <td>15.166667</td>\n",
       "      <td>0.0</td>\n",
       "      <td>0</td>\n",
       "      <td>0.0</td>\n",
       "      <td>1</td>\n",
       "      <td>0</td>\n",
       "      <td>0</td>\n",
       "      <td>0</td>\n",
       "      <td>0</td>\n",
       "      <td>1</td>\n",
       "    </tr>\n",
       "    <tr>\n",
       "      <th>4</th>\n",
       "      <td>41.95469</td>\n",
       "      <td>-87.800991</td>\n",
       "      <td>24</td>\n",
       "      <td>74.0</td>\n",
       "      <td>56</td>\n",
       "      <td>64.0</td>\n",
       "      <td>0.0</td>\n",
       "      <td>29.28</td>\n",
       "      <td>29.99</td>\n",
       "      <td>8.9</td>\n",
       "      <td>18</td>\n",
       "      <td>10.0</td>\n",
       "      <td>0</td>\n",
       "      <td>0</td>\n",
       "      <td>0</td>\n",
       "      <td>0</td>\n",
       "      <td>53.405643</td>\n",
       "      <td>8.833333</td>\n",
       "      <td>15.166667</td>\n",
       "      <td>0.0</td>\n",
       "      <td>0</td>\n",
       "      <td>0.0</td>\n",
       "      <td>0</td>\n",
       "      <td>0</td>\n",
       "      <td>0</td>\n",
       "      <td>0</td>\n",
       "      <td>0</td>\n",
       "      <td>1</td>\n",
       "    </tr>\n",
       "    <tr>\n",
       "      <th>5</th>\n",
       "      <td>41.95469</td>\n",
       "      <td>-87.800991</td>\n",
       "      <td>24</td>\n",
       "      <td>74.0</td>\n",
       "      <td>56</td>\n",
       "      <td>64.0</td>\n",
       "      <td>0.0</td>\n",
       "      <td>29.28</td>\n",
       "      <td>29.99</td>\n",
       "      <td>8.9</td>\n",
       "      <td>18</td>\n",
       "      <td>10.0</td>\n",
       "      <td>0</td>\n",
       "      <td>0</td>\n",
       "      <td>0</td>\n",
       "      <td>0</td>\n",
       "      <td>53.405643</td>\n",
       "      <td>8.833333</td>\n",
       "      <td>15.166667</td>\n",
       "      <td>0.0</td>\n",
       "      <td>0</td>\n",
       "      <td>0.0</td>\n",
       "      <td>0</td>\n",
       "      <td>0</td>\n",
       "      <td>0</td>\n",
       "      <td>0</td>\n",
       "      <td>0</td>\n",
       "      <td>1</td>\n",
       "    </tr>\n",
       "  </tbody>\n",
       "</table>\n",
       "</div>"
      ],
      "text/plain": [
       "    Latitude  Longitude  Week  Tavg  DewPoint  WetBulb  PrecipTotal  \\\n",
       "Id                                                                    \n",
       "1   41.95469 -87.800991    24  74.0        56     64.0          0.0   \n",
       "2   41.95469 -87.800991    24  74.0        56     64.0          0.0   \n",
       "3   41.95469 -87.800991    24  74.0        56     64.0          0.0   \n",
       "4   41.95469 -87.800991    24  74.0        56     64.0          0.0   \n",
       "5   41.95469 -87.800991    24  74.0        56     64.0          0.0   \n",
       "\n",
       "    StnPressure  SeaLevel  ResultSpeed  ResultDir  AvgSpeed  CsTSRA  CsBR  \\\n",
       "Id                                                                          \n",
       "1         29.28     29.99          8.9         18      10.0       0     0   \n",
       "2         29.28     29.99          8.9         18      10.0       0     0   \n",
       "3         29.28     29.99          8.9         18      10.0       0     0   \n",
       "4         29.28     29.99          8.9         18      10.0       0     0   \n",
       "5         29.28     29.99          8.9         18      10.0       0     0   \n",
       "\n",
       "    CsRA  CsTS  RelativeHumidity  NightTime    DayTime  Tavg_7daysbf  \\\n",
       "Id                                                                     \n",
       "1      0     0         53.405643   8.833333  15.166667           0.0   \n",
       "2      0     0         53.405643   8.833333  15.166667           0.0   \n",
       "3      0     0         53.405643   8.833333  15.166667           0.0   \n",
       "4      0     0         53.405643   8.833333  15.166667           0.0   \n",
       "5      0     0         53.405643   8.833333  15.166667           0.0   \n",
       "\n",
       "    DewPoint_7daysbf  PrecipTotal_7daysbf  Species_CULEX PIPIENS  \\\n",
       "Id                                                                 \n",
       "1                  0                  0.0                      0   \n",
       "2                  0                  0.0                      0   \n",
       "3                  0                  0.0                      1   \n",
       "4                  0                  0.0                      0   \n",
       "5                  0                  0.0                      0   \n",
       "\n",
       "    Species_CULEX PIPIENS/RESTUANS  Species_CULEX RESTUANS  WnvRisk_low  \\\n",
       "Id                                                                        \n",
       "1                                1                       0            0   \n",
       "2                                0                       1            0   \n",
       "3                                0                       0            0   \n",
       "4                                0                       0            0   \n",
       "5                                0                       0            0   \n",
       "\n",
       "    WnvRisk_medium  WnvRisk_high  \n",
       "Id                                \n",
       "1                0             1  \n",
       "2                0             1  \n",
       "3                0             1  \n",
       "4                0             1  \n",
       "5                0             1  "
      ]
     },
     "execution_count": 50,
     "metadata": {},
     "output_type": "execute_result"
    }
   ],
   "source": [
    "df_test_model.head()"
   ]
  },
  {
   "cell_type": "code",
   "execution_count": 51,
   "metadata": {
    "ExecuteTime": {
     "end_time": "2022-06-10T00:39:03.724932Z",
     "start_time": "2022-06-10T00:39:03.694920Z"
    },
    "id": "cs65YKoXJsDo"
   },
   "outputs": [],
   "source": [
    "df_test_predict = df_test_model.copy()"
   ]
  },
  {
   "cell_type": "code",
   "execution_count": 52,
   "metadata": {
    "ExecuteTime": {
     "end_time": "2022-06-10T00:39:03.786943Z",
     "start_time": "2022-06-10T00:39:03.726928Z"
    },
    "colab": {
     "base_uri": "https://localhost:8080/",
     "height": 424
    },
    "executionInfo": {
     "elapsed": 38,
     "status": "ok",
     "timestamp": 1654766024388,
     "user": {
      "displayName": "Calvin Lim",
      "userId": "12406366410999313820"
     },
     "user_tz": -480
    },
    "id": "tidW7GfeAXmH",
    "outputId": "8e16aac2-2b3d-4eb6-db03-b48a671796f3"
   },
   "outputs": [
    {
     "data": {
      "text/html": [
       "<div>\n",
       "<style scoped>\n",
       "    .dataframe tbody tr th:only-of-type {\n",
       "        vertical-align: middle;\n",
       "    }\n",
       "\n",
       "    .dataframe tbody tr th {\n",
       "        vertical-align: top;\n",
       "    }\n",
       "\n",
       "    .dataframe thead th {\n",
       "        text-align: right;\n",
       "    }\n",
       "</style>\n",
       "<table border=\"1\" class=\"dataframe\">\n",
       "  <thead>\n",
       "    <tr style=\"text-align: right;\">\n",
       "      <th></th>\n",
       "      <th>Id</th>\n",
       "      <th>WnvPresent</th>\n",
       "    </tr>\n",
       "  </thead>\n",
       "  <tbody>\n",
       "    <tr>\n",
       "      <th>0</th>\n",
       "      <td>1</td>\n",
       "      <td>0.270231</td>\n",
       "    </tr>\n",
       "    <tr>\n",
       "      <th>1</th>\n",
       "      <td>2</td>\n",
       "      <td>0.139443</td>\n",
       "    </tr>\n",
       "    <tr>\n",
       "      <th>2</th>\n",
       "      <td>3</td>\n",
       "      <td>0.308836</td>\n",
       "    </tr>\n",
       "    <tr>\n",
       "      <th>3</th>\n",
       "      <td>4</td>\n",
       "      <td>0.002366</td>\n",
       "    </tr>\n",
       "    <tr>\n",
       "      <th>4</th>\n",
       "      <td>5</td>\n",
       "      <td>0.002366</td>\n",
       "    </tr>\n",
       "    <tr>\n",
       "      <th>...</th>\n",
       "      <td>...</td>\n",
       "      <td>...</td>\n",
       "    </tr>\n",
       "    <tr>\n",
       "      <th>116288</th>\n",
       "      <td>116289</td>\n",
       "      <td>0.000366</td>\n",
       "    </tr>\n",
       "    <tr>\n",
       "      <th>116289</th>\n",
       "      <td>116290</td>\n",
       "      <td>0.000366</td>\n",
       "    </tr>\n",
       "    <tr>\n",
       "      <th>116290</th>\n",
       "      <td>116291</td>\n",
       "      <td>0.000366</td>\n",
       "    </tr>\n",
       "    <tr>\n",
       "      <th>116291</th>\n",
       "      <td>116292</td>\n",
       "      <td>0.000366</td>\n",
       "    </tr>\n",
       "    <tr>\n",
       "      <th>116292</th>\n",
       "      <td>116293</td>\n",
       "      <td>0.000366</td>\n",
       "    </tr>\n",
       "  </tbody>\n",
       "</table>\n",
       "<p>116293 rows × 2 columns</p>\n",
       "</div>"
      ],
      "text/plain": [
       "            Id  WnvPresent\n",
       "0            1    0.270231\n",
       "1            2    0.139443\n",
       "2            3    0.308836\n",
       "3            4    0.002366\n",
       "4            5    0.002366\n",
       "...        ...         ...\n",
       "116288  116289    0.000366\n",
       "116289  116290    0.000366\n",
       "116290  116291    0.000366\n",
       "116291  116292    0.000366\n",
       "116292  116293    0.000366\n",
       "\n",
       "[116293 rows x 2 columns]"
      ]
     },
     "execution_count": 52,
     "metadata": {},
     "output_type": "execute_result"
    }
   ],
   "source": [
    "# Predict the df_test dataset using logistic regression\n",
    "df_test_model['WnvPresent'] = best_model_lr.predict_proba(df_test_predict)[:, 1]\n",
    "df_submission_lr = df_test_model[['WnvPresent']]\n",
    "\n",
    "# Reset the index ('ID') to column\n",
    "df_submission_lr = df_submission_lr.reset_index()\n",
    "\n",
    "df_submission_lr"
   ]
  },
  {
   "cell_type": "code",
   "execution_count": 53,
   "metadata": {
    "ExecuteTime": {
     "end_time": "2022-06-10T00:39:04.022376Z",
     "start_time": "2022-06-10T00:39:03.788945Z"
    },
    "id": "ohPeqcxxAYES"
   },
   "outputs": [],
   "source": [
    "# Export data set to csv file\n",
    "df_submission_lr.to_csv('../data/df_submission_lr.csv', index = False)"
   ]
  },
  {
   "cell_type": "code",
   "execution_count": 54,
   "metadata": {
    "ExecuteTime": {
     "end_time": "2022-06-10T00:39:05.051957Z",
     "start_time": "2022-06-10T00:39:04.024364Z"
    },
    "colab": {
     "base_uri": "https://localhost:8080/",
     "height": 424
    },
    "executionInfo": {
     "elapsed": 1521,
     "status": "ok",
     "timestamp": 1654766026711,
     "user": {
      "displayName": "Calvin Lim",
      "userId": "12406366410999313820"
     },
     "user_tz": -480
    },
    "id": "qKFVEktfRjBu",
    "outputId": "b0dd1ad7-a0aa-4c5b-f55a-c322cc82b09a"
   },
   "outputs": [
    {
     "data": {
      "text/html": [
       "<div>\n",
       "<style scoped>\n",
       "    .dataframe tbody tr th:only-of-type {\n",
       "        vertical-align: middle;\n",
       "    }\n",
       "\n",
       "    .dataframe tbody tr th {\n",
       "        vertical-align: top;\n",
       "    }\n",
       "\n",
       "    .dataframe thead th {\n",
       "        text-align: right;\n",
       "    }\n",
       "</style>\n",
       "<table border=\"1\" class=\"dataframe\">\n",
       "  <thead>\n",
       "    <tr style=\"text-align: right;\">\n",
       "      <th></th>\n",
       "      <th>Id</th>\n",
       "      <th>WnvPresent</th>\n",
       "    </tr>\n",
       "  </thead>\n",
       "  <tbody>\n",
       "    <tr>\n",
       "      <th>0</th>\n",
       "      <td>1</td>\n",
       "      <td>0.023208</td>\n",
       "    </tr>\n",
       "    <tr>\n",
       "      <th>1</th>\n",
       "      <td>2</td>\n",
       "      <td>0.031397</td>\n",
       "    </tr>\n",
       "    <tr>\n",
       "      <th>2</th>\n",
       "      <td>3</td>\n",
       "      <td>0.026860</td>\n",
       "    </tr>\n",
       "    <tr>\n",
       "      <th>3</th>\n",
       "      <td>4</td>\n",
       "      <td>0.023543</td>\n",
       "    </tr>\n",
       "    <tr>\n",
       "      <th>4</th>\n",
       "      <td>5</td>\n",
       "      <td>0.023543</td>\n",
       "    </tr>\n",
       "    <tr>\n",
       "      <th>...</th>\n",
       "      <td>...</td>\n",
       "      <td>...</td>\n",
       "    </tr>\n",
       "    <tr>\n",
       "      <th>116288</th>\n",
       "      <td>116289</td>\n",
       "      <td>0.158296</td>\n",
       "    </tr>\n",
       "    <tr>\n",
       "      <th>116289</th>\n",
       "      <td>116290</td>\n",
       "      <td>0.158296</td>\n",
       "    </tr>\n",
       "    <tr>\n",
       "      <th>116290</th>\n",
       "      <td>116291</td>\n",
       "      <td>0.158296</td>\n",
       "    </tr>\n",
       "    <tr>\n",
       "      <th>116291</th>\n",
       "      <td>116292</td>\n",
       "      <td>0.158296</td>\n",
       "    </tr>\n",
       "    <tr>\n",
       "      <th>116292</th>\n",
       "      <td>116293</td>\n",
       "      <td>0.158296</td>\n",
       "    </tr>\n",
       "  </tbody>\n",
       "</table>\n",
       "<p>116293 rows × 2 columns</p>\n",
       "</div>"
      ],
      "text/plain": [
       "            Id  WnvPresent\n",
       "0            1    0.023208\n",
       "1            2    0.031397\n",
       "2            3    0.026860\n",
       "3            4    0.023543\n",
       "4            5    0.023543\n",
       "...        ...         ...\n",
       "116288  116289    0.158296\n",
       "116289  116290    0.158296\n",
       "116290  116291    0.158296\n",
       "116291  116292    0.158296\n",
       "116292  116293    0.158296\n",
       "\n",
       "[116293 rows x 2 columns]"
      ]
     },
     "execution_count": 54,
     "metadata": {},
     "output_type": "execute_result"
    }
   ],
   "source": [
    "# Predict the df_test dataset using random forest\n",
    "df_test_model['WnvPresent'] = best_model_rf.predict_proba(df_test_predict)[:, 1]\n",
    "df_submission_rf = df_test_model[['WnvPresent']]\n",
    "\n",
    "# Reset the index ('ID') to column\n",
    "df_submission_rf = df_submission_rf.reset_index()\n",
    "\n",
    "df_submission_rf"
   ]
  },
  {
   "cell_type": "code",
   "execution_count": 55,
   "metadata": {
    "ExecuteTime": {
     "end_time": "2022-06-10T00:39:05.285011Z",
     "start_time": "2022-06-10T00:39:05.052965Z"
    },
    "id": "JrtMkTiK_lOp"
   },
   "outputs": [],
   "source": [
    "# Export data set to csv file\n",
    "df_submission_rf.to_csv('../data/df_submission_rf.csv', index = False)"
   ]
  },
  {
   "cell_type": "code",
   "execution_count": 56,
   "metadata": {
    "ExecuteTime": {
     "end_time": "2022-06-10T00:39:08.776565Z",
     "start_time": "2022-06-10T00:39:05.287011Z"
    },
    "colab": {
     "base_uri": "https://localhost:8080/",
     "height": 424
    },
    "executionInfo": {
     "elapsed": 3837,
     "status": "ok",
     "timestamp": 1654766031132,
     "user": {
      "displayName": "Calvin Lim",
      "userId": "12406366410999313820"
     },
     "user_tz": -480
    },
    "id": "rTXlAQaLRjBt",
    "outputId": "c4c36f88-4311-458c-dfd9-bff2d32fd346"
   },
   "outputs": [
    {
     "data": {
      "text/html": [
       "<div>\n",
       "<style scoped>\n",
       "    .dataframe tbody tr th:only-of-type {\n",
       "        vertical-align: middle;\n",
       "    }\n",
       "\n",
       "    .dataframe tbody tr th {\n",
       "        vertical-align: top;\n",
       "    }\n",
       "\n",
       "    .dataframe thead th {\n",
       "        text-align: right;\n",
       "    }\n",
       "</style>\n",
       "<table border=\"1\" class=\"dataframe\">\n",
       "  <thead>\n",
       "    <tr style=\"text-align: right;\">\n",
       "      <th></th>\n",
       "      <th>Id</th>\n",
       "      <th>WnvPresent</th>\n",
       "    </tr>\n",
       "  </thead>\n",
       "  <tbody>\n",
       "    <tr>\n",
       "      <th>0</th>\n",
       "      <td>1</td>\n",
       "      <td>0.444018</td>\n",
       "    </tr>\n",
       "    <tr>\n",
       "      <th>1</th>\n",
       "      <td>2</td>\n",
       "      <td>0.440963</td>\n",
       "    </tr>\n",
       "    <tr>\n",
       "      <th>2</th>\n",
       "      <td>3</td>\n",
       "      <td>0.444386</td>\n",
       "    </tr>\n",
       "    <tr>\n",
       "      <th>3</th>\n",
       "      <td>4</td>\n",
       "      <td>0.439788</td>\n",
       "    </tr>\n",
       "    <tr>\n",
       "      <th>4</th>\n",
       "      <td>5</td>\n",
       "      <td>0.439788</td>\n",
       "    </tr>\n",
       "    <tr>\n",
       "      <th>...</th>\n",
       "      <td>...</td>\n",
       "      <td>...</td>\n",
       "    </tr>\n",
       "    <tr>\n",
       "      <th>116288</th>\n",
       "      <td>116289</td>\n",
       "      <td>0.487558</td>\n",
       "    </tr>\n",
       "    <tr>\n",
       "      <th>116289</th>\n",
       "      <td>116290</td>\n",
       "      <td>0.487558</td>\n",
       "    </tr>\n",
       "    <tr>\n",
       "      <th>116290</th>\n",
       "      <td>116291</td>\n",
       "      <td>0.487558</td>\n",
       "    </tr>\n",
       "    <tr>\n",
       "      <th>116291</th>\n",
       "      <td>116292</td>\n",
       "      <td>0.487558</td>\n",
       "    </tr>\n",
       "    <tr>\n",
       "      <th>116292</th>\n",
       "      <td>116293</td>\n",
       "      <td>0.487558</td>\n",
       "    </tr>\n",
       "  </tbody>\n",
       "</table>\n",
       "<p>116293 rows × 2 columns</p>\n",
       "</div>"
      ],
      "text/plain": [
       "            Id  WnvPresent\n",
       "0            1    0.444018\n",
       "1            2    0.440963\n",
       "2            3    0.444386\n",
       "3            4    0.439788\n",
       "4            5    0.439788\n",
       "...        ...         ...\n",
       "116288  116289    0.487558\n",
       "116289  116290    0.487558\n",
       "116290  116291    0.487558\n",
       "116291  116292    0.487558\n",
       "116292  116293    0.487558\n",
       "\n",
       "[116293 rows x 2 columns]"
      ]
     },
     "execution_count": 56,
     "metadata": {},
     "output_type": "execute_result"
    }
   ],
   "source": [
    "# Predict the df_test dataset using adaboost\n",
    "df_test_model['WnvPresent'] = best_model_ada.predict_proba(df_test_predict)[:, 1]\n",
    "df_submission_ada = df_test_model[['WnvPresent']]\n",
    "\n",
    "# Reset the index ('ID') to column\n",
    "df_submission_ada = df_submission_ada.reset_index()\n",
    "\n",
    "df_submission_ada"
   ]
  },
  {
   "cell_type": "code",
   "execution_count": 57,
   "metadata": {
    "ExecuteTime": {
     "end_time": "2022-06-10T00:39:09.012152Z",
     "start_time": "2022-06-10T00:39:08.778554Z"
    },
    "id": "ce2b92FRRjBu"
   },
   "outputs": [],
   "source": [
    "# Export data set to csv file\n",
    "df_submission_ada.to_csv('../data/df_submission_ada.csv', index = False)"
   ]
  },
  {
   "cell_type": "code",
   "execution_count": 58,
   "metadata": {
    "ExecuteTime": {
     "end_time": "2022-06-10T00:39:09.294054Z",
     "start_time": "2022-06-10T00:39:09.014132Z"
    },
    "colab": {
     "base_uri": "https://localhost:8080/",
     "height": 424
    },
    "executionInfo": {
     "elapsed": 22,
     "status": "ok",
     "timestamp": 1654766031797,
     "user": {
      "displayName": "Calvin Lim",
      "userId": "12406366410999313820"
     },
     "user_tz": -480
    },
    "id": "u3qdt51cRjBt",
    "outputId": "b8eadca2-8f67-43bc-dc95-bf622d7f3159"
   },
   "outputs": [
    {
     "data": {
      "text/html": [
       "<div>\n",
       "<style scoped>\n",
       "    .dataframe tbody tr th:only-of-type {\n",
       "        vertical-align: middle;\n",
       "    }\n",
       "\n",
       "    .dataframe tbody tr th {\n",
       "        vertical-align: top;\n",
       "    }\n",
       "\n",
       "    .dataframe thead th {\n",
       "        text-align: right;\n",
       "    }\n",
       "</style>\n",
       "<table border=\"1\" class=\"dataframe\">\n",
       "  <thead>\n",
       "    <tr style=\"text-align: right;\">\n",
       "      <th></th>\n",
       "      <th>Id</th>\n",
       "      <th>WnvPresent</th>\n",
       "    </tr>\n",
       "  </thead>\n",
       "  <tbody>\n",
       "    <tr>\n",
       "      <th>0</th>\n",
       "      <td>1</td>\n",
       "      <td>0.025156</td>\n",
       "    </tr>\n",
       "    <tr>\n",
       "      <th>1</th>\n",
       "      <td>2</td>\n",
       "      <td>0.014138</td>\n",
       "    </tr>\n",
       "    <tr>\n",
       "      <th>2</th>\n",
       "      <td>3</td>\n",
       "      <td>0.016637</td>\n",
       "    </tr>\n",
       "    <tr>\n",
       "      <th>3</th>\n",
       "      <td>4</td>\n",
       "      <td>0.018384</td>\n",
       "    </tr>\n",
       "    <tr>\n",
       "      <th>4</th>\n",
       "      <td>5</td>\n",
       "      <td>0.018384</td>\n",
       "    </tr>\n",
       "    <tr>\n",
       "      <th>...</th>\n",
       "      <td>...</td>\n",
       "      <td>...</td>\n",
       "    </tr>\n",
       "    <tr>\n",
       "      <th>116288</th>\n",
       "      <td>116289</td>\n",
       "      <td>0.076777</td>\n",
       "    </tr>\n",
       "    <tr>\n",
       "      <th>116289</th>\n",
       "      <td>116290</td>\n",
       "      <td>0.076777</td>\n",
       "    </tr>\n",
       "    <tr>\n",
       "      <th>116290</th>\n",
       "      <td>116291</td>\n",
       "      <td>0.076777</td>\n",
       "    </tr>\n",
       "    <tr>\n",
       "      <th>116291</th>\n",
       "      <td>116292</td>\n",
       "      <td>0.076777</td>\n",
       "    </tr>\n",
       "    <tr>\n",
       "      <th>116292</th>\n",
       "      <td>116293</td>\n",
       "      <td>0.076777</td>\n",
       "    </tr>\n",
       "  </tbody>\n",
       "</table>\n",
       "<p>116293 rows × 2 columns</p>\n",
       "</div>"
      ],
      "text/plain": [
       "            Id  WnvPresent\n",
       "0            1    0.025156\n",
       "1            2    0.014138\n",
       "2            3    0.016637\n",
       "3            4    0.018384\n",
       "4            5    0.018384\n",
       "...        ...         ...\n",
       "116288  116289    0.076777\n",
       "116289  116290    0.076777\n",
       "116290  116291    0.076777\n",
       "116291  116292    0.076777\n",
       "116292  116293    0.076777\n",
       "\n",
       "[116293 rows x 2 columns]"
      ]
     },
     "execution_count": 58,
     "metadata": {},
     "output_type": "execute_result"
    }
   ],
   "source": [
    "# Predict the df_test_model dataset using gradient boost\n",
    "df_test_model['WnvPresent'] = best_model_gb.predict_proba(df_test_predict)[:, 1]\n",
    "df_submission_gb = df_test_model[['WnvPresent']]\n",
    "\n",
    "# Reset the index ('ID') to column\n",
    "df_submission_gb = df_submission_gb.reset_index()\n",
    "\n",
    "df_submission_gb"
   ]
  },
  {
   "cell_type": "code",
   "execution_count": 59,
   "metadata": {
    "ExecuteTime": {
     "end_time": "2022-06-10T00:39:09.543375Z",
     "start_time": "2022-06-10T00:39:09.297054Z"
    },
    "id": "qwDeY0bBRjBt"
   },
   "outputs": [],
   "source": [
    "# Export data set to csv file\n",
    "df_submission_gb.to_csv('../data/df_submission_gb.csv', index = False)"
   ]
  },
  {
   "cell_type": "code",
   "execution_count": 60,
   "metadata": {
    "ExecuteTime": {
     "end_time": "2022-06-10T00:39:09.685388Z",
     "start_time": "2022-06-10T00:39:09.545370Z"
    },
    "colab": {
     "base_uri": "https://localhost:8080/",
     "height": 424
    },
    "executionInfo": {
     "elapsed": 427,
     "status": "ok",
     "timestamp": 1654766033430,
     "user": {
      "displayName": "Calvin Lim",
      "userId": "12406366410999313820"
     },
     "user_tz": -480
    },
    "id": "8wukHhOwRjBv",
    "outputId": "8417d329-6112-465c-da63-931c087cc714"
   },
   "outputs": [
    {
     "data": {
      "text/html": [
       "<div>\n",
       "<style scoped>\n",
       "    .dataframe tbody tr th:only-of-type {\n",
       "        vertical-align: middle;\n",
       "    }\n",
       "\n",
       "    .dataframe tbody tr th {\n",
       "        vertical-align: top;\n",
       "    }\n",
       "\n",
       "    .dataframe thead th {\n",
       "        text-align: right;\n",
       "    }\n",
       "</style>\n",
       "<table border=\"1\" class=\"dataframe\">\n",
       "  <thead>\n",
       "    <tr style=\"text-align: right;\">\n",
       "      <th></th>\n",
       "      <th>Id</th>\n",
       "      <th>WnvPresent</th>\n",
       "    </tr>\n",
       "  </thead>\n",
       "  <tbody>\n",
       "    <tr>\n",
       "      <th>0</th>\n",
       "      <td>1</td>\n",
       "      <td>0.046756</td>\n",
       "    </tr>\n",
       "    <tr>\n",
       "      <th>1</th>\n",
       "      <td>2</td>\n",
       "      <td>0.015932</td>\n",
       "    </tr>\n",
       "    <tr>\n",
       "      <th>2</th>\n",
       "      <td>3</td>\n",
       "      <td>0.052493</td>\n",
       "    </tr>\n",
       "    <tr>\n",
       "      <th>3</th>\n",
       "      <td>4</td>\n",
       "      <td>0.012311</td>\n",
       "    </tr>\n",
       "    <tr>\n",
       "      <th>4</th>\n",
       "      <td>5</td>\n",
       "      <td>0.012311</td>\n",
       "    </tr>\n",
       "    <tr>\n",
       "      <th>...</th>\n",
       "      <td>...</td>\n",
       "      <td>...</td>\n",
       "    </tr>\n",
       "    <tr>\n",
       "      <th>116288</th>\n",
       "      <td>116289</td>\n",
       "      <td>0.001931</td>\n",
       "    </tr>\n",
       "    <tr>\n",
       "      <th>116289</th>\n",
       "      <td>116290</td>\n",
       "      <td>0.001931</td>\n",
       "    </tr>\n",
       "    <tr>\n",
       "      <th>116290</th>\n",
       "      <td>116291</td>\n",
       "      <td>0.001931</td>\n",
       "    </tr>\n",
       "    <tr>\n",
       "      <th>116291</th>\n",
       "      <td>116292</td>\n",
       "      <td>0.001931</td>\n",
       "    </tr>\n",
       "    <tr>\n",
       "      <th>116292</th>\n",
       "      <td>116293</td>\n",
       "      <td>0.001931</td>\n",
       "    </tr>\n",
       "  </tbody>\n",
       "</table>\n",
       "<p>116293 rows × 2 columns</p>\n",
       "</div>"
      ],
      "text/plain": [
       "            Id  WnvPresent\n",
       "0            1    0.046756\n",
       "1            2    0.015932\n",
       "2            3    0.052493\n",
       "3            4    0.012311\n",
       "4            5    0.012311\n",
       "...        ...         ...\n",
       "116288  116289    0.001931\n",
       "116289  116290    0.001931\n",
       "116290  116291    0.001931\n",
       "116291  116292    0.001931\n",
       "116292  116293    0.001931\n",
       "\n",
       "[116293 rows x 2 columns]"
      ]
     },
     "execution_count": 60,
     "metadata": {},
     "output_type": "execute_result"
    }
   ],
   "source": [
    "# Predict the df_test dataset using xg boost\n",
    "df_test_model['WnvPresent'] = best_model_xgb.predict_proba(df_test_predict)[:, 1]\n",
    "df_submission_xgb = df_test_model[['WnvPresent']]\n",
    "\n",
    "# Reset the index ('ID') to column\n",
    "df_submission_xgb = df_submission_xgb.reset_index()\n",
    "\n",
    "df_submission_xgb"
   ]
  },
  {
   "cell_type": "code",
   "execution_count": 61,
   "metadata": {
    "ExecuteTime": {
     "end_time": "2022-06-10T00:39:09.905774Z",
     "start_time": "2022-06-10T00:39:09.687390Z"
    },
    "id": "WfOrxiskRjBv"
   },
   "outputs": [],
   "source": [
    "# Export data set to csv file\n",
    "df_submission_xgb.to_csv('../data/df_submission_xgb.csv', index = False)"
   ]
  },
  {
   "cell_type": "code",
   "execution_count": 62,
   "metadata": {
    "ExecuteTime": {
     "end_time": "2022-06-10T00:40:27.369403Z",
     "start_time": "2022-06-10T00:39:09.907765Z"
    },
    "colab": {
     "base_uri": "https://localhost:8080/",
     "height": 424
    },
    "executionInfo": {
     "elapsed": 56038,
     "status": "ok",
     "timestamp": 1654766090500,
     "user": {
      "displayName": "Calvin Lim",
      "userId": "12406366410999313820"
     },
     "user_tz": -480
    },
    "id": "kjNlhcYWRjBw",
    "outputId": "fa65bdd6-9401-4ab4-8c36-3d28e908f2d3"
   },
   "outputs": [
    {
     "data": {
      "text/html": [
       "<div>\n",
       "<style scoped>\n",
       "    .dataframe tbody tr th:only-of-type {\n",
       "        vertical-align: middle;\n",
       "    }\n",
       "\n",
       "    .dataframe tbody tr th {\n",
       "        vertical-align: top;\n",
       "    }\n",
       "\n",
       "    .dataframe thead th {\n",
       "        text-align: right;\n",
       "    }\n",
       "</style>\n",
       "<table border=\"1\" class=\"dataframe\">\n",
       "  <thead>\n",
       "    <tr style=\"text-align: right;\">\n",
       "      <th></th>\n",
       "      <th>Id</th>\n",
       "      <th>WnvPresent</th>\n",
       "    </tr>\n",
       "  </thead>\n",
       "  <tbody>\n",
       "    <tr>\n",
       "      <th>0</th>\n",
       "      <td>1</td>\n",
       "      <td>0.005960</td>\n",
       "    </tr>\n",
       "    <tr>\n",
       "      <th>1</th>\n",
       "      <td>2</td>\n",
       "      <td>0.005742</td>\n",
       "    </tr>\n",
       "    <tr>\n",
       "      <th>2</th>\n",
       "      <td>3</td>\n",
       "      <td>0.005748</td>\n",
       "    </tr>\n",
       "    <tr>\n",
       "      <th>3</th>\n",
       "      <td>4</td>\n",
       "      <td>0.005814</td>\n",
       "    </tr>\n",
       "    <tr>\n",
       "      <th>4</th>\n",
       "      <td>5</td>\n",
       "      <td>0.005814</td>\n",
       "    </tr>\n",
       "    <tr>\n",
       "      <th>...</th>\n",
       "      <td>...</td>\n",
       "      <td>...</td>\n",
       "    </tr>\n",
       "    <tr>\n",
       "      <th>116288</th>\n",
       "      <td>116289</td>\n",
       "      <td>0.035926</td>\n",
       "    </tr>\n",
       "    <tr>\n",
       "      <th>116289</th>\n",
       "      <td>116290</td>\n",
       "      <td>0.035926</td>\n",
       "    </tr>\n",
       "    <tr>\n",
       "      <th>116290</th>\n",
       "      <td>116291</td>\n",
       "      <td>0.035926</td>\n",
       "    </tr>\n",
       "    <tr>\n",
       "      <th>116291</th>\n",
       "      <td>116292</td>\n",
       "      <td>0.035926</td>\n",
       "    </tr>\n",
       "    <tr>\n",
       "      <th>116292</th>\n",
       "      <td>116293</td>\n",
       "      <td>0.035926</td>\n",
       "    </tr>\n",
       "  </tbody>\n",
       "</table>\n",
       "<p>116293 rows × 2 columns</p>\n",
       "</div>"
      ],
      "text/plain": [
       "            Id  WnvPresent\n",
       "0            1    0.005960\n",
       "1            2    0.005742\n",
       "2            3    0.005748\n",
       "3            4    0.005814\n",
       "4            5    0.005814\n",
       "...        ...         ...\n",
       "116288  116289    0.035926\n",
       "116289  116290    0.035926\n",
       "116290  116291    0.035926\n",
       "116291  116292    0.035926\n",
       "116292  116293    0.035926\n",
       "\n",
       "[116293 rows x 2 columns]"
      ]
     },
     "execution_count": 62,
     "metadata": {},
     "output_type": "execute_result"
    }
   ],
   "source": [
    "# Predict the df_test dataset using SVM\n",
    "df_test_model['WnvPresent'] = best_model_svc.predict_proba(df_test_predict)[:, 1]\n",
    "df_submission_svc = df_test_model[['WnvPresent']]\n",
    "\n",
    "# Reset the index ('ID') to column\n",
    "df_submission_svc = df_submission_svc.reset_index()\n",
    "\n",
    "df_submission_svc"
   ]
  },
  {
   "cell_type": "code",
   "execution_count": 63,
   "metadata": {
    "ExecuteTime": {
     "end_time": "2022-06-10T00:40:27.589219Z",
     "start_time": "2022-06-10T00:40:27.371384Z"
    },
    "id": "FIaP8WjWE62-"
   },
   "outputs": [],
   "source": [
    "# Export data set to csv file\n",
    "df_submission_svc.to_csv('../data/df_submission_svc.csv', index = False)"
   ]
  },
  {
   "cell_type": "code",
   "execution_count": 64,
   "metadata": {
    "ExecuteTime": {
     "end_time": "2022-06-10T00:41:14.975130Z",
     "start_time": "2022-06-10T00:40:27.590213Z"
    },
    "colab": {
     "base_uri": "https://localhost:8080/",
     "height": 424
    },
    "executionInfo": {
     "elapsed": 34476,
     "status": "ok",
     "timestamp": 1654766125620,
     "user": {
      "displayName": "Calvin Lim",
      "userId": "12406366410999313820"
     },
     "user_tz": -480
    },
    "id": "NgRdgXF8E7pa",
    "outputId": "064c2754-de61-4e56-c87c-8d0a2c391999"
   },
   "outputs": [
    {
     "data": {
      "text/html": [
       "<div>\n",
       "<style scoped>\n",
       "    .dataframe tbody tr th:only-of-type {\n",
       "        vertical-align: middle;\n",
       "    }\n",
       "\n",
       "    .dataframe tbody tr th {\n",
       "        vertical-align: top;\n",
       "    }\n",
       "\n",
       "    .dataframe thead th {\n",
       "        text-align: right;\n",
       "    }\n",
       "</style>\n",
       "<table border=\"1\" class=\"dataframe\">\n",
       "  <thead>\n",
       "    <tr style=\"text-align: right;\">\n",
       "      <th></th>\n",
       "      <th>Id</th>\n",
       "      <th>WnvPresent</th>\n",
       "    </tr>\n",
       "  </thead>\n",
       "  <tbody>\n",
       "    <tr>\n",
       "      <th>0</th>\n",
       "      <td>1</td>\n",
       "      <td>0.166667</td>\n",
       "    </tr>\n",
       "    <tr>\n",
       "      <th>1</th>\n",
       "      <td>2</td>\n",
       "      <td>0.000000</td>\n",
       "    </tr>\n",
       "    <tr>\n",
       "      <th>2</th>\n",
       "      <td>3</td>\n",
       "      <td>0.466667</td>\n",
       "    </tr>\n",
       "    <tr>\n",
       "      <th>3</th>\n",
       "      <td>4</td>\n",
       "      <td>0.000000</td>\n",
       "    </tr>\n",
       "    <tr>\n",
       "      <th>4</th>\n",
       "      <td>5</td>\n",
       "      <td>0.000000</td>\n",
       "    </tr>\n",
       "    <tr>\n",
       "      <th>...</th>\n",
       "      <td>...</td>\n",
       "      <td>...</td>\n",
       "    </tr>\n",
       "    <tr>\n",
       "      <th>116288</th>\n",
       "      <td>116289</td>\n",
       "      <td>0.033333</td>\n",
       "    </tr>\n",
       "    <tr>\n",
       "      <th>116289</th>\n",
       "      <td>116290</td>\n",
       "      <td>0.033333</td>\n",
       "    </tr>\n",
       "    <tr>\n",
       "      <th>116290</th>\n",
       "      <td>116291</td>\n",
       "      <td>0.033333</td>\n",
       "    </tr>\n",
       "    <tr>\n",
       "      <th>116291</th>\n",
       "      <td>116292</td>\n",
       "      <td>0.033333</td>\n",
       "    </tr>\n",
       "    <tr>\n",
       "      <th>116292</th>\n",
       "      <td>116293</td>\n",
       "      <td>0.033333</td>\n",
       "    </tr>\n",
       "  </tbody>\n",
       "</table>\n",
       "<p>116293 rows × 2 columns</p>\n",
       "</div>"
      ],
      "text/plain": [
       "            Id  WnvPresent\n",
       "0            1    0.166667\n",
       "1            2    0.000000\n",
       "2            3    0.466667\n",
       "3            4    0.000000\n",
       "4            5    0.000000\n",
       "...        ...         ...\n",
       "116288  116289    0.033333\n",
       "116289  116290    0.033333\n",
       "116290  116291    0.033333\n",
       "116291  116292    0.033333\n",
       "116292  116293    0.033333\n",
       "\n",
       "[116293 rows x 2 columns]"
      ]
     },
     "execution_count": 64,
     "metadata": {},
     "output_type": "execute_result"
    }
   ],
   "source": [
    "# Predict the df_test dataset using KNN\n",
    "df_test_model['WnvPresent'] = best_model_knn.predict_proba(df_test_predict)[:, 1]\n",
    "df_submission_knn = df_test_model[['WnvPresent']]\n",
    "\n",
    "# Reset the index ('ID') to column\n",
    "df_submission_knn = df_submission_knn.reset_index()\n",
    "\n",
    "df_submission_knn"
   ]
  },
  {
   "cell_type": "code",
   "execution_count": 65,
   "metadata": {
    "ExecuteTime": {
     "end_time": "2022-06-10T00:41:15.164805Z",
     "start_time": "2022-06-10T00:41:14.977130Z"
    },
    "id": "oTIiGN31E8Td"
   },
   "outputs": [],
   "source": [
    "# Export data set to csv file\n",
    "df_submission_knn.to_csv('../data/df_submission_knn.csv', index = False)"
   ]
  },
  {
   "cell_type": "markdown",
   "metadata": {
    "id": "e9ElLvtl8HUz"
   },
   "source": [
    "## ROC AUC Score Comparison"
   ]
  },
  {
   "cell_type": "markdown",
   "metadata": {
    "id": "rWU-UTcfMbax"
   },
   "source": [
    "|Model                  | Train ROC AUC | Validation ROC AUC | Test (Kaggle) ROC AUC |\n",
    "|:----------------------|:--------------|:-------------------|:-------------|\n",
    "|Logistic Regression    |0.8385         |0.8549              |0.7228\n",
    "|Random Forest          |0.9184         |0.8757              |0.6336\n",
    "|AdaBoost               |0.8752         |0.8813              |0.6514\n",
    "|Gradient Boost         |0.9063         |0.8752              |0.6378\n",
    "|XGBoost                |0.8762         |0.8805              |0.6638\n",
    "|Support Vector Machine |0.8940         |0.8746              |0.6550\n",
    "|k-Nearest Neighbours   |0.9349         |0.8565              |0.6208"
   ]
  },
  {
   "cell_type": "markdown",
   "metadata": {
    "id": "wWV5dBsP6l1O"
   },
   "source": [
    "We see a drop in the ROC AUC score when the model is used to predict the test dataset in Kaggle. One reason why a different set of results is obtained is because the test dataset is a much larger dataset as compared to the train dataset. Hence, our best model may not have sufficient data to train and predict in a large dataset. \n",
    "\n",
    "Based on the test (Kaggle) ROC AUC result, the Logistic Regression model has the best ROC AUC score instead of Ada Boost. This is likely due to the fact that logistic regressions tend to perform better than ensemble models when the data are linearly separable, i.e. the border separating data points from one category to another is a straight line instead of an oval or a very squiggly line separating one category from another."
   ]
  },
  {
   "cell_type": "markdown",
   "metadata": {
    "id": "iIDZen3bMcCw"
   },
   "source": [
    "## Cost Benefit Analysis"
   ]
  },
  {
   "cell_type": "markdown",
   "metadata": {
    "id": "SOmYXh8VMcr4"
   },
   "source": [
    "As we review the costs incurred against benefits derived annually, and especially when we heard rumours that our vendor, VDCI, may not be continuing for Option years 2023 and 2024, the data science team shares our Cost Benefit Analysis recommendations below.\n",
    "\n",
    "Since the potentially benefits derived from alleviating this economic burden caused by the West Nile Virus of up to **USD 3,003,756** far outweighs the costs of our Mosquito Abatement Program's efforts for 2023 of **USD 520,698** by ~5.8 times ( = 3,003,756 / 520,698 ), we strongly recommend continuing with our Mosquito Abatement Program's efforts for 2023 and beyond. (Refer below for details.)"
   ]
  },
  {
   "cell_type": "markdown",
   "metadata": {
    "id": "aobdO6KSMc9Y"
   },
   "source": [
    "### Cost"
   ]
  },
  {
   "cell_type": "markdown",
   "metadata": {
    "id": "dLwkLEiGMdPj"
   },
   "source": [
    "#### Existing \"SLE Vector Mosquito Abatement Program\" Contract"
   ]
  },
  {
   "cell_type": "markdown",
   "metadata": {
    "id": "b2CA7QALMdf5"
   },
   "source": [
    "According to Contract (PO) Number 17068 **\"SLE Vector Mosquito Abatement Program\"** ([*source*](http://ecm.cityofchicago.org/eSMARTContracts/service/DPSWebDocumentViewer?sid=EDGE&id=000032S5)) we awarded to [*Vector Disease Control International (VDCI)*](https://www.vdci.net/about-us/), a world leader in Integrated Mosquito Management (IMM) services, the costs associated for each year from 2018 to 2023 are summarised below:\n",
    "\n",
    "| **Budget**                               | **Year 1**   | **Year 2** | **Year 3** | **Year 4** | **Year 5** | **Option Year 6** | **Option Year 6** |\n",
    "|------------------------------------------|--------------|------------|------------|------------|------------|-------------------|-------------------|\n",
    "|                                          |     **2018** |   **2019** |   **2020** |   **2021** |   **2022** |          **2023** |          **2024** |\n",
    "| **<br>Estimated<br>Annual Fee<br>(USD)** | 448,819.70 * |    462,284 |    476,153 |    490,808 |    505,532 |           **520,698** |           **536,319** |\n",
    "| **CPI %**                                |              |      3.00% |      3.00% |      3.08% |      3.00% |             3.00% |             3.00% |\n",
    "\n",
    "\\* Does not include the cost of pre-season catch basin treatments at USD2.52 per basin treated. The number to be treated, each year, will be determined after consultation with CDPH (Chicago Department of Public Health)."
   ]
  },
  {
   "cell_type": "markdown",
   "metadata": {
    "id": "wH3AvhMoMfAS"
   },
   "source": [
    "#### Summary of Contractor's Scope of Services and Time Limits for Performance"
   ]
  },
  {
   "cell_type": "markdown",
   "metadata": {
    "id": "WJ7fdZQuMfRV"
   },
   "source": [
    "(Please refer to original awarded contract to Contractor, VDCI, for details.)\n",
    "\n",
    "- **I. Conduct Environmental Surveillance**\n",
    "  - Place and maintain ~ 100 traps from 01 Jun to 30 Sep each year.\n",
    "  - Collect mosquitoes on twice-weekly basis from these traps (typically Tue and Wed each week).\n",
    "  - Test mosquitoes weekly.\n",
    "  - Maintain all required logs, test all traps and components to ensure proper functions, ensure batteries sufficiently charged.\n",
    "- **II. Conduct Larviciding**\n",
    "  - Initiate larviciding 01 May each year, treat all catch-basins and other mosquito breeding sites identified, place additional larvicide in locations identified by CDPH. All larviciding ends 30 Sep each year.\n",
    "  - Geocode all locations treated with larvacide and display on a map, to be updated at least weekly.\n",
    "- **III. Survey and Inspect Known or Suspected Mosquito Breeding Sites**\n",
    "  - Survey and inspect to identify potential mosquito breeding sites and document findings on a map by 01 May each year, place larvicide and advise affected property owner.\n",
    "- **IV. Conduct Adulticiding**\n",
    "  - Adulticide within 48 hour notice by CDPH or CDA (Chicago Department of Aviation).\n",
    "  - Geocode all areas treated with adulticide and display on a map by next business day.\n",
    "- **V. Conduct Public Outreach**\n",
    "  - Place door hangers on outside of homes in areas on day off or day prior to scheduled adulticiding.\n",
    "  - Disseminate brochures and other public information materials to aldermanic offices, libraries and other locations.\n",
    "- **VI. Conduct Quality Control**\n",
    "  - Test all traps and components to ensure proper functions, ensure batteries sufficiently charged.\n",
    "  - Run all appropriate controls during real-time Polymerase Chain Reaction (PCR) testing of mosquitoes.\n",
    "  - Calibrate all adulticide application equipment and keep all calibrations logs.\n",
    "  - Evaluate resistance to both larvacide and adulticide products using methodologies approved by CDPH and/or CDA.\n",
    "- **VII. Maintain Logs, Compile and Report Data, and Prepare Maps and Reports**\n",
    "  - Maintain log of all trap locations, all maintenance and testing performed on traps and batteries, number and type of mosquitoes collected, results of all PCR-testing, door hangers and brochures and other public information materials disseminated, submit relevant information into Disease Tracker Application, [*ZDT*](https://videal.com/cases/zdt-city-of-chicago/).\n",
    "  - Geocode all locations treated with larvacide and display on a map, to update at least weekly.\n",
    "  - Geocode all areas treated with adulticide and display on a map, make available to CDPH and CDA by next business day.\n",
    "  - Prepare summary of results of environmental surveillance efforts from prior week by each Monday noon, and provide assessment of risk of human infection.\n",
    "  - Provide final report summarizing environmental survillance, prevention and control activities, and recommendations for following year to CDPH and CDA by 31 Dec.\n",
    "- **VIII. Provide Entomological Consultation**\n",
    "  - Provide entomological consultation on all aspects of surveillance, prevention and control program.\n",
    "- **IX. Purchase Equipment and Supplies**\n",
    "  - Purchase, service and maintain all equipment and supplies necessary to conduct environmental surveillance, larviciding, adulticiding, survey and inspect potential mosquito breeding sites."
   ]
  },
  {
   "cell_type": "markdown",
   "metadata": {
    "id": "gShLqhZRMfo-"
   },
   "source": [
    "### Benefit:"
   ]
  },
  {
   "cell_type": "markdown",
   "metadata": {
    "id": "z8BPeczxMf6N"
   },
   "source": [
    "Based upon the comprehensive \"**Initial and Long-Term Costs of Patients Hospitalized with West Nile Virus Disease**\" ([*Source*](https://www.ncbi.nlm.nih.gov/pmc/articles/PMC3945683/pdf/tropmed-90-402.pdf))  paper published by authors from the [*Centers for Disease Control and Prevention (CDC)*](https://www.cdc.gov/) dated 05 Mar 2014, we derived a provisionary projection for Total Economic Costs per individual in 2023 USD for patients with West Nile Virus disease by clinical syndrome below by projecting the associated costs from 2012 USD values found in this study at the assumed Consumer Price Index (CPI) of 3% per annum: \n",
    "\n",
    "<img src=\"../media/Total Economic Costs in 2023 USD.png\" style=\"float: left; margin: 20px; height: 800px\">\n",
    "\n",
    "Total Economic Costs is used here as a proxy to the economic burden caused by the West Nile Virus (WNV) for quantitatively assessing the benefits potentially derived from our Mosquito Abatement Program's efforts."
   ]
  },
  {
   "cell_type": "markdown",
   "metadata": {
    "id": "qrsH4lwsM8x5"
   },
   "source": [
    "### Analysis:"
   ]
  },
  {
   "cell_type": "markdown",
   "metadata": {
    "id": "LmQNenvmM9MZ"
   },
   "source": [
    "We summarise the number of Human Cases and Dead Birds through the most recent 10 years from 2012 to 2021 from the weekly \"West Nile Virus Surveillance Reports\"([*Source*](https://www.chicago.gov/city/en/depts/cdph/supp_info/infectious/west_nile_virus_surveillancereports.html)) below:\n",
    "\n",
    "|                            | **2012** | **2013** | **2014** | **2015** | **2016** | **2017** | **2018** | **2019** | **2020** | **2021** |\n",
    "|----------------------------|---------:|---------:|---------:|---------:|---------:|---------:|---------:|---------:|---------:|---------:|\n",
    "| **Human Cases**            |       22 |        1 |        6 |       16 |   **49** |        6 |       42 |        2 |       11 |       10 |\n",
    "| **Human Cases (Fatality)** | -        | -        | -        |    **3** |        2 |        1 | -        | -        | -        | -        |\n",
    "|                            |          |          |          |          |          |          |          |          |          |          |\n",
    "| **Dead Birds**             |       25 |       10 |        7 |        4 |        4 |       14 |        7 |        6 |        2 |        9 |\n",
    "| **Positive**               |        3 |        2 |        2 | -        | -        |        1 |        2 |        1 | -        | -        |\n",
    "| **Unable to Test**         |        7 | -        |        1 |        2 |        2 |        3 |        2 | -        |        1 |        1 |\n",
    "| **Pending**                | -        | -        | -        | -        | -        |        2 | -        |        2 | -        |        1 |\n",
    "| **Negative**               |       15 |        8 |        4 |        2 |        2 |        8 |        3 |        3 |        1 |        7 |\n",
    "\n",
    "Kindly note that the figures above for years 2015 and 2016 are more accurate than that for other years as they are the finalised figures for these 2 years. However, similar summaries from the other 8 years are unavailable and the corresponding figures above are likely underestimates of the actual statistics.\n",
    "\n",
    "Nevertheless, the above information is still sufficient for our purpose of Cost Benefit Analysis.\n",
    "\n",
    "- In the most recent 10 years from 2012 to 2021, \n",
    "  - The most number of **Human Cases** of **49** was recorded in year **2016**\n",
    "  - The most number of **Human Cases resulting in Fatality** of **3** was recorded in year **2015**\n",
    "<BR><BR>\n",
    "- Assuming all things constant, \n",
    "  - **COST**:\n",
    "    - Estimated cost of our Mosquito Abatement Program's efforts for 2023 would be comparable to that of our existing awarded contract to VDCI at **USD 520,698**.\n",
    "  - **BENEFIT**:\n",
    "    - In deriving the benefits, we assume the following **worst scenario** of:\n",
    "       - **Total Human Cases** of **49** and **Total Death** of **2**\n",
    "       - Based on the total case, the Total Economic Costs per individual in 2023 USD for patients with West Nile Virus disease by clinical syndrome of AFP would therefore be as high as **USD 3,003,756** ( = 3 x USD 1,001,252 ).\n",
    "<BR><BR>\n",
    "- Since the potentially benefits derived from alleviating this economic burden caused by the West Nile Virus of up to **USD 3,003,756** far outweighs the costs of our Mosquito Abatement Program's efforts for 2023 of **USD 520,698** by ~5.8 times ( = 3,003,756 / 520,698 ), we strongly recommend continuing with our Mosquito Abatement Program's efforts for 2023 and beyond."
   ]
  },
  {
   "cell_type": "markdown",
   "metadata": {
    "id": "4Hb_QsATMsIu"
   },
   "source": [
    "## Recommendations"
   ]
  },
  {
   "cell_type": "markdown",
   "metadata": {
    "id": "GLaEYZVOMsSq"
   },
   "source": [
    "\n",
    "- Increase larviciding initiation at the location which has a high risk of West Nile Virus emergence (WnV case > 5). Current allocated resource is only for 190 acres which translates to 1 neighborhood. An additional 800 acres will cost approximately USD77,920.\n",
    "- Lowering the threshold of adulticiding for the month of June and July, which is the month with high population growth. It will speed up the handling of adult mosquitoes findings and ultimately suppress the population of mosquitoes. An additional 100 miles costs approximately USD12,060 is needed.\n",
    "- Conducting awareness roadshows within the neighborhood to make the residents more aware of the virus related information and they can help in reducing potential breeding location. Estimated Cost: USD 15,000"
   ]
  },
  {
   "cell_type": "markdown",
   "metadata": {
    "id": "rgUH6YgY9kqP"
   },
   "source": [
    "## Limitations"
   ]
  },
  {
   "cell_type": "markdown",
   "metadata": {
    "id": "PeLpGfZB9k7L"
   },
   "source": [
    "- The train and weather datasets provided is dated, ranging from 2007 to 2014. As the weather conditions may have changed due to global warming, updated datasets are necessary to reflect the current conditions. This will helps the model to better predict for the current year.\n",
    "- The train dataset is much smaller than the test dataset resulting in a much lower ROC AUC test score. We will need to gather more data for model training.\n",
    "- There is time constraint for hyperparameter tuning to obtain a better performing model.\n",
    "\n"
   ]
  },
  {
   "cell_type": "markdown",
   "metadata": {
    "id": "_3hlJ6yC9gTv"
   },
   "source": [
    "## Future Plans"
   ]
  },
  {
   "cell_type": "markdown",
   "metadata": {
    "id": "XzY-FT39M2Rw"
   },
   "source": [
    "Moving forward, the team will:\n",
    "\n",
    "- Check if the recommendation is effective or existing trend still persists, after implementing the new recommended spraying schedule and updated datasets.\n",
    "- Obtain data on location and numbers of larvaes found and study the trend. This will helps us in proposing actions for potentially earlier prevention of mosquito breeding rather than to control for adult mosquitoes.\n",
    "- Study both the environmental and health effects related to the insecticide that we have used for both larviciding and adulticiding.\n",
    "- Study the potential impact of global warming on local weather, the growth of mosquitoes and the spread of WNV.\n",
    "- Apply new techniques, such as Principal Component Analysis (PCA), for modeling. This will potentially help in treating the collinearity between the existing features.\n",
    "\n"
   ]
  },
  {
   "cell_type": "markdown",
   "metadata": {
    "id": "VWn-B3X19bAY"
   },
   "source": [
    "## Conclusions"
   ]
  },
  {
   "cell_type": "markdown",
   "metadata": {
    "id": "Bt79Z7KDMB7s"
   },
   "source": [
    "- Several models were run to analyse which model is the best model to predict the presence of the WNV mosquito. Our recommended model based on the ROC AUC validation score is AdaBoost.\n",
    "\n",
    "- The cost for the contract is estimated to be ~ USD625,678 per year with the additional recommendations.\n",
    "\n",
    "- The targeted mosquito abatement efforts include increasing larviciding initiations at high risk areas, lowering the threshold to activate adulticiding during July and August and conducting awareness roadshows before May.\n",
    "\n",
    "Thus, we have met the goal of this project: \n",
    "- Developed a predictive model based on past data on weather conditions and virus detection locations.\n",
    "- Brought focus to where and when pesticides should be sprayed that would effectively combat the WNV problem.\n",
    "- Conducted a Cost Benefit Analysis to justify our recommendations."
   ]
  }
 ],
 "metadata": {
  "colab": {
   "collapsed_sections": [],
   "name": "Project 4 - Model.ipynb",
   "provenance": []
  },
  "kernelspec": {
   "display_name": "Python 3 (ipykernel)",
   "language": "python",
   "name": "python3"
  },
  "language_info": {
   "codemirror_mode": {
    "name": "ipython",
    "version": 3
   },
   "file_extension": ".py",
   "mimetype": "text/x-python",
   "name": "python",
   "nbconvert_exporter": "python",
   "pygments_lexer": "ipython3",
   "version": "3.8.13"
  },
  "latex_envs": {
   "LaTeX_envs_menu_present": true,
   "autoclose": false,
   "autocomplete": true,
   "bibliofile": "biblio.bib",
   "cite_by": "apalike",
   "current_citInitial": 1,
   "eqLabelWithNumbers": true,
   "eqNumInitial": 1,
   "hotkeys": {
    "equation": "Ctrl-E",
    "itemize": "Ctrl-I"
   },
   "labels_anchors": false,
   "latex_user_defs": false,
   "report_style_numbering": false,
   "user_envs_cfg": false
  },
  "toc": {
   "base_numbering": 1,
   "nav_menu": {},
   "number_sections": false,
   "sideBar": true,
   "skip_h1_title": false,
   "title_cell": "Table of Contents",
   "title_sidebar": "Contents",
   "toc_cell": false,
   "toc_position": {
    "height": "calc(100% - 180px)",
    "left": "10px",
    "top": "150px",
    "width": "247px"
   },
   "toc_section_display": true,
   "toc_window_display": true
  }
 },
 "nbformat": 4,
 "nbformat_minor": 1
}
