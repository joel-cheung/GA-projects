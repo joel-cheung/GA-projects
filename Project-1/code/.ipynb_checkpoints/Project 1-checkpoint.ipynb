{
 "cells": [
  {
   "cell_type": "markdown",
   "metadata": {},
   "source": [
    "<img src=\"http://imgur.com/1ZcRyrc.png\" style=\"float: left; margin: 20px; height: 55px\">\n",
    "\n",
    "# Project 1: SAT Participation Data Analysis"
   ]
  },
  {
   "cell_type": "markdown",
   "metadata": {},
   "source": [
    "# Information"
   ]
  },
  {
   "cell_type": "markdown",
   "metadata": {},
   "source": [
    "This is the first project in the course, and this project aims to familiarize students to the Exploratory Data Analysis portion of the data science workflow and to be familiar with the basic Python functions and methods. Prompts from the course instructors are included in this notebook."
   ]
  },
  {
   "cell_type": "markdown",
   "metadata": {},
   "source": [
    "--- \n",
    "# Part 1\n",
    "\n",
    "Part 1 requires knowledge of basic Python.\n",
    "\n",
    "---"
   ]
  },
  {
   "cell_type": "markdown",
   "metadata": {},
   "source": [
    "# Problem Statement"
   ]
  },
  {
   "cell_type": "markdown",
   "metadata": {},
   "source": [
    "The new format for the SAT was released in March 2016. Since then, levels of participation in multiple states have changed with varying legislative decisions. This project aims to explore trends in SAT participation for the years 2016-2021, seeks to identify profitable opportunities in the market segments and to advice College Board on targeted methods that they can engage in to increase SAT participation rates."
   ]
  },
  {
   "cell_type": "markdown",
   "metadata": {},
   "source": [
    "### Contents:\n",
    "- [Background](#Background)\n",
    "- [Data Import & Cleaning](#Data-Import-and-Cleaning)\n",
    "- [Exploratory Data Analysis](#Exploratory-Data-Analysis)\n",
    "- [Data Visualization](#Visualize-the-Data)\n",
    "- [Conclusions and Recommendations](#Conclusions-and-Recommendations)"
   ]
  },
  {
   "cell_type": "markdown",
   "metadata": {},
   "source": [
    "# Background"
   ]
  },
  {
   "cell_type": "markdown",
   "metadata": {},
   "source": [
    "The SAT and ACT are standardized tests that many colleges and universities in the United States require for their admissions process. This score is used along with other materials such as grade point average (GPA) and essay responses to determine whether or not a potential student will be accepted to the university.\n",
    "\n",
    "The SAT has two sections of the test: Evidence-Based Reading and Writing and Math ([*source*](https://www.princetonreview.com/college/sat-sections)). The ACT has 4 sections: English, Mathematics, Reading, and Science, with an additional optional writing section ([*source*](https://www.act.org/content/act/en/products-and-services/the-act/scores/understanding-your-scores.html)). They have different score ranges, which you can read more about on their websites or additional outside sources (a quick Google search will help you understand the scores for each test):\n",
    "* [SAT](https://collegereadiness.collegeboard.org/sat)\n",
    "* [ACT](https://www.act.org/content/act/en.html)\n",
    "\n",
    "Standardized tests have long been a controversial topic for students, administrators, and legislators. Since the 1940's, an increasing number of colleges have been using scores from sudents' performances on tests like the SAT and the ACT as a measure for college readiness and aptitude ([*source*](https://www.minotdailynews.com/news/local-news/2017/04/a-brief-history-of-the-sat-and-act/)). Supporters of these tests argue that these scores can be used as an objective measure to determine college admittance. Opponents of these tests claim that these tests are not accurate measures of students potential or ability and serve as an inequitable barrier to entry. Lately, more and more schools are opting to drop the SAT/ACT requirement for their Fall 2021 applications ([*read more about this here*](https://www.cnn.com/2020/04/14/us/coronavirus-colleges-sat-act-test-trnd/index.html))."
   ]
  },
  {
   "cell_type": "markdown",
   "metadata": {},
   "source": [
    "**To-Do:** *Fill out this cell (or edit the above cell) with any other background or information that is necessary for your problem statement.*"
   ]
  },
  {
   "cell_type": "markdown",
   "metadata": {},
   "source": [
    "### Choose your Data\n",
    "\n",
    "There are 10 datasets included in the [`data`](./data/) folder for this project. You are required to pick **at least two** of these to complete your analysis. Feel free to use more than two if you would like, or add other relevant datasets you find online.\n",
    "\n",
    "* [`act_2017.csv`](./data/act_2017.csv): 2017 ACT Scores by State\n",
    "* [`act_2018.csv`](./data/act_2018.csv): 2018 ACT Scores by State\n",
    "* [`act_2019.csv`](./data/act_2019.csv): 2019 ACT Scores by State\n",
    "* [`act_2019_ca.csv`](./data/act_2019_ca.csv): 2019 ACT Scores in California by School\n",
    "* [`sat_2017.csv`](./data/sat_2017.csv): 2017 SAT Scores by State\n",
    "* [`sat_2018.csv`](./data/sat_2018.csv): 2018 SAT Scores by State\n",
    "* [`sat_2019.csv`](./data/sat_2019.csv): 2019 SAT Scores by State\n",
    "* [`sat_2019_by_intended_college_major.csv`](./data/sat_2019_by_intended_college_major.csv): 2019 SAT Scores by Intended College Major\n",
    "* [`sat_2019_ca.csv`](./data/sat_2019_ca.csv): 2019 SAT Scores in California by School\n",
    "* [`sat_act_by_college.csv`](./data/sat_act_by_college.csv): Ranges of Accepted ACT & SAT Student Scores by Colleges"
   ]
  },
  {
   "cell_type": "markdown",
   "metadata": {},
   "source": [
    "# The datasets used are:\n",
    "* sat_2017.csv: 2017 SAT Scores by State\n",
    "* sat_2018.csv: 2018 SAT Scores by State\n",
    "* sat_2019.csv: 2019 SAT Scores by State\n",
    "* act_2019.csv: 2019 ACT Scores by State\n",
    "\n",
    "\n",
    "* There are 3 additional external datasets shown below"
   ]
  },
  {
   "cell_type": "markdown",
   "metadata": {},
   "source": [
    "### Outside Research"
   ]
  },
  {
   "cell_type": "markdown",
   "metadata": {},
   "source": [
    "Based on your problem statement and your chosen datasets, spend some time doing outside research on state policies or additional information that might be relevant. Summarize your findings below. If you bring in any outside tables or charts, make sure you are explicit about having borrowed them. If you quote any text, make sure that it renders as being quoted. **Make sure that you cite your sources.**"
   ]
  },
  {
   "cell_type": "markdown",
   "metadata": {},
   "source": [
    "# List of External Research\n",
    "\n",
    "* The following shows the list of states that make SAT a high school graduation requirement\\\n",
    "https://blog.collegevine.com/states-that-require-sat/\n",
    "\n",
    "\n",
    "* The following is the source 2016 SAT participation rate data\\\n",
    "https://blog.prepscholar.com/average-sat-and-act-scores-by-stated-adjusted-for-participation-rate\n",
    "\n",
    "\n",
    "* The following is the source of the 2020 SAT participation rate data\\\n",
    "https://soflotutors.com/blog/sat-scores-by-state/\n",
    "\n",
    "\n",
    "* The following is the source of the 2021 SAT participation rate data\\\n",
    "https://blog.prepscholar.com/average-sat-scores-by-state-most-recent#:~:text=In%202021%2C%20the%20College%20Board,Math%3A%20528\n",
    "\n",
    "\n",
    "* The following shows the main sources of income for College Board, and SAT in itself is not one of them\\\n",
    "https://www.forbes.com/sites/susanadams/2020/09/30/the-forbes-investigation-how-the-sat-failed-america/?sh=28075db353b5\n",
    "\n",
    "\n",
    "* The following shows the reason for lower SAT participation rates in 2021, compared to earlier years\\\n",
    "https://newsroom.collegeboard.org/sat-program-results-capture-impact-of-covid-on-class-of-2021#:~:text=SAT%20Program%20Results%20Capture%20Impact%20of%20COVID%20on%20Class%20of%202021,-Though%20Fewer%20Opportunities&text=Many%20students%20attempted%20to%20take,to%20close%20or%20reduce%20capacity.\n",
    "\n",
    "\n",
    "* SAT going online\\\n",
    "https://www.cnbc.com/2022/01/25/the-sat-will-go-fully-onlineand-take-just-two-hours.html"
   ]
  },
  {
   "cell_type": "markdown",
   "metadata": {},
   "source": [
    "### Coding Challenges\n",
    "\n",
    "1. Manually calculate mean:\n",
    "\n",
    "    Write a function that takes in values and returns the mean of the values. Create a list of numbers that you test on your function to check to make sure your function works!\n",
    "    \n",
    "    *Note*: Do not use any mean methods built-in to any Python libraries to do this! This should be done without importing any additional libraries."
   ]
  },
  {
   "cell_type": "code",
   "execution_count": 1,
   "metadata": {},
   "outputs": [],
   "source": [
    "# Code:\n",
    "# Mean is the sum of the values divided by the number of values\n",
    "def calc_mean(values):\n",
    "    sum_of_values = sum(values)\n",
    "    count = len(values)\n",
    "    results = sum_of_values/count\n",
    "    return results\n"
   ]
  },
  {
   "cell_type": "code",
   "execution_count": 2,
   "metadata": {},
   "outputs": [
    {
     "name": "stdout",
     "output_type": "stream",
     "text": [
      "10.0\n",
      "3.5\n",
      "550.0\n"
     ]
    }
   ],
   "source": [
    "# Test cases\n",
    "tc1 = [10]\n",
    "tc2 = [1, 2, 3, 4, 5, 6]\n",
    "tc3 = [100, 200, 300, 400, 500, 600, 700, 800, 900, 1000]\n",
    "\n",
    "print (calc_mean(tc1))\n",
    "print (calc_mean(tc2))\n",
    "print (calc_mean(tc3))"
   ]
  },
  {
   "cell_type": "markdown",
   "metadata": {},
   "source": [
    "2. Manually calculate standard deviation:\n",
    "\n",
    "    The formula for standard deviation is below:\n",
    "\n",
    "    $$\\sigma = \\sqrt{\\frac{1}{n}\\sum_{i=1}^n(x_i - \\mu)^2}$$\n",
    "\n",
    "    Where $x_i$ represents each value in the dataset, $\\mu$ represents the mean of all values in the dataset and $n$ represents the number of values in the dataset.\n",
    "\n",
    "    Write a function that takes in values and returns the standard deviation of the values using the formula above. Hint: use the function you wrote above to calculate the mean! Use the list of numbers you created above to test on your function.\n",
    "    \n",
    "    *Note*: Do not use any standard deviation methods built-in to any Python libraries to do this! This should be done without importing any additional libraries."
   ]
  },
  {
   "cell_type": "code",
   "execution_count": 3,
   "metadata": {},
   "outputs": [],
   "source": [
    "# Code:\n",
    "# Based on the formula to use, it is calculating the population standard deviation\n",
    "def calc_std_dev(values):\n",
    "    # Using the mean from the previous question\n",
    "    mean = calc_mean(values)\n",
    "    # Number of values to be used as the denominator\n",
    "    count = len(values)\n",
    "    # Calculating individual deviations\n",
    "    deviations = [(value - mean) ** 2 for value in values]\n",
    "    # Creating a list of squared-differences values to be summed \n",
    "    return (sum(deviations)/count) ** 0.5"
   ]
  },
  {
   "cell_type": "code",
   "execution_count": 4,
   "metadata": {},
   "outputs": [
    {
     "name": "stdout",
     "output_type": "stream",
     "text": [
      "0.0\n",
      "1.707825127659933\n",
      "287.22813232690146\n"
     ]
    }
   ],
   "source": [
    "print (calc_std_dev(tc1))\n",
    "print (calc_std_dev(tc2))\n",
    "print (calc_std_dev(tc3))"
   ]
  },
  {
   "cell_type": "markdown",
   "metadata": {},
   "source": [
    "3. Data cleaning function:\n",
    "    \n",
    "    Write a function that takes in a string that is a number and a percent symbol (ex. '50%', '30.5%', etc.) and converts this to a float that is the decimal approximation of the percent. For example, inputting '50%' in your function should return 0.5, '30.5%' should return 0.305, etc. Make sure to test your function to make sure it works!\n",
    "\n",
    "You will use these functions later on in the project!"
   ]
  },
  {
   "cell_type": "code",
   "execution_count": 5,
   "metadata": {},
   "outputs": [],
   "source": [
    "# Code:\n",
    "def perc_to_dec(values):\n",
    "    return 0.01 * float(values.replace(\"%\",\"\").strip())"
   ]
  },
  {
   "cell_type": "code",
   "execution_count": 6,
   "metadata": {},
   "outputs": [
    {
     "name": "stdout",
     "output_type": "stream",
     "text": [
      "0.025\n",
      "0.1\n"
     ]
    }
   ],
   "source": [
    "# Test cases\n",
    "# tc4 has leading and trailing spaces\n",
    "tc4 = ' 2.5%'\n",
    "tc5 = '10%'\n",
    "\n",
    "print(perc_to_dec(tc4))\n",
    "print(perc_to_dec(tc5))"
   ]
  },
  {
   "cell_type": "markdown",
   "metadata": {},
   "source": [
    "--- \n",
    "# Part 2\n",
    "\n",
    "Part 2 requires knowledge of Pandas, EDA, data cleaning, and data visualization.\n",
    "\n",
    "---"
   ]
  },
  {
   "cell_type": "markdown",
   "metadata": {},
   "source": [
    "*All libraries used should be added here*"
   ]
  },
  {
   "cell_type": "code",
   "execution_count": 7,
   "metadata": {},
   "outputs": [],
   "source": [
    "# Imports:\n",
    "import pandas as pd\n",
    "import numpy as np\n",
    "import matplotlib.pyplot as plt"
   ]
  },
  {
   "cell_type": "markdown",
   "metadata": {},
   "source": [
    "## Data Import and Cleaning"
   ]
  },
  {
   "cell_type": "markdown",
   "metadata": {},
   "source": [
    "### Data Import & Cleaning\n",
    "\n",
    "Import the datasets that you selected for this project and go through the following steps at a minimum. You are welcome to do further cleaning as you feel necessary:\n",
    "1. Display the data: print the first 5 rows of each dataframe to your Jupyter notebook.\n",
    "2. Check for missing values.\n",
    "3. Check for any obvious issues with the observations (keep in mind the minimum & maximum possible values for each test/subtest).\n",
    "4. Fix any errors you identified in steps 2-3.\n",
    "5. Display the data types of each feature.\n",
    "6. Fix any incorrect data types found in step 5.\n",
    "    - Fix any individual values preventing other columns from being the appropriate type.\n",
    "    - If your dataset has a column of percents (ex. '50%', '30.5%', etc.), use the function you wrote in Part 1 (coding challenges, number 3) to convert this to floats! *Hint*: use `.map()` or `.apply()`.\n",
    "7. Rename Columns.\n",
    "    - Column names should be all lowercase.\n",
    "    - Column names should not contain spaces (underscores will suffice--this allows for using the `df.column_name` method to access columns in addition to `df['column_name']`).\n",
    "    - Column names should be unique and informative.\n",
    "8. Drop unnecessary rows (if needed).\n",
    "9. Merge dataframes that can be merged.\n",
    "10. Perform any additional cleaning that you feel is necessary.\n",
    "11. Save your cleaned and merged dataframes as csv files."
   ]
  },
  {
   "cell_type": "code",
   "execution_count": 8,
   "metadata": {
    "scrolled": true
   },
   "outputs": [],
   "source": [
    "# Importing the 3 datasets to be used\n",
    "sat2017 = pd.read_csv(\"../data/sat_2017.csv\")\n",
    "sat2018 = pd.read_csv(\"../data/sat_2018.csv\")\n",
    "sat2019 = pd.read_csv(\"../data/sat_2019.csv\")\n",
    "act2019 = pd.read_csv(\"../data/act_2019.csv\")\n",
    "\n",
    "# Also the 3 additional datasets from online\n",
    "sat2016 = pd.read_csv(\"../data/sat_2016.csv\")\n",
    "sat2020 = pd.read_csv(\"../data/sat_2020.csv\")\n",
    "sat2021 = pd.read_csv(\"../data/sat_2021.csv\")"
   ]
  },
  {
   "cell_type": "markdown",
   "metadata": {},
   "source": [
    "# Notes on external datasets for 2016, 2020 and 2021 SAT Participation rates \n",
    "\n",
    "The datasets have been processed before imported, the processing done were:\n",
    "\n",
    "1. Column headers are already in lower case and contain no spaces\n",
    "2. Rows relating to Puerto Rico and Virgin Islands removed, for reasons stated later\n",
    "3. Rows that are not state and participation rates are removed\n",
    "4. Percentage values that were originally in string format are converted to float using the defined function"
   ]
  },
  {
   "cell_type": "markdown",
   "metadata": {},
   "source": [
    "# Initial Investigation of Data"
   ]
  },
  {
   "cell_type": "code",
   "execution_count": 1,
   "metadata": {},
   "outputs": [
    {
     "ename": "NameError",
     "evalue": "name 'sat2017' is not defined",
     "output_type": "error",
     "traceback": [
      "\u001b[1;31m---------------------------------------------------------------------------\u001b[0m",
      "\u001b[1;31mNameError\u001b[0m                                 Traceback (most recent call last)",
      "Input \u001b[1;32mIn [1]\u001b[0m, in \u001b[0;36m<cell line: 2>\u001b[1;34m()\u001b[0m\n\u001b[0;32m      1\u001b[0m \u001b[38;5;66;03m# Printing first few rows of each dataset\u001b[39;00m\n\u001b[1;32m----> 2\u001b[0m \u001b[38;5;28mprint\u001b[39m(\u001b[43msat2017\u001b[49m\u001b[38;5;241m.\u001b[39mhead(),\u001b[38;5;124m'\u001b[39m\u001b[38;5;130;01m\\n\u001b[39;00m\u001b[38;5;124m'\u001b[39m)\n\u001b[0;32m      3\u001b[0m \u001b[38;5;28mprint\u001b[39m(sat2018\u001b[38;5;241m.\u001b[39mhead(),\u001b[38;5;124m'\u001b[39m\u001b[38;5;130;01m\\n\u001b[39;00m\u001b[38;5;124m'\u001b[39m)\n\u001b[0;32m      4\u001b[0m \u001b[38;5;28mprint\u001b[39m(sat2019\u001b[38;5;241m.\u001b[39mhead(),\u001b[38;5;124m'\u001b[39m\u001b[38;5;130;01m\\n\u001b[39;00m\u001b[38;5;124m'\u001b[39m)\n",
      "\u001b[1;31mNameError\u001b[0m: name 'sat2017' is not defined"
     ]
    }
   ],
   "source": [
    "# Printing first few rows of each dataset\n",
    "print(sat2017.head(),'\\n')\n",
    "print(sat2018.head(),'\\n')\n",
    "print(sat2019.head(),'\\n')\n",
    "print(act2019.head())"
   ]
  },
  {
   "cell_type": "code",
   "execution_count": 10,
   "metadata": {},
   "outputs": [
    {
     "name": "stdout",
     "output_type": "stream",
     "text": [
      "        State Participation Rate  EBRW  Math  Total\n",
      "0     Alabama                 7%   583   560   1143\n",
      "1      Alaska                41%   556   541   1097\n",
      "2     Arizona                31%   569   565   1134\n",
      "3    Arkansas                 6%   582   559   1141\n",
      "4  California                63%   534   531   1065\n",
      "        State Participation  EBRW  Math  Total\n",
      "0     Alabama            7%   583   560   1143\n",
      "1      Alaska           41%   556   541   1097\n",
      "2     Arizona           31%   569   565   1134\n",
      "3    Arkansas            6%   582   559   1141\n",
      "4  California           63%   534   531   1065\n"
     ]
    }
   ],
   "source": [
    "print(sat2019.head())\n",
    "\n",
    "# Changing the column header name from 'Participation Rate' to 'Participation' to match the other datasets\n",
    "sat2019.rename(columns = {'Participation Rate': 'Participation'}, inplace = True)\n",
    "\n",
    "# Check if the change in column name is correctly done\n",
    "print(sat2019.head())"
   ]
  },
  {
   "cell_type": "markdown",
   "metadata": {},
   "source": [
    "It can be observed that the 2019 participation column header is different from that of 2017 and 2018, and thus changing it for consistency"
   ]
  },
  {
   "cell_type": "code",
   "execution_count": 11,
   "metadata": {},
   "outputs": [
    {
     "name": "stdout",
     "output_type": "stream",
     "text": [
      "           state  participation_2016\n",
      "0  Massachusetts                0.84\n",
      "1    Connecticut                0.88\n",
      "2      Minnesota                0.06\n",
      "3     New Jersey                0.79\n",
      "4       Illinois                0.05 \n",
      "\n",
      "        state  participation_2020\n",
      "0     Alabama                0.07\n",
      "1      Alaska                0.37\n",
      "2     Arizona                0.29\n",
      "3    Arkansas                0.04\n",
      "4  California                0.67 \n",
      "\n",
      "        state  participation_2021\n",
      "0     Alabama                0.03\n",
      "1      Alaska                0.23\n",
      "2     Arizona                0.11\n",
      "3    Arkansas                0.02\n",
      "4  California                0.24\n"
     ]
    }
   ],
   "source": [
    "# Looking at the first 5 rows of the 2016, 2020 and 2021 SAT dataset\n",
    "print(sat2016.head(),'\\n')\n",
    "print(sat2020.head(),'\\n')\n",
    "print(sat2021.head())"
   ]
  },
  {
   "cell_type": "markdown",
   "metadata": {},
   "source": [
    "# Checking for Missing Values"
   ]
  },
  {
   "cell_type": "code",
   "execution_count": 12,
   "metadata": {},
   "outputs": [
    {
     "name": "stdout",
     "output_type": "stream",
     "text": [
      "State                                 0\n",
      "Participation                         0\n",
      "Evidence-Based Reading and Writing    0\n",
      "Math                                  0\n",
      "Total                                 0\n",
      "dtype: int64 \n",
      "\n",
      "State                                 0\n",
      "Participation                         0\n",
      "Evidence-Based Reading and Writing    0\n",
      "Math                                  0\n",
      "Total                                 0\n",
      "dtype: int64 \n",
      "\n",
      "State            0\n",
      "Participation    0\n",
      "EBRW             0\n",
      "Math             0\n",
      "Total            0\n",
      "dtype: int64 \n",
      "\n",
      "State            0\n",
      "Participation    0\n",
      "Composite        0\n",
      "dtype: int64\n"
     ]
    }
   ],
   "source": [
    "# Checking for missing values for 2017, 2018, 2019 SAT datasets and 2019 ACT dataset\n",
    "print(sat2017.isna().sum(),'\\n')\n",
    "print(sat2018.isna().sum(),'\\n')\n",
    "print(sat2019.isna().sum(),'\\n')\n",
    "print(act2019.isna().sum())"
   ]
  },
  {
   "cell_type": "code",
   "execution_count": 13,
   "metadata": {},
   "outputs": [
    {
     "name": "stdout",
     "output_type": "stream",
     "text": [
      "state                 0\n",
      "participation_2016    0\n",
      "dtype: int64 \n",
      "\n",
      "state                 0\n",
      "participation_2020    0\n",
      "dtype: int64 \n",
      "\n",
      "state                 0\n",
      "participation_2021    0\n",
      "dtype: int64\n"
     ]
    }
   ],
   "source": [
    "# Checking for missing values for 2016, 2020, and 2021 SAT datasets\n",
    "print(sat2016.isna().sum(),'\\n')\n",
    "print(sat2020.isna().sum(),'\\n')\n",
    "print(sat2021.isna().sum())"
   ]
  },
  {
   "cell_type": "markdown",
   "metadata": {},
   "source": [
    "Need to first convert the Participation rates from a string to a float to check its limits and look for any obvious issues as stated in step 3"
   ]
  },
  {
   "cell_type": "markdown",
   "metadata": {},
   "source": [
    "# Data Types of Features"
   ]
  },
  {
   "cell_type": "code",
   "execution_count": 14,
   "metadata": {},
   "outputs": [
    {
     "name": "stdout",
     "output_type": "stream",
     "text": [
      "State                                 object\n",
      "Participation                         object\n",
      "Evidence-Based Reading and Writing     int64\n",
      "Math                                   int64\n",
      "Total                                  int64\n",
      "dtype: object \n",
      "\n",
      "State                                 object\n",
      "Participation                         object\n",
      "Evidence-Based Reading and Writing     int64\n",
      "Math                                   int64\n",
      "Total                                  int64\n",
      "dtype: object \n",
      "\n",
      "State            object\n",
      "Participation    object\n",
      "EBRW              int64\n",
      "Math              int64\n",
      "Total             int64\n",
      "dtype: object \n",
      "\n",
      "State             object\n",
      "Participation     object\n",
      "Composite        float64\n",
      "dtype: object\n"
     ]
    }
   ],
   "source": [
    "# Look at data type of each feature of 2017, 2018, and 2019 SAT datasets\n",
    "print(sat2017.dtypes,'\\n')\n",
    "print(sat2018.dtypes,'\\n')\n",
    "print(sat2019.dtypes,'\\n')\n",
    "print(act2019.dtypes)"
   ]
  },
  {
   "cell_type": "markdown",
   "metadata": {},
   "source": [
    "It can be observed that the participation rates for the 2017, 2018, 2019 SAT and 2019 ACT datasets are in the string format and needs to be changed to the float format to be analyzed."
   ]
  },
  {
   "cell_type": "code",
   "execution_count": 15,
   "metadata": {},
   "outputs": [
    {
     "name": "stdout",
     "output_type": "stream",
     "text": [
      "state                  object\n",
      "participation_2016    float64\n",
      "dtype: object \n",
      "\n",
      "state                  object\n",
      "participation_2020    float64\n",
      "dtype: object \n",
      "\n",
      "state                  object\n",
      "participation_2021    float64\n",
      "dtype: object\n"
     ]
    }
   ],
   "source": [
    "# Look at data type of each feature of 2016, 2020, and 2021 SAT datasets\n",
    "# Since these 3 external datasets have been pre-processed, no need to convert data types\n",
    "print(sat2016.dtypes,'\\n')\n",
    "print(sat2020.dtypes,'\\n')\n",
    "print(sat2021.dtypes)"
   ]
  },
  {
   "cell_type": "markdown",
   "metadata": {},
   "source": [
    "# Converting Data Types\n",
    "\n",
    "* Assert checks are done to ensure that data type is correctly changed\n",
    "* Assert checks will return an error if columns are not in the desired data type"
   ]
  },
  {
   "cell_type": "code",
   "execution_count": 16,
   "metadata": {},
   "outputs": [
    {
     "name": "stdout",
     "output_type": "stream",
     "text": [
      "        State  Participation  Evidence-Based Reading and Writing  Math  Total\n",
      "0     Alabama           0.05                                 593   572   1165\n",
      "1      Alaska           0.38                                 547   533   1080\n",
      "2     Arizona           0.30                                 563   553   1116\n",
      "3    Arkansas           0.03                                 614   594   1208\n",
      "4  California           0.53                                 531   524   1055\n"
     ]
    }
   ],
   "source": [
    "# Applying the previously created function to change 2017 SAT Participation datatype to float\n",
    "sat2017['Participation'] = sat2017['Participation'].apply(perc_to_dec)\n",
    "\n",
    "# Check data type again and see the conversion of the 2017 Participation column\n",
    "assert sat2017['Participation'].dtypes == 'float'\n",
    "print(sat2017.head())"
   ]
  },
  {
   "cell_type": "code",
   "execution_count": 17,
   "metadata": {},
   "outputs": [
    {
     "name": "stdout",
     "output_type": "stream",
     "text": [
      "        State  Participation  Evidence-Based Reading and Writing  Math  Total\n",
      "0     Alabama           0.06                                 595   571   1166\n",
      "1      Alaska           0.43                                 562   544   1106\n",
      "2     Arizona           0.29                                 577   572   1149\n",
      "3    Arkansas           0.05                                 592   576   1169\n",
      "4  California           0.60                                 540   536   1076\n"
     ]
    }
   ],
   "source": [
    "# Applying the previously created function to change 2018 SAT Participation datatype to float\n",
    "sat2018['Participation'] = sat2018['Participation'].apply(perc_to_dec)\n",
    "\n",
    "# Check data type again and see the conversion of the 2018 Participation column\n",
    "assert sat2018['Participation'].dtypes == 'float'\n",
    "print(sat2018.head())"
   ]
  },
  {
   "cell_type": "code",
   "execution_count": 18,
   "metadata": {},
   "outputs": [
    {
     "name": "stdout",
     "output_type": "stream",
     "text": [
      "        State  Participation  EBRW  Math  Total\n",
      "0     Alabama           0.07   583   560   1143\n",
      "1      Alaska           0.41   556   541   1097\n",
      "2     Arizona           0.31   569   565   1134\n",
      "3    Arkansas           0.06   582   559   1141\n",
      "4  California           0.63   534   531   1065\n"
     ]
    }
   ],
   "source": [
    "# Removing the 2 states from 2019 SAT dataset\n",
    "\n",
    "sat2019 = sat2019[(sat2019['State'] != 'Puerto Rico') & (sat2019['State'] != 'Virgin Islands')]\n",
    "\n",
    "# Applying the previously created function to change Participation datatype to float\n",
    "sat2019['Participation'] = sat2019['Participation'].apply(perc_to_dec)\n",
    "\n",
    "# Check data type again and see the conversion of the 2019 Participation column\n",
    "assert sat2019['Participation'].dtypes == 'float'\n",
    "print(sat2019.head())"
   ]
  },
  {
   "cell_type": "markdown",
   "metadata": {},
   "source": [
    "### Decided to remove rows relating to Puerto Rico and Virgin Islands as there are no recorded participation rates included in the 2019 dataset"
   ]
  },
  {
   "cell_type": "code",
   "execution_count": 19,
   "metadata": {},
   "outputs": [],
   "source": [
    "# Applying the previously created function to change 2018 SAT Participation datatype to float\n",
    "act2019['Participation'] = act2019['Participation'].apply(perc_to_dec)"
   ]
  },
  {
   "cell_type": "markdown",
   "metadata": {},
   "source": [
    "# Checking for Obvious Issues and Value Limits\n",
    "\n",
    "* Assert checks will return an error message if value limits are violated"
   ]
  },
  {
   "cell_type": "code",
   "execution_count": 20,
   "metadata": {},
   "outputs": [],
   "source": [
    "# Check for obvious issues and limits of the Participation columns for the 2017, 2018, and 2019 datasets\n",
    "assert min(sat2017['Participation']) >= 0\n",
    "assert max(sat2017['Participation']) <= 1\n",
    "assert min(sat2018['Participation']) >= 0\n",
    "assert max(sat2018['Participation']) <= 1\n",
    "assert min(sat2019['Participation']) >= 0\n",
    "assert max(sat2019['Participation']) <= 1\n",
    "assert min(act2019['Participation']) >= 0\n",
    "assert max(act2019['Participation']) <= 1"
   ]
  },
  {
   "cell_type": "code",
   "execution_count": 21,
   "metadata": {},
   "outputs": [],
   "source": [
    "# Step 3 Check for obvious issues and limits of the Participation columns for the 2016, 2020, and 2021 datasets\n",
    "assert min(sat2016['participation_2016']) >= 0\n",
    "assert max(sat2016['participation_2016']) <= 1\n",
    "assert min(sat2020['participation_2020']) >= 0\n",
    "assert max(sat2020['participation_2020']) <= 1\n",
    "assert min(sat2021['participation_2021']) >= 0\n",
    "assert max(sat2021['participation_2021']) <= 1"
   ]
  },
  {
   "cell_type": "markdown",
   "metadata": {},
   "source": [
    "# Correcting for Errors found in Steps 2 and 3\n",
    "* Missing values in terms of participation rates of Puerto Rico and Virgin Islands in the 2019 SAT participation dataset has been addressed\n",
    "* No values violate any limits, thus no need to correct for them"
   ]
  },
  {
   "cell_type": "markdown",
   "metadata": {},
   "source": [
    "# Renaming the columns"
   ]
  },
  {
   "cell_type": "code",
   "execution_count": 22,
   "metadata": {},
   "outputs": [
    {
     "name": "stdout",
     "output_type": "stream",
     "text": [
      "Index(['state', 'participation', 'evidence-based reading and writing', 'math',\n",
      "       'total'],\n",
      "      dtype='object') \n",
      "\n",
      "Index(['state', 'participation', 'evidence-based reading and writing', 'math',\n",
      "       'total'],\n",
      "      dtype='object') \n",
      "\n",
      "Index(['state', 'participation', 'ebrw', 'math', 'total'], dtype='object') \n",
      "\n",
      "Index(['state', 'participation', 'composite'], dtype='object')\n"
     ]
    }
   ],
   "source": [
    "# Changing the column names of 2017, 2018, and 2019 SAT datasets to lowercase\n",
    "sat2017.columns = sat2017.columns.str.lower()\n",
    "sat2018.columns = sat2018.columns.str.lower()\n",
    "sat2019.columns = sat2019.columns.str.lower()\n",
    "act2019.columns = act2019.columns.str.lower()\n",
    "\n",
    "print(sat2017.columns,'\\n')\n",
    "print(sat2018.columns,'\\n')\n",
    "print(sat2019.columns,'\\n')\n",
    "print(act2019.columns)\n",
    "# Since we are only looking at the state and participation columns, there is no need to convert space with under_scores"
   ]
  },
  {
   "cell_type": "markdown",
   "metadata": {},
   "source": [
    "# Merging datasets"
   ]
  },
  {
   "cell_type": "markdown",
   "metadata": {},
   "source": [
    "### This is for the first dataset - SAT Participation from 2016 to 2021"
   ]
  },
  {
   "cell_type": "code",
   "execution_count": 23,
   "metadata": {},
   "outputs": [
    {
     "name": "stdout",
     "output_type": "stream",
     "text": [
      "Index(['state', 'participation_2016', 'participation_2017',\n",
      "       'evidence-based reading and writing_2017', 'math_2017', 'total_2017',\n",
      "       'participation_2018', 'evidence-based reading and writing_2018',\n",
      "       'math_2018', 'total_2018', 'participation', 'ebrw', 'math', 'total',\n",
      "       'participation_2020', 'participation_2021'],\n",
      "      dtype='object')\n"
     ]
    }
   ],
   "source": [
    "# Merging the 2016 dataset with 2017 dataset\n",
    "sat2016_2017 = pd.merge(sat2016, sat2017, on = 'state', how = 'left')\n",
    "\n",
    "# Merging the 2016 and 2017 dataset with 2018 dataset\n",
    "sat2016_to_2018 = pd.merge(sat2016_2017, sat2018, on = 'state', how = 'left', suffixes = ('_2017','_2018'))\n",
    "\n",
    "# Merging the 2016 to 2018 dataset with 2019 dataset\n",
    "sat2016_to_2019 = pd.merge(sat2016_to_2018, sat2019, on = 'state', how = 'left', suffixes = (None,'_2019'))\n",
    "\n",
    "# Merging the 2016 to 2019 dataset with 2020 dataset\n",
    "sat2016_to_2020 = pd.merge(sat2016_to_2019, sat2020, on = 'state', how = 'left')\n",
    "\n",
    "# Merging the 2016 to 2020 dataset with 2021 dataset\n",
    "sat2016_to_2021 = pd.merge(sat2016_to_2020, sat2021, on = 'state', how = 'left')\n",
    "print(sat2016_to_2021.columns)"
   ]
  },
  {
   "cell_type": "code",
   "execution_count": 24,
   "metadata": {},
   "outputs": [
    {
     "name": "stdout",
     "output_type": "stream",
     "text": [
      "Index(['state', 'participation_2016', 'participation_2017',\n",
      "       'evidence-based reading and writing_2017', 'math_2017', 'total_2017',\n",
      "       'participation_2018', 'evidence-based reading and writing_2018',\n",
      "       'math_2018', 'total_2018', 'participation_2019', 'ebrw', 'math',\n",
      "       'total', 'participation_2020', 'participation_2021'],\n",
      "      dtype='object')\n"
     ]
    }
   ],
   "source": [
    "# For more clarity, adding the '_2019' to the 2019 participation rate column name\n",
    "sat2016_to_2021.rename(columns = {'participation': 'participation_2019'}, inplace = True)\n",
    "print(sat2016_to_2021.columns)"
   ]
  },
  {
   "cell_type": "markdown",
   "metadata": {},
   "source": [
    "### This is for the second data set - ACT and SAT Participation in 2019"
   ]
  },
  {
   "cell_type": "code",
   "execution_count": 25,
   "metadata": {},
   "outputs": [
    {
     "name": "stdout",
     "output_type": "stream",
     "text": [
      "Index(['state', 'participation_sat', 'ebrw', 'math', 'total',\n",
      "       'participation_act', 'composite'],\n",
      "      dtype='object')\n"
     ]
    }
   ],
   "source": [
    "part_2019 = pd.merge(sat2019, act2019, on = 'state', how = 'left', suffixes = ('_sat','_act'))\n",
    "print(part_2019.columns)"
   ]
  },
  {
   "cell_type": "markdown",
   "metadata": {},
   "source": [
    "# Additional Data Cleaning\n",
    "\n",
    "Only relevant columns are kept."
   ]
  },
  {
   "cell_type": "markdown",
   "metadata": {},
   "source": [
    "### For the first dataset"
   ]
  },
  {
   "cell_type": "code",
   "execution_count": 26,
   "metadata": {
    "scrolled": true
   },
   "outputs": [
    {
     "name": "stdout",
     "output_type": "stream",
     "text": [
      "           state  participation_2016  participation_2017  participation_2018  \\\n",
      "0  Massachusetts                0.84                0.76                0.80   \n",
      "1    Connecticut                0.88                1.00                1.00   \n",
      "2      Minnesota                0.06                0.03                0.04   \n",
      "3     New Jersey                0.79                0.70                0.82   \n",
      "4       Illinois                0.05                0.09                0.99   \n",
      "\n",
      "   participation_2019  participation_2020  participation_2021  \n",
      "0                0.81                0.80                0.34  \n",
      "1                1.00                1.00                0.69  \n",
      "2                0.04                0.04                0.02  \n",
      "3                0.82                0.82                0.48  \n",
      "4                1.00                0.98                0.80  \n"
     ]
    }
   ],
   "source": [
    "# Only saving relevant columns - states and participation rates by year\n",
    "sat_part_2016_to_2021 = sat2016_to_2021[['state','participation_2016','participation_2017','participation_2018','participation_2019','participation_2020','participation_2021']]\n",
    "print(sat_part_2016_to_2021.head())"
   ]
  },
  {
   "cell_type": "markdown",
   "metadata": {},
   "source": [
    "### For the second dataset"
   ]
  },
  {
   "cell_type": "code",
   "execution_count": 27,
   "metadata": {},
   "outputs": [],
   "source": [
    "part_2019 = part_2019[['state','participation_sat','participation_act']]"
   ]
  },
  {
   "cell_type": "markdown",
   "metadata": {},
   "source": [
    "#### Need to clean the data as there are states where one Exam Administrator report a 100% participation in a state but have the competing Exam Administrator report a non-zero participation rate"
   ]
  },
  {
   "cell_type": "markdown",
   "metadata": {},
   "source": [
    "# Exporting Cleaned Datasets to CSV files"
   ]
  },
  {
   "cell_type": "code",
   "execution_count": 28,
   "metadata": {},
   "outputs": [],
   "source": [
    "# First dataset\n",
    "sat_part_2016_to_2021.to_csv('../data/sat_participation_2016_to_2021.csv', index = False)\n",
    "\n",
    "# Second dataset\n",
    "part_2019.to_csv('../data/test_participation_2019.csv', index = False)"
   ]
  },
  {
   "cell_type": "markdown",
   "metadata": {},
   "source": [
    "### Data Dictionary\n",
    "\n",
    "Now that we've fixed our data, and given it appropriate names, let's create a [data dictionary](http://library.ucmerced.edu/node/10249). \n",
    "\n",
    "A data dictionary provides a quick overview of features/variables/columns, alongside data types and descriptions. The more descriptive you can be, the more useful this document is.\n",
    "\n",
    "Example of a Fictional Data Dictionary Entry: \n",
    "\n",
    "|Feature|Type|Dataset|Description|\n",
    "|---|---|---|---|\n",
    "|**county_pop**|*integer*|2010 census|The population of the county (units in thousands, where 2.5 represents 2500 people).| \n",
    "|**per_poverty**|*float*|2010 census|The percent of the county over the age of 18 living below the 200% of official US poverty rate (units percent to two decimal places 98.10 means 98.1%)|\n",
    "\n",
    "[Here's a quick link to a short guide for formatting markdown in Jupyter notebooks](https://jupyter-notebook.readthedocs.io/en/stable/examples/Notebook/Working%20With%20Markdown%20Cells.html).\n",
    "\n",
    "Provided is the skeleton for formatting a markdown table, with columns headers that will help you create a data dictionary to quickly summarize your data, as well as some examples. **This would be a great thing to copy and paste into your custom README for this project.**\n",
    "\n",
    "*Note*: if you are unsure of what a feature is, check the source of the data! This can be found in the README."
   ]
  },
  {
   "cell_type": "markdown",
   "metadata": {},
   "source": [
    "### sat_participation_2016_to_2021\n",
    "|Feature|Type|Dataset|Description|\n",
    "|---|---|---|---|\n",
    "|state|object|2017 SAT Scores by State|Shows the list of 50 states to be used for study|\n",
    "|participation_2016|float|2016 SAT Scores by State|Shows the participation rate of the 2016 cohort in each state|\n",
    "|participation_2017|float|2017 SAT Scores by State|Shows the participation rate of the 2017 cohort in each state|\n",
    "|participation_2018|float|2018 SAT Scores by State|Shows the participation rate of the 2018 cohort in each state|\n",
    "|participation_2019|float|2019 SAT Scores by State|Shows the participation rate of the 2019 cohort in each state|\n",
    "|participation_2020|float|2020 SAT Scores by State|Shows the participation rate of the 2020 cohort in each state|\n",
    "|participation_2021|float|2021 SAT Scores by State|Shows the participation rate of the 2021 cohort in each state|\n",
    "\n",
    "### test_participation_2019\n",
    "|Feature|Type|Dataset|Description|\n",
    "|---|---|---|---|\n",
    "|state|object|2017 SAT Scores by State|Shows the list of 50 states to be used for study|\n",
    "|participation_sat|float|2019 SAT Scores by State|Shows the participation rate of the 2019 cohort in each state|\n",
    "|participation_act|float|2019 ACT Scores by State|Shows the participation rate of the 2019 cohort in each state|"
   ]
  },
  {
   "cell_type": "markdown",
   "metadata": {},
   "source": [
    "# Exploratory Data Analysis\n",
    "\n",
    "Complete the following steps to explore your data. You are welcome to do more EDA than the steps outlined here as you feel necessary:\n",
    "1. Summary Statistics.\n",
    "2. Use a **dictionary comprehension** to apply the standard deviation function you create in part 1 to each numeric column in the dataframe.  **No loops**.\n",
    "    - Assign the output to variable `sd` as a dictionary where: \n",
    "        - Each column name is now a key \n",
    "        - That standard deviation of the column is the value \n",
    "        - *Example Output :* `{'ACT_Math': 120, 'ACT_Reading': 120, ...}`\n",
    "3. Investigate trends in the data.\n",
    "    - Using sorting and/or masking (along with the `.head()` method to avoid printing our entire dataframe), consider questions relevant to your problem statement. Some examples are provided below (but feel free to change these questions for your specific problem):\n",
    "        - Which states have the highest and lowest participation rates for the 2017, 2019, or 2019 SAT and ACT?\n",
    "        - Which states have the highest and lowest mean total/composite scores for the 2017, 2019, or 2019 SAT and ACT?\n",
    "        - Do any states with 100% participation on a given test have a rate change year-to-year?\n",
    "        - Do any states show have >50% participation on *both* tests each year?\n",
    "        - Which colleges have the highest median SAT and ACT scores for admittance?\n",
    "        - Which California school districts have the highest and lowest mean test scores?\n",
    "    - **You should comment on your findings at each step in a markdown cell below your code block**. Make sure you include at least one example of sorting your dataframe by a column, and one example of using boolean filtering (i.e., masking) to select a subset of the dataframe."
   ]
  },
  {
   "cell_type": "code",
   "execution_count": 29,
   "metadata": {},
   "outputs": [
    {
     "data": {
      "text/plain": [
       "{'participation_2016': 0.34618012170374834,\n",
       " 'participation_2017': 0.34929070766645076,\n",
       " 'participation_2018': 0.3694661922353941,\n",
       " 'participation_2019': 0.3836584048685726,\n",
       " 'participation_2020': 0.3534166731598252,\n",
       " 'participation_2021': 0.28669831643099597}"
      ]
     },
     "execution_count": 29,
     "metadata": {},
     "output_type": "execute_result"
    }
   ],
   "source": [
    "# Setting State as index\n",
    "sat_part_2016_to_2021_state_as_index = sat_part_2016_to_2021.set_index('state')\n",
    "\n",
    "# To be used as keys in the sd dictionary \n",
    "col_names = sat_part_2016_to_2021_state_as_index.columns\n",
    "\n",
    "# To be used as values in the sd dictionary\n",
    "sd_values = sat_part_2016_to_2021_state_as_index.apply(calc_std_dev)\n",
    "\n",
    "sd = dict(zip(col_names, sd_values))\n",
    "\n",
    "sd\n"
   ]
  },
  {
   "cell_type": "code",
   "execution_count": 30,
   "metadata": {},
   "outputs": [
    {
     "data": {
      "text/html": [
       "<div>\n",
       "<style scoped>\n",
       "    .dataframe tbody tr th:only-of-type {\n",
       "        vertical-align: middle;\n",
       "    }\n",
       "\n",
       "    .dataframe tbody tr th {\n",
       "        vertical-align: top;\n",
       "    }\n",
       "\n",
       "    .dataframe thead th {\n",
       "        text-align: right;\n",
       "    }\n",
       "</style>\n",
       "<table border=\"1\" class=\"dataframe\">\n",
       "  <thead>\n",
       "    <tr style=\"text-align: right;\">\n",
       "      <th></th>\n",
       "      <th>participation_2016</th>\n",
       "      <th>participation_2017</th>\n",
       "      <th>participation_2018</th>\n",
       "      <th>participation_2019</th>\n",
       "      <th>participation_2020</th>\n",
       "      <th>participation_2021</th>\n",
       "    </tr>\n",
       "  </thead>\n",
       "  <tbody>\n",
       "    <tr>\n",
       "      <th>count</th>\n",
       "      <td>51.000000</td>\n",
       "      <td>51.000000</td>\n",
       "      <td>51.000000</td>\n",
       "      <td>51.000000</td>\n",
       "      <td>51.000000</td>\n",
       "      <td>51.000000</td>\n",
       "    </tr>\n",
       "    <tr>\n",
       "      <th>mean</th>\n",
       "      <td>0.411569</td>\n",
       "      <td>0.398039</td>\n",
       "      <td>0.457451</td>\n",
       "      <td>0.490588</td>\n",
       "      <td>0.544706</td>\n",
       "      <td>0.310392</td>\n",
       "    </tr>\n",
       "    <tr>\n",
       "      <th>std</th>\n",
       "      <td>0.349625</td>\n",
       "      <td>0.352766</td>\n",
       "      <td>0.373143</td>\n",
       "      <td>0.387476</td>\n",
       "      <td>0.356933</td>\n",
       "      <td>0.289551</td>\n",
       "    </tr>\n",
       "    <tr>\n",
       "      <th>min</th>\n",
       "      <td>0.020000</td>\n",
       "      <td>0.020000</td>\n",
       "      <td>0.020000</td>\n",
       "      <td>0.020000</td>\n",
       "      <td>0.020000</td>\n",
       "      <td>0.010000</td>\n",
       "    </tr>\n",
       "    <tr>\n",
       "      <th>25%</th>\n",
       "      <td>0.050000</td>\n",
       "      <td>0.040000</td>\n",
       "      <td>0.045000</td>\n",
       "      <td>0.055000</td>\n",
       "      <td>0.180000</td>\n",
       "      <td>0.030000</td>\n",
       "    </tr>\n",
       "    <tr>\n",
       "      <th>50%</th>\n",
       "      <td>0.480000</td>\n",
       "      <td>0.380000</td>\n",
       "      <td>0.520000</td>\n",
       "      <td>0.540000</td>\n",
       "      <td>0.680000</td>\n",
       "      <td>0.260000</td>\n",
       "    </tr>\n",
       "    <tr>\n",
       "      <th>75%</th>\n",
       "      <td>0.715000</td>\n",
       "      <td>0.660000</td>\n",
       "      <td>0.775000</td>\n",
       "      <td>0.820000</td>\n",
       "      <td>0.810000</td>\n",
       "      <td>0.480000</td>\n",
       "    </tr>\n",
       "    <tr>\n",
       "      <th>max</th>\n",
       "      <td>1.000000</td>\n",
       "      <td>1.000000</td>\n",
       "      <td>1.000000</td>\n",
       "      <td>1.000000</td>\n",
       "      <td>1.000000</td>\n",
       "      <td>0.960000</td>\n",
       "    </tr>\n",
       "  </tbody>\n",
       "</table>\n",
       "</div>"
      ],
      "text/plain": [
       "       participation_2016  participation_2017  participation_2018  \\\n",
       "count           51.000000           51.000000           51.000000   \n",
       "mean             0.411569            0.398039            0.457451   \n",
       "std              0.349625            0.352766            0.373143   \n",
       "min              0.020000            0.020000            0.020000   \n",
       "25%              0.050000            0.040000            0.045000   \n",
       "50%              0.480000            0.380000            0.520000   \n",
       "75%              0.715000            0.660000            0.775000   \n",
       "max              1.000000            1.000000            1.000000   \n",
       "\n",
       "       participation_2019  participation_2020  participation_2021  \n",
       "count           51.000000           51.000000           51.000000  \n",
       "mean             0.490588            0.544706            0.310392  \n",
       "std              0.387476            0.356933            0.289551  \n",
       "min              0.020000            0.020000            0.010000  \n",
       "25%              0.055000            0.180000            0.030000  \n",
       "50%              0.540000            0.680000            0.260000  \n",
       "75%              0.820000            0.810000            0.480000  \n",
       "max              1.000000            1.000000            0.960000  "
      ]
     },
     "execution_count": 30,
     "metadata": {},
     "output_type": "execute_result"
    }
   ],
   "source": [
    "# Summary Statistics\n",
    "sat_part_2016_to_2021.describe()"
   ]
  },
  {
   "cell_type": "markdown",
   "metadata": {},
   "source": [
    "# Trend of Summary Statistics\n",
    "* It can be noticed that the average SAT participation rate has been on a generally increasing trend, with the exception of 2021 with the COVID-19 disruptions, but this does not shed any light on the states where there are low SAT participation rates.\n",
    "\n",
    "\n",
    "* Given this knowledge, 2020 data is used for creating a representative sample of states with high and low participation rates. This is because it is the latest available data without the significant influence from COVID-19 disruptions.\n",
    "\n",
    "\n",
    "* For more insights, we look at the states with significantly improving or consistently high participation rates as well as states with low participations rates and look for reasons why such high and low values are observed in those states. \n",
    "\n",
    "\n",
    "* This will drive more informed decision-making and putting resources in the most rewarding way."
   ]
  },
  {
   "cell_type": "markdown",
   "metadata": {},
   "source": [
    "# To Note\n",
    "* Note that the above dictionary standard deviations are slighly lower than those reflected in the summary statistics above.\n",
    "\n",
    "\n",
    "* This is because in our defined function to calculate standard deviation, we use the formula for population standard deviation, thus applying a smaller denominator (n vs n-1 as with the case of calculating sample standard deviation) due to not losing one degree of freedom from assuming population mean. "
   ]
  },
  {
   "cell_type": "code",
   "execution_count": 31,
   "metadata": {},
   "outputs": [],
   "source": [
    "high_part_2020 = sat_part_2016_to_2021_state_as_index.loc[sat_part_2016_to_2021_state_as_index['participation_2020'] > 0.81,:]\n",
    "low_part_2020 = sat_part_2016_to_2021_state_as_index.loc[sat_part_2016_to_2021_state_as_index['participation_2020'] < 0.18,:]"
   ]
  },
  {
   "cell_type": "code",
   "execution_count": 32,
   "metadata": {},
   "outputs": [],
   "source": [
    "high_part_2016 = sat_part_2016_to_2021_state_as_index.loc[sat_part_2016_to_2021_state_as_index['participation_2016'] > 0.715,:]\n",
    "low_part_2016 = sat_part_2016_to_2021_state_as_index.loc[sat_part_2016_to_2021_state_as_index['participation_2016'] < 0.05,:]"
   ]
  },
  {
   "cell_type": "code",
   "execution_count": 33,
   "metadata": {},
   "outputs": [],
   "source": [
    "high_part_2017 = sat_part_2016_to_2021_state_as_index.loc[sat_part_2016_to_2021_state_as_index['participation_2017'] > 0.66,:]\n",
    "low_part_2017 = sat_part_2016_to_2021_state_as_index.loc[sat_part_2016_to_2021_state_as_index['participation_2017'] < 0.04,:]"
   ]
  },
  {
   "cell_type": "code",
   "execution_count": 34,
   "metadata": {},
   "outputs": [],
   "source": [
    "high_part_2018 = sat_part_2016_to_2021_state_as_index.loc[sat_part_2016_to_2021_state_as_index['participation_2018'] > 0.775,:]\n",
    "low_part_2018 = sat_part_2016_to_2021_state_as_index.loc[sat_part_2016_to_2021_state_as_index['participation_2018'] < 0.045,:]"
   ]
  },
  {
   "cell_type": "code",
   "execution_count": 35,
   "metadata": {},
   "outputs": [],
   "source": [
    "high_part_2019 = sat_part_2016_to_2021_state_as_index.loc[sat_part_2016_to_2021_state_as_index['participation_2019'] > 0.82,:]\n",
    "low_part_2019 = sat_part_2016_to_2021_state_as_index.loc[sat_part_2016_to_2021_state_as_index['participation_2019'] < 0.055,:]"
   ]
  },
  {
   "cell_type": "code",
   "execution_count": 36,
   "metadata": {},
   "outputs": [],
   "source": [
    "high_part_2021 = sat_part_2016_to_2021_state_as_index.loc[sat_part_2016_to_2021_state_as_index['participation_2021'] > 0.48,:]\n",
    "low_part_2021 = sat_part_2016_to_2021_state_as_index.loc[sat_part_2016_to_2021_state_as_index['participation_2021'] < 0.03,:]"
   ]
  },
  {
   "cell_type": "markdown",
   "metadata": {},
   "source": [
    "# Rationale for Masking Criterion\n",
    "* To better understand the trends in participation rates, we have to study them with greater granularity.\n",
    "\n",
    "\n",
    "* The reason for cutting off participation rate the way it is used above and deeming them as high and low rates respectively is motivated by the 75th and 25th percentiles."
   ]
  },
  {
   "cell_type": "code",
   "execution_count": 37,
   "metadata": {},
   "outputs": [
    {
     "data": {
      "text/html": [
       "<div>\n",
       "<style scoped>\n",
       "    .dataframe tbody tr th:only-of-type {\n",
       "        vertical-align: middle;\n",
       "    }\n",
       "\n",
       "    .dataframe tbody tr th {\n",
       "        vertical-align: top;\n",
       "    }\n",
       "\n",
       "    .dataframe thead th {\n",
       "        text-align: right;\n",
       "    }\n",
       "</style>\n",
       "<table border=\"1\" class=\"dataframe\">\n",
       "  <thead>\n",
       "    <tr style=\"text-align: right;\">\n",
       "      <th></th>\n",
       "      <th>participation_2016</th>\n",
       "      <th>participation_2017</th>\n",
       "      <th>participation_2018</th>\n",
       "      <th>participation_2019</th>\n",
       "      <th>participation_2020</th>\n",
       "      <th>participation_2021</th>\n",
       "    </tr>\n",
       "  </thead>\n",
       "  <tbody>\n",
       "    <tr>\n",
       "      <th>count</th>\n",
       "      <td>13.000000</td>\n",
       "      <td>13.000000</td>\n",
       "      <td>13.000000</td>\n",
       "      <td>13.000000</td>\n",
       "      <td>13.000000</td>\n",
       "      <td>13.000000</td>\n",
       "    </tr>\n",
       "    <tr>\n",
       "      <th>mean</th>\n",
       "      <td>0.676154</td>\n",
       "      <td>0.766923</td>\n",
       "      <td>0.920769</td>\n",
       "      <td>0.963077</td>\n",
       "      <td>0.968462</td>\n",
       "      <td>0.686923</td>\n",
       "    </tr>\n",
       "    <tr>\n",
       "      <th>std</th>\n",
       "      <td>0.359410</td>\n",
       "      <td>0.319123</td>\n",
       "      <td>0.132631</td>\n",
       "      <td>0.066631</td>\n",
       "      <td>0.057423</td>\n",
       "      <td>0.195251</td>\n",
       "    </tr>\n",
       "    <tr>\n",
       "      <th>min</th>\n",
       "      <td>0.040000</td>\n",
       "      <td>0.090000</td>\n",
       "      <td>0.560000</td>\n",
       "      <td>0.820000</td>\n",
       "      <td>0.820000</td>\n",
       "      <td>0.290000</td>\n",
       "    </tr>\n",
       "    <tr>\n",
       "      <th>25%</th>\n",
       "      <td>0.700000</td>\n",
       "      <td>0.700000</td>\n",
       "      <td>0.920000</td>\n",
       "      <td>0.950000</td>\n",
       "      <td>0.980000</td>\n",
       "      <td>0.560000</td>\n",
       "    </tr>\n",
       "    <tr>\n",
       "      <th>50%</th>\n",
       "      <td>0.780000</td>\n",
       "      <td>0.930000</td>\n",
       "      <td>0.990000</td>\n",
       "      <td>1.000000</td>\n",
       "      <td>1.000000</td>\n",
       "      <td>0.690000</td>\n",
       "    </tr>\n",
       "    <tr>\n",
       "      <th>75%</th>\n",
       "      <td>0.960000</td>\n",
       "      <td>1.000000</td>\n",
       "      <td>1.000000</td>\n",
       "      <td>1.000000</td>\n",
       "      <td>1.000000</td>\n",
       "      <td>0.810000</td>\n",
       "    </tr>\n",
       "    <tr>\n",
       "      <th>max</th>\n",
       "      <td>1.000000</td>\n",
       "      <td>1.000000</td>\n",
       "      <td>1.000000</td>\n",
       "      <td>1.000000</td>\n",
       "      <td>1.000000</td>\n",
       "      <td>0.960000</td>\n",
       "    </tr>\n",
       "  </tbody>\n",
       "</table>\n",
       "</div>"
      ],
      "text/plain": [
       "       participation_2016  participation_2017  participation_2018  \\\n",
       "count           13.000000           13.000000           13.000000   \n",
       "mean             0.676154            0.766923            0.920769   \n",
       "std              0.359410            0.319123            0.132631   \n",
       "min              0.040000            0.090000            0.560000   \n",
       "25%              0.700000            0.700000            0.920000   \n",
       "50%              0.780000            0.930000            0.990000   \n",
       "75%              0.960000            1.000000            1.000000   \n",
       "max              1.000000            1.000000            1.000000   \n",
       "\n",
       "       participation_2019  participation_2020  participation_2021  \n",
       "count           13.000000           13.000000           13.000000  \n",
       "mean             0.963077            0.968462            0.686923  \n",
       "std              0.066631            0.057423            0.195251  \n",
       "min              0.820000            0.820000            0.290000  \n",
       "25%              0.950000            0.980000            0.560000  \n",
       "50%              1.000000            1.000000            0.690000  \n",
       "75%              1.000000            1.000000            0.810000  \n",
       "max              1.000000            1.000000            0.960000  "
      ]
     },
     "execution_count": 37,
     "metadata": {},
     "output_type": "execute_result"
    }
   ],
   "source": [
    "high_part_2020.describe()"
   ]
  },
  {
   "cell_type": "code",
   "execution_count": 38,
   "metadata": {},
   "outputs": [
    {
     "data": {
      "text/html": [
       "<div>\n",
       "<style scoped>\n",
       "    .dataframe tbody tr th:only-of-type {\n",
       "        vertical-align: middle;\n",
       "    }\n",
       "\n",
       "    .dataframe tbody tr th {\n",
       "        vertical-align: top;\n",
       "    }\n",
       "\n",
       "    .dataframe thead th {\n",
       "        text-align: right;\n",
       "    }\n",
       "</style>\n",
       "<table border=\"1\" class=\"dataframe\">\n",
       "  <thead>\n",
       "    <tr style=\"text-align: right;\">\n",
       "      <th></th>\n",
       "      <th>participation_2016</th>\n",
       "      <th>participation_2017</th>\n",
       "      <th>participation_2018</th>\n",
       "      <th>participation_2019</th>\n",
       "      <th>participation_2020</th>\n",
       "      <th>participation_2021</th>\n",
       "    </tr>\n",
       "  </thead>\n",
       "  <tbody>\n",
       "    <tr>\n",
       "      <th>count</th>\n",
       "      <td>13.000000</td>\n",
       "      <td>13.000000</td>\n",
       "      <td>13.000000</td>\n",
       "      <td>13.000000</td>\n",
       "      <td>13.000000</td>\n",
       "      <td>13.000000</td>\n",
       "    </tr>\n",
       "    <tr>\n",
       "      <th>mean</th>\n",
       "      <td>0.092308</td>\n",
       "      <td>0.054615</td>\n",
       "      <td>0.057692</td>\n",
       "      <td>0.056923</td>\n",
       "      <td>0.053846</td>\n",
       "      <td>0.025385</td>\n",
       "    </tr>\n",
       "    <tr>\n",
       "      <th>std</th>\n",
       "      <td>0.140306</td>\n",
       "      <td>0.065143</td>\n",
       "      <td>0.055401</td>\n",
       "      <td>0.046972</td>\n",
       "      <td>0.040525</td>\n",
       "      <td>0.011983</td>\n",
       "    </tr>\n",
       "    <tr>\n",
       "      <th>min</th>\n",
       "      <td>0.020000</td>\n",
       "      <td>0.020000</td>\n",
       "      <td>0.020000</td>\n",
       "      <td>0.020000</td>\n",
       "      <td>0.020000</td>\n",
       "      <td>0.010000</td>\n",
       "    </tr>\n",
       "    <tr>\n",
       "      <th>25%</th>\n",
       "      <td>0.040000</td>\n",
       "      <td>0.030000</td>\n",
       "      <td>0.030000</td>\n",
       "      <td>0.030000</td>\n",
       "      <td>0.030000</td>\n",
       "      <td>0.020000</td>\n",
       "    </tr>\n",
       "    <tr>\n",
       "      <th>50%</th>\n",
       "      <td>0.050000</td>\n",
       "      <td>0.030000</td>\n",
       "      <td>0.040000</td>\n",
       "      <td>0.040000</td>\n",
       "      <td>0.040000</td>\n",
       "      <td>0.020000</td>\n",
       "    </tr>\n",
       "    <tr>\n",
       "      <th>75%</th>\n",
       "      <td>0.060000</td>\n",
       "      <td>0.040000</td>\n",
       "      <td>0.050000</td>\n",
       "      <td>0.060000</td>\n",
       "      <td>0.050000</td>\n",
       "      <td>0.030000</td>\n",
       "    </tr>\n",
       "    <tr>\n",
       "      <th>max</th>\n",
       "      <td>0.540000</td>\n",
       "      <td>0.260000</td>\n",
       "      <td>0.230000</td>\n",
       "      <td>0.200000</td>\n",
       "      <td>0.170000</td>\n",
       "      <td>0.050000</td>\n",
       "    </tr>\n",
       "  </tbody>\n",
       "</table>\n",
       "</div>"
      ],
      "text/plain": [
       "       participation_2016  participation_2017  participation_2018  \\\n",
       "count           13.000000           13.000000           13.000000   \n",
       "mean             0.092308            0.054615            0.057692   \n",
       "std              0.140306            0.065143            0.055401   \n",
       "min              0.020000            0.020000            0.020000   \n",
       "25%              0.040000            0.030000            0.030000   \n",
       "50%              0.050000            0.030000            0.040000   \n",
       "75%              0.060000            0.040000            0.050000   \n",
       "max              0.540000            0.260000            0.230000   \n",
       "\n",
       "       participation_2019  participation_2020  participation_2021  \n",
       "count           13.000000           13.000000           13.000000  \n",
       "mean             0.056923            0.053846            0.025385  \n",
       "std              0.046972            0.040525            0.011983  \n",
       "min              0.020000            0.020000            0.010000  \n",
       "25%              0.030000            0.030000            0.020000  \n",
       "50%              0.040000            0.040000            0.020000  \n",
       "75%              0.060000            0.050000            0.030000  \n",
       "max              0.200000            0.170000            0.050000  "
      ]
     },
     "execution_count": 38,
     "metadata": {},
     "output_type": "execute_result"
    }
   ],
   "source": [
    "low_part_2020.describe()"
   ]
  },
  {
   "cell_type": "markdown",
   "metadata": {},
   "source": [
    "# Observations\n",
    "\n",
    "* For the states with high participation rates, it is observed that the average participation rate has been increasing with standard deviation falling over the years\n",
    "\n",
    "* This would indicate that what College Board has been doing in those states are working and have consistently been improving.\n",
    "\n",
    "\n",
    "* For the states with low participation rates, an opposite trend is observed, where the average participation rate has been decreasing with standard deviation decreasing as well.\n",
    "\n",
    "* This would indicate that the competitors or other factors have increased their hold on those states and those influence have consistently been getting stronger."
   ]
  },
  {
   "cell_type": "markdown",
   "metadata": {},
   "source": [
    "# States with the Lowest SAT Pariticipation"
   ]
  },
  {
   "cell_type": "code",
   "execution_count": 39,
   "metadata": {},
   "outputs": [
    {
     "name": "stdout",
     "output_type": "stream",
     "text": [
      "The states with the lowest 2016 SAT participation rates are ['North Dakota', 'South Dakota', 'Iowa', 'Wisconsin', 'Missouri', 'Michigan', 'Nebraska', 'Wyoming', 'Mississippi', 'Arkansas'] \n",
      "\n",
      "The states with the lowest 2017 SAT participation rates are ['Minnesota', 'North Dakota', 'South Dakota', 'Iowa', 'Wisconsin', 'Missouri', 'Nebraska', 'Wyoming', 'Mississippi', 'Arkansas', 'Utah'] \n",
      "\n",
      "The states with the lowest 2018 SAT participation rates are ['Minnesota', 'North Dakota', 'South Dakota', 'Iowa', 'Wisconsin', 'Missouri', 'Kansas', 'Nebraska', 'Wyoming', 'Kentucky', 'Mississippi', 'Utah', 'Louisiana'] \n",
      "\n",
      "The states with the lowest 2019 SAT participation rates are ['Minnesota', 'North Dakota', 'South Dakota', 'Iowa', 'Wisconsin', 'Missouri', 'Kansas', 'Nebraska', 'Wyoming', 'Kentucky', 'Mississippi', 'Utah', 'Louisiana'] \n",
      "\n",
      "The states with the lowest 2020 SAT participation rates are ['Minnesota', 'North Dakota', 'Iowa', 'Missouri', 'Kansas', 'Nebraska', 'Kentucky', 'Montana', 'Mississippi', 'Arkansas', 'Nevada', 'Louisiana', 'Alabama'] \n",
      "\n",
      "The states with the lowest 2021 SAT participation rates are ['Minnesota', 'North Dakota', 'South Dakota', 'Iowa', 'Wisconsin', 'Missouri', 'Kansas', 'Nebraska', 'Wyoming', 'Mississippi', 'Arkansas', 'Utah']\n"
     ]
    }
   ],
   "source": [
    "print(\"The states with the lowest 2016 SAT participation rates are {}\".format(list(low_part_2016.index)),'\\n')\n",
    "print(\"The states with the lowest 2017 SAT participation rates are {}\".format(list(low_part_2017.index)),'\\n')\n",
    "print(\"The states with the lowest 2018 SAT participation rates are {}\".format(list(low_part_2018.index)),'\\n')\n",
    "print(\"The states with the lowest 2019 SAT participation rates are {}\".format(list(low_part_2019.index)),'\\n')\n",
    "print(\"The states with the lowest 2020 SAT participation rates are {}\".format(list(low_part_2020.index)),'\\n')\n",
    "print(\"The states with the lowest 2021 SAT participation rates are {}\".format(list(low_part_2021.index)))"
   ]
  },
  {
   "cell_type": "markdown",
   "metadata": {},
   "source": [
    "# States with the Highest SAT Pariticipation"
   ]
  },
  {
   "cell_type": "code",
   "execution_count": 40,
   "metadata": {},
   "outputs": [
    {
     "name": "stdout",
     "output_type": "stream",
     "text": [
      "The states with the highest 2016 SAT participation rates are ['Massachusetts', 'Connecticut', 'New Jersey', 'Virginia', 'Georgia', 'Florida', 'New York', 'Maryland', 'Idaho', 'Rhode Island', 'Delaware', 'District of Columbia', 'Maine'] \n",
      "\n",
      "The states with the highest 2017 SAT participation rates are ['Massachusetts', 'Connecticut', 'New Jersey', 'New Hampshire', 'Michigan', 'Florida', 'New York', 'Maryland', 'Idaho', 'Rhode Island', 'Delaware', 'District of Columbia', 'Maine'] \n",
      "\n",
      "The states with the highest 2018 SAT participation rates are ['Massachusetts', 'Connecticut', 'New Jersey', 'Illinois', 'New Hampshire', 'Colorado', 'Michigan', 'New York', 'Idaho', 'Rhode Island', 'Delaware', 'District of Columbia', 'Maine'] \n",
      "\n",
      "The states with the highest 2019 SAT participation rates are ['Connecticut', 'New Jersey', 'Illinois', 'New Hampshire', 'Colorado', 'Michigan', 'Florida', 'Maryland', 'Idaho', 'Rhode Island', 'Delaware', 'District of Columbia', 'Maine', 'West Virginia'] \n",
      "\n",
      "The states with the highest 2020 SAT participation rates are ['Connecticut', 'New Jersey', 'Illinois', 'New Hampshire', 'Colorado', 'Michigan', 'Florida', 'Maryland', 'Idaho', 'Rhode Island', 'Delaware', 'District of Columbia', 'Maine'] \n",
      "\n",
      "The states with the highest 2021 SAT participation rates are ['Connecticut', 'Illinois', 'New Hampshire', 'Colorado', 'Michigan', 'Florida', 'New York', 'Idaho', 'Rhode Island', 'Texas', 'Delaware', 'District of Columbia']\n"
     ]
    }
   ],
   "source": [
    "print(\"The states with the highest 2016 SAT participation rates are {}\".format(list(high_part_2016.index)),'\\n')\n",
    "print(\"The states with the highest 2017 SAT participation rates are {}\".format(list(high_part_2017.index)),'\\n')\n",
    "print(\"The states with the highest 2018 SAT participation rates are {}\".format(list(high_part_2018.index)),'\\n')\n",
    "print(\"The states with the highest 2019 SAT participation rates are {}\".format(list(high_part_2019.index)),'\\n')\n",
    "print(\"The states with the highest 2020 SAT participation rates are {}\".format(list(high_part_2020.index)),'\\n')\n",
    "print(\"The states with the highest 2021 SAT participation rates are {}\".format(list(high_part_2021.index)))"
   ]
  },
  {
   "cell_type": "markdown",
   "metadata": {},
   "source": [
    "#### Note that the countries with the highest and lowest participation rates are based on the 75th and 25th percentile respectively."
   ]
  },
  {
   "cell_type": "markdown",
   "metadata": {},
   "source": [
    "## Visualize the Data\n",
    "\n",
    "There's not a magic bullet recommendation for the right number of plots to understand a given dataset, but visualizing your data is *always* a good idea. Not only does it allow you to quickly convey your findings (even if you have a non-technical audience), it will often reveal trends in your data that escaped you when you were looking only at numbers. It is important to not only create visualizations, but to **interpret your visualizations** as well.\n",
    "\n",
    "**Every plot should**:\n",
    "- Have a title\n",
    "- Have axis labels\n",
    "- Have appropriate tick labels\n",
    "- Text is legible in a plot\n",
    "- Plots demonstrate meaningful and valid relationships\n",
    "- Have an interpretation to aid understanding\n",
    "\n",
    "Here is an example of what your plots should look like following the above guidelines. Note that while the content of this example is unrelated, the principles of visualization hold:\n",
    "\n",
    "![](https://snag.gy/hCBR1U.jpg)\n",
    "*Interpretation: The above image shows that as we increase our spending on advertising, our sales numbers also tend to increase. There is a positive correlation between advertising spending and sales.*\n",
    "\n",
    "---\n",
    "\n",
    "Here are some prompts to get you started with visualizations. Feel free to add additional visualizations as you see fit:\n",
    "1. Use Seaborn's heatmap with pandas `.corr()` to visualize correlations between all numeric features.\n",
    "    - Heatmaps are generally not appropriate for presentations, and should often be excluded from reports as they can be visually overwhelming. **However**, they can be extremely useful in identify relationships of potential interest (as well as identifying potential collinearity before modeling).\n",
    "    - Please take time to format your output, adding a title. Look through some of the additional arguments and options. (Axis labels aren't really necessary, as long as the title is informative).\n",
    "2. Visualize distributions using histograms. If you have a lot, consider writing a custom function and use subplots.\n",
    "    - *OPTIONAL*: Summarize the underlying distributions of your features (in words & statistics)\n",
    "         - Be thorough in your verbal description of these distributions.\n",
    "         - Be sure to back up these summaries with statistics.\n",
    "         - We generally assume that data we sample from a population will be normally distributed. Do we observe this trend? Explain your answers for each distribution and how you think this will affect estimates made from these data.\n",
    "3. Plot and interpret boxplots. \n",
    "    - Boxplots demonstrate central tendency and spread in variables. In a certain sense, these are somewhat redundant with histograms, but you may be better able to identify clear outliers or differences in IQR, etc.\n",
    "    - Multiple values can be plotted to a single boxplot as long as they are of the same relative scale (meaning they have similar min/max values).\n",
    "    - Each boxplot should:\n",
    "        - Only include variables of a similar scale\n",
    "        - Have clear labels for each variable\n",
    "        - Have appropriate titles and labels\n",
    "4. Plot and interpret scatter plots to view relationships between features. Feel free to write a custom function, and subplot if you'd like. Functions save both time and space.\n",
    "    - Your plots should have:\n",
    "        - Two clearly labeled axes\n",
    "        - A proper title\n",
    "        - Colors and symbols that are clear and unmistakable\n",
    "5. Additional plots of your choosing.\n",
    "    - Are there any additional trends or relationships you haven't explored? Was there something interesting you saw that you'd like to dive further into? It's likely that there are a few more plots you might want to generate to support your narrative and recommendations that you are building toward. **As always, make sure you're interpreting your plots as you go**."
   ]
  },
  {
   "cell_type": "code",
   "execution_count": 41,
   "metadata": {},
   "outputs": [],
   "source": [
    "import seaborn as sns"
   ]
  },
  {
   "cell_type": "markdown",
   "metadata": {},
   "source": [
    "# Heatmap"
   ]
  },
  {
   "cell_type": "code",
   "execution_count": 42,
   "metadata": {},
   "outputs": [
    {
     "data": {
      "image/png": "[encoded data removed]",
      "text/plain": [
       "<Figure size 432x288 with 2 Axes>"
      ]
     },
     "metadata": {
      "needs_background": "light"
     },
     "output_type": "display_data"
    }
   ],
   "source": [
    "# Creating the heatmap plot\n",
    "heatmap = sns.heatmap(data = sat_part_2016_to_2021_state_as_index.corr(), cmap = 'YlGnBu', annot = True)\n",
    "\n",
    "# Creating the title to the plot\n",
    "heatmap.set_title(\"Correlation of SAT Participation across the Years\")\n",
    "plt.show()"
   ]
  },
  {
   "cell_type": "markdown",
   "metadata": {},
   "source": [
    "##### It can be observed that there is significant autocorrelation between SAT participation rates across the years. though there is an overall negative relationship between the time lag of SAT participation rates and the influence. The further away (be it in the future or in the past) a pair of participation rates are, the lower the correlation."
   ]
  },
  {
   "cell_type": "markdown",
   "metadata": {},
   "source": [
    "# Histogram"
   ]
  },
  {
   "cell_type": "code",
   "execution_count": 43,
   "metadata": {},
   "outputs": [
    {
     "data": {
      "text/html": [
       "<div>\n",
       "<style scoped>\n",
       "    .dataframe tbody tr th:only-of-type {\n",
       "        vertical-align: middle;\n",
       "    }\n",
       "\n",
       "    .dataframe tbody tr th {\n",
       "        vertical-align: top;\n",
       "    }\n",
       "\n",
       "    .dataframe thead th {\n",
       "        text-align: right;\n",
       "    }\n",
       "</style>\n",
       "<table border=\"1\" class=\"dataframe\">\n",
       "  <thead>\n",
       "    <tr style=\"text-align: right;\">\n",
       "      <th></th>\n",
       "      <th>2016_bin</th>\n",
       "      <th>2017_bin</th>\n",
       "      <th>2018_bin</th>\n",
       "      <th>2019_bin</th>\n",
       "      <th>2020_bin</th>\n",
       "      <th>2021_bin</th>\n",
       "    </tr>\n",
       "    <tr>\n",
       "      <th>state</th>\n",
       "      <th></th>\n",
       "      <th></th>\n",
       "      <th></th>\n",
       "      <th></th>\n",
       "      <th></th>\n",
       "      <th></th>\n",
       "    </tr>\n",
       "  </thead>\n",
       "  <tbody>\n",
       "    <tr>\n",
       "      <th>Massachusetts</th>\n",
       "      <td>81% - 90%</td>\n",
       "      <td>71% - 80%</td>\n",
       "      <td>71% - 80%</td>\n",
       "      <td>81% - 90%</td>\n",
       "      <td>71% - 80%</td>\n",
       "      <td>31% - 40%</td>\n",
       "    </tr>\n",
       "    <tr>\n",
       "      <th>Connecticut</th>\n",
       "      <td>81% - 90%</td>\n",
       "      <td>91% - 100%</td>\n",
       "      <td>91% - 100%</td>\n",
       "      <td>91% - 100%</td>\n",
       "      <td>91% - 100%</td>\n",
       "      <td>61% - 70%</td>\n",
       "    </tr>\n",
       "    <tr>\n",
       "      <th>Minnesota</th>\n",
       "      <td>0% - 10%</td>\n",
       "      <td>0% - 10%</td>\n",
       "      <td>0% - 10%</td>\n",
       "      <td>0% - 10%</td>\n",
       "      <td>0% - 10%</td>\n",
       "      <td>0% - 10%</td>\n",
       "    </tr>\n",
       "    <tr>\n",
       "      <th>New Jersey</th>\n",
       "      <td>71% - 80%</td>\n",
       "      <td>71% - 80%</td>\n",
       "      <td>81% - 90%</td>\n",
       "      <td>81% - 90%</td>\n",
       "      <td>81% - 90%</td>\n",
       "      <td>41% - 50%</td>\n",
       "    </tr>\n",
       "    <tr>\n",
       "      <th>Illinois</th>\n",
       "      <td>0% - 10%</td>\n",
       "      <td>0% - 10%</td>\n",
       "      <td>91% - 100%</td>\n",
       "      <td>91% - 100%</td>\n",
       "      <td>91% - 100%</td>\n",
       "      <td>71% - 80%</td>\n",
       "    </tr>\n",
       "  </tbody>\n",
       "</table>\n",
       "</div>"
      ],
      "text/plain": [
       "                2016_bin    2017_bin    2018_bin    2019_bin    2020_bin  \\\n",
       "state                                                                      \n",
       "Massachusetts  81% - 90%   71% - 80%   71% - 80%   81% - 90%   71% - 80%   \n",
       "Connecticut    81% - 90%  91% - 100%  91% - 100%  91% - 100%  91% - 100%   \n",
       "Minnesota       0% - 10%    0% - 10%    0% - 10%    0% - 10%    0% - 10%   \n",
       "New Jersey     71% - 80%   71% - 80%   81% - 90%   81% - 90%   81% - 90%   \n",
       "Illinois        0% - 10%    0% - 10%  91% - 100%  91% - 100%  91% - 100%   \n",
       "\n",
       "                2021_bin  \n",
       "state                     \n",
       "Massachusetts  31% - 40%  \n",
       "Connecticut    61% - 70%  \n",
       "Minnesota       0% - 10%  \n",
       "New Jersey     41% - 50%  \n",
       "Illinois       71% - 80%  "
      ]
     },
     "execution_count": 43,
     "metadata": {},
     "output_type": "execute_result"
    }
   ],
   "source": [
    "# Creating the binds and x-axis ticks for the histogram\n",
    "ranges = [0, 0.1, 0.2, 0.3, 0.4, 0.5, 0.6, 0.7, 0.8, 0.9, 1]\n",
    "range_names =['0% - 10%', '11% - 20%', '21% - 30%', '31% - 40%', '41% - 50%', '51% - 60%', '61% - 70%', '71% - 80%', '81% - 90%', '91% - 100%']\n",
    "\n",
    "# Classifying the participation rates into the respective bins\n",
    "sat_part_2016_to_2021_state_as_index['2016_bin'] = pd.cut(sat_part_2016_to_2021_state_as_index['participation_2016'], bins = ranges, labels = range_names)\n",
    "sat_part_2016_to_2021_state_as_index['2017_bin'] = pd.cut(sat_part_2016_to_2021_state_as_index['participation_2017'], bins = ranges, labels = range_names)\n",
    "sat_part_2016_to_2021_state_as_index['2018_bin'] = pd.cut(sat_part_2016_to_2021_state_as_index['participation_2018'], bins = ranges, labels = range_names)\n",
    "sat_part_2016_to_2021_state_as_index['2019_bin'] = pd.cut(sat_part_2016_to_2021_state_as_index['participation_2019'], bins = ranges, labels = range_names)\n",
    "sat_part_2016_to_2021_state_as_index['2020_bin'] = pd.cut(sat_part_2016_to_2021_state_as_index['participation_2020'], bins = ranges, labels = range_names)\n",
    "sat_part_2016_to_2021_state_as_index['2021_bin'] = pd.cut(sat_part_2016_to_2021_state_as_index['participation_2021'], bins = ranges, labels = range_names)\n",
    "\n",
    "hist_data = sat_part_2016_to_2021_state_as_index[['2016_bin','2017_bin','2018_bin','2019_bin','2020_bin','2021_bin']]\n",
    "hist_data.head()"
   ]
  },
  {
   "cell_type": "markdown",
   "metadata": {},
   "source": [
    "# Individual Histograms for each Year"
   ]
  },
  {
   "cell_type": "code",
   "execution_count": 44,
   "metadata": {},
   "outputs": [
    {
     "data": {
      "image/png": "[encoded data removed]",
      "text/plain": [
       "<Figure size 432x288 with 1 Axes>"
      ]
     },
     "metadata": {
      "needs_background": "light"
     },
     "output_type": "display_data"
    },
    {
     "name": "stdout",
     "output_type": "stream",
     "text": [
      "0% - 10%      19\n",
      "11% - 20%      5\n",
      "21% - 30%      0\n",
      "31% - 40%      1\n",
      "41% - 50%      1\n",
      "51% - 60%      3\n",
      "61% - 70%      7\n",
      "71% - 80%      9\n",
      "81% - 90%      2\n",
      "91% - 100%     4\n",
      "Name: 2016_bin, dtype: int64\n"
     ]
    }
   ],
   "source": [
    "# Plot for 2016 SAT Participation rates\n",
    "plt.hist(sat_part_2016_to_2021_state_as_index['participation_2016'], bins = ranges, edgecolor='black', linewidth=1.2)\n",
    "plt.title('Count of States by 2016 SAT Participation Rates')\n",
    "plt.xlabel('Percentage of SAT Participation')\n",
    "plt.xticks(ranges)\n",
    "plt.ylabel('Number of States')\n",
    "plt.yticks(range(20))\n",
    "plt.show()\n",
    "\n",
    "print(hist_data['2016_bin'].value_counts(sort = False))"
   ]
  },
  {
   "cell_type": "code",
   "execution_count": 45,
   "metadata": {},
   "outputs": [
    {
     "data": {
      "image/png": "[encoded data removed]",
      "text/plain": [
       "<Figure size 432x288 with 1 Axes>"
      ]
     },
     "metadata": {
      "needs_background": "light"
     },
     "output_type": "display_data"
    },
    {
     "name": "stdout",
     "output_type": "stream",
     "text": [
      "0% - 10%      19\n",
      "11% - 20%      4\n",
      "21% - 30%      2\n",
      "31% - 40%      1\n",
      "41% - 50%      3\n",
      "51% - 60%      3\n",
      "61% - 70%      8\n",
      "71% - 80%      3\n",
      "81% - 90%      1\n",
      "91% - 100%     7\n",
      "Name: 2017_bin, dtype: int64\n"
     ]
    }
   ],
   "source": [
    "# Plot for 2017 SAT Participation rates\n",
    "plt.hist(sat_part_2016_to_2021_state_as_index['participation_2017'], bins = ranges, edgecolor='black', linewidth=1.2)\n",
    "plt.title('Count of States by 2017 SAT Participation Rates')\n",
    "plt.xlabel('Percentage of SAT Participation')\n",
    "plt.xticks(ranges)\n",
    "plt.ylabel('Number of States')\n",
    "plt.yticks(range(20))\n",
    "plt.show()\n",
    "\n",
    "print(hist_data['2017_bin'].value_counts(sort = False))"
   ]
  },
  {
   "cell_type": "code",
   "execution_count": 46,
   "metadata": {},
   "outputs": [
    {
     "data": {
      "image/png": "[encoded data removed]",
      "text/plain": [
       "<Figure size 432x288 with 1 Axes>"
      ]
     },
     "metadata": {
      "needs_background": "light"
     },
     "output_type": "display_data"
    },
    {
     "name": "stdout",
     "output_type": "stream",
     "text": [
      "0% - 10%      18\n",
      "11% - 20%      2\n",
      "21% - 30%      3\n",
      "31% - 40%      0\n",
      "41% - 50%      2\n",
      "51% - 60%      5\n",
      "61% - 70%      5\n",
      "71% - 80%      5\n",
      "81% - 90%      1\n",
      "91% - 100%    10\n",
      "Name: 2018_bin, dtype: int64\n"
     ]
    }
   ],
   "source": [
    "# Plot for 2018 SAT Participation rates\n",
    "plt.hist(sat_part_2016_to_2021_state_as_index['participation_2018'], bins = ranges, edgecolor='black', linewidth=1.2)\n",
    "plt.title('Count of States by 2018 SAT Participation Rates')\n",
    "plt.xlabel('Percentage of SAT Participation')\n",
    "plt.xticks(ranges)\n",
    "plt.ylabel('Number of States')\n",
    "plt.yticks(range(20))\n",
    "plt.show()\n",
    "\n",
    "print(hist_data['2018_bin'].value_counts(sort = False))"
   ]
  },
  {
   "cell_type": "code",
   "execution_count": 47,
   "metadata": {},
   "outputs": [
    {
     "data": {
      "image/png": "[encoded data removed]",
      "text/plain": [
       "<Figure size 432x288 with 1 Axes>"
      ]
     },
     "metadata": {
      "needs_background": "light"
     },
     "output_type": "display_data"
    },
    {
     "name": "stdout",
     "output_type": "stream",
     "text": [
      "0% - 10%      17\n",
      "11% - 20%      3\n",
      "21% - 30%      1\n",
      "31% - 40%      1\n",
      "41% - 50%      1\n",
      "51% - 60%      3\n",
      "61% - 70%      6\n",
      "71% - 80%      4\n",
      "81% - 90%      3\n",
      "91% - 100%    12\n",
      "Name: 2019_bin, dtype: int64\n"
     ]
    }
   ],
   "source": [
    "# Plot for 2019 SAT Participation rates\n",
    "plt.hist(sat_part_2016_to_2021_state_as_index['participation_2019'], bins = ranges, edgecolor='black', linewidth=1.2)\n",
    "plt.title('Count of States by 2019 SAT Participation Rates')\n",
    "plt.xlabel('Percentage of SAT Participation')\n",
    "plt.xticks(ranges)\n",
    "plt.ylabel('Number of States')\n",
    "plt.yticks(range(20))\n",
    "plt.show()\n",
    "\n",
    "print(hist_data['2019_bin'].value_counts(sort = False))"
   ]
  },
  {
   "cell_type": "code",
   "execution_count": 48,
   "metadata": {},
   "outputs": [
    {
     "data": {
      "image/png": "[encoded data removed]",
      "text/plain": [
       "<Figure size 432x288 with 1 Axes>"
      ]
     },
     "metadata": {
      "needs_background": "light"
     },
     "output_type": "display_data"
    },
    {
     "name": "stdout",
     "output_type": "stream",
     "text": [
      "0% - 10%      12\n",
      "11% - 20%      3\n",
      "21% - 30%      2\n",
      "31% - 40%      1\n",
      "41% - 50%      1\n",
      "51% - 60%      2\n",
      "61% - 70%     15\n",
      "71% - 80%      2\n",
      "81% - 90%      2\n",
      "91% - 100%    11\n",
      "Name: 2020_bin, dtype: int64\n"
     ]
    }
   ],
   "source": [
    "# Plot for 2020 SAT Participation rates\n",
    "plt.hist(sat_part_2016_to_2021_state_as_index['participation_2020'], bins = ranges, edgecolor='black', linewidth=1.2)\n",
    "plt.title('Count of States by 2020 SAT Participation Rates')\n",
    "plt.xlabel('Percentage of SAT Participation')\n",
    "plt.xticks(ranges)\n",
    "plt.ylabel('Number of States')\n",
    "plt.yticks(range(20))\n",
    "plt.show()\n",
    "\n",
    "print(hist_data['2020_bin'].value_counts(sort = False))"
   ]
  },
  {
   "cell_type": "code",
   "execution_count": 49,
   "metadata": {},
   "outputs": [
    {
     "data": {
      "image/png": "[encoded data removed]",
      "text/plain": [
       "<Figure size 432x288 with 1 Axes>"
      ]
     },
     "metadata": {
      "needs_background": "light"
     },
     "output_type": "display_data"
    },
    {
     "name": "stdout",
     "output_type": "stream",
     "text": [
      "0% - 10%      19\n",
      "11% - 20%      3\n",
      "21% - 30%      7\n",
      "31% - 40%      2\n",
      "41% - 50%      8\n",
      "51% - 60%      3\n",
      "61% - 70%      3\n",
      "71% - 80%      2\n",
      "81% - 90%      3\n",
      "91% - 100%     1\n",
      "Name: 2021_bin, dtype: int64\n"
     ]
    }
   ],
   "source": [
    "# Plot for 2021 SAT Participation rates\n",
    "plt.hist(sat_part_2016_to_2021_state_as_index['participation_2021'], bins = ranges, edgecolor='black', linewidth=1.2)\n",
    "plt.title('Count of States by 2021 SAT Participation Rates')\n",
    "plt.xlabel('Percentage of SAT Participation')\n",
    "plt.xticks(ranges)\n",
    "plt.ylabel('Number of States')\n",
    "plt.yticks(range(20))\n",
    "plt.show()\n",
    "\n",
    "print(hist_data['2021_bin'].value_counts(sort = False))"
   ]
  },
  {
   "cell_type": "markdown",
   "metadata": {},
   "source": [
    "# Histogram for Data Aggregated across the Years"
   ]
  },
  {
   "cell_type": "code",
   "execution_count": 50,
   "metadata": {},
   "outputs": [
    {
     "data": {
      "text/html": [
       "<div>\n",
       "<style scoped>\n",
       "    .dataframe tbody tr th:only-of-type {\n",
       "        vertical-align: middle;\n",
       "    }\n",
       "\n",
       "    .dataframe tbody tr th {\n",
       "        vertical-align: top;\n",
       "    }\n",
       "\n",
       "    .dataframe thead th {\n",
       "        text-align: right;\n",
       "    }\n",
       "</style>\n",
       "<table border=\"1\" class=\"dataframe\">\n",
       "  <thead>\n",
       "    <tr style=\"text-align: right;\">\n",
       "      <th></th>\n",
       "      <th>2016_bin</th>\n",
       "      <th>2017_bin</th>\n",
       "      <th>2018_bin</th>\n",
       "      <th>2019_bin</th>\n",
       "      <th>2020_bin</th>\n",
       "      <th>2021_bin</th>\n",
       "    </tr>\n",
       "  </thead>\n",
       "  <tbody>\n",
       "    <tr>\n",
       "      <th>0% - 10%</th>\n",
       "      <td>19</td>\n",
       "      <td>19</td>\n",
       "      <td>18</td>\n",
       "      <td>17</td>\n",
       "      <td>12</td>\n",
       "      <td>19</td>\n",
       "    </tr>\n",
       "    <tr>\n",
       "      <th>11% - 20%</th>\n",
       "      <td>5</td>\n",
       "      <td>4</td>\n",
       "      <td>2</td>\n",
       "      <td>3</td>\n",
       "      <td>3</td>\n",
       "      <td>3</td>\n",
       "    </tr>\n",
       "    <tr>\n",
       "      <th>21% - 30%</th>\n",
       "      <td>0</td>\n",
       "      <td>2</td>\n",
       "      <td>3</td>\n",
       "      <td>1</td>\n",
       "      <td>2</td>\n",
       "      <td>7</td>\n",
       "    </tr>\n",
       "    <tr>\n",
       "      <th>31% - 40%</th>\n",
       "      <td>1</td>\n",
       "      <td>1</td>\n",
       "      <td>0</td>\n",
       "      <td>1</td>\n",
       "      <td>1</td>\n",
       "      <td>2</td>\n",
       "    </tr>\n",
       "    <tr>\n",
       "      <th>41% - 50%</th>\n",
       "      <td>1</td>\n",
       "      <td>3</td>\n",
       "      <td>2</td>\n",
       "      <td>1</td>\n",
       "      <td>1</td>\n",
       "      <td>8</td>\n",
       "    </tr>\n",
       "    <tr>\n",
       "      <th>51% - 60%</th>\n",
       "      <td>3</td>\n",
       "      <td>3</td>\n",
       "      <td>5</td>\n",
       "      <td>3</td>\n",
       "      <td>2</td>\n",
       "      <td>3</td>\n",
       "    </tr>\n",
       "    <tr>\n",
       "      <th>61% - 70%</th>\n",
       "      <td>7</td>\n",
       "      <td>8</td>\n",
       "      <td>5</td>\n",
       "      <td>6</td>\n",
       "      <td>15</td>\n",
       "      <td>3</td>\n",
       "    </tr>\n",
       "    <tr>\n",
       "      <th>71% - 80%</th>\n",
       "      <td>9</td>\n",
       "      <td>3</td>\n",
       "      <td>5</td>\n",
       "      <td>4</td>\n",
       "      <td>2</td>\n",
       "      <td>2</td>\n",
       "    </tr>\n",
       "    <tr>\n",
       "      <th>81% - 90%</th>\n",
       "      <td>2</td>\n",
       "      <td>1</td>\n",
       "      <td>1</td>\n",
       "      <td>3</td>\n",
       "      <td>2</td>\n",
       "      <td>3</td>\n",
       "    </tr>\n",
       "    <tr>\n",
       "      <th>91% - 100%</th>\n",
       "      <td>4</td>\n",
       "      <td>7</td>\n",
       "      <td>10</td>\n",
       "      <td>12</td>\n",
       "      <td>11</td>\n",
       "      <td>1</td>\n",
       "    </tr>\n",
       "  </tbody>\n",
       "</table>\n",
       "</div>"
      ],
      "text/plain": [
       "            2016_bin  2017_bin  2018_bin  2019_bin  2020_bin  2021_bin\n",
       "0% - 10%          19        19        18        17        12        19\n",
       "11% - 20%          5         4         2         3         3         3\n",
       "21% - 30%          0         2         3         1         2         7\n",
       "31% - 40%          1         1         0         1         1         2\n",
       "41% - 50%          1         3         2         1         1         8\n",
       "51% - 60%          3         3         5         3         2         3\n",
       "61% - 70%          7         8         5         6        15         3\n",
       "71% - 80%          9         3         5         4         2         2\n",
       "81% - 90%          2         1         1         3         2         3\n",
       "91% - 100%         4         7        10        12        11         1"
      ]
     },
     "execution_count": 50,
     "metadata": {},
     "output_type": "execute_result"
    }
   ],
   "source": [
    "aggregate_data_by_year = hist_data.apply(pd.value_counts)\n",
    "aggregate_data_by_year"
   ]
  },
  {
   "cell_type": "code",
   "execution_count": 51,
   "metadata": {
    "scrolled": true
   },
   "outputs": [
    {
     "data": {
      "text/html": [
       "<div>\n",
       "<style scoped>\n",
       "    .dataframe tbody tr th:only-of-type {\n",
       "        vertical-align: middle;\n",
       "    }\n",
       "\n",
       "    .dataframe tbody tr th {\n",
       "        vertical-align: top;\n",
       "    }\n",
       "\n",
       "    .dataframe thead th {\n",
       "        text-align: right;\n",
       "    }\n",
       "</style>\n",
       "<table border=\"1\" class=\"dataframe\">\n",
       "  <thead>\n",
       "    <tr style=\"text-align: right;\">\n",
       "      <th></th>\n",
       "      <th>count_of_states</th>\n",
       "    </tr>\n",
       "  </thead>\n",
       "  <tbody>\n",
       "    <tr>\n",
       "      <th>0% - 10%</th>\n",
       "      <td>104</td>\n",
       "    </tr>\n",
       "    <tr>\n",
       "      <th>11% - 20%</th>\n",
       "      <td>20</td>\n",
       "    </tr>\n",
       "    <tr>\n",
       "      <th>21% - 30%</th>\n",
       "      <td>15</td>\n",
       "    </tr>\n",
       "    <tr>\n",
       "      <th>31% - 40%</th>\n",
       "      <td>6</td>\n",
       "    </tr>\n",
       "    <tr>\n",
       "      <th>41% - 50%</th>\n",
       "      <td>16</td>\n",
       "    </tr>\n",
       "    <tr>\n",
       "      <th>51% - 60%</th>\n",
       "      <td>19</td>\n",
       "    </tr>\n",
       "    <tr>\n",
       "      <th>61% - 70%</th>\n",
       "      <td>44</td>\n",
       "    </tr>\n",
       "    <tr>\n",
       "      <th>71% - 80%</th>\n",
       "      <td>25</td>\n",
       "    </tr>\n",
       "    <tr>\n",
       "      <th>81% - 90%</th>\n",
       "      <td>12</td>\n",
       "    </tr>\n",
       "    <tr>\n",
       "      <th>91% - 100%</th>\n",
       "      <td>45</td>\n",
       "    </tr>\n",
       "  </tbody>\n",
       "</table>\n",
       "</div>"
      ],
      "text/plain": [
       "            count_of_states\n",
       "0% - 10%                104\n",
       "11% - 20%                20\n",
       "21% - 30%                15\n",
       "31% - 40%                 6\n",
       "41% - 50%                16\n",
       "51% - 60%                19\n",
       "61% - 70%                44\n",
       "71% - 80%                25\n",
       "81% - 90%                12\n",
       "91% - 100%               45"
      ]
     },
     "execution_count": 51,
     "metadata": {},
     "output_type": "execute_result"
    }
   ],
   "source": [
    "aggregate_data = aggregate_data_by_year.sum(axis = 1)\n",
    "df_aggregate_data = pd.DataFrame(aggregate_data)\n",
    "df_aggregate_data.columns = ['count_of_states']\n",
    "df_aggregate_data"
   ]
  },
  {
   "cell_type": "code",
   "execution_count": 52,
   "metadata": {},
   "outputs": [
    {
     "data": {
      "image/png": "[encoded data removed]",
      "text/plain": [
       "<Figure size 432x288 with 1 Axes>"
      ]
     },
     "metadata": {
      "needs_background": "light"
     },
     "output_type": "display_data"
    }
   ],
   "source": [
    "# Plot for the Participation rates across the years by state\n",
    "plt.bar(x = df_aggregate_data.index, height = df_aggregate_data['count_of_states'])\n",
    "plt.title('Percentage of SAT Participation from 2016 to 2021')\n",
    "plt.ylabel('Number of States')\n",
    "plt.xlabel('Percentage of SAT Participation')\n",
    "plt.xticks(fontsize=8, rotation = 45)\n",
    "plt.show()"
   ]
  },
  {
   "cell_type": "markdown",
   "metadata": {},
   "source": [
    "#### Over the years, participation rates across states are observed mostly on the lower and higher ends of the scale. This is in contrast to what we generally assume of large samples (n >=30). A similar conclusion will be reached with the aggregation of participation rates across the years, in fact, the aggregation will highlight that the normal assumption is not appropriate, given that the bulk of observations are not located near the middle (41% - 50% and 51% - 60%) and other observations are not symmetrical along the mean."
   ]
  },
  {
   "cell_type": "markdown",
   "metadata": {},
   "source": [
    "# Boxplot"
   ]
  },
  {
   "cell_type": "code",
   "execution_count": 53,
   "metadata": {},
   "outputs": [
    {
     "data": {
      "image/png": "[encoded data removed]",
      "text/plain": [
       "<Figure size 432x288 with 1 Axes>"
      ]
     },
     "metadata": {
      "needs_background": "light"
     },
     "output_type": "display_data"
    }
   ],
   "source": [
    "# Plotting the box-and-whisker plots for each of the year\n",
    "sat_part_2016_to_2021_state_as_index.boxplot()\n",
    "plt.xticks(fontsize=12, rotation = 45)\n",
    "plt.title('SAT Participation Rates across the Years')\n",
    "plt.ylabel('Participation Rate')\n",
    "plt.show()"
   ]
  },
  {
   "cell_type": "markdown",
   "metadata": {},
   "source": [
    "##### It can be observed that the median of the SAT participation rates have been generally increasing, with the median participation rate being closer to the 75th percentile, especially in 2020, which means that there are more states with high levels of participation rates."
   ]
  },
  {
   "cell_type": "code",
   "execution_count": 54,
   "metadata": {},
   "outputs": [
    {
     "data": {
      "image/png": "[encoded data removed]",
      "text/plain": [
       "<Figure size 432x288 with 1 Axes>"
      ]
     },
     "metadata": {
      "needs_background": "light"
     },
     "output_type": "display_data"
    }
   ],
   "source": [
    "# Plotting the box-and-whisker plots for each of the year of states with low participation rates\n",
    "low_part_2020.boxplot()\n",
    "plt.xticks(fontsize=12, rotation = 45)\n",
    "plt.title('Low Participation Rates across the Years')\n",
    "plt.ylabel('Participation Rate')\n",
    "plt.show()"
   ]
  },
  {
   "cell_type": "markdown",
   "metadata": {},
   "source": [
    "##### We can observe that for states with low participation rates (based on 2020 data), the median of participation rate is steadily decreasing, with the outlier states having significantly higher participation rates being much closer to the low participation states."
   ]
  },
  {
   "cell_type": "code",
   "execution_count": 55,
   "metadata": {},
   "outputs": [
    {
     "data": {
      "image/png": "[encoded data removed]",
      "text/plain": [
       "<Figure size 432x288 with 1 Axes>"
      ]
     },
     "metadata": {
      "needs_background": "light"
     },
     "output_type": "display_data"
    }
   ],
   "source": [
    "# Plotting the box-and-whisker plots for each of the year of states with high participation rates\n",
    "high_part_2020.boxplot()\n",
    "plt.xticks(fontsize=12, rotation = 45)\n",
    "plt.title('High Participation Rates across the Years')\n",
    "plt.ylabel('Participation Rate')\n",
    "plt.show()"
   ]
  },
  {
   "cell_type": "markdown",
   "metadata": {},
   "source": [
    "##### We can observe that for states with high participation rates (based on 2020 data), the median of participation rate is steadily decreasing, with the outlier states having significantly higher participation rates being much closer to the low participation states."
   ]
  },
  {
   "cell_type": "markdown",
   "metadata": {},
   "source": [
    "# Scatter Plot"
   ]
  },
  {
   "cell_type": "code",
   "execution_count": 56,
   "metadata": {
    "scrolled": true
   },
   "outputs": [
    {
     "name": "stderr",
     "output_type": "stream",
     "text": [
      "No handles with labels found to put in legend.\n"
     ]
    },
    {
     "data": {
      "image/png": "[encoded data removed]",
      "text/plain": [
       "<Figure size 432x288 with 1 Axes>"
      ]
     },
     "metadata": {
      "needs_background": "light"
     },
     "output_type": "display_data"
    }
   ],
   "source": [
    "# No need to set hue arguments as there are too many states (and colours) on the plot which only makes it confusing.\n",
    "\n",
    "# Plotting 2016 SAT participation rates against 2019 data\n",
    "sns.scatterplot(data = sat_part_2016_to_2021_state_as_index['participation_2020'], x = sat_part_2016_to_2021_state_as_index['participation_2016'], y = sat_part_2016_to_2021_state_as_index['participation_2020'])\n",
    "plt.legend(bbox_to_anchor=(1.02, 1), loc='upper left', borderaxespad=0)\n",
    "plt.title('2016 SAT Participation Rate vs 2020 SAT Participation Rate')\n",
    "sns.set(rc={\"figure.figsize\":(4, 4)})\n",
    "plt.ylim(0, 1)\n",
    "plt.xlim(0, 1)\n",
    "plt.show()"
   ]
  },
  {
   "cell_type": "markdown",
   "metadata": {},
   "source": [
    "#### It can be observed that there is a relatively strong positive relationship between SAT participation rates in 2016 and 2020. This might suggest that the existing marketing and promotions College Board that engages in have a relatively long-lasting locking-in effect. In addition, based on the points at the top left portion of the grid, it can be said that College Board's method of acquiring schools and states of adopt the SAT examinations is successful given that those states have a very low participation in 2016 but have achieved an upwards of 60% participation in 2020.\n",
    "\n",
    "\n",
    "#### The points on the top left corner can be explained by the fact that the regulators of some states have decided to take on SAT in place of another examination. For instance, Smarter Balanced Assessment exam in Delaware was replaced with the SAT in 2016. Another case in point would be Illinois, where in 2017, all juniors are required to take the SAT.\n",
    "\n",
    "\n",
    "#### On the other hand, it can be observed that in states where there are low SAT participation rates in 2016, College Board has not made much headway in promoting a higher participation rate."
   ]
  },
  {
   "cell_type": "code",
   "execution_count": 57,
   "metadata": {},
   "outputs": [
    {
     "name": "stderr",
     "output_type": "stream",
     "text": [
      "No handles with labels found to put in legend.\n"
     ]
    },
    {
     "data": {
      "image/png": "[encoded data removed]",
      "text/plain": [
       "<Figure size 288x288 with 1 Axes>"
      ]
     },
     "metadata": {},
     "output_type": "display_data"
    }
   ],
   "source": [
    "# No need to set hue arguments as there are too many states (and colours) on the plot which only makes it confusing.\n",
    "\n",
    "# Plot between SAT and ACT participation rates in 2019\n",
    "sns.scatterplot(data = part_2019['participation_sat'], x = part_2019['participation_act'], y = part_2019['participation_sat'])\n",
    "plt.legend(bbox_to_anchor=(1.02, 1), loc='upper left', borderaxespad=0)\n",
    "sns.set(rc={\"figure.figsize\":(4, 4)})\n",
    "plt.title('2019 SAT Participation vs 2019 ACT Participation Rates')\n",
    "plt.ylim(0, 1)\n",
    "plt.xlim(0, 1)\n",
    "plt.show()"
   ]
  },
  {
   "cell_type": "markdown",
   "metadata": {},
   "source": [
    "#### It can be seen that a significant reason when there is a low participation rate for one exam, there is a high participation rate for the other. This is observed from how when a point is high on the the participation_sat (horizontal axis), the same point is located very left along the participation_act.\n",
    "\n",
    "\n",
    "#### This trend can is continuted to be observed not just in the extreme points but in the intermediate ones as well, evident from how the points in the middle of the grid form a downward sloping line.\n",
    "\n",
    "\n",
    "#### This would indicate that the College Board should not be focusing their resources on the students in states who neither takes the SAT not ACT (which are not many), but rather focus on being a better fit for the admissions criteria of universities in states where ACT have a strong presence and agreements with schools and legislators in those states.\n",
    "\n",
    "\n",
    "#### Though it can be odd to see states that has participation of 1 (i.e. 100%) for SAT and yet have non-zero ACT participation rates, it is not a worrying sign for College Board as it means that students in those states not only partake in SAT, but the ACT as well, and in those scenarios, they are not of the highest concern as they are already SAT takers. On that note, points around the bottom right of the grid (high participation of ACT but less of SAT) is a potential market for College Board to look at."
   ]
  },
  {
   "cell_type": "markdown",
   "metadata": {},
   "source": [
    "## Conclusions and Recommendations"
   ]
  },
  {
   "cell_type": "markdown",
   "metadata": {},
   "source": [
    "Based on your exploration of the data, what are you key takeaways and recommendations? Make sure to answer your question of interest or address your problem statement here."
   ]
  },
  {
   "cell_type": "markdown",
   "metadata": {},
   "source": [
    "Based on the analysis and visualizations, the recommendation to College Board would be to continue with the same method of maintaining their influence over states with high SAT participation rates, such as having agreements with state legislators to have schools in that state make it compulsory for students to do the SAT, and through that connection, offer other offerings such as PSAT and AP exams, which bring in [more stream of significant income](https://www.forbes.com/sites/susanadams/2020/09/30/the-forbes-investigation-how-the-sat-failed-america/?sh=28075db353b5) . Some states that fall under this category are New Hampshire and Illinois. On top of that, College Board can tap on their online capabilities to hold University Day (especially since [SAT are now online](https://www.cnbc.com/2022/01/25/the-sat-will-go-fully-onlineand-take-just-two-hours.html)) to have students attend a virtual university open house of sorts without any inconveniences of existing of possible COVID-19 disruptions to in-person large scale events.\n",
    "\n",
    "For states where the state has have agreements with ACT Inc., College Board can still capitalize in those states by marketing to students and parents by showing them that SAT are a viable alternative to ACT and since all universities accept either of them, can convince them taking the SAT can act as a backup should their ACT results do not match their expectations. And there seems to be evidence of a sizeable part of the student population who are willing to do both examinations, displayed in the second scatter plot and explained by its analysis. College Board can also aggressively promote the SAT to the regulators for SAT to be the primary standardized exam as with the case of Michigan. Some states that fall under this category would be Missouri, Nebraska, and Kentucky.\n",
    "\n",
    "As for states that do not make the SAT or ACT compulsory, College Board can market to students and parents as stated above, but also work closely with universities so that the skills and knowledge tested in SAT can better match the pre-requisite knowledge required for the entry level modules. Moreover, College Board can directly work with universities to have them only consider applications that are include their SAT scores.\n",
    "\n",
    "For future studies, having a clearer idea of marketing and implementation costs when it comes to lobbying for making the SAT compulsory or setting up the systems with regulators and school administrators to ensure a seamless exam administration and reporting workflow would allow for more detailed analysis. That would entail a cost-benefit analysis that can uncover opportunities that might look profitable but are loss making when accounting for the said high set-up costs or the lack of economies of scale."
   ]
  },
  {
   "cell_type": "markdown",
   "metadata": {},
   "source": [
    "Don't forget to create your README!\n",
    "\n",
    "**To-Do:** *If you combine your problem statement, data dictionary, brief summary of your analysis, and conclusions/recommendations, you have an amazing README.md file that quickly aligns your audience to the contents of your project.* Don't forget to cite your data sources!"
   ]
  }
 ],
 "metadata": {
  "anaconda-cloud": {},
  "kernelspec": {
   "display_name": "Python 3 (ipykernel)",
   "language": "python",
   "name": "python3"
  },
  "language_info": {
   "codemirror_mode": {
    "name": "ipython",
    "version": 3
   },
   "file_extension": ".py",
   "mimetype": "text/x-python",
   "name": "python",
   "nbconvert_exporter": "python",
   "pygments_lexer": "ipython3",
   "version": "3.8.13"
  }
 },
 "nbformat": 4,
 "nbformat_minor": 4
}
